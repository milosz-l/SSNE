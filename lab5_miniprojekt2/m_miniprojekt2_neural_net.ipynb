{
  "cells": [
    {
      "cell_type": "markdown",
      "id": "7ace6695",
      "metadata": {},
      "source": [
        "# Imports"
      ]
    },
    {
      "cell_type": "code",
      "execution_count": 1,
      "id": "ffd98f3b-a7a0-4072-9577-4fdfad76e823",
      "metadata": {
        "id": "ffd98f3b-a7a0-4072-9577-4fdfad76e823"
      },
      "outputs": [],
      "source": [
        "import pandas as pd\n",
        "import matplotlib.pyplot as plt\n",
        "import torch, torchvision\n",
        "import torch.optim as optim\n",
        "import torch.nn as nn\n",
        "import torch.utils.data as data\n",
        "import numpy as np"
      ]
    },
    {
      "cell_type": "markdown",
      "id": "9caa94b7",
      "metadata": {},
      "source": [
        "# Constants"
      ]
    },
    {
      "cell_type": "code",
      "execution_count": 2,
      "id": "a6d478aa",
      "metadata": {},
      "outputs": [],
      "source": [
        "GOOGLE_COLAB_VERSION = False\n",
        "VALIDATION_PERCENTAGE = 0.20"
      ]
    },
    {
      "cell_type": "markdown",
      "id": "af561d43",
      "metadata": {},
      "source": [
        "# Setting up device"
      ]
    },
    {
      "cell_type": "code",
      "execution_count": 3,
      "id": "810dec30",
      "metadata": {},
      "outputs": [
        {
          "data": {
            "text/plain": [
              "device(type='cpu')"
            ]
          },
          "execution_count": 3,
          "metadata": {},
          "output_type": "execute_result"
        }
      ],
      "source": [
        "# device = torch.device(\"mps\")\n",
        "device = torch.device(\"cpu\")\n",
        "device"
      ]
    },
    {
      "cell_type": "code",
      "execution_count": 4,
      "id": "fm9r7TCpXjtF",
      "metadata": {
        "colab": {
          "base_uri": "https://localhost:8080/"
        },
        "id": "fm9r7TCpXjtF",
        "outputId": "59018a64-0e72-492b-9989-a7b6c4750da2"
      },
      "outputs": [],
      "source": [
        "if GOOGLE_COLAB_VERSION:\n",
        "    from google.colab import drive\n",
        "    drive.mount('/content/drive')\n",
        "    print(torch.cuda.is_available())\n",
        "    import os\n",
        "    os.chdir(\"/content/drive/My Drive/SSNE_repo/SSNE/miniprojekt2\")\n",
        "    device = torch.device(\"cuda\") \n",
        "    print(device)"
      ]
    },
    {
      "cell_type": "markdown",
      "id": "76762a9d",
      "metadata": {},
      "source": [
        "# Seeds"
      ]
    },
    {
      "cell_type": "code",
      "execution_count": 5,
      "id": "462a6c57",
      "metadata": {},
      "outputs": [],
      "source": [
        "# torch.manual_seed(42)\n",
        "\n",
        "\n",
        "import os\n",
        "import random\n",
        "\n",
        "def set_all_seeds(seed):\n",
        "    os.environ[\"PL_GLOBAL_SEED\"] = str(seed)\n",
        "    random.seed(seed)\n",
        "    np.random.seed(seed)\n",
        "    torch.manual_seed(seed)\n",
        "    torch.cuda.manual_seed_all(seed)\n",
        "\n",
        "set_all_seeds(42)"
      ]
    },
    {
      "cell_type": "markdown",
      "id": "8737d0c9",
      "metadata": {},
      "source": [
        "# Get Data"
      ]
    },
    {
      "cell_type": "code",
      "execution_count": 6,
      "id": "105a0caf-58f1-456c-bd73-deeaede46b7f",
      "metadata": {
        "id": "105a0caf-58f1-456c-bd73-deeaede46b7f"
      },
      "outputs": [],
      "source": [
        "df = pd.read_csv('train_data.csv')"
      ]
    },
    {
      "cell_type": "markdown",
      "id": "0013942f",
      "metadata": {},
      "source": [
        "# Modify data"
      ]
    },
    {
      "cell_type": "code",
      "execution_count": 7,
      "id": "c1ff4ce8",
      "metadata": {},
      "outputs": [],
      "source": [
        "df['TimeToBusStop'] = df['TimeToBusStop'].map({'0~5min': 1, '5min~10min': 2, '10min~15min': 3})\n",
        "df['TimeToSubway'] = df['TimeToSubway'].map({'0-5min': 1, '5min~10min': 2, '10min~15min': 3, '15min~20min': 4, 'no_bus_stop_nearby': 5})"
      ]
    },
    {
      "cell_type": "code",
      "execution_count": 8,
      "id": "a904f74e-14f9-4e67-9d89-126ebfe67bad",
      "metadata": {
        "id": "a904f74e-14f9-4e67-9d89-126ebfe67bad"
      },
      "outputs": [],
      "source": [
        "def numerical_into_categorical(x):\n",
        "    return pd.cut(x=x, bins=[x.min() - 1, 100000, 350000, x.max() + 1], labels=[0,1,2])\n",
        "\n",
        "\n",
        "df['class'] = numerical_into_categorical(df['SalePrice'])"
      ]
    },
    {
      "cell_type": "code",
      "execution_count": 9,
      "id": "c5469394",
      "metadata": {},
      "outputs": [],
      "source": [
        "df = df.drop(columns='SalePrice')"
      ]
    },
    {
      "cell_type": "markdown",
      "id": "ab1a4622",
      "metadata": {},
      "source": [
        "## Split into train and validation"
      ]
    },
    {
      "cell_type": "code",
      "execution_count": 10,
      "id": "05fdea04",
      "metadata": {},
      "outputs": [],
      "source": [
        "TRAIN_VALID_THRESHOLD = round((1-VALIDATION_PERCENTAGE) * df.shape[0])"
      ]
    },
    {
      "cell_type": "code",
      "execution_count": 11,
      "id": "fc8a338f",
      "metadata": {},
      "outputs": [],
      "source": [
        "valid_df = df.sample(frac = VALIDATION_PERCENTAGE)\n",
        "train_df = df.drop(valid_df.index)"
      ]
    },
    {
      "cell_type": "code",
      "execution_count": 12,
      "id": "cb0fdbb8",
      "metadata": {},
      "outputs": [
        {
          "data": {
            "text/plain": [
              "3299"
            ]
          },
          "execution_count": 12,
          "metadata": {},
          "output_type": "execute_result"
        }
      ],
      "source": [
        "TRAIN_VALID_THRESHOLD"
      ]
    },
    {
      "cell_type": "code",
      "execution_count": 13,
      "id": "b1e841c3",
      "metadata": {},
      "outputs": [
        {
          "name": "stdout",
          "output_type": "stream",
          "text": [
            "<class 'pandas.core.frame.DataFrame'>\n",
            "Int64Index: 3299 entries, 0 to 4121\n",
            "Data columns (total 17 columns):\n",
            " #   Column                     Non-Null Count  Dtype   \n",
            "---  ------                     --------------  -----   \n",
            " 0   YearBuilt                  3299 non-null   int64   \n",
            " 1   Size(sqf)                  3299 non-null   int64   \n",
            " 2   Floor                      3299 non-null   int64   \n",
            " 3   HallwayType                3299 non-null   object  \n",
            " 4   HeatingType                3299 non-null   object  \n",
            " 5   AptManageType              3299 non-null   object  \n",
            " 6   N_Parkinglot(Ground)       3299 non-null   float64 \n",
            " 7   N_Parkinglot(Basement)     3299 non-null   float64 \n",
            " 8   TimeToBusStop              3299 non-null   int64   \n",
            " 9   TimeToSubway               3299 non-null   int64   \n",
            " 10  N_manager                  3299 non-null   float64 \n",
            " 11  N_elevators                3299 non-null   float64 \n",
            " 12  SubwayStation              3299 non-null   object  \n",
            " 13  N_FacilitiesInApt          3299 non-null   int64   \n",
            " 14  N_FacilitiesNearBy(Total)  3299 non-null   float64 \n",
            " 15  N_SchoolNearBy(Total)      3299 non-null   float64 \n",
            " 16  class                      3299 non-null   category\n",
            "dtypes: category(1), float64(6), int64(6), object(4)\n",
            "memory usage: 441.5+ KB\n"
          ]
        }
      ],
      "source": [
        "# check dtypes\n",
        "train_df.info()"
      ]
    },
    {
      "cell_type": "code",
      "execution_count": 14,
      "id": "5f4f5650",
      "metadata": {},
      "outputs": [],
      "source": [
        "# split into X and y\n",
        "target = 'class'\n",
        "\n",
        "## split training data\n",
        "y_train_df = train_df[target]\n",
        "X_train_df = train_df.drop(columns=target)\n",
        "\n",
        "## split validation data\n",
        "y_valid_df = valid_df[target]\n",
        "X_valid_df = valid_df.drop(columns=target)"
      ]
    },
    {
      "cell_type": "code",
      "execution_count": 15,
      "id": "736c8b57",
      "metadata": {},
      "outputs": [
        {
          "data": {
            "text/plain": [
              "['YearBuilt',\n",
              " 'Size(sqf)',\n",
              " 'Floor',\n",
              " 'N_Parkinglot(Ground)',\n",
              " 'N_Parkinglot(Basement)',\n",
              " 'TimeToBusStop',\n",
              " 'TimeToSubway',\n",
              " 'N_manager',\n",
              " 'N_elevators',\n",
              " 'N_FacilitiesInApt',\n",
              " 'N_FacilitiesNearBy(Total)',\n",
              " 'N_SchoolNearBy(Total)']"
            ]
          },
          "execution_count": 15,
          "metadata": {},
          "output_type": "execute_result"
        }
      ],
      "source": [
        "numerical_features = X_train_df.select_dtypes(exclude='object').columns.tolist()\n",
        "numerical_features"
      ]
    },
    {
      "cell_type": "code",
      "execution_count": 16,
      "id": "14f54c28",
      "metadata": {},
      "outputs": [
        {
          "data": {
            "text/plain": [
              "['HallwayType', 'HeatingType', 'AptManageType', 'SubwayStation']"
            ]
          },
          "execution_count": 16,
          "metadata": {},
          "output_type": "execute_result"
        }
      ],
      "source": [
        "categorical_features = X_train_df.select_dtypes(include='object').columns.tolist()\n",
        "categorical_features"
      ]
    },
    {
      "cell_type": "code",
      "execution_count": 17,
      "id": "ab393789-fa84-463f-9e13-4dd6f895fd6c",
      "metadata": {
        "id": "ab393789-fa84-463f-9e13-4dd6f895fd6c"
      },
      "outputs": [],
      "source": [
        "# features = ['YearBuilt', 'Size(sqf)', 'Floor', 'N_Parkinglot(Ground)',\n",
        "#        'N_Parkinglot(Basement)',  'N_manager',\n",
        "#        'N_elevators', 'N_FacilitiesInApt',\n",
        "#        'N_FacilitiesNearBy(Total)', 'N_SchoolNearBy(Total)']\n",
        "# cat_features = ['HallwayType', 'HeatingType', 'AptManageType', \n",
        "#                 'TimeToBusStop', 'TimeToSubway', 'SubwayStation']\n",
        "# to_predict = ['class']"
      ]
    },
    {
      "cell_type": "code",
      "execution_count": 18,
      "id": "22374db1",
      "metadata": {},
      "outputs": [],
      "source": [
        "from sklearn.pipeline import Pipeline\n",
        "from sklearn.preprocessing import StandardScaler, OneHotEncoder\n",
        "from sklearn.compose import ColumnTransformer\n",
        "\n",
        "\n",
        "numeric_pipeline = Pipeline(steps=[\n",
        "    ('scale', StandardScaler())\n",
        "])\n",
        "\n",
        "categorical_pipeline = Pipeline(steps=[\n",
        "    ('one-hot', OneHotEncoder(handle_unknown='ignore', sparse=False))\n",
        "])\n",
        "\n",
        "# full_processor = ColumnTransformer(transformers=[\n",
        "#     ('numerical', numeric_pipeline, numerical_features),\n",
        "#     ('categorical', categorical_pipeline, categorical_features)\n",
        "# ])"
      ]
    },
    {
      "cell_type": "code",
      "execution_count": 19,
      "id": "d0fbe39c",
      "metadata": {},
      "outputs": [],
      "source": [
        "# X_train = full_processor.fit_transform(X_train_df)\n",
        "# X_valid = full_processor.transform(X_valid_df)"
      ]
    },
    {
      "cell_type": "code",
      "execution_count": 20,
      "id": "ce7d0084",
      "metadata": {},
      "outputs": [],
      "source": [
        "X_train_categorical = categorical_pipeline.fit_transform(X_train_df[categorical_features])\n",
        "X_valid_categorical = categorical_pipeline.transform(X_valid_df[categorical_features])"
      ]
    },
    {
      "cell_type": "code",
      "execution_count": 21,
      "id": "37eff32c-c50c-424c-baa7-122d59e03b61",
      "metadata": {
        "id": "37eff32c-c50c-424c-baa7-122d59e03b61"
      },
      "outputs": [],
      "source": [
        "# categorical_values = pd.get_dummies(train_data[cat_features])"
      ]
    },
    {
      "cell_type": "code",
      "execution_count": 22,
      "id": "da2a9464-d03e-4e8c-945a-728adf030a6c",
      "metadata": {
        "id": "da2a9464-d03e-4e8c-945a-728adf030a6c"
      },
      "outputs": [],
      "source": [
        "# train_indices = np.random.rand(len(train_data)) < 0.95"
      ]
    },
    {
      "cell_type": "code",
      "execution_count": 23,
      "id": "edcbe106-fcff-4575-952b-4061ae262648",
      "metadata": {
        "id": "edcbe106-fcff-4575-952b-4061ae262648"
      },
      "outputs": [],
      "source": [
        "numerical_data = torch.from_numpy(X_train_df[numerical_features].values).float()\n",
        "categorical_data = torch.from_numpy(X_train_categorical).float()\n",
        "targets = torch.from_numpy(y_train_df.values.astype(np.dtype('int64')))\n",
        "\n",
        "val_numerical_data = torch.from_numpy(X_valid_df[numerical_features].values).float()\n",
        "val_categorical_data = torch.from_numpy(X_valid_categorical).float()\n",
        "val_targets = torch.from_numpy(y_valid_df.values.astype(np.dtype('int64')))"
      ]
    },
    {
      "cell_type": "code",
      "execution_count": 24,
      "id": "f0fcd542-4829-47e0-a642-6574ad3bc785",
      "metadata": {
        "id": "f0fcd542-4829-47e0-a642-6574ad3bc785"
      },
      "outputs": [],
      "source": [
        "train_dataset = data.TensorDataset(numerical_data,categorical_data,targets)\n",
        "val_dataset = data.TensorDataset(val_numerical_data, val_categorical_data, val_targets)"
      ]
    },
    {
      "cell_type": "code",
      "execution_count": 25,
      "id": "42826e5c",
      "metadata": {},
      "outputs": [
        {
          "data": {
            "text/plain": [
              "Index(['YearBuilt', 'Size(sqf)', 'Floor', 'HallwayType', 'HeatingType',\n",
              "       'AptManageType', 'N_Parkinglot(Ground)', 'N_Parkinglot(Basement)',\n",
              "       'TimeToBusStop', 'TimeToSubway', 'N_manager', 'N_elevators',\n",
              "       'SubwayStation', 'N_FacilitiesInApt', 'N_FacilitiesNearBy(Total)',\n",
              "       'N_SchoolNearBy(Total)', 'class'],\n",
              "      dtype='object')"
            ]
          },
          "execution_count": 25,
          "metadata": {},
          "output_type": "execute_result"
        }
      ],
      "source": [
        "df.columns"
      ]
    },
    {
      "cell_type": "code",
      "execution_count": 26,
      "id": "db07353c",
      "metadata": {},
      "outputs": [],
      "source": [
        "DROPOUT = 0.5"
      ]
    },
    {
      "cell_type": "code",
      "execution_count": 27,
      "id": "b915b216-cc7b-4688-b35e-75be4463a6ac",
      "metadata": {
        "id": "b915b216-cc7b-4688-b35e-75be4463a6ac"
      },
      "outputs": [],
      "source": [
        "class Classifier(nn.Module):\n",
        "    def __init__(self, size_1=50, size_2=80, size_3=40, size_4=12):\n",
        "        super(Classifier, self).__init__()\n",
        "        self.emb_layer = nn.Linear(categorical_data.shape[1], categorical_data.shape[1])\n",
        "        self.act_emb = nn.Tanh()\n",
        "\n",
        "        self.layer1 = nn.Linear(numerical_data.shape[1] + categorical_data.shape[1], size_1)\n",
        "        self.bn1 = nn.BatchNorm1d(size_1)\n",
        "        self.act_1 =  nn.ReLU()\n",
        "        self.d1 = nn.Dropout(DROPOUT)\n",
        "\n",
        "        self.layer2 = nn.Linear(size_1, size_2)\n",
        "        self.bn2 = nn.BatchNorm1d(size_2)\n",
        "        self.act_2 = nn.ReLU()\n",
        "        self.d2 = nn.Dropout(DROPOUT)\n",
        "\n",
        "        # self.layer3 = nn.Linear(size_2, size_3)\n",
        "        # self.bn3 = nn.BatchNorm1d(size_3)\n",
        "        # self.act_3 = nn.ReLU()\n",
        "        # self.d3 = nn.Dropout(DROPOUT)\n",
        "\n",
        "        # self.layer4 = nn.Linear(size_3, size_4)\n",
        "        # self.bn4 = nn.BatchNorm1d(size_4)\n",
        "        # self.act_4 = nn.ReLU()\n",
        "        # self.d4 = nn.Dropout(DROPOUT)\n",
        "\n",
        "        self.layer5 = nn.Linear(size_2, 3)\n",
        "        self.act_5 = nn.ReLU()\n",
        "        # self.softmax = nn.Softmax(dim=1)\n",
        "        \n",
        "    def forward(self, x, cat_x):\n",
        "        cat_x_embedded = self.emb_layer(cat_x)\n",
        "        cat_x_embedded = self.act_emb(cat_x_embedded)\n",
        "        x = torch.cat([x,cat_x_embedded],dim=1)\n",
        "        # print(x)\n",
        "        x = self.d1(self.act_1(self.bn1(self.layer1(x))))\n",
        "        x = self.d2(self.act_2(self.bn2(self.layer2(x))))\n",
        "        # x = self.d3(self.act_3(self.bn3(self.layer3(x))))\n",
        "        # x = self.d4(self.act_4(self.bn4(self.layer4(x))))\n",
        "        x = self.layer5(x)\n",
        "        # x = self.softmax(x)\n",
        "        return x"
      ]
    },
    {
      "cell_type": "code",
      "execution_count": 28,
      "id": "d6b7a776-a1f1-43a6-8b90-22e3c67b961c",
      "metadata": {
        "id": "d6b7a776-a1f1-43a6-8b90-22e3c67b961c"
      },
      "outputs": [],
      "source": [
        "model = Classifier(size_1=2048, size_2=1024, size_3=512)"
      ]
    },
    {
      "cell_type": "code",
      "execution_count": 29,
      "id": "1f68080e-9a7c-4174-b789-6ce1b4cb814b",
      "metadata": {
        "id": "1f68080e-9a7c-4174-b789-6ce1b4cb814b"
      },
      "outputs": [],
      "source": [
        "def get_accuracy(model, data):\n",
        "    correct = 0\n",
        "    total = 0\n",
        "    model.eval() #*********#\n",
        "    for x, cat_x, labels in torch.utils.data.DataLoader(data, batch_size=10000):\n",
        "        # moving to device\n",
        "        x, cat_x, labels = x.to(device), cat_x.to(device), labels.to(device)\n",
        "        output = model(x, cat_x)\n",
        "        pred = output.max(1, keepdim=True)[1] # get the index of the max logit\n",
        "        correct += pred.eq(labels.view_as(pred)).sum().item()\n",
        "        total += x.shape[0]\n",
        "    return correct / total"
      ]
    },
    {
      "cell_type": "code",
      "execution_count": 30,
      "id": "5a9cb789-4585-436d-bce7-ad27fe37c829",
      "metadata": {
        "id": "5a9cb789-4585-436d-bce7-ad27fe37c829"
      },
      "outputs": [],
      "source": [
        "def plot_results(epochs, losses, train_acc, val_acc):\n",
        "    # plotting\n",
        "    plt.figure(figsize=(10,4))\n",
        "    plt.subplot(1,2,1)\n",
        "    plt.title(\"Training Curve\")\n",
        "    plt.plot(epochs, losses, label=\"Train\")\n",
        "    plt.xlabel(\"Iterations\")\n",
        "    plt.ylabel(\"Loss\")\n",
        "\n",
        "    plt.subplot(1,2,2)\n",
        "    plt.title(\"Training Curve\")\n",
        "    plt.plot(epochs, train_acc, label=\"Train\")\n",
        "    plt.plot(epochs, val_acc, label=\"Validation\")\n",
        "    plt.xlabel(\"Iterations\")\n",
        "    plt.ylabel(\"Training Accuracy\")\n",
        "    plt.legend(loc='best')\n",
        "    plt.show()\n",
        "\n",
        "    print(\"Final Training Accuracy: {}\".format(train_acc[-1]))\n",
        "    print(\"Final Validation Accuracy: {}\".format(val_acc[-1]))"
      ]
    },
    {
      "cell_type": "code",
      "execution_count": 31,
      "id": "8f7740c4-4898-4cac-99c4-ca391e190798",
      "metadata": {
        "id": "8f7740c4-4898-4cac-99c4-ca391e190798"
      },
      "outputs": [],
      "source": [
        "def train(model, train, valid, batch_size=64, num_epochs=1, learn_rate=0.01, weight_decay=0):\n",
        "    train_loader = torch.utils.data.DataLoader(train,\n",
        "                                               batch_size=batch_size,\n",
        "                                               shuffle=True) # shuffle after every epoch\n",
        "    classes_weights = torch.tensor(np.array([1.75, 1, 3.5]).astype('float32')).to(device)\n",
        "    criterion = nn.CrossEntropyLoss(weight=classes_weights)\n",
        "    optimizer = optim.Adam(model.parameters(),lr=learn_rate, weight_decay=weight_decay )\n",
        "#     optimizer = optim.SGD(model.parameters(), lr=learn_rate,momentum=0.9, weight_decay=weight_decay)\n",
        "\n",
        "    epochs, losses, train_acc, val_acc = [], [], [], []\n",
        "\n",
        "    # training\n",
        "    model = model.to(device)\n",
        "\n",
        "    for n in range(num_epochs):\n",
        "        epoch_loss = 0\n",
        "        train_accuracy = 0\n",
        "        val_accuracy = 0\n",
        "        printing = True\n",
        "        for x, cat_x, labels in iter(train_loader):\n",
        "            model.train() \n",
        "            x, cat_x, labels = x.to(device), cat_x.to(device), labels.to(device)\n",
        "            out = model(x, cat_x).squeeze() # unsqueeze(dim=2)        # forward pass\n",
        "            # print('OUT', out)\n",
        "            loss = criterion(out, labels) # compute the total loss\n",
        "            loss.backward()               # backward pass (compute parameter updates)\n",
        "            optimizer.step()              # make the updates for each parameter\n",
        "            optimizer.zero_grad()         \n",
        "\n",
        "            # save the current training information\n",
        "            \n",
        "            epoch_loss += float(loss)\n",
        "            # losses.append(float(loss)/batch_size)        # compute *average* loss\n",
        "            # train_acc.append(get_accuracy(model, train)) # compute training accuracy \n",
        "            # val_acc.append(get_accuracy(model, valid))   # compute validation accuracy\n",
        "            train_accuracy += get_accuracy(model, train)\n",
        "            val_accuracy += get_accuracy(model, valid)\n",
        "            \n",
        "            \n",
        "        losses.append(epoch_loss/(batch_size * len(train_loader)))\n",
        "        epochs.append(n)\n",
        "        new_train_acc = train_accuracy/len(train_loader)\n",
        "        train_acc.append(new_train_acc)\n",
        "        new_val_acc = val_accuracy/len(train_loader)\n",
        "        val_acc.append(new_val_acc)\n",
        "        \n",
        "        if n%5==0:\n",
        "            print(f\"Epoch {n}, train_acc={round(new_train_acc, 2)}, val_acc={round(new_val_acc, 2)}\")\n",
        "        \n",
        "    \n",
        "    plot_results(epochs, losses, train_acc, val_acc)\n",
        "\n",
        "            "
      ]
    },
    {
      "cell_type": "code",
      "execution_count": 32,
      "id": "519f0c01-2e17-4c1c-a5ca-eaa47fe4d8b6",
      "metadata": {
        "colab": {
          "base_uri": "https://localhost:8080/",
          "height": 1000
        },
        "id": "519f0c01-2e17-4c1c-a5ca-eaa47fe4d8b6",
        "outputId": "a5a15acd-b3ff-46ea-97cd-8bae9976bd2b"
      },
      "outputs": [
        {
          "name": "stdout",
          "output_type": "stream",
          "text": [
            "Epoch 0, train_acc=0.37, val_acc=0.37\n",
            "Epoch 5, train_acc=0.8, val_acc=0.81\n",
            "Epoch 10, train_acc=0.82, val_acc=0.82\n",
            "Epoch 15, train_acc=0.82, val_acc=0.82\n",
            "Epoch 20, train_acc=0.83, val_acc=0.83\n",
            "Epoch 25, train_acc=0.82, val_acc=0.82\n",
            "Epoch 30, train_acc=0.83, val_acc=0.83\n",
            "Epoch 35, train_acc=0.82, val_acc=0.82\n",
            "Epoch 40, train_acc=0.82, val_acc=0.81\n",
            "Epoch 45, train_acc=0.83, val_acc=0.83\n",
            "Epoch 50, train_acc=0.83, val_acc=0.83\n",
            "Epoch 55, train_acc=0.83, val_acc=0.83\n",
            "Epoch 60, train_acc=0.83, val_acc=0.83\n",
            "Epoch 65, train_acc=0.83, val_acc=0.82\n",
            "Epoch 70, train_acc=0.83, val_acc=0.83\n",
            "Epoch 75, train_acc=0.83, val_acc=0.82\n",
            "Epoch 80, train_acc=0.83, val_acc=0.83\n",
            "Epoch 85, train_acc=0.83, val_acc=0.83\n",
            "Epoch 90, train_acc=0.83, val_acc=0.83\n",
            "Epoch 95, train_acc=0.83, val_acc=0.83\n",
            "Epoch 100, train_acc=0.83, val_acc=0.83\n",
            "Epoch 105, train_acc=0.81, val_acc=0.8\n",
            "Epoch 110, train_acc=0.82, val_acc=0.82\n",
            "Epoch 115, train_acc=0.82, val_acc=0.81\n",
            "Epoch 120, train_acc=0.82, val_acc=0.81\n",
            "Epoch 125, train_acc=0.82, val_acc=0.81\n",
            "Epoch 130, train_acc=0.83, val_acc=0.82\n",
            "Epoch 135, train_acc=0.82, val_acc=0.81\n",
            "Epoch 140, train_acc=0.82, val_acc=0.81\n",
            "Epoch 145, train_acc=0.82, val_acc=0.82\n",
            "Epoch 150, train_acc=0.82, val_acc=0.82\n",
            "Epoch 155, train_acc=0.83, val_acc=0.82\n",
            "Epoch 160, train_acc=0.81, val_acc=0.8\n",
            "Epoch 165, train_acc=0.81, val_acc=0.8\n",
            "Epoch 170, train_acc=0.81, val_acc=0.81\n",
            "Epoch 175, train_acc=0.82, val_acc=0.81\n",
            "Epoch 180, train_acc=0.82, val_acc=0.82\n",
            "Epoch 185, train_acc=0.82, val_acc=0.81\n",
            "Epoch 190, train_acc=0.83, val_acc=0.83\n",
            "Epoch 195, train_acc=0.83, val_acc=0.82\n",
            "Epoch 200, train_acc=0.82, val_acc=0.81\n",
            "Epoch 205, train_acc=0.82, val_acc=0.81\n",
            "Epoch 210, train_acc=0.81, val_acc=0.8\n",
            "Epoch 215, train_acc=0.82, val_acc=0.81\n",
            "Epoch 220, train_acc=0.82, val_acc=0.82\n",
            "Epoch 225, train_acc=0.82, val_acc=0.82\n",
            "Epoch 230, train_acc=0.82, val_acc=0.81\n",
            "Epoch 235, train_acc=0.82, val_acc=0.82\n",
            "Epoch 240, train_acc=0.82, val_acc=0.82\n",
            "Epoch 245, train_acc=0.83, val_acc=0.82\n",
            "Epoch 250, train_acc=0.82, val_acc=0.81\n",
            "Epoch 255, train_acc=0.83, val_acc=0.82\n",
            "Epoch 260, train_acc=0.83, val_acc=0.82\n",
            "Epoch 265, train_acc=0.83, val_acc=0.82\n",
            "Epoch 270, train_acc=0.82, val_acc=0.8\n",
            "Epoch 275, train_acc=0.82, val_acc=0.81\n",
            "Epoch 280, train_acc=0.82, val_acc=0.81\n",
            "Epoch 285, train_acc=0.83, val_acc=0.82\n",
            "Epoch 290, train_acc=0.83, val_acc=0.82\n",
            "Epoch 295, train_acc=0.83, val_acc=0.81\n",
            "Epoch 300, train_acc=0.83, val_acc=0.83\n",
            "Epoch 305, train_acc=0.81, val_acc=0.8\n",
            "Epoch 310, train_acc=0.82, val_acc=0.81\n",
            "Epoch 315, train_acc=0.83, val_acc=0.82\n",
            "Epoch 320, train_acc=0.82, val_acc=0.82\n",
            "Epoch 325, train_acc=0.83, val_acc=0.82\n",
            "Epoch 330, train_acc=0.81, val_acc=0.81\n",
            "Epoch 335, train_acc=0.84, val_acc=0.83\n",
            "Epoch 340, train_acc=0.83, val_acc=0.82\n",
            "Epoch 345, train_acc=0.81, val_acc=0.8\n",
            "Epoch 350, train_acc=0.83, val_acc=0.83\n",
            "Epoch 355, train_acc=0.82, val_acc=0.82\n",
            "Epoch 360, train_acc=0.83, val_acc=0.82\n",
            "Epoch 365, train_acc=0.82, val_acc=0.82\n",
            "Epoch 370, train_acc=0.81, val_acc=0.81\n",
            "Epoch 375, train_acc=0.82, val_acc=0.82\n",
            "Epoch 380, train_acc=0.83, val_acc=0.82\n",
            "Epoch 385, train_acc=0.82, val_acc=0.81\n",
            "Epoch 390, train_acc=0.84, val_acc=0.83\n",
            "Epoch 395, train_acc=0.84, val_acc=0.83\n",
            "Epoch 400, train_acc=0.83, val_acc=0.82\n",
            "Epoch 405, train_acc=0.84, val_acc=0.83\n",
            "Epoch 410, train_acc=0.82, val_acc=0.82\n",
            "Epoch 415, train_acc=0.8, val_acc=0.79\n",
            "Epoch 420, train_acc=0.83, val_acc=0.82\n",
            "Epoch 425, train_acc=0.8, val_acc=0.79\n",
            "Epoch 430, train_acc=0.81, val_acc=0.8\n",
            "Epoch 435, train_acc=0.81, val_acc=0.81\n",
            "Epoch 440, train_acc=0.82, val_acc=0.82\n",
            "Epoch 445, train_acc=0.82, val_acc=0.81\n",
            "Epoch 450, train_acc=0.83, val_acc=0.82\n",
            "Epoch 455, train_acc=0.8, val_acc=0.8\n",
            "Epoch 460, train_acc=0.81, val_acc=0.8\n",
            "Epoch 465, train_acc=0.82, val_acc=0.82\n",
            "Epoch 470, train_acc=0.82, val_acc=0.81\n",
            "Epoch 475, train_acc=0.79, val_acc=0.79\n",
            "Epoch 480, train_acc=0.83, val_acc=0.82\n",
            "Epoch 485, train_acc=0.83, val_acc=0.82\n",
            "Epoch 490, train_acc=0.83, val_acc=0.82\n",
            "Epoch 495, train_acc=0.83, val_acc=0.82\n"
          ]
        },
        {
          "data": {
            "image/png": "[encoded data removed]",
            "text/plain": [
              "<Figure size 1000x400 with 2 Axes>"
            ]
          },
          "metadata": {},
          "output_type": "display_data"
        },
        {
          "name": "stdout",
          "output_type": "stream",
          "text": [
            "Final Training Accuracy: 0.8123673840557746\n",
            "Final Validation Accuracy: 0.8050815850815851\n",
            "CPU times: user 17min 58s, sys: 6min 30s, total: 24min 29s\n",
            "Wall time: 14min 9s\n"
          ]
        }
      ],
      "source": [
        "%%time\n",
        "train(model, train_dataset, val_dataset, num_epochs=500, learn_rate=0.0001, weight_decay=0.02, batch_size=128)"
      ]
    },
    {
      "cell_type": "code",
      "execution_count": 33,
      "id": "a11503a3-681f-4745-96eb-ec3dfa815634",
      "metadata": {
        "id": "a11503a3-681f-4745-96eb-ec3dfa815634"
      },
      "outputs": [],
      "source": [
        "# saving model to file\n",
        "state_dict = model.state_dict()\n",
        "torch.save(state_dict, \"neural_net.tar\")"
      ]
    },
    {
      "cell_type": "markdown",
      "id": "58eddc4e",
      "metadata": {},
      "source": [
        "## Test predictions"
      ]
    },
    {
      "cell_type": "code",
      "execution_count": 34,
      "id": "ueaTO9vhkIHU",
      "metadata": {
        "id": "ueaTO9vhkIHU"
      },
      "outputs": [],
      "source": [
        "# testing\n",
        "test_df = pd.read_csv('test_data.csv')"
      ]
    },
    {
      "cell_type": "code",
      "execution_count": 35,
      "id": "bSeZey8YTptA",
      "metadata": {
        "id": "bSeZey8YTptA"
      },
      "outputs": [],
      "source": [
        "test_df['TimeToBusStop'] = test_df['TimeToBusStop'].map({'0~5min': 1, '5min~10min': 2, '10min~15min': 3})\n",
        "test_df['TimeToSubway'] = test_df['TimeToSubway'].map({'0-5min': 1, '5min~10min': 2, '10min~15min': 3, '15min~20min': 4, 'no_bus_stop_nearby': 5})"
      ]
    },
    {
      "cell_type": "code",
      "execution_count": 36,
      "id": "QJCIOQr9kIP_",
      "metadata": {
        "id": "QJCIOQr9kIP_"
      },
      "outputs": [],
      "source": [
        "test_numerical_data = torch.from_numpy(test_df[numerical_features].values).float()\n",
        "test_categorical_data = torch.from_numpy(categorical_pipeline.transform(test_df[categorical_features])).float()\n",
        "# test_targets = torch.from_numpy(test_df[target].values.astype(np.dtype('int64')))"
      ]
    },
    {
      "cell_type": "code",
      "execution_count": 37,
      "id": "9SG280QdoGV0",
      "metadata": {
        "id": "9SG280QdoGV0"
      },
      "outputs": [],
      "source": [
        "test_numerical_data,test_categorical_data = test_numerical_data.to(device), test_categorical_data.to(device)"
      ]
    },
    {
      "cell_type": "code",
      "execution_count": 38,
      "id": "MidqE_Ekn6wV",
      "metadata": {
        "id": "MidqE_Ekn6wV"
      },
      "outputs": [],
      "source": [
        "# predictions for test\n",
        "pred = model(test_numerical_data, test_categorical_data)\n",
        "pred = pred.max(1, keepdim=True)[1]"
      ]
    },
    {
      "cell_type": "code",
      "execution_count": 39,
      "id": "2yeiCPwlbux8",
      "metadata": {
        "id": "2yeiCPwlbux8"
      },
      "outputs": [],
      "source": [
        "# saving predictions to file\n",
        "df_pred = pd.DataFrame(pred.cpu().numpy())\n",
        "df_pred.to_csv('preds.csv', header=False, index=False)"
      ]
    },
    {
      "cell_type": "markdown",
      "id": "d1712bab",
      "metadata": {},
      "source": [
        "## Val predictions"
      ]
    },
    {
      "cell_type": "code",
      "execution_count": 40,
      "id": "FTP5OFxSmxWY",
      "metadata": {
        "id": "FTP5OFxSmxWY"
      },
      "outputs": [],
      "source": [
        "val_numerical_data, val_categorical_data = val_numerical_data.to(device), val_categorical_data.to(device)"
      ]
    },
    {
      "cell_type": "code",
      "execution_count": 41,
      "id": "bSqSqhXiptXD",
      "metadata": {
        "id": "bSqSqhXiptXD"
      },
      "outputs": [],
      "source": [
        "# predictions for val\n",
        "pred_val = model(val_numerical_data, val_categorical_data)\n",
        "pred_val = pred_val.max(1, keepdim=True)[1]"
      ]
    },
    {
      "cell_type": "code",
      "execution_count": 42,
      "id": "b172db5b-1c48-488d-8fc5-61403a89f935",
      "metadata": {
        "colab": {
          "base_uri": "https://localhost:8080/"
        },
        "id": "b172db5b-1c48-488d-8fc5-61403a89f935",
        "outputId": "f9d957a6-ba06-4d3c-c77e-340d024436ad"
      },
      "outputs": [
        {
          "name": "stdout",
          "output_type": "stream",
          "text": [
            "              precision    recall  f1-score   support\n",
            "\n",
            "           0       0.92      0.64      0.75       177\n",
            "           1       0.79      0.96      0.87       490\n",
            "           2       0.90      0.61      0.73       158\n",
            "\n",
            "    accuracy                           0.82       825\n",
            "   macro avg       0.87      0.74      0.78       825\n",
            "weighted avg       0.84      0.82      0.82       825\n",
            "\n"
          ]
        }
      ],
      "source": [
        "# report for validation set\n",
        "from sklearn.metrics import classification_report\n",
        "print(classification_report(pred_val.cpu(), val_targets))"
      ]
    },
    {
      "cell_type": "code",
      "execution_count": 43,
      "id": "865cc4b9",
      "metadata": {},
      "outputs": [
        {
          "data": {
            "text/plain": [
              "array([0.91869919, 0.78956229, 0.89814815])"
            ]
          },
          "execution_count": 43,
          "metadata": {},
          "output_type": "execute_result"
        }
      ],
      "source": [
        "from sklearn.metrics import confusion_matrix\n",
        "matrix = confusion_matrix(val_targets, pred_val.cpu())\n",
        "matrix.diagonal()/matrix.sum(axis=1)"
      ]
    },
    {
      "cell_type": "code",
      "execution_count": 44,
      "id": "766332df",
      "metadata": {},
      "outputs": [
        {
          "data": {
            "text/plain": [
              "<AxesSubplot: >"
            ]
          },
          "execution_count": 44,
          "metadata": {},
          "output_type": "execute_result"
        },
        {
          "data": {
            "image/png": "[encoded data removed]",
            "text/plain": [
              "<Figure size 640x480 with 1 Axes>"
            ]
          },
          "metadata": {},
          "output_type": "display_data"
        }
      ],
      "source": [
        "pd.Series(pred_val.squeeze()).hist()"
      ]
    },
    {
      "cell_type": "code",
      "execution_count": 45,
      "id": "4124ed43",
      "metadata": {},
      "outputs": [
        {
          "data": {
            "text/plain": [
              "<AxesSubplot: >"
            ]
          },
          "execution_count": 45,
          "metadata": {},
          "output_type": "execute_result"
        },
        {
          "data": {
            "image/png": "[encoded data removed]",
            "text/plain": [
              "<Figure size 640x480 with 1 Axes>"
            ]
          },
          "metadata": {},
          "output_type": "display_data"
        }
      ],
      "source": [
        "pd.Series(val_targets).hist()"
      ]
    },
    {
      "cell_type": "markdown",
      "id": "1f79ca64",
      "metadata": {},
      "source": [
        "## Hyperparameters tuning\n",
        "accuracy for different layers' sizes"
      ]
    },
    {
      "cell_type": "code",
      "execution_count": 46,
      "id": "9aaa875d",
      "metadata": {},
      "outputs": [],
      "source": [
        "def train_search(model, train, valid, batch_size=128, num_epochs=10, learn_rate=0.001, weight_decay=0.02):\n",
        "    train_loader = torch.utils.data.DataLoader(train,\n",
        "                                               batch_size=batch_size,\n",
        "                                               shuffle=True) # shuffle after every epoch\n",
        "    classes_weights = torch.tensor(np.array([1.75, 1, 3.5]).astype('float32')).to(device)\n",
        "    criterion = nn.CrossEntropyLoss(weight=classes_weights)\n",
        "    optimizer = optim.Adam(model.parameters(),lr=learn_rate, weight_decay=weight_decay )\n",
        "#     optimizer = optim.SGD(model.parameters(), lr=learn_rate,momentum=0.9, weight_decay=weight_decay)\n",
        "\n",
        "    # training\n",
        "    model = model.to(device)\n",
        "\n",
        "    for n in range(num_epochs):\n",
        "        epoch_loss = 0\n",
        "        train_accuracy = 0\n",
        "        val_accuracy = 0\n",
        "        printing = True\n",
        "        for x, cat_x, labels in iter(train_loader):\n",
        "            model.train() \n",
        "            x, cat_x, labels = x.to(device), cat_x.to(device), labels.to(device)\n",
        "            out = model(x, cat_x).squeeze() # unsqueeze(dim=2)        # forward pass\n",
        "            # print('OUT', out)\n",
        "            loss = criterion(out, labels) # compute the total loss\n",
        "            loss.backward()               # backward pass (compute parameter updates)\n",
        "            optimizer.step()              # make the updates for each parameter\n",
        "            optimizer.zero_grad()         \n",
        "\n",
        "            # save the current training information\n",
        "            \n",
        "            epoch_loss += float(loss)\n",
        "            # losses.append(float(loss)/batch_size)        # compute *average* loss\n",
        "            # train_acc.append(get_accuracy(model, train)) # compute training accuracy \n",
        "            # val_acc.append(get_accuracy(model, valid))   # compute validation accuracy\n",
        "            train_accuracy += get_accuracy(model, train)\n",
        "            val_accuracy += get_accuracy(model, valid)\n",
        "            \n",
        "            \n",
        "        new_train_acc = train_accuracy/len(train_loader)\n",
        "        new_val_acc = val_accuracy/len(train_loader)\n",
        "        \n",
        "        if n%5==0:\n",
        "            print(f\"Epoch {n}, train_acc={round(new_train_acc, 2)}, val_acc={round(new_val_acc, 2)}\")\n",
        "\n",
        "    return(new_val_acc)"
      ]
    },
    {
      "cell_type": "code",
      "execution_count": 47,
      "id": "d0f355e2",
      "metadata": {},
      "outputs": [
        {
          "name": "stdout",
          "output_type": "stream",
          "text": [
            "Epoch 0, train_acc=0.64, val_acc=0.64\n",
            "Epoch 5, train_acc=0.75, val_acc=0.75\n",
            "100 100 0.7945454545454544\n"
          ]
        },
        {
          "name": "stderr",
          "output_type": "stream",
          "text": [
            "/var/folders/v7/7b5vyv797kg9pf47h5zx_wxr0000gn/T/ipykernel_12729/2568396337.py:9: FutureWarning: The frame.append method is deprecated and will be removed from pandas in a future version. Use pandas.concat instead.\n",
            "  results = results.append({\"first\": first_layer[i], \"second\": second_layer[j],\"acc\":val_acc},ignore_index=True)\n"
          ]
        },
        {
          "name": "stdout",
          "output_type": "stream",
          "text": [
            "Epoch 0, train_acc=0.55, val_acc=0.54\n"
          ]
        }
      ],
      "source": [
        "first_layer = [100, 50, 10, 1]\n",
        "second_layer = [100, 50, 10, 1]\n",
        "results = pd.DataFrame()\n",
        "for i in range(len(first_layer)):\n",
        "    for j in range(len(second_layer)):\n",
        "        model = Classifier(size_1=first_layer[i], size_2=second_layer[j])\n",
        "        val_acc = train_search(model, train_dataset, val_dataset)\n",
        "        print(first_layer[i],second_layer[j],val_acc)\n",
        "        results = results.append({\"first\": first_layer[i], \"second\": second_layer[j],\"acc\":val_acc},ignore_index=True)"
      ]
    }
  ],
  "metadata": {
    "accelerator": "GPU",
    "colab": {
      "collapsed_sections": [],
      "provenance": []
    },
    "gpuClass": "standard",
    "kernelspec": {
      "display_name": "Python 3.9.13 ('pt')",
      "language": "python",
      "name": "python3"
    },
    "language_info": {
      "codemirror_mode": {
        "name": "ipython",
        "version": 3
      },
      "file_extension": ".py",
      "mimetype": "text/x-python",
      "name": "python",
      "nbconvert_exporter": "python",
      "pygments_lexer": "ipython3",
      "version": "3.9.13"
    },
    "vscode": {
      "interpreter": {
        "hash": "3a7aaad0630ad3230b7b955ab34166b9352cf35c53f01b298fd4177c5371ed1f"
      }
    }
  },
  "nbformat": 4,
  "nbformat_minor": 5
}
