{
  "cells": [
    {
      "cell_type": "code",
      "execution_count": 1,
      "id": "ffd98f3b-a7a0-4072-9577-4fdfad76e823",
      "metadata": {
        "id": "ffd98f3b-a7a0-4072-9577-4fdfad76e823"
      },
      "outputs": [],
      "source": [
        "import pandas as pd\n",
        "import matplotlib.pyplot as plt\n",
        "import torch, torchvision\n",
        "import torch.optim as optim\n",
        "import torch.nn as nn\n",
        "import torch.utils.data as data\n",
        "import numpy as np"
      ]
    },
    {
      "cell_type": "code",
      "source": [
        "from google.colab import drive\n",
        "drive.mount('/content/drive')"
      ],
      "metadata": {
        "colab": {
          "base_uri": "https://localhost:8080/"
        },
        "id": "fm9r7TCpXjtF",
        "outputId": "59018a64-0e72-492b-9989-a7b6c4750da2"
      },
      "id": "fm9r7TCpXjtF",
      "execution_count": 2,
      "outputs": [
        {
          "output_type": "stream",
          "name": "stdout",
          "text": [
            "Drive already mounted at /content/drive; to attempt to forcibly remount, call drive.mount(\"/content/drive\", force_remount=True).\n"
          ]
        }
      ]
    },
    {
      "cell_type": "code",
      "source": [
        "torch.cuda.is_available()"
      ],
      "metadata": {
        "colab": {
          "base_uri": "https://localhost:8080/"
        },
        "id": "pFAoK_GcXjvt",
        "outputId": "c9e3cbe8-d364-4c68-feef-b0c9d2257843"
      },
      "id": "pFAoK_GcXjvt",
      "execution_count": 3,
      "outputs": [
        {
          "output_type": "execute_result",
          "data": {
            "text/plain": [
              "True"
            ]
          },
          "metadata": {},
          "execution_count": 3
        }
      ]
    },
    {
      "cell_type": "code",
      "source": [
        "import os\n",
        "os.chdir(\"/content/drive/My Drive/SSNE_repo/SSNE/miniprojekt2\")"
      ],
      "metadata": {
        "id": "hBjZvgLLXzIL"
      },
      "id": "hBjZvgLLXzIL",
      "execution_count": 4,
      "outputs": []
    },
    {
      "cell_type": "code",
      "source": [
        "device = torch.device(\"cuda\") \n",
        "device"
      ],
      "metadata": {
        "colab": {
          "base_uri": "https://localhost:8080/"
        },
        "id": "hnrctW3iYGFu",
        "outputId": "65c3e4dd-73fa-46ae-d4b7-f92bd54cd243"
      },
      "id": "hnrctW3iYGFu",
      "execution_count": 5,
      "outputs": [
        {
          "output_type": "execute_result",
          "data": {
            "text/plain": [
              "device(type='cuda')"
            ]
          },
          "metadata": {},
          "execution_count": 5
        }
      ]
    },
    {
      "cell_type": "code",
      "execution_count": 6,
      "id": "9635fabb-5c31-447e-babc-ea3a7b9844fe",
      "metadata": {
        "colab": {
          "base_uri": "https://localhost:8080/"
        },
        "id": "9635fabb-5c31-447e-babc-ea3a7b9844fe",
        "outputId": "c566ea98-c962-4023-9cdc-3443678e2932"
      },
      "outputs": [
        {
          "output_type": "execute_result",
          "data": {
            "text/plain": [
              "<torch._C.Generator at 0x7f0d2bf427f0>"
            ]
          },
          "metadata": {},
          "execution_count": 6
        }
      ],
      "source": [
        "torch.manual_seed(42)"
      ]
    },
    {
      "cell_type": "code",
      "execution_count": 7,
      "id": "105a0caf-58f1-456c-bd73-deeaede46b7f",
      "metadata": {
        "id": "105a0caf-58f1-456c-bd73-deeaede46b7f"
      },
      "outputs": [],
      "source": [
        "train_data = pd.read_csv('train_data.csv')"
      ]
    },
    {
      "cell_type": "code",
      "execution_count": 8,
      "id": "a904f74e-14f9-4e67-9d89-126ebfe67bad",
      "metadata": {
        "id": "a904f74e-14f9-4e67-9d89-126ebfe67bad"
      },
      "outputs": [],
      "source": [
        "train_data['class'] = pd.cut(x=train_data['SalePrice'], bins=[train_data['SalePrice'].min() - 1, 100000, 350000, train_data['SalePrice'].max() + 1], labels=[0,1,2])"
      ]
    },
    {
      "cell_type": "code",
      "execution_count": 9,
      "id": "ab393789-fa84-463f-9e13-4dd6f895fd6c",
      "metadata": {
        "id": "ab393789-fa84-463f-9e13-4dd6f895fd6c"
      },
      "outputs": [],
      "source": [
        "features = ['YearBuilt', 'Size(sqf)', 'Floor', 'N_Parkinglot(Ground)',\n",
        "       'N_Parkinglot(Basement)',  'N_manager',\n",
        "       'N_elevators', 'N_FacilitiesInApt',\n",
        "       'N_FacilitiesNearBy(Total)', 'N_SchoolNearBy(Total)']\n",
        "cat_features = ['HallwayType', 'HeatingType', 'AptManageType', \n",
        "                'TimeToBusStop', 'TimeToSubway', 'SubwayStation']\n",
        "to_predict = ['class']"
      ]
    },
    {
      "cell_type": "code",
      "execution_count": 10,
      "id": "37eff32c-c50c-424c-baa7-122d59e03b61",
      "metadata": {
        "id": "37eff32c-c50c-424c-baa7-122d59e03b61"
      },
      "outputs": [],
      "source": [
        "categorical_values = pd.get_dummies(train_data[cat_features])"
      ]
    },
    {
      "cell_type": "code",
      "execution_count": 11,
      "id": "da2a9464-d03e-4e8c-945a-728adf030a6c",
      "metadata": {
        "id": "da2a9464-d03e-4e8c-945a-728adf030a6c"
      },
      "outputs": [],
      "source": [
        "train_indices = np.random.rand(len(train_data)) < 0.95"
      ]
    },
    {
      "cell_type": "code",
      "execution_count": 12,
      "id": "edcbe106-fcff-4575-952b-4061ae262648",
      "metadata": {
        "id": "edcbe106-fcff-4575-952b-4061ae262648"
      },
      "outputs": [],
      "source": [
        "numerical_data = torch.from_numpy(train_data[features].values[train_indices]).float()\n",
        "categorical_data = torch.from_numpy(categorical_values.values[train_indices]).float()\n",
        "targets = torch.from_numpy(train_data[to_predict].values[train_indices].astype(np.dtype('int64')))\n",
        "\n",
        "val_numerical_data = torch.from_numpy(train_data[features].values[~train_indices]).float()\n",
        "val_categorical_data = torch.from_numpy(categorical_values.values[~train_indices]).float()\n",
        "val_targets = torch.from_numpy(train_data[to_predict].values[~train_indices].astype(np.dtype('int64')))"
      ]
    },
    {
      "cell_type": "code",
      "execution_count": 13,
      "id": "8791e1d6-0ea9-4209-935f-51806e25aa06",
      "metadata": {
        "colab": {
          "base_uri": "https://localhost:8080/"
        },
        "id": "8791e1d6-0ea9-4209-935f-51806e25aa06",
        "outputId": "5fee043d-5ad7-4524-9776-2bc7cc92e578"
      },
      "outputs": [
        {
          "output_type": "execute_result",
          "data": {
            "text/plain": [
              "tensor([[0., 0., 1.,  ..., 0., 0., 0.],\n",
              "        [1., 0., 0.,  ..., 0., 0., 0.],\n",
              "        [0., 0., 1.,  ..., 0., 1., 0.],\n",
              "        ...,\n",
              "        [0., 0., 1.,  ..., 0., 0., 0.],\n",
              "        [1., 0., 0.,  ..., 0., 0., 0.],\n",
              "        [0., 0., 1.,  ..., 0., 0., 0.]])"
            ]
          },
          "metadata": {},
          "execution_count": 13
        }
      ],
      "source": [
        "categorical_data"
      ]
    },
    {
      "cell_type": "code",
      "execution_count": 14,
      "id": "f0fcd542-4829-47e0-a642-6574ad3bc785",
      "metadata": {
        "id": "f0fcd542-4829-47e0-a642-6574ad3bc785"
      },
      "outputs": [],
      "source": [
        "train_dataset = data.TensorDataset(numerical_data,categorical_data,targets)\n",
        "val_dataset = data.TensorDataset(val_numerical_data, val_categorical_data, val_targets)"
      ]
    },
    {
      "cell_type": "code",
      "execution_count": 15,
      "id": "44f3b41f-468e-48fd-9555-612c636871ad",
      "metadata": {
        "colab": {
          "base_uri": "https://localhost:8080/"
        },
        "id": "44f3b41f-468e-48fd-9555-612c636871ad",
        "outputId": "e7112f09-bde9-4748-9579-2c76f708ce52"
      },
      "outputs": [
        {
          "output_type": "execute_result",
          "data": {
            "text/plain": [
              "(tensor([2006.,  814.,    3.,  111.,  184.,    3.,    0.,    5.,    6.,    9.]),\n",
              " tensor([0., 0., 1., 0., 1., 1., 0., 0., 0., 1., 0., 1., 0., 0., 0., 0., 0., 0.,\n",
              "         0., 1., 0., 0., 0.]),\n",
              " tensor([1]))"
            ]
          },
          "metadata": {},
          "execution_count": 15
        }
      ],
      "source": [
        "next(iter(train_dataset))"
      ]
    },
    {
      "cell_type": "code",
      "execution_count": 16,
      "id": "f636304e-7368-49a8-8f0e-ba32a2355999",
      "metadata": {
        "tags": [],
        "id": "f636304e-7368-49a8-8f0e-ba32a2355999"
      },
      "outputs": [],
      "source": [
        "# train_data"
      ]
    },
    {
      "cell_type": "code",
      "execution_count": 17,
      "id": "25e29f3a-eade-4bac-bb0e-ccae22f993bd",
      "metadata": {
        "tags": [],
        "colab": {
          "base_uri": "https://localhost:8080/"
        },
        "id": "25e29f3a-eade-4bac-bb0e-ccae22f993bd",
        "outputId": "95f4988e-50b1-44d9-bbdb-f801849df9c4"
      },
      "outputs": [
        {
          "output_type": "execute_result",
          "data": {
            "text/plain": [
              "Index(['SalePrice', 'YearBuilt', 'Size(sqf)', 'Floor', 'HallwayType',\n",
              "       'HeatingType', 'AptManageType', 'N_Parkinglot(Ground)',\n",
              "       'N_Parkinglot(Basement)', 'TimeToBusStop', 'TimeToSubway', 'N_manager',\n",
              "       'N_elevators', 'SubwayStation', 'N_FacilitiesInApt',\n",
              "       'N_FacilitiesNearBy(Total)', 'N_SchoolNearBy(Total)', 'class'],\n",
              "      dtype='object')"
            ]
          },
          "metadata": {},
          "execution_count": 17
        }
      ],
      "source": [
        "train_data.columns"
      ]
    },
    {
      "cell_type": "code",
      "execution_count": 18,
      "id": "dd724d14-bd08-478d-8b20-f290ce4f28b8",
      "metadata": {
        "tags": [],
        "id": "dd724d14-bd08-478d-8b20-f290ce4f28b8"
      },
      "outputs": [],
      "source": [
        "# train_data"
      ]
    },
    {
      "cell_type": "code",
      "execution_count": 19,
      "id": "884f6696-0b05-4db6-913e-c79fa325099c",
      "metadata": {
        "tags": [],
        "id": "884f6696-0b05-4db6-913e-c79fa325099c"
      },
      "outputs": [],
      "source": [
        "# fig = plt.figure(figsize = (15,20))\n",
        "# ax = fig.gca()\n",
        "# train_data.hist(ax=ax)"
      ]
    },
    {
      "cell_type": "code",
      "execution_count": 20,
      "id": "b915b216-cc7b-4688-b35e-75be4463a6ac",
      "metadata": {
        "id": "b915b216-cc7b-4688-b35e-75be4463a6ac"
      },
      "outputs": [],
      "source": [
        "class Classifier(nn.Module):\n",
        "    def __init__(self):\n",
        "        super(Classifier, self).__init__()\n",
        "        self.emb_layer = nn.Linear(categorical_data.shape[1], categorical_data.shape[1])\n",
        "        self.act_emb = nn.Tanh()\n",
        "        self.layer1 = nn.Linear(33, 20)\n",
        "        self.bn1 = nn.BatchNorm1d(20)\n",
        "        self.act_1 =  nn.ReLU()\n",
        "        self.d1 = nn.Dropout(0.1)\n",
        "        self.layer2 = nn.Linear(20, 40)\n",
        "        self.bn2 = nn.BatchNorm1d(40)\n",
        "        self.act_2 = nn.ReLU()\n",
        "        self.d2 = nn.Dropout(0.1)\n",
        "        self.layer3 = nn.Linear(40, 10)\n",
        "        self.bn3 = nn.BatchNorm1d(10)\n",
        "        self.act_3 = nn.ReLU()\n",
        "        self.d3 = nn.Dropout(0.1)\n",
        "        self.layer4 = nn.Linear(10, 3)\n",
        "        self.act_4 = nn.ReLU()\n",
        "        # self.softmax = nn.Softmax(dim=1)\n",
        "        \n",
        "    def forward(self, x, cat_x):\n",
        "        cat_x_embedded = self.emb_layer(cat_x)\n",
        "        cat_x_embedded = self.act_emb(cat_x_embedded)\n",
        "        x = torch.cat([x,cat_x_embedded],dim=1)\n",
        "        # print(x)\n",
        "        x = self.d1(self.act_1(self.bn1(self.layer1(x))))\n",
        "        x = self.d2(self.act_2(self.bn2(self.layer2(x))))\n",
        "        x = self.d3(self.act_3(self.bn3(self.layer3(x))))\n",
        "        x = self.layer4(x)\n",
        "        # x = self.softmax(x)\n",
        "        return x"
      ]
    },
    {
      "cell_type": "code",
      "execution_count": 21,
      "id": "1f68080e-9a7c-4174-b789-6ce1b4cb814b",
      "metadata": {
        "id": "1f68080e-9a7c-4174-b789-6ce1b4cb814b"
      },
      "outputs": [],
      "source": [
        "# def get_accuracy(model, data):\n",
        "#     correct = 0\n",
        "#     total = 0\n",
        "#     model.eval()\n",
        "#     for imgs, labels in torch.utils.data.DataLoader(data, batch_size=64):\n",
        "#         # imgs, labels = imgs.to(device), labels.to(device)\n",
        "#         output = model(imgs)\n",
        "#         # print('OUT', output)\n",
        "#         pred = output.max(1, keepdim=True)[1] # get the index of the max logit\n",
        "#         # print('PRED', pred)\n",
        "#         correct += pred.eq(labels.view_as(pred)).sum().item()\n",
        "#         total += imgs.shape[0]\n",
        "#     return correct / total"
      ]
    },
    {
      "cell_type": "code",
      "execution_count": 22,
      "id": "d6b7a776-a1f1-43a6-8b90-22e3c67b961c",
      "metadata": {
        "id": "d6b7a776-a1f1-43a6-8b90-22e3c67b961c"
      },
      "outputs": [],
      "source": [
        "model = Classifier()"
      ]
    },
    {
      "cell_type": "code",
      "execution_count": 23,
      "id": "324d9075-6b32-4192-927d-e8bc805bfff0",
      "metadata": {
        "id": "324d9075-6b32-4192-927d-e8bc805bfff0"
      },
      "outputs": [],
      "source": [
        "def get_accuracy(model, data):\n",
        "    correct = 0\n",
        "    total = 0\n",
        "    model.eval() #*********#\n",
        "    for x, cat_x, labels in torch.utils.data.DataLoader(data, batch_size=64):\n",
        "        # moving to device\n",
        "        x, cat_x, labels = x.to(device), cat_x.to(device), labels.to(device)\n",
        "\n",
        "        output = model(x, cat_x)\n",
        "        pred = output.max(1, keepdim=True)[1] # get the index of the max logit\n",
        "        correct += pred.eq(labels.view_as(pred)).sum().item()\n",
        "        total += x.shape[0]\n",
        "    return correct / total"
      ]
    },
    {
      "cell_type": "code",
      "execution_count": 24,
      "id": "8f7740c4-4898-4cac-99c4-ca391e190798",
      "metadata": {
        "id": "8f7740c4-4898-4cac-99c4-ca391e190798"
      },
      "outputs": [],
      "source": [
        "def train(model, train, valid, batch_size=64, num_epochs=1, learn_rate=0.01, weight_decay=0):\n",
        "    train_loader = torch.utils.data.DataLoader(train,\n",
        "                                               batch_size=batch_size,\n",
        "                                               shuffle=True) # shuffle after every epoch\n",
        "    criterion = nn.CrossEntropyLoss()\n",
        "    optimizer = optim.Adam(model.parameters(),lr=learn_rate, weight_decay=weight_decay )\n",
        "#     optimizer = optim.SGD(model.parameters(), lr=learn_rate,momentum=0.9, weight_decay=weight_decay)\n",
        "\n",
        "    epochs, losses, train_acc, val_acc = [], [], [], []\n",
        "\n",
        "    # training\n",
        "#     n = 0 # the number of iterations\n",
        "\n",
        "    model = model.to(device)\n",
        "    # train = train.to(device)\n",
        "    # valid = valid.to(device)\n",
        "\n",
        "    for n in range(num_epochs):\n",
        "        epoch_loss = 0\n",
        "        train_accuracy = 0\n",
        "        val_accuracy = 0\n",
        "        printing = True\n",
        "        for x, cat_x, labels in iter(train_loader):\n",
        "            model.train()\n",
        "            # moving to GPU\n",
        "            x = x.to(device)\n",
        "            cat_x = cat_x.to(device)\n",
        "            labels = labels.to(device)\n",
        "            out = model(x, cat_x).unsqueeze(dim=2)         # forward pass\n",
        "            # print('OUT', out)\n",
        "            loss = criterion(out, labels) # compute the total loss\n",
        "            loss.backward()               # backward pass (compute parameter updates)\n",
        "            optimizer.step()              # make the updates for each parameter\n",
        "            optimizer.zero_grad()         \n",
        "\n",
        "            # save the current training information\n",
        "            \n",
        "            epoch_loss += float(loss)\n",
        "            # losses.append(float(loss)/batch_size)        # compute *average* loss\n",
        "            # train_acc.append(get_accuracy(model, train)) # compute training accuracy \n",
        "            # val_acc.append(get_accuracy(model, valid))   # compute validation accuracy\n",
        "            train_accuracy += get_accuracy(model, train)\n",
        "            val_accuracy += get_accuracy(model, valid)\n",
        "            \n",
        "            \n",
        "        losses.append(epoch_loss/(batch_size * len(train_loader)))\n",
        "        epochs.append(n)\n",
        "        train_acc.append(train_accuracy/len(train_loader))\n",
        "        val_acc.append(val_accuracy/len(train_loader))\n",
        "        \n",
        "        if n%10==0:\n",
        "            print(f\"Epoch {n}\")\n",
        "        \n",
        "    \n",
        "    plot_results(epochs, losses, train_acc, val_acc)\n",
        "\n",
        "            "
      ]
    },
    {
      "cell_type": "code",
      "execution_count": 25,
      "id": "5a9cb789-4585-436d-bce7-ad27fe37c829",
      "metadata": {
        "id": "5a9cb789-4585-436d-bce7-ad27fe37c829"
      },
      "outputs": [],
      "source": [
        "def plot_results(epochs, losses, train_acc, val_acc):\n",
        "    # plotting\n",
        "    plt.figure(figsize=(10,4))\n",
        "    plt.subplot(1,2,1)\n",
        "    plt.title(\"Training Curve\")\n",
        "    plt.plot(epochs, losses, label=\"Train\")\n",
        "    plt.xlabel(\"Iterations\")\n",
        "    plt.ylabel(\"Loss\")\n",
        "\n",
        "    plt.subplot(1,2,2)\n",
        "    plt.title(\"Training Curve\")\n",
        "    plt.plot(epochs, train_acc, label=\"Train\")\n",
        "    plt.plot(epochs, val_acc, label=\"Validation\")\n",
        "    plt.xlabel(\"Iterations\")\n",
        "    plt.ylabel(\"Training Accuracy\")\n",
        "    plt.legend(loc='best')\n",
        "    plt.show()\n",
        "\n",
        "    print(\"Final Training Accuracy: {}\".format(train_acc[-1]))\n",
        "    print(\"Final Validation Accuracy: {}\".format(val_acc[-1]))"
      ]
    },
    {
      "cell_type": "code",
      "execution_count": 26,
      "id": "519f0c01-2e17-4c1c-a5ca-eaa47fe4d8b6",
      "metadata": {
        "colab": {
          "base_uri": "https://localhost:8080/",
          "height": 1000
        },
        "id": "519f0c01-2e17-4c1c-a5ca-eaa47fe4d8b6",
        "outputId": "a5a15acd-b3ff-46ea-97cd-8bae9976bd2b"
      },
      "outputs": [
        {
          "output_type": "stream",
          "name": "stdout",
          "text": [
            "Epoch 0\n",
            "Epoch 10\n",
            "Epoch 20\n",
            "Epoch 30\n",
            "Epoch 40\n",
            "Epoch 50\n",
            "Epoch 60\n",
            "Epoch 70\n",
            "Epoch 80\n",
            "Epoch 90\n",
            "Epoch 100\n",
            "Epoch 110\n",
            "Epoch 120\n",
            "Epoch 130\n",
            "Epoch 140\n",
            "Epoch 150\n",
            "Epoch 160\n",
            "Epoch 170\n",
            "Epoch 180\n",
            "Epoch 190\n",
            "Epoch 200\n",
            "Epoch 210\n",
            "Epoch 220\n",
            "Epoch 230\n",
            "Epoch 240\n",
            "Epoch 250\n",
            "Epoch 260\n",
            "Epoch 270\n",
            "Epoch 280\n",
            "Epoch 290\n",
            "Epoch 300\n",
            "Epoch 310\n",
            "Epoch 320\n",
            "Epoch 330\n",
            "Epoch 340\n",
            "Epoch 350\n",
            "Epoch 360\n",
            "Epoch 370\n",
            "Epoch 380\n",
            "Epoch 390\n",
            "Epoch 400\n",
            "Epoch 410\n",
            "Epoch 420\n",
            "Epoch 430\n",
            "Epoch 440\n",
            "Epoch 450\n",
            "Epoch 460\n",
            "Epoch 470\n",
            "Epoch 480\n",
            "Epoch 490\n"
          ]
        },
        {
          "output_type": "display_data",
          "data": {
            "text/plain": [
              "<Figure size 720x288 with 2 Axes>"
            ],
            "image/png": "[encoded data removed]"
          },
          "metadata": {
            "needs_background": "light"
          }
        },
        {
          "output_type": "stream",
          "name": "stdout",
          "text": [
            "Final Training Accuracy: 0.8587787221177103\n",
            "Final Validation Accuracy: 0.8786140089418778\n",
            "CPU times: user 40min 47s, sys: 8.5 s, total: 40min 55s\n",
            "Wall time: 40min 54s\n"
          ]
        }
      ],
      "source": [
        "%%time\n",
        "train(model, train_dataset, val_dataset, num_epochs=500, learn_rate=0.0002, weight_decay=0.02)"
      ]
    },
    {
      "cell_type": "code",
      "execution_count": 27,
      "id": "a11503a3-681f-4745-96eb-ec3dfa815634",
      "metadata": {
        "id": "a11503a3-681f-4745-96eb-ec3dfa815634"
      },
      "outputs": [],
      "source": [
        "# saving model to file\n",
        "state_dict = model.state_dict()\n",
        "torch.save(state_dict, \"neural_net.tar\")"
      ]
    },
    {
      "cell_type": "code",
      "source": [
        "# testing\n",
        "test_data = pd.read_csv('test_data.csv')"
      ],
      "metadata": {
        "id": "ueaTO9vhkIHU"
      },
      "id": "ueaTO9vhkIHU",
      "execution_count": 28,
      "outputs": []
    },
    {
      "cell_type": "code",
      "source": [
        "categorical_values_test = pd.get_dummies(test_data[cat_features])"
      ],
      "metadata": {
        "id": "aOcQl4PKkINM"
      },
      "id": "aOcQl4PKkINM",
      "execution_count": 29,
      "outputs": []
    },
    {
      "cell_type": "code",
      "source": [
        "numerical_data_test = torch.from_numpy(test_data[features].values).float()\n",
        "categorical_data_test = torch.from_numpy(categorical_values_test.values).float()"
      ],
      "metadata": {
        "id": "QJCIOQr9kIP_"
      },
      "id": "QJCIOQr9kIP_",
      "execution_count": 30,
      "outputs": []
    },
    {
      "cell_type": "code",
      "source": [
        "numerical_data_test,categorical_data_test = numerical_data_test.to(device), categorical_data_test.to(device)"
      ],
      "metadata": {
        "id": "9SG280QdoGV0"
      },
      "id": "9SG280QdoGV0",
      "execution_count": 31,
      "outputs": []
    },
    {
      "cell_type": "code",
      "source": [
        "# predictions for test\n",
        "pred = model(numerical_data_test, categorical_data_test)\n",
        "pred = pred.max(1, keepdim=True)[1]"
      ],
      "metadata": {
        "id": "MidqE_Ekn6wV"
      },
      "id": "MidqE_Ekn6wV",
      "execution_count": 32,
      "outputs": []
    },
    {
      "cell_type": "code",
      "source": [
        "# report for valid\n",
        "val_numerical_data, val_categorical_data = val_numerical_data.to(device), val_categorical_data.to(device)"
      ],
      "metadata": {
        "id": "FTP5OFxSmxWY"
      },
      "id": "FTP5OFxSmxWY",
      "execution_count": 33,
      "outputs": []
    },
    {
      "cell_type": "code",
      "source": [
        "# predictions for test\n",
        "pred_val = model(val_numerical_data, val_categorical_data)\n",
        "pred_val = pred_val.max(1, keepdim=True)[1]"
      ],
      "metadata": {
        "id": "bSqSqhXiptXD"
      },
      "id": "bSqSqhXiptXD",
      "execution_count": 34,
      "outputs": []
    },
    {
      "cell_type": "code",
      "execution_count": 35,
      "id": "b172db5b-1c48-488d-8fc5-61403a89f935",
      "metadata": {
        "colab": {
          "base_uri": "https://localhost:8080/"
        },
        "id": "b172db5b-1c48-488d-8fc5-61403a89f935",
        "outputId": "d56d5f88-38f1-4576-a2d5-8b5d93e2d33a"
      },
      "outputs": [
        {
          "output_type": "stream",
          "name": "stdout",
          "text": [
            "              precision    recall  f1-score   support\n",
            "\n",
            "           0       0.56      0.82      0.67        17\n",
            "           1       0.94      0.91      0.92       176\n",
            "           2       0.80      0.74      0.77        27\n",
            "\n",
            "    accuracy                           0.88       220\n",
            "   macro avg       0.77      0.82      0.79       220\n",
            "weighted avg       0.89      0.88      0.89       220\n",
            "\n"
          ]
        }
      ],
      "source": [
        "# report\n",
        "from sklearn.metrics import classification_report\n",
        "print(classification_report(pred_val.cpu(), val_targets))"
      ]
    },
    {
      "cell_type": "code",
      "source": [],
      "metadata": {
        "id": "_iZB5ZsnrBsH"
      },
      "id": "_iZB5ZsnrBsH",
      "execution_count": 35,
      "outputs": []
    }
  ],
  "metadata": {
    "kernelspec": {
      "display_name": "Python 3 (ipykernel)",
      "language": "python",
      "name": "python3"
    },
    "language_info": {
      "codemirror_mode": {
        "name": "ipython",
        "version": 3
      },
      "file_extension": ".py",
      "mimetype": "text/x-python",
      "name": "python",
      "nbconvert_exporter": "python",
      "pygments_lexer": "ipython3",
      "version": "3.8.0"
    },
    "colab": {
      "provenance": [],
      "collapsed_sections": []
    },
    "accelerator": "GPU",
    "gpuClass": "standard"
  },
  "nbformat": 4,
  "nbformat_minor": 5
}