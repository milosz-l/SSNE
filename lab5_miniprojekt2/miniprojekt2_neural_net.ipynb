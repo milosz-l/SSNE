{
 "cells": [
  {
   "cell_type": "code",
   "execution_count": 1,
   "id": "ffd98f3b-a7a0-4072-9577-4fdfad76e823",
   "metadata": {},
   "outputs": [],
   "source": [
    "import pandas as pd\n",
    "import matplotlib.pyplot as plt\n",
    "import torch, torchvision\n",
    "import torch.optim as optim\n",
    "import torch.nn as nn\n",
    "import torch.utils.data as data\n",
    "import numpy as np"
   ]
  },
  {
   "cell_type": "code",
   "execution_count": 28,
   "id": "9635fabb-5c31-447e-babc-ea3a7b9844fe",
   "metadata": {},
   "outputs": [
    {
     "data": {
      "text/plain": [
       "<torch._C.Generator at 0x20ee97ec3d0>"
      ]
     },
     "execution_count": 28,
     "metadata": {},
     "output_type": "execute_result"
    }
   ],
   "source": [
    "torch.manual_seed(42)"
   ]
  },
  {
   "cell_type": "code",
   "execution_count": 2,
   "id": "105a0caf-58f1-456c-bd73-deeaede46b7f",
   "metadata": {},
   "outputs": [],
   "source": [
    "train_data = pd.read_csv('train_data.csv')"
   ]
  },
  {
   "cell_type": "code",
   "execution_count": 3,
   "id": "a904f74e-14f9-4e67-9d89-126ebfe67bad",
   "metadata": {},
   "outputs": [],
   "source": [
    "train_data['class'] = pd.cut(x=train_data['SalePrice'], bins=[train_data['SalePrice'].min() - 1, 100000, 350000, train_data['SalePrice'].max() + 1], labels=[0,1,2])"
   ]
  },
  {
   "cell_type": "code",
   "execution_count": 4,
   "id": "ab393789-fa84-463f-9e13-4dd6f895fd6c",
   "metadata": {},
   "outputs": [],
   "source": [
    "features = ['YearBuilt', 'Size(sqf)', 'Floor', 'N_Parkinglot(Ground)',\n",
    "       'N_Parkinglot(Basement)',  'N_manager',\n",
    "       'N_elevators', 'N_FacilitiesInApt',\n",
    "       'N_FacilitiesNearBy(Total)', 'N_SchoolNearBy(Total)']\n",
    "cat_features = ['HallwayType', 'HeatingType', 'AptManageType', \n",
    "                'TimeToBusStop', 'TimeToSubway', 'SubwayStation']\n",
    "to_predict = ['class']"
   ]
  },
  {
   "cell_type": "code",
   "execution_count": 5,
   "id": "37eff32c-c50c-424c-baa7-122d59e03b61",
   "metadata": {},
   "outputs": [],
   "source": [
    "categorical_values = pd.get_dummies(train_data[cat_features])"
   ]
  },
  {
   "cell_type": "code",
   "execution_count": 6,
   "id": "da2a9464-d03e-4e8c-945a-728adf030a6c",
   "metadata": {},
   "outputs": [],
   "source": [
    "train_indices = np.random.rand(len(train_data)) < 0.95"
   ]
  },
  {
   "cell_type": "code",
   "execution_count": 7,
   "id": "edcbe106-fcff-4575-952b-4061ae262648",
   "metadata": {},
   "outputs": [],
   "source": [
    "numerical_data = torch.from_numpy(train_data[features].values[train_indices]).float()\n",
    "categorical_data = torch.from_numpy(categorical_values.values[train_indices]).float()\n",
    "targets = torch.from_numpy(train_data[to_predict].values[train_indices].astype(np.dtype('int64')))\n",
    "\n",
    "val_numerical_data = torch.from_numpy(train_data[features].values[~train_indices]).float()\n",
    "val_categorical_data = torch.from_numpy(categorical_values.values[~train_indices]).float()\n",
    "val_targets = torch.from_numpy(train_data[to_predict].values[~train_indices].astype(np.dtype('int64')))"
   ]
  },
  {
   "cell_type": "code",
   "execution_count": 8,
   "id": "8791e1d6-0ea9-4209-935f-51806e25aa06",
   "metadata": {},
   "outputs": [
    {
     "data": {
      "text/plain": [
       "tensor([[0., 0., 1.,  ..., 0., 0., 0.],\n",
       "        [1., 0., 0.,  ..., 0., 0., 0.],\n",
       "        [1., 0., 0.,  ..., 0., 0., 0.],\n",
       "        ...,\n",
       "        [0., 0., 1.,  ..., 0., 0., 0.],\n",
       "        [1., 0., 0.,  ..., 0., 0., 0.],\n",
       "        [0., 0., 1.,  ..., 0., 0., 0.]])"
      ]
     },
     "execution_count": 8,
     "metadata": {},
     "output_type": "execute_result"
    }
   ],
   "source": [
    "categorical_data"
   ]
  },
  {
   "cell_type": "code",
   "execution_count": 9,
   "id": "acead9a4-f085-4fa5-bbd4-a848473b275e",
   "metadata": {},
   "outputs": [],
   "source": [
    "# train_dataset = data.TensorDataset(torch.from_numpy(df_train.values[:,:-1]).float(), torch.from_numpy(df_train.values[:,-1].astype(np.dtype('int64'))))\n",
    "# val_dataset = data.TensorDataset(torch.from_numpy(df_val.values[:,:-1]).float(), torch.from_numpy(df_val.values[:,-1].astype(np.dtype('int64'))))"
   ]
  },
  {
   "cell_type": "code",
   "execution_count": 10,
   "id": "f0fcd542-4829-47e0-a642-6574ad3bc785",
   "metadata": {},
   "outputs": [],
   "source": [
    "train_dataset = data.TensorDataset(numerical_data,categorical_data,targets)\n",
    "val_dataset = data.TensorDataset(val_numerical_data, val_categorical_data, val_targets)"
   ]
  },
  {
   "cell_type": "code",
   "execution_count": 11,
   "id": "44f3b41f-468e-48fd-9555-612c636871ad",
   "metadata": {},
   "outputs": [
    {
     "data": {
      "text/plain": [
       "(tensor([2006.,  814.,    3.,  111.,  184.,    3.,    0.,    5.,    6.,    9.]),\n",
       " tensor([0., 0., 1., 0., 1., 1., 0., 0., 0., 1., 0., 1., 0., 0., 0., 0., 0., 0.,\n",
       "         0., 1., 0., 0., 0.]),\n",
       " tensor([1]))"
      ]
     },
     "execution_count": 11,
     "metadata": {},
     "output_type": "execute_result"
    }
   ],
   "source": [
    "next(iter(train_dataset))"
   ]
  },
  {
   "cell_type": "code",
   "execution_count": 12,
   "id": "f636304e-7368-49a8-8f0e-ba32a2355999",
   "metadata": {
    "tags": []
   },
   "outputs": [],
   "source": [
    "# train_data"
   ]
  },
  {
   "cell_type": "code",
   "execution_count": 13,
   "id": "25e29f3a-eade-4bac-bb0e-ccae22f993bd",
   "metadata": {
    "tags": []
   },
   "outputs": [
    {
     "data": {
      "text/plain": [
       "Index(['SalePrice', 'YearBuilt', 'Size(sqf)', 'Floor', 'HallwayType',\n",
       "       'HeatingType', 'AptManageType', 'N_Parkinglot(Ground)',\n",
       "       'N_Parkinglot(Basement)', 'TimeToBusStop', 'TimeToSubway', 'N_manager',\n",
       "       'N_elevators', 'SubwayStation', 'N_FacilitiesInApt',\n",
       "       'N_FacilitiesNearBy(Total)', 'N_SchoolNearBy(Total)', 'class'],\n",
       "      dtype='object')"
      ]
     },
     "execution_count": 13,
     "metadata": {},
     "output_type": "execute_result"
    }
   ],
   "source": [
    "train_data.columns"
   ]
  },
  {
   "cell_type": "code",
   "execution_count": 14,
   "id": "dd724d14-bd08-478d-8b20-f290ce4f28b8",
   "metadata": {
    "tags": []
   },
   "outputs": [],
   "source": [
    "# train_data"
   ]
  },
  {
   "cell_type": "code",
   "execution_count": 15,
   "id": "884f6696-0b05-4db6-913e-c79fa325099c",
   "metadata": {
    "tags": []
   },
   "outputs": [],
   "source": [
    "# fig = plt.figure(figsize = (15,20))\n",
    "# ax = fig.gca()\n",
    "# train_data.hist(ax=ax)"
   ]
  },
  {
   "cell_type": "code",
   "execution_count": 16,
   "id": "a90cec52-318a-4e52-8370-9aca500a64d9",
   "metadata": {},
   "outputs": [],
   "source": [
    "test_data = pd.read_csv('test_data.csv')"
   ]
  },
  {
   "cell_type": "code",
   "execution_count": 17,
   "id": "e7ff510a-c6c0-44ef-a614-f61d29a8524f",
   "metadata": {
    "tags": []
   },
   "outputs": [],
   "source": [
    "# test_data"
   ]
  },
  {
   "cell_type": "code",
   "execution_count": 18,
   "id": "b915b216-cc7b-4688-b35e-75be4463a6ac",
   "metadata": {},
   "outputs": [],
   "source": [
    "class Classifier(nn.Module):\n",
    "    def __init__(self):\n",
    "        super(Classifier, self).__init__()\n",
    "        self.emb_layer = nn.Linear(categorical_data.shape[1], categorical_data.shape[1])\n",
    "        self.act_emb = nn.Tanh()\n",
    "        self.layer1 = nn.Linear(33, 20)\n",
    "        self.bn1 = nn.BatchNorm1d(20)\n",
    "        self.act_1 =  nn.ReLU()\n",
    "        self.d1 = nn.Dropout(0.1)\n",
    "        self.layer2 = nn.Linear(20, 40)\n",
    "        self.bn2 = nn.BatchNorm1d(40)\n",
    "        self.act_2 = nn.ReLU()\n",
    "        self.d2 = nn.Dropout(0.1)\n",
    "        self.layer3 = nn.Linear(40, 10)\n",
    "        self.bn3 = nn.BatchNorm1d(10)\n",
    "        self.act_3 = nn.ReLU()\n",
    "        self.d3 = nn.Dropout(0.1)\n",
    "        self.layer4 = nn.Linear(10, 3)\n",
    "        self.act_4 = nn.ReLU()\n",
    "        # self.softmax = nn.Softmax(dim=1)\n",
    "        \n",
    "    def forward(self, x, cat_x):\n",
    "        cat_x_embedded = self.emb_layer(cat_x)\n",
    "        cat_x_embedded = self.act_emb(cat_x_embedded)\n",
    "        x = torch.cat([x,cat_x_embedded],dim=1)\n",
    "        # print(x)\n",
    "        x = self.d1(self.act_1(self.bn1(self.layer1(x))))\n",
    "        x = self.d2(self.act_2(self.bn2(self.layer2(x))))\n",
    "        x = self.d3(self.act_3(self.bn3(self.layer3(x))))\n",
    "        x = self.layer4(x)\n",
    "        # x = self.softmax(x)\n",
    "        return x"
   ]
  },
  {
   "cell_type": "code",
   "execution_count": 19,
   "id": "1f68080e-9a7c-4174-b789-6ce1b4cb814b",
   "metadata": {},
   "outputs": [],
   "source": [
    "# def get_accuracy(model, data):\n",
    "#     correct = 0\n",
    "#     total = 0\n",
    "#     model.eval()\n",
    "#     for imgs, labels in torch.utils.data.DataLoader(data, batch_size=64):\n",
    "#         # imgs, labels = imgs.to(device), labels.to(device)\n",
    "#         output = model(imgs)\n",
    "#         # print('OUT', output)\n",
    "#         pred = output.max(1, keepdim=True)[1] # get the index of the max logit\n",
    "#         # print('PRED', pred)\n",
    "#         correct += pred.eq(labels.view_as(pred)).sum().item()\n",
    "#         total += imgs.shape[0]\n",
    "#     return correct / total"
   ]
  },
  {
   "cell_type": "code",
   "execution_count": 20,
   "id": "d6b7a776-a1f1-43a6-8b90-22e3c67b961c",
   "metadata": {},
   "outputs": [],
   "source": [
    "model = Classifier()"
   ]
  },
  {
   "cell_type": "code",
   "execution_count": 21,
   "id": "324d9075-6b32-4192-927d-e8bc805bfff0",
   "metadata": {},
   "outputs": [],
   "source": [
    "def get_accuracy(model, data):\n",
    "    correct = 0\n",
    "    total = 0\n",
    "    model.eval() #*********#\n",
    "    for x, cat_x, labels in torch.utils.data.DataLoader(data, batch_size=64):\n",
    "        # imgs, labels = imgs.to(device), labels.to(device)\n",
    "        output = model(x, cat_x)\n",
    "        pred = output.max(1, keepdim=True)[1] # get the index of the max logit\n",
    "        correct += pred.eq(labels.view_as(pred)).sum().item()\n",
    "        total += x.shape[0]\n",
    "    return correct / total"
   ]
  },
  {
   "cell_type": "code",
   "execution_count": 22,
   "id": "8f7740c4-4898-4cac-99c4-ca391e190798",
   "metadata": {},
   "outputs": [],
   "source": [
    "def train(model, train, valid, batch_size=64, num_epochs=1, learn_rate=0.01, weight_decay=0):\n",
    "    train_loader = torch.utils.data.DataLoader(train,\n",
    "                                               batch_size=batch_size,\n",
    "                                               shuffle=True) # shuffle after every epoch\n",
    "    criterion = nn.CrossEntropyLoss()\n",
    "    optimizer = optim.Adam(model.parameters(),lr=learn_rate, weight_decay=weight_decay )\n",
    "#     optimizer = optim.SGD(model.parameters(), lr=learn_rate,momentum=0.9, weight_decay=weight_decay)\n",
    "\n",
    "    epochs, losses, train_acc, val_acc = [], [], [], []\n",
    "\n",
    "    # training\n",
    "#     n = 0 # the number of iterations\n",
    "    for n in range(num_epochs):\n",
    "        epoch_loss = 0\n",
    "        train_accuracy = 0\n",
    "        val_accuracy = 0\n",
    "        printing = True\n",
    "        for x, cat_x, labels in iter(train_loader):\n",
    "            # imgs, labels = imgs.to(device), labels.to(device)\n",
    "            model.train()\n",
    "            out = model(x, cat_x).unsqueeze(dim=2)         # forward pass\n",
    "            # print('OUT', out)\n",
    "            loss = criterion(out, labels) # compute the total loss\n",
    "            loss.backward()               # backward pass (compute parameter updates)\n",
    "            optimizer.step()              # make the updates for each parameter\n",
    "            optimizer.zero_grad()         \n",
    "\n",
    "            # save the current training information\n",
    "            \n",
    "            epoch_loss += float(loss)\n",
    "            # losses.append(float(loss)/batch_size)        # compute *average* loss\n",
    "            # train_acc.append(get_accuracy(model, train)) # compute training accuracy \n",
    "            # val_acc.append(get_accuracy(model, valid))   # compute validation accuracy\n",
    "            train_accuracy += get_accuracy(model, train)\n",
    "            val_accuracy += get_accuracy(model, valid)\n",
    "            \n",
    "            \n",
    "        losses.append(epoch_loss/(batch_size * len(train_loader)))\n",
    "        epochs.append(n)\n",
    "        train_acc.append(train_accuracy/len(train_loader))\n",
    "        val_acc.append(val_accuracy/len(train_loader))\n",
    "        \n",
    "        if n%10==0:\n",
    "            print(f\"Epoch {n}\")\n",
    "        \n",
    "    \n",
    "    plot_results(epochs, losses, train_acc, val_acc)\n",
    "\n",
    "            "
   ]
  },
  {
   "cell_type": "code",
   "execution_count": 23,
   "id": "5a9cb789-4585-436d-bce7-ad27fe37c829",
   "metadata": {},
   "outputs": [],
   "source": [
    "def plot_results(epochs, losses, train_acc, val_acc):\n",
    "    # plotting\n",
    "    plt.figure(figsize=(10,4))\n",
    "    plt.subplot(1,2,1)\n",
    "    plt.title(\"Training Curve\")\n",
    "    plt.plot(epochs, losses, label=\"Train\")\n",
    "    plt.xlabel(\"Iterations\")\n",
    "    plt.ylabel(\"Loss\")\n",
    "\n",
    "    plt.subplot(1,2,2)\n",
    "    plt.title(\"Training Curve\")\n",
    "    plt.plot(epochs, train_acc, label=\"Train\")\n",
    "    plt.plot(epochs, val_acc, label=\"Validation\")\n",
    "    plt.xlabel(\"Iterations\")\n",
    "    plt.ylabel(\"Training Accuracy\")\n",
    "    plt.legend(loc='best')\n",
    "    plt.show()\n",
    "\n",
    "    print(\"Final Training Accuracy: {}\".format(train_acc[-1]))\n",
    "    print(\"Final Validation Accuracy: {}\".format(val_acc[-1]))"
   ]
  },
  {
   "cell_type": "code",
   "execution_count": 24,
   "id": "519f0c01-2e17-4c1c-a5ca-eaa47fe4d8b6",
   "metadata": {},
   "outputs": [
    {
     "name": "stdout",
     "output_type": "stream",
     "text": [
      "Epoch 0\n",
      "Epoch 10\n",
      "Epoch 20\n",
      "Epoch 30\n",
      "Epoch 40\n",
      "Epoch 50\n",
      "Epoch 60\n",
      "Epoch 70\n",
      "Epoch 80\n",
      "Epoch 90\n",
      "Epoch 100\n",
      "Epoch 110\n",
      "Epoch 120\n",
      "Epoch 130\n",
      "Epoch 140\n",
      "Epoch 150\n",
      "Epoch 160\n",
      "Epoch 170\n",
      "Epoch 180\n",
      "Epoch 190\n",
      "Epoch 200\n",
      "Epoch 210\n",
      "Epoch 220\n",
      "Epoch 230\n",
      "Epoch 240\n",
      "Epoch 250\n",
      "Epoch 260\n",
      "Epoch 270\n",
      "Epoch 280\n",
      "Epoch 290\n"
     ]
    },
    {
     "data": {
      "image/png": "[encoded data removed]",
      "text/plain": [
       "<Figure size 720x288 with 2 Axes>"
      ]
     },
     "metadata": {
      "needs_background": "light"
     },
     "output_type": "display_data"
    },
    {
     "name": "stdout",
     "output_type": "stream",
     "text": [
      "Final Training Accuracy: 0.8447781485601286\n",
      "Final Validation Accuracy: 0.8150177496527254\n"
     ]
    }
   ],
   "source": [
    "train(model, train_dataset, val_dataset, num_epochs=300, learn_rate=0.001, weight_decay=0.02)"
   ]
  },
  {
   "cell_type": "code",
   "execution_count": null,
   "id": "a11503a3-681f-4745-96eb-ec3dfa815634",
   "metadata": {},
   "outputs": [],
   "source": [
    "# saving model to file\n",
    "state_dict = model.state_dict()\n",
    "torch.save(state_dict, \"neural_net.tar\")"
   ]
  },
  {
   "cell_type": "code",
   "execution_count": null,
   "id": "b172db5b-1c48-488d-8fc5-61403a89f935",
   "metadata": {},
   "outputs": [],
   "source": []
  }
 ],
 "metadata": {
  "kernelspec": {
   "display_name": "Python 3 (ipykernel)",
   "language": "python",
   "name": "python3"
  },
  "language_info": {
   "codemirror_mode": {
    "name": "ipython",
    "version": 3
   },
   "file_extension": ".py",
   "mimetype": "text/x-python",
   "name": "python",
   "nbconvert_exporter": "python",
   "pygments_lexer": "ipython3",
   "version": "3.8.0"
  }
 },
 "nbformat": 4,
 "nbformat_minor": 5
}
