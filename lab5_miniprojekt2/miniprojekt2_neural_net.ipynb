{
  "cells": [
    {
      "cell_type": "code",
      "execution_count": 1,
      "id": "ffd98f3b-a7a0-4072-9577-4fdfad76e823",
      "metadata": {
        "id": "ffd98f3b-a7a0-4072-9577-4fdfad76e823"
      },
      "outputs": [],
      "source": [
        "import pandas as pd\n",
        "import matplotlib.pyplot as plt\n",
        "import torch, torchvision\n",
        "import torch.optim as optim\n",
        "import torch.nn as nn\n",
        "import torch.utils.data as data\n",
        "import numpy as np"
      ]
    },
    {
      "cell_type": "code",
      "source": [
        "from google.colab import drive\n",
        "drive.mount('/content/drive')"
      ],
      "metadata": {
        "colab": {
          "base_uri": "https://localhost:8080/"
        },
        "id": "fm9r7TCpXjtF",
        "outputId": "2174959c-4650-43d7-8234-1761a87dcbf1"
      },
      "id": "fm9r7TCpXjtF",
      "execution_count": 2,
      "outputs": [
        {
          "output_type": "stream",
          "name": "stdout",
          "text": [
            "Drive already mounted at /content/drive; to attempt to forcibly remount, call drive.mount(\"/content/drive\", force_remount=True).\n"
          ]
        }
      ]
    },
    {
      "cell_type": "code",
      "source": [
        "torch.cuda.is_available()"
      ],
      "metadata": {
        "colab": {
          "base_uri": "https://localhost:8080/"
        },
        "id": "pFAoK_GcXjvt",
        "outputId": "e74e0bbe-ba4c-49e5-b535-f894fb7e5b53"
      },
      "id": "pFAoK_GcXjvt",
      "execution_count": 3,
      "outputs": [
        {
          "output_type": "execute_result",
          "data": {
            "text/plain": [
              "True"
            ]
          },
          "metadata": {},
          "execution_count": 3
        }
      ]
    },
    {
      "cell_type": "code",
      "source": [
        "import os\n",
        "os.chdir(\"/content/drive/My Drive/SSNE_repo/SSNE/miniprojekt2\")"
      ],
      "metadata": {
        "id": "hBjZvgLLXzIL"
      },
      "id": "hBjZvgLLXzIL",
      "execution_count": 4,
      "outputs": []
    },
    {
      "cell_type": "code",
      "source": [
        "device = torch.device(\"cuda\") \n",
        "device"
      ],
      "metadata": {
        "colab": {
          "base_uri": "https://localhost:8080/"
        },
        "id": "hnrctW3iYGFu",
        "outputId": "ea89a968-d77b-461e-d829-ea4eef4e3f73"
      },
      "id": "hnrctW3iYGFu",
      "execution_count": 5,
      "outputs": [
        {
          "output_type": "execute_result",
          "data": {
            "text/plain": [
              "device(type='cuda')"
            ]
          },
          "metadata": {},
          "execution_count": 5
        }
      ]
    },
    {
      "cell_type": "code",
      "execution_count": 6,
      "id": "9635fabb-5c31-447e-babc-ea3a7b9844fe",
      "metadata": {
        "id": "9635fabb-5c31-447e-babc-ea3a7b9844fe"
      },
      "outputs": [],
      "source": [
        "torch.manual_seed(42)\n",
        "if torch.cuda.is_available(): \n",
        "    torch.cuda.manual_seed(42)\n",
        "    torch.cuda.manual_seed_all(42)"
      ]
    },
    {
      "cell_type": "code",
      "execution_count": 7,
      "id": "105a0caf-58f1-456c-bd73-deeaede46b7f",
      "metadata": {
        "id": "105a0caf-58f1-456c-bd73-deeaede46b7f"
      },
      "outputs": [],
      "source": [
        "train_data = pd.read_csv('train_data.csv')"
      ]
    },
    {
      "cell_type": "code",
      "source": [
        "train_data['TimeToBusStop'] = train_data['TimeToBusStop'].map({'0~5min': 1, '5min~10min': 2, '10min~15min': 3})\n",
        "train_data['TimeToSubway'] = train_data['TimeToSubway'].map({'0-5min': 1, '5min~10min': 2, '10min~15min': 3, '15min~20min': 4, 'no_bus_stop_nearby': 5})"
      ],
      "metadata": {
        "id": "idEoNZjiScFs"
      },
      "id": "idEoNZjiScFs",
      "execution_count": 8,
      "outputs": []
    },
    {
      "cell_type": "code",
      "execution_count": 9,
      "id": "a904f74e-14f9-4e67-9d89-126ebfe67bad",
      "metadata": {
        "id": "a904f74e-14f9-4e67-9d89-126ebfe67bad"
      },
      "outputs": [],
      "source": [
        "train_data['class'] = pd.cut(x=train_data['SalePrice'], bins=[train_data['SalePrice'].min() - 1, 100000, 350000, train_data['SalePrice'].max() + 1], labels=[0,1,2])"
      ]
    },
    {
      "cell_type": "code",
      "source": [
        "train_data"
      ],
      "metadata": {
        "colab": {
          "base_uri": "https://localhost:8080/",
          "height": 488
        },
        "id": "RC18oi-xS_zi",
        "outputId": "5f7f047f-006e-47b9-da26-7202ba475b9d"
      },
      "id": "RC18oi-xS_zi",
      "execution_count": 10,
      "outputs": [
        {
          "output_type": "execute_result",
          "data": {
            "text/plain": [
              "      SalePrice  YearBuilt  Size(sqf)  Floor HallwayType         HeatingType  \\\n",
              "0        141592       2006        814      3    terraced  individual_heating   \n",
              "1         51327       1985        587      8    corridor  individual_heating   \n",
              "2         48672       1985        587      6    corridor  individual_heating   \n",
              "3        380530       2006       2056      8    terraced  individual_heating   \n",
              "4         78318       1992        644      2       mixed  individual_heating   \n",
              "...         ...        ...        ...    ...         ...                 ...   \n",
              "4119     570796       2007       1928     24    terraced  individual_heating   \n",
              "4120     307079       2015        644     22    terraced  individual_heating   \n",
              "4121     357522       2007        868     20    terraced  individual_heating   \n",
              "4122     312389       1978       1327      1    corridor  individual_heating   \n",
              "4123     393805       2007        868     13    terraced  individual_heating   \n",
              "\n",
              "            AptManageType  N_Parkinglot(Ground)  N_Parkinglot(Basement)  \\\n",
              "0     management_in_trust                 111.0                   184.0   \n",
              "1         self_management                  80.0                    76.0   \n",
              "2         self_management                  80.0                    76.0   \n",
              "3     management_in_trust                 249.0                   536.0   \n",
              "4         self_management                 142.0                    79.0   \n",
              "...                   ...                   ...                     ...   \n",
              "4119  management_in_trust                   0.0                  1270.0   \n",
              "4120  management_in_trust                 102.0                   400.0   \n",
              "4121  management_in_trust                   0.0                  1270.0   \n",
              "4122      self_management                  87.0                     0.0   \n",
              "4123  management_in_trust                   0.0                  1270.0   \n",
              "\n",
              "      TimeToBusStop  TimeToSubway  N_manager  N_elevators  \\\n",
              "0                 2             3        3.0          0.0   \n",
              "1                 1             2        2.0          2.0   \n",
              "2                 1             2        2.0          2.0   \n",
              "3                 1             1        5.0         11.0   \n",
              "4                 2             4        4.0          8.0   \n",
              "...             ...           ...        ...          ...   \n",
              "4119              1             1       14.0         16.0   \n",
              "4120              1             2        5.0         10.0   \n",
              "4121              1             1       14.0         16.0   \n",
              "4122              1             1        1.0          4.0   \n",
              "4123              1             1       14.0         16.0   \n",
              "\n",
              "              SubwayStation  N_FacilitiesInApt  N_FacilitiesNearBy(Total)  \\\n",
              "0     Kyungbuk_uni_hospital                  5                        6.0   \n",
              "1                     Daegu                  3                       12.0   \n",
              "2                     Daegu                  3                       12.0   \n",
              "3                   Sin-nam                  5                        3.0   \n",
              "4                 Myung-duk                  3                        9.0   \n",
              "...                     ...                ...                        ...   \n",
              "4119  Kyungbuk_uni_hospital                 10                        9.0   \n",
              "4120                  Daegu                  7                        7.0   \n",
              "4121  Kyungbuk_uni_hospital                 10                        9.0   \n",
              "4122  Kyungbuk_uni_hospital                  3                        7.0   \n",
              "4123  Kyungbuk_uni_hospital                 10                        9.0   \n",
              "\n",
              "      N_SchoolNearBy(Total) class  \n",
              "0                       9.0     1  \n",
              "1                       4.0     0  \n",
              "2                       4.0     0  \n",
              "3                       7.0     2  \n",
              "4                      14.0     0  \n",
              "...                     ...   ...  \n",
              "4119                   10.0     2  \n",
              "4120                   11.0     1  \n",
              "4121                   10.0     2  \n",
              "4122                   11.0     1  \n",
              "4123                   10.0     2  \n",
              "\n",
              "[4124 rows x 18 columns]"
            ],
            "text/html": [
              "\n",
              "  <div id=\"df-22cdfcc2-5f5c-4be9-826c-6c97bf88dd58\">\n",
              "    <div class=\"colab-df-container\">\n",
              "      <div>\n",
              "<style scoped>\n",
              "    .dataframe tbody tr th:only-of-type {\n",
              "        vertical-align: middle;\n",
              "    }\n",
              "\n",
              "    .dataframe tbody tr th {\n",
              "        vertical-align: top;\n",
              "    }\n",
              "\n",
              "    .dataframe thead th {\n",
              "        text-align: right;\n",
              "    }\n",
              "</style>\n",
              "<table border=\"1\" class=\"dataframe\">\n",
              "  <thead>\n",
              "    <tr style=\"text-align: right;\">\n",
              "      <th></th>\n",
              "      <th>SalePrice</th>\n",
              "      <th>YearBuilt</th>\n",
              "      <th>Size(sqf)</th>\n",
              "      <th>Floor</th>\n",
              "      <th>HallwayType</th>\n",
              "      <th>HeatingType</th>\n",
              "      <th>AptManageType</th>\n",
              "      <th>N_Parkinglot(Ground)</th>\n",
              "      <th>N_Parkinglot(Basement)</th>\n",
              "      <th>TimeToBusStop</th>\n",
              "      <th>TimeToSubway</th>\n",
              "      <th>N_manager</th>\n",
              "      <th>N_elevators</th>\n",
              "      <th>SubwayStation</th>\n",
              "      <th>N_FacilitiesInApt</th>\n",
              "      <th>N_FacilitiesNearBy(Total)</th>\n",
              "      <th>N_SchoolNearBy(Total)</th>\n",
              "      <th>class</th>\n",
              "    </tr>\n",
              "  </thead>\n",
              "  <tbody>\n",
              "    <tr>\n",
              "      <th>0</th>\n",
              "      <td>141592</td>\n",
              "      <td>2006</td>\n",
              "      <td>814</td>\n",
              "      <td>3</td>\n",
              "      <td>terraced</td>\n",
              "      <td>individual_heating</td>\n",
              "      <td>management_in_trust</td>\n",
              "      <td>111.0</td>\n",
              "      <td>184.0</td>\n",
              "      <td>2</td>\n",
              "      <td>3</td>\n",
              "      <td>3.0</td>\n",
              "      <td>0.0</td>\n",
              "      <td>Kyungbuk_uni_hospital</td>\n",
              "      <td>5</td>\n",
              "      <td>6.0</td>\n",
              "      <td>9.0</td>\n",
              "      <td>1</td>\n",
              "    </tr>\n",
              "    <tr>\n",
              "      <th>1</th>\n",
              "      <td>51327</td>\n",
              "      <td>1985</td>\n",
              "      <td>587</td>\n",
              "      <td>8</td>\n",
              "      <td>corridor</td>\n",
              "      <td>individual_heating</td>\n",
              "      <td>self_management</td>\n",
              "      <td>80.0</td>\n",
              "      <td>76.0</td>\n",
              "      <td>1</td>\n",
              "      <td>2</td>\n",
              "      <td>2.0</td>\n",
              "      <td>2.0</td>\n",
              "      <td>Daegu</td>\n",
              "      <td>3</td>\n",
              "      <td>12.0</td>\n",
              "      <td>4.0</td>\n",
              "      <td>0</td>\n",
              "    </tr>\n",
              "    <tr>\n",
              "      <th>2</th>\n",
              "      <td>48672</td>\n",
              "      <td>1985</td>\n",
              "      <td>587</td>\n",
              "      <td>6</td>\n",
              "      <td>corridor</td>\n",
              "      <td>individual_heating</td>\n",
              "      <td>self_management</td>\n",
              "      <td>80.0</td>\n",
              "      <td>76.0</td>\n",
              "      <td>1</td>\n",
              "      <td>2</td>\n",
              "      <td>2.0</td>\n",
              "      <td>2.0</td>\n",
              "      <td>Daegu</td>\n",
              "      <td>3</td>\n",
              "      <td>12.0</td>\n",
              "      <td>4.0</td>\n",
              "      <td>0</td>\n",
              "    </tr>\n",
              "    <tr>\n",
              "      <th>3</th>\n",
              "      <td>380530</td>\n",
              "      <td>2006</td>\n",
              "      <td>2056</td>\n",
              "      <td>8</td>\n",
              "      <td>terraced</td>\n",
              "      <td>individual_heating</td>\n",
              "      <td>management_in_trust</td>\n",
              "      <td>249.0</td>\n",
              "      <td>536.0</td>\n",
              "      <td>1</td>\n",
              "      <td>1</td>\n",
              "      <td>5.0</td>\n",
              "      <td>11.0</td>\n",
              "      <td>Sin-nam</td>\n",
              "      <td>5</td>\n",
              "      <td>3.0</td>\n",
              "      <td>7.0</td>\n",
              "      <td>2</td>\n",
              "    </tr>\n",
              "    <tr>\n",
              "      <th>4</th>\n",
              "      <td>78318</td>\n",
              "      <td>1992</td>\n",
              "      <td>644</td>\n",
              "      <td>2</td>\n",
              "      <td>mixed</td>\n",
              "      <td>individual_heating</td>\n",
              "      <td>self_management</td>\n",
              "      <td>142.0</td>\n",
              "      <td>79.0</td>\n",
              "      <td>2</td>\n",
              "      <td>4</td>\n",
              "      <td>4.0</td>\n",
              "      <td>8.0</td>\n",
              "      <td>Myung-duk</td>\n",
              "      <td>3</td>\n",
              "      <td>9.0</td>\n",
              "      <td>14.0</td>\n",
              "      <td>0</td>\n",
              "    </tr>\n",
              "    <tr>\n",
              "      <th>...</th>\n",
              "      <td>...</td>\n",
              "      <td>...</td>\n",
              "      <td>...</td>\n",
              "      <td>...</td>\n",
              "      <td>...</td>\n",
              "      <td>...</td>\n",
              "      <td>...</td>\n",
              "      <td>...</td>\n",
              "      <td>...</td>\n",
              "      <td>...</td>\n",
              "      <td>...</td>\n",
              "      <td>...</td>\n",
              "      <td>...</td>\n",
              "      <td>...</td>\n",
              "      <td>...</td>\n",
              "      <td>...</td>\n",
              "      <td>...</td>\n",
              "      <td>...</td>\n",
              "    </tr>\n",
              "    <tr>\n",
              "      <th>4119</th>\n",
              "      <td>570796</td>\n",
              "      <td>2007</td>\n",
              "      <td>1928</td>\n",
              "      <td>24</td>\n",
              "      <td>terraced</td>\n",
              "      <td>individual_heating</td>\n",
              "      <td>management_in_trust</td>\n",
              "      <td>0.0</td>\n",
              "      <td>1270.0</td>\n",
              "      <td>1</td>\n",
              "      <td>1</td>\n",
              "      <td>14.0</td>\n",
              "      <td>16.0</td>\n",
              "      <td>Kyungbuk_uni_hospital</td>\n",
              "      <td>10</td>\n",
              "      <td>9.0</td>\n",
              "      <td>10.0</td>\n",
              "      <td>2</td>\n",
              "    </tr>\n",
              "    <tr>\n",
              "      <th>4120</th>\n",
              "      <td>307079</td>\n",
              "      <td>2015</td>\n",
              "      <td>644</td>\n",
              "      <td>22</td>\n",
              "      <td>terraced</td>\n",
              "      <td>individual_heating</td>\n",
              "      <td>management_in_trust</td>\n",
              "      <td>102.0</td>\n",
              "      <td>400.0</td>\n",
              "      <td>1</td>\n",
              "      <td>2</td>\n",
              "      <td>5.0</td>\n",
              "      <td>10.0</td>\n",
              "      <td>Daegu</td>\n",
              "      <td>7</td>\n",
              "      <td>7.0</td>\n",
              "      <td>11.0</td>\n",
              "      <td>1</td>\n",
              "    </tr>\n",
              "    <tr>\n",
              "      <th>4121</th>\n",
              "      <td>357522</td>\n",
              "      <td>2007</td>\n",
              "      <td>868</td>\n",
              "      <td>20</td>\n",
              "      <td>terraced</td>\n",
              "      <td>individual_heating</td>\n",
              "      <td>management_in_trust</td>\n",
              "      <td>0.0</td>\n",
              "      <td>1270.0</td>\n",
              "      <td>1</td>\n",
              "      <td>1</td>\n",
              "      <td>14.0</td>\n",
              "      <td>16.0</td>\n",
              "      <td>Kyungbuk_uni_hospital</td>\n",
              "      <td>10</td>\n",
              "      <td>9.0</td>\n",
              "      <td>10.0</td>\n",
              "      <td>2</td>\n",
              "    </tr>\n",
              "    <tr>\n",
              "      <th>4122</th>\n",
              "      <td>312389</td>\n",
              "      <td>1978</td>\n",
              "      <td>1327</td>\n",
              "      <td>1</td>\n",
              "      <td>corridor</td>\n",
              "      <td>individual_heating</td>\n",
              "      <td>self_management</td>\n",
              "      <td>87.0</td>\n",
              "      <td>0.0</td>\n",
              "      <td>1</td>\n",
              "      <td>1</td>\n",
              "      <td>1.0</td>\n",
              "      <td>4.0</td>\n",
              "      <td>Kyungbuk_uni_hospital</td>\n",
              "      <td>3</td>\n",
              "      <td>7.0</td>\n",
              "      <td>11.0</td>\n",
              "      <td>1</td>\n",
              "    </tr>\n",
              "    <tr>\n",
              "      <th>4123</th>\n",
              "      <td>393805</td>\n",
              "      <td>2007</td>\n",
              "      <td>868</td>\n",
              "      <td>13</td>\n",
              "      <td>terraced</td>\n",
              "      <td>individual_heating</td>\n",
              "      <td>management_in_trust</td>\n",
              "      <td>0.0</td>\n",
              "      <td>1270.0</td>\n",
              "      <td>1</td>\n",
              "      <td>1</td>\n",
              "      <td>14.0</td>\n",
              "      <td>16.0</td>\n",
              "      <td>Kyungbuk_uni_hospital</td>\n",
              "      <td>10</td>\n",
              "      <td>9.0</td>\n",
              "      <td>10.0</td>\n",
              "      <td>2</td>\n",
              "    </tr>\n",
              "  </tbody>\n",
              "</table>\n",
              "<p>4124 rows × 18 columns</p>\n",
              "</div>\n",
              "      <button class=\"colab-df-convert\" onclick=\"convertToInteractive('df-22cdfcc2-5f5c-4be9-826c-6c97bf88dd58')\"\n",
              "              title=\"Convert this dataframe to an interactive table.\"\n",
              "              style=\"display:none;\">\n",
              "        \n",
              "  <svg xmlns=\"http://www.w3.org/2000/svg\" height=\"24px\"viewBox=\"0 0 24 24\"\n",
              "       width=\"24px\">\n",
              "    <path d=\"M0 0h24v24H0V0z\" fill=\"none\"/>\n",
              "    <path d=\"M18.56 5.44l.94 2.06.94-2.06 2.06-.94-2.06-.94-.94-2.06-.94 2.06-2.06.94zm-11 1L8.5 8.5l.94-2.06 2.06-.94-2.06-.94L8.5 2.5l-.94 2.06-2.06.94zm10 10l.94 2.06.94-2.06 2.06-.94-2.06-.94-.94-2.06-.94 2.06-2.06.94z\"/><path d=\"M17.41 7.96l-1.37-1.37c-.4-.4-.92-.59-1.43-.59-.52 0-1.04.2-1.43.59L10.3 9.45l-7.72 7.72c-.78.78-.78 2.05 0 2.83L4 21.41c.39.39.9.59 1.41.59.51 0 1.02-.2 1.41-.59l7.78-7.78 2.81-2.81c.8-.78.8-2.07 0-2.86zM5.41 20L4 18.59l7.72-7.72 1.47 1.35L5.41 20z\"/>\n",
              "  </svg>\n",
              "      </button>\n",
              "      \n",
              "  <style>\n",
              "    .colab-df-container {\n",
              "      display:flex;\n",
              "      flex-wrap:wrap;\n",
              "      gap: 12px;\n",
              "    }\n",
              "\n",
              "    .colab-df-convert {\n",
              "      background-color: #E8F0FE;\n",
              "      border: none;\n",
              "      border-radius: 50%;\n",
              "      cursor: pointer;\n",
              "      display: none;\n",
              "      fill: #1967D2;\n",
              "      height: 32px;\n",
              "      padding: 0 0 0 0;\n",
              "      width: 32px;\n",
              "    }\n",
              "\n",
              "    .colab-df-convert:hover {\n",
              "      background-color: #E2EBFA;\n",
              "      box-shadow: 0px 1px 2px rgba(60, 64, 67, 0.3), 0px 1px 3px 1px rgba(60, 64, 67, 0.15);\n",
              "      fill: #174EA6;\n",
              "    }\n",
              "\n",
              "    [theme=dark] .colab-df-convert {\n",
              "      background-color: #3B4455;\n",
              "      fill: #D2E3FC;\n",
              "    }\n",
              "\n",
              "    [theme=dark] .colab-df-convert:hover {\n",
              "      background-color: #434B5C;\n",
              "      box-shadow: 0px 1px 3px 1px rgba(0, 0, 0, 0.15);\n",
              "      filter: drop-shadow(0px 1px 2px rgba(0, 0, 0, 0.3));\n",
              "      fill: #FFFFFF;\n",
              "    }\n",
              "  </style>\n",
              "\n",
              "      <script>\n",
              "        const buttonEl =\n",
              "          document.querySelector('#df-22cdfcc2-5f5c-4be9-826c-6c97bf88dd58 button.colab-df-convert');\n",
              "        buttonEl.style.display =\n",
              "          google.colab.kernel.accessAllowed ? 'block' : 'none';\n",
              "\n",
              "        async function convertToInteractive(key) {\n",
              "          const element = document.querySelector('#df-22cdfcc2-5f5c-4be9-826c-6c97bf88dd58');\n",
              "          const dataTable =\n",
              "            await google.colab.kernel.invokeFunction('convertToInteractive',\n",
              "                                                     [key], {});\n",
              "          if (!dataTable) return;\n",
              "\n",
              "          const docLinkHtml = 'Like what you see? Visit the ' +\n",
              "            '<a target=\"_blank\" href=https://colab.research.google.com/notebooks/data_table.ipynb>data table notebook</a>'\n",
              "            + ' to learn more about interactive tables.';\n",
              "          element.innerHTML = '';\n",
              "          dataTable['output_type'] = 'display_data';\n",
              "          await google.colab.output.renderOutput(dataTable, element);\n",
              "          const docLink = document.createElement('div');\n",
              "          docLink.innerHTML = docLinkHtml;\n",
              "          element.appendChild(docLink);\n",
              "        }\n",
              "      </script>\n",
              "    </div>\n",
              "  </div>\n",
              "  "
            ]
          },
          "metadata": {},
          "execution_count": 10
        }
      ]
    },
    {
      "cell_type": "code",
      "execution_count": 11,
      "id": "ab393789-fa84-463f-9e13-4dd6f895fd6c",
      "metadata": {
        "id": "ab393789-fa84-463f-9e13-4dd6f895fd6c"
      },
      "outputs": [],
      "source": [
        "features = ['YearBuilt', 'Size(sqf)', 'Floor', 'N_Parkinglot(Ground)',\n",
        "       'N_Parkinglot(Basement)',  'N_manager',\n",
        "       'N_elevators', 'N_FacilitiesInApt',\n",
        "       'N_FacilitiesNearBy(Total)', 'N_SchoolNearBy(Total)',\n",
        "       'TimeToBusStop', 'TimeToSubway']\n",
        "cat_features = ['HallwayType', 'HeatingType', 'AptManageType', 'SubwayStation']\n",
        "to_predict = ['class']"
      ]
    },
    {
      "cell_type": "code",
      "execution_count": 12,
      "id": "37eff32c-c50c-424c-baa7-122d59e03b61",
      "metadata": {
        "id": "37eff32c-c50c-424c-baa7-122d59e03b61"
      },
      "outputs": [],
      "source": [
        "categorical_values = pd.get_dummies(train_data[cat_features])"
      ]
    },
    {
      "cell_type": "code",
      "execution_count": 13,
      "id": "da2a9464-d03e-4e8c-945a-728adf030a6c",
      "metadata": {
        "id": "da2a9464-d03e-4e8c-945a-728adf030a6c"
      },
      "outputs": [],
      "source": [
        "train_indices = np.random.rand(len(train_data)) < 0.95"
      ]
    },
    {
      "cell_type": "code",
      "execution_count": 14,
      "id": "edcbe106-fcff-4575-952b-4061ae262648",
      "metadata": {
        "id": "edcbe106-fcff-4575-952b-4061ae262648"
      },
      "outputs": [],
      "source": [
        "numerical_data = torch.from_numpy(train_data[features].values[train_indices]).float()\n",
        "categorical_data = torch.from_numpy(categorical_values.values[train_indices]).float()\n",
        "targets = torch.from_numpy(train_data[to_predict].values[train_indices].astype(np.dtype('int64')))\n",
        "\n",
        "val_numerical_data = torch.from_numpy(train_data[features].values[~train_indices]).float()\n",
        "val_categorical_data = torch.from_numpy(categorical_values.values[~train_indices]).float()\n",
        "val_targets = torch.from_numpy(train_data[to_predict].values[~train_indices].astype(np.dtype('int64')))"
      ]
    },
    {
      "cell_type": "code",
      "execution_count": 15,
      "id": "f0fcd542-4829-47e0-a642-6574ad3bc785",
      "metadata": {
        "id": "f0fcd542-4829-47e0-a642-6574ad3bc785"
      },
      "outputs": [],
      "source": [
        "train_dataset = data.TensorDataset(numerical_data,categorical_data,targets)\n",
        "val_dataset = data.TensorDataset(val_numerical_data, val_categorical_data, val_targets)"
      ]
    },
    {
      "cell_type": "code",
      "execution_count": 16,
      "id": "25e29f3a-eade-4bac-bb0e-ccae22f993bd",
      "metadata": {
        "tags": [],
        "colab": {
          "base_uri": "https://localhost:8080/"
        },
        "id": "25e29f3a-eade-4bac-bb0e-ccae22f993bd",
        "outputId": "888dab81-7359-43db-ba4a-8cf49afaae04"
      },
      "outputs": [
        {
          "output_type": "execute_result",
          "data": {
            "text/plain": [
              "Index(['SalePrice', 'YearBuilt', 'Size(sqf)', 'Floor', 'HallwayType',\n",
              "       'HeatingType', 'AptManageType', 'N_Parkinglot(Ground)',\n",
              "       'N_Parkinglot(Basement)', 'TimeToBusStop', 'TimeToSubway', 'N_manager',\n",
              "       'N_elevators', 'SubwayStation', 'N_FacilitiesInApt',\n",
              "       'N_FacilitiesNearBy(Total)', 'N_SchoolNearBy(Total)', 'class'],\n",
              "      dtype='object')"
            ]
          },
          "metadata": {},
          "execution_count": 16
        }
      ],
      "source": [
        "train_data.columns"
      ]
    },
    {
      "cell_type": "code",
      "execution_count": 17,
      "id": "b915b216-cc7b-4688-b35e-75be4463a6ac",
      "metadata": {
        "id": "b915b216-cc7b-4688-b35e-75be4463a6ac"
      },
      "outputs": [],
      "source": [
        "class Classifier(nn.Module):\n",
        "    def __init__(self):\n",
        "        super(Classifier, self).__init__()\n",
        "        self.emb_layer = nn.Linear(categorical_data.shape[1], categorical_data.shape[1])\n",
        "        self.act_emb = nn.Tanh()\n",
        "        self.layer1 = nn.Linear(27, 50)\n",
        "        self.bn1 = nn.BatchNorm1d(50)\n",
        "        self.act_1 =  nn.ReLU()\n",
        "        self.d1 = nn.Dropout(0.1)\n",
        "        self.layer2 = nn.Linear(50, 80)\n",
        "        self.bn2 = nn.BatchNorm1d(80)\n",
        "        self.act_2 = nn.ReLU()\n",
        "        self.d2 = nn.Dropout(0.1)\n",
        "        self.layer3 = nn.Linear(80, 40)\n",
        "        self.bn3 = nn.BatchNorm1d(40)\n",
        "        self.act_3 = nn.ReLU()\n",
        "        self.d3 = nn.Dropout(0.1)\n",
        "        self.layer4 = nn.Linear(40, 12)\n",
        "        self.bn4 = nn.BatchNorm1d(12)\n",
        "        self.act_4 = nn.ReLU()\n",
        "        self.d4 = nn.Dropout(0.1)\n",
        "        self.layer5 = nn.Linear(12, 3)\n",
        "        self.act_5 = nn.ReLU()\n",
        "        # self.softmax = nn.Softmax(dim=1)\n",
        "        \n",
        "    def forward(self, x, cat_x):\n",
        "        cat_x_embedded = self.emb_layer(cat_x)\n",
        "        cat_x_embedded = self.act_emb(cat_x_embedded)\n",
        "        x = torch.cat([x,cat_x_embedded],dim=1)\n",
        "        # print(x)\n",
        "        x = self.d1(self.act_1(self.bn1(self.layer1(x))))\n",
        "        x = self.d2(self.act_2(self.bn2(self.layer2(x))))\n",
        "        x = self.d3(self.act_3(self.bn3(self.layer3(x))))\n",
        "        x = self.d4(self.act_4(self.bn4(self.layer4(x))))\n",
        "        x = self.layer5(x)\n",
        "        # x = self.softmax(x)\n",
        "        return x"
      ]
    },
    {
      "cell_type": "code",
      "execution_count": 18,
      "id": "d6b7a776-a1f1-43a6-8b90-22e3c67b961c",
      "metadata": {
        "id": "d6b7a776-a1f1-43a6-8b90-22e3c67b961c"
      },
      "outputs": [],
      "source": [
        "model = Classifier()"
      ]
    },
    {
      "cell_type": "code",
      "execution_count": 19,
      "id": "324d9075-6b32-4192-927d-e8bc805bfff0",
      "metadata": {
        "id": "324d9075-6b32-4192-927d-e8bc805bfff0"
      },
      "outputs": [],
      "source": [
        "def get_accuracy(model, data):\n",
        "    correct = 0\n",
        "    total = 0\n",
        "    model.eval() #*********#\n",
        "    for x, cat_x, labels in torch.utils.data.DataLoader(data, batch_size=64):\n",
        "        # moving to device\n",
        "        x, cat_x, labels = x.to(device), cat_x.to(device), labels.to(device)\n",
        "\n",
        "        output = model(x, cat_x)\n",
        "        pred = output.max(1, keepdim=True)[1] # get the index of the max logit\n",
        "        correct += pred.eq(labels.view_as(pred)).sum().item()\n",
        "        total += x.shape[0]\n",
        "    return correct / total"
      ]
    },
    {
      "cell_type": "code",
      "execution_count": 20,
      "id": "8f7740c4-4898-4cac-99c4-ca391e190798",
      "metadata": {
        "id": "8f7740c4-4898-4cac-99c4-ca391e190798"
      },
      "outputs": [],
      "source": [
        "def train(model, train, valid, batch_size=64, num_epochs=1, learn_rate=0.01, weight_decay=0):\n",
        "    train_loader = torch.utils.data.DataLoader(train,\n",
        "                                               batch_size=batch_size,\n",
        "                                               shuffle=True) # shuffle after every epoch\n",
        "    criterion = nn.CrossEntropyLoss()\n",
        "    optimizer = optim.Adam(model.parameters(),lr=learn_rate, weight_decay=weight_decay )\n",
        "#     optimizer = optim.SGD(model.parameters(), lr=learn_rate,momentum=0.9, weight_decay=weight_decay)\n",
        "\n",
        "    epochs, losses, train_acc, val_acc = [], [], [], []\n",
        "\n",
        "    # training\n",
        "    model = model.to(device)\n",
        "\n",
        "    for n in range(num_epochs):\n",
        "        epoch_loss = 0\n",
        "        train_accuracy = 0\n",
        "        val_accuracy = 0\n",
        "        printing = True\n",
        "        for x, cat_x, labels in iter(train_loader):\n",
        "            model.train()\n",
        "            # moving to GPU\n",
        "            x = x.to(device)\n",
        "            cat_x = cat_x.to(device)\n",
        "            labels = labels.to(device)\n",
        "            out = model(x, cat_x).unsqueeze(dim=2)         # forward pass\n",
        "            # print('OUT', out)\n",
        "            loss = criterion(out, labels) # compute the total loss\n",
        "            loss.backward()               # backward pass (compute parameter updates)\n",
        "            optimizer.step()              # make the updates for each parameter\n",
        "            optimizer.zero_grad()         \n",
        "\n",
        "            # save the current training information\n",
        "            \n",
        "            epoch_loss += float(loss)\n",
        "            # losses.append(float(loss)/batch_size)        # compute *average* loss\n",
        "            # train_acc.append(get_accuracy(model, train)) # compute training accuracy \n",
        "            # val_acc.append(get_accuracy(model, valid))   # compute validation accuracy\n",
        "            train_accuracy += get_accuracy(model, train)\n",
        "            val_accuracy += get_accuracy(model, valid)\n",
        "            \n",
        "            \n",
        "        losses.append(epoch_loss/(batch_size * len(train_loader)))\n",
        "        epochs.append(n)\n",
        "        train_acc.append(train_accuracy/len(train_loader))\n",
        "        val_acc.append(val_accuracy/len(train_loader))\n",
        "        \n",
        "        if n%10==0:\n",
        "            print(f\"Epoch {n}\")\n",
        "        \n",
        "    \n",
        "    plot_results(epochs, losses, train_acc, val_acc)\n",
        "\n",
        "            "
      ]
    },
    {
      "cell_type": "code",
      "execution_count": 21,
      "id": "5a9cb789-4585-436d-bce7-ad27fe37c829",
      "metadata": {
        "id": "5a9cb789-4585-436d-bce7-ad27fe37c829"
      },
      "outputs": [],
      "source": [
        "def plot_results(epochs, losses, train_acc, val_acc):\n",
        "    # plotting\n",
        "    plt.figure(figsize=(10,4))\n",
        "    plt.subplot(1,2,1)\n",
        "    plt.title(\"Training Curve\")\n",
        "    plt.plot(epochs, losses, label=\"Train\")\n",
        "    plt.xlabel(\"Iterations\")\n",
        "    plt.ylabel(\"Loss\")\n",
        "\n",
        "    plt.subplot(1,2,2)\n",
        "    plt.title(\"Training Curve\")\n",
        "    plt.plot(epochs, train_acc, label=\"Train\")\n",
        "    plt.plot(epochs, val_acc, label=\"Validation\")\n",
        "    plt.xlabel(\"Iterations\")\n",
        "    plt.ylabel(\"Training Accuracy\")\n",
        "    plt.legend(loc='best')\n",
        "    plt.show()\n",
        "\n",
        "    print(\"Final Training Accuracy: {}\".format(train_acc[-1]))\n",
        "    print(\"Final Validation Accuracy: {}\".format(val_acc[-1]))"
      ]
    },
    {
      "cell_type": "code",
      "execution_count": 22,
      "id": "519f0c01-2e17-4c1c-a5ca-eaa47fe4d8b6",
      "metadata": {
        "colab": {
          "base_uri": "https://localhost:8080/",
          "height": 1000
        },
        "id": "519f0c01-2e17-4c1c-a5ca-eaa47fe4d8b6",
        "outputId": "6c3e212e-d03a-49a3-d0c4-dbaeee726524"
      },
      "outputs": [
        {
          "output_type": "stream",
          "name": "stdout",
          "text": [
            "Epoch 0\n",
            "Epoch 10\n",
            "Epoch 20\n",
            "Epoch 30\n",
            "Epoch 40\n",
            "Epoch 50\n",
            "Epoch 60\n",
            "Epoch 70\n",
            "Epoch 80\n",
            "Epoch 90\n",
            "Epoch 100\n",
            "Epoch 110\n",
            "Epoch 120\n",
            "Epoch 130\n",
            "Epoch 140\n",
            "Epoch 150\n",
            "Epoch 160\n",
            "Epoch 170\n",
            "Epoch 180\n",
            "Epoch 190\n",
            "Epoch 200\n",
            "Epoch 210\n",
            "Epoch 220\n",
            "Epoch 230\n",
            "Epoch 240\n",
            "Epoch 250\n",
            "Epoch 260\n",
            "Epoch 270\n",
            "Epoch 280\n",
            "Epoch 290\n",
            "Epoch 300\n",
            "Epoch 310\n",
            "Epoch 320\n",
            "Epoch 330\n",
            "Epoch 340\n",
            "Epoch 350\n",
            "Epoch 360\n",
            "Epoch 370\n",
            "Epoch 380\n",
            "Epoch 390\n",
            "Epoch 400\n",
            "Epoch 410\n",
            "Epoch 420\n",
            "Epoch 430\n",
            "Epoch 440\n",
            "Epoch 450\n",
            "Epoch 460\n",
            "Epoch 470\n",
            "Epoch 480\n",
            "Epoch 490\n",
            "Epoch 500\n",
            "Epoch 510\n",
            "Epoch 520\n",
            "Epoch 530\n",
            "Epoch 540\n",
            "Epoch 550\n",
            "Epoch 560\n",
            "Epoch 570\n",
            "Epoch 580\n",
            "Epoch 590\n",
            "Epoch 600\n",
            "Epoch 610\n",
            "Epoch 620\n",
            "Epoch 630\n",
            "Epoch 640\n",
            "Epoch 650\n",
            "Epoch 660\n",
            "Epoch 670\n",
            "Epoch 680\n",
            "Epoch 690\n",
            "Epoch 700\n",
            "Epoch 710\n",
            "Epoch 720\n",
            "Epoch 730\n",
            "Epoch 740\n",
            "Epoch 750\n",
            "Epoch 760\n",
            "Epoch 770\n",
            "Epoch 780\n",
            "Epoch 790\n",
            "Epoch 800\n",
            "Epoch 810\n",
            "Epoch 820\n",
            "Epoch 830\n",
            "Epoch 840\n",
            "Epoch 850\n",
            "Epoch 860\n",
            "Epoch 870\n",
            "Epoch 880\n",
            "Epoch 890\n",
            "Epoch 900\n",
            "Epoch 910\n",
            "Epoch 920\n",
            "Epoch 930\n",
            "Epoch 940\n",
            "Epoch 950\n",
            "Epoch 960\n",
            "Epoch 970\n",
            "Epoch 980\n",
            "Epoch 990\n"
          ]
        },
        {
          "output_type": "display_data",
          "data": {
            "text/plain": [
              "<Figure size 720x288 with 2 Axes>"
            ],
            "image/png": "[encoded data removed]"
          },
          "metadata": {
            "needs_background": "light"
          }
        },
        {
          "output_type": "stream",
          "name": "stdout",
          "text": [
            "Final Training Accuracy: 0.8645540506005622\n",
            "Final Validation Accuracy: 0.8945497630331753\n",
            "CPU times: user 12min 26s, sys: 2.97 s, total: 12min 29s\n",
            "Wall time: 12min 32s\n"
          ]
        }
      ],
      "source": [
        "%%time\n",
        "train(model, train_dataset, val_dataset, num_epochs=1000, learn_rate=0.00012, weight_decay=0.02, batch_size=512)"
      ]
    },
    {
      "cell_type": "code",
      "execution_count": 23,
      "id": "a11503a3-681f-4745-96eb-ec3dfa815634",
      "metadata": {
        "id": "a11503a3-681f-4745-96eb-ec3dfa815634"
      },
      "outputs": [],
      "source": [
        "# saving model to file\n",
        "state_dict = model.state_dict()\n",
        "torch.save(state_dict, \"neural_net.tar\")"
      ]
    },
    {
      "cell_type": "code",
      "source": [
        "# testing\n",
        "test_data = pd.read_csv('test_data.csv')"
      ],
      "metadata": {
        "id": "ueaTO9vhkIHU"
      },
      "id": "ueaTO9vhkIHU",
      "execution_count": 24,
      "outputs": []
    },
    {
      "cell_type": "code",
      "source": [
        "test_data['TimeToBusStop'] = test_data['TimeToBusStop'].map({'0~5min': 1, '5min~10min': 2, '10min~15min': 3})\n",
        "test_data['TimeToSubway'] = test_data['TimeToSubway'].map({'0-5min': 1, '5min~10min': 2, '10min~15min': 3, '15min~20min': 4, 'no_bus_stop_nearby': 5})"
      ],
      "metadata": {
        "id": "bSeZey8YTptA"
      },
      "id": "bSeZey8YTptA",
      "execution_count": 25,
      "outputs": []
    },
    {
      "cell_type": "code",
      "source": [
        "categorical_values_test = pd.get_dummies(test_data[cat_features])"
      ],
      "metadata": {
        "id": "aOcQl4PKkINM"
      },
      "id": "aOcQl4PKkINM",
      "execution_count": 26,
      "outputs": []
    },
    {
      "cell_type": "code",
      "source": [
        "numerical_data_test = torch.from_numpy(test_data[features].values).float()\n",
        "categorical_data_test = torch.from_numpy(categorical_values_test.values).float()"
      ],
      "metadata": {
        "id": "QJCIOQr9kIP_"
      },
      "id": "QJCIOQr9kIP_",
      "execution_count": 27,
      "outputs": []
    },
    {
      "cell_type": "code",
      "source": [
        "numerical_data_test,categorical_data_test = numerical_data_test.to(device), categorical_data_test.to(device)"
      ],
      "metadata": {
        "id": "9SG280QdoGV0"
      },
      "id": "9SG280QdoGV0",
      "execution_count": 28,
      "outputs": []
    },
    {
      "cell_type": "code",
      "source": [
        "# predictions for test\n",
        "pred = model(numerical_data_test, categorical_data_test)\n",
        "pred = pred.max(1, keepdim=True)[1]"
      ],
      "metadata": {
        "id": "MidqE_Ekn6wV"
      },
      "id": "MidqE_Ekn6wV",
      "execution_count": 29,
      "outputs": []
    },
    {
      "cell_type": "code",
      "source": [
        "val_numerical_data, val_categorical_data = val_numerical_data.to(device), val_categorical_data.to(device)"
      ],
      "metadata": {
        "id": "FTP5OFxSmxWY"
      },
      "id": "FTP5OFxSmxWY",
      "execution_count": 30,
      "outputs": []
    },
    {
      "cell_type": "code",
      "source": [
        "# predictions for val\n",
        "pred_val = model(val_numerical_data, val_categorical_data)\n",
        "pred_val = pred_val.max(1, keepdim=True)[1]"
      ],
      "metadata": {
        "id": "bSqSqhXiptXD"
      },
      "id": "bSqSqhXiptXD",
      "execution_count": 31,
      "outputs": []
    },
    {
      "cell_type": "code",
      "source": [
        "# saving predictions to file\n",
        "df_pred_val = pd.DataFrame(pred_val.cpu().numpy())\n",
        "df_pred_val.to_csv('preds.csv', header=False, index=False)"
      ],
      "metadata": {
        "id": "2yeiCPwlbux8"
      },
      "id": "2yeiCPwlbux8",
      "execution_count": 32,
      "outputs": []
    },
    {
      "cell_type": "code",
      "execution_count": 33,
      "id": "b172db5b-1c48-488d-8fc5-61403a89f935",
      "metadata": {
        "colab": {
          "base_uri": "https://localhost:8080/"
        },
        "id": "b172db5b-1c48-488d-8fc5-61403a89f935",
        "outputId": "f9d957a6-ba06-4d3c-c77e-340d024436ad"
      },
      "outputs": [
        {
          "output_type": "stream",
          "name": "stdout",
          "text": [
            "              precision    recall  f1-score   support\n",
            "\n",
            "           0       0.83      0.89      0.86        27\n",
            "           1       0.94      0.92      0.93       158\n",
            "           2       0.71      0.77      0.74        26\n",
            "\n",
            "    accuracy                           0.90       211\n",
            "   macro avg       0.83      0.86      0.84       211\n",
            "weighted avg       0.90      0.90      0.90       211\n",
            "\n"
          ]
        }
      ],
      "source": [
        "# report for validation set\n",
        "from sklearn.metrics import classification_report\n",
        "print(classification_report(pred_val.cpu(), val_targets))"
      ]
    },
    {
      "cell_type": "code",
      "source": [],
      "metadata": {
        "id": "_iZB5ZsnrBsH"
      },
      "id": "_iZB5ZsnrBsH",
      "execution_count": 33,
      "outputs": []
    }
  ],
  "metadata": {
    "kernelspec": {
      "display_name": "Python 3 (ipykernel)",
      "language": "python",
      "name": "python3"
    },
    "language_info": {
      "codemirror_mode": {
        "name": "ipython",
        "version": 3
      },
      "file_extension": ".py",
      "mimetype": "text/x-python",
      "name": "python",
      "nbconvert_exporter": "python",
      "pygments_lexer": "ipython3",
      "version": "3.8.0"
    },
    "colab": {
      "provenance": [],
      "collapsed_sections": []
    },
    "accelerator": "GPU",
    "gpuClass": "standard"
  },
  "nbformat": 4,
  "nbformat_minor": 5
}