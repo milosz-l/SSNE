{
 "cells": [
  {
   "attachments": {},
   "cell_type": "markdown",
   "metadata": {},
   "source": [
    "# Imports"
   ]
  },
  {
   "cell_type": "code",
   "execution_count": 1,
   "metadata": {},
   "outputs": [],
   "source": [
    "import comet_ml\n",
    "from comet_ml import Experiment\n",
    "import torch\n",
    "from torch.utils.data import DataLoader\n",
    "from torch.optim import Adam\n",
    "from torch import nn\n",
    "import matplotlib.pyplot as plt"
   ]
  },
  {
   "cell_type": "code",
   "execution_count": 2,
   "metadata": {},
   "outputs": [
    {
     "name": "stderr",
     "output_type": "stream",
     "text": [
      "comet_ml is installed but `COMET_API_KEY` is not set.\n",
      "/Users/milosz/opt/miniconda3/envs/pt/lib/python3.9/site-packages/transformers/generation_utils.py:24: FutureWarning: Importing `GenerationMixin` from `src/transformers/generation_utils.py` is deprecated and will be removed in Transformers v5. Import as `from transformers import GenerationMixin` instead.\n",
      "  warnings.warn(\n"
     ]
    }
   ],
   "source": [
    "import transformers\n",
    "from transformers import *\n",
    "import numpy as np\n",
    "from datasets import load_dataset\n",
    "import evaluate\n",
    "from tqdm import tqdm"
   ]
  },
  {
   "cell_type": "code",
   "execution_count": 3,
   "metadata": {},
   "outputs": [],
   "source": [
    "from datasets import load_dataset\n",
    "import datasets\n",
    "\n",
    "from sklearn.metrics import accuracy_score, precision_recall_fscore_support\n",
    "from transformers import AutoTokenizer, Trainer, TrainingArguments, AutoModelForSequenceClassification, DataCollatorWithPadding"
   ]
  },
  {
   "cell_type": "code",
   "execution_count": 4,
   "metadata": {},
   "outputs": [
    {
     "name": "stdout",
     "output_type": "stream",
     "text": [
      "Device: cpu\n"
     ]
    }
   ],
   "source": [
    "device = torch.device(\"cuda:0\") if torch.cuda.is_available() else torch.device(\"cpu\")\n",
    "print(\"Device:\", device)"
   ]
  },
  {
   "cell_type": "code",
   "execution_count": 5,
   "metadata": {},
   "outputs": [],
   "source": [
    "RANDOM_SEED = 42\n",
    "VALIDATION_PERCENTAGE = 10\n",
    "# PRE_TRAINED_MODEL_NAME = 'distilbert-base-uncased'\n",
    "# PRE_TRAINED_MODEL_NAME = 'distilbert-base-uncased-finetuned-sst-2-english'\n",
    "# PRE_TRAINED_MODEL_NAME = \"bert-base-uncased\"\n",
    "PRE_TRAINED_MODEL_NAME = \"nlptown/bert-base-multilingual-uncased-sentiment\""
   ]
  },
  {
   "attachments": {},
   "cell_type": "markdown",
   "metadata": {},
   "source": [
    "# Load and prepare data"
   ]
  },
  {
   "cell_type": "code",
   "execution_count": 6,
   "metadata": {},
   "outputs": [
    {
     "name": "stderr",
     "output_type": "stream",
     "text": [
      "Using custom data configuration default-287925a4e04bbfc0\n"
     ]
    },
    {
     "name": "stdout",
     "output_type": "stream",
     "text": [
      "Downloading and preparing dataset csv/default to /Users/milosz/.cache/huggingface/datasets/csv/default-287925a4e04bbfc0/0.0.0/6b34fb8fcf56f7c8ba51dc895bfa2bfbe43546f190a60fcf74bb5e8afdcc2317...\n"
     ]
    },
    {
     "data": {
      "application/vnd.jupyter.widget-view+json": {
       "model_id": "ebf7c84d574946489187cac0bd87dcdc",
       "version_major": 2,
       "version_minor": 0
      },
      "text/plain": [
       "Downloading data files:   0%|          | 0/1 [00:00<?, ?it/s]"
      ]
     },
     "metadata": {},
     "output_type": "display_data"
    },
    {
     "data": {
      "application/vnd.jupyter.widget-view+json": {
       "model_id": "ab4e5da3a80744aab62c6f492d58d08a",
       "version_major": 2,
       "version_minor": 0
      },
      "text/plain": [
       "Extracting data files:   0%|          | 0/1 [00:00<?, ?it/s]"
      ]
     },
     "metadata": {},
     "output_type": "display_data"
    },
    {
     "data": {
      "application/vnd.jupyter.widget-view+json": {
       "model_id": "fb260aa636b349a880db73f832394f56",
       "version_major": 2,
       "version_minor": 0
      },
      "text/plain": [
       "Generating train split: 0 examples [00:00, ? examples/s]"
      ]
     },
     "metadata": {},
     "output_type": "display_data"
    },
    {
     "name": "stdout",
     "output_type": "stream",
     "text": [
      "Dataset csv downloaded and prepared to /Users/milosz/.cache/huggingface/datasets/csv/default-287925a4e04bbfc0/0.0.0/6b34fb8fcf56f7c8ba51dc895bfa2bfbe43546f190a60fcf74bb5e8afdcc2317. Subsequent calls will reuse this data.\n"
     ]
    },
    {
     "name": "stderr",
     "output_type": "stream",
     "text": [
      "/Users/milosz/opt/miniconda3/envs/pt/lib/python3.9/site-packages/datasets/download/streaming_download_manager.py:727: FutureWarning: the 'mangle_dupe_cols' keyword is deprecated and will be removed in a future version. Please take steps to stop the use of 'mangle_dupe_cols'\n",
      "  return pd.read_csv(xopen(filepath_or_buffer, \"rb\", use_auth_token=use_auth_token), **kwargs)\n"
     ]
    },
    {
     "data": {
      "application/vnd.jupyter.widget-view+json": {
       "model_id": "a69f16d0bbcf4a3986b626f60e72d301",
       "version_major": 2,
       "version_minor": 0
      },
      "text/plain": [
       "  0%|          | 0/1 [00:00<?, ?it/s]"
      ]
     },
     "metadata": {},
     "output_type": "display_data"
    },
    {
     "name": "stderr",
     "output_type": "stream",
     "text": [
      "Using custom data configuration default-287925a4e04bbfc0\n",
      "Found cached dataset csv (/Users/milosz/.cache/huggingface/datasets/csv/default-287925a4e04bbfc0/0.0.0/6b34fb8fcf56f7c8ba51dc895bfa2bfbe43546f190a60fcf74bb5e8afdcc2317)\n"
     ]
    },
    {
     "data": {
      "application/vnd.jupyter.widget-view+json": {
       "model_id": "8ea363313a694a0192be0a4dd12460f5",
       "version_major": 2,
       "version_minor": 0
      },
      "text/plain": [
       "  0%|          | 0/2 [00:00<?, ?it/s]"
      ]
     },
     "metadata": {},
     "output_type": "display_data"
    },
    {
     "name": "stderr",
     "output_type": "stream",
     "text": [
      "Using custom data configuration default-a03d258a1c94f7de\n"
     ]
    },
    {
     "name": "stdout",
     "output_type": "stream",
     "text": [
      "Downloading and preparing dataset csv/default to /Users/milosz/.cache/huggingface/datasets/csv/default-a03d258a1c94f7de/0.0.0/6b34fb8fcf56f7c8ba51dc895bfa2bfbe43546f190a60fcf74bb5e8afdcc2317...\n"
     ]
    },
    {
     "data": {
      "application/vnd.jupyter.widget-view+json": {
       "model_id": "e0f95d5efb3543a381881001d4f0f516",
       "version_major": 2,
       "version_minor": 0
      },
      "text/plain": [
       "Downloading data files:   0%|          | 0/1 [00:00<?, ?it/s]"
      ]
     },
     "metadata": {},
     "output_type": "display_data"
    },
    {
     "data": {
      "application/vnd.jupyter.widget-view+json": {
       "model_id": "2fdb78dc11f84270940ff63e2ecb6718",
       "version_major": 2,
       "version_minor": 0
      },
      "text/plain": [
       "Extracting data files:   0%|          | 0/1 [00:00<?, ?it/s]"
      ]
     },
     "metadata": {},
     "output_type": "display_data"
    },
    {
     "data": {
      "application/vnd.jupyter.widget-view+json": {
       "model_id": "93044e4052b94ee38fea3173cc3a6ae0",
       "version_major": 2,
       "version_minor": 0
      },
      "text/plain": [
       "Generating train split: 0 examples [00:00, ? examples/s]"
      ]
     },
     "metadata": {},
     "output_type": "display_data"
    },
    {
     "name": "stdout",
     "output_type": "stream",
     "text": [
      "Dataset csv downloaded and prepared to /Users/milosz/.cache/huggingface/datasets/csv/default-a03d258a1c94f7de/0.0.0/6b34fb8fcf56f7c8ba51dc895bfa2bfbe43546f190a60fcf74bb5e8afdcc2317. Subsequent calls will reuse this data.\n"
     ]
    },
    {
     "name": "stderr",
     "output_type": "stream",
     "text": [
      "/Users/milosz/opt/miniconda3/envs/pt/lib/python3.9/site-packages/datasets/download/streaming_download_manager.py:727: FutureWarning: the 'mangle_dupe_cols' keyword is deprecated and will be removed in a future version. Please take steps to stop the use of 'mangle_dupe_cols'\n",
      "  return pd.read_csv(xopen(filepath_or_buffer, \"rb\", use_auth_token=use_auth_token), **kwargs)\n"
     ]
    },
    {
     "data": {
      "application/vnd.jupyter.widget-view+json": {
       "model_id": "b71b029be7da468ab72b357d1a29ff2e",
       "version_major": 2,
       "version_minor": 0
      },
      "text/plain": [
       "  0%|          | 0/1 [00:00<?, ?it/s]"
      ]
     },
     "metadata": {},
     "output_type": "display_data"
    }
   ],
   "source": [
    "full_train_dataset = load_dataset(\"csv\", data_files=\"p6/train_data.csv\")\n",
    "\n",
    "train_dataset, valid_dataset = datasets.load_dataset(\"csv\", data_files=\"p6/train_data.csv\", split=[\n",
    "    datasets.ReadInstruction('train', to=100-VALIDATION_PERCENTAGE, unit='%'),\n",
    "    datasets.ReadInstruction('train', from_=-VALIDATION_PERCENTAGE, unit='%'),\n",
    "])\n",
    "\n",
    "test_dataset = load_dataset(\"csv\", data_files=\"p6/test_data.csv\", column_names=['review'])"
   ]
  },
  {
   "cell_type": "code",
   "execution_count": 7,
   "metadata": {},
   "outputs": [],
   "source": [
    "# rename label column\n",
    "full_train_dataset = full_train_dataset.rename_column('rating', 'label')\n",
    "train_dataset = train_dataset.rename_column('rating', 'label')\n",
    "valid_dataset = valid_dataset.rename_column('rating', 'label')"
   ]
  },
  {
   "cell_type": "code",
   "execution_count": 8,
   "metadata": {},
   "outputs": [
    {
     "name": "stdout",
     "output_type": "stream",
     "text": [
      "DatasetDict({\n",
      "    train: Dataset({\n",
      "        features: ['review', 'label'],\n",
      "        num_rows: 16392\n",
      "    })\n",
      "})\n"
     ]
    }
   ],
   "source": [
    "print(full_train_dataset)"
   ]
  },
  {
   "cell_type": "code",
   "execution_count": 9,
   "metadata": {},
   "outputs": [
    {
     "name": "stdout",
     "output_type": "stream",
     "text": [
      "Dataset({\n",
      "    features: ['review', 'label'],\n",
      "    num_rows: 14753\n",
      "})\n"
     ]
    }
   ],
   "source": [
    "print(train_dataset)"
   ]
  },
  {
   "cell_type": "code",
   "execution_count": 10,
   "metadata": {},
   "outputs": [
    {
     "name": "stdout",
     "output_type": "stream",
     "text": [
      "Dataset({\n",
      "    features: ['review', 'label'],\n",
      "    num_rows: 1639\n",
      "})\n"
     ]
    }
   ],
   "source": [
    "print(valid_dataset)"
   ]
  },
  {
   "cell_type": "code",
   "execution_count": 11,
   "metadata": {},
   "outputs": [
    {
     "name": "stdout",
     "output_type": "stream",
     "text": [
      "DatasetDict({\n",
      "    train: Dataset({\n",
      "        features: ['review'],\n",
      "        num_rows: 4099\n",
      "    })\n",
      "})\n"
     ]
    }
   ],
   "source": [
    "print(test_dataset)"
   ]
  },
  {
   "cell_type": "code",
   "execution_count": 12,
   "metadata": {},
   "outputs": [
    {
     "data": {
      "text/plain": [
       "(array([1137.,    0., 1434.,    0.,    0., 1747.,    0., 4831.,    0.,\n",
       "        7243.]),\n",
       " array([0. , 0.4, 0.8, 1.2, 1.6, 2. , 2.4, 2.8, 3.2, 3.6, 4. ]),\n",
       " <BarContainer object of 10 artists>)"
      ]
     },
     "execution_count": 12,
     "metadata": {},
     "output_type": "execute_result"
    },
    {
     "data": {
      "image/png": "[encoded data removed]",
      "text/plain": [
       "<Figure size 640x480 with 1 Axes>"
      ]
     },
     "metadata": {},
     "output_type": "display_data"
    }
   ],
   "source": [
    "plt.hist(full_train_dataset['train']['label'])"
   ]
  },
  {
   "cell_type": "code",
   "execution_count": 13,
   "metadata": {},
   "outputs": [
    {
     "data": {
      "image/png": "[encoded data removed]",
      "text/plain": [
       "<Figure size 1000x400 with 3 Axes>"
      ]
     },
     "metadata": {},
     "output_type": "display_data"
    }
   ],
   "source": [
    "# Create a 3x1 grid of subplots\n",
    "fig, axs = plt.subplots(1, 3, figsize=(10,4))\n",
    "\n",
    "# Plot the first histogram in the first subplot\n",
    "axs[0].hist(full_train_dataset['train']['label'], color='blue', alpha=0.5)\n",
    "axs[0].set_title('full train dataset')\n",
    "\n",
    "# Plot the second histogram in the second subplot\n",
    "axs[1].hist(train_dataset['label'], color='green', alpha=0.5)\n",
    "axs[1].set_title('train dataset')\n",
    "\n",
    "# Plot the third histogram in the third subplot\n",
    "axs[2].hist(valid_dataset['label'], color='red', alpha=0.5)\n",
    "axs[2].set_title('validation dataset')\n",
    "\n",
    "plt.show()"
   ]
  },
  {
   "attachments": {},
   "cell_type": "markdown",
   "metadata": {},
   "source": [
    "## Compute class weights"
   ]
  },
  {
   "cell_type": "code",
   "execution_count": 14,
   "metadata": {
    "id": "PUQQOO4yO0KX"
   },
   "outputs": [],
   "source": [
    "from sklearn.utils.class_weight import compute_class_weight\n",
    "\n",
    "\n",
    "CLASS_WEIGHT= compute_class_weight(class_weight='balanced', classes=np.unique(train_dataset['label']).tolist(), y=train_dataset['label'])\n",
    "classes_weights = torch.tensor(np.array(CLASS_WEIGHT).astype('float32')).to(device)"
   ]
  },
  {
   "cell_type": "code",
   "execution_count": 15,
   "metadata": {
    "colab": {
     "base_uri": "https://localhost:8080/"
    },
    "id": "bpuAaoBuR6L0",
    "outputId": "30115d79-7733-47a2-d606-315dd379ad6a"
   },
   "outputs": [
    {
     "name": "stdout",
     "output_type": "stream",
     "text": [
      "0 2.9041338582677168\n",
      "1 2.266205837173579\n",
      "2 1.8865728900255754\n",
      "3 0.6817467652495379\n",
      "4 0.45095521931835547\n"
     ]
    }
   ],
   "source": [
    "for class_idx, class_weight in zip(np.unique(train_dataset['label']), CLASS_WEIGHT):\n",
    "    print(class_idx, class_weight)"
   ]
  },
  {
   "attachments": {},
   "cell_type": "markdown",
   "metadata": {},
   "source": [
    "## Tokenization"
   ]
  },
  {
   "cell_type": "code",
   "execution_count": 16,
   "metadata": {},
   "outputs": [
    {
     "name": "stderr",
     "output_type": "stream",
     "text": [
      "loading configuration file config.json from cache at /Users/milosz/.cache/huggingface/hub/models--nlptown--bert-base-multilingual-uncased-sentiment/snapshots/e06857fdb0325a7798a8fc361b417dfeec3a3b98/config.json\n",
      "Model config BertConfig {\n",
      "  \"_name_or_path\": \"nlptown/bert-base-multilingual-uncased-sentiment\",\n",
      "  \"_num_labels\": 5,\n",
      "  \"architectures\": [\n",
      "    \"BertForSequenceClassification\"\n",
      "  ],\n",
      "  \"attention_probs_dropout_prob\": 0.1,\n",
      "  \"classifier_dropout\": null,\n",
      "  \"directionality\": \"bidi\",\n",
      "  \"finetuning_task\": \"sentiment-analysis\",\n",
      "  \"hidden_act\": \"gelu\",\n",
      "  \"hidden_dropout_prob\": 0.1,\n",
      "  \"hidden_size\": 768,\n",
      "  \"id2label\": {\n",
      "    \"0\": \"1 star\",\n",
      "    \"1\": \"2 stars\",\n",
      "    \"2\": \"3 stars\",\n",
      "    \"3\": \"4 stars\",\n",
      "    \"4\": \"5 stars\"\n",
      "  },\n",
      "  \"initializer_range\": 0.02,\n",
      "  \"intermediate_size\": 3072,\n",
      "  \"label2id\": {\n",
      "    \"1 star\": 0,\n",
      "    \"2 stars\": 1,\n",
      "    \"3 stars\": 2,\n",
      "    \"4 stars\": 3,\n",
      "    \"5 stars\": 4\n",
      "  },\n",
      "  \"layer_norm_eps\": 1e-12,\n",
      "  \"max_position_embeddings\": 512,\n",
      "  \"model_type\": \"bert\",\n",
      "  \"num_attention_heads\": 12,\n",
      "  \"num_hidden_layers\": 12,\n",
      "  \"output_past\": true,\n",
      "  \"pad_token_id\": 0,\n",
      "  \"pooler_fc_size\": 768,\n",
      "  \"pooler_num_attention_heads\": 12,\n",
      "  \"pooler_num_fc_layers\": 3,\n",
      "  \"pooler_size_per_head\": 128,\n",
      "  \"pooler_type\": \"first_token_transform\",\n",
      "  \"position_embedding_type\": \"absolute\",\n",
      "  \"transformers_version\": \"4.25.1\",\n",
      "  \"type_vocab_size\": 2,\n",
      "  \"use_cache\": true,\n",
      "  \"vocab_size\": 105879\n",
      "}\n",
      "\n",
      "loading file vocab.txt from cache at /Users/milosz/.cache/huggingface/hub/models--nlptown--bert-base-multilingual-uncased-sentiment/snapshots/e06857fdb0325a7798a8fc361b417dfeec3a3b98/vocab.txt\n",
      "loading file tokenizer.json from cache at None\n",
      "loading file added_tokens.json from cache at None\n",
      "loading file special_tokens_map.json from cache at /Users/milosz/.cache/huggingface/hub/models--nlptown--bert-base-multilingual-uncased-sentiment/snapshots/e06857fdb0325a7798a8fc361b417dfeec3a3b98/special_tokens_map.json\n",
      "loading file tokenizer_config.json from cache at /Users/milosz/.cache/huggingface/hub/models--nlptown--bert-base-multilingual-uncased-sentiment/snapshots/e06857fdb0325a7798a8fc361b417dfeec3a3b98/tokenizer_config.json\n",
      "loading configuration file config.json from cache at /Users/milosz/.cache/huggingface/hub/models--nlptown--bert-base-multilingual-uncased-sentiment/snapshots/e06857fdb0325a7798a8fc361b417dfeec3a3b98/config.json\n",
      "Model config BertConfig {\n",
      "  \"_name_or_path\": \"nlptown/bert-base-multilingual-uncased-sentiment\",\n",
      "  \"_num_labels\": 5,\n",
      "  \"architectures\": [\n",
      "    \"BertForSequenceClassification\"\n",
      "  ],\n",
      "  \"attention_probs_dropout_prob\": 0.1,\n",
      "  \"classifier_dropout\": null,\n",
      "  \"directionality\": \"bidi\",\n",
      "  \"finetuning_task\": \"sentiment-analysis\",\n",
      "  \"hidden_act\": \"gelu\",\n",
      "  \"hidden_dropout_prob\": 0.1,\n",
      "  \"hidden_size\": 768,\n",
      "  \"id2label\": {\n",
      "    \"0\": \"1 star\",\n",
      "    \"1\": \"2 stars\",\n",
      "    \"2\": \"3 stars\",\n",
      "    \"3\": \"4 stars\",\n",
      "    \"4\": \"5 stars\"\n",
      "  },\n",
      "  \"initializer_range\": 0.02,\n",
      "  \"intermediate_size\": 3072,\n",
      "  \"label2id\": {\n",
      "    \"1 star\": 0,\n",
      "    \"2 stars\": 1,\n",
      "    \"3 stars\": 2,\n",
      "    \"4 stars\": 3,\n",
      "    \"5 stars\": 4\n",
      "  },\n",
      "  \"layer_norm_eps\": 1e-12,\n",
      "  \"max_position_embeddings\": 512,\n",
      "  \"model_type\": \"bert\",\n",
      "  \"num_attention_heads\": 12,\n",
      "  \"num_hidden_layers\": 12,\n",
      "  \"output_past\": true,\n",
      "  \"pad_token_id\": 0,\n",
      "  \"pooler_fc_size\": 768,\n",
      "  \"pooler_num_attention_heads\": 12,\n",
      "  \"pooler_num_fc_layers\": 3,\n",
      "  \"pooler_size_per_head\": 128,\n",
      "  \"pooler_type\": \"first_token_transform\",\n",
      "  \"position_embedding_type\": \"absolute\",\n",
      "  \"transformers_version\": \"4.25.1\",\n",
      "  \"type_vocab_size\": 2,\n",
      "  \"use_cache\": true,\n",
      "  \"vocab_size\": 105879\n",
      "}\n",
      "\n",
      "loading configuration file config.json from cache at /Users/milosz/.cache/huggingface/hub/models--nlptown--bert-base-multilingual-uncased-sentiment/snapshots/e06857fdb0325a7798a8fc361b417dfeec3a3b98/config.json\n",
      "Model config BertConfig {\n",
      "  \"_name_or_path\": \"nlptown/bert-base-multilingual-uncased-sentiment\",\n",
      "  \"_num_labels\": 5,\n",
      "  \"architectures\": [\n",
      "    \"BertForSequenceClassification\"\n",
      "  ],\n",
      "  \"attention_probs_dropout_prob\": 0.1,\n",
      "  \"classifier_dropout\": null,\n",
      "  \"directionality\": \"bidi\",\n",
      "  \"finetuning_task\": \"sentiment-analysis\",\n",
      "  \"hidden_act\": \"gelu\",\n",
      "  \"hidden_dropout_prob\": 0.1,\n",
      "  \"hidden_size\": 768,\n",
      "  \"id2label\": {\n",
      "    \"0\": \"1 star\",\n",
      "    \"1\": \"2 stars\",\n",
      "    \"2\": \"3 stars\",\n",
      "    \"3\": \"4 stars\",\n",
      "    \"4\": \"5 stars\"\n",
      "  },\n",
      "  \"initializer_range\": 0.02,\n",
      "  \"intermediate_size\": 3072,\n",
      "  \"label2id\": {\n",
      "    \"1 star\": 0,\n",
      "    \"2 stars\": 1,\n",
      "    \"3 stars\": 2,\n",
      "    \"4 stars\": 3,\n",
      "    \"5 stars\": 4\n",
      "  },\n",
      "  \"layer_norm_eps\": 1e-12,\n",
      "  \"max_position_embeddings\": 512,\n",
      "  \"model_type\": \"bert\",\n",
      "  \"num_attention_heads\": 12,\n",
      "  \"num_hidden_layers\": 12,\n",
      "  \"output_past\": true,\n",
      "  \"pad_token_id\": 0,\n",
      "  \"pooler_fc_size\": 768,\n",
      "  \"pooler_num_attention_heads\": 12,\n",
      "  \"pooler_num_fc_layers\": 3,\n",
      "  \"pooler_size_per_head\": 128,\n",
      "  \"pooler_type\": \"first_token_transform\",\n",
      "  \"position_embedding_type\": \"absolute\",\n",
      "  \"transformers_version\": \"4.25.1\",\n",
      "  \"type_vocab_size\": 2,\n",
      "  \"use_cache\": true,\n",
      "  \"vocab_size\": 105879\n",
      "}\n",
      "\n"
     ]
    },
    {
     "data": {
      "application/vnd.jupyter.widget-view+json": {
       "model_id": "e73ccc9e31374a29b59a41be6af2cf3c",
       "version_major": 2,
       "version_minor": 0
      },
      "text/plain": [
       "  0%|          | 0/15 [00:00<?, ?ba/s]"
      ]
     },
     "metadata": {},
     "output_type": "display_data"
    },
    {
     "data": {
      "application/vnd.jupyter.widget-view+json": {
       "model_id": "91540dd4f65845b99d7558497c273a53",
       "version_major": 2,
       "version_minor": 0
      },
      "text/plain": [
       "  0%|          | 0/2 [00:00<?, ?ba/s]"
      ]
     },
     "metadata": {},
     "output_type": "display_data"
    }
   ],
   "source": [
    "tokenizer = AutoTokenizer.from_pretrained(PRE_TRAINED_MODEL_NAME)\n",
    "\n",
    "def tokenize_function(data):\n",
    "    return tokenizer(data[\"review\"], padding=\"max_length\", truncation=True)\n",
    "\n",
    "\n",
    "tokenized_train_df = train_dataset.map(tokenize_function, batched=True)\n",
    "tokenized_valid_df = valid_dataset.map(tokenize_function, batched=True)\n",
    "\n",
    "tokenized_train_df = tokenized_train_df.remove_columns(['review'])\n",
    "tokenized_valid_df = tokenized_valid_df.remove_columns(['review'])\n",
    "\n",
    "tokenized_train_df.set_format(\"torch\")\n",
    "tokenized_valid_df.set_format(\"torch\")\n",
    "\n",
    "# train_df = tokenized_train_df.shuffle(seed=RANDOM_SEED).select(range(200))\n",
    "# valid_df = tokenized_valid_df.shuffle(seed=RANDOM_SEED).select(range(100))\n",
    "train_df = tokenized_train_df\n",
    "valid_df = tokenized_valid_df\n",
    "\n",
    "data_collator = DataCollatorWithPadding(tokenizer=tokenizer)"
   ]
  },
  {
   "cell_type": "code",
   "execution_count": 17,
   "metadata": {},
   "outputs": [
    {
     "name": "stdout",
     "output_type": "stream",
     "text": [
      "Dataset({\n",
      "    features: ['label', 'input_ids', 'token_type_ids', 'attention_mask'],\n",
      "    num_rows: 14753\n",
      "})\n"
     ]
    }
   ],
   "source": [
    "print(train_df)"
   ]
  },
  {
   "cell_type": "code",
   "execution_count": 18,
   "metadata": {},
   "outputs": [
    {
     "name": "stdout",
     "output_type": "stream",
     "text": [
      "Dataset({\n",
      "    features: ['label', 'input_ids', 'token_type_ids', 'attention_mask'],\n",
      "    num_rows: 1639\n",
      "})\n"
     ]
    }
   ],
   "source": [
    "print(valid_df)"
   ]
  },
  {
   "attachments": {},
   "cell_type": "markdown",
   "metadata": {},
   "source": [
    "# Define model"
   ]
  },
  {
   "cell_type": "code",
   "execution_count": 19,
   "metadata": {},
   "outputs": [
    {
     "name": "stderr",
     "output_type": "stream",
     "text": [
      "loading configuration file config.json from cache at /Users/milosz/.cache/huggingface/hub/models--nlptown--bert-base-multilingual-uncased-sentiment/snapshots/e06857fdb0325a7798a8fc361b417dfeec3a3b98/config.json\n",
      "Model config BertConfig {\n",
      "  \"_name_or_path\": \"nlptown/bert-base-multilingual-uncased-sentiment\",\n",
      "  \"_num_labels\": 5,\n",
      "  \"architectures\": [\n",
      "    \"BertForSequenceClassification\"\n",
      "  ],\n",
      "  \"attention_probs_dropout_prob\": 0.1,\n",
      "  \"classifier_dropout\": null,\n",
      "  \"directionality\": \"bidi\",\n",
      "  \"finetuning_task\": \"sentiment-analysis\",\n",
      "  \"hidden_act\": \"gelu\",\n",
      "  \"hidden_dropout_prob\": 0.1,\n",
      "  \"hidden_size\": 768,\n",
      "  \"id2label\": {\n",
      "    \"0\": \"1 star\",\n",
      "    \"1\": \"2 stars\",\n",
      "    \"2\": \"3 stars\",\n",
      "    \"3\": \"4 stars\",\n",
      "    \"4\": \"5 stars\"\n",
      "  },\n",
      "  \"initializer_range\": 0.02,\n",
      "  \"intermediate_size\": 3072,\n",
      "  \"label2id\": {\n",
      "    \"1 star\": 0,\n",
      "    \"2 stars\": 1,\n",
      "    \"3 stars\": 2,\n",
      "    \"4 stars\": 3,\n",
      "    \"5 stars\": 4\n",
      "  },\n",
      "  \"layer_norm_eps\": 1e-12,\n",
      "  \"max_position_embeddings\": 512,\n",
      "  \"model_type\": \"bert\",\n",
      "  \"num_attention_heads\": 12,\n",
      "  \"num_hidden_layers\": 12,\n",
      "  \"output_past\": true,\n",
      "  \"pad_token_id\": 0,\n",
      "  \"pooler_fc_size\": 768,\n",
      "  \"pooler_num_attention_heads\": 12,\n",
      "  \"pooler_num_fc_layers\": 3,\n",
      "  \"pooler_size_per_head\": 128,\n",
      "  \"pooler_type\": \"first_token_transform\",\n",
      "  \"position_embedding_type\": \"absolute\",\n",
      "  \"transformers_version\": \"4.25.1\",\n",
      "  \"type_vocab_size\": 2,\n",
      "  \"use_cache\": true,\n",
      "  \"vocab_size\": 105879\n",
      "}\n",
      "\n",
      "loading weights file pytorch_model.bin from cache at /Users/milosz/.cache/huggingface/hub/models--nlptown--bert-base-multilingual-uncased-sentiment/snapshots/e06857fdb0325a7798a8fc361b417dfeec3a3b98/pytorch_model.bin\n",
      "All model checkpoint weights were used when initializing BertForSequenceClassification.\n",
      "\n",
      "All the weights of BertForSequenceClassification were initialized from the model checkpoint at nlptown/bert-base-multilingual-uncased-sentiment.\n",
      "If your task is similar to the task the model of the checkpoint was trained on, you can already use BertForSequenceClassification for predictions without further training.\n"
     ]
    }
   ],
   "source": [
    "# model = AutoModel.from_pretrained(PRE_TRAINED_MODEL_NAME)\n",
    "model = AutoModelForSequenceClassification.from_pretrained(\n",
    "    PRE_TRAINED_MODEL_NAME, num_labels=5\n",
    ")"
   ]
  },
  {
   "cell_type": "code",
   "execution_count": 20,
   "metadata": {},
   "outputs": [
    {
     "name": "stderr",
     "output_type": "stream",
     "text": [
      "PyTorch: setting up devices\n",
      "The default value for the training argument `--report_to` will change in v5 (from all installed integrations to none). In v5, you will need to use `--report_to all` to get the same behavior as now. You should start updating your code and make this info disappear :-).\n"
     ]
    }
   ],
   "source": [
    "training_arguments = TrainingArguments(\n",
    "    seed=RANDOM_SEED,\n",
    "    optim=\"adamw_torch\",\n",
    "    learning_rate=5e-5,\n",
    "    num_train_epochs=100,\n",
    "    output_dir=\"./results\",\n",
    "    overwrite_output_dir=True,\n",
    "    do_train=True,\n",
    "    do_eval=True,\n",
    "    evaluation_strategy=\"steps\",\n",
    "    eval_steps=25,\n",
    "    save_strategy=\"steps\",\n",
    "    save_total_limit=10,\n",
    "    save_steps=25,\n",
    ")"
   ]
  },
  {
   "cell_type": "code",
   "execution_count": 21,
   "metadata": {},
   "outputs": [],
   "source": [
    "# read comet API key from a file\n",
    "with open('api_key.txt', 'r') as file:\n",
    "    API_KEY = file.readline().strip()"
   ]
  },
  {
   "cell_type": "code",
   "execution_count": 22,
   "metadata": {},
   "outputs": [
    {
     "name": "stderr",
     "output_type": "stream",
     "text": [
      "COMET WARNING: As you are running in a Jupyter environment, you will need to call `experiment.end()` when finished to ensure all metrics and code are logged before exiting.\n"
     ]
    },
    {
     "name": "stdout",
     "output_type": "stream",
     "text": [
      "huggingface/tokenizers: The current process just got forked, after parallelism has already been used. Disabling parallelism to avoid deadlocks...\n",
      "To disable this warning, you can either:\n",
      "\t- Avoid using `tokenizers` before the fork if possible\n",
      "\t- Explicitly set the environment variable TOKENIZERS_PARALLELISM=(true | false)\n"
     ]
    },
    {
     "name": "stderr",
     "output_type": "stream",
     "text": [
      "COMET INFO: Experiment is live on comet.com https://www.comet.com/milosz-l/hotel-stars-v3-with-weights/254e349ea59e4bcebb3778d069fb5f4f\n",
      "\n"
     ]
    }
   ],
   "source": [
    "experiment = Experiment(\n",
    "    api_key=API_KEY,\n",
    "    project_name=\"hotel_stars_v3_with_weights\",\n",
    "    workspace=\"milosz-l\",\n",
    ")"
   ]
  },
  {
   "cell_type": "code",
   "execution_count": 23,
   "metadata": {},
   "outputs": [],
   "source": [
    "def compute_metrics(pred):\n",
    "    \n",
    "    #get global experiments\n",
    "    # experiment = comet_ml.get_global_experiment()\n",
    "    \n",
    "    #get y_true and y_preds for eval_dataset\n",
    "    # print(f'pred = {pred}')\n",
    "    labels = pred.label_ids\n",
    "    # print(f'labels = {labels}')\n",
    "    preds = pred.predictions.argmax(-1)\n",
    "    # print(f'preds = {preds}')\n",
    "    \n",
    "    #compute precision, recall, and F1 score\n",
    "    precision, recall, f1, _ = precision_recall_fscore_support(\n",
    "        labels, preds, average='macro')\n",
    "    \n",
    "    #compute accuracy score\n",
    "    acc = accuracy_score(labels, preds)\n",
    "    \n",
    "    #log confusion matrix\n",
    "    if experiment:\n",
    "        epoch = int(experiment.curr_epoch) if experiment.curr_epoch is not None else 0\n",
    "        experiment.set_epoch(epoch)\n",
    "        experiment.log_confusion_matrix(\n",
    "            y_true=labels,\n",
    "            y_predicted=preds,\n",
    "            labels=[1, 2, 3, 4, 5]\n",
    "        )\n",
    "\n",
    "    return {\"accuracy\": acc, \n",
    "            \"f1\": f1, \n",
    "            \"precision\": precision,\n",
    "            \"recall\": recall\n",
    "            }"
   ]
  },
  {
   "cell_type": "code",
   "execution_count": 24,
   "metadata": {},
   "outputs": [],
   "source": [
    "# override Trainer for adding class weighting\n",
    "\n",
    "\n",
    "class CustomTrainer(Trainer):\n",
    "    def compute_loss(self, model, inputs, return_outputs=False):\n",
    "        labels = inputs.get(\"labels\")\n",
    "        # forward pass\n",
    "        outputs = model(**inputs)\n",
    "        logits = outputs.get('logits')\n",
    "        # compute custom loss\n",
    "        loss_fct = nn.CrossEntropyLoss(weight=classes_weights)\n",
    "        loss = loss_fct(logits.view(-1, self.model.config.num_labels), labels.view(-1))\n",
    "        return (loss, outputs) if return_outputs else loss"
   ]
  },
  {
   "cell_type": "code",
   "execution_count": 25,
   "metadata": {},
   "outputs": [
    {
     "name": "stdout",
     "output_type": "stream",
     "text": [
      "env: COMET_MODE=ONLINE\n",
      "env: COMET_LOG_ASSETS=TRUE\n",
      "huggingface/tokenizers: The current process just got forked, after parallelism has already been used. Disabling parallelism to avoid deadlocks...\n",
      "To disable this warning, you can either:\n",
      "\t- Avoid using `tokenizers` before the fork if possible\n",
      "\t- Explicitly set the environment variable TOKENIZERS_PARALLELISM=(true | false)\n"
     ]
    }
   ],
   "source": [
    "%env COMET_MODE=ONLINE\n",
    "%env COMET_LOG_ASSETS=TRUE\n",
    "trainer = CustomTrainer(\n",
    "    model=model,\n",
    "    args=training_arguments,\n",
    "    train_dataset=train_df,\n",
    "    eval_dataset=valid_df,\n",
    "    compute_metrics=compute_metrics,\n",
    "    data_collator=data_collator,\n",
    ")"
   ]
  },
  {
   "cell_type": "code",
   "execution_count": 26,
   "metadata": {},
   "outputs": [
    {
     "name": "stderr",
     "output_type": "stream",
     "text": [
      "***** Running training *****\n",
      "  Num examples = 14753\n",
      "  Num Epochs = 100\n",
      "  Instantaneous batch size per device = 8\n",
      "  Total train batch size (w. parallel, distributed & accumulation) = 8\n",
      "  Gradient Accumulation steps = 1\n",
      "  Total optimization steps = 184500\n",
      "  Number of trainable parameters = 167360261\n",
      "COMET ERROR: Failed to extract scalar from SummaryWriter.add_hparams()\n"
     ]
    },
    {
     "data": {
      "application/vnd.jupyter.widget-view+json": {
       "model_id": "082aafbba2bf45d1bcc2fe85d54a9447",
       "version_major": 2,
       "version_minor": 0
      },
      "text/plain": [
       "  0%|          | 0/184500 [00:00<?, ?it/s]"
      ]
     },
     "metadata": {},
     "output_type": "display_data"
    },
    {
     "name": "stderr",
     "output_type": "stream",
     "text": [
      "You're using a BertTokenizerFast tokenizer. Please note that with a fast tokenizer, using the `__call__` method is faster than using a method to encode the text followed by a call to the `pad` method to get a padded encoding.\n"
     ]
    },
    {
     "name": "stdout",
     "output_type": "stream",
     "text": [
      "huggingface/tokenizers: The current process just got forked, after parallelism has already been used. Disabling parallelism to avoid deadlocks...\n",
      "To disable this warning, you can either:\n",
      "\t- Avoid using `tokenizers` before the fork if possible\n",
      "\t- Explicitly set the environment variable TOKENIZERS_PARALLELISM=(true | false)\n",
      "huggingface/tokenizers: The current process just got forked, after parallelism has already been used. Disabling parallelism to avoid deadlocks...\n",
      "To disable this warning, you can either:\n",
      "\t- Avoid using `tokenizers` before the fork if possible\n",
      "\t- Explicitly set the environment variable TOKENIZERS_PARALLELISM=(true | false)\n"
     ]
    },
    {
     "name": "stderr",
     "output_type": "stream",
     "text": [
      "***** Running Evaluation *****\n",
      "  Num examples = 1639\n",
      "  Batch size = 8\n"
     ]
    },
    {
     "data": {
      "application/vnd.jupyter.widget-view+json": {
       "model_id": "f11ee62694854a19a5c564ea6a5203e7",
       "version_major": 2,
       "version_minor": 0
      },
      "text/plain": [
       "  0%|          | 0/205 [00:00<?, ?it/s]"
      ]
     },
     "metadata": {},
     "output_type": "display_data"
    },
    {
     "name": "stderr",
     "output_type": "stream",
     "text": [
      "Saving model checkpoint to ./results/checkpoint-25\n",
      "Configuration saved in ./results/checkpoint-25/config.json\n"
     ]
    },
    {
     "name": "stdout",
     "output_type": "stream",
     "text": [
      "{'eval_loss': 1.2076008319854736, 'eval_accuracy': 0.5607077486272117, 'eval_f1': 0.43714014915115207, 'eval_precision': 0.45326865323888355, 'eval_recall': 0.46356838503305753, 'eval_runtime': 323.1968, 'eval_samples_per_second': 5.071, 'eval_steps_per_second': 0.634, 'epoch': 0.01}\n"
     ]
    },
    {
     "name": "stderr",
     "output_type": "stream",
     "text": [
      "Model weights saved in ./results/checkpoint-25/pytorch_model.bin\n",
      "***** Running Evaluation *****\n",
      "  Num examples = 1639\n",
      "  Batch size = 8\n"
     ]
    },
    {
     "data": {
      "application/vnd.jupyter.widget-view+json": {
       "model_id": "c42a151b80364d179e41dc3f8b8e75bf",
       "version_major": 2,
       "version_minor": 0
      },
      "text/plain": [
       "  0%|          | 0/205 [00:00<?, ?it/s]"
      ]
     },
     "metadata": {},
     "output_type": "display_data"
    },
    {
     "name": "stderr",
     "output_type": "stream",
     "text": [
      "Saving model checkpoint to ./results/checkpoint-50\n",
      "Configuration saved in ./results/checkpoint-50/config.json\n"
     ]
    },
    {
     "name": "stdout",
     "output_type": "stream",
     "text": [
      "{'eval_loss': 1.142885446548462, 'eval_accuracy': 0.5753508236729713, 'eval_f1': 0.4849776253473033, 'eval_precision': 0.5962432473609083, 'eval_recall': 0.4942972833254215, 'eval_runtime': 322.7082, 'eval_samples_per_second': 5.079, 'eval_steps_per_second': 0.635, 'epoch': 0.03}\n"
     ]
    },
    {
     "name": "stderr",
     "output_type": "stream",
     "text": [
      "Model weights saved in ./results/checkpoint-50/pytorch_model.bin\n",
      "Deleting older checkpoint [results/checkpoint-25] due to args.save_total_limit\n",
      "***** Running Evaluation *****\n",
      "  Num examples = 1639\n",
      "  Batch size = 8\n"
     ]
    },
    {
     "data": {
      "application/vnd.jupyter.widget-view+json": {
       "model_id": "5d03e1a60b4b4a3fa97808e56496e577",
       "version_major": 2,
       "version_minor": 0
      },
      "text/plain": [
       "  0%|          | 0/205 [00:00<?, ?it/s]"
      ]
     },
     "metadata": {},
     "output_type": "display_data"
    },
    {
     "name": "stderr",
     "output_type": "stream",
     "text": [
      "/Users/milosz/opt/miniconda3/envs/pt/lib/python3.9/site-packages/sklearn/metrics/_classification.py:1334: UndefinedMetricWarning: Precision and F-score are ill-defined and being set to 0.0 in labels with no predicted samples. Use `zero_division` parameter to control this behavior.\n",
      "  _warn_prf(average, modifier, msg_start, len(result))\n",
      "Saving model checkpoint to ./results/checkpoint-75\n",
      "Configuration saved in ./results/checkpoint-75/config.json\n"
     ]
    },
    {
     "name": "stdout",
     "output_type": "stream",
     "text": [
      "{'eval_loss': 1.3661912679672241, 'eval_accuracy': 0.5405735204392923, 'eval_f1': 0.35343348397485846, 'eval_precision': 0.3479287826692584, 'eval_recall': 0.3752617754547162, 'eval_runtime': 321.2273, 'eval_samples_per_second': 5.102, 'eval_steps_per_second': 0.638, 'epoch': 0.04}\n"
     ]
    },
    {
     "name": "stderr",
     "output_type": "stream",
     "text": [
      "Model weights saved in ./results/checkpoint-75/pytorch_model.bin\n",
      "Deleting older checkpoint [results/checkpoint-1550] due to args.save_total_limit\n",
      "***** Running Evaluation *****\n",
      "  Num examples = 1639\n",
      "  Batch size = 8\n"
     ]
    },
    {
     "data": {
      "application/vnd.jupyter.widget-view+json": {
       "model_id": "753676eef0974941844ee9302d3a3a69",
       "version_major": 2,
       "version_minor": 0
      },
      "text/plain": [
       "  0%|          | 0/205 [00:00<?, ?it/s]"
      ]
     },
     "metadata": {},
     "output_type": "display_data"
    },
    {
     "name": "stderr",
     "output_type": "stream",
     "text": [
      "Saving model checkpoint to ./results/checkpoint-100\n",
      "Configuration saved in ./results/checkpoint-100/config.json\n"
     ]
    },
    {
     "name": "stdout",
     "output_type": "stream",
     "text": [
      "{'eval_loss': 1.0947518348693848, 'eval_accuracy': 0.5259304453935326, 'eval_f1': 0.4323829145608933, 'eval_precision': 0.45457470220072205, 'eval_recall': 0.5047740464907922, 'eval_runtime': 327.456, 'eval_samples_per_second': 5.005, 'eval_steps_per_second': 0.626, 'epoch': 0.05}\n"
     ]
    },
    {
     "name": "stderr",
     "output_type": "stream",
     "text": [
      "Model weights saved in ./results/checkpoint-100/pytorch_model.bin\n",
      "Deleting older checkpoint [results/checkpoint-1575] due to args.save_total_limit\n",
      "***** Running Evaluation *****\n",
      "  Num examples = 1639\n",
      "  Batch size = 8\n"
     ]
    },
    {
     "data": {
      "application/vnd.jupyter.widget-view+json": {
       "model_id": "b0789f5891ff4d81acd5dfa96dce7e8c",
       "version_major": 2,
       "version_minor": 0
      },
      "text/plain": [
       "  0%|          | 0/205 [00:00<?, ?it/s]"
      ]
     },
     "metadata": {},
     "output_type": "display_data"
    },
    {
     "name": "stderr",
     "output_type": "stream",
     "text": [
      "Saving model checkpoint to ./results/checkpoint-125\n",
      "Configuration saved in ./results/checkpoint-125/config.json\n"
     ]
    },
    {
     "name": "stdout",
     "output_type": "stream",
     "text": [
      "{'eval_loss': 1.151579737663269, 'eval_accuracy': 0.5430140329469189, 'eval_f1': 0.5119944534869221, 'eval_precision': 0.5786226302855562, 'eval_recall': 0.5072202899274567, 'eval_runtime': 321.0836, 'eval_samples_per_second': 5.105, 'eval_steps_per_second': 0.638, 'epoch': 0.07}\n"
     ]
    },
    {
     "name": "stderr",
     "output_type": "stream",
     "text": [
      "Model weights saved in ./results/checkpoint-125/pytorch_model.bin\n",
      "Deleting older checkpoint [results/checkpoint-1600] due to args.save_total_limit\n",
      "***** Running Evaluation *****\n",
      "  Num examples = 1639\n",
      "  Batch size = 8\n"
     ]
    },
    {
     "data": {
      "application/vnd.jupyter.widget-view+json": {
       "model_id": "d2706eec474948948bf39b8c7768745b",
       "version_major": 2,
       "version_minor": 0
      },
      "text/plain": [
       "  0%|          | 0/205 [00:00<?, ?it/s]"
      ]
     },
     "metadata": {},
     "output_type": "display_data"
    },
    {
     "name": "stderr",
     "output_type": "stream",
     "text": [
      "Saving model checkpoint to ./results/checkpoint-150\n",
      "Configuration saved in ./results/checkpoint-150/config.json\n"
     ]
    },
    {
     "name": "stdout",
     "output_type": "stream",
     "text": [
      "{'eval_loss': 1.2985361814498901, 'eval_accuracy': 0.5661989017693716, 'eval_f1': 0.4256682238702158, 'eval_precision': 0.5805333586784424, 'eval_recall': 0.42920442211473964, 'eval_runtime': 321.7434, 'eval_samples_per_second': 5.094, 'eval_steps_per_second': 0.637, 'epoch': 0.08}\n"
     ]
    },
    {
     "name": "stderr",
     "output_type": "stream",
     "text": [
      "Model weights saved in ./results/checkpoint-150/pytorch_model.bin\n",
      "Deleting older checkpoint [results/checkpoint-1625] due to args.save_total_limit\n",
      "***** Running Evaluation *****\n",
      "  Num examples = 1639\n",
      "  Batch size = 8\n"
     ]
    },
    {
     "data": {
      "application/vnd.jupyter.widget-view+json": {
       "model_id": "de379e127adf448c8ca71b95e41d7bd2",
       "version_major": 2,
       "version_minor": 0
      },
      "text/plain": [
       "  0%|          | 0/205 [00:00<?, ?it/s]"
      ]
     },
     "metadata": {},
     "output_type": "display_data"
    },
    {
     "name": "stderr",
     "output_type": "stream",
     "text": [
      "Saving model checkpoint to ./results/checkpoint-175\n",
      "Configuration saved in ./results/checkpoint-175/config.json\n"
     ]
    },
    {
     "name": "stdout",
     "output_type": "stream",
     "text": [
      "{'eval_loss': 1.0739641189575195, 'eval_accuracy': 0.5625381330079317, 'eval_f1': 0.5156951729833315, 'eval_precision': 0.5562626968717053, 'eval_recall': 0.5343183902501084, 'eval_runtime': 320.6625, 'eval_samples_per_second': 5.111, 'eval_steps_per_second': 0.639, 'epoch': 0.09}\n"
     ]
    },
    {
     "name": "stderr",
     "output_type": "stream",
     "text": [
      "Model weights saved in ./results/checkpoint-175/pytorch_model.bin\n",
      "Deleting older checkpoint [results/checkpoint-1650] due to args.save_total_limit\n",
      "***** Running Evaluation *****\n",
      "  Num examples = 1639\n",
      "  Batch size = 8\n"
     ]
    },
    {
     "data": {
      "application/vnd.jupyter.widget-view+json": {
       "model_id": "64b188ca91e3497fbe5449c223fccf04",
       "version_major": 2,
       "version_minor": 0
      },
      "text/plain": [
       "  0%|          | 0/205 [00:00<?, ?it/s]"
      ]
     },
     "metadata": {},
     "output_type": "display_data"
    },
    {
     "name": "stderr",
     "output_type": "stream",
     "text": [
      "Saving model checkpoint to ./results/checkpoint-200\n",
      "Configuration saved in ./results/checkpoint-200/config.json\n"
     ]
    },
    {
     "name": "stdout",
     "output_type": "stream",
     "text": [
      "{'eval_loss': 1.0462199449539185, 'eval_accuracy': 0.6089078706528371, 'eval_f1': 0.5649353719457472, 'eval_precision': 0.5825271440761, 'eval_recall': 0.5525087676533043, 'eval_runtime': 320.105, 'eval_samples_per_second': 5.12, 'eval_steps_per_second': 0.64, 'epoch': 0.11}\n"
     ]
    },
    {
     "name": "stderr",
     "output_type": "stream",
     "text": [
      "Model weights saved in ./results/checkpoint-200/pytorch_model.bin\n",
      "Deleting older checkpoint [results/checkpoint-1675] due to args.save_total_limit\n",
      "***** Running Evaluation *****\n",
      "  Num examples = 1639\n",
      "  Batch size = 8\n"
     ]
    },
    {
     "data": {
      "application/vnd.jupyter.widget-view+json": {
       "model_id": "5547d178957d4094a1ffb69500fb86db",
       "version_major": 2,
       "version_minor": 0
      },
      "text/plain": [
       "  0%|          | 0/205 [00:00<?, ?it/s]"
      ]
     },
     "metadata": {},
     "output_type": "display_data"
    },
    {
     "name": "stderr",
     "output_type": "stream",
     "text": [
      "Saving model checkpoint to ./results/checkpoint-225\n",
      "Configuration saved in ./results/checkpoint-225/config.json\n"
     ]
    },
    {
     "name": "stdout",
     "output_type": "stream",
     "text": [
      "{'eval_loss': 1.0735210180282593, 'eval_accuracy': 0.5332519829164124, 'eval_f1': 0.5149232533017509, 'eval_precision': 0.5258149585060536, 'eval_recall': 0.5512258061619895, 'eval_runtime': 320.9894, 'eval_samples_per_second': 5.106, 'eval_steps_per_second': 0.639, 'epoch': 0.12}\n"
     ]
    },
    {
     "name": "stderr",
     "output_type": "stream",
     "text": [
      "Model weights saved in ./results/checkpoint-225/pytorch_model.bin\n",
      "Deleting older checkpoint [results/checkpoint-1700] due to args.save_total_limit\n",
      "***** Running Evaluation *****\n",
      "  Num examples = 1639\n",
      "  Batch size = 8\n"
     ]
    },
    {
     "data": {
      "application/vnd.jupyter.widget-view+json": {
       "model_id": "16b3b87a0a70486f8ce9b0989aff3a13",
       "version_major": 2,
       "version_minor": 0
      },
      "text/plain": [
       "  0%|          | 0/205 [00:00<?, ?it/s]"
      ]
     },
     "metadata": {},
     "output_type": "display_data"
    },
    {
     "name": "stderr",
     "output_type": "stream",
     "text": [
      "Saving model checkpoint to ./results/checkpoint-250\n",
      "Configuration saved in ./results/checkpoint-250/config.json\n"
     ]
    },
    {
     "name": "stdout",
     "output_type": "stream",
     "text": [
      "{'eval_loss': 1.2487666606903076, 'eval_accuracy': 0.49115314215985356, 'eval_f1': 0.4199813425476161, 'eval_precision': 0.5753119226897553, 'eval_recall': 0.4120198646060168, 'eval_runtime': 321.9328, 'eval_samples_per_second': 5.091, 'eval_steps_per_second': 0.637, 'epoch': 0.14}\n"
     ]
    },
    {
     "name": "stderr",
     "output_type": "stream",
     "text": [
      "Model weights saved in ./results/checkpoint-250/pytorch_model.bin\n",
      "Deleting older checkpoint [results/checkpoint-1725] due to args.save_total_limit\n",
      "***** Running Evaluation *****\n",
      "  Num examples = 1639\n",
      "  Batch size = 8\n"
     ]
    },
    {
     "data": {
      "application/vnd.jupyter.widget-view+json": {
       "model_id": "093b0fb29e18438196834e4fab189854",
       "version_major": 2,
       "version_minor": 0
      },
      "text/plain": [
       "  0%|          | 0/205 [00:00<?, ?it/s]"
      ]
     },
     "metadata": {},
     "output_type": "display_data"
    },
    {
     "name": "stderr",
     "output_type": "stream",
     "text": [
      "Saving model checkpoint to ./results/checkpoint-275\n",
      "Configuration saved in ./results/checkpoint-275/config.json\n"
     ]
    },
    {
     "name": "stdout",
     "output_type": "stream",
     "text": [
      "{'eval_loss': 1.1435210704803467, 'eval_accuracy': 0.47712019524100063, 'eval_f1': 0.46639879002209755, 'eval_precision': 0.5594662360664028, 'eval_recall': 0.4962306445197949, 'eval_runtime': 321.889, 'eval_samples_per_second': 5.092, 'eval_steps_per_second': 0.637, 'epoch': 0.15}\n"
     ]
    },
    {
     "name": "stderr",
     "output_type": "stream",
     "text": [
      "Model weights saved in ./results/checkpoint-275/pytorch_model.bin\n",
      "Deleting older checkpoint [results/checkpoint-1750] due to args.save_total_limit\n",
      "***** Running Evaluation *****\n",
      "  Num examples = 1639\n",
      "  Batch size = 8\n"
     ]
    },
    {
     "data": {
      "application/vnd.jupyter.widget-view+json": {
       "model_id": "d2b0c2a8a48e4c8e838e3f056628cfb0",
       "version_major": 2,
       "version_minor": 0
      },
      "text/plain": [
       "  0%|          | 0/205 [00:00<?, ?it/s]"
      ]
     },
     "metadata": {},
     "output_type": "display_data"
    },
    {
     "name": "stderr",
     "output_type": "stream",
     "text": [
      "Saving model checkpoint to ./results/checkpoint-300\n",
      "Configuration saved in ./results/checkpoint-300/config.json\n"
     ]
    },
    {
     "name": "stdout",
     "output_type": "stream",
     "text": [
      "{'eval_loss': 1.0946141481399536, 'eval_accuracy': 0.6034167175106773, 'eval_f1': 0.5517376043001023, 'eval_precision': 0.5882805541645012, 'eval_recall': 0.5444452715196361, 'eval_runtime': 326.2845, 'eval_samples_per_second': 5.023, 'eval_steps_per_second': 0.628, 'epoch': 0.16}\n"
     ]
    },
    {
     "name": "stderr",
     "output_type": "stream",
     "text": [
      "Model weights saved in ./results/checkpoint-300/pytorch_model.bin\n",
      "Deleting older checkpoint [results/checkpoint-50] due to args.save_total_limit\n",
      "***** Running Evaluation *****\n",
      "  Num examples = 1639\n",
      "  Batch size = 8\n"
     ]
    },
    {
     "data": {
      "application/vnd.jupyter.widget-view+json": {
       "model_id": "97fc34526d0345a2a44f39a8b27908ea",
       "version_major": 2,
       "version_minor": 0
      },
      "text/plain": [
       "  0%|          | 0/205 [00:00<?, ?it/s]"
      ]
     },
     "metadata": {},
     "output_type": "display_data"
    },
    {
     "name": "stderr",
     "output_type": "stream",
     "text": [
      "Saving model checkpoint to ./results/checkpoint-325\n",
      "Configuration saved in ./results/checkpoint-325/config.json\n"
     ]
    },
    {
     "name": "stdout",
     "output_type": "stream",
     "text": [
      "{'eval_loss': 1.130142092704773, 'eval_accuracy': 0.5729103111653447, 'eval_f1': 0.4751172191097101, 'eval_precision': 0.5754041395549532, 'eval_recall': 0.4798105933081711, 'eval_runtime': 327.9825, 'eval_samples_per_second': 4.997, 'eval_steps_per_second': 0.625, 'epoch': 0.18}\n"
     ]
    },
    {
     "name": "stderr",
     "output_type": "stream",
     "text": [
      "Model weights saved in ./results/checkpoint-325/pytorch_model.bin\n",
      "Deleting older checkpoint [results/checkpoint-75] due to args.save_total_limit\n",
      "***** Running Evaluation *****\n",
      "  Num examples = 1639\n",
      "  Batch size = 8\n"
     ]
    },
    {
     "data": {
      "application/vnd.jupyter.widget-view+json": {
       "model_id": "89ba4a54ebf6459da85fc5e3f79a3993",
       "version_major": 2,
       "version_minor": 0
      },
      "text/plain": [
       "  0%|          | 0/205 [00:00<?, ?it/s]"
      ]
     },
     "metadata": {},
     "output_type": "display_data"
    },
    {
     "name": "stderr",
     "output_type": "stream",
     "text": [
      "Saving model checkpoint to ./results/checkpoint-350\n",
      "Configuration saved in ./results/checkpoint-350/config.json\n"
     ]
    },
    {
     "name": "stdout",
     "output_type": "stream",
     "text": [
      "{'eval_loss': 0.9956300258636475, 'eval_accuracy': 0.6064673581452105, 'eval_f1': 0.5618681690673372, 'eval_precision': 0.5696545765712218, 'eval_recall': 0.561689309385973, 'eval_runtime': 321.1516, 'eval_samples_per_second': 5.104, 'eval_steps_per_second': 0.638, 'epoch': 0.19}\n"
     ]
    },
    {
     "name": "stderr",
     "output_type": "stream",
     "text": [
      "Model weights saved in ./results/checkpoint-350/pytorch_model.bin\n",
      "Deleting older checkpoint [results/checkpoint-100] due to args.save_total_limit\n",
      "***** Running Evaluation *****\n",
      "  Num examples = 1639\n",
      "  Batch size = 8\n"
     ]
    },
    {
     "data": {
      "application/vnd.jupyter.widget-view+json": {
       "model_id": "08e52ab6c49646bf91eaf472ffdb7289",
       "version_major": 2,
       "version_minor": 0
      },
      "text/plain": [
       "  0%|          | 0/205 [00:00<?, ?it/s]"
      ]
     },
     "metadata": {},
     "output_type": "display_data"
    },
    {
     "name": "stderr",
     "output_type": "stream",
     "text": [
      "Saving model checkpoint to ./results/checkpoint-375\n",
      "Configuration saved in ./results/checkpoint-375/config.json\n"
     ]
    },
    {
     "name": "stdout",
     "output_type": "stream",
     "text": [
      "{'eval_loss': 1.0505166053771973, 'eval_accuracy': 0.5808419768151312, 'eval_f1': 0.517697706041633, 'eval_precision': 0.5371438108009674, 'eval_recall': 0.5486210349723517, 'eval_runtime': 326.4877, 'eval_samples_per_second': 5.02, 'eval_steps_per_second': 0.628, 'epoch': 0.2}\n"
     ]
    },
    {
     "name": "stderr",
     "output_type": "stream",
     "text": [
      "Model weights saved in ./results/checkpoint-375/pytorch_model.bin\n",
      "Deleting older checkpoint [results/checkpoint-125] due to args.save_total_limit\n",
      "***** Running Evaluation *****\n",
      "  Num examples = 1639\n",
      "  Batch size = 8\n"
     ]
    },
    {
     "data": {
      "application/vnd.jupyter.widget-view+json": {
       "model_id": "75d6d89b4819479aa048f2d0d5da19c3",
       "version_major": 2,
       "version_minor": 0
      },
      "text/plain": [
       "  0%|          | 0/205 [00:00<?, ?it/s]"
      ]
     },
     "metadata": {},
     "output_type": "display_data"
    },
    {
     "name": "stderr",
     "output_type": "stream",
     "text": [
      "Saving model checkpoint to ./results/checkpoint-400\n",
      "Configuration saved in ./results/checkpoint-400/config.json\n"
     ]
    },
    {
     "name": "stdout",
     "output_type": "stream",
     "text": [
      "{'eval_loss': 1.0917481184005737, 'eval_accuracy': 0.5308114704087858, 'eval_f1': 0.5113496673672708, 'eval_precision': 0.5279180975847805, 'eval_recall': 0.5252430656927848, 'eval_runtime': 328.3772, 'eval_samples_per_second': 4.991, 'eval_steps_per_second': 0.624, 'epoch': 0.22}\n"
     ]
    },
    {
     "name": "stderr",
     "output_type": "stream",
     "text": [
      "Model weights saved in ./results/checkpoint-400/pytorch_model.bin\n",
      "Deleting older checkpoint [results/checkpoint-150] due to args.save_total_limit\n",
      "***** Running Evaluation *****\n",
      "  Num examples = 1639\n",
      "  Batch size = 8\n"
     ]
    },
    {
     "data": {
      "application/vnd.jupyter.widget-view+json": {
       "model_id": "1713f119cbbf4d018fd33e972e6611d7",
       "version_major": 2,
       "version_minor": 0
      },
      "text/plain": [
       "  0%|          | 0/205 [00:00<?, ?it/s]"
      ]
     },
     "metadata": {},
     "output_type": "display_data"
    },
    {
     "name": "stderr",
     "output_type": "stream",
     "text": [
      "Saving model checkpoint to ./results/checkpoint-425\n",
      "Configuration saved in ./results/checkpoint-425/config.json\n"
     ]
    },
    {
     "name": "stdout",
     "output_type": "stream",
     "text": [
      "{'eval_loss': 1.2123360633850098, 'eval_accuracy': 0.6186699206833435, 'eval_f1': 0.5545515749784278, 'eval_precision': 0.5981873955544875, 'eval_recall': 0.5371230926323916, 'eval_runtime': 321.5775, 'eval_samples_per_second': 5.097, 'eval_steps_per_second': 0.637, 'epoch': 0.23}\n"
     ]
    },
    {
     "name": "stderr",
     "output_type": "stream",
     "text": [
      "Model weights saved in ./results/checkpoint-425/pytorch_model.bin\n",
      "Deleting older checkpoint [results/checkpoint-175] due to args.save_total_limit\n",
      "***** Running Evaluation *****\n",
      "  Num examples = 1639\n",
      "  Batch size = 8\n"
     ]
    },
    {
     "data": {
      "application/vnd.jupyter.widget-view+json": {
       "model_id": "9c45257f00954b7194d6ce4ca4e9ad15",
       "version_major": 2,
       "version_minor": 0
      },
      "text/plain": [
       "  0%|          | 0/205 [00:00<?, ?it/s]"
      ]
     },
     "metadata": {},
     "output_type": "display_data"
    },
    {
     "name": "stderr",
     "output_type": "stream",
     "text": [
      "Saving model checkpoint to ./results/checkpoint-450\n",
      "Configuration saved in ./results/checkpoint-450/config.json\n"
     ]
    },
    {
     "name": "stdout",
     "output_type": "stream",
     "text": [
      "{'eval_loss': 1.0636109113693237, 'eval_accuracy': 0.5491153142159854, 'eval_f1': 0.5056025174601172, 'eval_precision': 0.4951012421200659, 'eval_recall': 0.5479130900239302, 'eval_runtime': 320.1897, 'eval_samples_per_second': 5.119, 'eval_steps_per_second': 0.64, 'epoch': 0.24}\n"
     ]
    },
    {
     "name": "stderr",
     "output_type": "stream",
     "text": [
      "Model weights saved in ./results/checkpoint-450/pytorch_model.bin\n",
      "Deleting older checkpoint [results/checkpoint-200] due to args.save_total_limit\n",
      "***** Running Evaluation *****\n",
      "  Num examples = 1639\n",
      "  Batch size = 8\n"
     ]
    },
    {
     "data": {
      "application/vnd.jupyter.widget-view+json": {
       "model_id": "929a182d622b4e30a52f1f25d90fb251",
       "version_major": 2,
       "version_minor": 0
      },
      "text/plain": [
       "  0%|          | 0/205 [00:00<?, ?it/s]"
      ]
     },
     "metadata": {},
     "output_type": "display_data"
    },
    {
     "name": "stderr",
     "output_type": "stream",
     "text": [
      "Saving model checkpoint to ./results/checkpoint-475\n",
      "Configuration saved in ./results/checkpoint-475/config.json\n"
     ]
    },
    {
     "name": "stdout",
     "output_type": "stream",
     "text": [
      "{'eval_loss': 1.0414845943450928, 'eval_accuracy': 0.6180597925564368, 'eval_f1': 0.5384219634173127, 'eval_precision': 0.5775904341436681, 'eval_recall': 0.5333003543631342, 'eval_runtime': 321.752, 'eval_samples_per_second': 5.094, 'eval_steps_per_second': 0.637, 'epoch': 0.26}\n"
     ]
    },
    {
     "name": "stderr",
     "output_type": "stream",
     "text": [
      "Model weights saved in ./results/checkpoint-475/pytorch_model.bin\n",
      "Deleting older checkpoint [results/checkpoint-225] due to args.save_total_limit\n",
      "***** Running Evaluation *****\n",
      "  Num examples = 1639\n",
      "  Batch size = 8\n"
     ]
    },
    {
     "name": "stdout",
     "output_type": "stream",
     "text": [
      "{'loss': 1.1784, 'learning_rate': 4.986449864498645e-05, 'epoch': 0.27}\n"
     ]
    },
    {
     "data": {
      "application/vnd.jupyter.widget-view+json": {
       "model_id": "27457d7167ba43e799ed8b3e0b0006d4",
       "version_major": 2,
       "version_minor": 0
      },
      "text/plain": [
       "  0%|          | 0/205 [00:00<?, ?it/s]"
      ]
     },
     "metadata": {},
     "output_type": "display_data"
    },
    {
     "name": "stderr",
     "output_type": "stream",
     "text": [
      "Saving model checkpoint to ./results/checkpoint-500\n",
      "Configuration saved in ./results/checkpoint-500/config.json\n"
     ]
    },
    {
     "name": "stdout",
     "output_type": "stream",
     "text": [
      "{'eval_loss': 1.0596760511398315, 'eval_accuracy': 0.5784014643075046, 'eval_f1': 0.4789497173476153, 'eval_precision': 0.497304395234827, 'eval_recall': 0.5429935488263317, 'eval_runtime': 320.5952, 'eval_samples_per_second': 5.112, 'eval_steps_per_second': 0.639, 'epoch': 0.27}\n"
     ]
    },
    {
     "name": "stderr",
     "output_type": "stream",
     "text": [
      "Model weights saved in ./results/checkpoint-500/pytorch_model.bin\n",
      "Deleting older checkpoint [results/checkpoint-250] due to args.save_total_limit\n",
      "***** Running Evaluation *****\n",
      "  Num examples = 1639\n",
      "  Batch size = 8\n"
     ]
    },
    {
     "data": {
      "application/vnd.jupyter.widget-view+json": {
       "model_id": "a1590e878043491d90305577035d5bfc",
       "version_major": 2,
       "version_minor": 0
      },
      "text/plain": [
       "  0%|          | 0/205 [00:00<?, ?it/s]"
      ]
     },
     "metadata": {},
     "output_type": "display_data"
    },
    {
     "name": "stderr",
     "output_type": "stream",
     "text": [
      "Saving model checkpoint to ./results/checkpoint-525\n",
      "Configuration saved in ./results/checkpoint-525/config.json\n"
     ]
    },
    {
     "name": "stdout",
     "output_type": "stream",
     "text": [
      "{'eval_loss': 1.2911714315414429, 'eval_accuracy': 0.561928004881025, 'eval_f1': 0.4677491299397313, 'eval_precision': 0.5606003957728095, 'eval_recall': 0.4727424898932545, 'eval_runtime': 320.0707, 'eval_samples_per_second': 5.121, 'eval_steps_per_second': 0.64, 'epoch': 0.28}\n"
     ]
    },
    {
     "name": "stderr",
     "output_type": "stream",
     "text": [
      "Model weights saved in ./results/checkpoint-525/pytorch_model.bin\n",
      "Deleting older checkpoint [results/checkpoint-275] due to args.save_total_limit\n",
      "***** Running Evaluation *****\n",
      "  Num examples = 1639\n",
      "  Batch size = 8\n"
     ]
    },
    {
     "data": {
      "application/vnd.jupyter.widget-view+json": {
       "model_id": "856fff36b6864386b0b04e1d11cc8fd3",
       "version_major": 2,
       "version_minor": 0
      },
      "text/plain": [
       "  0%|          | 0/205 [00:00<?, ?it/s]"
      ]
     },
     "metadata": {},
     "output_type": "display_data"
    },
    {
     "name": "stderr",
     "output_type": "stream",
     "text": [
      "Saving model checkpoint to ./results/checkpoint-550\n",
      "Configuration saved in ./results/checkpoint-550/config.json\n"
     ]
    },
    {
     "name": "stdout",
     "output_type": "stream",
     "text": [
      "{'eval_loss': 1.5449033975601196, 'eval_accuracy': 0.5570469798657718, 'eval_f1': 0.4083192165536613, 'eval_precision': 0.5466025826108581, 'eval_recall': 0.4006537598301649, 'eval_runtime': 320.5918, 'eval_samples_per_second': 5.112, 'eval_steps_per_second': 0.639, 'epoch': 0.3}\n"
     ]
    },
    {
     "name": "stderr",
     "output_type": "stream",
     "text": [
      "Model weights saved in ./results/checkpoint-550/pytorch_model.bin\n",
      "Deleting older checkpoint [results/checkpoint-300] due to args.save_total_limit\n",
      "***** Running Evaluation *****\n",
      "  Num examples = 1639\n",
      "  Batch size = 8\n"
     ]
    },
    {
     "data": {
      "application/vnd.jupyter.widget-view+json": {
       "model_id": "06c71eba4dee435596e1324a9d348b59",
       "version_major": 2,
       "version_minor": 0
      },
      "text/plain": [
       "  0%|          | 0/205 [00:00<?, ?it/s]"
      ]
     },
     "metadata": {},
     "output_type": "display_data"
    },
    {
     "name": "stderr",
     "output_type": "stream",
     "text": [
      "Saving model checkpoint to ./results/checkpoint-575\n",
      "Configuration saved in ./results/checkpoint-575/config.json\n"
     ]
    },
    {
     "name": "stdout",
     "output_type": "stream",
     "text": [
      "{'eval_loss': 1.6020926237106323, 'eval_accuracy': 0.5167785234899329, 'eval_f1': 0.3811071578551755, 'eval_precision': 0.5086693019174151, 'eval_recall': 0.41876843082767, 'eval_runtime': 320.2773, 'eval_samples_per_second': 5.117, 'eval_steps_per_second': 0.64, 'epoch': 0.31}\n"
     ]
    },
    {
     "name": "stderr",
     "output_type": "stream",
     "text": [
      "Model weights saved in ./results/checkpoint-575/pytorch_model.bin\n",
      "Deleting older checkpoint [results/checkpoint-325] due to args.save_total_limit\n",
      "***** Running Evaluation *****\n",
      "  Num examples = 1639\n",
      "  Batch size = 8\n"
     ]
    },
    {
     "data": {
      "application/vnd.jupyter.widget-view+json": {
       "model_id": "4c5492a4a95d4b3492fa208761972de0",
       "version_major": 2,
       "version_minor": 0
      },
      "text/plain": [
       "  0%|          | 0/205 [00:00<?, ?it/s]"
      ]
     },
     "metadata": {},
     "output_type": "display_data"
    },
    {
     "name": "stderr",
     "output_type": "stream",
     "text": [
      "Saving model checkpoint to ./results/checkpoint-600\n",
      "Configuration saved in ./results/checkpoint-600/config.json\n"
     ]
    },
    {
     "name": "stdout",
     "output_type": "stream",
     "text": [
      "{'eval_loss': 0.9924050569534302, 'eval_accuracy': 0.5820622330689444, 'eval_f1': 0.5105913062523765, 'eval_precision': 0.5233502949048516, 'eval_recall': 0.5474156371696852, 'eval_runtime': 320.1825, 'eval_samples_per_second': 5.119, 'eval_steps_per_second': 0.64, 'epoch': 0.33}\n"
     ]
    },
    {
     "name": "stderr",
     "output_type": "stream",
     "text": [
      "Model weights saved in ./results/checkpoint-600/pytorch_model.bin\n",
      "Deleting older checkpoint [results/checkpoint-350] due to args.save_total_limit\n",
      "***** Running Evaluation *****\n",
      "  Num examples = 1639\n",
      "  Batch size = 8\n"
     ]
    },
    {
     "data": {
      "application/vnd.jupyter.widget-view+json": {
       "model_id": "83154f24582440de8fe7069eb96c3979",
       "version_major": 2,
       "version_minor": 0
      },
      "text/plain": [
       "  0%|          | 0/205 [00:00<?, ?it/s]"
      ]
     },
     "metadata": {},
     "output_type": "display_data"
    },
    {
     "name": "stderr",
     "output_type": "stream",
     "text": [
      "Saving model checkpoint to ./results/checkpoint-625\n",
      "Configuration saved in ./results/checkpoint-625/config.json\n"
     ]
    },
    {
     "name": "stdout",
     "output_type": "stream",
     "text": [
      "{'eval_loss': 1.1245852708816528, 'eval_accuracy': 0.5106772422208664, 'eval_f1': 0.4809608605959202, 'eval_precision': 0.48094075549097, 'eval_recall': 0.5261155514894837, 'eval_runtime': 318.55, 'eval_samples_per_second': 5.145, 'eval_steps_per_second': 0.644, 'epoch': 0.34}\n"
     ]
    },
    {
     "name": "stderr",
     "output_type": "stream",
     "text": [
      "Model weights saved in ./results/checkpoint-625/pytorch_model.bin\n",
      "Deleting older checkpoint [results/checkpoint-375] due to args.save_total_limit\n",
      "***** Running Evaluation *****\n",
      "  Num examples = 1639\n",
      "  Batch size = 8\n"
     ]
    },
    {
     "data": {
      "application/vnd.jupyter.widget-view+json": {
       "model_id": "8e03dc06b6b6431bb17b8b7b2bd59e8c",
       "version_major": 2,
       "version_minor": 0
      },
      "text/plain": [
       "  0%|          | 0/205 [00:00<?, ?it/s]"
      ]
     },
     "metadata": {},
     "output_type": "display_data"
    },
    {
     "name": "stderr",
     "output_type": "stream",
     "text": [
      "Saving model checkpoint to ./results/checkpoint-650\n",
      "Configuration saved in ./results/checkpoint-650/config.json\n"
     ]
    },
    {
     "name": "stdout",
     "output_type": "stream",
     "text": [
      "{'eval_loss': 1.0135436058044434, 'eval_accuracy': 0.5875533862111043, 'eval_f1': 0.5308860728821508, 'eval_precision': 0.5554398456866297, 'eval_recall': 0.5405887303773311, 'eval_runtime': 318.1859, 'eval_samples_per_second': 5.151, 'eval_steps_per_second': 0.644, 'epoch': 0.35}\n"
     ]
    },
    {
     "name": "stderr",
     "output_type": "stream",
     "text": [
      "Model weights saved in ./results/checkpoint-650/pytorch_model.bin\n",
      "Deleting older checkpoint [results/checkpoint-400] due to args.save_total_limit\n",
      "***** Running Evaluation *****\n",
      "  Num examples = 1639\n",
      "  Batch size = 8\n"
     ]
    },
    {
     "data": {
      "application/vnd.jupyter.widget-view+json": {
       "model_id": "f99065d9b18848c293fd9092b3fed3d1",
       "version_major": 2,
       "version_minor": 0
      },
      "text/plain": [
       "  0%|          | 0/205 [00:00<?, ?it/s]"
      ]
     },
     "metadata": {},
     "output_type": "display_data"
    },
    {
     "name": "stderr",
     "output_type": "stream",
     "text": [
      "Saving model checkpoint to ./results/checkpoint-675\n",
      "Configuration saved in ./results/checkpoint-675/config.json\n"
     ]
    },
    {
     "name": "stdout",
     "output_type": "stream",
     "text": [
      "{'eval_loss': 1.0460056066513062, 'eval_accuracy': 0.5802318486882245, 'eval_f1': 0.5118194162782406, 'eval_precision': 0.5583234300605697, 'eval_recall': 0.522855403959877, 'eval_runtime': 319.4796, 'eval_samples_per_second': 5.13, 'eval_steps_per_second': 0.642, 'epoch': 0.37}\n"
     ]
    },
    {
     "name": "stderr",
     "output_type": "stream",
     "text": [
      "Model weights saved in ./results/checkpoint-675/pytorch_model.bin\n",
      "Deleting older checkpoint [results/checkpoint-425] due to args.save_total_limit\n",
      "***** Running Evaluation *****\n",
      "  Num examples = 1639\n",
      "  Batch size = 8\n"
     ]
    },
    {
     "data": {
      "application/vnd.jupyter.widget-view+json": {
       "model_id": "ab31c134fa844ad99b9b304845582b19",
       "version_major": 2,
       "version_minor": 0
      },
      "text/plain": [
       "  0%|          | 0/205 [00:00<?, ?it/s]"
      ]
     },
     "metadata": {},
     "output_type": "display_data"
    },
    {
     "name": "stderr",
     "output_type": "stream",
     "text": [
      "Saving model checkpoint to ./results/checkpoint-700\n",
      "Configuration saved in ./results/checkpoint-700/config.json\n"
     ]
    },
    {
     "name": "stdout",
     "output_type": "stream",
     "text": [
      "{'eval_loss': 1.0600783824920654, 'eval_accuracy': 0.5411836485661989, 'eval_f1': 0.4830154127272646, 'eval_precision': 0.477114306187544, 'eval_recall': 0.5382605191939825, 'eval_runtime': 320.4778, 'eval_samples_per_second': 5.114, 'eval_steps_per_second': 0.64, 'epoch': 0.38}\n"
     ]
    },
    {
     "name": "stderr",
     "output_type": "stream",
     "text": [
      "Model weights saved in ./results/checkpoint-700/pytorch_model.bin\n",
      "Deleting older checkpoint [results/checkpoint-450] due to args.save_total_limit\n",
      "***** Running Evaluation *****\n",
      "  Num examples = 1639\n",
      "  Batch size = 8\n"
     ]
    },
    {
     "data": {
      "application/vnd.jupyter.widget-view+json": {
       "model_id": "eb18ddc20762415db36fdd9a9b593f38",
       "version_major": 2,
       "version_minor": 0
      },
      "text/plain": [
       "  0%|          | 0/205 [00:00<?, ?it/s]"
      ]
     },
     "metadata": {},
     "output_type": "display_data"
    },
    {
     "name": "stderr",
     "output_type": "stream",
     "text": [
      "Saving model checkpoint to ./results/checkpoint-725\n",
      "Configuration saved in ./results/checkpoint-725/config.json\n"
     ]
    },
    {
     "name": "stdout",
     "output_type": "stream",
     "text": [
      "{'eval_loss': 1.0763579607009888, 'eval_accuracy': 0.5515558267236119, 'eval_f1': 0.480160737221091, 'eval_precision': 0.6015677202371914, 'eval_recall': 0.4972306304494694, 'eval_runtime': 319.613, 'eval_samples_per_second': 5.128, 'eval_steps_per_second': 0.641, 'epoch': 0.39}\n"
     ]
    },
    {
     "name": "stderr",
     "output_type": "stream",
     "text": [
      "Model weights saved in ./results/checkpoint-725/pytorch_model.bin\n",
      "Deleting older checkpoint [results/checkpoint-475] due to args.save_total_limit\n",
      "***** Running Evaluation *****\n",
      "  Num examples = 1639\n",
      "  Batch size = 8\n"
     ]
    },
    {
     "data": {
      "application/vnd.jupyter.widget-view+json": {
       "model_id": "5315fc9754264d45a8cb7dee80cf54fe",
       "version_major": 2,
       "version_minor": 0
      },
      "text/plain": [
       "  0%|          | 0/205 [00:00<?, ?it/s]"
      ]
     },
     "metadata": {},
     "output_type": "display_data"
    },
    {
     "name": "stderr",
     "output_type": "stream",
     "text": [
      "Saving model checkpoint to ./results/checkpoint-750\n",
      "Configuration saved in ./results/checkpoint-750/config.json\n"
     ]
    },
    {
     "name": "stdout",
     "output_type": "stream",
     "text": [
      "{'eval_loss': 1.072273850440979, 'eval_accuracy': 0.5771812080536913, 'eval_f1': 0.4842489911720381, 'eval_precision': 0.5083313055098151, 'eval_recall': 0.520128713772295, 'eval_runtime': 321.2064, 'eval_samples_per_second': 5.103, 'eval_steps_per_second': 0.638, 'epoch': 0.41}\n"
     ]
    },
    {
     "name": "stderr",
     "output_type": "stream",
     "text": [
      "Model weights saved in ./results/checkpoint-750/pytorch_model.bin\n",
      "Deleting older checkpoint [results/checkpoint-500] due to args.save_total_limit\n",
      "***** Running Evaluation *****\n",
      "  Num examples = 1639\n",
      "  Batch size = 8\n"
     ]
    },
    {
     "data": {
      "application/vnd.jupyter.widget-view+json": {
       "model_id": "a54ad40b99504d73a7683cdf7ea69af5",
       "version_major": 2,
       "version_minor": 0
      },
      "text/plain": [
       "  0%|          | 0/205 [00:00<?, ?it/s]"
      ]
     },
     "metadata": {},
     "output_type": "display_data"
    },
    {
     "name": "stderr",
     "output_type": "stream",
     "text": [
      "Saving model checkpoint to ./results/checkpoint-775\n",
      "Configuration saved in ./results/checkpoint-775/config.json\n"
     ]
    },
    {
     "name": "stdout",
     "output_type": "stream",
     "text": [
      "{'eval_loss': 0.9949927926063538, 'eval_accuracy': 0.6046369737644905, 'eval_f1': 0.5454060703472778, 'eval_precision': 0.568220697417587, 'eval_recall': 0.5419032885864918, 'eval_runtime': 319.8115, 'eval_samples_per_second': 5.125, 'eval_steps_per_second': 0.641, 'epoch': 0.42}\n"
     ]
    },
    {
     "name": "stderr",
     "output_type": "stream",
     "text": [
      "Model weights saved in ./results/checkpoint-775/pytorch_model.bin\n",
      "Deleting older checkpoint [results/checkpoint-525] due to args.save_total_limit\n",
      "***** Running Evaluation *****\n",
      "  Num examples = 1639\n",
      "  Batch size = 8\n"
     ]
    },
    {
     "data": {
      "application/vnd.jupyter.widget-view+json": {
       "model_id": "e4f50670fcc4463aa819ef35064773ec",
       "version_major": 2,
       "version_minor": 0
      },
      "text/plain": [
       "  0%|          | 0/205 [00:00<?, ?it/s]"
      ]
     },
     "metadata": {},
     "output_type": "display_data"
    },
    {
     "name": "stderr",
     "output_type": "stream",
     "text": [
      "Saving model checkpoint to ./results/checkpoint-800\n",
      "Configuration saved in ./results/checkpoint-800/config.json\n"
     ]
    },
    {
     "name": "stdout",
     "output_type": "stream",
     "text": [
      "{'eval_loss': 1.10088312625885, 'eval_accuracy': 0.5167785234899329, 'eval_f1': 0.45148492262491563, 'eval_precision': 0.465434841511548, 'eval_recall': 0.524633959611599, 'eval_runtime': 319.1488, 'eval_samples_per_second': 5.136, 'eval_steps_per_second': 0.642, 'epoch': 0.43}\n"
     ]
    },
    {
     "name": "stderr",
     "output_type": "stream",
     "text": [
      "Model weights saved in ./results/checkpoint-800/pytorch_model.bin\n",
      "Deleting older checkpoint [results/checkpoint-550] due to args.save_total_limit\n",
      "***** Running Evaluation *****\n",
      "  Num examples = 1639\n",
      "  Batch size = 8\n"
     ]
    },
    {
     "data": {
      "application/vnd.jupyter.widget-view+json": {
       "model_id": "00566ae15b6e449997a34f104ad2b447",
       "version_major": 2,
       "version_minor": 0
      },
      "text/plain": [
       "  0%|          | 0/205 [00:00<?, ?it/s]"
      ]
     },
     "metadata": {},
     "output_type": "display_data"
    },
    {
     "name": "stderr",
     "output_type": "stream",
     "text": [
      "Saving model checkpoint to ./results/checkpoint-825\n",
      "Configuration saved in ./results/checkpoint-825/config.json\n"
     ]
    },
    {
     "name": "stdout",
     "output_type": "stream",
     "text": [
      "{'eval_loss': 1.4235177040100098, 'eval_accuracy': 0.35570469798657717, 'eval_f1': 0.30195954659986535, 'eval_precision': 0.3518166837449484, 'eval_recall': 0.4144608056719649, 'eval_runtime': 320.2696, 'eval_samples_per_second': 5.118, 'eval_steps_per_second': 0.64, 'epoch': 0.45}\n"
     ]
    },
    {
     "name": "stderr",
     "output_type": "stream",
     "text": [
      "Model weights saved in ./results/checkpoint-825/pytorch_model.bin\n",
      "Deleting older checkpoint [results/checkpoint-575] due to args.save_total_limit\n",
      "***** Running Evaluation *****\n",
      "  Num examples = 1639\n",
      "  Batch size = 8\n"
     ]
    },
    {
     "data": {
      "application/vnd.jupyter.widget-view+json": {
       "model_id": "5d794c1620604db3921f619150d61f29",
       "version_major": 2,
       "version_minor": 0
      },
      "text/plain": [
       "  0%|          | 0/205 [00:00<?, ?it/s]"
      ]
     },
     "metadata": {},
     "output_type": "display_data"
    },
    {
     "name": "stderr",
     "output_type": "stream",
     "text": [
      "Saving model checkpoint to ./results/checkpoint-850\n",
      "Configuration saved in ./results/checkpoint-850/config.json\n"
     ]
    },
    {
     "name": "stdout",
     "output_type": "stream",
     "text": [
      "{'eval_loss': 1.0922411680221558, 'eval_accuracy': 0.5491153142159854, 'eval_f1': 0.5071131101338233, 'eval_precision': 0.5783585618929277, 'eval_recall': 0.5191712217389273, 'eval_runtime': 318.8416, 'eval_samples_per_second': 5.14, 'eval_steps_per_second': 0.643, 'epoch': 0.46}\n"
     ]
    },
    {
     "name": "stderr",
     "output_type": "stream",
     "text": [
      "Model weights saved in ./results/checkpoint-850/pytorch_model.bin\n",
      "Deleting older checkpoint [results/checkpoint-600] due to args.save_total_limit\n",
      "***** Running Evaluation *****\n",
      "  Num examples = 1639\n",
      "  Batch size = 8\n"
     ]
    },
    {
     "data": {
      "application/vnd.jupyter.widget-view+json": {
       "model_id": "819412ed03cb42df809542a66a0c4548",
       "version_major": 2,
       "version_minor": 0
      },
      "text/plain": [
       "  0%|          | 0/205 [00:00<?, ?it/s]"
      ]
     },
     "metadata": {},
     "output_type": "display_data"
    },
    {
     "name": "stderr",
     "output_type": "stream",
     "text": [
      "Saving model checkpoint to ./results/checkpoint-875\n",
      "Configuration saved in ./results/checkpoint-875/config.json\n"
     ]
    },
    {
     "name": "stdout",
     "output_type": "stream",
     "text": [
      "{'eval_loss': 1.1081293821334839, 'eval_accuracy': 0.5436241610738255, 'eval_f1': 0.4924232102810704, 'eval_precision': 0.4828340496329474, 'eval_recall': 0.5451632593712631, 'eval_runtime': 319.7255, 'eval_samples_per_second': 5.126, 'eval_steps_per_second': 0.641, 'epoch': 0.47}\n"
     ]
    },
    {
     "name": "stderr",
     "output_type": "stream",
     "text": [
      "Model weights saved in ./results/checkpoint-875/pytorch_model.bin\n",
      "Deleting older checkpoint [results/checkpoint-625] due to args.save_total_limit\n",
      "***** Running Evaluation *****\n",
      "  Num examples = 1639\n",
      "  Batch size = 8\n"
     ]
    },
    {
     "data": {
      "application/vnd.jupyter.widget-view+json": {
       "model_id": "4e68625f2d0e451181560d2a85868cde",
       "version_major": 2,
       "version_minor": 0
      },
      "text/plain": [
       "  0%|          | 0/205 [00:00<?, ?it/s]"
      ]
     },
     "metadata": {},
     "output_type": "display_data"
    },
    {
     "name": "stderr",
     "output_type": "stream",
     "text": [
      "Saving model checkpoint to ./results/checkpoint-900\n",
      "Configuration saved in ./results/checkpoint-900/config.json\n"
     ]
    },
    {
     "name": "stdout",
     "output_type": "stream",
     "text": [
      "{'eval_loss': 1.0260530710220337, 'eval_accuracy': 0.5832824893227577, 'eval_f1': 0.4642569826624383, 'eval_precision': 0.4963426882646062, 'eval_recall': 0.5112926418239103, 'eval_runtime': 320.8147, 'eval_samples_per_second': 5.109, 'eval_steps_per_second': 0.639, 'epoch': 0.49}\n"
     ]
    },
    {
     "name": "stderr",
     "output_type": "stream",
     "text": [
      "Model weights saved in ./results/checkpoint-900/pytorch_model.bin\n",
      "Deleting older checkpoint [results/checkpoint-650] due to args.save_total_limit\n",
      "***** Running Evaluation *****\n",
      "  Num examples = 1639\n",
      "  Batch size = 8\n"
     ]
    },
    {
     "data": {
      "application/vnd.jupyter.widget-view+json": {
       "model_id": "d544f7de28c0414693c1005c80876a8d",
       "version_major": 2,
       "version_minor": 0
      },
      "text/plain": [
       "  0%|          | 0/205 [00:00<?, ?it/s]"
      ]
     },
     "metadata": {},
     "output_type": "display_data"
    },
    {
     "name": "stderr",
     "output_type": "stream",
     "text": [
      "Saving model checkpoint to ./results/checkpoint-925\n",
      "Configuration saved in ./results/checkpoint-925/config.json\n"
     ]
    },
    {
     "name": "stdout",
     "output_type": "stream",
     "text": [
      "{'eval_loss': 1.000526785850525, 'eval_accuracy': 0.5289810860280659, 'eval_f1': 0.46086496790729886, 'eval_precision': 0.4894294984161334, 'eval_recall': 0.5410074489482868, 'eval_runtime': 320.5718, 'eval_samples_per_second': 5.113, 'eval_steps_per_second': 0.639, 'epoch': 0.5}\n"
     ]
    },
    {
     "name": "stderr",
     "output_type": "stream",
     "text": [
      "Model weights saved in ./results/checkpoint-925/pytorch_model.bin\n",
      "Deleting older checkpoint [results/checkpoint-675] due to args.save_total_limit\n",
      "***** Running Evaluation *****\n",
      "  Num examples = 1639\n",
      "  Batch size = 8\n"
     ]
    },
    {
     "data": {
      "application/vnd.jupyter.widget-view+json": {
       "model_id": "38f5d177006946079071f4d192538756",
       "version_major": 2,
       "version_minor": 0
      },
      "text/plain": [
       "  0%|          | 0/205 [00:00<?, ?it/s]"
      ]
     },
     "metadata": {},
     "output_type": "display_data"
    },
    {
     "name": "stderr",
     "output_type": "stream",
     "text": [
      "Saving model checkpoint to ./results/checkpoint-950\n",
      "Configuration saved in ./results/checkpoint-950/config.json\n"
     ]
    },
    {
     "name": "stdout",
     "output_type": "stream",
     "text": [
      "{'eval_loss': 0.9926415085792542, 'eval_accuracy': 0.5588773642464918, 'eval_f1': 0.5137398818393077, 'eval_precision': 0.49573184774070944, 'eval_recall': 0.5645283124512133, 'eval_runtime': 319.4788, 'eval_samples_per_second': 5.13, 'eval_steps_per_second': 0.642, 'epoch': 0.51}\n"
     ]
    },
    {
     "name": "stderr",
     "output_type": "stream",
     "text": [
      "Model weights saved in ./results/checkpoint-950/pytorch_model.bin\n",
      "Deleting older checkpoint [results/checkpoint-700] due to args.save_total_limit\n",
      "***** Running Evaluation *****\n",
      "  Num examples = 1639\n",
      "  Batch size = 8\n"
     ]
    },
    {
     "data": {
      "application/vnd.jupyter.widget-view+json": {
       "model_id": "d221c3a7fa3a489f912726a5f61d13ed",
       "version_major": 2,
       "version_minor": 0
      },
      "text/plain": [
       "  0%|          | 0/205 [00:00<?, ?it/s]"
      ]
     },
     "metadata": {},
     "output_type": "display_data"
    },
    {
     "name": "stderr",
     "output_type": "stream",
     "text": [
      "Saving model checkpoint to ./results/checkpoint-975\n",
      "Configuration saved in ./results/checkpoint-975/config.json\n"
     ]
    },
    {
     "name": "stdout",
     "output_type": "stream",
     "text": [
      "{'eval_loss': 1.0100189447402954, 'eval_accuracy': 0.6058572300183038, 'eval_f1': 0.526641274116286, 'eval_precision': 0.6029782890044844, 'eval_recall': 0.5461639416088934, 'eval_runtime': 318.899, 'eval_samples_per_second': 5.14, 'eval_steps_per_second': 0.643, 'epoch': 0.53}\n"
     ]
    },
    {
     "name": "stderr",
     "output_type": "stream",
     "text": [
      "Model weights saved in ./results/checkpoint-975/pytorch_model.bin\n",
      "Deleting older checkpoint [results/checkpoint-725] due to args.save_total_limit\n",
      "***** Running Evaluation *****\n",
      "  Num examples = 1639\n",
      "  Batch size = 8\n"
     ]
    },
    {
     "name": "stdout",
     "output_type": "stream",
     "text": [
      "{'loss': 1.1396, 'learning_rate': 4.97289972899729e-05, 'epoch': 0.54}\n"
     ]
    },
    {
     "data": {
      "application/vnd.jupyter.widget-view+json": {
       "model_id": "635292e00162456b92f107c79813b5c4",
       "version_major": 2,
       "version_minor": 0
      },
      "text/plain": [
       "  0%|          | 0/205 [00:00<?, ?it/s]"
      ]
     },
     "metadata": {},
     "output_type": "display_data"
    },
    {
     "name": "stderr",
     "output_type": "stream",
     "text": [
      "Saving model checkpoint to ./results/checkpoint-1000\n",
      "Configuration saved in ./results/checkpoint-1000/config.json\n"
     ]
    },
    {
     "name": "stdout",
     "output_type": "stream",
     "text": [
      "{'eval_loss': 0.978893518447876, 'eval_accuracy': 0.5204392922513728, 'eval_f1': 0.5221796647734737, 'eval_precision': 0.5407804853259639, 'eval_recall': 0.551773674723807, 'eval_runtime': 318.2703, 'eval_samples_per_second': 5.15, 'eval_steps_per_second': 0.644, 'epoch': 0.54}\n"
     ]
    },
    {
     "name": "stderr",
     "output_type": "stream",
     "text": [
      "Model weights saved in ./results/checkpoint-1000/pytorch_model.bin\n",
      "Deleting older checkpoint [results/checkpoint-750] due to args.save_total_limit\n",
      "***** Running Evaluation *****\n",
      "  Num examples = 1639\n",
      "  Batch size = 8\n"
     ]
    },
    {
     "data": {
      "application/vnd.jupyter.widget-view+json": {
       "model_id": "5f6fae7865f84f70a30e69b2eda5baa7",
       "version_major": 2,
       "version_minor": 0
      },
      "text/plain": [
       "  0%|          | 0/205 [00:00<?, ?it/s]"
      ]
     },
     "metadata": {},
     "output_type": "display_data"
    },
    {
     "name": "stderr",
     "output_type": "stream",
     "text": [
      "Saving model checkpoint to ./results/checkpoint-1025\n",
      "Configuration saved in ./results/checkpoint-1025/config.json\n"
     ]
    },
    {
     "name": "stdout",
     "output_type": "stream",
     "text": [
      "{'eval_loss': 1.033362627029419, 'eval_accuracy': 0.5302013422818792, 'eval_f1': 0.5000690160829756, 'eval_precision': 0.48763964437787255, 'eval_recall': 0.550953818793422, 'eval_runtime': 320.4193, 'eval_samples_per_second': 5.115, 'eval_steps_per_second': 0.64, 'epoch': 0.56}\n"
     ]
    },
    {
     "name": "stderr",
     "output_type": "stream",
     "text": [
      "Model weights saved in ./results/checkpoint-1025/pytorch_model.bin\n",
      "Deleting older checkpoint [results/checkpoint-775] due to args.save_total_limit\n",
      "***** Running Evaluation *****\n",
      "  Num examples = 1639\n",
      "  Batch size = 8\n"
     ]
    },
    {
     "data": {
      "application/vnd.jupyter.widget-view+json": {
       "model_id": "b10c0d6e6f2b40dc8812fc0d15052047",
       "version_major": 2,
       "version_minor": 0
      },
      "text/plain": [
       "  0%|          | 0/205 [00:00<?, ?it/s]"
      ]
     },
     "metadata": {},
     "output_type": "display_data"
    },
    {
     "name": "stderr",
     "output_type": "stream",
     "text": [
      "Saving model checkpoint to ./results/checkpoint-1050\n",
      "Configuration saved in ./results/checkpoint-1050/config.json\n"
     ]
    },
    {
     "name": "stdout",
     "output_type": "stream",
     "text": [
      "{'eval_loss': 1.029910922050476, 'eval_accuracy': 0.5753508236729713, 'eval_f1': 0.5063752749291457, 'eval_precision': 0.4934891314342725, 'eval_recall': 0.5498599289226672, 'eval_runtime': 318.9614, 'eval_samples_per_second': 5.139, 'eval_steps_per_second': 0.643, 'epoch': 0.57}\n"
     ]
    },
    {
     "name": "stderr",
     "output_type": "stream",
     "text": [
      "Model weights saved in ./results/checkpoint-1050/pytorch_model.bin\n",
      "Deleting older checkpoint [results/checkpoint-800] due to args.save_total_limit\n",
      "***** Running Evaluation *****\n",
      "  Num examples = 1639\n",
      "  Batch size = 8\n"
     ]
    },
    {
     "data": {
      "application/vnd.jupyter.widget-view+json": {
       "model_id": "0ca63cdd18da4834bb79b471557c9f5c",
       "version_major": 2,
       "version_minor": 0
      },
      "text/plain": [
       "  0%|          | 0/205 [00:00<?, ?it/s]"
      ]
     },
     "metadata": {},
     "output_type": "display_data"
    },
    {
     "name": "stderr",
     "output_type": "stream",
     "text": [
      "Saving model checkpoint to ./results/checkpoint-1075\n",
      "Configuration saved in ./results/checkpoint-1075/config.json\n"
     ]
    },
    {
     "name": "stdout",
     "output_type": "stream",
     "text": [
      "{'eval_loss': 0.9455243945121765, 'eval_accuracy': 0.586333129957291, 'eval_f1': 0.5620950344466625, 'eval_precision': 0.564772848787978, 'eval_recall': 0.5835871327861504, 'eval_runtime': 319.4143, 'eval_samples_per_second': 5.131, 'eval_steps_per_second': 0.642, 'epoch': 0.58}\n"
     ]
    },
    {
     "name": "stderr",
     "output_type": "stream",
     "text": [
      "Model weights saved in ./results/checkpoint-1075/pytorch_model.bin\n",
      "Deleting older checkpoint [results/checkpoint-825] due to args.save_total_limit\n",
      "***** Running Evaluation *****\n",
      "  Num examples = 1639\n",
      "  Batch size = 8\n"
     ]
    },
    {
     "data": {
      "application/vnd.jupyter.widget-view+json": {
       "model_id": "18bcc305f7f64600b9b1c00da07df5c3",
       "version_major": 2,
       "version_minor": 0
      },
      "text/plain": [
       "  0%|          | 0/205 [00:00<?, ?it/s]"
      ]
     },
     "metadata": {},
     "output_type": "display_data"
    },
    {
     "name": "stderr",
     "output_type": "stream",
     "text": [
      "Saving model checkpoint to ./results/checkpoint-1100\n",
      "Configuration saved in ./results/checkpoint-1100/config.json\n"
     ]
    },
    {
     "name": "stdout",
     "output_type": "stream",
     "text": [
      "{'eval_loss': 1.052337408065796, 'eval_accuracy': 0.5088468578401464, 'eval_f1': 0.5023661367547322, 'eval_precision': 0.5116846471055522, 'eval_recall': 0.5521376353077592, 'eval_runtime': 318.5728, 'eval_samples_per_second': 5.145, 'eval_steps_per_second': 0.643, 'epoch': 0.6}\n"
     ]
    },
    {
     "name": "stderr",
     "output_type": "stream",
     "text": [
      "Model weights saved in ./results/checkpoint-1100/pytorch_model.bin\n",
      "Deleting older checkpoint [results/checkpoint-850] due to args.save_total_limit\n",
      "***** Running Evaluation *****\n",
      "  Num examples = 1639\n",
      "  Batch size = 8\n"
     ]
    },
    {
     "data": {
      "application/vnd.jupyter.widget-view+json": {
       "model_id": "059aa7c3ef38419eab6b7d8b98563027",
       "version_major": 2,
       "version_minor": 0
      },
      "text/plain": [
       "  0%|          | 0/205 [00:00<?, ?it/s]"
      ]
     },
     "metadata": {},
     "output_type": "display_data"
    },
    {
     "name": "stderr",
     "output_type": "stream",
     "text": [
      "Saving model checkpoint to ./results/checkpoint-1125\n",
      "Configuration saved in ./results/checkpoint-1125/config.json\n"
     ]
    },
    {
     "name": "stdout",
     "output_type": "stream",
     "text": [
      "{'eval_loss': 1.0269010066986084, 'eval_accuracy': 0.5747406955460647, 'eval_f1': 0.5665301138294108, 'eval_precision': 0.6188040933243493, 'eval_recall': 0.5624470494598104, 'eval_runtime': 319.6251, 'eval_samples_per_second': 5.128, 'eval_steps_per_second': 0.641, 'epoch': 0.61}\n"
     ]
    },
    {
     "name": "stderr",
     "output_type": "stream",
     "text": [
      "Model weights saved in ./results/checkpoint-1125/pytorch_model.bin\n",
      "Deleting older checkpoint [results/checkpoint-875] due to args.save_total_limit\n",
      "***** Running Evaluation *****\n",
      "  Num examples = 1639\n",
      "  Batch size = 8\n"
     ]
    },
    {
     "data": {
      "application/vnd.jupyter.widget-view+json": {
       "model_id": "7d03947c82c24b4896101fe03fa4f36b",
       "version_major": 2,
       "version_minor": 0
      },
      "text/plain": [
       "  0%|          | 0/205 [00:00<?, ?it/s]"
      ]
     },
     "metadata": {},
     "output_type": "display_data"
    },
    {
     "name": "stderr",
     "output_type": "stream",
     "text": [
      "Saving model checkpoint to ./results/checkpoint-1150\n",
      "Configuration saved in ./results/checkpoint-1150/config.json\n"
     ]
    },
    {
     "name": "stdout",
     "output_type": "stream",
     "text": [
      "{'eval_loss': 0.9945029616355896, 'eval_accuracy': 0.6198901769371568, 'eval_f1': 0.5934089553474086, 'eval_precision': 0.6173725156335155, 'eval_recall': 0.5865736926753362, 'eval_runtime': 318.2795, 'eval_samples_per_second': 5.15, 'eval_steps_per_second': 0.644, 'epoch': 0.62}\n"
     ]
    },
    {
     "name": "stderr",
     "output_type": "stream",
     "text": [
      "Model weights saved in ./results/checkpoint-1150/pytorch_model.bin\n",
      "Deleting older checkpoint [results/checkpoint-900] due to args.save_total_limit\n",
      "***** Running Evaluation *****\n",
      "  Num examples = 1639\n",
      "  Batch size = 8\n"
     ]
    },
    {
     "data": {
      "application/vnd.jupyter.widget-view+json": {
       "model_id": "f9220fcfaa1c4fec86491101c1192ced",
       "version_major": 2,
       "version_minor": 0
      },
      "text/plain": [
       "  0%|          | 0/205 [00:00<?, ?it/s]"
      ]
     },
     "metadata": {},
     "output_type": "display_data"
    },
    {
     "name": "stderr",
     "output_type": "stream",
     "text": [
      "Saving model checkpoint to ./results/checkpoint-1175\n",
      "Configuration saved in ./results/checkpoint-1175/config.json\n"
     ]
    },
    {
     "name": "stdout",
     "output_type": "stream",
     "text": [
      "{'eval_loss': 1.0142110586166382, 'eval_accuracy': 0.6259914582062233, 'eval_f1': 0.5789600065280225, 'eval_precision': 0.6014014151845354, 'eval_recall': 0.5639739522747644, 'eval_runtime': 320.256, 'eval_samples_per_second': 5.118, 'eval_steps_per_second': 0.64, 'epoch': 0.64}\n"
     ]
    },
    {
     "name": "stderr",
     "output_type": "stream",
     "text": [
      "Model weights saved in ./results/checkpoint-1175/pytorch_model.bin\n",
      "Deleting older checkpoint [results/checkpoint-925] due to args.save_total_limit\n",
      "***** Running Evaluation *****\n",
      "  Num examples = 1639\n",
      "  Batch size = 8\n"
     ]
    },
    {
     "data": {
      "application/vnd.jupyter.widget-view+json": {
       "model_id": "70009f9f268047a9aad10367ce45cab8",
       "version_major": 2,
       "version_minor": 0
      },
      "text/plain": [
       "  0%|          | 0/205 [00:00<?, ?it/s]"
      ]
     },
     "metadata": {},
     "output_type": "display_data"
    },
    {
     "name": "stderr",
     "output_type": "stream",
     "text": [
      "Saving model checkpoint to ./results/checkpoint-1200\n",
      "Configuration saved in ./results/checkpoint-1200/config.json\n"
     ]
    },
    {
     "name": "stdout",
     "output_type": "stream",
     "text": [
      "{'eval_loss': 1.0555588006973267, 'eval_accuracy': 0.6308724832214765, 'eval_f1': 0.5691536242191304, 'eval_precision': 0.603253676784287, 'eval_recall': 0.5542482497419403, 'eval_runtime': 319.8428, 'eval_samples_per_second': 5.124, 'eval_steps_per_second': 0.641, 'epoch': 0.65}\n"
     ]
    },
    {
     "name": "stderr",
     "output_type": "stream",
     "text": [
      "Model weights saved in ./results/checkpoint-1200/pytorch_model.bin\n",
      "Deleting older checkpoint [results/checkpoint-950] due to args.save_total_limit\n",
      "***** Running Evaluation *****\n",
      "  Num examples = 1639\n",
      "  Batch size = 8\n"
     ]
    },
    {
     "data": {
      "application/vnd.jupyter.widget-view+json": {
       "model_id": "0ca61fbaa0a340e08304b6b7e77b7b79",
       "version_major": 2,
       "version_minor": 0
      },
      "text/plain": [
       "  0%|          | 0/205 [00:00<?, ?it/s]"
      ]
     },
     "metadata": {},
     "output_type": "display_data"
    },
    {
     "name": "stderr",
     "output_type": "stream",
     "text": [
      "Saving model checkpoint to ./results/checkpoint-1225\n",
      "Configuration saved in ./results/checkpoint-1225/config.json\n"
     ]
    },
    {
     "name": "stdout",
     "output_type": "stream",
     "text": [
      "{'eval_loss': 1.046654224395752, 'eval_accuracy': 0.6241610738255033, 'eval_f1': 0.5630050108792285, 'eval_precision': 0.5946320031809172, 'eval_recall': 0.5544238862667249, 'eval_runtime': 319.2853, 'eval_samples_per_second': 5.133, 'eval_steps_per_second': 0.642, 'epoch': 0.66}\n"
     ]
    },
    {
     "name": "stderr",
     "output_type": "stream",
     "text": [
      "Model weights saved in ./results/checkpoint-1225/pytorch_model.bin\n",
      "Deleting older checkpoint [results/checkpoint-975] due to args.save_total_limit\n",
      "***** Running Evaluation *****\n",
      "  Num examples = 1639\n",
      "  Batch size = 8\n"
     ]
    },
    {
     "data": {
      "application/vnd.jupyter.widget-view+json": {
       "model_id": "a85a0a8ba75e4fbe863a6d177ca78460",
       "version_major": 2,
       "version_minor": 0
      },
      "text/plain": [
       "  0%|          | 0/205 [00:00<?, ?it/s]"
      ]
     },
     "metadata": {},
     "output_type": "display_data"
    },
    {
     "name": "stderr",
     "output_type": "stream",
     "text": [
      "Saving model checkpoint to ./results/checkpoint-1250\n",
      "Configuration saved in ./results/checkpoint-1250/config.json\n"
     ]
    },
    {
     "name": "stdout",
     "output_type": "stream",
     "text": [
      "{'eval_loss': 1.1147233247756958, 'eval_accuracy': 0.6259914582062233, 'eval_f1': 0.5319798642383977, 'eval_precision': 0.6148838291192424, 'eval_recall': 0.5534588119312204, 'eval_runtime': 316.8196, 'eval_samples_per_second': 5.173, 'eval_steps_per_second': 0.647, 'epoch': 0.68}\n"
     ]
    },
    {
     "name": "stderr",
     "output_type": "stream",
     "text": [
      "Model weights saved in ./results/checkpoint-1250/pytorch_model.bin\n",
      "Deleting older checkpoint [results/checkpoint-1000] due to args.save_total_limit\n",
      "***** Running Evaluation *****\n",
      "  Num examples = 1639\n",
      "  Batch size = 8\n"
     ]
    },
    {
     "data": {
      "application/vnd.jupyter.widget-view+json": {
       "model_id": "d93efb8e295e48168c85ba0fed8726fc",
       "version_major": 2,
       "version_minor": 0
      },
      "text/plain": [
       "  0%|          | 0/205 [00:00<?, ?it/s]"
      ]
     },
     "metadata": {},
     "output_type": "display_data"
    },
    {
     "name": "stderr",
     "output_type": "stream",
     "text": [
      "Saving model checkpoint to ./results/checkpoint-1275\n",
      "Configuration saved in ./results/checkpoint-1275/config.json\n"
     ]
    },
    {
     "name": "stdout",
     "output_type": "stream",
     "text": [
      "{'eval_loss': 0.9330458641052246, 'eval_accuracy': 0.5735204392922514, 'eval_f1': 0.5585510311494545, 'eval_precision': 0.5609689080587468, 'eval_recall': 0.6001260994365675, 'eval_runtime': 324.3436, 'eval_samples_per_second': 5.053, 'eval_steps_per_second': 0.632, 'epoch': 0.69}\n"
     ]
    },
    {
     "name": "stderr",
     "output_type": "stream",
     "text": [
      "Model weights saved in ./results/checkpoint-1275/pytorch_model.bin\n",
      "Deleting older checkpoint [results/checkpoint-1025] due to args.save_total_limit\n",
      "***** Running Evaluation *****\n",
      "  Num examples = 1639\n",
      "  Batch size = 8\n"
     ]
    },
    {
     "data": {
      "application/vnd.jupyter.widget-view+json": {
       "model_id": "4e7807a4701c4e42b2f168fb9af893c9",
       "version_major": 2,
       "version_minor": 0
      },
      "text/plain": [
       "  0%|          | 0/205 [00:00<?, ?it/s]"
      ]
     },
     "metadata": {},
     "output_type": "display_data"
    },
    {
     "name": "stderr",
     "output_type": "stream",
     "text": [
      "Saving model checkpoint to ./results/checkpoint-1300\n",
      "Configuration saved in ./results/checkpoint-1300/config.json\n"
     ]
    },
    {
     "name": "stdout",
     "output_type": "stream",
     "text": [
      "{'eval_loss': 1.035101294517517, 'eval_accuracy': 0.62477120195241, 'eval_f1': 0.5527945353320949, 'eval_precision': 0.5752640357915398, 'eval_recall': 0.5575850177225177, 'eval_runtime': 321.2494, 'eval_samples_per_second': 5.102, 'eval_steps_per_second': 0.638, 'epoch': 0.7}\n"
     ]
    },
    {
     "name": "stderr",
     "output_type": "stream",
     "text": [
      "Model weights saved in ./results/checkpoint-1300/pytorch_model.bin\n",
      "Deleting older checkpoint [results/checkpoint-1050] due to args.save_total_limit\n",
      "***** Running Evaluation *****\n",
      "  Num examples = 1639\n",
      "  Batch size = 8\n"
     ]
    },
    {
     "data": {
      "application/vnd.jupyter.widget-view+json": {
       "model_id": "7451feda61dc4c7597d195a5e30dc045",
       "version_major": 2,
       "version_minor": 0
      },
      "text/plain": [
       "  0%|          | 0/205 [00:00<?, ?it/s]"
      ]
     },
     "metadata": {},
     "output_type": "display_data"
    },
    {
     "name": "stderr",
     "output_type": "stream",
     "text": [
      "Saving model checkpoint to ./results/checkpoint-1325\n",
      "Configuration saved in ./results/checkpoint-1325/config.json\n"
     ]
    },
    {
     "name": "stdout",
     "output_type": "stream",
     "text": [
      "{'eval_loss': 1.046433448791504, 'eval_accuracy': 0.5247101891397193, 'eval_f1': 0.524406593779711, 'eval_precision': 0.5632521990387171, 'eval_recall': 0.5434961555753703, 'eval_runtime': 321.9876, 'eval_samples_per_second': 5.09, 'eval_steps_per_second': 0.637, 'epoch': 0.72}\n"
     ]
    },
    {
     "name": "stderr",
     "output_type": "stream",
     "text": [
      "Model weights saved in ./results/checkpoint-1325/pytorch_model.bin\n",
      "Deleting older checkpoint [results/checkpoint-1075] due to args.save_total_limit\n",
      "***** Running Evaluation *****\n",
      "  Num examples = 1639\n",
      "  Batch size = 8\n"
     ]
    },
    {
     "data": {
      "application/vnd.jupyter.widget-view+json": {
       "model_id": "6ea72f3260964db1aa765fd880f40090",
       "version_major": 2,
       "version_minor": 0
      },
      "text/plain": [
       "  0%|          | 0/205 [00:00<?, ?it/s]"
      ]
     },
     "metadata": {},
     "output_type": "display_data"
    },
    {
     "name": "stderr",
     "output_type": "stream",
     "text": [
      "Saving model checkpoint to ./results/checkpoint-1350\n",
      "Configuration saved in ./results/checkpoint-1350/config.json\n"
     ]
    },
    {
     "name": "stdout",
     "output_type": "stream",
     "text": [
      "{'eval_loss': 1.1473716497421265, 'eval_accuracy': 0.49542403904820015, 'eval_f1': 0.4913249479654408, 'eval_precision': 0.5714802115957209, 'eval_recall': 0.503332142319405, 'eval_runtime': 320.3325, 'eval_samples_per_second': 5.117, 'eval_steps_per_second': 0.64, 'epoch': 0.73}\n"
     ]
    },
    {
     "name": "stderr",
     "output_type": "stream",
     "text": [
      "Model weights saved in ./results/checkpoint-1350/pytorch_model.bin\n",
      "Deleting older checkpoint [results/checkpoint-1100] due to args.save_total_limit\n",
      "***** Running Evaluation *****\n",
      "  Num examples = 1639\n",
      "  Batch size = 8\n"
     ]
    },
    {
     "data": {
      "application/vnd.jupyter.widget-view+json": {
       "model_id": "e8878bb4754f45baa4b195f3f9b8b91a",
       "version_major": 2,
       "version_minor": 0
      },
      "text/plain": [
       "  0%|          | 0/205 [00:00<?, ?it/s]"
      ]
     },
     "metadata": {},
     "output_type": "display_data"
    },
    {
     "name": "stderr",
     "output_type": "stream",
     "text": [
      "Saving model checkpoint to ./results/checkpoint-1375\n",
      "Configuration saved in ./results/checkpoint-1375/config.json\n"
     ]
    },
    {
     "name": "stdout",
     "output_type": "stream",
     "text": [
      "{'eval_loss': 0.9848886728286743, 'eval_accuracy': 0.6186699206833435, 'eval_f1': 0.5773848850883084, 'eval_precision': 0.5890887014876872, 'eval_recall': 0.569077331419256, 'eval_runtime': 321.3749, 'eval_samples_per_second': 5.1, 'eval_steps_per_second': 0.638, 'epoch': 0.75}\n"
     ]
    },
    {
     "name": "stderr",
     "output_type": "stream",
     "text": [
      "Model weights saved in ./results/checkpoint-1375/pytorch_model.bin\n",
      "Deleting older checkpoint [results/checkpoint-1125] due to args.save_total_limit\n",
      "***** Running Evaluation *****\n",
      "  Num examples = 1639\n",
      "  Batch size = 8\n"
     ]
    },
    {
     "data": {
      "application/vnd.jupyter.widget-view+json": {
       "model_id": "1a1b80b0c76b4448bfa31e285a34fbeb",
       "version_major": 2,
       "version_minor": 0
      },
      "text/plain": [
       "  0%|          | 0/205 [00:00<?, ?it/s]"
      ]
     },
     "metadata": {},
     "output_type": "display_data"
    },
    {
     "name": "stderr",
     "output_type": "stream",
     "text": [
      "Saving model checkpoint to ./results/checkpoint-1400\n",
      "Configuration saved in ./results/checkpoint-1400/config.json\n"
     ]
    },
    {
     "name": "stdout",
     "output_type": "stream",
     "text": [
      "{'eval_loss': 0.9928366541862488, 'eval_accuracy': 0.5960951799877975, 'eval_f1': 0.5471939171643138, 'eval_precision': 0.5814345740229669, 'eval_recall': 0.5729696007733062, 'eval_runtime': 321.1012, 'eval_samples_per_second': 5.104, 'eval_steps_per_second': 0.638, 'epoch': 0.76}\n"
     ]
    },
    {
     "name": "stderr",
     "output_type": "stream",
     "text": [
      "Model weights saved in ./results/checkpoint-1400/pytorch_model.bin\n",
      "Deleting older checkpoint [results/checkpoint-1150] due to args.save_total_limit\n",
      "***** Running Evaluation *****\n",
      "  Num examples = 1639\n",
      "  Batch size = 8\n"
     ]
    },
    {
     "data": {
      "application/vnd.jupyter.widget-view+json": {
       "model_id": "c51eacb59a3a47c099c7d5519865656d",
       "version_major": 2,
       "version_minor": 0
      },
      "text/plain": [
       "  0%|          | 0/205 [00:00<?, ?it/s]"
      ]
     },
     "metadata": {},
     "output_type": "display_data"
    },
    {
     "name": "stderr",
     "output_type": "stream",
     "text": [
      "Saving model checkpoint to ./results/checkpoint-1425\n",
      "Configuration saved in ./results/checkpoint-1425/config.json\n"
     ]
    },
    {
     "name": "stdout",
     "output_type": "stream",
     "text": [
      "{'eval_loss': 1.0156126022338867, 'eval_accuracy': 0.6009762050030506, 'eval_f1': 0.5288237818972988, 'eval_precision': 0.5447539827380828, 'eval_recall': 0.5584653917771812, 'eval_runtime': 321.3104, 'eval_samples_per_second': 5.101, 'eval_steps_per_second': 0.638, 'epoch': 0.77}\n"
     ]
    },
    {
     "name": "stderr",
     "output_type": "stream",
     "text": [
      "Model weights saved in ./results/checkpoint-1425/pytorch_model.bin\n",
      "Deleting older checkpoint [results/checkpoint-1175] due to args.save_total_limit\n",
      "***** Running Evaluation *****\n",
      "  Num examples = 1639\n",
      "  Batch size = 8\n"
     ]
    },
    {
     "data": {
      "application/vnd.jupyter.widget-view+json": {
       "model_id": "5c42ed82d73149e0a42b63e0a33175a9",
       "version_major": 2,
       "version_minor": 0
      },
      "text/plain": [
       "  0%|          | 0/205 [00:00<?, ?it/s]"
      ]
     },
     "metadata": {},
     "output_type": "display_data"
    },
    {
     "name": "stderr",
     "output_type": "stream",
     "text": [
      "Saving model checkpoint to ./results/checkpoint-1450\n",
      "Configuration saved in ./results/checkpoint-1450/config.json\n"
     ]
    },
    {
     "name": "stdout",
     "output_type": "stream",
     "text": [
      "{'eval_loss': 1.1963151693344116, 'eval_accuracy': 0.612568639414277, 'eval_f1': 0.5406455201688107, 'eval_precision': 0.5794105337123459, 'eval_recall': 0.5405940487038222, 'eval_runtime': 320.3878, 'eval_samples_per_second': 5.116, 'eval_steps_per_second': 0.64, 'epoch': 0.79}\n"
     ]
    },
    {
     "name": "stderr",
     "output_type": "stream",
     "text": [
      "Model weights saved in ./results/checkpoint-1450/pytorch_model.bin\n",
      "Deleting older checkpoint [results/checkpoint-1200] due to args.save_total_limit\n",
      "***** Running Evaluation *****\n",
      "  Num examples = 1639\n",
      "  Batch size = 8\n"
     ]
    },
    {
     "data": {
      "application/vnd.jupyter.widget-view+json": {
       "model_id": "62371fe6b8eb4684915557747b3b6c5f",
       "version_major": 2,
       "version_minor": 0
      },
      "text/plain": [
       "  0%|          | 0/205 [00:00<?, ?it/s]"
      ]
     },
     "metadata": {},
     "output_type": "display_data"
    },
    {
     "name": "stderr",
     "output_type": "stream",
     "text": [
      "Saving model checkpoint to ./results/checkpoint-1475\n",
      "Configuration saved in ./results/checkpoint-1475/config.json\n"
     ]
    },
    {
     "name": "stdout",
     "output_type": "stream",
     "text": [
      "{'eval_loss': 1.1077494621276855, 'eval_accuracy': 0.598535692495424, 'eval_f1': 0.4970674133761189, 'eval_precision': 0.5353567035378777, 'eval_recall': 0.5291318515318243, 'eval_runtime': 319.5029, 'eval_samples_per_second': 5.13, 'eval_steps_per_second': 0.642, 'epoch': 0.8}\n"
     ]
    },
    {
     "name": "stderr",
     "output_type": "stream",
     "text": [
      "Model weights saved in ./results/checkpoint-1475/pytorch_model.bin\n",
      "Deleting older checkpoint [results/checkpoint-1225] due to args.save_total_limit\n",
      "***** Running Evaluation *****\n",
      "  Num examples = 1639\n",
      "  Batch size = 8\n"
     ]
    },
    {
     "name": "stdout",
     "output_type": "stream",
     "text": [
      "{'loss': 1.06, 'learning_rate': 4.959349593495935e-05, 'epoch': 0.81}\n"
     ]
    },
    {
     "data": {
      "application/vnd.jupyter.widget-view+json": {
       "model_id": "a9a02fe352b740ac82933e8fa8e4215b",
       "version_major": 2,
       "version_minor": 0
      },
      "text/plain": [
       "  0%|          | 0/205 [00:00<?, ?it/s]"
      ]
     },
     "metadata": {},
     "output_type": "display_data"
    },
    {
     "name": "stderr",
     "output_type": "stream",
     "text": [
      "Saving model checkpoint to ./results/checkpoint-1500\n",
      "Configuration saved in ./results/checkpoint-1500/config.json\n"
     ]
    },
    {
     "name": "stdout",
     "output_type": "stream",
     "text": [
      "{'eval_loss': 1.085032343864441, 'eval_accuracy': 0.5625381330079317, 'eval_f1': 0.5299518120301108, 'eval_precision': 0.5807514355159702, 'eval_recall': 0.5322966505583887, 'eval_runtime': 327.9806, 'eval_samples_per_second': 4.997, 'eval_steps_per_second': 0.625, 'epoch': 0.81}\n"
     ]
    },
    {
     "name": "stderr",
     "output_type": "stream",
     "text": [
      "Model weights saved in ./results/checkpoint-1500/pytorch_model.bin\n",
      "Deleting older checkpoint [results/checkpoint-1250] due to args.save_total_limit\n",
      "***** Running Evaluation *****\n",
      "  Num examples = 1639\n",
      "  Batch size = 8\n"
     ]
    },
    {
     "data": {
      "application/vnd.jupyter.widget-view+json": {
       "model_id": "67c12b2226cf482a94723d94b338e87b",
       "version_major": 2,
       "version_minor": 0
      },
      "text/plain": [
       "  0%|          | 0/205 [00:00<?, ?it/s]"
      ]
     },
     "metadata": {},
     "output_type": "display_data"
    },
    {
     "name": "stderr",
     "output_type": "stream",
     "text": [
      "Saving model checkpoint to ./results/checkpoint-1525\n",
      "Configuration saved in ./results/checkpoint-1525/config.json\n"
     ]
    },
    {
     "name": "stdout",
     "output_type": "stream",
     "text": [
      "{'eval_loss': 1.007286548614502, 'eval_accuracy': 0.5241000610128127, 'eval_f1': 0.5287336358835242, 'eval_precision': 0.5630193095713064, 'eval_recall': 0.5507074452915414, 'eval_runtime': 321.3132, 'eval_samples_per_second': 5.101, 'eval_steps_per_second': 0.638, 'epoch': 0.83}\n"
     ]
    },
    {
     "name": "stderr",
     "output_type": "stream",
     "text": [
      "Model weights saved in ./results/checkpoint-1525/pytorch_model.bin\n",
      "Deleting older checkpoint [results/checkpoint-1275] due to args.save_total_limit\n",
      "***** Running Evaluation *****\n",
      "  Num examples = 1639\n",
      "  Batch size = 8\n"
     ]
    },
    {
     "data": {
      "application/vnd.jupyter.widget-view+json": {
       "model_id": "2164c2414a7848719dd65d95cc75e61b",
       "version_major": 2,
       "version_minor": 0
      },
      "text/plain": [
       "  0%|          | 0/205 [00:00<?, ?it/s]"
      ]
     },
     "metadata": {},
     "output_type": "display_data"
    },
    {
     "name": "stderr",
     "output_type": "stream",
     "text": [
      "Saving model checkpoint to ./results/checkpoint-1550\n",
      "Configuration saved in ./results/checkpoint-1550/config.json\n"
     ]
    },
    {
     "name": "stdout",
     "output_type": "stream",
     "text": [
      "{'eval_loss': 0.9462924003601074, 'eval_accuracy': 0.612568639414277, 'eval_f1': 0.5816514744334562, 'eval_precision': 0.5901317942989703, 'eval_recall': 0.5993932842323867, 'eval_runtime': 321.2764, 'eval_samples_per_second': 5.102, 'eval_steps_per_second': 0.638, 'epoch': 0.84}\n"
     ]
    },
    {
     "name": "stderr",
     "output_type": "stream",
     "text": [
      "Model weights saved in ./results/checkpoint-1550/pytorch_model.bin\n",
      "Deleting older checkpoint [results/checkpoint-1300] due to args.save_total_limit\n",
      "***** Running Evaluation *****\n",
      "  Num examples = 1639\n",
      "  Batch size = 8\n"
     ]
    },
    {
     "data": {
      "application/vnd.jupyter.widget-view+json": {
       "model_id": "0061de5b6b3e434ba04c3fc3f60b00e2",
       "version_major": 2,
       "version_minor": 0
      },
      "text/plain": [
       "  0%|          | 0/205 [00:00<?, ?it/s]"
      ]
     },
     "metadata": {},
     "output_type": "display_data"
    },
    {
     "name": "stderr",
     "output_type": "stream",
     "text": [
      "Saving model checkpoint to ./results/checkpoint-1575\n",
      "Configuration saved in ./results/checkpoint-1575/config.json\n"
     ]
    },
    {
     "name": "stdout",
     "output_type": "stream",
     "text": [
      "{'eval_loss': 1.0407601594924927, 'eval_accuracy': 0.6314826113483831, 'eval_f1': 0.576563191103325, 'eval_precision': 0.6235342895863026, 'eval_recall': 0.5479938560519516, 'eval_runtime': 322.548, 'eval_samples_per_second': 5.081, 'eval_steps_per_second': 0.636, 'epoch': 0.85}\n"
     ]
    },
    {
     "name": "stderr",
     "output_type": "stream",
     "text": [
      "Model weights saved in ./results/checkpoint-1575/pytorch_model.bin\n",
      "Deleting older checkpoint [results/checkpoint-1325] due to args.save_total_limit\n",
      "***** Running Evaluation *****\n",
      "  Num examples = 1639\n",
      "  Batch size = 8\n"
     ]
    },
    {
     "data": {
      "application/vnd.jupyter.widget-view+json": {
       "model_id": "5cadd734552b4a16898851eacc8b9a81",
       "version_major": 2,
       "version_minor": 0
      },
      "text/plain": [
       "  0%|          | 0/205 [00:00<?, ?it/s]"
      ]
     },
     "metadata": {},
     "output_type": "display_data"
    },
    {
     "name": "stderr",
     "output_type": "stream",
     "text": [
      "Saving model checkpoint to ./results/checkpoint-1600\n",
      "Configuration saved in ./results/checkpoint-1600/config.json\n"
     ]
    },
    {
     "name": "stdout",
     "output_type": "stream",
     "text": [
      "{'eval_loss': 1.0358248949050903, 'eval_accuracy': 0.6333129957291032, 'eval_f1': 0.5872757961846067, 'eval_precision': 0.6041572317664594, 'eval_recall': 0.5782839042800763, 'eval_runtime': 321.8376, 'eval_samples_per_second': 5.093, 'eval_steps_per_second': 0.637, 'epoch': 0.87}\n"
     ]
    },
    {
     "name": "stderr",
     "output_type": "stream",
     "text": [
      "Model weights saved in ./results/checkpoint-1600/pytorch_model.bin\n",
      "Deleting older checkpoint [results/checkpoint-1350] due to args.save_total_limit\n",
      "***** Running Evaluation *****\n",
      "  Num examples = 1639\n",
      "  Batch size = 8\n"
     ]
    },
    {
     "data": {
      "application/vnd.jupyter.widget-view+json": {
       "model_id": "ef8bb95ebe34445095948d93dd936621",
       "version_major": 2,
       "version_minor": 0
      },
      "text/plain": [
       "  0%|          | 0/205 [00:00<?, ?it/s]"
      ]
     },
     "metadata": {},
     "output_type": "display_data"
    },
    {
     "name": "stderr",
     "output_type": "stream",
     "text": [
      "Saving model checkpoint to ./results/checkpoint-1625\n",
      "Configuration saved in ./results/checkpoint-1625/config.json\n"
     ]
    },
    {
     "name": "stdout",
     "output_type": "stream",
     "text": [
      "{'eval_loss': 1.4398118257522583, 'eval_accuracy': 0.5649786455155583, 'eval_f1': 0.4249925844703736, 'eval_precision': 0.5093238020804415, 'eval_recall': 0.40766117032554766, 'eval_runtime': 323.3245, 'eval_samples_per_second': 5.069, 'eval_steps_per_second': 0.634, 'epoch': 0.88}\n"
     ]
    },
    {
     "name": "stderr",
     "output_type": "stream",
     "text": [
      "Model weights saved in ./results/checkpoint-1625/pytorch_model.bin\n",
      "Deleting older checkpoint [results/checkpoint-1375] due to args.save_total_limit\n",
      "***** Running Evaluation *****\n",
      "  Num examples = 1639\n",
      "  Batch size = 8\n"
     ]
    },
    {
     "data": {
      "application/vnd.jupyter.widget-view+json": {
       "model_id": "16b84d2c7b7d4dec87fc7c84489dd673",
       "version_major": 2,
       "version_minor": 0
      },
      "text/plain": [
       "  0%|          | 0/205 [00:00<?, ?it/s]"
      ]
     },
     "metadata": {},
     "output_type": "display_data"
    },
    {
     "name": "stderr",
     "output_type": "stream",
     "text": [
      "Saving model checkpoint to ./results/checkpoint-1650\n",
      "Configuration saved in ./results/checkpoint-1650/config.json\n"
     ]
    },
    {
     "name": "stdout",
     "output_type": "stream",
     "text": [
      "{'eval_loss': 1.0002254247665405, 'eval_accuracy': 0.5015253203172666, 'eval_f1': 0.5261536359153136, 'eval_precision': 0.5673668156370345, 'eval_recall': 0.5622161639103387, 'eval_runtime': 322.7722, 'eval_samples_per_second': 5.078, 'eval_steps_per_second': 0.635, 'epoch': 0.89}\n"
     ]
    },
    {
     "name": "stderr",
     "output_type": "stream",
     "text": [
      "Model weights saved in ./results/checkpoint-1650/pytorch_model.bin\n",
      "Deleting older checkpoint [results/checkpoint-1400] due to args.save_total_limit\n",
      "***** Running Evaluation *****\n",
      "  Num examples = 1639\n",
      "  Batch size = 8\n"
     ]
    },
    {
     "data": {
      "application/vnd.jupyter.widget-view+json": {
       "model_id": "a0766e9e78f14725ad7287ace8bc3074",
       "version_major": 2,
       "version_minor": 0
      },
      "text/plain": [
       "  0%|          | 0/205 [00:00<?, ?it/s]"
      ]
     },
     "metadata": {},
     "output_type": "display_data"
    },
    {
     "name": "stderr",
     "output_type": "stream",
     "text": [
      "Saving model checkpoint to ./results/checkpoint-1675\n",
      "Configuration saved in ./results/checkpoint-1675/config.json\n"
     ]
    },
    {
     "name": "stdout",
     "output_type": "stream",
     "text": [
      "{'eval_loss': 1.0936980247497559, 'eval_accuracy': 0.5887736424649176, 'eval_f1': 0.5017139661161579, 'eval_precision': 0.5057066235099514, 'eval_recall': 0.5414877558604348, 'eval_runtime': 321.0577, 'eval_samples_per_second': 5.105, 'eval_steps_per_second': 0.639, 'epoch': 0.91}\n"
     ]
    },
    {
     "name": "stderr",
     "output_type": "stream",
     "text": [
      "Model weights saved in ./results/checkpoint-1675/pytorch_model.bin\n",
      "Deleting older checkpoint [results/checkpoint-1425] due to args.save_total_limit\n",
      "***** Running Evaluation *****\n",
      "  Num examples = 1639\n",
      "  Batch size = 8\n"
     ]
    },
    {
     "data": {
      "application/vnd.jupyter.widget-view+json": {
       "model_id": "da35f5b51f614874b595ac9f81d7a8c8",
       "version_major": 2,
       "version_minor": 0
      },
      "text/plain": [
       "  0%|          | 0/205 [00:00<?, ?it/s]"
      ]
     },
     "metadata": {},
     "output_type": "display_data"
    },
    {
     "name": "stderr",
     "output_type": "stream",
     "text": [
      "Saving model checkpoint to ./results/checkpoint-1700\n",
      "Configuration saved in ./results/checkpoint-1700/config.json\n"
     ]
    },
    {
     "name": "stdout",
     "output_type": "stream",
     "text": [
      "{'eval_loss': 1.0102758407592773, 'eval_accuracy': 0.5576571079926784, 'eval_f1': 0.5491654637808369, 'eval_precision': 0.5545611797037984, 'eval_recall': 0.5768391178852526, 'eval_runtime': 320.9683, 'eval_samples_per_second': 5.106, 'eval_steps_per_second': 0.639, 'epoch': 0.92}\n"
     ]
    },
    {
     "name": "stderr",
     "output_type": "stream",
     "text": [
      "Model weights saved in ./results/checkpoint-1700/pytorch_model.bin\n",
      "Deleting older checkpoint [results/checkpoint-1450] due to args.save_total_limit\n",
      "***** Running Evaluation *****\n",
      "  Num examples = 1639\n",
      "  Batch size = 8\n"
     ]
    },
    {
     "data": {
      "application/vnd.jupyter.widget-view+json": {
       "model_id": "8443ea0ea5b14b2fb978d339c57280b5",
       "version_major": 2,
       "version_minor": 0
      },
      "text/plain": [
       "  0%|          | 0/205 [00:00<?, ?it/s]"
      ]
     },
     "metadata": {},
     "output_type": "display_data"
    },
    {
     "name": "stderr",
     "output_type": "stream",
     "text": [
      "Saving model checkpoint to ./results/checkpoint-1725\n",
      "Configuration saved in ./results/checkpoint-1725/config.json\n"
     ]
    },
    {
     "name": "stdout",
     "output_type": "stream",
     "text": [
      "{'eval_loss': 0.9727351069450378, 'eval_accuracy': 0.5814521049420378, 'eval_f1': 0.5588378008258782, 'eval_precision': 0.5609717194589388, 'eval_recall': 0.5690183262461603, 'eval_runtime': 320.9751, 'eval_samples_per_second': 5.106, 'eval_steps_per_second': 0.639, 'epoch': 0.93}\n"
     ]
    },
    {
     "name": "stderr",
     "output_type": "stream",
     "text": [
      "Model weights saved in ./results/checkpoint-1725/pytorch_model.bin\n",
      "Deleting older checkpoint [results/checkpoint-1475] due to args.save_total_limit\n",
      "***** Running Evaluation *****\n",
      "  Num examples = 1639\n",
      "  Batch size = 8\n"
     ]
    },
    {
     "data": {
      "application/vnd.jupyter.widget-view+json": {
       "model_id": "7d2fc4b532b44082b374838db18ebbbd",
       "version_major": 2,
       "version_minor": 0
      },
      "text/plain": [
       "  0%|          | 0/205 [00:00<?, ?it/s]"
      ]
     },
     "metadata": {},
     "output_type": "display_data"
    },
    {
     "name": "stderr",
     "output_type": "stream",
     "text": [
      "Saving model checkpoint to ./results/checkpoint-1750\n",
      "Configuration saved in ./results/checkpoint-1750/config.json\n"
     ]
    },
    {
     "name": "stdout",
     "output_type": "stream",
     "text": [
      "{'eval_loss': 1.0772334337234497, 'eval_accuracy': 0.6327028676021964, 'eval_f1': 0.5642729248349948, 'eval_precision': 0.584337445624288, 'eval_recall': 0.5648498443728375, 'eval_runtime': 320.4622, 'eval_samples_per_second': 5.114, 'eval_steps_per_second': 0.64, 'epoch': 0.95}\n"
     ]
    },
    {
     "name": "stderr",
     "output_type": "stream",
     "text": [
      "Model weights saved in ./results/checkpoint-1750/pytorch_model.bin\n",
      "Deleting older checkpoint [results/checkpoint-1500] due to args.save_total_limit\n",
      "***** Running Evaluation *****\n",
      "  Num examples = 1639\n",
      "  Batch size = 8\n"
     ]
    },
    {
     "data": {
      "application/vnd.jupyter.widget-view+json": {
       "model_id": "788a74cc89d54f1c9d1c9de16d6e8703",
       "version_major": 2,
       "version_minor": 0
      },
      "text/plain": [
       "  0%|          | 0/205 [00:00<?, ?it/s]"
      ]
     },
     "metadata": {},
     "output_type": "display_data"
    },
    {
     "name": "stderr",
     "output_type": "stream",
     "text": [
      "Saving model checkpoint to ./results/checkpoint-1775\n",
      "Configuration saved in ./results/checkpoint-1775/config.json\n"
     ]
    },
    {
     "name": "stdout",
     "output_type": "stream",
     "text": [
      "{'eval_loss': 0.971352756023407, 'eval_accuracy': 0.6205003050640635, 'eval_f1': 0.5783736521476875, 'eval_precision': 0.5796587969887641, 'eval_recall': 0.5835685533895677, 'eval_runtime': 321.5995, 'eval_samples_per_second': 5.096, 'eval_steps_per_second': 0.637, 'epoch': 0.96}\n"
     ]
    },
    {
     "name": "stderr",
     "output_type": "stream",
     "text": [
      "Model weights saved in ./results/checkpoint-1775/pytorch_model.bin\n",
      "Deleting older checkpoint [results/checkpoint-1525] due to args.save_total_limit\n",
      "***** Running Evaluation *****\n",
      "  Num examples = 1639\n",
      "  Batch size = 8\n"
     ]
    },
    {
     "data": {
      "application/vnd.jupyter.widget-view+json": {
       "model_id": "393ad678d36945658e1fdf79a0765d36",
       "version_major": 2,
       "version_minor": 0
      },
      "text/plain": [
       "  0%|          | 0/205 [00:00<?, ?it/s]"
      ]
     },
     "metadata": {},
     "output_type": "display_data"
    },
    {
     "name": "stderr",
     "output_type": "stream",
     "text": [
      "Saving model checkpoint to ./results/checkpoint-1800\n",
      "Configuration saved in ./results/checkpoint-1800/config.json\n"
     ]
    },
    {
     "name": "stdout",
     "output_type": "stream",
     "text": [
      "{'eval_loss': 0.9337509274482727, 'eval_accuracy': 0.6174496644295302, 'eval_f1': 0.5766897099550006, 'eval_precision': 0.5844404466759976, 'eval_recall': 0.5844063654665321, 'eval_runtime': 321.1735, 'eval_samples_per_second': 5.103, 'eval_steps_per_second': 0.638, 'epoch': 0.98}\n"
     ]
    },
    {
     "name": "stderr",
     "output_type": "stream",
     "text": [
      "Model weights saved in ./results/checkpoint-1800/pytorch_model.bin\n",
      "Deleting older checkpoint [results/checkpoint-1550] due to args.save_total_limit\n",
      "***** Running Evaluation *****\n",
      "  Num examples = 1639\n",
      "  Batch size = 8\n"
     ]
    },
    {
     "data": {
      "application/vnd.jupyter.widget-view+json": {
       "model_id": "d186b1e66a2e4025bc53844f29fae80f",
       "version_major": 2,
       "version_minor": 0
      },
      "text/plain": [
       "  0%|          | 0/205 [00:00<?, ?it/s]"
      ]
     },
     "metadata": {},
     "output_type": "display_data"
    },
    {
     "name": "stderr",
     "output_type": "stream",
     "text": [
      "Saving model checkpoint to ./results/checkpoint-1825\n",
      "Configuration saved in ./results/checkpoint-1825/config.json\n"
     ]
    },
    {
     "name": "stdout",
     "output_type": "stream",
     "text": [
      "{'eval_loss': 1.1201732158660889, 'eval_accuracy': 0.6223306894447834, 'eval_f1': 0.566801567471191, 'eval_precision': 0.6211201248786139, 'eval_recall': 0.5509127550680972, 'eval_runtime': 321.3655, 'eval_samples_per_second': 5.1, 'eval_steps_per_second': 0.638, 'epoch': 0.99}\n"
     ]
    },
    {
     "name": "stderr",
     "output_type": "stream",
     "text": [
      "Model weights saved in ./results/checkpoint-1825/pytorch_model.bin\n",
      "Deleting older checkpoint [results/checkpoint-1575] due to args.save_total_limit\n",
      "***** Running Evaluation *****\n",
      "  Num examples = 1639\n",
      "  Batch size = 8\n"
     ]
    },
    {
     "data": {
      "application/vnd.jupyter.widget-view+json": {
       "model_id": "6800830d45204121843a513c966b6138",
       "version_major": 2,
       "version_minor": 0
      },
      "text/plain": [
       "  0%|          | 0/205 [00:00<?, ?it/s]"
      ]
     },
     "metadata": {},
     "output_type": "display_data"
    },
    {
     "name": "stderr",
     "output_type": "stream",
     "text": [
      "Saving model checkpoint to ./results/checkpoint-1850\n",
      "Configuration saved in ./results/checkpoint-1850/config.json\n"
     ]
    },
    {
     "name": "stdout",
     "output_type": "stream",
     "text": [
      "{'eval_loss': 1.2500925064086914, 'eval_accuracy': 0.6076876143990237, 'eval_f1': 0.4981350489495903, 'eval_precision': 0.5434288373784403, 'eval_recall': 0.5000448953943131, 'eval_runtime': 319.2024, 'eval_samples_per_second': 5.135, 'eval_steps_per_second': 0.642, 'epoch': 1.0}\n"
     ]
    },
    {
     "name": "stderr",
     "output_type": "stream",
     "text": [
      "Model weights saved in ./results/checkpoint-1850/pytorch_model.bin\n",
      "Deleting older checkpoint [results/checkpoint-1600] due to args.save_total_limit\n",
      "***** Running Evaluation *****\n",
      "  Num examples = 1639\n",
      "  Batch size = 8\n"
     ]
    },
    {
     "data": {
      "application/vnd.jupyter.widget-view+json": {
       "model_id": "8cd6bf4cde1541898f49b96e2d30b8ce",
       "version_major": 2,
       "version_minor": 0
      },
      "text/plain": [
       "  0%|          | 0/205 [00:00<?, ?it/s]"
      ]
     },
     "metadata": {},
     "output_type": "display_data"
    },
    {
     "name": "stderr",
     "output_type": "stream",
     "text": [
      "Saving model checkpoint to ./results/checkpoint-1875\n",
      "Configuration saved in ./results/checkpoint-1875/config.json\n"
     ]
    },
    {
     "name": "stdout",
     "output_type": "stream",
     "text": [
      "{'eval_loss': 0.9867755174636841, 'eval_accuracy': 0.5521659548505186, 'eval_f1': 0.5338105404130785, 'eval_precision': 0.611337185141805, 'eval_recall': 0.5577103364291769, 'eval_runtime': 318.0906, 'eval_samples_per_second': 5.153, 'eval_steps_per_second': 0.644, 'epoch': 1.02}\n"
     ]
    },
    {
     "name": "stderr",
     "output_type": "stream",
     "text": [
      "Model weights saved in ./results/checkpoint-1875/pytorch_model.bin\n",
      "Deleting older checkpoint [results/checkpoint-1625] due to args.save_total_limit\n",
      "***** Running Evaluation *****\n",
      "  Num examples = 1639\n",
      "  Batch size = 8\n"
     ]
    },
    {
     "data": {
      "application/vnd.jupyter.widget-view+json": {
       "model_id": "26f412a2c4504730b3c91af0aae1d3a6",
       "version_major": 2,
       "version_minor": 0
      },
      "text/plain": [
       "  0%|          | 0/205 [00:00<?, ?it/s]"
      ]
     },
     "metadata": {},
     "output_type": "display_data"
    },
    {
     "name": "stderr",
     "output_type": "stream",
     "text": [
      "Saving model checkpoint to ./results/checkpoint-1900\n",
      "Configuration saved in ./results/checkpoint-1900/config.json\n"
     ]
    },
    {
     "name": "stdout",
     "output_type": "stream",
     "text": [
      "{'eval_loss': 1.0004595518112183, 'eval_accuracy': 0.5057962172056132, 'eval_f1': 0.5187172317774265, 'eval_precision': 0.5685511398062111, 'eval_recall': 0.5572671519607845, 'eval_runtime': 324.6176, 'eval_samples_per_second': 5.049, 'eval_steps_per_second': 0.632, 'epoch': 1.03}\n"
     ]
    },
    {
     "name": "stderr",
     "output_type": "stream",
     "text": [
      "Model weights saved in ./results/checkpoint-1900/pytorch_model.bin\n",
      "Deleting older checkpoint [results/checkpoint-1650] due to args.save_total_limit\n",
      "***** Running Evaluation *****\n",
      "  Num examples = 1639\n",
      "  Batch size = 8\n"
     ]
    },
    {
     "data": {
      "application/vnd.jupyter.widget-view+json": {
       "model_id": "487fddff8c7c407db6cb2a2933d1f75c",
       "version_major": 2,
       "version_minor": 0
      },
      "text/plain": [
       "  0%|          | 0/205 [00:00<?, ?it/s]"
      ]
     },
     "metadata": {},
     "output_type": "display_data"
    },
    {
     "name": "stderr",
     "output_type": "stream",
     "text": [
      "Saving model checkpoint to ./results/checkpoint-1925\n",
      "Configuration saved in ./results/checkpoint-1925/config.json\n"
     ]
    },
    {
     "name": "stdout",
     "output_type": "stream",
     "text": [
      "{'eval_loss': 0.9535181522369385, 'eval_accuracy': 0.5411836485661989, 'eval_f1': 0.5440539408025652, 'eval_precision': 0.5576720987326775, 'eval_recall': 0.5739187524000198, 'eval_runtime': 322.5658, 'eval_samples_per_second': 5.081, 'eval_steps_per_second': 0.636, 'epoch': 1.04}\n"
     ]
    },
    {
     "name": "stderr",
     "output_type": "stream",
     "text": [
      "Model weights saved in ./results/checkpoint-1925/pytorch_model.bin\n",
      "Deleting older checkpoint [results/checkpoint-1675] due to args.save_total_limit\n",
      "***** Running Evaluation *****\n",
      "  Num examples = 1639\n",
      "  Batch size = 8\n"
     ]
    },
    {
     "data": {
      "application/vnd.jupyter.widget-view+json": {
       "model_id": "295aa625997d43a1a4044c90b8a492f1",
       "version_major": 2,
       "version_minor": 0
      },
      "text/plain": [
       "  0%|          | 0/205 [00:00<?, ?it/s]"
      ]
     },
     "metadata": {},
     "output_type": "display_data"
    },
    {
     "name": "stderr",
     "output_type": "stream",
     "text": [
      "Saving model checkpoint to ./results/checkpoint-1950\n",
      "Configuration saved in ./results/checkpoint-1950/config.json\n"
     ]
    },
    {
     "name": "stdout",
     "output_type": "stream",
     "text": [
      "{'eval_loss': 0.9237720966339111, 'eval_accuracy': 0.600366076876144, 'eval_f1': 0.5686673541099841, 'eval_precision': 0.5869573738142935, 'eval_recall': 0.5895369390228906, 'eval_runtime': 322.3323, 'eval_samples_per_second': 5.085, 'eval_steps_per_second': 0.636, 'epoch': 1.06}\n"
     ]
    },
    {
     "name": "stderr",
     "output_type": "stream",
     "text": [
      "Model weights saved in ./results/checkpoint-1950/pytorch_model.bin\n",
      "Deleting older checkpoint [results/checkpoint-1700] due to args.save_total_limit\n",
      "***** Running Evaluation *****\n",
      "  Num examples = 1639\n",
      "  Batch size = 8\n"
     ]
    },
    {
     "data": {
      "application/vnd.jupyter.widget-view+json": {
       "model_id": "92df727a082f4e08b21db75579376b76",
       "version_major": 2,
       "version_minor": 0
      },
      "text/plain": [
       "  0%|          | 0/205 [00:00<?, ?it/s]"
      ]
     },
     "metadata": {},
     "output_type": "display_data"
    },
    {
     "name": "stderr",
     "output_type": "stream",
     "text": [
      "Saving model checkpoint to ./results/checkpoint-1975\n",
      "Configuration saved in ./results/checkpoint-1975/config.json\n"
     ]
    },
    {
     "name": "stdout",
     "output_type": "stream",
     "text": [
      "{'eval_loss': 1.006479024887085, 'eval_accuracy': 0.6168395363026236, 'eval_f1': 0.5759431628713954, 'eval_precision': 0.5706418527724959, 'eval_recall': 0.5877602067673442, 'eval_runtime': 321.1416, 'eval_samples_per_second': 5.104, 'eval_steps_per_second': 0.638, 'epoch': 1.07}\n"
     ]
    },
    {
     "name": "stderr",
     "output_type": "stream",
     "text": [
      "Model weights saved in ./results/checkpoint-1975/pytorch_model.bin\n",
      "Deleting older checkpoint [results/checkpoint-1725] due to args.save_total_limit\n",
      "***** Running Evaluation *****\n",
      "  Num examples = 1639\n",
      "  Batch size = 8\n"
     ]
    },
    {
     "name": "stdout",
     "output_type": "stream",
     "text": [
      "{'loss': 1.0, 'learning_rate': 4.9457994579945803e-05, 'epoch': 1.08}\n"
     ]
    },
    {
     "data": {
      "application/vnd.jupyter.widget-view+json": {
       "model_id": "8f86cd0d0db44318a099a6ff59686d9c",
       "version_major": 2,
       "version_minor": 0
      },
      "text/plain": [
       "  0%|          | 0/205 [00:00<?, ?it/s]"
      ]
     },
     "metadata": {},
     "output_type": "display_data"
    },
    {
     "name": "stderr",
     "output_type": "stream",
     "text": [
      "Saving model checkpoint to ./results/checkpoint-2000\n",
      "Configuration saved in ./results/checkpoint-2000/config.json\n"
     ]
    },
    {
     "name": "stdout",
     "output_type": "stream",
     "text": [
      "{'eval_loss': 1.0148138999938965, 'eval_accuracy': 0.5106772422208664, 'eval_f1': 0.5186204226791046, 'eval_precision': 0.529249972511818, 'eval_recall': 0.5653341695236674, 'eval_runtime': 323.1551, 'eval_samples_per_second': 5.072, 'eval_steps_per_second': 0.634, 'epoch': 1.08}\n"
     ]
    },
    {
     "name": "stderr",
     "output_type": "stream",
     "text": [
      "Model weights saved in ./results/checkpoint-2000/pytorch_model.bin\n",
      "Deleting older checkpoint [results/checkpoint-1750] due to args.save_total_limit\n",
      "***** Running Evaluation *****\n",
      "  Num examples = 1639\n",
      "  Batch size = 8\n"
     ]
    },
    {
     "data": {
      "application/vnd.jupyter.widget-view+json": {
       "model_id": "e4f1fa4815fe46e8b56c98e1891d8be2",
       "version_major": 2,
       "version_minor": 0
      },
      "text/plain": [
       "  0%|          | 0/205 [00:00<?, ?it/s]"
      ]
     },
     "metadata": {},
     "output_type": "display_data"
    },
    {
     "name": "stderr",
     "output_type": "stream",
     "text": [
      "Saving model checkpoint to ./results/checkpoint-2025\n",
      "Configuration saved in ./results/checkpoint-2025/config.json\n"
     ]
    },
    {
     "name": "stdout",
     "output_type": "stream",
     "text": [
      "{'eval_loss': 1.1092854738235474, 'eval_accuracy': 0.6095179987797438, 'eval_f1': 0.5289020532842577, 'eval_precision': 0.5502526387747955, 'eval_recall': 0.5636630749627819, 'eval_runtime': 324.8187, 'eval_samples_per_second': 5.046, 'eval_steps_per_second': 0.631, 'epoch': 1.1}\n"
     ]
    },
    {
     "name": "stderr",
     "output_type": "stream",
     "text": [
      "Model weights saved in ./results/checkpoint-2025/pytorch_model.bin\n",
      "Deleting older checkpoint [results/checkpoint-1775] due to args.save_total_limit\n",
      "***** Running Evaluation *****\n",
      "  Num examples = 1639\n",
      "  Batch size = 8\n"
     ]
    },
    {
     "data": {
      "application/vnd.jupyter.widget-view+json": {
       "model_id": "3e25aac347f348f7bda6dca0c319dc5e",
       "version_major": 2,
       "version_minor": 0
      },
      "text/plain": [
       "  0%|          | 0/205 [00:00<?, ?it/s]"
      ]
     },
     "metadata": {},
     "output_type": "display_data"
    },
    {
     "name": "stderr",
     "output_type": "stream",
     "text": [
      "Saving model checkpoint to ./results/checkpoint-2050\n",
      "Configuration saved in ./results/checkpoint-2050/config.json\n"
     ]
    },
    {
     "name": "stdout",
     "output_type": "stream",
     "text": [
      "{'eval_loss': 1.1572157144546509, 'eval_accuracy': 0.6278218425869433, 'eval_f1': 0.5669973300181985, 'eval_precision': 0.6232075352307567, 'eval_recall': 0.5421754750431097, 'eval_runtime': 320.3536, 'eval_samples_per_second': 5.116, 'eval_steps_per_second': 0.64, 'epoch': 1.11}\n"
     ]
    },
    {
     "name": "stderr",
     "output_type": "stream",
     "text": [
      "Model weights saved in ./results/checkpoint-2050/pytorch_model.bin\n",
      "Deleting older checkpoint [results/checkpoint-1800] due to args.save_total_limit\n",
      "***** Running Evaluation *****\n",
      "  Num examples = 1639\n",
      "  Batch size = 8\n"
     ]
    },
    {
     "data": {
      "application/vnd.jupyter.widget-view+json": {
       "model_id": "57ec5c039ae246f79e527e250f21ebf6",
       "version_major": 2,
       "version_minor": 0
      },
      "text/plain": [
       "  0%|          | 0/205 [00:00<?, ?it/s]"
      ]
     },
     "metadata": {},
     "output_type": "display_data"
    },
    {
     "name": "stderr",
     "output_type": "stream",
     "text": [
      "Saving model checkpoint to ./results/checkpoint-2075\n",
      "Configuration saved in ./results/checkpoint-2075/config.json\n"
     ]
    },
    {
     "name": "stdout",
     "output_type": "stream",
     "text": [
      "{'eval_loss': 0.9991320371627808, 'eval_accuracy': 0.62477120195241, 'eval_f1': 0.5845812759629823, 'eval_precision': 0.6066157254091408, 'eval_recall': 0.5751006034553513, 'eval_runtime': 324.9864, 'eval_samples_per_second': 5.043, 'eval_steps_per_second': 0.631, 'epoch': 1.12}\n"
     ]
    },
    {
     "name": "stderr",
     "output_type": "stream",
     "text": [
      "Model weights saved in ./results/checkpoint-2075/pytorch_model.bin\n",
      "Deleting older checkpoint [results/checkpoint-1825] due to args.save_total_limit\n",
      "***** Running Evaluation *****\n",
      "  Num examples = 1639\n",
      "  Batch size = 8\n"
     ]
    },
    {
     "data": {
      "application/vnd.jupyter.widget-view+json": {
       "model_id": "5effaea3289a4c5d96a66aed829afc47",
       "version_major": 2,
       "version_minor": 0
      },
      "text/plain": [
       "  0%|          | 0/205 [00:00<?, ?it/s]"
      ]
     },
     "metadata": {},
     "output_type": "display_data"
    },
    {
     "name": "stderr",
     "output_type": "stream",
     "text": [
      "Saving model checkpoint to ./results/checkpoint-2100\n",
      "Configuration saved in ./results/checkpoint-2100/config.json\n"
     ]
    },
    {
     "name": "stdout",
     "output_type": "stream",
     "text": [
      "{'eval_loss': 0.958395779132843, 'eval_accuracy': 0.6101281269066504, 'eval_f1': 0.5469368116487482, 'eval_precision': 0.5726731368690898, 'eval_recall': 0.5628318717317837, 'eval_runtime': 326.1902, 'eval_samples_per_second': 5.025, 'eval_steps_per_second': 0.628, 'epoch': 1.14}\n"
     ]
    },
    {
     "name": "stderr",
     "output_type": "stream",
     "text": [
      "Model weights saved in ./results/checkpoint-2100/pytorch_model.bin\n",
      "Deleting older checkpoint [results/checkpoint-1850] due to args.save_total_limit\n",
      "***** Running Evaluation *****\n",
      "  Num examples = 1639\n",
      "  Batch size = 8\n"
     ]
    },
    {
     "data": {
      "application/vnd.jupyter.widget-view+json": {
       "model_id": "d6f24f7c62244f61883b96b89b4f57e5",
       "version_major": 2,
       "version_minor": 0
      },
      "text/plain": [
       "  0%|          | 0/205 [00:00<?, ?it/s]"
      ]
     },
     "metadata": {},
     "output_type": "display_data"
    },
    {
     "name": "stderr",
     "output_type": "stream",
     "text": [
      "Saving model checkpoint to ./results/checkpoint-2125\n",
      "Configuration saved in ./results/checkpoint-2125/config.json\n"
     ]
    },
    {
     "name": "stdout",
     "output_type": "stream",
     "text": [
      "{'eval_loss': 0.9694274663925171, 'eval_accuracy': 0.5747406955460647, 'eval_f1': 0.5331540422860975, 'eval_precision': 0.548941914742661, 'eval_recall': 0.5613531161339393, 'eval_runtime': 331.201, 'eval_samples_per_second': 4.949, 'eval_steps_per_second': 0.619, 'epoch': 1.15}\n"
     ]
    },
    {
     "name": "stderr",
     "output_type": "stream",
     "text": [
      "Model weights saved in ./results/checkpoint-2125/pytorch_model.bin\n",
      "Deleting older checkpoint [results/checkpoint-1875] due to args.save_total_limit\n",
      "***** Running Evaluation *****\n",
      "  Num examples = 1639\n",
      "  Batch size = 8\n"
     ]
    },
    {
     "data": {
      "application/vnd.jupyter.widget-view+json": {
       "model_id": "767d05f326264b918bb1d1f9ec408266",
       "version_major": 2,
       "version_minor": 0
      },
      "text/plain": [
       "  0%|          | 0/205 [00:00<?, ?it/s]"
      ]
     },
     "metadata": {},
     "output_type": "display_data"
    },
    {
     "name": "stderr",
     "output_type": "stream",
     "text": [
      "Saving model checkpoint to ./results/checkpoint-2150\n",
      "Configuration saved in ./results/checkpoint-2150/config.json\n"
     ]
    },
    {
     "name": "stdout",
     "output_type": "stream",
     "text": [
      "{'eval_loss': 0.904591977596283, 'eval_accuracy': 0.6052471018913972, 'eval_f1': 0.5754447781302031, 'eval_precision': 0.5603551542220592, 'eval_recall': 0.5945675064265281, 'eval_runtime': 328.4657, 'eval_samples_per_second': 4.99, 'eval_steps_per_second': 0.624, 'epoch': 1.17}\n"
     ]
    },
    {
     "name": "stderr",
     "output_type": "stream",
     "text": [
      "Model weights saved in ./results/checkpoint-2150/pytorch_model.bin\n",
      "Deleting older checkpoint [results/checkpoint-1900] due to args.save_total_limit\n",
      "***** Running Evaluation *****\n",
      "  Num examples = 1639\n",
      "  Batch size = 8\n"
     ]
    },
    {
     "data": {
      "application/vnd.jupyter.widget-view+json": {
       "model_id": "b012eacbf4d14a81b42e14589c007bec",
       "version_major": 2,
       "version_minor": 0
      },
      "text/plain": [
       "  0%|          | 0/205 [00:00<?, ?it/s]"
      ]
     },
     "metadata": {},
     "output_type": "display_data"
    },
    {
     "name": "stderr",
     "output_type": "stream",
     "text": [
      "Saving model checkpoint to ./results/checkpoint-2175\n",
      "Configuration saved in ./results/checkpoint-2175/config.json\n"
     ]
    },
    {
     "name": "stdout",
     "output_type": "stream",
     "text": [
      "{'eval_loss': 1.0223971605300903, 'eval_accuracy': 0.6253813300793166, 'eval_f1': 0.5643019622273637, 'eval_precision': 0.5796445634553831, 'eval_recall': 0.5697834841134803, 'eval_runtime': 324.9518, 'eval_samples_per_second': 5.044, 'eval_steps_per_second': 0.631, 'epoch': 1.18}\n"
     ]
    },
    {
     "name": "stderr",
     "output_type": "stream",
     "text": [
      "Model weights saved in ./results/checkpoint-2175/pytorch_model.bin\n",
      "Deleting older checkpoint [results/checkpoint-1925] due to args.save_total_limit\n",
      "***** Running Evaluation *****\n",
      "  Num examples = 1639\n",
      "  Batch size = 8\n"
     ]
    },
    {
     "data": {
      "application/vnd.jupyter.widget-view+json": {
       "model_id": "6a3e74bff9b94c0991af4f7b626a5495",
       "version_major": 2,
       "version_minor": 0
      },
      "text/plain": [
       "  0%|          | 0/205 [00:00<?, ?it/s]"
      ]
     },
     "metadata": {},
     "output_type": "display_data"
    },
    {
     "name": "stderr",
     "output_type": "stream",
     "text": [
      "Saving model checkpoint to ./results/checkpoint-2200\n",
      "Configuration saved in ./results/checkpoint-2200/config.json\n"
     ]
    },
    {
     "name": "stdout",
     "output_type": "stream",
     "text": [
      "{'eval_loss': 1.0892342329025269, 'eval_accuracy': 0.6186699206833435, 'eval_f1': 0.5498169450517911, 'eval_precision': 0.5979643478256073, 'eval_recall': 0.5493421074189697, 'eval_runtime': 327.0866, 'eval_samples_per_second': 5.011, 'eval_steps_per_second': 0.627, 'epoch': 1.19}\n"
     ]
    },
    {
     "name": "stderr",
     "output_type": "stream",
     "text": [
      "Model weights saved in ./results/checkpoint-2200/pytorch_model.bin\n",
      "Deleting older checkpoint [results/checkpoint-1950] due to args.save_total_limit\n",
      "***** Running Evaluation *****\n",
      "  Num examples = 1639\n",
      "  Batch size = 8\n"
     ]
    },
    {
     "data": {
      "application/vnd.jupyter.widget-view+json": {
       "model_id": "19ebc49e5e5140e4bdbf04978b666a60",
       "version_major": 2,
       "version_minor": 0
      },
      "text/plain": [
       "  0%|          | 0/205 [00:00<?, ?it/s]"
      ]
     },
     "metadata": {},
     "output_type": "display_data"
    },
    {
     "name": "stderr",
     "output_type": "stream",
     "text": [
      "Saving model checkpoint to ./results/checkpoint-2225\n",
      "Configuration saved in ./results/checkpoint-2225/config.json\n"
     ]
    },
    {
     "name": "stdout",
     "output_type": "stream",
     "text": [
      "{'eval_loss': 1.0709112882614136, 'eval_accuracy': 0.6296522269676632, 'eval_f1': 0.5744544519257893, 'eval_precision': 0.6051507177940578, 'eval_recall': 0.5591224982669579, 'eval_runtime': 326.2148, 'eval_samples_per_second': 5.024, 'eval_steps_per_second': 0.628, 'epoch': 1.21}\n"
     ]
    },
    {
     "name": "stderr",
     "output_type": "stream",
     "text": [
      "Model weights saved in ./results/checkpoint-2225/pytorch_model.bin\n",
      "Deleting older checkpoint [results/checkpoint-1975] due to args.save_total_limit\n",
      "***** Running Evaluation *****\n",
      "  Num examples = 1639\n",
      "  Batch size = 8\n"
     ]
    },
    {
     "data": {
      "application/vnd.jupyter.widget-view+json": {
       "model_id": "a11e4ced7cbf4e9bad2ec6e842112d4f",
       "version_major": 2,
       "version_minor": 0
      },
      "text/plain": [
       "  0%|          | 0/205 [00:00<?, ?it/s]"
      ]
     },
     "metadata": {},
     "output_type": "display_data"
    },
    {
     "name": "stderr",
     "output_type": "stream",
     "text": [
      "Saving model checkpoint to ./results/checkpoint-2250\n",
      "Configuration saved in ./results/checkpoint-2250/config.json\n"
     ]
    },
    {
     "name": "stdout",
     "output_type": "stream",
     "text": [
      "{'eval_loss': 0.8870769143104553, 'eval_accuracy': 0.6351433801098231, 'eval_f1': 0.5986806388028143, 'eval_precision': 0.5868321548540496, 'eval_recall': 0.6134044917275785, 'eval_runtime': 324.4514, 'eval_samples_per_second': 5.052, 'eval_steps_per_second': 0.632, 'epoch': 1.22}\n"
     ]
    },
    {
     "name": "stderr",
     "output_type": "stream",
     "text": [
      "Model weights saved in ./results/checkpoint-2250/pytorch_model.bin\n",
      "Deleting older checkpoint [results/checkpoint-2000] due to args.save_total_limit\n",
      "***** Running Evaluation *****\n",
      "  Num examples = 1639\n",
      "  Batch size = 8\n"
     ]
    },
    {
     "data": {
      "application/vnd.jupyter.widget-view+json": {
       "model_id": "d2f19147546d4cc5adb8b0d0ec08b6f7",
       "version_major": 2,
       "version_minor": 0
      },
      "text/plain": [
       "  0%|          | 0/205 [00:00<?, ?it/s]"
      ]
     },
     "metadata": {},
     "output_type": "display_data"
    },
    {
     "name": "stderr",
     "output_type": "stream",
     "text": [
      "Saving model checkpoint to ./results/checkpoint-2275\n",
      "Configuration saved in ./results/checkpoint-2275/config.json\n"
     ]
    },
    {
     "name": "stdout",
     "output_type": "stream",
     "text": [
      "{'eval_loss': 1.0826002359390259, 'eval_accuracy': 0.6223306894447834, 'eval_f1': 0.5611708964814185, 'eval_precision': 0.6210478540272605, 'eval_recall': 0.5454053003416139, 'eval_runtime': 325.082, 'eval_samples_per_second': 5.042, 'eval_steps_per_second': 0.631, 'epoch': 1.23}\n"
     ]
    },
    {
     "name": "stderr",
     "output_type": "stream",
     "text": [
      "Model weights saved in ./results/checkpoint-2275/pytorch_model.bin\n",
      "Deleting older checkpoint [results/checkpoint-2025] due to args.save_total_limit\n"
     ]
    }
   ],
   "source": [
    "trainer.train()"
   ]
  },
  {
   "cell_type": "code",
   "execution_count": null,
   "metadata": {},
   "outputs": [
    {
     "ename": "NameError",
     "evalue": "name 'experiment' is not defined",
     "output_type": "error",
     "traceback": [
      "\u001b[0;31m---------------------------------------------------------------------------\u001b[0m",
      "\u001b[0;31mNameError\u001b[0m                                 Traceback (most recent call last)",
      "Cell \u001b[0;32mIn [23], line 1\u001b[0m\n\u001b[0;32m----> 1\u001b[0m experiment\u001b[39m.\u001b[39mend()\n",
      "\u001b[0;31mNameError\u001b[0m: name 'experiment' is not defined"
     ]
    }
   ],
   "source": [
    "# experiment.end()"
   ]
  }
 ],
 "metadata": {
  "kernelspec": {
   "display_name": "pt",
   "language": "python",
   "name": "python3"
  },
  "language_info": {
   "codemirror_mode": {
    "name": "ipython",
    "version": 3
   },
   "file_extension": ".py",
   "mimetype": "text/x-python",
   "name": "python",
   "nbconvert_exporter": "python",
   "pygments_lexer": "ipython3",
   "version": "3.9.13"
  },
  "orig_nbformat": 4,
  "vscode": {
   "interpreter": {
    "hash": "3a7aaad0630ad3230b7b955ab34166b9352cf35c53f01b298fd4177c5371ed1f"
   }
  }
 },
 "nbformat": 4,
 "nbformat_minor": 2
}
