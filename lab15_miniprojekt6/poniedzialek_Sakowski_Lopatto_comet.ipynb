{
 "cells": [
  {
   "attachments": {},
   "cell_type": "markdown",
   "metadata": {},
   "source": [
    "# Imports"
   ]
  },
  {
   "cell_type": "code",
   "execution_count": 1,
   "metadata": {},
   "outputs": [],
   "source": [
    "import comet_ml\n",
    "from comet_ml import Experiment\n",
    "import torch\n",
    "from torch.utils.data import DataLoader\n",
    "from torch.optim import Adam\n",
    "from torch import nn\n",
    "import matplotlib.pyplot as plt"
   ]
  },
  {
   "cell_type": "code",
   "execution_count": 2,
   "metadata": {},
   "outputs": [
    {
     "name": "stderr",
     "output_type": "stream",
     "text": [
      "comet_ml is installed but `COMET_API_KEY` is not set.\n",
      "/Users/milosz/opt/miniconda3/envs/pt/lib/python3.9/site-packages/transformers/generation_utils.py:24: FutureWarning: Importing `GenerationMixin` from `src/transformers/generation_utils.py` is deprecated and will be removed in Transformers v5. Import as `from transformers import GenerationMixin` instead.\n",
      "  warnings.warn(\n"
     ]
    }
   ],
   "source": [
    "import transformers\n",
    "from transformers import *\n",
    "import numpy as np\n",
    "from datasets import load_dataset\n",
    "import evaluate\n",
    "from tqdm import tqdm"
   ]
  },
  {
   "cell_type": "code",
   "execution_count": 3,
   "metadata": {},
   "outputs": [],
   "source": [
    "from datasets import load_dataset\n",
    "import datasets\n",
    "\n",
    "from sklearn.metrics import accuracy_score, precision_recall_fscore_support\n",
    "from transformers import AutoTokenizer, Trainer, TrainingArguments, AutoModelForSequenceClassification, DataCollatorWithPadding"
   ]
  },
  {
   "cell_type": "code",
   "execution_count": 4,
   "metadata": {},
   "outputs": [
    {
     "name": "stdout",
     "output_type": "stream",
     "text": [
      "Device: cpu\n"
     ]
    }
   ],
   "source": [
    "device = torch.device(\"cuda:0\") if torch.cuda.is_available() else torch.device(\"cpu\")\n",
    "print(\"Device:\", device)"
   ]
  },
  {
   "cell_type": "code",
   "execution_count": 5,
   "metadata": {},
   "outputs": [],
   "source": [
    "RANDOM_SEED = 42\n",
    "VALIDATION_PERCENTAGE = 10\n",
    "# PRE_TRAINED_MODEL_NAME = 'distilbert-base-uncased'\n",
    "# PRE_TRAINED_MODEL_NAME = 'distilbert-base-uncased-finetuned-sst-2-english'\n",
    "# PRE_TRAINED_MODEL_NAME = \"bert-base-uncased\"\n",
    "PRE_TRAINED_MODEL_NAME = \"nlptown/bert-base-multilingual-uncased-sentiment\""
   ]
  },
  {
   "attachments": {},
   "cell_type": "markdown",
   "metadata": {},
   "source": [
    "# Load and prepare data"
   ]
  },
  {
   "cell_type": "code",
   "execution_count": 6,
   "metadata": {},
   "outputs": [
    {
     "name": "stderr",
     "output_type": "stream",
     "text": [
      "Using custom data configuration default-09e2066563176d94\n",
      "Found cached dataset csv (/Users/milosz/.cache/huggingface/datasets/csv/default-09e2066563176d94/0.0.0/6b34fb8fcf56f7c8ba51dc895bfa2bfbe43546f190a60fcf74bb5e8afdcc2317)\n"
     ]
    },
    {
     "data": {
      "application/vnd.jupyter.widget-view+json": {
       "model_id": "899bf5f86f674a5fbec95903758d7f4f",
       "version_major": 2,
       "version_minor": 0
      },
      "text/plain": [
       "  0%|          | 0/1 [00:00<?, ?it/s]"
      ]
     },
     "metadata": {},
     "output_type": "display_data"
    },
    {
     "name": "stderr",
     "output_type": "stream",
     "text": [
      "Using custom data configuration default-09e2066563176d94\n",
      "Found cached dataset csv (/Users/milosz/.cache/huggingface/datasets/csv/default-09e2066563176d94/0.0.0/6b34fb8fcf56f7c8ba51dc895bfa2bfbe43546f190a60fcf74bb5e8afdcc2317)\n"
     ]
    },
    {
     "data": {
      "application/vnd.jupyter.widget-view+json": {
       "model_id": "d89c98359bbc4f679b4ffd9f16815f7d",
       "version_major": 2,
       "version_minor": 0
      },
      "text/plain": [
       "  0%|          | 0/2 [00:00<?, ?it/s]"
      ]
     },
     "metadata": {},
     "output_type": "display_data"
    },
    {
     "name": "stderr",
     "output_type": "stream",
     "text": [
      "Using custom data configuration default-87d9d524b2970477\n",
      "Found cached dataset csv (/Users/milosz/.cache/huggingface/datasets/csv/default-87d9d524b2970477/0.0.0/6b34fb8fcf56f7c8ba51dc895bfa2bfbe43546f190a60fcf74bb5e8afdcc2317)\n"
     ]
    },
    {
     "data": {
      "application/vnd.jupyter.widget-view+json": {
       "model_id": "6128cd2716c349888b221cd6a49ee5d2",
       "version_major": 2,
       "version_minor": 0
      },
      "text/plain": [
       "  0%|          | 0/1 [00:00<?, ?it/s]"
      ]
     },
     "metadata": {},
     "output_type": "display_data"
    }
   ],
   "source": [
    "full_train_dataset = load_dataset(\"csv\", data_files=\"p6/train_data.csv\")\n",
    "\n",
    "train_dataset, valid_dataset = datasets.load_dataset(\"csv\", data_files=\"p6/train_data.csv\", split=[\n",
    "    datasets.ReadInstruction('train', to=100-VALIDATION_PERCENTAGE, unit='%'),\n",
    "    datasets.ReadInstruction('train', from_=-VALIDATION_PERCENTAGE, unit='%'),\n",
    "])\n",
    "\n",
    "test_dataset = load_dataset(\"csv\", data_files=\"p6/test_data.csv\", column_names=['review'])"
   ]
  },
  {
   "cell_type": "code",
   "execution_count": 7,
   "metadata": {},
   "outputs": [],
   "source": [
    "# rename label column\n",
    "full_train_dataset = full_train_dataset.rename_column('rating', 'label')\n",
    "train_dataset = train_dataset.rename_column('rating', 'label')\n",
    "valid_dataset = valid_dataset.rename_column('rating', 'label')"
   ]
  },
  {
   "cell_type": "code",
   "execution_count": 8,
   "metadata": {},
   "outputs": [
    {
     "name": "stdout",
     "output_type": "stream",
     "text": [
      "DatasetDict({\n",
      "    train: Dataset({\n",
      "        features: ['review', 'label'],\n",
      "        num_rows: 16392\n",
      "    })\n",
      "})\n"
     ]
    }
   ],
   "source": [
    "print(full_train_dataset)"
   ]
  },
  {
   "cell_type": "code",
   "execution_count": 9,
   "metadata": {},
   "outputs": [
    {
     "name": "stdout",
     "output_type": "stream",
     "text": [
      "Dataset({\n",
      "    features: ['review', 'label'],\n",
      "    num_rows: 14753\n",
      "})\n"
     ]
    }
   ],
   "source": [
    "print(train_dataset)"
   ]
  },
  {
   "cell_type": "code",
   "execution_count": 10,
   "metadata": {},
   "outputs": [
    {
     "name": "stdout",
     "output_type": "stream",
     "text": [
      "Dataset({\n",
      "    features: ['review', 'label'],\n",
      "    num_rows: 1639\n",
      "})\n"
     ]
    }
   ],
   "source": [
    "print(valid_dataset)"
   ]
  },
  {
   "cell_type": "code",
   "execution_count": 11,
   "metadata": {},
   "outputs": [
    {
     "name": "stdout",
     "output_type": "stream",
     "text": [
      "DatasetDict({\n",
      "    train: Dataset({\n",
      "        features: ['review'],\n",
      "        num_rows: 4099\n",
      "    })\n",
      "})\n"
     ]
    }
   ],
   "source": [
    "print(test_dataset)"
   ]
  },
  {
   "cell_type": "code",
   "execution_count": 12,
   "metadata": {},
   "outputs": [
    {
     "data": {
      "text/plain": [
       "(array([1137.,    0., 1434.,    0.,    0., 1747.,    0., 4831.,    0.,\n",
       "        7243.]),\n",
       " array([0. , 0.4, 0.8, 1.2, 1.6, 2. , 2.4, 2.8, 3.2, 3.6, 4. ]),\n",
       " <BarContainer object of 10 artists>)"
      ]
     },
     "execution_count": 12,
     "metadata": {},
     "output_type": "execute_result"
    },
    {
     "data": {
      "image/png": "[encoded data removed]",
      "text/plain": [
       "<Figure size 640x480 with 1 Axes>"
      ]
     },
     "metadata": {},
     "output_type": "display_data"
    }
   ],
   "source": [
    "plt.hist(full_train_dataset['train']['label'])"
   ]
  },
  {
   "cell_type": "code",
   "execution_count": 13,
   "metadata": {},
   "outputs": [
    {
     "data": {
      "image/png": "[encoded data removed]",
      "text/plain": [
       "<Figure size 1000x400 with 3 Axes>"
      ]
     },
     "metadata": {},
     "output_type": "display_data"
    }
   ],
   "source": [
    "# Create a 3x1 grid of subplots\n",
    "fig, axs = plt.subplots(1, 3, figsize=(10,4))\n",
    "\n",
    "# Plot the first histogram in the first subplot\n",
    "axs[0].hist(full_train_dataset['train']['label'], color='blue', alpha=0.5)\n",
    "axs[0].set_title('full train dataset')\n",
    "\n",
    "# Plot the second histogram in the second subplot\n",
    "axs[1].hist(train_dataset['label'], color='green', alpha=0.5)\n",
    "axs[1].set_title('train dataset')\n",
    "\n",
    "# Plot the third histogram in the third subplot\n",
    "axs[2].hist(valid_dataset['label'], color='red', alpha=0.5)\n",
    "axs[2].set_title('validation dataset')\n",
    "\n",
    "plt.show()"
   ]
  },
  {
   "attachments": {},
   "cell_type": "markdown",
   "metadata": {},
   "source": [
    "## Tokenization"
   ]
  },
  {
   "cell_type": "code",
   "execution_count": 14,
   "metadata": {},
   "outputs": [
    {
     "name": "stderr",
     "output_type": "stream",
     "text": [
      "loading configuration file config.json from cache at /Users/milosz/.cache/huggingface/hub/models--nlptown--bert-base-multilingual-uncased-sentiment/snapshots/e06857fdb0325a7798a8fc361b417dfeec3a3b98/config.json\n",
      "Model config BertConfig {\n",
      "  \"_name_or_path\": \"nlptown/bert-base-multilingual-uncased-sentiment\",\n",
      "  \"_num_labels\": 5,\n",
      "  \"architectures\": [\n",
      "    \"BertForSequenceClassification\"\n",
      "  ],\n",
      "  \"attention_probs_dropout_prob\": 0.1,\n",
      "  \"classifier_dropout\": null,\n",
      "  \"directionality\": \"bidi\",\n",
      "  \"finetuning_task\": \"sentiment-analysis\",\n",
      "  \"hidden_act\": \"gelu\",\n",
      "  \"hidden_dropout_prob\": 0.1,\n",
      "  \"hidden_size\": 768,\n",
      "  \"id2label\": {\n",
      "    \"0\": \"1 star\",\n",
      "    \"1\": \"2 stars\",\n",
      "    \"2\": \"3 stars\",\n",
      "    \"3\": \"4 stars\",\n",
      "    \"4\": \"5 stars\"\n",
      "  },\n",
      "  \"initializer_range\": 0.02,\n",
      "  \"intermediate_size\": 3072,\n",
      "  \"label2id\": {\n",
      "    \"1 star\": 0,\n",
      "    \"2 stars\": 1,\n",
      "    \"3 stars\": 2,\n",
      "    \"4 stars\": 3,\n",
      "    \"5 stars\": 4\n",
      "  },\n",
      "  \"layer_norm_eps\": 1e-12,\n",
      "  \"max_position_embeddings\": 512,\n",
      "  \"model_type\": \"bert\",\n",
      "  \"num_attention_heads\": 12,\n",
      "  \"num_hidden_layers\": 12,\n",
      "  \"output_past\": true,\n",
      "  \"pad_token_id\": 0,\n",
      "  \"pooler_fc_size\": 768,\n",
      "  \"pooler_num_attention_heads\": 12,\n",
      "  \"pooler_num_fc_layers\": 3,\n",
      "  \"pooler_size_per_head\": 128,\n",
      "  \"pooler_type\": \"first_token_transform\",\n",
      "  \"position_embedding_type\": \"absolute\",\n",
      "  \"transformers_version\": \"4.25.1\",\n",
      "  \"type_vocab_size\": 2,\n",
      "  \"use_cache\": true,\n",
      "  \"vocab_size\": 105879\n",
      "}\n",
      "\n",
      "loading file vocab.txt from cache at /Users/milosz/.cache/huggingface/hub/models--nlptown--bert-base-multilingual-uncased-sentiment/snapshots/e06857fdb0325a7798a8fc361b417dfeec3a3b98/vocab.txt\n",
      "loading file tokenizer.json from cache at None\n",
      "loading file added_tokens.json from cache at None\n",
      "loading file special_tokens_map.json from cache at /Users/milosz/.cache/huggingface/hub/models--nlptown--bert-base-multilingual-uncased-sentiment/snapshots/e06857fdb0325a7798a8fc361b417dfeec3a3b98/special_tokens_map.json\n",
      "loading file tokenizer_config.json from cache at /Users/milosz/.cache/huggingface/hub/models--nlptown--bert-base-multilingual-uncased-sentiment/snapshots/e06857fdb0325a7798a8fc361b417dfeec3a3b98/tokenizer_config.json\n",
      "loading configuration file config.json from cache at /Users/milosz/.cache/huggingface/hub/models--nlptown--bert-base-multilingual-uncased-sentiment/snapshots/e06857fdb0325a7798a8fc361b417dfeec3a3b98/config.json\n",
      "Model config BertConfig {\n",
      "  \"_name_or_path\": \"nlptown/bert-base-multilingual-uncased-sentiment\",\n",
      "  \"_num_labels\": 5,\n",
      "  \"architectures\": [\n",
      "    \"BertForSequenceClassification\"\n",
      "  ],\n",
      "  \"attention_probs_dropout_prob\": 0.1,\n",
      "  \"classifier_dropout\": null,\n",
      "  \"directionality\": \"bidi\",\n",
      "  \"finetuning_task\": \"sentiment-analysis\",\n",
      "  \"hidden_act\": \"gelu\",\n",
      "  \"hidden_dropout_prob\": 0.1,\n",
      "  \"hidden_size\": 768,\n",
      "  \"id2label\": {\n",
      "    \"0\": \"1 star\",\n",
      "    \"1\": \"2 stars\",\n",
      "    \"2\": \"3 stars\",\n",
      "    \"3\": \"4 stars\",\n",
      "    \"4\": \"5 stars\"\n",
      "  },\n",
      "  \"initializer_range\": 0.02,\n",
      "  \"intermediate_size\": 3072,\n",
      "  \"label2id\": {\n",
      "    \"1 star\": 0,\n",
      "    \"2 stars\": 1,\n",
      "    \"3 stars\": 2,\n",
      "    \"4 stars\": 3,\n",
      "    \"5 stars\": 4\n",
      "  },\n",
      "  \"layer_norm_eps\": 1e-12,\n",
      "  \"max_position_embeddings\": 512,\n",
      "  \"model_type\": \"bert\",\n",
      "  \"num_attention_heads\": 12,\n",
      "  \"num_hidden_layers\": 12,\n",
      "  \"output_past\": true,\n",
      "  \"pad_token_id\": 0,\n",
      "  \"pooler_fc_size\": 768,\n",
      "  \"pooler_num_attention_heads\": 12,\n",
      "  \"pooler_num_fc_layers\": 3,\n",
      "  \"pooler_size_per_head\": 128,\n",
      "  \"pooler_type\": \"first_token_transform\",\n",
      "  \"position_embedding_type\": \"absolute\",\n",
      "  \"transformers_version\": \"4.25.1\",\n",
      "  \"type_vocab_size\": 2,\n",
      "  \"use_cache\": true,\n",
      "  \"vocab_size\": 105879\n",
      "}\n",
      "\n",
      "loading configuration file config.json from cache at /Users/milosz/.cache/huggingface/hub/models--nlptown--bert-base-multilingual-uncased-sentiment/snapshots/e06857fdb0325a7798a8fc361b417dfeec3a3b98/config.json\n",
      "Model config BertConfig {\n",
      "  \"_name_or_path\": \"nlptown/bert-base-multilingual-uncased-sentiment\",\n",
      "  \"_num_labels\": 5,\n",
      "  \"architectures\": [\n",
      "    \"BertForSequenceClassification\"\n",
      "  ],\n",
      "  \"attention_probs_dropout_prob\": 0.1,\n",
      "  \"classifier_dropout\": null,\n",
      "  \"directionality\": \"bidi\",\n",
      "  \"finetuning_task\": \"sentiment-analysis\",\n",
      "  \"hidden_act\": \"gelu\",\n",
      "  \"hidden_dropout_prob\": 0.1,\n",
      "  \"hidden_size\": 768,\n",
      "  \"id2label\": {\n",
      "    \"0\": \"1 star\",\n",
      "    \"1\": \"2 stars\",\n",
      "    \"2\": \"3 stars\",\n",
      "    \"3\": \"4 stars\",\n",
      "    \"4\": \"5 stars\"\n",
      "  },\n",
      "  \"initializer_range\": 0.02,\n",
      "  \"intermediate_size\": 3072,\n",
      "  \"label2id\": {\n",
      "    \"1 star\": 0,\n",
      "    \"2 stars\": 1,\n",
      "    \"3 stars\": 2,\n",
      "    \"4 stars\": 3,\n",
      "    \"5 stars\": 4\n",
      "  },\n",
      "  \"layer_norm_eps\": 1e-12,\n",
      "  \"max_position_embeddings\": 512,\n",
      "  \"model_type\": \"bert\",\n",
      "  \"num_attention_heads\": 12,\n",
      "  \"num_hidden_layers\": 12,\n",
      "  \"output_past\": true,\n",
      "  \"pad_token_id\": 0,\n",
      "  \"pooler_fc_size\": 768,\n",
      "  \"pooler_num_attention_heads\": 12,\n",
      "  \"pooler_num_fc_layers\": 3,\n",
      "  \"pooler_size_per_head\": 128,\n",
      "  \"pooler_type\": \"first_token_transform\",\n",
      "  \"position_embedding_type\": \"absolute\",\n",
      "  \"transformers_version\": \"4.25.1\",\n",
      "  \"type_vocab_size\": 2,\n",
      "  \"use_cache\": true,\n",
      "  \"vocab_size\": 105879\n",
      "}\n",
      "\n",
      "Loading cached processed dataset at /Users/milosz/.cache/huggingface/datasets/csv/default-09e2066563176d94/0.0.0/6b34fb8fcf56f7c8ba51dc895bfa2bfbe43546f190a60fcf74bb5e8afdcc2317/cache-713e5942bb698d43.arrow\n",
      "Loading cached processed dataset at /Users/milosz/.cache/huggingface/datasets/csv/default-09e2066563176d94/0.0.0/6b34fb8fcf56f7c8ba51dc895bfa2bfbe43546f190a60fcf74bb5e8afdcc2317/cache-65f74604ff5ca5d7.arrow\n"
     ]
    }
   ],
   "source": [
    "tokenizer = AutoTokenizer.from_pretrained(PRE_TRAINED_MODEL_NAME)\n",
    "\n",
    "def tokenize_function(data):\n",
    "    return tokenizer(data[\"review\"], padding=\"max_length\", truncation=True)\n",
    "\n",
    "\n",
    "tokenized_train_df = train_dataset.map(tokenize_function, batched=True)\n",
    "tokenized_valid_df = valid_dataset.map(tokenize_function, batched=True)\n",
    "\n",
    "tokenized_train_df = tokenized_train_df.remove_columns(['review'])\n",
    "tokenized_valid_df = tokenized_valid_df.remove_columns(['review'])\n",
    "\n",
    "tokenized_train_df.set_format(\"torch\")\n",
    "tokenized_valid_df.set_format(\"torch\")\n",
    "\n",
    "# train_df = tokenized_train_df.shuffle(seed=RANDOM_SEED).select(range(200))\n",
    "# valid_df = tokenized_valid_df.shuffle(seed=RANDOM_SEED).select(range(100))\n",
    "train_df = tokenized_train_df\n",
    "valid_df = tokenized_valid_df\n",
    "\n",
    "data_collator = DataCollatorWithPadding(tokenizer=tokenizer)"
   ]
  },
  {
   "cell_type": "code",
   "execution_count": 15,
   "metadata": {},
   "outputs": [
    {
     "name": "stdout",
     "output_type": "stream",
     "text": [
      "Dataset({\n",
      "    features: ['label', 'input_ids', 'token_type_ids', 'attention_mask'],\n",
      "    num_rows: 14753\n",
      "})\n"
     ]
    }
   ],
   "source": [
    "print(train_df)"
   ]
  },
  {
   "cell_type": "code",
   "execution_count": 16,
   "metadata": {},
   "outputs": [
    {
     "name": "stdout",
     "output_type": "stream",
     "text": [
      "Dataset({\n",
      "    features: ['label', 'input_ids', 'token_type_ids', 'attention_mask'],\n",
      "    num_rows: 1639\n",
      "})\n"
     ]
    }
   ],
   "source": [
    "print(valid_df)"
   ]
  },
  {
   "attachments": {},
   "cell_type": "markdown",
   "metadata": {},
   "source": [
    "# Define model"
   ]
  },
  {
   "cell_type": "code",
   "execution_count": 17,
   "metadata": {},
   "outputs": [
    {
     "name": "stderr",
     "output_type": "stream",
     "text": [
      "loading configuration file config.json from cache at /Users/milosz/.cache/huggingface/hub/models--nlptown--bert-base-multilingual-uncased-sentiment/snapshots/e06857fdb0325a7798a8fc361b417dfeec3a3b98/config.json\n",
      "Model config BertConfig {\n",
      "  \"_name_or_path\": \"nlptown/bert-base-multilingual-uncased-sentiment\",\n",
      "  \"_num_labels\": 5,\n",
      "  \"architectures\": [\n",
      "    \"BertForSequenceClassification\"\n",
      "  ],\n",
      "  \"attention_probs_dropout_prob\": 0.1,\n",
      "  \"classifier_dropout\": null,\n",
      "  \"directionality\": \"bidi\",\n",
      "  \"finetuning_task\": \"sentiment-analysis\",\n",
      "  \"hidden_act\": \"gelu\",\n",
      "  \"hidden_dropout_prob\": 0.1,\n",
      "  \"hidden_size\": 768,\n",
      "  \"id2label\": {\n",
      "    \"0\": \"1 star\",\n",
      "    \"1\": \"2 stars\",\n",
      "    \"2\": \"3 stars\",\n",
      "    \"3\": \"4 stars\",\n",
      "    \"4\": \"5 stars\"\n",
      "  },\n",
      "  \"initializer_range\": 0.02,\n",
      "  \"intermediate_size\": 3072,\n",
      "  \"label2id\": {\n",
      "    \"1 star\": 0,\n",
      "    \"2 stars\": 1,\n",
      "    \"3 stars\": 2,\n",
      "    \"4 stars\": 3,\n",
      "    \"5 stars\": 4\n",
      "  },\n",
      "  \"layer_norm_eps\": 1e-12,\n",
      "  \"max_position_embeddings\": 512,\n",
      "  \"model_type\": \"bert\",\n",
      "  \"num_attention_heads\": 12,\n",
      "  \"num_hidden_layers\": 12,\n",
      "  \"output_past\": true,\n",
      "  \"pad_token_id\": 0,\n",
      "  \"pooler_fc_size\": 768,\n",
      "  \"pooler_num_attention_heads\": 12,\n",
      "  \"pooler_num_fc_layers\": 3,\n",
      "  \"pooler_size_per_head\": 128,\n",
      "  \"pooler_type\": \"first_token_transform\",\n",
      "  \"position_embedding_type\": \"absolute\",\n",
      "  \"transformers_version\": \"4.25.1\",\n",
      "  \"type_vocab_size\": 2,\n",
      "  \"use_cache\": true,\n",
      "  \"vocab_size\": 105879\n",
      "}\n",
      "\n",
      "loading weights file pytorch_model.bin from cache at /Users/milosz/.cache/huggingface/hub/models--nlptown--bert-base-multilingual-uncased-sentiment/snapshots/e06857fdb0325a7798a8fc361b417dfeec3a3b98/pytorch_model.bin\n",
      "All model checkpoint weights were used when initializing BertForSequenceClassification.\n",
      "\n",
      "All the weights of BertForSequenceClassification were initialized from the model checkpoint at nlptown/bert-base-multilingual-uncased-sentiment.\n",
      "If your task is similar to the task the model of the checkpoint was trained on, you can already use BertForSequenceClassification for predictions without further training.\n"
     ]
    }
   ],
   "source": [
    "# model = AutoModel.from_pretrained(PRE_TRAINED_MODEL_NAME)\n",
    "model = AutoModelForSequenceClassification.from_pretrained(\n",
    "    PRE_TRAINED_MODEL_NAME, num_labels=5\n",
    ")"
   ]
  },
  {
   "cell_type": "code",
   "execution_count": 18,
   "metadata": {},
   "outputs": [
    {
     "name": "stderr",
     "output_type": "stream",
     "text": [
      "PyTorch: setting up devices\n",
      "The default value for the training argument `--report_to` will change in v5 (from all installed integrations to none). In v5, you will need to use `--report_to all` to get the same behavior as now. You should start updating your code and make this info disappear :-).\n"
     ]
    }
   ],
   "source": [
    "training_arguments = TrainingArguments(\n",
    "    seed=RANDOM_SEED,\n",
    "    optim=\"adamw_torch\",\n",
    "    learning_rate=5e-5,\n",
    "    num_train_epochs=100,\n",
    "    output_dir=\"./results\",\n",
    "    overwrite_output_dir=True,\n",
    "    do_train=True,\n",
    "    do_eval=True,\n",
    "    evaluation_strategy=\"steps\",\n",
    "    eval_steps=25,\n",
    "    save_strategy=\"steps\",\n",
    "    save_total_limit=10,\n",
    "    save_steps=25,\n",
    ")"
   ]
  },
  {
   "cell_type": "code",
   "execution_count": 19,
   "metadata": {},
   "outputs": [],
   "source": [
    "# read comet API key from a file\n",
    "with open('api_key.txt', 'r') as file:\n",
    "    API_KEY = file.readline().strip()"
   ]
  },
  {
   "cell_type": "code",
   "execution_count": null,
   "metadata": {},
   "outputs": [],
   "source": [
    "experiment = Experiment(\n",
    "    api_key=API_KEY,\n",
    "    project_name=\"hotel_stars_v1\",\n",
    "    workspace=\"milosz-l\",\n",
    ")"
   ]
  },
  {
   "cell_type": "code",
   "execution_count": 20,
   "metadata": {},
   "outputs": [],
   "source": [
    "def compute_metrics(pred):\n",
    "    \n",
    "    #get global experiments\n",
    "    # experiment = comet_ml.get_global_experiment()\n",
    "    \n",
    "    #get y_true and y_preds for eval_dataset\n",
    "    # print(f'pred = {pred}')\n",
    "    labels = pred.label_ids\n",
    "    # print(f'labels = {labels}')\n",
    "    preds = pred.predictions.argmax(-1)\n",
    "    # print(f'preds = {preds}')\n",
    "    \n",
    "    #compute precision, recall, and F1 score\n",
    "    precision, recall, f1, _ = precision_recall_fscore_support(\n",
    "        labels, preds, average='macro')\n",
    "    \n",
    "    #compute accuracy score\n",
    "    acc = accuracy_score(labels, preds)\n",
    "    \n",
    "    #log confusion matrix\n",
    "    if experiment:\n",
    "        epoch = int(experiment.curr_epoch) if experiment.curr_epoch is not None else 0\n",
    "        experiment.set_epoch(epoch)\n",
    "        experiment.log_confusion_matrix(\n",
    "            y_true=labels,\n",
    "            y_predicted=preds,\n",
    "            labels=[1, 2, 3, 4, 5]\n",
    "        )\n",
    "\n",
    "    return {\"accuracy\": acc, \n",
    "            \"f1\": f1, \n",
    "            \"precision\": precision,\n",
    "            \"recall\": recall\n",
    "            }"
   ]
  },
  {
   "cell_type": "code",
   "execution_count": 21,
   "metadata": {},
   "outputs": [
    {
     "name": "stdout",
     "output_type": "stream",
     "text": [
      "env: COMET_MODE=ONLINE\n",
      "env: COMET_LOG_ASSETS=TRUE\n"
     ]
    }
   ],
   "source": [
    "%env COMET_MODE=ONLINE\n",
    "%env COMET_LOG_ASSETS=TRUE\n",
    "trainer = Trainer(\n",
    "    model=model,\n",
    "    args=training_arguments,\n",
    "    train_dataset=train_df,\n",
    "    eval_dataset=valid_df,\n",
    "    compute_metrics=compute_metrics,\n",
    "    data_collator=data_collator,\n",
    ")"
   ]
  },
  {
   "cell_type": "code",
   "execution_count": 22,
   "metadata": {},
   "outputs": [
    {
     "name": "stderr",
     "output_type": "stream",
     "text": [
      "***** Running training *****\n",
      "  Num examples = 14753\n",
      "  Num Epochs = 100\n",
      "  Instantaneous batch size per device = 8\n",
      "  Total train batch size (w. parallel, distributed & accumulation) = 8\n",
      "  Gradient Accumulation steps = 1\n",
      "  Total optimization steps = 184500\n",
      "  Number of trainable parameters = 167360261\n"
     ]
    },
    {
     "data": {
      "application/vnd.jupyter.widget-view+json": {
       "model_id": "86602f211163478eb8de2326b436123c",
       "version_major": 2,
       "version_minor": 0
      },
      "text/plain": [
       "  0%|          | 0/184500 [00:00<?, ?it/s]"
      ]
     },
     "metadata": {},
     "output_type": "display_data"
    },
    {
     "name": "stderr",
     "output_type": "stream",
     "text": [
      "You're using a BertTokenizerFast tokenizer. Please note that with a fast tokenizer, using the `__call__` method is faster than using a method to encode the text followed by a call to the `pad` method to get a padded encoding.\n",
      "***** Running Evaluation *****\n",
      "  Num examples = 1639\n",
      "  Batch size = 8\n"
     ]
    },
    {
     "data": {
      "application/vnd.jupyter.widget-view+json": {
       "model_id": "5f3bbe9bc1bc41719f99a6ac251cf74a",
       "version_major": 2,
       "version_minor": 0
      },
      "text/plain": [
       "  0%|          | 0/205 [00:00<?, ?it/s]"
      ]
     },
     "metadata": {},
     "output_type": "display_data"
    },
    {
     "name": "stderr",
     "output_type": "stream",
     "text": [
      "COMET WARNING: As you are running in a Jupyter environment, you will need to call `experiment.end()` when finished to ensure all metrics and code are logged before exiting.\n",
      "COMET INFO: Experiment is live on comet.com https://www.comet.com/milosz-l/hugging-face-text-classification/522fdfc251c941bfa99ba16bc49c6473\n",
      "\n",
      "Saving model checkpoint to ./results/checkpoint-25\n",
      "Configuration saved in ./results/checkpoint-25/config.json\n"
     ]
    },
    {
     "name": "stdout",
     "output_type": "stream",
     "text": [
      "{'eval_loss': 0.8936576247215271, 'eval_accuracy': 0.5942647956070775, 'eval_f1': 0.5130178366355332, 'eval_precision': 0.5935746880143865, 'eval_recall': 0.5148604075317772, 'eval_runtime': 306.8444, 'eval_samples_per_second': 5.341, 'eval_steps_per_second': 0.668, 'epoch': 0.01}\n"
     ]
    },
    {
     "name": "stderr",
     "output_type": "stream",
     "text": [
      "Model weights saved in ./results/checkpoint-25/pytorch_model.bin\n",
      "***** Running Evaluation *****\n",
      "  Num examples = 1639\n",
      "  Batch size = 8\n"
     ]
    },
    {
     "data": {
      "application/vnd.jupyter.widget-view+json": {
       "model_id": "a4f1b9f0e65047e29279fcb642ba171d",
       "version_major": 2,
       "version_minor": 0
      },
      "text/plain": [
       "  0%|          | 0/205 [00:00<?, ?it/s]"
      ]
     },
     "metadata": {},
     "output_type": "display_data"
    },
    {
     "name": "stderr",
     "output_type": "stream",
     "text": [
      "COMET INFO: ---------------------------\n",
      "COMET INFO: Comet.ml Experiment Summary\n",
      "COMET INFO: ---------------------------\n",
      "COMET INFO:   Data:\n",
      "COMET INFO:     display_summary_level : 1\n",
      "COMET INFO:     url                   : https://www.comet.com/milosz-l/hugging-face-text-classification/522fdfc251c941bfa99ba16bc49c6473\n",
      "COMET INFO:   Metrics [count] (min, max):\n",
      "COMET INFO:     eval/accuracy           : 0.5942647956070775\n",
      "COMET INFO:     eval/f1                 : 0.5130178366355332\n",
      "COMET INFO:     eval/loss               : 0.8936576247215271\n",
      "COMET INFO:     eval/precision          : 0.5935746880143865\n",
      "COMET INFO:     eval/recall             : 0.5148604075317772\n",
      "COMET INFO:     eval/runtime            : 306.8444\n",
      "COMET INFO:     eval/samples_per_second : 5.341\n",
      "COMET INFO:     eval/steps_per_second   : 0.668\n",
      "COMET INFO:     loss [3]                : (0.5783105492591858, 1.030928611755371)\n",
      "COMET INFO:     train/epoch             : 0.01\n",
      "COMET INFO:   Uploads:\n",
      "COMET INFO:     conda-environment-definition : 1\n",
      "COMET INFO:     conda-info                   : 1\n",
      "COMET INFO:     conda-specification          : 1\n",
      "COMET INFO:     confusion-matrix             : 1\n",
      "COMET INFO:     environment details          : 1\n",
      "COMET INFO:     filename                     : 1\n",
      "COMET INFO:     git metadata                 : 1\n",
      "COMET INFO:     git-patch (uncompressed)     : 1 (5.85 MB)\n",
      "COMET INFO:     installed packages           : 1\n",
      "COMET INFO:     notebook                     : 1\n",
      "COMET INFO:     source_code                  : 1\n",
      "COMET INFO: ---------------------------\n",
      "COMET WARNING: As you are running in a Jupyter environment, you will need to call `experiment.end()` when finished to ensure all metrics and code are logged before exiting.\n",
      "COMET INFO: Experiment is live on comet.com https://www.comet.com/milosz-l/hugging-face-text-classification/39a6c67435154da8aa8cc76a868d7fc6\n",
      "\n",
      "Saving model checkpoint to ./results/checkpoint-50\n",
      "Configuration saved in ./results/checkpoint-50/config.json\n"
     ]
    },
    {
     "name": "stdout",
     "output_type": "stream",
     "text": [
      "{'eval_loss': 1.1084538698196411, 'eval_accuracy': 0.5216595485051861, 'eval_f1': 0.35901620748276236, 'eval_precision': 0.6283891728754287, 'eval_recall': 0.3945123642952704, 'eval_runtime': 318.3114, 'eval_samples_per_second': 5.149, 'eval_steps_per_second': 0.644, 'epoch': 0.03}\n"
     ]
    },
    {
     "name": "stderr",
     "output_type": "stream",
     "text": [
      "Model weights saved in ./results/checkpoint-50/pytorch_model.bin\n",
      "***** Running Evaluation *****\n",
      "  Num examples = 1639\n",
      "  Batch size = 8\n"
     ]
    },
    {
     "data": {
      "application/vnd.jupyter.widget-view+json": {
       "model_id": "23b69a09cc754bddb97127a4421fc602",
       "version_major": 2,
       "version_minor": 0
      },
      "text/plain": [
       "  0%|          | 0/205 [00:00<?, ?it/s]"
      ]
     },
     "metadata": {},
     "output_type": "display_data"
    },
    {
     "name": "stderr",
     "output_type": "stream",
     "text": [
      "COMET INFO: ---------------------------\n",
      "COMET INFO: Comet.ml Experiment Summary\n",
      "COMET INFO: ---------------------------\n",
      "COMET INFO:   Data:\n",
      "COMET INFO:     display_summary_level : 1\n",
      "COMET INFO:     url                   : https://www.comet.com/milosz-l/hugging-face-text-classification/39a6c67435154da8aa8cc76a868d7fc6\n",
      "COMET INFO:   Metrics [count] (min, max):\n",
      "COMET INFO:     eval/accuracy           : 0.5216595485051861\n",
      "COMET INFO:     eval/f1                 : 0.35901620748276236\n",
      "COMET INFO:     eval/loss               : 1.1084538698196411\n",
      "COMET INFO:     eval/precision          : 0.6283891728754287\n",
      "COMET INFO:     eval/recall             : 0.3945123642952704\n",
      "COMET INFO:     eval/runtime            : 318.3114\n",
      "COMET INFO:     eval/samples_per_second : 5.149\n",
      "COMET INFO:     eval/steps_per_second   : 0.644\n",
      "COMET INFO:     loss [2]                : (0.9538020491600037, 1.2648245096206665)\n",
      "COMET INFO:     train/epoch             : 0.03\n",
      "COMET INFO:   Uploads:\n",
      "COMET INFO:     conda-environment-definition : 1\n",
      "COMET INFO:     conda-info                   : 1\n",
      "COMET INFO:     conda-specification          : 1\n",
      "COMET INFO:     confusion-matrix             : 1\n",
      "COMET INFO:     environment details          : 1\n",
      "COMET INFO:     filename                     : 1\n",
      "COMET INFO:     git metadata                 : 1\n",
      "COMET INFO:     git-patch (uncompressed)     : 1 (5.85 MB)\n",
      "COMET INFO:     installed packages           : 1\n",
      "COMET INFO:     notebook                     : 1\n",
      "COMET INFO:     source_code                  : 1\n",
      "COMET INFO: ---------------------------\n",
      "COMET WARNING: As you are running in a Jupyter environment, you will need to call `experiment.end()` when finished to ensure all metrics and code are logged before exiting.\n",
      "COMET INFO: Experiment is live on comet.com https://www.comet.com/milosz-l/hugging-face-text-classification/9f4c2c41414440439bf397b7fde30b87\n",
      "\n",
      "/Users/milosz/opt/miniconda3/envs/pt/lib/python3.9/site-packages/sklearn/metrics/_classification.py:1334: UndefinedMetricWarning: Precision and F-score are ill-defined and being set to 0.0 in labels with no predicted samples. Use `zero_division` parameter to control this behavior.\n",
      "  _warn_prf(average, modifier, msg_start, len(result))\n",
      "Saving model checkpoint to ./results/checkpoint-75\n",
      "Configuration saved in ./results/checkpoint-75/config.json\n"
     ]
    },
    {
     "name": "stdout",
     "output_type": "stream",
     "text": [
      "{'eval_loss': 1.0585604906082153, 'eval_accuracy': 0.5332519829164124, 'eval_f1': 0.34128747846796825, 'eval_precision': 0.3471922977215843, 'eval_recall': 0.35097173569187384, 'eval_runtime': 318.7077, 'eval_samples_per_second': 5.143, 'eval_steps_per_second': 0.643, 'epoch': 0.04}\n"
     ]
    },
    {
     "name": "stderr",
     "output_type": "stream",
     "text": [
      "Model weights saved in ./results/checkpoint-75/pytorch_model.bin\n",
      "***** Running Evaluation *****\n",
      "  Num examples = 1639\n",
      "  Batch size = 8\n"
     ]
    },
    {
     "data": {
      "application/vnd.jupyter.widget-view+json": {
       "model_id": "60b78374569c4edaa820687882b77d0b",
       "version_major": 2,
       "version_minor": 0
      },
      "text/plain": [
       "  0%|          | 0/205 [00:00<?, ?it/s]"
      ]
     },
     "metadata": {},
     "output_type": "display_data"
    },
    {
     "name": "stderr",
     "output_type": "stream",
     "text": [
      "COMET INFO: ---------------------------\n",
      "COMET INFO: Comet.ml Experiment Summary\n",
      "COMET INFO: ---------------------------\n",
      "COMET INFO:   Data:\n",
      "COMET INFO:     display_summary_level : 1\n",
      "COMET INFO:     url                   : https://www.comet.com/milosz-l/hugging-face-text-classification/9f4c2c41414440439bf397b7fde30b87\n",
      "COMET INFO:   Metrics [count] (min, max):\n",
      "COMET INFO:     eval/accuracy           : 0.5332519829164124\n",
      "COMET INFO:     eval/f1                 : 0.34128747846796825\n",
      "COMET INFO:     eval/loss               : 1.0585604906082153\n",
      "COMET INFO:     eval/precision          : 0.3471922977215843\n",
      "COMET INFO:     eval/recall             : 0.35097173569187384\n",
      "COMET INFO:     eval/runtime            : 318.7077\n",
      "COMET INFO:     eval/samples_per_second : 5.143\n",
      "COMET INFO:     eval/steps_per_second   : 0.643\n",
      "COMET INFO:     loss [3]                : (0.7336978912353516, 1.2897533178329468)\n",
      "COMET INFO:     train/epoch             : 0.04\n",
      "COMET INFO:   Uploads:\n",
      "COMET INFO:     conda-environment-definition : 1\n",
      "COMET INFO:     conda-info                   : 1\n",
      "COMET INFO:     conda-specification          : 1\n",
      "COMET INFO:     confusion-matrix             : 1\n",
      "COMET INFO:     environment details          : 1\n",
      "COMET INFO:     filename                     : 1\n",
      "COMET INFO:     git metadata                 : 1\n",
      "COMET INFO:     git-patch (uncompressed)     : 1 (5.85 MB)\n",
      "COMET INFO:     installed packages           : 1\n",
      "COMET INFO:     notebook                     : 1\n",
      "COMET INFO:     source_code                  : 1\n",
      "COMET INFO: ---------------------------\n",
      "COMET WARNING: As you are running in a Jupyter environment, you will need to call `experiment.end()` when finished to ensure all metrics and code are logged before exiting.\n",
      "COMET INFO: Experiment is live on comet.com https://www.comet.com/milosz-l/hugging-face-text-classification/299d9a97ac0947e2a1ac68564b16f53d\n",
      "\n",
      "Saving model checkpoint to ./results/checkpoint-100\n",
      "Configuration saved in ./results/checkpoint-100/config.json\n"
     ]
    },
    {
     "name": "stdout",
     "output_type": "stream",
     "text": [
      "{'eval_loss': 0.995583713054657, 'eval_accuracy': 0.5729103111653447, 'eval_f1': 0.5172011759409434, 'eval_precision': 0.5086742587854418, 'eval_recall': 0.5331546878623998, 'eval_runtime': 320.2151, 'eval_samples_per_second': 5.118, 'eval_steps_per_second': 0.64, 'epoch': 0.05}\n"
     ]
    },
    {
     "name": "stderr",
     "output_type": "stream",
     "text": [
      "Model weights saved in ./results/checkpoint-100/pytorch_model.bin\n",
      "***** Running Evaluation *****\n",
      "  Num examples = 1639\n",
      "  Batch size = 8\n"
     ]
    },
    {
     "data": {
      "application/vnd.jupyter.widget-view+json": {
       "model_id": "3aee0a87043f4d9bb46860adc38d0b36",
       "version_major": 2,
       "version_minor": 0
      },
      "text/plain": [
       "  0%|          | 0/205 [00:00<?, ?it/s]"
      ]
     },
     "metadata": {},
     "output_type": "display_data"
    },
    {
     "name": "stderr",
     "output_type": "stream",
     "text": [
      "COMET INFO: ---------------------------\n",
      "COMET INFO: Comet.ml Experiment Summary\n",
      "COMET INFO: ---------------------------\n",
      "COMET INFO:   Data:\n",
      "COMET INFO:     display_summary_level : 1\n",
      "COMET INFO:     url                   : https://www.comet.com/milosz-l/hugging-face-text-classification/299d9a97ac0947e2a1ac68564b16f53d\n",
      "COMET INFO:   Metrics [count] (min, max):\n",
      "COMET INFO:     eval/accuracy           : 0.5729103111653447\n",
      "COMET INFO:     eval/f1                 : 0.5172011759409434\n",
      "COMET INFO:     eval/loss               : 0.995583713054657\n",
      "COMET INFO:     eval/precision          : 0.5086742587854418\n",
      "COMET INFO:     eval/recall             : 0.5331546878623998\n",
      "COMET INFO:     eval/runtime            : 320.2151\n",
      "COMET INFO:     eval/samples_per_second : 5.118\n",
      "COMET INFO:     eval/steps_per_second   : 0.64\n",
      "COMET INFO:     loss [2]                : (0.9289406538009644, 1.0063583850860596)\n",
      "COMET INFO:     train/epoch             : 0.05\n",
      "COMET INFO:   Uploads:\n",
      "COMET INFO:     conda-environment-definition : 1\n",
      "COMET INFO:     conda-info                   : 1\n",
      "COMET INFO:     conda-specification          : 1\n",
      "COMET INFO:     confusion-matrix             : 1\n",
      "COMET INFO:     environment details          : 1\n",
      "COMET INFO:     filename                     : 1\n",
      "COMET INFO:     git metadata                 : 1\n",
      "COMET INFO:     git-patch (uncompressed)     : 1 (5.85 MB)\n",
      "COMET INFO:     installed packages           : 1\n",
      "COMET INFO:     notebook                     : 1\n",
      "COMET INFO:     source_code                  : 1\n",
      "COMET INFO: ---------------------------\n",
      "COMET WARNING: As you are running in a Jupyter environment, you will need to call `experiment.end()` when finished to ensure all metrics and code are logged before exiting.\n",
      "COMET INFO: Experiment is live on comet.com https://www.comet.com/milosz-l/hugging-face-text-classification/96ace60fabc24af9ac46d1379dcdaa3f\n",
      "\n",
      "Saving model checkpoint to ./results/checkpoint-125\n",
      "Configuration saved in ./results/checkpoint-125/config.json\n"
     ]
    },
    {
     "name": "stdout",
     "output_type": "stream",
     "text": [
      "{'eval_loss': 0.9079111814498901, 'eval_accuracy': 0.5979255643685174, 'eval_f1': 0.5287702898890336, 'eval_precision': 0.5852276701957331, 'eval_recall': 0.5083249997373838, 'eval_runtime': 318.8849, 'eval_samples_per_second': 5.14, 'eval_steps_per_second': 0.643, 'epoch': 0.07}\n"
     ]
    },
    {
     "name": "stderr",
     "output_type": "stream",
     "text": [
      "Model weights saved in ./results/checkpoint-125/pytorch_model.bin\n",
      "***** Running Evaluation *****\n",
      "  Num examples = 1639\n",
      "  Batch size = 8\n"
     ]
    },
    {
     "data": {
      "application/vnd.jupyter.widget-view+json": {
       "model_id": "abe8fb26223a44f1969967630f3bc03c",
       "version_major": 2,
       "version_minor": 0
      },
      "text/plain": [
       "  0%|          | 0/205 [00:00<?, ?it/s]"
      ]
     },
     "metadata": {},
     "output_type": "display_data"
    },
    {
     "name": "stderr",
     "output_type": "stream",
     "text": [
      "COMET INFO: ---------------------------\n",
      "COMET INFO: Comet.ml Experiment Summary\n",
      "COMET INFO: ---------------------------\n",
      "COMET INFO:   Data:\n",
      "COMET INFO:     display_summary_level : 1\n",
      "COMET INFO:     url                   : https://www.comet.com/milosz-l/hugging-face-text-classification/96ace60fabc24af9ac46d1379dcdaa3f\n",
      "COMET INFO:   Metrics [count] (min, max):\n",
      "COMET INFO:     eval/accuracy           : 0.5979255643685174\n",
      "COMET INFO:     eval/f1                 : 0.5287702898890336\n",
      "COMET INFO:     eval/loss               : 0.9079111814498901\n",
      "COMET INFO:     eval/precision          : 0.5852276701957331\n",
      "COMET INFO:     eval/recall             : 0.5083249997373838\n",
      "COMET INFO:     eval/runtime            : 318.8849\n",
      "COMET INFO:     eval/samples_per_second : 5.14\n",
      "COMET INFO:     eval/steps_per_second   : 0.643\n",
      "COMET INFO:     loss [3]                : (0.3716593384742737, 1.292074203491211)\n",
      "COMET INFO:     train/epoch             : 0.07\n",
      "COMET INFO:   Uploads:\n",
      "COMET INFO:     conda-environment-definition : 1\n",
      "COMET INFO:     conda-info                   : 1\n",
      "COMET INFO:     conda-specification          : 1\n",
      "COMET INFO:     confusion-matrix             : 1\n",
      "COMET INFO:     environment details          : 1\n",
      "COMET INFO:     filename                     : 1\n",
      "COMET INFO:     git metadata                 : 1\n",
      "COMET INFO:     git-patch (uncompressed)     : 1 (5.85 MB)\n",
      "COMET INFO:     installed packages           : 1\n",
      "COMET INFO:     notebook                     : 1\n",
      "COMET INFO:     source_code                  : 1\n",
      "COMET INFO: ---------------------------\n",
      "COMET WARNING: As you are running in a Jupyter environment, you will need to call `experiment.end()` when finished to ensure all metrics and code are logged before exiting.\n",
      "COMET INFO: Experiment is live on comet.com https://www.comet.com/milosz-l/hugging-face-text-classification/53576b4c889848cf8062ba2ed354943c\n",
      "\n",
      "Saving model checkpoint to ./results/checkpoint-150\n",
      "Configuration saved in ./results/checkpoint-150/config.json\n"
     ]
    },
    {
     "name": "stdout",
     "output_type": "stream",
     "text": [
      "{'eval_loss': 1.045609474182129, 'eval_accuracy': 0.5637583892617449, 'eval_f1': 0.4439236605922973, 'eval_precision': 0.5844900153483347, 'eval_recall': 0.4141173959719082, 'eval_runtime': 319.2723, 'eval_samples_per_second': 5.134, 'eval_steps_per_second': 0.642, 'epoch': 0.08}\n"
     ]
    },
    {
     "name": "stderr",
     "output_type": "stream",
     "text": [
      "Model weights saved in ./results/checkpoint-150/pytorch_model.bin\n",
      "***** Running Evaluation *****\n",
      "  Num examples = 1639\n",
      "  Batch size = 8\n"
     ]
    },
    {
     "data": {
      "application/vnd.jupyter.widget-view+json": {
       "model_id": "170cfd8b765b47e0b9e5521b9458eb18",
       "version_major": 2,
       "version_minor": 0
      },
      "text/plain": [
       "  0%|          | 0/205 [00:00<?, ?it/s]"
      ]
     },
     "metadata": {},
     "output_type": "display_data"
    },
    {
     "name": "stderr",
     "output_type": "stream",
     "text": [
      "COMET INFO: ---------------------------\n",
      "COMET INFO: Comet.ml Experiment Summary\n",
      "COMET INFO: ---------------------------\n",
      "COMET INFO:   Data:\n",
      "COMET INFO:     display_summary_level : 1\n",
      "COMET INFO:     url                   : https://www.comet.com/milosz-l/hugging-face-text-classification/53576b4c889848cf8062ba2ed354943c\n",
      "COMET INFO:   Metrics [count] (min, max):\n",
      "COMET INFO:     eval/accuracy           : 0.5637583892617449\n",
      "COMET INFO:     eval/f1                 : 0.4439236605922973\n",
      "COMET INFO:     eval/loss               : 1.045609474182129\n",
      "COMET INFO:     eval/precision          : 0.5844900153483347\n",
      "COMET INFO:     eval/recall             : 0.4141173959719082\n",
      "COMET INFO:     eval/runtime            : 319.2723\n",
      "COMET INFO:     eval/samples_per_second : 5.134\n",
      "COMET INFO:     eval/steps_per_second   : 0.642\n",
      "COMET INFO:     loss [2]                : (0.773187518119812, 0.9377943277359009)\n",
      "COMET INFO:     train/epoch             : 0.08\n",
      "COMET INFO:   Uploads:\n",
      "COMET INFO:     conda-environment-definition : 1\n",
      "COMET INFO:     conda-info                   : 1\n",
      "COMET INFO:     conda-specification          : 1\n",
      "COMET INFO:     confusion-matrix             : 1\n",
      "COMET INFO:     environment details          : 1\n",
      "COMET INFO:     filename                     : 1\n",
      "COMET INFO:     git metadata                 : 1\n",
      "COMET INFO:     git-patch (uncompressed)     : 1 (5.85 MB)\n",
      "COMET INFO:     installed packages           : 1\n",
      "COMET INFO:     notebook                     : 1\n",
      "COMET INFO:     source_code                  : 1\n",
      "COMET INFO: ---------------------------\n",
      "COMET WARNING: As you are running in a Jupyter environment, you will need to call `experiment.end()` when finished to ensure all metrics and code are logged before exiting.\n",
      "COMET INFO: Experiment is live on comet.com https://www.comet.com/milosz-l/hugging-face-text-classification/18417ae1cbcf411293dd37cff538005c\n",
      "\n",
      "Saving model checkpoint to ./results/checkpoint-175\n",
      "Configuration saved in ./results/checkpoint-175/config.json\n"
     ]
    },
    {
     "name": "stdout",
     "output_type": "stream",
     "text": [
      "{'eval_loss': 1.0390082597732544, 'eval_accuracy': 0.5485051860890787, 'eval_f1': 0.5132478796121801, 'eval_precision': 0.5193091254714821, 'eval_recall': 0.5475936867360427, 'eval_runtime': 319.3158, 'eval_samples_per_second': 5.133, 'eval_steps_per_second': 0.642, 'epoch': 0.09}\n"
     ]
    },
    {
     "name": "stderr",
     "output_type": "stream",
     "text": [
      "Model weights saved in ./results/checkpoint-175/pytorch_model.bin\n",
      "***** Running Evaluation *****\n",
      "  Num examples = 1639\n",
      "  Batch size = 8\n"
     ]
    },
    {
     "data": {
      "application/vnd.jupyter.widget-view+json": {
       "model_id": "6b652128969246c686147c6646f253fb",
       "version_major": 2,
       "version_minor": 0
      },
      "text/plain": [
       "  0%|          | 0/205 [00:00<?, ?it/s]"
      ]
     },
     "metadata": {},
     "output_type": "display_data"
    },
    {
     "name": "stderr",
     "output_type": "stream",
     "text": [
      "COMET INFO: ---------------------------\n",
      "COMET INFO: Comet.ml Experiment Summary\n",
      "COMET INFO: ---------------------------\n",
      "COMET INFO:   Data:\n",
      "COMET INFO:     display_summary_level : 1\n",
      "COMET INFO:     url                   : https://www.comet.com/milosz-l/hugging-face-text-classification/18417ae1cbcf411293dd37cff538005c\n",
      "COMET INFO:   Metrics [count] (min, max):\n",
      "COMET INFO:     eval/accuracy           : 0.5485051860890787\n",
      "COMET INFO:     eval/f1                 : 0.5132478796121801\n",
      "COMET INFO:     eval/loss               : 1.0390082597732544\n",
      "COMET INFO:     eval/precision          : 0.5193091254714821\n",
      "COMET INFO:     eval/recall             : 0.5475936867360427\n",
      "COMET INFO:     eval/runtime            : 319.3158\n",
      "COMET INFO:     eval/samples_per_second : 5.133\n",
      "COMET INFO:     eval/steps_per_second   : 0.642\n",
      "COMET INFO:     loss [3]                : (0.6206681132316589, 1.0051685571670532)\n",
      "COMET INFO:     train/epoch             : 0.09\n",
      "COMET INFO:   Uploads:\n",
      "COMET INFO:     conda-environment-definition : 1\n",
      "COMET INFO:     conda-info                   : 1\n",
      "COMET INFO:     conda-specification          : 1\n",
      "COMET INFO:     confusion-matrix             : 1\n",
      "COMET INFO:     environment details          : 1\n",
      "COMET INFO:     filename                     : 1\n",
      "COMET INFO:     git metadata                 : 1\n",
      "COMET INFO:     git-patch (uncompressed)     : 1 (5.85 MB)\n",
      "COMET INFO:     installed packages           : 1\n",
      "COMET INFO:     notebook                     : 1\n",
      "COMET INFO:     source_code                  : 1\n",
      "COMET INFO: ---------------------------\n",
      "COMET WARNING: As you are running in a Jupyter environment, you will need to call `experiment.end()` when finished to ensure all metrics and code are logged before exiting.\n",
      "COMET INFO: Experiment is live on comet.com https://www.comet.com/milosz-l/hugging-face-text-classification/2866f767d3de48f5a5d344b07a072a06\n",
      "\n",
      "Saving model checkpoint to ./results/checkpoint-200\n",
      "Configuration saved in ./results/checkpoint-200/config.json\n"
     ]
    },
    {
     "name": "stdout",
     "output_type": "stream",
     "text": [
      "{'eval_loss': 0.9894779920578003, 'eval_accuracy': 0.5930445393532642, 'eval_f1': 0.48669240917528517, 'eval_precision': 0.573853321353371, 'eval_recall': 0.45505309849665176, 'eval_runtime': 317.7177, 'eval_samples_per_second': 5.159, 'eval_steps_per_second': 0.645, 'epoch': 0.11}\n"
     ]
    },
    {
     "name": "stderr",
     "output_type": "stream",
     "text": [
      "Model weights saved in ./results/checkpoint-200/pytorch_model.bin\n",
      "***** Running Evaluation *****\n",
      "  Num examples = 1639\n",
      "  Batch size = 8\n"
     ]
    },
    {
     "data": {
      "application/vnd.jupyter.widget-view+json": {
       "model_id": "4c26ea9f6f36461990cec04c696bd217",
       "version_major": 2,
       "version_minor": 0
      },
      "text/plain": [
       "  0%|          | 0/205 [00:00<?, ?it/s]"
      ]
     },
     "metadata": {},
     "output_type": "display_data"
    },
    {
     "name": "stderr",
     "output_type": "stream",
     "text": [
      "COMET INFO: ---------------------------\n",
      "COMET INFO: Comet.ml Experiment Summary\n",
      "COMET INFO: ---------------------------\n",
      "COMET INFO:   Data:\n",
      "COMET INFO:     display_summary_level : 1\n",
      "COMET INFO:     url                   : https://www.comet.com/milosz-l/hugging-face-text-classification/2866f767d3de48f5a5d344b07a072a06\n",
      "COMET INFO:   Metrics [count] (min, max):\n",
      "COMET INFO:     eval/accuracy           : 0.5930445393532642\n",
      "COMET INFO:     eval/f1                 : 0.48669240917528517\n",
      "COMET INFO:     eval/loss               : 0.9894779920578003\n",
      "COMET INFO:     eval/precision          : 0.573853321353371\n",
      "COMET INFO:     eval/recall             : 0.45505309849665176\n",
      "COMET INFO:     eval/runtime            : 317.7177\n",
      "COMET INFO:     eval/samples_per_second : 5.159\n",
      "COMET INFO:     eval/steps_per_second   : 0.645\n",
      "COMET INFO:     loss [2]                : (0.8741886615753174, 1.0503830909729004)\n",
      "COMET INFO:     train/epoch             : 0.11\n",
      "COMET INFO:   Uploads:\n",
      "COMET INFO:     conda-environment-definition : 1\n",
      "COMET INFO:     conda-info                   : 1\n",
      "COMET INFO:     conda-specification          : 1\n",
      "COMET INFO:     confusion-matrix             : 1\n",
      "COMET INFO:     environment details          : 1\n",
      "COMET INFO:     filename                     : 1\n",
      "COMET INFO:     git metadata                 : 1\n",
      "COMET INFO:     git-patch (uncompressed)     : 1 (5.85 MB)\n",
      "COMET INFO:     installed packages           : 1\n",
      "COMET INFO:     notebook                     : 1\n",
      "COMET INFO:     source_code                  : 1\n",
      "COMET INFO: ---------------------------\n",
      "COMET WARNING: As you are running in a Jupyter environment, you will need to call `experiment.end()` when finished to ensure all metrics and code are logged before exiting.\n",
      "COMET INFO: Experiment is live on comet.com https://www.comet.com/milosz-l/hugging-face-text-classification/ba03fe13f207410c9448534b0d4eda63\n",
      "\n",
      "Saving model checkpoint to ./results/checkpoint-225\n",
      "Configuration saved in ./results/checkpoint-225/config.json\n"
     ]
    },
    {
     "name": "stdout",
     "output_type": "stream",
     "text": [
      "{'eval_loss': 0.9544939994812012, 'eval_accuracy': 0.5674191580231849, 'eval_f1': 0.4764978908179366, 'eval_precision': 0.5435479310680538, 'eval_recall': 0.46933307165349786, 'eval_runtime': 316.8999, 'eval_samples_per_second': 5.172, 'eval_steps_per_second': 0.647, 'epoch': 0.12}\n"
     ]
    },
    {
     "name": "stderr",
     "output_type": "stream",
     "text": [
      "Model weights saved in ./results/checkpoint-225/pytorch_model.bin\n",
      "***** Running Evaluation *****\n",
      "  Num examples = 1639\n",
      "  Batch size = 8\n"
     ]
    },
    {
     "data": {
      "application/vnd.jupyter.widget-view+json": {
       "model_id": "4ad628494bd94ed88677631d037f30f3",
       "version_major": 2,
       "version_minor": 0
      },
      "text/plain": [
       "  0%|          | 0/205 [00:00<?, ?it/s]"
      ]
     },
     "metadata": {},
     "output_type": "display_data"
    },
    {
     "name": "stderr",
     "output_type": "stream",
     "text": [
      "COMET INFO: ---------------------------\n",
      "COMET INFO: Comet.ml Experiment Summary\n",
      "COMET INFO: ---------------------------\n",
      "COMET INFO:   Data:\n",
      "COMET INFO:     display_summary_level : 1\n",
      "COMET INFO:     url                   : https://www.comet.com/milosz-l/hugging-face-text-classification/ba03fe13f207410c9448534b0d4eda63\n",
      "COMET INFO:   Metrics [count] (min, max):\n",
      "COMET INFO:     eval/accuracy           : 0.5674191580231849\n",
      "COMET INFO:     eval/f1                 : 0.4764978908179366\n",
      "COMET INFO:     eval/loss               : 0.9544939994812012\n",
      "COMET INFO:     eval/precision          : 0.5435479310680538\n",
      "COMET INFO:     eval/recall             : 0.46933307165349786\n",
      "COMET INFO:     eval/runtime            : 316.8999\n",
      "COMET INFO:     eval/samples_per_second : 5.172\n",
      "COMET INFO:     eval/steps_per_second   : 0.647\n",
      "COMET INFO:     loss [3]                : (0.9341206550598145, 1.209243655204773)\n",
      "COMET INFO:     train/epoch             : 0.12\n",
      "COMET INFO:   Uploads:\n",
      "COMET INFO:     conda-environment-definition : 1\n",
      "COMET INFO:     conda-info                   : 1\n",
      "COMET INFO:     conda-specification          : 1\n",
      "COMET INFO:     confusion-matrix             : 1\n",
      "COMET INFO:     environment details          : 1\n",
      "COMET INFO:     filename                     : 1\n",
      "COMET INFO:     git metadata                 : 1\n",
      "COMET INFO:     git-patch (uncompressed)     : 1 (5.85 MB)\n",
      "COMET INFO:     installed packages           : 1\n",
      "COMET INFO:     notebook                     : 1\n",
      "COMET INFO:     source_code                  : 1\n",
      "COMET INFO: ---------------------------\n",
      "COMET WARNING: As you are running in a Jupyter environment, you will need to call `experiment.end()` when finished to ensure all metrics and code are logged before exiting.\n",
      "COMET INFO: Experiment is live on comet.com https://www.comet.com/milosz-l/hugging-face-text-classification/f82c6b4150b343dcbf2ba641f2b73338\n",
      "\n",
      "Saving model checkpoint to ./results/checkpoint-250\n",
      "Configuration saved in ./results/checkpoint-250/config.json\n"
     ]
    },
    {
     "name": "stdout",
     "output_type": "stream",
     "text": [
      "{'eval_loss': 0.8777338266372681, 'eval_accuracy': 0.6046369737644905, 'eval_f1': 0.5152576733085568, 'eval_precision': 0.5545975508460541, 'eval_recall': 0.5169696967131733, 'eval_runtime': 317.0496, 'eval_samples_per_second': 5.17, 'eval_steps_per_second': 0.647, 'epoch': 0.14}\n"
     ]
    },
    {
     "name": "stderr",
     "output_type": "stream",
     "text": [
      "Model weights saved in ./results/checkpoint-250/pytorch_model.bin\n",
      "***** Running Evaluation *****\n",
      "  Num examples = 1639\n",
      "  Batch size = 8\n"
     ]
    },
    {
     "data": {
      "application/vnd.jupyter.widget-view+json": {
       "model_id": "86e9c67b18f744b29b1123a64ab4f8ec",
       "version_major": 2,
       "version_minor": 0
      },
      "text/plain": [
       "  0%|          | 0/205 [00:00<?, ?it/s]"
      ]
     },
     "metadata": {},
     "output_type": "display_data"
    },
    {
     "name": "stderr",
     "output_type": "stream",
     "text": [
      "COMET INFO: ---------------------------\n",
      "COMET INFO: Comet.ml Experiment Summary\n",
      "COMET INFO: ---------------------------\n",
      "COMET INFO:   Data:\n",
      "COMET INFO:     display_summary_level : 1\n",
      "COMET INFO:     url                   : https://www.comet.com/milosz-l/hugging-face-text-classification/f82c6b4150b343dcbf2ba641f2b73338\n",
      "COMET INFO:   Metrics [count] (min, max):\n",
      "COMET INFO:     eval/accuracy           : 0.6046369737644905\n",
      "COMET INFO:     eval/f1                 : 0.5152576733085568\n",
      "COMET INFO:     eval/loss               : 0.8777338266372681\n",
      "COMET INFO:     eval/precision          : 0.5545975508460541\n",
      "COMET INFO:     eval/recall             : 0.5169696967131733\n",
      "COMET INFO:     eval/runtime            : 317.0496\n",
      "COMET INFO:     eval/samples_per_second : 5.17\n",
      "COMET INFO:     eval/steps_per_second   : 0.647\n",
      "COMET INFO:     loss [2]                : (0.8669122457504272, 1.4596941471099854)\n",
      "COMET INFO:     train/epoch             : 0.14\n",
      "COMET INFO:   Uploads:\n",
      "COMET INFO:     conda-environment-definition : 1\n",
      "COMET INFO:     conda-info                   : 1\n",
      "COMET INFO:     conda-specification          : 1\n",
      "COMET INFO:     confusion-matrix             : 1\n",
      "COMET INFO:     environment details          : 1\n",
      "COMET INFO:     filename                     : 1\n",
      "COMET INFO:     git metadata                 : 1\n",
      "COMET INFO:     git-patch (uncompressed)     : 1 (5.85 MB)\n",
      "COMET INFO:     installed packages           : 1\n",
      "COMET INFO:     notebook                     : 1\n",
      "COMET INFO:     source_code                  : 1\n",
      "COMET INFO: ---------------------------\n",
      "COMET WARNING: As you are running in a Jupyter environment, you will need to call `experiment.end()` when finished to ensure all metrics and code are logged before exiting.\n",
      "COMET INFO: Experiment is live on comet.com https://www.comet.com/milosz-l/hugging-face-text-classification/62cd0927c7e145629e298eedb06d542c\n",
      "\n",
      "Saving model checkpoint to ./results/checkpoint-275\n",
      "Configuration saved in ./results/checkpoint-275/config.json\n"
     ]
    },
    {
     "name": "stdout",
     "output_type": "stream",
     "text": [
      "{'eval_loss': 1.0233955383300781, 'eval_accuracy': 0.5588773642464918, 'eval_f1': 0.3617282909006735, 'eval_precision': 0.525287171245821, 'eval_recall': 0.36912864662721406, 'eval_runtime': 316.9784, 'eval_samples_per_second': 5.171, 'eval_steps_per_second': 0.647, 'epoch': 0.15}\n"
     ]
    },
    {
     "name": "stderr",
     "output_type": "stream",
     "text": [
      "Model weights saved in ./results/checkpoint-275/pytorch_model.bin\n",
      "Deleting older checkpoint [results/checkpoint-25] due to args.save_total_limit\n",
      "***** Running Evaluation *****\n",
      "  Num examples = 1639\n",
      "  Batch size = 8\n"
     ]
    },
    {
     "data": {
      "application/vnd.jupyter.widget-view+json": {
       "model_id": "df28dc606d4d4b9186a09e37b018f240",
       "version_major": 2,
       "version_minor": 0
      },
      "text/plain": [
       "  0%|          | 0/205 [00:00<?, ?it/s]"
      ]
     },
     "metadata": {},
     "output_type": "display_data"
    },
    {
     "name": "stderr",
     "output_type": "stream",
     "text": [
      "COMET INFO: ---------------------------\n",
      "COMET INFO: Comet.ml Experiment Summary\n",
      "COMET INFO: ---------------------------\n",
      "COMET INFO:   Data:\n",
      "COMET INFO:     display_summary_level : 1\n",
      "COMET INFO:     url                   : https://www.comet.com/milosz-l/hugging-face-text-classification/62cd0927c7e145629e298eedb06d542c\n",
      "COMET INFO:   Metrics [count] (min, max):\n",
      "COMET INFO:     eval/accuracy           : 0.5588773642464918\n",
      "COMET INFO:     eval/f1                 : 0.3617282909006735\n",
      "COMET INFO:     eval/loss               : 1.0233955383300781\n",
      "COMET INFO:     eval/precision          : 0.525287171245821\n",
      "COMET INFO:     eval/recall             : 0.36912864662721406\n",
      "COMET INFO:     eval/runtime            : 316.9784\n",
      "COMET INFO:     eval/samples_per_second : 5.171\n",
      "COMET INFO:     eval/steps_per_second   : 0.647\n",
      "COMET INFO:     loss [3]                : (0.9847734570503235, 1.064210057258606)\n",
      "COMET INFO:     train/epoch             : 0.15\n",
      "COMET INFO:   Uploads:\n",
      "COMET INFO:     conda-environment-definition : 1\n",
      "COMET INFO:     conda-info                   : 1\n",
      "COMET INFO:     conda-specification          : 1\n",
      "COMET INFO:     confusion-matrix             : 1\n",
      "COMET INFO:     environment details          : 1\n",
      "COMET INFO:     filename                     : 1\n",
      "COMET INFO:     git metadata                 : 1\n",
      "COMET INFO:     git-patch (uncompressed)     : 1 (5.85 MB)\n",
      "COMET INFO:     installed packages           : 1\n",
      "COMET INFO:     notebook                     : 1\n",
      "COMET INFO:     source_code                  : 1\n",
      "COMET INFO: ---------------------------\n",
      "COMET WARNING: As you are running in a Jupyter environment, you will need to call `experiment.end()` when finished to ensure all metrics and code are logged before exiting.\n",
      "COMET INFO: Experiment is live on comet.com https://www.comet.com/milosz-l/hugging-face-text-classification/1d18dd3930d54d29b8ea59a9e1ccbfcc\n",
      "\n",
      "Saving model checkpoint to ./results/checkpoint-300\n",
      "Configuration saved in ./results/checkpoint-300/config.json\n"
     ]
    },
    {
     "name": "stdout",
     "output_type": "stream",
     "text": [
      "{'eval_loss': 1.0232934951782227, 'eval_accuracy': 0.5924344112263575, 'eval_f1': 0.4946655349457719, 'eval_precision': 0.6130508631578065, 'eval_recall': 0.501840756956317, 'eval_runtime': 317.7548, 'eval_samples_per_second': 5.158, 'eval_steps_per_second': 0.645, 'epoch': 0.16}\n"
     ]
    },
    {
     "name": "stderr",
     "output_type": "stream",
     "text": [
      "Model weights saved in ./results/checkpoint-300/pytorch_model.bin\n",
      "Deleting older checkpoint [results/checkpoint-50] due to args.save_total_limit\n",
      "***** Running Evaluation *****\n",
      "  Num examples = 1639\n",
      "  Batch size = 8\n"
     ]
    },
    {
     "data": {
      "application/vnd.jupyter.widget-view+json": {
       "model_id": "0bf4b38cd99c4e4692ad58a2bef1aa9a",
       "version_major": 2,
       "version_minor": 0
      },
      "text/plain": [
       "  0%|          | 0/205 [00:00<?, ?it/s]"
      ]
     },
     "metadata": {},
     "output_type": "display_data"
    },
    {
     "name": "stderr",
     "output_type": "stream",
     "text": [
      "COMET INFO: ---------------------------\n",
      "COMET INFO: Comet.ml Experiment Summary\n",
      "COMET INFO: ---------------------------\n",
      "COMET INFO:   Data:\n",
      "COMET INFO:     display_summary_level : 1\n",
      "COMET INFO:     url                   : https://www.comet.com/milosz-l/hugging-face-text-classification/1d18dd3930d54d29b8ea59a9e1ccbfcc\n",
      "COMET INFO:   Metrics [count] (min, max):\n",
      "COMET INFO:     eval/accuracy           : 0.5924344112263575\n",
      "COMET INFO:     eval/f1                 : 0.4946655349457719\n",
      "COMET INFO:     eval/loss               : 1.0232934951782227\n",
      "COMET INFO:     eval/precision          : 0.6130508631578065\n",
      "COMET INFO:     eval/recall             : 0.501840756956317\n",
      "COMET INFO:     eval/runtime            : 317.7548\n",
      "COMET INFO:     eval/samples_per_second : 5.158\n",
      "COMET INFO:     eval/steps_per_second   : 0.645\n",
      "COMET INFO:     loss [2]                : (0.9300379753112793, 1.6773593425750732)\n",
      "COMET INFO:     train/epoch             : 0.16\n",
      "COMET INFO:   Uploads:\n",
      "COMET INFO:     conda-environment-definition : 1\n",
      "COMET INFO:     conda-info                   : 1\n",
      "COMET INFO:     conda-specification          : 1\n",
      "COMET INFO:     confusion-matrix             : 1\n",
      "COMET INFO:     environment details          : 1\n",
      "COMET INFO:     filename                     : 1\n",
      "COMET INFO:     git metadata                 : 1\n",
      "COMET INFO:     git-patch (uncompressed)     : 1 (5.85 MB)\n",
      "COMET INFO:     installed packages           : 1\n",
      "COMET INFO:     notebook                     : 1\n",
      "COMET INFO:     source_code                  : 1\n",
      "COMET INFO: ---------------------------\n",
      "COMET WARNING: As you are running in a Jupyter environment, you will need to call `experiment.end()` when finished to ensure all metrics and code are logged before exiting.\n",
      "COMET INFO: Experiment is live on comet.com https://www.comet.com/milosz-l/hugging-face-text-classification/7b68e12f16b0459eb61792a8a1b167e3\n",
      "\n",
      "Saving model checkpoint to ./results/checkpoint-325\n",
      "Configuration saved in ./results/checkpoint-325/config.json\n"
     ]
    },
    {
     "name": "stdout",
     "output_type": "stream",
     "text": [
      "{'eval_loss': 0.9048318266868591, 'eval_accuracy': 0.5918242830994509, 'eval_f1': 0.5044125534812806, 'eval_precision': 0.5760792517584971, 'eval_recall': 0.4953783535520831, 'eval_runtime': 316.5247, 'eval_samples_per_second': 5.178, 'eval_steps_per_second': 0.648, 'epoch': 0.18}\n"
     ]
    },
    {
     "name": "stderr",
     "output_type": "stream",
     "text": [
      "Model weights saved in ./results/checkpoint-325/pytorch_model.bin\n",
      "Deleting older checkpoint [results/checkpoint-75] due to args.save_total_limit\n",
      "***** Running Evaluation *****\n",
      "  Num examples = 1639\n",
      "  Batch size = 8\n"
     ]
    },
    {
     "data": {
      "application/vnd.jupyter.widget-view+json": {
       "model_id": "6066e6f50df04b6b957baf65ed540823",
       "version_major": 2,
       "version_minor": 0
      },
      "text/plain": [
       "  0%|          | 0/205 [00:00<?, ?it/s]"
      ]
     },
     "metadata": {},
     "output_type": "display_data"
    },
    {
     "name": "stderr",
     "output_type": "stream",
     "text": [
      "COMET INFO: ---------------------------\n",
      "COMET INFO: Comet.ml Experiment Summary\n",
      "COMET INFO: ---------------------------\n",
      "COMET INFO:   Data:\n",
      "COMET INFO:     display_summary_level : 1\n",
      "COMET INFO:     url                   : https://www.comet.com/milosz-l/hugging-face-text-classification/7b68e12f16b0459eb61792a8a1b167e3\n",
      "COMET INFO:   Metrics [count] (min, max):\n",
      "COMET INFO:     eval/accuracy           : 0.5918242830994509\n",
      "COMET INFO:     eval/f1                 : 0.5044125534812806\n",
      "COMET INFO:     eval/loss               : 0.9048318266868591\n",
      "COMET INFO:     eval/precision          : 0.5760792517584971\n",
      "COMET INFO:     eval/recall             : 0.4953783535520831\n",
      "COMET INFO:     eval/runtime            : 316.5247\n",
      "COMET INFO:     eval/samples_per_second : 5.178\n",
      "COMET INFO:     eval/steps_per_second   : 0.648\n",
      "COMET INFO:     loss [3]                : (0.307345986366272, 0.9064856767654419)\n",
      "COMET INFO:     train/epoch             : 0.18\n",
      "COMET INFO:   Uploads:\n",
      "COMET INFO:     conda-environment-definition : 1\n",
      "COMET INFO:     conda-info                   : 1\n",
      "COMET INFO:     conda-specification          : 1\n",
      "COMET INFO:     confusion-matrix             : 1\n",
      "COMET INFO:     environment details          : 1\n",
      "COMET INFO:     filename                     : 1\n",
      "COMET INFO:     git metadata                 : 1\n",
      "COMET INFO:     git-patch (uncompressed)     : 1 (5.85 MB)\n",
      "COMET INFO:     installed packages           : 1\n",
      "COMET INFO:     notebook                     : 1\n",
      "COMET INFO:     source_code                  : 1\n",
      "COMET INFO: ---------------------------\n",
      "COMET WARNING: As you are running in a Jupyter environment, you will need to call `experiment.end()` when finished to ensure all metrics and code are logged before exiting.\n",
      "COMET INFO: Experiment is live on comet.com https://www.comet.com/milosz-l/hugging-face-text-classification/ddec6071195a40e591a9c40827dc2cbf\n",
      "\n",
      "Saving model checkpoint to ./results/checkpoint-350\n",
      "Configuration saved in ./results/checkpoint-350/config.json\n"
     ]
    },
    {
     "name": "stdout",
     "output_type": "stream",
     "text": [
      "{'eval_loss': 0.9329391121864319, 'eval_accuracy': 0.6009762050030506, 'eval_f1': 0.5443138037491543, 'eval_precision': 0.543581847423335, 'eval_recall': 0.569031428938514, 'eval_runtime': 317.7589, 'eval_samples_per_second': 5.158, 'eval_steps_per_second': 0.645, 'epoch': 0.19}\n"
     ]
    },
    {
     "name": "stderr",
     "output_type": "stream",
     "text": [
      "Model weights saved in ./results/checkpoint-350/pytorch_model.bin\n",
      "Deleting older checkpoint [results/checkpoint-100] due to args.save_total_limit\n",
      "***** Running Evaluation *****\n",
      "  Num examples = 1639\n",
      "  Batch size = 8\n"
     ]
    },
    {
     "data": {
      "application/vnd.jupyter.widget-view+json": {
       "model_id": "9d25977e326d45fb83c34793fed5e2cd",
       "version_major": 2,
       "version_minor": 0
      },
      "text/plain": [
       "  0%|          | 0/205 [00:00<?, ?it/s]"
      ]
     },
     "metadata": {},
     "output_type": "display_data"
    },
    {
     "name": "stderr",
     "output_type": "stream",
     "text": [
      "COMET INFO: ---------------------------\n",
      "COMET INFO: Comet.ml Experiment Summary\n",
      "COMET INFO: ---------------------------\n",
      "COMET INFO:   Data:\n",
      "COMET INFO:     display_summary_level : 1\n",
      "COMET INFO:     url                   : https://www.comet.com/milosz-l/hugging-face-text-classification/ddec6071195a40e591a9c40827dc2cbf\n",
      "COMET INFO:   Metrics [count] (min, max):\n",
      "COMET INFO:     eval/accuracy           : 0.6009762050030506\n",
      "COMET INFO:     eval/f1                 : 0.5443138037491543\n",
      "COMET INFO:     eval/loss               : 0.9329391121864319\n",
      "COMET INFO:     eval/precision          : 0.543581847423335\n",
      "COMET INFO:     eval/recall             : 0.569031428938514\n",
      "COMET INFO:     eval/runtime            : 317.7589\n",
      "COMET INFO:     eval/samples_per_second : 5.158\n",
      "COMET INFO:     eval/steps_per_second   : 0.645\n",
      "COMET INFO:     loss [2]                : (0.561652660369873, 0.6541264653205872)\n",
      "COMET INFO:     train/epoch             : 0.19\n",
      "COMET INFO:   Uploads:\n",
      "COMET INFO:     conda-environment-definition : 1\n",
      "COMET INFO:     conda-info                   : 1\n",
      "COMET INFO:     conda-specification          : 1\n",
      "COMET INFO:     confusion-matrix             : 1\n",
      "COMET INFO:     environment details          : 1\n",
      "COMET INFO:     filename                     : 1\n",
      "COMET INFO:     git metadata                 : 1\n",
      "COMET INFO:     git-patch (uncompressed)     : 1 (5.85 MB)\n",
      "COMET INFO:     installed packages           : 1\n",
      "COMET INFO:     notebook                     : 1\n",
      "COMET INFO:     source_code                  : 1\n",
      "COMET INFO: ---------------------------\n",
      "COMET WARNING: As you are running in a Jupyter environment, you will need to call `experiment.end()` when finished to ensure all metrics and code are logged before exiting.\n",
      "COMET INFO: Experiment is live on comet.com https://www.comet.com/milosz-l/hugging-face-text-classification/362cb44cec2243b2af0a0c08008d44ae\n",
      "\n",
      "Saving model checkpoint to ./results/checkpoint-375\n",
      "Configuration saved in ./results/checkpoint-375/config.json\n"
     ]
    },
    {
     "name": "stdout",
     "output_type": "stream",
     "text": [
      "{'eval_loss': 0.8766151666641235, 'eval_accuracy': 0.6150091519219036, 'eval_f1': 0.552250703744398, 'eval_precision': 0.5739156911462305, 'eval_recall': 0.5511695435095185, 'eval_runtime': 317.0254, 'eval_samples_per_second': 5.17, 'eval_steps_per_second': 0.647, 'epoch': 0.2}\n"
     ]
    },
    {
     "name": "stderr",
     "output_type": "stream",
     "text": [
      "Model weights saved in ./results/checkpoint-375/pytorch_model.bin\n",
      "Deleting older checkpoint [results/checkpoint-125] due to args.save_total_limit\n",
      "***** Running Evaluation *****\n",
      "  Num examples = 1639\n",
      "  Batch size = 8\n"
     ]
    },
    {
     "data": {
      "application/vnd.jupyter.widget-view+json": {
       "model_id": "12c2dccbe88b43059bc1de8409b014aa",
       "version_major": 2,
       "version_minor": 0
      },
      "text/plain": [
       "  0%|          | 0/205 [00:00<?, ?it/s]"
      ]
     },
     "metadata": {},
     "output_type": "display_data"
    },
    {
     "name": "stderr",
     "output_type": "stream",
     "text": [
      "COMET INFO: ---------------------------\n",
      "COMET INFO: Comet.ml Experiment Summary\n",
      "COMET INFO: ---------------------------\n",
      "COMET INFO:   Data:\n",
      "COMET INFO:     display_summary_level : 1\n",
      "COMET INFO:     url                   : https://www.comet.com/milosz-l/hugging-face-text-classification/362cb44cec2243b2af0a0c08008d44ae\n",
      "COMET INFO:   Metrics [count] (min, max):\n",
      "COMET INFO:     eval/accuracy           : 0.6150091519219036\n",
      "COMET INFO:     eval/f1                 : 0.552250703744398\n",
      "COMET INFO:     eval/loss               : 0.8766151666641235\n",
      "COMET INFO:     eval/precision          : 0.5739156911462305\n",
      "COMET INFO:     eval/recall             : 0.5511695435095185\n",
      "COMET INFO:     eval/runtime            : 317.0254\n",
      "COMET INFO:     eval/samples_per_second : 5.17\n",
      "COMET INFO:     eval/steps_per_second   : 0.647\n",
      "COMET INFO:     loss [3]                : (0.5618016719818115, 1.1352810859680176)\n",
      "COMET INFO:     train/epoch             : 0.2\n",
      "COMET INFO:   Uploads:\n",
      "COMET INFO:     conda-environment-definition : 1\n",
      "COMET INFO:     conda-info                   : 1\n",
      "COMET INFO:     conda-specification          : 1\n",
      "COMET INFO:     confusion-matrix             : 1\n",
      "COMET INFO:     environment details          : 1\n",
      "COMET INFO:     filename                     : 1\n",
      "COMET INFO:     git metadata                 : 1\n",
      "COMET INFO:     git-patch (uncompressed)     : 1 (5.85 MB)\n",
      "COMET INFO:     installed packages           : 1\n",
      "COMET INFO:     notebook                     : 1\n",
      "COMET INFO:     source_code                  : 1\n",
      "COMET INFO: ---------------------------\n",
      "COMET WARNING: As you are running in a Jupyter environment, you will need to call `experiment.end()` when finished to ensure all metrics and code are logged before exiting.\n",
      "COMET INFO: Experiment is live on comet.com https://www.comet.com/milosz-l/hugging-face-text-classification/f33e71abacec4f43944ae131b5935d87\n",
      "\n",
      "Saving model checkpoint to ./results/checkpoint-400\n",
      "Configuration saved in ./results/checkpoint-400/config.json\n"
     ]
    },
    {
     "name": "stdout",
     "output_type": "stream",
     "text": [
      "{'eval_loss': 0.927321195602417, 'eval_accuracy': 0.6119585112873703, 'eval_f1': 0.5395435241621155, 'eval_precision': 0.5861139478165216, 'eval_recall': 0.5233177397701134, 'eval_runtime': 316.8297, 'eval_samples_per_second': 5.173, 'eval_steps_per_second': 0.647, 'epoch': 0.22}\n"
     ]
    },
    {
     "name": "stderr",
     "output_type": "stream",
     "text": [
      "Model weights saved in ./results/checkpoint-400/pytorch_model.bin\n",
      "Deleting older checkpoint [results/checkpoint-150] due to args.save_total_limit\n",
      "***** Running Evaluation *****\n",
      "  Num examples = 1639\n",
      "  Batch size = 8\n"
     ]
    },
    {
     "data": {
      "application/vnd.jupyter.widget-view+json": {
       "model_id": "54bbf033af1e45ee971fc52de3c8a348",
       "version_major": 2,
       "version_minor": 0
      },
      "text/plain": [
       "  0%|          | 0/205 [00:00<?, ?it/s]"
      ]
     },
     "metadata": {},
     "output_type": "display_data"
    },
    {
     "name": "stderr",
     "output_type": "stream",
     "text": [
      "COMET INFO: ---------------------------\n",
      "COMET INFO: Comet.ml Experiment Summary\n",
      "COMET INFO: ---------------------------\n",
      "COMET INFO:   Data:\n",
      "COMET INFO:     display_summary_level : 1\n",
      "COMET INFO:     url                   : https://www.comet.com/milosz-l/hugging-face-text-classification/f33e71abacec4f43944ae131b5935d87\n",
      "COMET INFO:   Metrics [count] (min, max):\n",
      "COMET INFO:     eval/accuracy           : 0.6119585112873703\n",
      "COMET INFO:     eval/f1                 : 0.5395435241621155\n",
      "COMET INFO:     eval/loss               : 0.927321195602417\n",
      "COMET INFO:     eval/precision          : 0.5861139478165216\n",
      "COMET INFO:     eval/recall             : 0.5233177397701134\n",
      "COMET INFO:     eval/runtime            : 316.8297\n",
      "COMET INFO:     eval/samples_per_second : 5.173\n",
      "COMET INFO:     eval/steps_per_second   : 0.647\n",
      "COMET INFO:     loss [2]                : (0.9393543601036072, 1.0922114849090576)\n",
      "COMET INFO:     train/epoch             : 0.22\n",
      "COMET INFO:   Uploads:\n",
      "COMET INFO:     conda-environment-definition : 1\n",
      "COMET INFO:     conda-info                   : 1\n",
      "COMET INFO:     conda-specification          : 1\n",
      "COMET INFO:     confusion-matrix             : 1\n",
      "COMET INFO:     environment details          : 1\n",
      "COMET INFO:     filename                     : 1\n",
      "COMET INFO:     git metadata                 : 1\n",
      "COMET INFO:     git-patch (uncompressed)     : 1 (5.85 MB)\n",
      "COMET INFO:     installed packages           : 1\n",
      "COMET INFO:     notebook                     : 1\n",
      "COMET INFO:     source_code                  : 1\n",
      "COMET INFO: ---------------------------\n",
      "COMET WARNING: As you are running in a Jupyter environment, you will need to call `experiment.end()` when finished to ensure all metrics and code are logged before exiting.\n",
      "COMET INFO: Experiment is live on comet.com https://www.comet.com/milosz-l/hugging-face-text-classification/d5fc245597ec4446827d3b1cd6c2f38a\n",
      "\n",
      "Saving model checkpoint to ./results/checkpoint-425\n",
      "Configuration saved in ./results/checkpoint-425/config.json\n"
     ]
    },
    {
     "name": "stdout",
     "output_type": "stream",
     "text": [
      "{'eval_loss': 0.8720893859863281, 'eval_accuracy': 0.6229408175716901, 'eval_f1': 0.5663342761769845, 'eval_precision': 0.5947193260642851, 'eval_recall': 0.5533922046267052, 'eval_runtime': 317.2414, 'eval_samples_per_second': 5.166, 'eval_steps_per_second': 0.646, 'epoch': 0.23}\n"
     ]
    },
    {
     "name": "stderr",
     "output_type": "stream",
     "text": [
      "Model weights saved in ./results/checkpoint-425/pytorch_model.bin\n",
      "Deleting older checkpoint [results/checkpoint-175] due to args.save_total_limit\n",
      "***** Running Evaluation *****\n",
      "  Num examples = 1639\n",
      "  Batch size = 8\n"
     ]
    },
    {
     "data": {
      "application/vnd.jupyter.widget-view+json": {
       "model_id": "d18a8418432b4370be4cb154d61d5f04",
       "version_major": 2,
       "version_minor": 0
      },
      "text/plain": [
       "  0%|          | 0/205 [00:00<?, ?it/s]"
      ]
     },
     "metadata": {},
     "output_type": "display_data"
    },
    {
     "name": "stderr",
     "output_type": "stream",
     "text": [
      "COMET INFO: ---------------------------\n",
      "COMET INFO: Comet.ml Experiment Summary\n",
      "COMET INFO: ---------------------------\n",
      "COMET INFO:   Data:\n",
      "COMET INFO:     display_summary_level : 1\n",
      "COMET INFO:     url                   : https://www.comet.com/milosz-l/hugging-face-text-classification/d5fc245597ec4446827d3b1cd6c2f38a\n",
      "COMET INFO:   Metrics [count] (min, max):\n",
      "COMET INFO:     eval/accuracy           : 0.6229408175716901\n",
      "COMET INFO:     eval/f1                 : 0.5663342761769845\n",
      "COMET INFO:     eval/loss               : 0.8720893859863281\n",
      "COMET INFO:     eval/precision          : 0.5947193260642851\n",
      "COMET INFO:     eval/recall             : 0.5533922046267052\n",
      "COMET INFO:     eval/runtime            : 317.2414\n",
      "COMET INFO:     eval/samples_per_second : 5.166\n",
      "COMET INFO:     eval/steps_per_second   : 0.646\n",
      "COMET INFO:     loss [3]                : (0.4606024920940399, 1.839110255241394)\n",
      "COMET INFO:     train/epoch             : 0.23\n",
      "COMET INFO:   Uploads:\n",
      "COMET INFO:     conda-environment-definition : 1\n",
      "COMET INFO:     conda-info                   : 1\n",
      "COMET INFO:     conda-specification          : 1\n",
      "COMET INFO:     confusion-matrix             : 1\n",
      "COMET INFO:     environment details          : 1\n",
      "COMET INFO:     filename                     : 1\n",
      "COMET INFO:     git metadata                 : 1\n",
      "COMET INFO:     git-patch (uncompressed)     : 1 (5.85 MB)\n",
      "COMET INFO:     installed packages           : 1\n",
      "COMET INFO:     notebook                     : 1\n",
      "COMET INFO:     source_code                  : 1\n",
      "COMET INFO: ---------------------------\n",
      "COMET WARNING: As you are running in a Jupyter environment, you will need to call `experiment.end()` when finished to ensure all metrics and code are logged before exiting.\n",
      "COMET INFO: Experiment is live on comet.com https://www.comet.com/milosz-l/hugging-face-text-classification/d4c35f13d61c4dd59744f7b8bde6a3bd\n",
      "\n",
      "Saving model checkpoint to ./results/checkpoint-450\n",
      "Configuration saved in ./results/checkpoint-450/config.json\n"
     ]
    },
    {
     "name": "stdout",
     "output_type": "stream",
     "text": [
      "{'eval_loss': 0.9445882439613342, 'eval_accuracy': 0.6168395363026236, 'eval_f1': 0.5721480658769823, 'eval_precision': 0.575355268400694, 'eval_recall': 0.5849060780637816, 'eval_runtime': 317.6196, 'eval_samples_per_second': 5.16, 'eval_steps_per_second': 0.645, 'epoch': 0.24}\n"
     ]
    },
    {
     "name": "stderr",
     "output_type": "stream",
     "text": [
      "Model weights saved in ./results/checkpoint-450/pytorch_model.bin\n",
      "Deleting older checkpoint [results/checkpoint-200] due to args.save_total_limit\n",
      "***** Running Evaluation *****\n",
      "  Num examples = 1639\n",
      "  Batch size = 8\n"
     ]
    },
    {
     "data": {
      "application/vnd.jupyter.widget-view+json": {
       "model_id": "2e3ff835bb5745a1a0f7c901990d9a79",
       "version_major": 2,
       "version_minor": 0
      },
      "text/plain": [
       "  0%|          | 0/205 [00:00<?, ?it/s]"
      ]
     },
     "metadata": {},
     "output_type": "display_data"
    },
    {
     "name": "stderr",
     "output_type": "stream",
     "text": [
      "COMET INFO: ---------------------------\n",
      "COMET INFO: Comet.ml Experiment Summary\n",
      "COMET INFO: ---------------------------\n",
      "COMET INFO:   Data:\n",
      "COMET INFO:     display_summary_level : 1\n",
      "COMET INFO:     url                   : https://www.comet.com/milosz-l/hugging-face-text-classification/d4c35f13d61c4dd59744f7b8bde6a3bd\n",
      "COMET INFO:   Metrics [count] (min, max):\n",
      "COMET INFO:     eval/accuracy           : 0.6168395363026236\n",
      "COMET INFO:     eval/f1                 : 0.5721480658769823\n",
      "COMET INFO:     eval/loss               : 0.9445882439613342\n",
      "COMET INFO:     eval/precision          : 0.575355268400694\n",
      "COMET INFO:     eval/recall             : 0.5849060780637816\n",
      "COMET INFO:     eval/runtime            : 317.6196\n",
      "COMET INFO:     eval/samples_per_second : 5.16\n",
      "COMET INFO:     eval/steps_per_second   : 0.645\n",
      "COMET INFO:     loss [2]                : (0.785712718963623, 0.857331395149231)\n",
      "COMET INFO:     train/epoch             : 0.24\n",
      "COMET INFO:   Uploads:\n",
      "COMET INFO:     conda-environment-definition : 1\n",
      "COMET INFO:     conda-info                   : 1\n",
      "COMET INFO:     conda-specification          : 1\n",
      "COMET INFO:     confusion-matrix             : 1\n",
      "COMET INFO:     environment details          : 1\n",
      "COMET INFO:     filename                     : 1\n",
      "COMET INFO:     git metadata                 : 1\n",
      "COMET INFO:     git-patch (uncompressed)     : 1 (5.85 MB)\n",
      "COMET INFO:     installed packages           : 1\n",
      "COMET INFO:     notebook                     : 1\n",
      "COMET INFO:     source_code                  : 1\n",
      "COMET INFO: ---------------------------\n",
      "COMET WARNING: As you are running in a Jupyter environment, you will need to call `experiment.end()` when finished to ensure all metrics and code are logged before exiting.\n",
      "COMET INFO: Experiment is live on comet.com https://www.comet.com/milosz-l/hugging-face-text-classification/a937ed342377408abc1ea8c2363463a2\n",
      "\n",
      "Saving model checkpoint to ./results/checkpoint-475\n",
      "Configuration saved in ./results/checkpoint-475/config.json\n"
     ]
    },
    {
     "name": "stdout",
     "output_type": "stream",
     "text": [
      "{'eval_loss': 0.9239405989646912, 'eval_accuracy': 0.5759609517998779, 'eval_f1': 0.4306609147783881, 'eval_precision': 0.5652079792600517, 'eval_recall': 0.4116349133539227, 'eval_runtime': 318.2587, 'eval_samples_per_second': 5.15, 'eval_steps_per_second': 0.644, 'epoch': 0.26}\n"
     ]
    },
    {
     "name": "stderr",
     "output_type": "stream",
     "text": [
      "Model weights saved in ./results/checkpoint-475/pytorch_model.bin\n",
      "Deleting older checkpoint [results/checkpoint-225] due to args.save_total_limit\n",
      "***** Running Evaluation *****\n",
      "  Num examples = 1639\n",
      "  Batch size = 8\n"
     ]
    },
    {
     "name": "stdout",
     "output_type": "stream",
     "text": [
      "{'loss': 0.9793, 'learning_rate': 4.986449864498645e-05, 'epoch': 0.27}\n"
     ]
    },
    {
     "data": {
      "application/vnd.jupyter.widget-view+json": {
       "model_id": "de2fb7e3866f4d6292227843c3892704",
       "version_major": 2,
       "version_minor": 0
      },
      "text/plain": [
       "  0%|          | 0/205 [00:00<?, ?it/s]"
      ]
     },
     "metadata": {},
     "output_type": "display_data"
    },
    {
     "name": "stderr",
     "output_type": "stream",
     "text": [
      "COMET INFO: ---------------------------\n",
      "COMET INFO: Comet.ml Experiment Summary\n",
      "COMET INFO: ---------------------------\n",
      "COMET INFO:   Data:\n",
      "COMET INFO:     display_summary_level : 1\n",
      "COMET INFO:     url                   : https://www.comet.com/milosz-l/hugging-face-text-classification/a937ed342377408abc1ea8c2363463a2\n",
      "COMET INFO:   Metrics [count] (min, max):\n",
      "COMET INFO:     eval/accuracy           : 0.5759609517998779\n",
      "COMET INFO:     eval/f1                 : 0.4306609147783881\n",
      "COMET INFO:     eval/loss               : 0.9239405989646912\n",
      "COMET INFO:     eval/precision          : 0.5652079792600517\n",
      "COMET INFO:     eval/recall             : 0.4116349133539227\n",
      "COMET INFO:     eval/runtime            : 318.2587\n",
      "COMET INFO:     eval/samples_per_second : 5.15\n",
      "COMET INFO:     eval/steps_per_second   : 0.644\n",
      "COMET INFO:     loss [3]                : (0.5677446722984314, 1.4706151485443115)\n",
      "COMET INFO:     train/epoch [2]         : (0.26, 0.27)\n",
      "COMET INFO:     train/learning_rate     : 4.986449864498645e-05\n",
      "COMET INFO:     train/loss              : 0.9793\n",
      "COMET INFO:   Uploads:\n",
      "COMET INFO:     conda-environment-definition : 1\n",
      "COMET INFO:     conda-info                   : 1\n",
      "COMET INFO:     conda-specification          : 1\n",
      "COMET INFO:     confusion-matrix             : 1\n",
      "COMET INFO:     environment details          : 1\n",
      "COMET INFO:     filename                     : 1\n",
      "COMET INFO:     git metadata                 : 1\n",
      "COMET INFO:     git-patch (uncompressed)     : 1 (5.85 MB)\n",
      "COMET INFO:     installed packages           : 1\n",
      "COMET INFO:     notebook                     : 1\n",
      "COMET INFO:     source_code                  : 1\n",
      "COMET INFO: ---------------------------\n",
      "COMET WARNING: As you are running in a Jupyter environment, you will need to call `experiment.end()` when finished to ensure all metrics and code are logged before exiting.\n",
      "COMET INFO: Experiment is live on comet.com https://www.comet.com/milosz-l/hugging-face-text-classification/57f8e00241454115a3eb42f7687e624a\n",
      "\n",
      "Saving model checkpoint to ./results/checkpoint-500\n",
      "Configuration saved in ./results/checkpoint-500/config.json\n"
     ]
    },
    {
     "name": "stdout",
     "output_type": "stream",
     "text": [
      "{'eval_loss': 1.276650309562683, 'eval_accuracy': 0.4984746796827334, 'eval_f1': 0.3236555670598817, 'eval_precision': 0.4357293826458178, 'eval_recall': 0.3790031836259685, 'eval_runtime': 316.7421, 'eval_samples_per_second': 5.175, 'eval_steps_per_second': 0.647, 'epoch': 0.27}\n"
     ]
    },
    {
     "name": "stderr",
     "output_type": "stream",
     "text": [
      "Model weights saved in ./results/checkpoint-500/pytorch_model.bin\n",
      "Deleting older checkpoint [results/checkpoint-250] due to args.save_total_limit\n",
      "***** Running Evaluation *****\n",
      "  Num examples = 1639\n",
      "  Batch size = 8\n"
     ]
    },
    {
     "data": {
      "application/vnd.jupyter.widget-view+json": {
       "model_id": "582251b0971c4c0ba87ee18bf81039d1",
       "version_major": 2,
       "version_minor": 0
      },
      "text/plain": [
       "  0%|          | 0/205 [00:00<?, ?it/s]"
      ]
     },
     "metadata": {},
     "output_type": "display_data"
    },
    {
     "name": "stderr",
     "output_type": "stream",
     "text": [
      "COMET INFO: ---------------------------\n",
      "COMET INFO: Comet.ml Experiment Summary\n",
      "COMET INFO: ---------------------------\n",
      "COMET INFO:   Data:\n",
      "COMET INFO:     display_summary_level : 1\n",
      "COMET INFO:     url                   : https://www.comet.com/milosz-l/hugging-face-text-classification/57f8e00241454115a3eb42f7687e624a\n",
      "COMET INFO:   Metrics [count] (min, max):\n",
      "COMET INFO:     eval/accuracy           : 0.4984746796827334\n",
      "COMET INFO:     eval/f1                 : 0.3236555670598817\n",
      "COMET INFO:     eval/loss               : 1.276650309562683\n",
      "COMET INFO:     eval/precision          : 0.4357293826458178\n",
      "COMET INFO:     eval/recall             : 0.3790031836259685\n",
      "COMET INFO:     eval/runtime            : 316.7421\n",
      "COMET INFO:     eval/samples_per_second : 5.175\n",
      "COMET INFO:     eval/steps_per_second   : 0.647\n",
      "COMET INFO:     loss [2]                : (0.9011409282684326, 1.1111396551132202)\n",
      "COMET INFO:     train/epoch             : 0.27\n",
      "COMET INFO:   Uploads:\n",
      "COMET INFO:     conda-environment-definition : 1\n",
      "COMET INFO:     conda-info                   : 1\n",
      "COMET INFO:     conda-specification          : 1\n",
      "COMET INFO:     confusion-matrix             : 1\n",
      "COMET INFO:     environment details          : 1\n",
      "COMET INFO:     filename                     : 1\n",
      "COMET INFO:     git metadata                 : 1\n",
      "COMET INFO:     git-patch (uncompressed)     : 1 (5.85 MB)\n",
      "COMET INFO:     installed packages           : 1\n",
      "COMET INFO:     notebook                     : 1\n",
      "COMET INFO:     source_code                  : 1\n",
      "COMET INFO: ---------------------------\n",
      "COMET ERROR: Error sending a notification, make sure you have opted-in for notifications\n",
      "COMET WARNING: As you are running in a Jupyter environment, you will need to call `experiment.end()` when finished to ensure all metrics and code are logged before exiting.\n",
      "COMET INFO: Experiment is live on comet.com https://www.comet.com/milosz-l/hugging-face-text-classification/91626bcc047640fd944f220931e2411a\n",
      "\n",
      "/Users/milosz/opt/miniconda3/envs/pt/lib/python3.9/site-packages/sklearn/metrics/_classification.py:1334: UndefinedMetricWarning: Precision and F-score are ill-defined and being set to 0.0 in labels with no predicted samples. Use `zero_division` parameter to control this behavior.\n",
      "  _warn_prf(average, modifier, msg_start, len(result))\n",
      "Saving model checkpoint to ./results/checkpoint-525\n",
      "Configuration saved in ./results/checkpoint-525/config.json\n"
     ]
    },
    {
     "name": "stdout",
     "output_type": "stream",
     "text": [
      "{'eval_loss': 0.928998589515686, 'eval_accuracy': 0.5771812080536913, 'eval_f1': 0.40372177979615254, 'eval_precision': 0.41463952020202016, 'eval_recall': 0.44063933085893126, 'eval_runtime': 327.0116, 'eval_samples_per_second': 5.012, 'eval_steps_per_second': 0.627, 'epoch': 0.28}\n"
     ]
    },
    {
     "name": "stderr",
     "output_type": "stream",
     "text": [
      "Model weights saved in ./results/checkpoint-525/pytorch_model.bin\n",
      "Deleting older checkpoint [results/checkpoint-275] due to args.save_total_limit\n",
      "***** Running Evaluation *****\n",
      "  Num examples = 1639\n",
      "  Batch size = 8\n"
     ]
    },
    {
     "data": {
      "application/vnd.jupyter.widget-view+json": {
       "model_id": "96678fd63a9b4c868ec0adb29a338e6e",
       "version_major": 2,
       "version_minor": 0
      },
      "text/plain": [
       "  0%|          | 0/205 [00:00<?, ?it/s]"
      ]
     },
     "metadata": {},
     "output_type": "display_data"
    },
    {
     "name": "stderr",
     "output_type": "stream",
     "text": [
      "COMET INFO: ---------------------------\n",
      "COMET INFO: Comet.ml Experiment Summary\n",
      "COMET INFO: ---------------------------\n",
      "COMET INFO:   Data:\n",
      "COMET INFO:     display_summary_level : 1\n",
      "COMET INFO:     url                   : https://www.comet.com/milosz-l/hugging-face-text-classification/91626bcc047640fd944f220931e2411a\n",
      "COMET INFO:   Metrics [count] (min, max):\n",
      "COMET INFO:     eval/accuracy           : 0.5771812080536913\n",
      "COMET INFO:     eval/f1                 : 0.40372177979615254\n",
      "COMET INFO:     eval/loss               : 0.928998589515686\n",
      "COMET INFO:     eval/precision          : 0.41463952020202016\n",
      "COMET INFO:     eval/recall             : 0.44063933085893126\n",
      "COMET INFO:     eval/runtime            : 327.0116\n",
      "COMET INFO:     eval/samples_per_second : 5.012\n",
      "COMET INFO:     eval/steps_per_second   : 0.627\n",
      "COMET INFO:     loss [3]                : (0.712582528591156, 0.8567894697189331)\n",
      "COMET INFO:     train/epoch             : 0.28\n",
      "COMET INFO:   Uploads:\n",
      "COMET INFO:     conda-environment-definition : 1\n",
      "COMET INFO:     conda-info                   : 1\n",
      "COMET INFO:     conda-specification          : 1\n",
      "COMET INFO:     confusion-matrix             : 1\n",
      "COMET INFO:     environment details          : 1\n",
      "COMET INFO:     filename                     : 1\n",
      "COMET INFO:     git metadata                 : 1\n",
      "COMET INFO:     git-patch (uncompressed)     : 1 (5.85 MB)\n",
      "COMET INFO:     installed packages           : 1\n",
      "COMET INFO:     notebook                     : 1\n",
      "COMET INFO:     source_code                  : 1\n",
      "COMET INFO: ---------------------------\n",
      "COMET WARNING: As you are running in a Jupyter environment, you will need to call `experiment.end()` when finished to ensure all metrics and code are logged before exiting.\n",
      "COMET INFO: Experiment is live on comet.com https://www.comet.com/milosz-l/hugging-face-text-classification/1b7f94e43fc246ea9ace2bb4bb24ff48\n",
      "\n",
      "Saving model checkpoint to ./results/checkpoint-550\n",
      "Configuration saved in ./results/checkpoint-550/config.json\n"
     ]
    },
    {
     "name": "stdout",
     "output_type": "stream",
     "text": [
      "{'eval_loss': 0.9254264831542969, 'eval_accuracy': 0.600366076876144, 'eval_f1': 0.507868464550688, 'eval_precision': 0.5544013059674315, 'eval_recall': 0.4875932728863431, 'eval_runtime': 318.2668, 'eval_samples_per_second': 5.15, 'eval_steps_per_second': 0.644, 'epoch': 0.3}\n"
     ]
    },
    {
     "name": "stderr",
     "output_type": "stream",
     "text": [
      "Model weights saved in ./results/checkpoint-550/pytorch_model.bin\n",
      "Deleting older checkpoint [results/checkpoint-300] due to args.save_total_limit\n",
      "***** Running Evaluation *****\n",
      "  Num examples = 1639\n",
      "  Batch size = 8\n"
     ]
    },
    {
     "data": {
      "application/vnd.jupyter.widget-view+json": {
       "model_id": "cc305aa3806044d79c566ae0909fa86b",
       "version_major": 2,
       "version_minor": 0
      },
      "text/plain": [
       "  0%|          | 0/205 [00:00<?, ?it/s]"
      ]
     },
     "metadata": {},
     "output_type": "display_data"
    },
    {
     "name": "stderr",
     "output_type": "stream",
     "text": [
      "COMET INFO: ---------------------------\n",
      "COMET INFO: Comet.ml Experiment Summary\n",
      "COMET INFO: ---------------------------\n",
      "COMET INFO:   Data:\n",
      "COMET INFO:     display_summary_level : 1\n",
      "COMET INFO:     url                   : https://www.comet.com/milosz-l/hugging-face-text-classification/1b7f94e43fc246ea9ace2bb4bb24ff48\n",
      "COMET INFO:   Metrics [count] (min, max):\n",
      "COMET INFO:     eval/accuracy           : 0.600366076876144\n",
      "COMET INFO:     eval/f1                 : 0.507868464550688\n",
      "COMET INFO:     eval/loss               : 0.9254264831542969\n",
      "COMET INFO:     eval/precision          : 0.5544013059674315\n",
      "COMET INFO:     eval/recall             : 0.4875932728863431\n",
      "COMET INFO:     eval/runtime            : 318.2668\n",
      "COMET INFO:     eval/samples_per_second : 5.15\n",
      "COMET INFO:     eval/steps_per_second   : 0.644\n",
      "COMET INFO:     loss [2]                : (0.7167684435844421, 0.7468039393424988)\n",
      "COMET INFO:     train/epoch             : 0.3\n",
      "COMET INFO:   Uploads:\n",
      "COMET INFO:     conda-environment-definition : 1\n",
      "COMET INFO:     conda-info                   : 1\n",
      "COMET INFO:     conda-specification          : 1\n",
      "COMET INFO:     confusion-matrix             : 1\n",
      "COMET INFO:     environment details          : 1\n",
      "COMET INFO:     filename                     : 1\n",
      "COMET INFO:     git metadata                 : 1\n",
      "COMET INFO:     git-patch (uncompressed)     : 1 (5.85 MB)\n",
      "COMET INFO:     installed packages           : 1\n",
      "COMET INFO:     notebook                     : 1\n",
      "COMET INFO:     source_code                  : 1\n",
      "COMET INFO: ---------------------------\n",
      "COMET WARNING: As you are running in a Jupyter environment, you will need to call `experiment.end()` when finished to ensure all metrics and code are logged before exiting.\n",
      "COMET INFO: Experiment is live on comet.com https://www.comet.com/milosz-l/hugging-face-text-classification/4cc1faedb0dd4383955a1152cdf44267\n",
      "\n",
      "Saving model checkpoint to ./results/checkpoint-575\n",
      "Configuration saved in ./results/checkpoint-575/config.json\n"
     ]
    },
    {
     "name": "stdout",
     "output_type": "stream",
     "text": [
      "{'eval_loss': 1.404022216796875, 'eval_accuracy': 0.4820012202562538, 'eval_f1': 0.31955600282381597, 'eval_precision': 0.4875206716997761, 'eval_recall': 0.3291072514468354, 'eval_runtime': 316.8095, 'eval_samples_per_second': 5.173, 'eval_steps_per_second': 0.647, 'epoch': 0.31}\n"
     ]
    },
    {
     "name": "stderr",
     "output_type": "stream",
     "text": [
      "Model weights saved in ./results/checkpoint-575/pytorch_model.bin\n",
      "Deleting older checkpoint [results/checkpoint-325] due to args.save_total_limit\n",
      "***** Running Evaluation *****\n",
      "  Num examples = 1639\n",
      "  Batch size = 8\n"
     ]
    },
    {
     "data": {
      "application/vnd.jupyter.widget-view+json": {
       "model_id": "84498d6037fd4c57be287f4d9a28627c",
       "version_major": 2,
       "version_minor": 0
      },
      "text/plain": [
       "  0%|          | 0/205 [00:00<?, ?it/s]"
      ]
     },
     "metadata": {},
     "output_type": "display_data"
    },
    {
     "name": "stderr",
     "output_type": "stream",
     "text": [
      "COMET INFO: ---------------------------\n",
      "COMET INFO: Comet.ml Experiment Summary\n",
      "COMET INFO: ---------------------------\n",
      "COMET INFO:   Data:\n",
      "COMET INFO:     display_summary_level : 1\n",
      "COMET INFO:     url                   : https://www.comet.com/milosz-l/hugging-face-text-classification/4cc1faedb0dd4383955a1152cdf44267\n",
      "COMET INFO:   Metrics [count] (min, max):\n",
      "COMET INFO:     eval/accuracy           : 0.4820012202562538\n",
      "COMET INFO:     eval/f1                 : 0.31955600282381597\n",
      "COMET INFO:     eval/loss               : 1.404022216796875\n",
      "COMET INFO:     eval/precision          : 0.4875206716997761\n",
      "COMET INFO:     eval/recall             : 0.3291072514468354\n",
      "COMET INFO:     eval/runtime            : 316.8095\n",
      "COMET INFO:     eval/samples_per_second : 5.173\n",
      "COMET INFO:     eval/steps_per_second   : 0.647\n",
      "COMET INFO:     loss [3]                : (1.0116825103759766, 1.9832724332809448)\n",
      "COMET INFO:     train/epoch             : 0.31\n",
      "COMET INFO:   Uploads:\n",
      "COMET INFO:     conda-environment-definition : 1\n",
      "COMET INFO:     conda-info                   : 1\n",
      "COMET INFO:     conda-specification          : 1\n",
      "COMET INFO:     confusion-matrix             : 1\n",
      "COMET INFO:     environment details          : 1\n",
      "COMET INFO:     filename                     : 1\n",
      "COMET INFO:     git metadata                 : 1\n",
      "COMET INFO:     git-patch (uncompressed)     : 1 (5.85 MB)\n",
      "COMET INFO:     installed packages           : 1\n",
      "COMET INFO:     notebook                     : 1\n",
      "COMET INFO:     source_code                  : 1\n",
      "COMET INFO: ---------------------------\n",
      "COMET WARNING: As you are running in a Jupyter environment, you will need to call `experiment.end()` when finished to ensure all metrics and code are logged before exiting.\n",
      "COMET INFO: Experiment is live on comet.com https://www.comet.com/milosz-l/hugging-face-text-classification/e9b81ed8ed96471a9acfacc3412b9a49\n",
      "\n",
      "Saving model checkpoint to ./results/checkpoint-600\n",
      "Configuration saved in ./results/checkpoint-600/config.json\n"
     ]
    },
    {
     "name": "stdout",
     "output_type": "stream",
     "text": [
      "{'eval_loss': 0.8626843690872192, 'eval_accuracy': 0.6168395363026236, 'eval_f1': 0.5515125904918938, 'eval_precision': 0.5788673945184445, 'eval_recall': 0.5518405886767639, 'eval_runtime': 316.452, 'eval_samples_per_second': 5.179, 'eval_steps_per_second': 0.648, 'epoch': 0.33}\n"
     ]
    },
    {
     "name": "stderr",
     "output_type": "stream",
     "text": [
      "Model weights saved in ./results/checkpoint-600/pytorch_model.bin\n",
      "Deleting older checkpoint [results/checkpoint-350] due to args.save_total_limit\n",
      "***** Running Evaluation *****\n",
      "  Num examples = 1639\n",
      "  Batch size = 8\n"
     ]
    },
    {
     "data": {
      "application/vnd.jupyter.widget-view+json": {
       "model_id": "cbccc16c1cd84af189c853c67870f8c9",
       "version_major": 2,
       "version_minor": 0
      },
      "text/plain": [
       "  0%|          | 0/205 [00:00<?, ?it/s]"
      ]
     },
     "metadata": {},
     "output_type": "display_data"
    },
    {
     "name": "stderr",
     "output_type": "stream",
     "text": [
      "COMET INFO: ---------------------------\n",
      "COMET INFO: Comet.ml Experiment Summary\n",
      "COMET INFO: ---------------------------\n",
      "COMET INFO:   Data:\n",
      "COMET INFO:     display_summary_level : 1\n",
      "COMET INFO:     url                   : https://www.comet.com/milosz-l/hugging-face-text-classification/e9b81ed8ed96471a9acfacc3412b9a49\n",
      "COMET INFO:   Metrics [count] (min, max):\n",
      "COMET INFO:     eval/accuracy           : 0.6168395363026236\n",
      "COMET INFO:     eval/f1                 : 0.5515125904918938\n",
      "COMET INFO:     eval/loss               : 0.8626843690872192\n",
      "COMET INFO:     eval/precision          : 0.5788673945184445\n",
      "COMET INFO:     eval/recall             : 0.5518405886767639\n",
      "COMET INFO:     eval/runtime            : 316.452\n",
      "COMET INFO:     eval/samples_per_second : 5.179\n",
      "COMET INFO:     eval/steps_per_second   : 0.648\n",
      "COMET INFO:     loss [2]                : (0.8692450523376465, 1.166620135307312)\n",
      "COMET INFO:     train/epoch             : 0.33\n",
      "COMET INFO:   Uploads:\n",
      "COMET INFO:     conda-environment-definition : 1\n",
      "COMET INFO:     conda-info                   : 1\n",
      "COMET INFO:     conda-specification          : 1\n",
      "COMET INFO:     confusion-matrix             : 1\n",
      "COMET INFO:     environment details          : 1\n",
      "COMET INFO:     filename                     : 1\n",
      "COMET INFO:     git metadata                 : 1\n",
      "COMET INFO:     git-patch (uncompressed)     : 1 (5.85 MB)\n",
      "COMET INFO:     installed packages           : 1\n",
      "COMET INFO:     notebook                     : 1\n",
      "COMET INFO:     source_code                  : 1\n",
      "COMET INFO: ---------------------------\n",
      "COMET WARNING: As you are running in a Jupyter environment, you will need to call `experiment.end()` when finished to ensure all metrics and code are logged before exiting.\n",
      "COMET INFO: Experiment is live on comet.com https://www.comet.com/milosz-l/hugging-face-text-classification/9dddf401a0d34d67ab6dcf39860397a7\n",
      "\n",
      "Saving model checkpoint to ./results/checkpoint-625\n",
      "Configuration saved in ./results/checkpoint-625/config.json\n"
     ]
    },
    {
     "name": "stdout",
     "output_type": "stream",
     "text": [
      "{'eval_loss': 0.8790668249130249, 'eval_accuracy': 0.62660158633313, 'eval_f1': 0.5308215507756646, 'eval_precision': 0.572802657760396, 'eval_recall': 0.5206453950537586, 'eval_runtime': 317.408, 'eval_samples_per_second': 5.164, 'eval_steps_per_second': 0.646, 'epoch': 0.34}\n"
     ]
    },
    {
     "name": "stderr",
     "output_type": "stream",
     "text": [
      "Model weights saved in ./results/checkpoint-625/pytorch_model.bin\n",
      "Deleting older checkpoint [results/checkpoint-375] due to args.save_total_limit\n",
      "***** Running Evaluation *****\n",
      "  Num examples = 1639\n",
      "  Batch size = 8\n"
     ]
    },
    {
     "data": {
      "application/vnd.jupyter.widget-view+json": {
       "model_id": "f837003b98f9410c8753be7a858d453d",
       "version_major": 2,
       "version_minor": 0
      },
      "text/plain": [
       "  0%|          | 0/205 [00:00<?, ?it/s]"
      ]
     },
     "metadata": {},
     "output_type": "display_data"
    },
    {
     "name": "stderr",
     "output_type": "stream",
     "text": [
      "COMET INFO: ---------------------------\n",
      "COMET INFO: Comet.ml Experiment Summary\n",
      "COMET INFO: ---------------------------\n",
      "COMET INFO:   Data:\n",
      "COMET INFO:     display_summary_level : 1\n",
      "COMET INFO:     url                   : https://www.comet.com/milosz-l/hugging-face-text-classification/9dddf401a0d34d67ab6dcf39860397a7\n",
      "COMET INFO:   Metrics [count] (min, max):\n",
      "COMET INFO:     eval/accuracy           : 0.62660158633313\n",
      "COMET INFO:     eval/f1                 : 0.5308215507756646\n",
      "COMET INFO:     eval/loss               : 0.8790668249130249\n",
      "COMET INFO:     eval/precision          : 0.572802657760396\n",
      "COMET INFO:     eval/recall             : 0.5206453950537586\n",
      "COMET INFO:     eval/runtime            : 317.408\n",
      "COMET INFO:     eval/samples_per_second : 5.164\n",
      "COMET INFO:     eval/steps_per_second   : 0.646\n",
      "COMET INFO:     loss [3]                : (0.7221274375915527, 1.0560823678970337)\n",
      "COMET INFO:     train/epoch             : 0.34\n",
      "COMET INFO:   Uploads:\n",
      "COMET INFO:     conda-environment-definition : 1\n",
      "COMET INFO:     conda-info                   : 1\n",
      "COMET INFO:     conda-specification          : 1\n",
      "COMET INFO:     confusion-matrix             : 1\n",
      "COMET INFO:     environment details          : 1\n",
      "COMET INFO:     filename                     : 1\n",
      "COMET INFO:     git metadata                 : 1\n",
      "COMET INFO:     git-patch (uncompressed)     : 1 (5.85 MB)\n",
      "COMET INFO:     installed packages           : 1\n",
      "COMET INFO:     notebook                     : 1\n",
      "COMET INFO:     source_code                  : 1\n",
      "COMET INFO: ---------------------------\n",
      "COMET WARNING: As you are running in a Jupyter environment, you will need to call `experiment.end()` when finished to ensure all metrics and code are logged before exiting.\n",
      "COMET INFO: Experiment is live on comet.com https://www.comet.com/milosz-l/hugging-face-text-classification/ecb70012a2e242fa9039893fdb32c1ae\n",
      "\n",
      "Saving model checkpoint to ./results/checkpoint-650\n",
      "Configuration saved in ./results/checkpoint-650/config.json\n"
     ]
    },
    {
     "name": "stdout",
     "output_type": "stream",
     "text": [
      "{'eval_loss': 0.9733066558837891, 'eval_accuracy': 0.5875533862111043, 'eval_f1': 0.446918960183626, 'eval_precision': 0.6457629099665197, 'eval_recall': 0.46106033580005246, 'eval_runtime': 317.4241, 'eval_samples_per_second': 5.163, 'eval_steps_per_second': 0.646, 'epoch': 0.35}\n"
     ]
    },
    {
     "name": "stderr",
     "output_type": "stream",
     "text": [
      "Model weights saved in ./results/checkpoint-650/pytorch_model.bin\n",
      "Deleting older checkpoint [results/checkpoint-400] due to args.save_total_limit\n",
      "***** Running Evaluation *****\n",
      "  Num examples = 1639\n",
      "  Batch size = 8\n"
     ]
    },
    {
     "data": {
      "application/vnd.jupyter.widget-view+json": {
       "model_id": "56f0343ee2424706ad6e9ce88f4a636d",
       "version_major": 2,
       "version_minor": 0
      },
      "text/plain": [
       "  0%|          | 0/205 [00:00<?, ?it/s]"
      ]
     },
     "metadata": {},
     "output_type": "display_data"
    },
    {
     "name": "stderr",
     "output_type": "stream",
     "text": [
      "COMET INFO: ---------------------------\n",
      "COMET INFO: Comet.ml Experiment Summary\n",
      "COMET INFO: ---------------------------\n",
      "COMET INFO:   Data:\n",
      "COMET INFO:     display_summary_level : 1\n",
      "COMET INFO:     url                   : https://www.comet.com/milosz-l/hugging-face-text-classification/ecb70012a2e242fa9039893fdb32c1ae\n",
      "COMET INFO:   Metrics [count] (min, max):\n",
      "COMET INFO:     eval/accuracy           : 0.5875533862111043\n",
      "COMET INFO:     eval/f1                 : 0.446918960183626\n",
      "COMET INFO:     eval/loss               : 0.9733066558837891\n",
      "COMET INFO:     eval/precision          : 0.6457629099665197\n",
      "COMET INFO:     eval/recall             : 0.46106033580005246\n",
      "COMET INFO:     eval/runtime            : 317.4241\n",
      "COMET INFO:     eval/samples_per_second : 5.163\n",
      "COMET INFO:     eval/steps_per_second   : 0.646\n",
      "COMET INFO:     loss [2]                : (1.015636682510376, 1.515478253364563)\n",
      "COMET INFO:     train/epoch             : 0.35\n",
      "COMET INFO:   Uploads:\n",
      "COMET INFO:     conda-environment-definition : 1\n",
      "COMET INFO:     conda-info                   : 1\n",
      "COMET INFO:     conda-specification          : 1\n",
      "COMET INFO:     confusion-matrix             : 1\n",
      "COMET INFO:     environment details          : 1\n",
      "COMET INFO:     filename                     : 1\n",
      "COMET INFO:     git metadata                 : 1\n",
      "COMET INFO:     git-patch (uncompressed)     : 1 (5.85 MB)\n",
      "COMET INFO:     installed packages           : 1\n",
      "COMET INFO:     notebook                     : 1\n",
      "COMET INFO:     source_code                  : 1\n",
      "COMET INFO: ---------------------------\n",
      "COMET WARNING: As you are running in a Jupyter environment, you will need to call `experiment.end()` when finished to ensure all metrics and code are logged before exiting.\n",
      "COMET INFO: Experiment is live on comet.com https://www.comet.com/milosz-l/hugging-face-text-classification/3b34ea9d68cf4d65ab5593127d009a58\n",
      "\n",
      "/Users/milosz/opt/miniconda3/envs/pt/lib/python3.9/site-packages/sklearn/metrics/_classification.py:1334: UndefinedMetricWarning: Precision and F-score are ill-defined and being set to 0.0 in labels with no predicted samples. Use `zero_division` parameter to control this behavior.\n",
      "  _warn_prf(average, modifier, msg_start, len(result))\n",
      "Saving model checkpoint to ./results/checkpoint-675\n",
      "Configuration saved in ./results/checkpoint-675/config.json\n"
     ]
    },
    {
     "name": "stdout",
     "output_type": "stream",
     "text": [
      "{'eval_loss': 0.9821290373802185, 'eval_accuracy': 0.5631482611348383, 'eval_f1': 0.41166013761283543, 'eval_precision': 0.4303760092859088, 'eval_recall': 0.4414064084214272, 'eval_runtime': 316.5329, 'eval_samples_per_second': 5.178, 'eval_steps_per_second': 0.648, 'epoch': 0.37}\n"
     ]
    },
    {
     "name": "stderr",
     "output_type": "stream",
     "text": [
      "Model weights saved in ./results/checkpoint-675/pytorch_model.bin\n",
      "Deleting older checkpoint [results/checkpoint-425] due to args.save_total_limit\n",
      "***** Running Evaluation *****\n",
      "  Num examples = 1639\n",
      "  Batch size = 8\n"
     ]
    },
    {
     "data": {
      "application/vnd.jupyter.widget-view+json": {
       "model_id": "5d33633c77804f2aa669b387cd8fc98a",
       "version_major": 2,
       "version_minor": 0
      },
      "text/plain": [
       "  0%|          | 0/205 [00:00<?, ?it/s]"
      ]
     },
     "metadata": {},
     "output_type": "display_data"
    },
    {
     "name": "stderr",
     "output_type": "stream",
     "text": [
      "COMET INFO: ---------------------------\n",
      "COMET INFO: Comet.ml Experiment Summary\n",
      "COMET INFO: ---------------------------\n",
      "COMET INFO:   Data:\n",
      "COMET INFO:     display_summary_level : 1\n",
      "COMET INFO:     url                   : https://www.comet.com/milosz-l/hugging-face-text-classification/3b34ea9d68cf4d65ab5593127d009a58\n",
      "COMET INFO:   Metrics [count] (min, max):\n",
      "COMET INFO:     eval/accuracy           : 0.5631482611348383\n",
      "COMET INFO:     eval/f1                 : 0.41166013761283543\n",
      "COMET INFO:     eval/loss               : 0.9821290373802185\n",
      "COMET INFO:     eval/precision          : 0.4303760092859088\n",
      "COMET INFO:     eval/recall             : 0.4414064084214272\n",
      "COMET INFO:     eval/runtime            : 316.5329\n",
      "COMET INFO:     eval/samples_per_second : 5.178\n",
      "COMET INFO:     eval/steps_per_second   : 0.648\n",
      "COMET INFO:     loss [3]                : (0.6716433763504028, 1.1912996768951416)\n",
      "COMET INFO:     train/epoch             : 0.37\n",
      "COMET INFO:   Uploads:\n",
      "COMET INFO:     conda-environment-definition : 1\n",
      "COMET INFO:     conda-info                   : 1\n",
      "COMET INFO:     conda-specification          : 1\n",
      "COMET INFO:     confusion-matrix             : 1\n",
      "COMET INFO:     environment details          : 1\n",
      "COMET INFO:     filename                     : 1\n",
      "COMET INFO:     git metadata                 : 1\n",
      "COMET INFO:     git-patch (uncompressed)     : 1 (5.85 MB)\n",
      "COMET INFO:     installed packages           : 1\n",
      "COMET INFO:     notebook                     : 1\n",
      "COMET INFO:     source_code                  : 1\n",
      "COMET INFO: ---------------------------\n",
      "COMET WARNING: As you are running in a Jupyter environment, you will need to call `experiment.end()` when finished to ensure all metrics and code are logged before exiting.\n",
      "COMET INFO: Experiment is live on comet.com https://www.comet.com/milosz-l/hugging-face-text-classification/49c0e53289a8487c9d391c64846aeeb2\n",
      "\n",
      "Saving model checkpoint to ./results/checkpoint-700\n",
      "Configuration saved in ./results/checkpoint-700/config.json\n"
     ]
    },
    {
     "name": "stdout",
     "output_type": "stream",
     "text": [
      "{'eval_loss': 0.913054347038269, 'eval_accuracy': 0.5906040268456376, 'eval_f1': 0.47741268154930383, 'eval_precision': 0.5243582527736815, 'eval_recall': 0.5086914782298011, 'eval_runtime': 316.4948, 'eval_samples_per_second': 5.179, 'eval_steps_per_second': 0.648, 'epoch': 0.38}\n"
     ]
    },
    {
     "name": "stderr",
     "output_type": "stream",
     "text": [
      "Model weights saved in ./results/checkpoint-700/pytorch_model.bin\n",
      "Deleting older checkpoint [results/checkpoint-450] due to args.save_total_limit\n",
      "***** Running Evaluation *****\n",
      "  Num examples = 1639\n",
      "  Batch size = 8\n"
     ]
    },
    {
     "data": {
      "application/vnd.jupyter.widget-view+json": {
       "model_id": "3fd0c47f9539472c9c7a999708f38dd4",
       "version_major": 2,
       "version_minor": 0
      },
      "text/plain": [
       "  0%|          | 0/205 [00:00<?, ?it/s]"
      ]
     },
     "metadata": {},
     "output_type": "display_data"
    },
    {
     "name": "stderr",
     "output_type": "stream",
     "text": [
      "COMET INFO: ---------------------------\n",
      "COMET INFO: Comet.ml Experiment Summary\n",
      "COMET INFO: ---------------------------\n",
      "COMET INFO:   Data:\n",
      "COMET INFO:     display_summary_level : 1\n",
      "COMET INFO:     url                   : https://www.comet.com/milosz-l/hugging-face-text-classification/49c0e53289a8487c9d391c64846aeeb2\n",
      "COMET INFO:   Metrics [count] (min, max):\n",
      "COMET INFO:     eval/accuracy           : 0.5906040268456376\n",
      "COMET INFO:     eval/f1                 : 0.47741268154930383\n",
      "COMET INFO:     eval/loss               : 0.913054347038269\n",
      "COMET INFO:     eval/precision          : 0.5243582527736815\n",
      "COMET INFO:     eval/recall             : 0.5086914782298011\n",
      "COMET INFO:     eval/runtime            : 316.4948\n",
      "COMET INFO:     eval/samples_per_second : 5.179\n",
      "COMET INFO:     eval/steps_per_second   : 0.648\n",
      "COMET INFO:     loss [2]                : (1.1156866550445557, 1.3984386920928955)\n",
      "COMET INFO:     train/epoch             : 0.38\n",
      "COMET INFO:   Uploads:\n",
      "COMET INFO:     conda-environment-definition : 1\n",
      "COMET INFO:     conda-info                   : 1\n",
      "COMET INFO:     conda-specification          : 1\n",
      "COMET INFO:     confusion-matrix             : 1\n",
      "COMET INFO:     environment details          : 1\n",
      "COMET INFO:     filename                     : 1\n",
      "COMET INFO:     git metadata                 : 1\n",
      "COMET INFO:     git-patch (uncompressed)     : 1 (5.85 MB)\n",
      "COMET INFO:     installed packages           : 1\n",
      "COMET INFO:     notebook                     : 1\n",
      "COMET INFO:     source_code                  : 1\n",
      "COMET INFO: ---------------------------\n",
      "COMET WARNING: As you are running in a Jupyter environment, you will need to call `experiment.end()` when finished to ensure all metrics and code are logged before exiting.\n",
      "COMET INFO: Experiment is live on comet.com https://www.comet.com/milosz-l/hugging-face-text-classification/0cdbb704720b4e06a5312549ab3d66e4\n",
      "\n",
      "Saving model checkpoint to ./results/checkpoint-725\n",
      "Configuration saved in ./results/checkpoint-725/config.json\n"
     ]
    },
    {
     "name": "stdout",
     "output_type": "stream",
     "text": [
      "{'eval_loss': 0.8815706372261047, 'eval_accuracy': 0.6174496644295302, 'eval_f1': 0.5357398205240578, 'eval_precision': 0.5873133757929923, 'eval_recall': 0.5219454589807495, 'eval_runtime': 316.8463, 'eval_samples_per_second': 5.173, 'eval_steps_per_second': 0.647, 'epoch': 0.39}\n"
     ]
    },
    {
     "name": "stderr",
     "output_type": "stream",
     "text": [
      "Model weights saved in ./results/checkpoint-725/pytorch_model.bin\n",
      "Deleting older checkpoint [results/checkpoint-475] due to args.save_total_limit\n",
      "***** Running Evaluation *****\n",
      "  Num examples = 1639\n",
      "  Batch size = 8\n"
     ]
    },
    {
     "data": {
      "application/vnd.jupyter.widget-view+json": {
       "model_id": "dbbdb8d19daf4c4bae1936ca62390ea2",
       "version_major": 2,
       "version_minor": 0
      },
      "text/plain": [
       "  0%|          | 0/205 [00:00<?, ?it/s]"
      ]
     },
     "metadata": {},
     "output_type": "display_data"
    },
    {
     "name": "stderr",
     "output_type": "stream",
     "text": [
      "COMET INFO: ---------------------------\n",
      "COMET INFO: Comet.ml Experiment Summary\n",
      "COMET INFO: ---------------------------\n",
      "COMET INFO:   Data:\n",
      "COMET INFO:     display_summary_level : 1\n",
      "COMET INFO:     url                   : https://www.comet.com/milosz-l/hugging-face-text-classification/0cdbb704720b4e06a5312549ab3d66e4\n",
      "COMET INFO:   Metrics [count] (min, max):\n",
      "COMET INFO:     eval/accuracy           : 0.6174496644295302\n",
      "COMET INFO:     eval/f1                 : 0.5357398205240578\n",
      "COMET INFO:     eval/loss               : 0.8815706372261047\n",
      "COMET INFO:     eval/precision          : 0.5873133757929923\n",
      "COMET INFO:     eval/recall             : 0.5219454589807495\n",
      "COMET INFO:     eval/runtime            : 316.8463\n",
      "COMET INFO:     eval/samples_per_second : 5.173\n",
      "COMET INFO:     eval/steps_per_second   : 0.647\n",
      "COMET INFO:     loss [3]                : (0.7808475494384766, 2.7055389881134033)\n",
      "COMET INFO:     train/epoch             : 0.39\n",
      "COMET INFO:   Uploads:\n",
      "COMET INFO:     conda-environment-definition : 1\n",
      "COMET INFO:     conda-info                   : 1\n",
      "COMET INFO:     conda-specification          : 1\n",
      "COMET INFO:     confusion-matrix             : 1\n",
      "COMET INFO:     environment details          : 1\n",
      "COMET INFO:     filename                     : 1\n",
      "COMET INFO:     git metadata                 : 1\n",
      "COMET INFO:     git-patch (uncompressed)     : 1 (5.85 MB)\n",
      "COMET INFO:     installed packages           : 1\n",
      "COMET INFO:     notebook                     : 1\n",
      "COMET INFO:     source_code                  : 1\n",
      "COMET INFO: ---------------------------\n",
      "COMET WARNING: As you are running in a Jupyter environment, you will need to call `experiment.end()` when finished to ensure all metrics and code are logged before exiting.\n",
      "COMET INFO: Experiment is live on comet.com https://www.comet.com/milosz-l/hugging-face-text-classification/5a52a04f688d41d79f08102b792915cb\n",
      "\n",
      "Saving model checkpoint to ./results/checkpoint-750\n",
      "Configuration saved in ./results/checkpoint-750/config.json\n"
     ]
    },
    {
     "name": "stdout",
     "output_type": "stream",
     "text": [
      "{'eval_loss': 0.8884820938110352, 'eval_accuracy': 0.6119585112873703, 'eval_f1': 0.5413459406248264, 'eval_precision': 0.5808475606406132, 'eval_recall': 0.5449356595826746, 'eval_runtime': 317.0555, 'eval_samples_per_second': 5.169, 'eval_steps_per_second': 0.647, 'epoch': 0.41}\n"
     ]
    },
    {
     "name": "stderr",
     "output_type": "stream",
     "text": [
      "Model weights saved in ./results/checkpoint-750/pytorch_model.bin\n",
      "Deleting older checkpoint [results/checkpoint-500] due to args.save_total_limit\n",
      "***** Running Evaluation *****\n",
      "  Num examples = 1639\n",
      "  Batch size = 8\n"
     ]
    },
    {
     "data": {
      "application/vnd.jupyter.widget-view+json": {
       "model_id": "04ee3e5536d449158978c4ff46673aa0",
       "version_major": 2,
       "version_minor": 0
      },
      "text/plain": [
       "  0%|          | 0/205 [00:00<?, ?it/s]"
      ]
     },
     "metadata": {},
     "output_type": "display_data"
    },
    {
     "name": "stderr",
     "output_type": "stream",
     "text": [
      "COMET INFO: ---------------------------\n",
      "COMET INFO: Comet.ml Experiment Summary\n",
      "COMET INFO: ---------------------------\n",
      "COMET INFO:   Data:\n",
      "COMET INFO:     display_summary_level : 1\n",
      "COMET INFO:     url                   : https://www.comet.com/milosz-l/hugging-face-text-classification/5a52a04f688d41d79f08102b792915cb\n",
      "COMET INFO:   Metrics [count] (min, max):\n",
      "COMET INFO:     eval/accuracy           : 0.6119585112873703\n",
      "COMET INFO:     eval/f1                 : 0.5413459406248264\n",
      "COMET INFO:     eval/loss               : 0.8884820938110352\n",
      "COMET INFO:     eval/precision          : 0.5808475606406132\n",
      "COMET INFO:     eval/recall             : 0.5449356595826746\n",
      "COMET INFO:     eval/runtime            : 317.0555\n",
      "COMET INFO:     eval/samples_per_second : 5.169\n",
      "COMET INFO:     eval/steps_per_second   : 0.647\n",
      "COMET INFO:     loss [2]                : (0.5054714679718018, 1.071027159690857)\n",
      "COMET INFO:     train/epoch             : 0.41\n",
      "COMET INFO:   Uploads:\n",
      "COMET INFO:     conda-environment-definition : 1\n",
      "COMET INFO:     conda-info                   : 1\n",
      "COMET INFO:     conda-specification          : 1\n",
      "COMET INFO:     confusion-matrix             : 1\n",
      "COMET INFO:     environment details          : 1\n",
      "COMET INFO:     filename                     : 1\n",
      "COMET INFO:     git metadata                 : 1\n",
      "COMET INFO:     git-patch (uncompressed)     : 1 (5.85 MB)\n",
      "COMET INFO:     installed packages           : 1\n",
      "COMET INFO:     notebook                     : 1\n",
      "COMET INFO:     source_code                  : 1\n",
      "COMET INFO: ---------------------------\n",
      "COMET WARNING: As you are running in a Jupyter environment, you will need to call `experiment.end()` when finished to ensure all metrics and code are logged before exiting.\n",
      "COMET INFO: Experiment is live on comet.com https://www.comet.com/milosz-l/hugging-face-text-classification/2cce0743842644588e8167dc49c49ba0\n",
      "\n",
      "Saving model checkpoint to ./results/checkpoint-775\n",
      "Configuration saved in ./results/checkpoint-775/config.json\n"
     ]
    },
    {
     "name": "stdout",
     "output_type": "stream",
     "text": [
      "{'eval_loss': 0.8733799457550049, 'eval_accuracy': 0.6131787675411836, 'eval_f1': 0.5361767726158491, 'eval_precision': 0.6179421053329972, 'eval_recall': 0.5038019156497971, 'eval_runtime': 318.8775, 'eval_samples_per_second': 5.14, 'eval_steps_per_second': 0.643, 'epoch': 0.42}\n"
     ]
    },
    {
     "name": "stderr",
     "output_type": "stream",
     "text": [
      "Model weights saved in ./results/checkpoint-775/pytorch_model.bin\n",
      "Deleting older checkpoint [results/checkpoint-525] due to args.save_total_limit\n",
      "***** Running Evaluation *****\n",
      "  Num examples = 1639\n",
      "  Batch size = 8\n"
     ]
    },
    {
     "data": {
      "application/vnd.jupyter.widget-view+json": {
       "model_id": "897f5c439f2c4f009c669456861cb6aa",
       "version_major": 2,
       "version_minor": 0
      },
      "text/plain": [
       "  0%|          | 0/205 [00:00<?, ?it/s]"
      ]
     },
     "metadata": {},
     "output_type": "display_data"
    },
    {
     "name": "stderr",
     "output_type": "stream",
     "text": [
      "COMET INFO: ---------------------------\n",
      "COMET INFO: Comet.ml Experiment Summary\n",
      "COMET INFO: ---------------------------\n",
      "COMET INFO:   Data:\n",
      "COMET INFO:     display_summary_level : 1\n",
      "COMET INFO:     url                   : https://www.comet.com/milosz-l/hugging-face-text-classification/2cce0743842644588e8167dc49c49ba0\n",
      "COMET INFO:   Metrics [count] (min, max):\n",
      "COMET INFO:     eval/accuracy           : 0.6131787675411836\n",
      "COMET INFO:     eval/f1                 : 0.5361767726158491\n",
      "COMET INFO:     eval/loss               : 0.8733799457550049\n",
      "COMET INFO:     eval/precision          : 0.6179421053329972\n",
      "COMET INFO:     eval/recall             : 0.5038019156497971\n",
      "COMET INFO:     eval/runtime            : 318.8775\n",
      "COMET INFO:     eval/samples_per_second : 5.14\n",
      "COMET INFO:     eval/steps_per_second   : 0.643\n",
      "COMET INFO:     loss [3]                : (0.7911630868911743, 1.4221043586730957)\n",
      "COMET INFO:     train/epoch             : 0.42\n",
      "COMET INFO:   Uploads:\n",
      "COMET INFO:     conda-environment-definition : 1\n",
      "COMET INFO:     conda-info                   : 1\n",
      "COMET INFO:     conda-specification          : 1\n",
      "COMET INFO:     confusion-matrix             : 1\n",
      "COMET INFO:     environment details          : 1\n",
      "COMET INFO:     filename                     : 1\n",
      "COMET INFO:     git metadata                 : 1\n",
      "COMET INFO:     git-patch (uncompressed)     : 1 (5.85 MB)\n",
      "COMET INFO:     installed packages           : 1\n",
      "COMET INFO:     notebook                     : 1\n",
      "COMET INFO:     source_code                  : 1\n",
      "COMET INFO: ---------------------------\n",
      "COMET WARNING: As you are running in a Jupyter environment, you will need to call `experiment.end()` when finished to ensure all metrics and code are logged before exiting.\n",
      "COMET INFO: Experiment is live on comet.com https://www.comet.com/milosz-l/hugging-face-text-classification/3ef6e28302044b1cbda9c01e649e2a9b\n",
      "\n",
      "Saving model checkpoint to ./results/checkpoint-800\n",
      "Configuration saved in ./results/checkpoint-800/config.json\n"
     ]
    },
    {
     "name": "stdout",
     "output_type": "stream",
     "text": [
      "{'eval_loss': 0.942013680934906, 'eval_accuracy': 0.5790115924344112, 'eval_f1': 0.5229521982245604, 'eval_precision': 0.5073764749670977, 'eval_recall': 0.5536092185283535, 'eval_runtime': 317.5644, 'eval_samples_per_second': 5.161, 'eval_steps_per_second': 0.646, 'epoch': 0.43}\n"
     ]
    },
    {
     "name": "stderr",
     "output_type": "stream",
     "text": [
      "Model weights saved in ./results/checkpoint-800/pytorch_model.bin\n",
      "Deleting older checkpoint [results/checkpoint-550] due to args.save_total_limit\n",
      "***** Running Evaluation *****\n",
      "  Num examples = 1639\n",
      "  Batch size = 8\n"
     ]
    },
    {
     "data": {
      "application/vnd.jupyter.widget-view+json": {
       "model_id": "b884485cc0d3467b8d3a4e99e38a808f",
       "version_major": 2,
       "version_minor": 0
      },
      "text/plain": [
       "  0%|          | 0/205 [00:00<?, ?it/s]"
      ]
     },
     "metadata": {},
     "output_type": "display_data"
    },
    {
     "name": "stderr",
     "output_type": "stream",
     "text": [
      "COMET INFO: ---------------------------\n",
      "COMET INFO: Comet.ml Experiment Summary\n",
      "COMET INFO: ---------------------------\n",
      "COMET INFO:   Data:\n",
      "COMET INFO:     display_summary_level : 1\n",
      "COMET INFO:     url                   : https://www.comet.com/milosz-l/hugging-face-text-classification/3ef6e28302044b1cbda9c01e649e2a9b\n",
      "COMET INFO:   Metrics [count] (min, max):\n",
      "COMET INFO:     eval/accuracy           : 0.5790115924344112\n",
      "COMET INFO:     eval/f1                 : 0.5229521982245604\n",
      "COMET INFO:     eval/loss               : 0.942013680934906\n",
      "COMET INFO:     eval/precision          : 0.5073764749670977\n",
      "COMET INFO:     eval/recall             : 0.5536092185283535\n",
      "COMET INFO:     eval/runtime            : 317.5644\n",
      "COMET INFO:     eval/samples_per_second : 5.161\n",
      "COMET INFO:     eval/steps_per_second   : 0.646\n",
      "COMET INFO:     loss [2]                : (0.5749370455741882, 1.4419249296188354)\n",
      "COMET INFO:     train/epoch             : 0.43\n",
      "COMET INFO:   Uploads:\n",
      "COMET INFO:     conda-environment-definition : 1\n",
      "COMET INFO:     conda-info                   : 1\n",
      "COMET INFO:     conda-specification          : 1\n",
      "COMET INFO:     confusion-matrix             : 1\n",
      "COMET INFO:     environment details          : 1\n",
      "COMET INFO:     filename                     : 1\n",
      "COMET INFO:     git metadata                 : 1\n",
      "COMET INFO:     git-patch (uncompressed)     : 1 (5.85 MB)\n",
      "COMET INFO:     installed packages           : 1\n",
      "COMET INFO:     notebook                     : 1\n",
      "COMET INFO:     source_code                  : 1\n",
      "COMET INFO: ---------------------------\n",
      "COMET WARNING: As you are running in a Jupyter environment, you will need to call `experiment.end()` when finished to ensure all metrics and code are logged before exiting.\n",
      "COMET INFO: Experiment is live on comet.com https://www.comet.com/milosz-l/hugging-face-text-classification/87cd2e5b6a964f05844d6a470ef1e151\n",
      "\n",
      "Saving model checkpoint to ./results/checkpoint-825\n",
      "Configuration saved in ./results/checkpoint-825/config.json\n"
     ]
    },
    {
     "name": "stdout",
     "output_type": "stream",
     "text": [
      "{'eval_loss': 0.8846182823181152, 'eval_accuracy': 0.6137888956680903, 'eval_f1': 0.5513110591317776, 'eval_precision': 0.5609517091645723, 'eval_recall': 0.5742994153709237, 'eval_runtime': 318.0533, 'eval_samples_per_second': 5.153, 'eval_steps_per_second': 0.645, 'epoch': 0.45}\n"
     ]
    },
    {
     "name": "stderr",
     "output_type": "stream",
     "text": [
      "Model weights saved in ./results/checkpoint-825/pytorch_model.bin\n",
      "Deleting older checkpoint [results/checkpoint-575] due to args.save_total_limit\n",
      "***** Running Evaluation *****\n",
      "  Num examples = 1639\n",
      "  Batch size = 8\n"
     ]
    },
    {
     "data": {
      "application/vnd.jupyter.widget-view+json": {
       "model_id": "0fc9ff47891744098a181832d6855e2a",
       "version_major": 2,
       "version_minor": 0
      },
      "text/plain": [
       "  0%|          | 0/205 [00:00<?, ?it/s]"
      ]
     },
     "metadata": {},
     "output_type": "display_data"
    },
    {
     "name": "stderr",
     "output_type": "stream",
     "text": [
      "COMET INFO: ---------------------------\n",
      "COMET INFO: Comet.ml Experiment Summary\n",
      "COMET INFO: ---------------------------\n",
      "COMET INFO:   Data:\n",
      "COMET INFO:     display_summary_level : 1\n",
      "COMET INFO:     url                   : https://www.comet.com/milosz-l/hugging-face-text-classification/87cd2e5b6a964f05844d6a470ef1e151\n",
      "COMET INFO:   Metrics [count] (min, max):\n",
      "COMET INFO:     eval/accuracy           : 0.6137888956680903\n",
      "COMET INFO:     eval/f1                 : 0.5513110591317776\n",
      "COMET INFO:     eval/loss               : 0.8846182823181152\n",
      "COMET INFO:     eval/precision          : 0.5609517091645723\n",
      "COMET INFO:     eval/recall             : 0.5742994153709237\n",
      "COMET INFO:     eval/runtime            : 318.0533\n",
      "COMET INFO:     eval/samples_per_second : 5.153\n",
      "COMET INFO:     eval/steps_per_second   : 0.645\n",
      "COMET INFO:     loss [3]                : (0.5628387331962585, 1.2406301498413086)\n",
      "COMET INFO:     train/epoch             : 0.45\n",
      "COMET INFO:   Uploads:\n",
      "COMET INFO:     conda-environment-definition : 1\n",
      "COMET INFO:     conda-info                   : 1\n",
      "COMET INFO:     conda-specification          : 1\n",
      "COMET INFO:     confusion-matrix             : 1\n",
      "COMET INFO:     environment details          : 1\n",
      "COMET INFO:     filename                     : 1\n",
      "COMET INFO:     git metadata                 : 1\n",
      "COMET INFO:     git-patch (uncompressed)     : 1 (5.85 MB)\n",
      "COMET INFO:     installed packages           : 1\n",
      "COMET INFO:     notebook                     : 1\n",
      "COMET INFO:     source_code                  : 1\n",
      "COMET INFO: ---------------------------\n",
      "COMET WARNING: As you are running in a Jupyter environment, you will need to call `experiment.end()` when finished to ensure all metrics and code are logged before exiting.\n",
      "COMET INFO: Experiment is live on comet.com https://www.comet.com/milosz-l/hugging-face-text-classification/e39baf9c72b84977ac4f0ca6a141e0f6\n",
      "\n",
      "Saving model checkpoint to ./results/checkpoint-850\n",
      "Configuration saved in ./results/checkpoint-850/config.json\n"
     ]
    },
    {
     "name": "stdout",
     "output_type": "stream",
     "text": [
      "{'eval_loss': 0.8982399702072144, 'eval_accuracy': 0.5954850518608907, 'eval_f1': 0.5171144871726973, 'eval_precision': 0.5874086919660868, 'eval_recall': 0.4954167394520626, 'eval_runtime': 317.3847, 'eval_samples_per_second': 5.164, 'eval_steps_per_second': 0.646, 'epoch': 0.46}\n"
     ]
    },
    {
     "name": "stderr",
     "output_type": "stream",
     "text": [
      "Model weights saved in ./results/checkpoint-850/pytorch_model.bin\n",
      "Deleting older checkpoint [results/checkpoint-600] due to args.save_total_limit\n",
      "***** Running Evaluation *****\n",
      "  Num examples = 1639\n",
      "  Batch size = 8\n"
     ]
    },
    {
     "data": {
      "application/vnd.jupyter.widget-view+json": {
       "model_id": "46aa06c2eaf142969e05e1fb99e3469f",
       "version_major": 2,
       "version_minor": 0
      },
      "text/plain": [
       "  0%|          | 0/205 [00:00<?, ?it/s]"
      ]
     },
     "metadata": {},
     "output_type": "display_data"
    },
    {
     "name": "stderr",
     "output_type": "stream",
     "text": [
      "COMET INFO: ---------------------------\n",
      "COMET INFO: Comet.ml Experiment Summary\n",
      "COMET INFO: ---------------------------\n",
      "COMET INFO:   Data:\n",
      "COMET INFO:     display_summary_level : 1\n",
      "COMET INFO:     url                   : https://www.comet.com/milosz-l/hugging-face-text-classification/e39baf9c72b84977ac4f0ca6a141e0f6\n",
      "COMET INFO:   Metrics [count] (min, max):\n",
      "COMET INFO:     eval/accuracy           : 0.5954850518608907\n",
      "COMET INFO:     eval/f1                 : 0.5171144871726973\n",
      "COMET INFO:     eval/loss               : 0.8982399702072144\n",
      "COMET INFO:     eval/precision          : 0.5874086919660868\n",
      "COMET INFO:     eval/recall             : 0.4954167394520626\n",
      "COMET INFO:     eval/runtime            : 317.3847\n",
      "COMET INFO:     eval/samples_per_second : 5.164\n",
      "COMET INFO:     eval/steps_per_second   : 0.646\n",
      "COMET INFO:     loss [2]                : (0.6861478090286255, 0.8014196157455444)\n",
      "COMET INFO:     train/epoch             : 0.46\n",
      "COMET INFO:   Uploads:\n",
      "COMET INFO:     conda-environment-definition : 1\n",
      "COMET INFO:     conda-info                   : 1\n",
      "COMET INFO:     conda-specification          : 1\n",
      "COMET INFO:     confusion-matrix             : 1\n",
      "COMET INFO:     environment details          : 1\n",
      "COMET INFO:     filename                     : 1\n",
      "COMET INFO:     git metadata                 : 1\n",
      "COMET INFO:     git-patch (uncompressed)     : 1 (5.85 MB)\n",
      "COMET INFO:     installed packages           : 1\n",
      "COMET INFO:     notebook                     : 1\n",
      "COMET INFO:     source_code                  : 1\n",
      "COMET INFO: ---------------------------\n",
      "COMET WARNING: As you are running in a Jupyter environment, you will need to call `experiment.end()` when finished to ensure all metrics and code are logged before exiting.\n",
      "COMET INFO: Experiment is live on comet.com https://www.comet.com/milosz-l/hugging-face-text-classification/e24aa089d5664996944e442f70a158c3\n",
      "\n",
      "Saving model checkpoint to ./results/checkpoint-875\n",
      "Configuration saved in ./results/checkpoint-875/config.json\n"
     ]
    },
    {
     "name": "stdout",
     "output_type": "stream",
     "text": [
      "{'eval_loss': 0.8285145163536072, 'eval_accuracy': 0.6381940207443563, 'eval_f1': 0.581642987445143, 'eval_precision': 0.6065768469768257, 'eval_recall': 0.5756610890331844, 'eval_runtime': 316.5918, 'eval_samples_per_second': 5.177, 'eval_steps_per_second': 0.648, 'epoch': 0.47}\n"
     ]
    },
    {
     "name": "stderr",
     "output_type": "stream",
     "text": [
      "Model weights saved in ./results/checkpoint-875/pytorch_model.bin\n",
      "Deleting older checkpoint [results/checkpoint-625] due to args.save_total_limit\n",
      "***** Running Evaluation *****\n",
      "  Num examples = 1639\n",
      "  Batch size = 8\n"
     ]
    },
    {
     "data": {
      "application/vnd.jupyter.widget-view+json": {
       "model_id": "774c4886f887426f844c2f74937fb46d",
       "version_major": 2,
       "version_minor": 0
      },
      "text/plain": [
       "  0%|          | 0/205 [00:00<?, ?it/s]"
      ]
     },
     "metadata": {},
     "output_type": "display_data"
    },
    {
     "name": "stderr",
     "output_type": "stream",
     "text": [
      "COMET INFO: ---------------------------\n",
      "COMET INFO: Comet.ml Experiment Summary\n",
      "COMET INFO: ---------------------------\n",
      "COMET INFO:   Data:\n",
      "COMET INFO:     display_summary_level : 1\n",
      "COMET INFO:     url                   : https://www.comet.com/milosz-l/hugging-face-text-classification/e24aa089d5664996944e442f70a158c3\n",
      "COMET INFO:   Metrics [count] (min, max):\n",
      "COMET INFO:     eval/accuracy           : 0.6381940207443563\n",
      "COMET INFO:     eval/f1                 : 0.581642987445143\n",
      "COMET INFO:     eval/loss               : 0.8285145163536072\n",
      "COMET INFO:     eval/precision          : 0.6065768469768257\n",
      "COMET INFO:     eval/recall             : 0.5756610890331844\n",
      "COMET INFO:     eval/runtime            : 316.5918\n",
      "COMET INFO:     eval/samples_per_second : 5.177\n",
      "COMET INFO:     eval/steps_per_second   : 0.648\n",
      "COMET INFO:     loss [3]                : (0.7352902889251709, 1.106990098953247)\n",
      "COMET INFO:     train/epoch             : 0.47\n",
      "COMET INFO:   Uploads:\n",
      "COMET INFO:     conda-environment-definition : 1\n",
      "COMET INFO:     conda-info                   : 1\n",
      "COMET INFO:     conda-specification          : 1\n",
      "COMET INFO:     confusion-matrix             : 1\n",
      "COMET INFO:     environment details          : 1\n",
      "COMET INFO:     filename                     : 1\n",
      "COMET INFO:     git metadata                 : 1\n",
      "COMET INFO:     git-patch (uncompressed)     : 1 (5.85 MB)\n",
      "COMET INFO:     installed packages           : 1\n",
      "COMET INFO:     notebook                     : 1\n",
      "COMET INFO:     source_code                  : 1\n",
      "COMET INFO: ---------------------------\n",
      "COMET WARNING: As you are running in a Jupyter environment, you will need to call `experiment.end()` when finished to ensure all metrics and code are logged before exiting.\n",
      "COMET INFO: Experiment is live on comet.com https://www.comet.com/milosz-l/hugging-face-text-classification/883ca21724734ebea86776fbeae824b5\n",
      "\n",
      "Saving model checkpoint to ./results/checkpoint-900\n",
      "Configuration saved in ./results/checkpoint-900/config.json\n"
     ]
    },
    {
     "name": "stdout",
     "output_type": "stream",
     "text": [
      "{'eval_loss': 0.9045644998550415, 'eval_accuracy': 0.6101281269066504, 'eval_f1': 0.49196168382715955, 'eval_precision': 0.5604612209502883, 'eval_recall': 0.5013895235691611, 'eval_runtime': 317.07, 'eval_samples_per_second': 5.169, 'eval_steps_per_second': 0.647, 'epoch': 0.49}\n"
     ]
    },
    {
     "name": "stderr",
     "output_type": "stream",
     "text": [
      "Model weights saved in ./results/checkpoint-900/pytorch_model.bin\n",
      "Deleting older checkpoint [results/checkpoint-650] due to args.save_total_limit\n",
      "***** Running Evaluation *****\n",
      "  Num examples = 1639\n",
      "  Batch size = 8\n"
     ]
    },
    {
     "data": {
      "application/vnd.jupyter.widget-view+json": {
       "model_id": "bb5062610c434ae595d9fec439a8df09",
       "version_major": 2,
       "version_minor": 0
      },
      "text/plain": [
       "  0%|          | 0/205 [00:00<?, ?it/s]"
      ]
     },
     "metadata": {},
     "output_type": "display_data"
    },
    {
     "name": "stderr",
     "output_type": "stream",
     "text": [
      "COMET INFO: ---------------------------\n",
      "COMET INFO: Comet.ml Experiment Summary\n",
      "COMET INFO: ---------------------------\n",
      "COMET INFO:   Data:\n",
      "COMET INFO:     display_summary_level : 1\n",
      "COMET INFO:     url                   : https://www.comet.com/milosz-l/hugging-face-text-classification/883ca21724734ebea86776fbeae824b5\n",
      "COMET INFO:   Metrics [count] (min, max):\n",
      "COMET INFO:     eval/accuracy           : 0.6101281269066504\n",
      "COMET INFO:     eval/f1                 : 0.49196168382715955\n",
      "COMET INFO:     eval/loss               : 0.9045644998550415\n",
      "COMET INFO:     eval/precision          : 0.5604612209502883\n",
      "COMET INFO:     eval/recall             : 0.5013895235691611\n",
      "COMET INFO:     eval/runtime            : 317.07\n",
      "COMET INFO:     eval/samples_per_second : 5.169\n",
      "COMET INFO:     eval/steps_per_second   : 0.647\n",
      "COMET INFO:     loss [2]                : (1.1524813175201416, 1.3536252975463867)\n",
      "COMET INFO:     train/epoch             : 0.49\n",
      "COMET INFO:   Uploads:\n",
      "COMET INFO:     conda-environment-definition : 1\n",
      "COMET INFO:     conda-info                   : 1\n",
      "COMET INFO:     conda-specification          : 1\n",
      "COMET INFO:     confusion-matrix             : 1\n",
      "COMET INFO:     environment details          : 1\n",
      "COMET INFO:     filename                     : 1\n",
      "COMET INFO:     git metadata                 : 1\n",
      "COMET INFO:     git-patch (uncompressed)     : 1 (5.85 MB)\n",
      "COMET INFO:     installed packages           : 1\n",
      "COMET INFO:     notebook                     : 1\n",
      "COMET INFO:     source_code                  : 1\n",
      "COMET INFO: ---------------------------\n",
      "COMET WARNING: As you are running in a Jupyter environment, you will need to call `experiment.end()` when finished to ensure all metrics and code are logged before exiting.\n",
      "COMET INFO: Experiment is live on comet.com https://www.comet.com/milosz-l/hugging-face-text-classification/64b7e0ba501c4beb893b07fbc065da4d\n",
      "\n",
      "Saving model checkpoint to ./results/checkpoint-925\n",
      "Configuration saved in ./results/checkpoint-925/config.json\n"
     ]
    },
    {
     "name": "stdout",
     "output_type": "stream",
     "text": [
      "{'eval_loss': 0.8801046013832092, 'eval_accuracy': 0.6223306894447834, 'eval_f1': 0.570122832915573, 'eval_precision': 0.5742846286320912, 'eval_recall': 0.5854938393971498, 'eval_runtime': 317.4327, 'eval_samples_per_second': 5.163, 'eval_steps_per_second': 0.646, 'epoch': 0.5}\n"
     ]
    },
    {
     "name": "stderr",
     "output_type": "stream",
     "text": [
      "Model weights saved in ./results/checkpoint-925/pytorch_model.bin\n",
      "Deleting older checkpoint [results/checkpoint-675] due to args.save_total_limit\n",
      "***** Running Evaluation *****\n",
      "  Num examples = 1639\n",
      "  Batch size = 8\n"
     ]
    },
    {
     "data": {
      "application/vnd.jupyter.widget-view+json": {
       "model_id": "1d7ff6504dd6448ab73794ef8815e151",
       "version_major": 2,
       "version_minor": 0
      },
      "text/plain": [
       "  0%|          | 0/205 [00:00<?, ?it/s]"
      ]
     },
     "metadata": {},
     "output_type": "display_data"
    },
    {
     "name": "stderr",
     "output_type": "stream",
     "text": [
      "COMET INFO: ---------------------------\n",
      "COMET INFO: Comet.ml Experiment Summary\n",
      "COMET INFO: ---------------------------\n",
      "COMET INFO:   Data:\n",
      "COMET INFO:     display_summary_level : 1\n",
      "COMET INFO:     url                   : https://www.comet.com/milosz-l/hugging-face-text-classification/64b7e0ba501c4beb893b07fbc065da4d\n",
      "COMET INFO:   Metrics [count] (min, max):\n",
      "COMET INFO:     eval/accuracy           : 0.6223306894447834\n",
      "COMET INFO:     eval/f1                 : 0.570122832915573\n",
      "COMET INFO:     eval/loss               : 0.8801046013832092\n",
      "COMET INFO:     eval/precision          : 0.5742846286320912\n",
      "COMET INFO:     eval/recall             : 0.5854938393971498\n",
      "COMET INFO:     eval/runtime            : 317.4327\n",
      "COMET INFO:     eval/samples_per_second : 5.163\n",
      "COMET INFO:     eval/steps_per_second   : 0.646\n",
      "COMET INFO:     loss [3]                : (0.7824029326438904, 1.337597131729126)\n",
      "COMET INFO:     train/epoch             : 0.5\n",
      "COMET INFO:   Uploads:\n",
      "COMET INFO:     conda-environment-definition : 1\n",
      "COMET INFO:     conda-info                   : 1\n",
      "COMET INFO:     conda-specification          : 1\n",
      "COMET INFO:     confusion-matrix             : 1\n",
      "COMET INFO:     environment details          : 1\n",
      "COMET INFO:     filename                     : 1\n",
      "COMET INFO:     git metadata                 : 1\n",
      "COMET INFO:     git-patch (uncompressed)     : 1 (5.85 MB)\n",
      "COMET INFO:     installed packages           : 1\n",
      "COMET INFO:     notebook                     : 1\n",
      "COMET INFO:     source_code                  : 1\n",
      "COMET INFO: ---------------------------\n",
      "COMET WARNING: As you are running in a Jupyter environment, you will need to call `experiment.end()` when finished to ensure all metrics and code are logged before exiting.\n",
      "COMET INFO: Experiment is live on comet.com https://www.comet.com/milosz-l/hugging-face-text-classification/fa42ec2cb9f34656b038f1b47d263f1c\n",
      "\n",
      "Saving model checkpoint to ./results/checkpoint-950\n",
      "Configuration saved in ./results/checkpoint-950/config.json\n"
     ]
    },
    {
     "name": "stdout",
     "output_type": "stream",
     "text": [
      "{'eval_loss': 0.8400311470031738, 'eval_accuracy': 0.612568639414277, 'eval_f1': 0.5775608405440906, 'eval_precision': 0.5921380025249843, 'eval_recall': 0.58023572561316, 'eval_runtime': 319.2399, 'eval_samples_per_second': 5.134, 'eval_steps_per_second': 0.642, 'epoch': 0.51}\n"
     ]
    },
    {
     "name": "stderr",
     "output_type": "stream",
     "text": [
      "Model weights saved in ./results/checkpoint-950/pytorch_model.bin\n",
      "Deleting older checkpoint [results/checkpoint-700] due to args.save_total_limit\n",
      "***** Running Evaluation *****\n",
      "  Num examples = 1639\n",
      "  Batch size = 8\n"
     ]
    },
    {
     "data": {
      "application/vnd.jupyter.widget-view+json": {
       "model_id": "157c21917e8d4d5a90df8c0a34f85427",
       "version_major": 2,
       "version_minor": 0
      },
      "text/plain": [
       "  0%|          | 0/205 [00:00<?, ?it/s]"
      ]
     },
     "metadata": {},
     "output_type": "display_data"
    },
    {
     "name": "stderr",
     "output_type": "stream",
     "text": [
      "COMET INFO: ---------------------------\n",
      "COMET INFO: Comet.ml Experiment Summary\n",
      "COMET INFO: ---------------------------\n",
      "COMET INFO:   Data:\n",
      "COMET INFO:     display_summary_level : 1\n",
      "COMET INFO:     url                   : https://www.comet.com/milosz-l/hugging-face-text-classification/fa42ec2cb9f34656b038f1b47d263f1c\n",
      "COMET INFO:   Metrics [count] (min, max):\n",
      "COMET INFO:     eval/accuracy           : 0.612568639414277\n",
      "COMET INFO:     eval/f1                 : 0.5775608405440906\n",
      "COMET INFO:     eval/loss               : 0.8400311470031738\n",
      "COMET INFO:     eval/precision          : 0.5921380025249843\n",
      "COMET INFO:     eval/recall             : 0.58023572561316\n",
      "COMET INFO:     eval/runtime            : 319.2399\n",
      "COMET INFO:     eval/samples_per_second : 5.134\n",
      "COMET INFO:     eval/steps_per_second   : 0.642\n",
      "COMET INFO:     loss [2]                : (0.8567377328872681, 0.8950625658035278)\n",
      "COMET INFO:     train/epoch             : 0.51\n",
      "COMET INFO:   Uploads:\n",
      "COMET INFO:     conda-environment-definition : 1\n",
      "COMET INFO:     conda-info                   : 1\n",
      "COMET INFO:     conda-specification          : 1\n",
      "COMET INFO:     confusion-matrix             : 1\n",
      "COMET INFO:     environment details          : 1\n",
      "COMET INFO:     filename                     : 1\n",
      "COMET INFO:     git metadata                 : 1\n",
      "COMET INFO:     git-patch (uncompressed)     : 1 (5.85 MB)\n",
      "COMET INFO:     installed packages           : 1\n",
      "COMET INFO:     notebook                     : 1\n",
      "COMET INFO:     source_code                  : 1\n",
      "COMET INFO: ---------------------------\n",
      "COMET WARNING: As you are running in a Jupyter environment, you will need to call `experiment.end()` when finished to ensure all metrics and code are logged before exiting.\n",
      "COMET INFO: Experiment is live on comet.com https://www.comet.com/milosz-l/hugging-face-text-classification/c798e5f0de884f8c857b1abf957a71d0\n",
      "\n",
      "/Users/milosz/opt/miniconda3/envs/pt/lib/python3.9/site-packages/sklearn/metrics/_classification.py:1334: UndefinedMetricWarning: Precision and F-score are ill-defined and being set to 0.0 in labels with no predicted samples. Use `zero_division` parameter to control this behavior.\n",
      "  _warn_prf(average, modifier, msg_start, len(result))\n",
      "Saving model checkpoint to ./results/checkpoint-975\n",
      "Configuration saved in ./results/checkpoint-975/config.json\n"
     ]
    },
    {
     "name": "stdout",
     "output_type": "stream",
     "text": [
      "{'eval_loss': 0.9570465087890625, 'eval_accuracy': 0.588163514338011, 'eval_f1': 0.47253463627802506, 'eval_precision': 0.5201319853844761, 'eval_recall': 0.4739610804280964, 'eval_runtime': 317.8728, 'eval_samples_per_second': 5.156, 'eval_steps_per_second': 0.645, 'epoch': 0.53}\n"
     ]
    },
    {
     "name": "stderr",
     "output_type": "stream",
     "text": [
      "Model weights saved in ./results/checkpoint-975/pytorch_model.bin\n",
      "Deleting older checkpoint [results/checkpoint-725] due to args.save_total_limit\n",
      "***** Running Evaluation *****\n",
      "  Num examples = 1639\n",
      "  Batch size = 8\n"
     ]
    },
    {
     "name": "stdout",
     "output_type": "stream",
     "text": [
      "{'loss': 0.9384, 'learning_rate': 4.97289972899729e-05, 'epoch': 0.54}\n"
     ]
    },
    {
     "data": {
      "application/vnd.jupyter.widget-view+json": {
       "model_id": "8e2b0ee4987d4d9888fb58b1af70ffe3",
       "version_major": 2,
       "version_minor": 0
      },
      "text/plain": [
       "  0%|          | 0/205 [00:00<?, ?it/s]"
      ]
     },
     "metadata": {},
     "output_type": "display_data"
    },
    {
     "name": "stderr",
     "output_type": "stream",
     "text": [
      "COMET INFO: ---------------------------\n",
      "COMET INFO: Comet.ml Experiment Summary\n",
      "COMET INFO: ---------------------------\n",
      "COMET INFO:   Data:\n",
      "COMET INFO:     display_summary_level : 1\n",
      "COMET INFO:     url                   : https://www.comet.com/milosz-l/hugging-face-text-classification/c798e5f0de884f8c857b1abf957a71d0\n",
      "COMET INFO:   Metrics [count] (min, max):\n",
      "COMET INFO:     eval/accuracy           : 0.588163514338011\n",
      "COMET INFO:     eval/f1                 : 0.47253463627802506\n",
      "COMET INFO:     eval/loss               : 0.9570465087890625\n",
      "COMET INFO:     eval/precision          : 0.5201319853844761\n",
      "COMET INFO:     eval/recall             : 0.4739610804280964\n",
      "COMET INFO:     eval/runtime            : 317.8728\n",
      "COMET INFO:     eval/samples_per_second : 5.156\n",
      "COMET INFO:     eval/steps_per_second   : 0.645\n",
      "COMET INFO:     loss [3]                : (0.7584211230278015, 1.722209095954895)\n",
      "COMET INFO:     train/epoch [2]         : (0.53, 0.54)\n",
      "COMET INFO:     train/learning_rate     : 4.97289972899729e-05\n",
      "COMET INFO:     train/loss              : 0.9384\n",
      "COMET INFO:   Uploads:\n",
      "COMET INFO:     conda-environment-definition : 1\n",
      "COMET INFO:     conda-info                   : 1\n",
      "COMET INFO:     conda-specification          : 1\n",
      "COMET INFO:     confusion-matrix             : 1\n",
      "COMET INFO:     environment details          : 1\n",
      "COMET INFO:     filename                     : 1\n",
      "COMET INFO:     git metadata                 : 1\n",
      "COMET INFO:     git-patch (uncompressed)     : 1 (5.85 MB)\n",
      "COMET INFO:     installed packages           : 1\n",
      "COMET INFO:     notebook                     : 1\n",
      "COMET INFO:     source_code                  : 1\n",
      "COMET INFO: ---------------------------\n",
      "COMET WARNING: As you are running in a Jupyter environment, you will need to call `experiment.end()` when finished to ensure all metrics and code are logged before exiting.\n",
      "COMET INFO: Experiment is live on comet.com https://www.comet.com/milosz-l/hugging-face-text-classification/446acd552b5e49d893e35eb82ebfaf8b\n",
      "\n",
      "Saving model checkpoint to ./results/checkpoint-1000\n",
      "Configuration saved in ./results/checkpoint-1000/config.json\n"
     ]
    },
    {
     "name": "stdout",
     "output_type": "stream",
     "text": [
      "{'eval_loss': 0.8122141361236572, 'eval_accuracy': 0.6284319707138499, 'eval_f1': 0.5754727619824698, 'eval_precision': 0.6044796145587468, 'eval_recall': 0.5616852467173847, 'eval_runtime': 317.1376, 'eval_samples_per_second': 5.168, 'eval_steps_per_second': 0.646, 'epoch': 0.54}\n"
     ]
    },
    {
     "name": "stderr",
     "output_type": "stream",
     "text": [
      "Model weights saved in ./results/checkpoint-1000/pytorch_model.bin\n",
      "Deleting older checkpoint [results/checkpoint-750] due to args.save_total_limit\n",
      "***** Running Evaluation *****\n",
      "  Num examples = 1639\n",
      "  Batch size = 8\n"
     ]
    },
    {
     "data": {
      "application/vnd.jupyter.widget-view+json": {
       "model_id": "3990251dbfb24de9aa34184194eb5e9a",
       "version_major": 2,
       "version_minor": 0
      },
      "text/plain": [
       "  0%|          | 0/205 [00:00<?, ?it/s]"
      ]
     },
     "metadata": {},
     "output_type": "display_data"
    },
    {
     "name": "stderr",
     "output_type": "stream",
     "text": [
      "COMET INFO: ---------------------------\n",
      "COMET INFO: Comet.ml Experiment Summary\n",
      "COMET INFO: ---------------------------\n",
      "COMET INFO:   Data:\n",
      "COMET INFO:     display_summary_level : 1\n",
      "COMET INFO:     url                   : https://www.comet.com/milosz-l/hugging-face-text-classification/446acd552b5e49d893e35eb82ebfaf8b\n",
      "COMET INFO:   Metrics [count] (min, max):\n",
      "COMET INFO:     eval/accuracy           : 0.6284319707138499\n",
      "COMET INFO:     eval/f1                 : 0.5754727619824698\n",
      "COMET INFO:     eval/loss               : 0.8122141361236572\n",
      "COMET INFO:     eval/precision          : 0.6044796145587468\n",
      "COMET INFO:     eval/recall             : 0.5616852467173847\n",
      "COMET INFO:     eval/runtime            : 317.1376\n",
      "COMET INFO:     eval/samples_per_second : 5.168\n",
      "COMET INFO:     eval/steps_per_second   : 0.646\n",
      "COMET INFO:     loss [2]                : (0.39515239000320435, 0.7673676013946533)\n",
      "COMET INFO:     train/epoch             : 0.54\n",
      "COMET INFO:   Uploads:\n",
      "COMET INFO:     conda-environment-definition : 1\n",
      "COMET INFO:     conda-info                   : 1\n",
      "COMET INFO:     conda-specification          : 1\n",
      "COMET INFO:     confusion-matrix             : 1\n",
      "COMET INFO:     environment details          : 1\n",
      "COMET INFO:     filename                     : 1\n",
      "COMET INFO:     git metadata                 : 1\n",
      "COMET INFO:     git-patch (uncompressed)     : 1 (5.85 MB)\n",
      "COMET INFO:     installed packages           : 1\n",
      "COMET INFO:     notebook                     : 1\n",
      "COMET INFO:     source_code                  : 1\n",
      "COMET INFO: ---------------------------\n",
      "COMET WARNING: As you are running in a Jupyter environment, you will need to call `experiment.end()` when finished to ensure all metrics and code are logged before exiting.\n",
      "COMET INFO: Experiment is live on comet.com https://www.comet.com/milosz-l/hugging-face-text-classification/2924b600e09d43dab99ec29231ed9992\n",
      "\n",
      "Saving model checkpoint to ./results/checkpoint-1025\n",
      "Configuration saved in ./results/checkpoint-1025/config.json\n"
     ]
    },
    {
     "name": "stdout",
     "output_type": "stream",
     "text": [
      "{'eval_loss': 0.8428574204444885, 'eval_accuracy': 0.6272117144600367, 'eval_f1': 0.566659258081096, 'eval_precision': 0.5887446499181269, 'eval_recall': 0.5858664602471686, 'eval_runtime': 318.9739, 'eval_samples_per_second': 5.138, 'eval_steps_per_second': 0.643, 'epoch': 0.56}\n"
     ]
    },
    {
     "name": "stderr",
     "output_type": "stream",
     "text": [
      "Model weights saved in ./results/checkpoint-1025/pytorch_model.bin\n",
      "Deleting older checkpoint [results/checkpoint-775] due to args.save_total_limit\n",
      "***** Running Evaluation *****\n",
      "  Num examples = 1639\n",
      "  Batch size = 8\n"
     ]
    },
    {
     "data": {
      "application/vnd.jupyter.widget-view+json": {
       "model_id": "bc66322fe30540b79b9cb1bd604d4142",
       "version_major": 2,
       "version_minor": 0
      },
      "text/plain": [
       "  0%|          | 0/205 [00:00<?, ?it/s]"
      ]
     },
     "metadata": {},
     "output_type": "display_data"
    },
    {
     "name": "stderr",
     "output_type": "stream",
     "text": [
      "COMET INFO: ---------------------------\n",
      "COMET INFO: Comet.ml Experiment Summary\n",
      "COMET INFO: ---------------------------\n",
      "COMET INFO:   Data:\n",
      "COMET INFO:     display_summary_level : 1\n",
      "COMET INFO:     url                   : https://www.comet.com/milosz-l/hugging-face-text-classification/2924b600e09d43dab99ec29231ed9992\n",
      "COMET INFO:   Metrics [count] (min, max):\n",
      "COMET INFO:     eval/accuracy           : 0.6272117144600367\n",
      "COMET INFO:     eval/f1                 : 0.566659258081096\n",
      "COMET INFO:     eval/loss               : 0.8428574204444885\n",
      "COMET INFO:     eval/precision          : 0.5887446499181269\n",
      "COMET INFO:     eval/recall             : 0.5858664602471686\n",
      "COMET INFO:     eval/runtime            : 318.9739\n",
      "COMET INFO:     eval/samples_per_second : 5.138\n",
      "COMET INFO:     eval/steps_per_second   : 0.643\n",
      "COMET INFO:     loss [3]                : (0.35005807876586914, 1.2784240245819092)\n",
      "COMET INFO:     train/epoch             : 0.56\n",
      "COMET INFO:   Uploads:\n",
      "COMET INFO:     conda-environment-definition : 1\n",
      "COMET INFO:     conda-info                   : 1\n",
      "COMET INFO:     conda-specification          : 1\n",
      "COMET INFO:     confusion-matrix             : 1\n",
      "COMET INFO:     environment details          : 1\n",
      "COMET INFO:     filename                     : 1\n",
      "COMET INFO:     git metadata                 : 1\n",
      "COMET INFO:     git-patch (uncompressed)     : 1 (5.85 MB)\n",
      "COMET INFO:     installed packages           : 1\n",
      "COMET INFO:     notebook                     : 1\n",
      "COMET INFO:     source_code                  : 1\n",
      "COMET INFO: ---------------------------\n",
      "COMET WARNING: As you are running in a Jupyter environment, you will need to call `experiment.end()` when finished to ensure all metrics and code are logged before exiting.\n",
      "COMET INFO: Experiment is live on comet.com https://www.comet.com/milosz-l/hugging-face-text-classification/f8c1a4532cbc4a8bb87b3abb0789d54a\n",
      "\n",
      "Saving model checkpoint to ./results/checkpoint-1050\n",
      "Configuration saved in ./results/checkpoint-1050/config.json\n"
     ]
    },
    {
     "name": "stdout",
     "output_type": "stream",
     "text": [
      "{'eval_loss': 0.8871790170669556, 'eval_accuracy': 0.6333129957291032, 'eval_f1': 0.5658943500652805, 'eval_precision': 0.6378496264573037, 'eval_recall': 0.545792041744411, 'eval_runtime': 317.8388, 'eval_samples_per_second': 5.157, 'eval_steps_per_second': 0.645, 'epoch': 0.57}\n"
     ]
    },
    {
     "name": "stderr",
     "output_type": "stream",
     "text": [
      "Model weights saved in ./results/checkpoint-1050/pytorch_model.bin\n",
      "Deleting older checkpoint [results/checkpoint-800] due to args.save_total_limit\n",
      "***** Running Evaluation *****\n",
      "  Num examples = 1639\n",
      "  Batch size = 8\n"
     ]
    },
    {
     "data": {
      "application/vnd.jupyter.widget-view+json": {
       "model_id": "f1672ce2ff554549912f378755305db5",
       "version_major": 2,
       "version_minor": 0
      },
      "text/plain": [
       "  0%|          | 0/205 [00:00<?, ?it/s]"
      ]
     },
     "metadata": {},
     "output_type": "display_data"
    },
    {
     "name": "stderr",
     "output_type": "stream",
     "text": [
      "COMET INFO: ---------------------------\n",
      "COMET INFO: Comet.ml Experiment Summary\n",
      "COMET INFO: ---------------------------\n",
      "COMET INFO:   Data:\n",
      "COMET INFO:     display_summary_level : 1\n",
      "COMET INFO:     url                   : https://www.comet.com/milosz-l/hugging-face-text-classification/f8c1a4532cbc4a8bb87b3abb0789d54a\n",
      "COMET INFO:   Metrics [count] (min, max):\n",
      "COMET INFO:     eval/accuracy           : 0.6333129957291032\n",
      "COMET INFO:     eval/f1                 : 0.5658943500652805\n",
      "COMET INFO:     eval/loss               : 0.8871790170669556\n",
      "COMET INFO:     eval/precision          : 0.6378496264573037\n",
      "COMET INFO:     eval/recall             : 0.545792041744411\n",
      "COMET INFO:     eval/runtime            : 317.8388\n",
      "COMET INFO:     eval/samples_per_second : 5.157\n",
      "COMET INFO:     eval/steps_per_second   : 0.645\n",
      "COMET INFO:     loss [2]                : (0.9827781319618225, 1.4139212369918823)\n",
      "COMET INFO:     train/epoch             : 0.57\n",
      "COMET INFO:   Uploads:\n",
      "COMET INFO:     conda-environment-definition : 1\n",
      "COMET INFO:     conda-info                   : 1\n",
      "COMET INFO:     conda-specification          : 1\n",
      "COMET INFO:     confusion-matrix             : 1\n",
      "COMET INFO:     environment details          : 1\n",
      "COMET INFO:     filename                     : 1\n",
      "COMET INFO:     git metadata                 : 1\n",
      "COMET INFO:     git-patch (uncompressed)     : 1 (5.85 MB)\n",
      "COMET INFO:     installed packages           : 1\n",
      "COMET INFO:     notebook                     : 1\n",
      "COMET INFO:     source_code                  : 1\n",
      "COMET INFO: ---------------------------\n",
      "COMET WARNING: As you are running in a Jupyter environment, you will need to call `experiment.end()` when finished to ensure all metrics and code are logged before exiting.\n",
      "COMET INFO: Experiment is live on comet.com https://www.comet.com/milosz-l/hugging-face-text-classification/9329f381dcd44b679731ce556d818536\n",
      "\n",
      "Saving model checkpoint to ./results/checkpoint-1075\n",
      "Configuration saved in ./results/checkpoint-1075/config.json\n"
     ]
    },
    {
     "name": "stdout",
     "output_type": "stream",
     "text": [
      "{'eval_loss': 0.9774934649467468, 'eval_accuracy': 0.5692495424039048, 'eval_f1': 0.5271314481546769, 'eval_precision': 0.519869348997894, 'eval_recall': 0.5664832747118941, 'eval_runtime': 318.0855, 'eval_samples_per_second': 5.153, 'eval_steps_per_second': 0.644, 'epoch': 0.58}\n"
     ]
    },
    {
     "name": "stderr",
     "output_type": "stream",
     "text": [
      "Model weights saved in ./results/checkpoint-1075/pytorch_model.bin\n",
      "Deleting older checkpoint [results/checkpoint-825] due to args.save_total_limit\n",
      "***** Running Evaluation *****\n",
      "  Num examples = 1639\n",
      "  Batch size = 8\n"
     ]
    },
    {
     "data": {
      "application/vnd.jupyter.widget-view+json": {
       "model_id": "04d49dc7e4e34ce2bde8590a75531a7e",
       "version_major": 2,
       "version_minor": 0
      },
      "text/plain": [
       "  0%|          | 0/205 [00:00<?, ?it/s]"
      ]
     },
     "metadata": {},
     "output_type": "display_data"
    },
    {
     "name": "stderr",
     "output_type": "stream",
     "text": [
      "COMET INFO: ---------------------------\n",
      "COMET INFO: Comet.ml Experiment Summary\n",
      "COMET INFO: ---------------------------\n",
      "COMET INFO:   Data:\n",
      "COMET INFO:     display_summary_level : 1\n",
      "COMET INFO:     url                   : https://www.comet.com/milosz-l/hugging-face-text-classification/9329f381dcd44b679731ce556d818536\n",
      "COMET INFO:   Metrics [count] (min, max):\n",
      "COMET INFO:     eval/accuracy           : 0.5692495424039048\n",
      "COMET INFO:     eval/f1                 : 0.5271314481546769\n",
      "COMET INFO:     eval/loss               : 0.9774934649467468\n",
      "COMET INFO:     eval/precision          : 0.519869348997894\n",
      "COMET INFO:     eval/recall             : 0.5664832747118941\n",
      "COMET INFO:     eval/runtime            : 318.0855\n",
      "COMET INFO:     eval/samples_per_second : 5.153\n",
      "COMET INFO:     eval/steps_per_second   : 0.644\n",
      "COMET INFO:     loss [3]                : (0.7998098731040955, 1.2632062435150146)\n",
      "COMET INFO:     train/epoch             : 0.58\n",
      "COMET INFO:   Uploads:\n",
      "COMET INFO:     conda-environment-definition : 1\n",
      "COMET INFO:     conda-info                   : 1\n",
      "COMET INFO:     conda-specification          : 1\n",
      "COMET INFO:     confusion-matrix             : 1\n",
      "COMET INFO:     environment details          : 1\n",
      "COMET INFO:     filename                     : 1\n",
      "COMET INFO:     git metadata                 : 1\n",
      "COMET INFO:     git-patch (uncompressed)     : 1 (5.85 MB)\n",
      "COMET INFO:     installed packages           : 1\n",
      "COMET INFO:     notebook                     : 1\n",
      "COMET INFO:     source_code                  : 1\n",
      "COMET INFO: ---------------------------\n",
      "COMET WARNING: As you are running in a Jupyter environment, you will need to call `experiment.end()` when finished to ensure all metrics and code are logged before exiting.\n",
      "COMET INFO: Experiment is live on comet.com https://www.comet.com/milosz-l/hugging-face-text-classification/a7c087301e424a609e2d2e1c87713273\n",
      "\n",
      "Saving model checkpoint to ./results/checkpoint-1100\n",
      "Configuration saved in ./results/checkpoint-1100/config.json\n"
     ]
    },
    {
     "name": "stdout",
     "output_type": "stream",
     "text": [
      "{'eval_loss': 0.8406305313110352, 'eval_accuracy': 0.6290420988407566, 'eval_f1': 0.5664537502666137, 'eval_precision': 0.5865247591385631, 'eval_recall': 0.5608372743006609, 'eval_runtime': 317.8016, 'eval_samples_per_second': 5.157, 'eval_steps_per_second': 0.645, 'epoch': 0.6}\n"
     ]
    },
    {
     "name": "stderr",
     "output_type": "stream",
     "text": [
      "Model weights saved in ./results/checkpoint-1100/pytorch_model.bin\n",
      "Deleting older checkpoint [results/checkpoint-850] due to args.save_total_limit\n",
      "***** Running Evaluation *****\n",
      "  Num examples = 1639\n",
      "  Batch size = 8\n"
     ]
    },
    {
     "data": {
      "application/vnd.jupyter.widget-view+json": {
       "model_id": "a91be064f233499486810389644f2059",
       "version_major": 2,
       "version_minor": 0
      },
      "text/plain": [
       "  0%|          | 0/205 [00:00<?, ?it/s]"
      ]
     },
     "metadata": {},
     "output_type": "display_data"
    },
    {
     "name": "stderr",
     "output_type": "stream",
     "text": [
      "COMET INFO: ---------------------------\n",
      "COMET INFO: Comet.ml Experiment Summary\n",
      "COMET INFO: ---------------------------\n",
      "COMET INFO:   Data:\n",
      "COMET INFO:     display_summary_level : 1\n",
      "COMET INFO:     url                   : https://www.comet.com/milosz-l/hugging-face-text-classification/a7c087301e424a609e2d2e1c87713273\n",
      "COMET INFO:   Metrics [count] (min, max):\n",
      "COMET INFO:     eval/accuracy           : 0.6290420988407566\n",
      "COMET INFO:     eval/f1                 : 0.5664537502666137\n",
      "COMET INFO:     eval/loss               : 0.8406305313110352\n",
      "COMET INFO:     eval/precision          : 0.5865247591385631\n",
      "COMET INFO:     eval/recall             : 0.5608372743006609\n",
      "COMET INFO:     eval/runtime            : 317.8016\n",
      "COMET INFO:     eval/samples_per_second : 5.157\n",
      "COMET INFO:     eval/steps_per_second   : 0.645\n",
      "COMET INFO:     loss [2]                : (0.8362622857093811, 0.8825580477714539)\n",
      "COMET INFO:     train/epoch             : 0.6\n",
      "COMET INFO:   Uploads:\n",
      "COMET INFO:     conda-environment-definition : 1\n",
      "COMET INFO:     conda-info                   : 1\n",
      "COMET INFO:     conda-specification          : 1\n",
      "COMET INFO:     confusion-matrix             : 1\n",
      "COMET INFO:     environment details          : 1\n",
      "COMET INFO:     filename                     : 1\n",
      "COMET INFO:     git metadata                 : 1\n",
      "COMET INFO:     git-patch (uncompressed)     : 1 (5.85 MB)\n",
      "COMET INFO:     installed packages           : 1\n",
      "COMET INFO:     notebook                     : 1\n",
      "COMET INFO:     source_code                  : 1\n",
      "COMET INFO: ---------------------------\n",
      "COMET WARNING: As you are running in a Jupyter environment, you will need to call `experiment.end()` when finished to ensure all metrics and code are logged before exiting.\n",
      "COMET INFO: Experiment is live on comet.com https://www.comet.com/milosz-l/hugging-face-text-classification/53989e62847942dfb9bdd399473f6dc3\n",
      "\n",
      "Saving model checkpoint to ./results/checkpoint-1125\n",
      "Configuration saved in ./results/checkpoint-1125/config.json\n"
     ]
    },
    {
     "name": "stdout",
     "output_type": "stream",
     "text": [
      "{'eval_loss': 0.8867031931877136, 'eval_accuracy': 0.6131787675411836, 'eval_f1': 0.5541189782555114, 'eval_precision': 0.6166558413443721, 'eval_recall': 0.5261862918013881, 'eval_runtime': 318.049, 'eval_samples_per_second': 5.153, 'eval_steps_per_second': 0.645, 'epoch': 0.61}\n"
     ]
    },
    {
     "name": "stderr",
     "output_type": "stream",
     "text": [
      "Model weights saved in ./results/checkpoint-1125/pytorch_model.bin\n",
      "Deleting older checkpoint [results/checkpoint-875] due to args.save_total_limit\n",
      "***** Running Evaluation *****\n",
      "  Num examples = 1639\n",
      "  Batch size = 8\n"
     ]
    },
    {
     "data": {
      "application/vnd.jupyter.widget-view+json": {
       "model_id": "beb7c65ac46c44ffa29c5926998e44ad",
       "version_major": 2,
       "version_minor": 0
      },
      "text/plain": [
       "  0%|          | 0/205 [00:00<?, ?it/s]"
      ]
     },
     "metadata": {},
     "output_type": "display_data"
    },
    {
     "name": "stderr",
     "output_type": "stream",
     "text": [
      "COMET INFO: ---------------------------\n",
      "COMET INFO: Comet.ml Experiment Summary\n",
      "COMET INFO: ---------------------------\n",
      "COMET INFO:   Data:\n",
      "COMET INFO:     display_summary_level : 1\n",
      "COMET INFO:     url                   : https://www.comet.com/milosz-l/hugging-face-text-classification/53989e62847942dfb9bdd399473f6dc3\n",
      "COMET INFO:   Metrics [count] (min, max):\n",
      "COMET INFO:     eval/accuracy           : 0.6131787675411836\n",
      "COMET INFO:     eval/f1                 : 0.5541189782555114\n",
      "COMET INFO:     eval/loss               : 0.8867031931877136\n",
      "COMET INFO:     eval/precision          : 0.6166558413443721\n",
      "COMET INFO:     eval/recall             : 0.5261862918013881\n",
      "COMET INFO:     eval/runtime            : 318.049\n",
      "COMET INFO:     eval/samples_per_second : 5.153\n",
      "COMET INFO:     eval/steps_per_second   : 0.645\n",
      "COMET INFO:     loss [3]                : (1.0068925619125366, 1.1318790912628174)\n",
      "COMET INFO:     train/epoch             : 0.61\n",
      "COMET INFO:   Uploads:\n",
      "COMET INFO:     conda-environment-definition : 1\n",
      "COMET INFO:     conda-info                   : 1\n",
      "COMET INFO:     conda-specification          : 1\n",
      "COMET INFO:     confusion-matrix             : 1\n",
      "COMET INFO:     environment details          : 1\n",
      "COMET INFO:     filename                     : 1\n",
      "COMET INFO:     git metadata                 : 1\n",
      "COMET INFO:     git-patch (uncompressed)     : 1 (5.85 MB)\n",
      "COMET INFO:     installed packages           : 1\n",
      "COMET INFO:     notebook                     : 1\n",
      "COMET INFO:     source_code                  : 1\n",
      "COMET INFO: ---------------------------\n",
      "COMET WARNING: As you are running in a Jupyter environment, you will need to call `experiment.end()` when finished to ensure all metrics and code are logged before exiting.\n",
      "COMET INFO: Experiment is live on comet.com https://www.comet.com/milosz-l/hugging-face-text-classification/49c1af0b4bd14f48b49eeb77b3f0d55f\n",
      "\n",
      "Saving model checkpoint to ./results/checkpoint-1150\n",
      "Configuration saved in ./results/checkpoint-1150/config.json\n"
     ]
    },
    {
     "name": "stdout",
     "output_type": "stream",
     "text": [
      "{'eval_loss': 0.8427343368530273, 'eval_accuracy': 0.6314826113483831, 'eval_f1': 0.5834156876674568, 'eval_precision': 0.5978375051215974, 'eval_recall': 0.5835115370960924, 'eval_runtime': 317.8932, 'eval_samples_per_second': 5.156, 'eval_steps_per_second': 0.645, 'epoch': 0.62}\n"
     ]
    },
    {
     "name": "stderr",
     "output_type": "stream",
     "text": [
      "Model weights saved in ./results/checkpoint-1150/pytorch_model.bin\n",
      "Deleting older checkpoint [results/checkpoint-900] due to args.save_total_limit\n",
      "***** Running Evaluation *****\n",
      "  Num examples = 1639\n",
      "  Batch size = 8\n"
     ]
    },
    {
     "data": {
      "application/vnd.jupyter.widget-view+json": {
       "model_id": "4bb686c4b3c14a12a5e40ba578a753c8",
       "version_major": 2,
       "version_minor": 0
      },
      "text/plain": [
       "  0%|          | 0/205 [00:00<?, ?it/s]"
      ]
     },
     "metadata": {},
     "output_type": "display_data"
    },
    {
     "name": "stderr",
     "output_type": "stream",
     "text": [
      "COMET INFO: ---------------------------\n",
      "COMET INFO: Comet.ml Experiment Summary\n",
      "COMET INFO: ---------------------------\n",
      "COMET INFO:   Data:\n",
      "COMET INFO:     display_summary_level : 1\n",
      "COMET INFO:     url                   : https://www.comet.com/milosz-l/hugging-face-text-classification/49c1af0b4bd14f48b49eeb77b3f0d55f\n",
      "COMET INFO:   Metrics [count] (min, max):\n",
      "COMET INFO:     eval/accuracy           : 0.6314826113483831\n",
      "COMET INFO:     eval/f1                 : 0.5834156876674568\n",
      "COMET INFO:     eval/loss               : 0.8427343368530273\n",
      "COMET INFO:     eval/precision          : 0.5978375051215974\n",
      "COMET INFO:     eval/recall             : 0.5835115370960924\n",
      "COMET INFO:     eval/runtime            : 317.8932\n",
      "COMET INFO:     eval/samples_per_second : 5.156\n",
      "COMET INFO:     eval/steps_per_second   : 0.645\n",
      "COMET INFO:     loss [2]                : (0.6713897585868835, 1.2974902391433716)\n",
      "COMET INFO:     train/epoch             : 0.62\n",
      "COMET INFO:   Uploads:\n",
      "COMET INFO:     conda-environment-definition : 1\n",
      "COMET INFO:     conda-info                   : 1\n",
      "COMET INFO:     conda-specification          : 1\n",
      "COMET INFO:     confusion-matrix             : 1\n",
      "COMET INFO:     environment details          : 1\n",
      "COMET INFO:     filename                     : 1\n",
      "COMET INFO:     git metadata                 : 1\n",
      "COMET INFO:     git-patch (uncompressed)     : 1 (5.85 MB)\n",
      "COMET INFO:     installed packages           : 1\n",
      "COMET INFO:     notebook                     : 1\n",
      "COMET INFO:     source_code                  : 1\n",
      "COMET INFO: ---------------------------\n",
      "COMET WARNING: As you are running in a Jupyter environment, you will need to call `experiment.end()` when finished to ensure all metrics and code are logged before exiting.\n",
      "COMET INFO: Experiment is live on comet.com https://www.comet.com/milosz-l/hugging-face-text-classification/cf96c10912df49c6aa68068890222e2a\n",
      "\n",
      "Saving model checkpoint to ./results/checkpoint-1175\n",
      "Configuration saved in ./results/checkpoint-1175/config.json\n"
     ]
    },
    {
     "name": "stdout",
     "output_type": "stream",
     "text": [
      "{'eval_loss': 0.8746525049209595, 'eval_accuracy': 0.6131787675411836, 'eval_f1': 0.5431293550883802, 'eval_precision': 0.6054351158815983, 'eval_recall': 0.5243470806056366, 'eval_runtime': 317.2772, 'eval_samples_per_second': 5.166, 'eval_steps_per_second': 0.646, 'epoch': 0.64}\n"
     ]
    },
    {
     "name": "stderr",
     "output_type": "stream",
     "text": [
      "Model weights saved in ./results/checkpoint-1175/pytorch_model.bin\n",
      "Deleting older checkpoint [results/checkpoint-925] due to args.save_total_limit\n",
      "***** Running Evaluation *****\n",
      "  Num examples = 1639\n",
      "  Batch size = 8\n"
     ]
    },
    {
     "data": {
      "application/vnd.jupyter.widget-view+json": {
       "model_id": "151532e79e0a4680a541a25ac97e8640",
       "version_major": 2,
       "version_minor": 0
      },
      "text/plain": [
       "  0%|          | 0/205 [00:00<?, ?it/s]"
      ]
     },
     "metadata": {},
     "output_type": "display_data"
    },
    {
     "name": "stderr",
     "output_type": "stream",
     "text": [
      "COMET INFO: ---------------------------\n",
      "COMET INFO: Comet.ml Experiment Summary\n",
      "COMET INFO: ---------------------------\n",
      "COMET INFO:   Data:\n",
      "COMET INFO:     display_summary_level : 1\n",
      "COMET INFO:     url                   : https://www.comet.com/milosz-l/hugging-face-text-classification/cf96c10912df49c6aa68068890222e2a\n",
      "COMET INFO:   Metrics [count] (min, max):\n",
      "COMET INFO:     eval/accuracy           : 0.6131787675411836\n",
      "COMET INFO:     eval/f1                 : 0.5431293550883802\n",
      "COMET INFO:     eval/loss               : 0.8746525049209595\n",
      "COMET INFO:     eval/precision          : 0.6054351158815983\n",
      "COMET INFO:     eval/recall             : 0.5243470806056366\n",
      "COMET INFO:     eval/runtime            : 317.2772\n",
      "COMET INFO:     eval/samples_per_second : 5.166\n",
      "COMET INFO:     eval/steps_per_second   : 0.646\n",
      "COMET INFO:     loss [3]                : (0.9026482701301575, 1.058414101600647)\n",
      "COMET INFO:     train/epoch             : 0.64\n",
      "COMET INFO:   Uploads:\n",
      "COMET INFO:     conda-environment-definition : 1\n",
      "COMET INFO:     conda-info                   : 1\n",
      "COMET INFO:     conda-specification          : 1\n",
      "COMET INFO:     confusion-matrix             : 1\n",
      "COMET INFO:     environment details          : 1\n",
      "COMET INFO:     filename                     : 1\n",
      "COMET INFO:     git metadata                 : 1\n",
      "COMET INFO:     git-patch (uncompressed)     : 1 (5.85 MB)\n",
      "COMET INFO:     installed packages           : 1\n",
      "COMET INFO:     notebook                     : 1\n",
      "COMET INFO:     source_code                  : 1\n",
      "COMET INFO: ---------------------------\n",
      "COMET WARNING: As you are running in a Jupyter environment, you will need to call `experiment.end()` when finished to ensure all metrics and code are logged before exiting.\n",
      "COMET INFO: Experiment is live on comet.com https://www.comet.com/milosz-l/hugging-face-text-classification/859a3425fb894fe68145b3167a95ddf6\n",
      "\n",
      "Saving model checkpoint to ./results/checkpoint-1200\n",
      "Configuration saved in ./results/checkpoint-1200/config.json\n"
     ]
    },
    {
     "name": "stdout",
     "output_type": "stream",
     "text": [
      "{'eval_loss': 0.8730805516242981, 'eval_accuracy': 0.589993898718731, 'eval_f1': 0.4812663519323698, 'eval_precision': 0.5680048443206361, 'eval_recall': 0.49648524032481384, 'eval_runtime': 317.8238, 'eval_samples_per_second': 5.157, 'eval_steps_per_second': 0.645, 'epoch': 0.65}\n"
     ]
    },
    {
     "name": "stderr",
     "output_type": "stream",
     "text": [
      "Model weights saved in ./results/checkpoint-1200/pytorch_model.bin\n",
      "Deleting older checkpoint [results/checkpoint-950] due to args.save_total_limit\n",
      "***** Running Evaluation *****\n",
      "  Num examples = 1639\n",
      "  Batch size = 8\n"
     ]
    },
    {
     "data": {
      "application/vnd.jupyter.widget-view+json": {
       "model_id": "7b324f2ca99a48b588388bfbc989c55d",
       "version_major": 2,
       "version_minor": 0
      },
      "text/plain": [
       "  0%|          | 0/205 [00:00<?, ?it/s]"
      ]
     },
     "metadata": {},
     "output_type": "display_data"
    },
    {
     "name": "stderr",
     "output_type": "stream",
     "text": [
      "COMET INFO: ---------------------------\n",
      "COMET INFO: Comet.ml Experiment Summary\n",
      "COMET INFO: ---------------------------\n",
      "COMET INFO:   Data:\n",
      "COMET INFO:     display_summary_level : 1\n",
      "COMET INFO:     url                   : https://www.comet.com/milosz-l/hugging-face-text-classification/859a3425fb894fe68145b3167a95ddf6\n",
      "COMET INFO:   Metrics [count] (min, max):\n",
      "COMET INFO:     eval/accuracy           : 0.589993898718731\n",
      "COMET INFO:     eval/f1                 : 0.4812663519323698\n",
      "COMET INFO:     eval/loss               : 0.8730805516242981\n",
      "COMET INFO:     eval/precision          : 0.5680048443206361\n",
      "COMET INFO:     eval/recall             : 0.49648524032481384\n",
      "COMET INFO:     eval/runtime            : 317.8238\n",
      "COMET INFO:     eval/samples_per_second : 5.157\n",
      "COMET INFO:     eval/steps_per_second   : 0.645\n",
      "COMET INFO:     loss [2]                : (1.0897140502929688, 1.3831532001495361)\n",
      "COMET INFO:     train/epoch             : 0.65\n",
      "COMET INFO:   Uploads:\n",
      "COMET INFO:     conda-environment-definition : 1\n",
      "COMET INFO:     conda-info                   : 1\n",
      "COMET INFO:     conda-specification          : 1\n",
      "COMET INFO:     confusion-matrix             : 1\n",
      "COMET INFO:     environment details          : 1\n",
      "COMET INFO:     filename                     : 1\n",
      "COMET INFO:     git metadata                 : 1\n",
      "COMET INFO:     git-patch (uncompressed)     : 1 (5.85 MB)\n",
      "COMET INFO:     installed packages           : 1\n",
      "COMET INFO:     notebook                     : 1\n",
      "COMET INFO:     source_code                  : 1\n",
      "COMET INFO: ---------------------------\n",
      "COMET WARNING: As you are running in a Jupyter environment, you will need to call `experiment.end()` when finished to ensure all metrics and code are logged before exiting.\n",
      "COMET INFO: Experiment is live on comet.com https://www.comet.com/milosz-l/hugging-face-text-classification/16cac6613e48419087c3729b6ecd4d3b\n",
      "\n",
      "Saving model checkpoint to ./results/checkpoint-1225\n",
      "Configuration saved in ./results/checkpoint-1225/config.json\n"
     ]
    },
    {
     "name": "stdout",
     "output_type": "stream",
     "text": [
      "{'eval_loss': 0.8366031050682068, 'eval_accuracy': 0.6333129957291032, 'eval_f1': 0.592756211656754, 'eval_precision': 0.6141342485363831, 'eval_recall': 0.5764068109199526, 'eval_runtime': 317.6424, 'eval_samples_per_second': 5.16, 'eval_steps_per_second': 0.645, 'epoch': 0.66}\n"
     ]
    },
    {
     "name": "stderr",
     "output_type": "stream",
     "text": [
      "Model weights saved in ./results/checkpoint-1225/pytorch_model.bin\n",
      "Deleting older checkpoint [results/checkpoint-975] due to args.save_total_limit\n",
      "***** Running Evaluation *****\n",
      "  Num examples = 1639\n",
      "  Batch size = 8\n"
     ]
    },
    {
     "data": {
      "application/vnd.jupyter.widget-view+json": {
       "model_id": "a2f1235dc4e94caa88abe627d62a1395",
       "version_major": 2,
       "version_minor": 0
      },
      "text/plain": [
       "  0%|          | 0/205 [00:00<?, ?it/s]"
      ]
     },
     "metadata": {},
     "output_type": "display_data"
    },
    {
     "name": "stderr",
     "output_type": "stream",
     "text": [
      "COMET INFO: ---------------------------\n",
      "COMET INFO: Comet.ml Experiment Summary\n",
      "COMET INFO: ---------------------------\n",
      "COMET INFO:   Data:\n",
      "COMET INFO:     display_summary_level : 1\n",
      "COMET INFO:     url                   : https://www.comet.com/milosz-l/hugging-face-text-classification/16cac6613e48419087c3729b6ecd4d3b\n",
      "COMET INFO:   Metrics [count] (min, max):\n",
      "COMET INFO:     eval/accuracy           : 0.6333129957291032\n",
      "COMET INFO:     eval/f1                 : 0.592756211656754\n",
      "COMET INFO:     eval/loss               : 0.8366031050682068\n",
      "COMET INFO:     eval/precision          : 0.6141342485363831\n",
      "COMET INFO:     eval/recall             : 0.5764068109199526\n",
      "COMET INFO:     eval/runtime            : 317.6424\n",
      "COMET INFO:     eval/samples_per_second : 5.16\n",
      "COMET INFO:     eval/steps_per_second   : 0.645\n",
      "COMET INFO:     loss [3]                : (0.8714108467102051, 1.0563515424728394)\n",
      "COMET INFO:     train/epoch             : 0.66\n",
      "COMET INFO:   Uploads:\n",
      "COMET INFO:     conda-environment-definition : 1\n",
      "COMET INFO:     conda-info                   : 1\n",
      "COMET INFO:     conda-specification          : 1\n",
      "COMET INFO:     confusion-matrix             : 1\n",
      "COMET INFO:     environment details          : 1\n",
      "COMET INFO:     filename                     : 1\n",
      "COMET INFO:     git metadata                 : 1\n",
      "COMET INFO:     git-patch (uncompressed)     : 1 (5.85 MB)\n",
      "COMET INFO:     installed packages           : 1\n",
      "COMET INFO:     notebook                     : 1\n",
      "COMET INFO:     source_code                  : 1\n",
      "COMET INFO: ---------------------------\n",
      "COMET WARNING: As you are running in a Jupyter environment, you will need to call `experiment.end()` when finished to ensure all metrics and code are logged before exiting.\n",
      "COMET INFO: Experiment is live on comet.com https://www.comet.com/milosz-l/hugging-face-text-classification/e6517a5d32da47049a6c25c7e91a81b6\n",
      "\n",
      "Saving model checkpoint to ./results/checkpoint-1250\n",
      "Configuration saved in ./results/checkpoint-1250/config.json\n"
     ]
    },
    {
     "name": "stdout",
     "output_type": "stream",
     "text": [
      "{'eval_loss': 0.7918745279312134, 'eval_accuracy': 0.6375838926174496, 'eval_f1': 0.5621194515143667, 'eval_precision': 0.6124718044002471, 'eval_recall': 0.5688213948161149, 'eval_runtime': 320.3404, 'eval_samples_per_second': 5.116, 'eval_steps_per_second': 0.64, 'epoch': 0.68}\n"
     ]
    },
    {
     "name": "stderr",
     "output_type": "stream",
     "text": [
      "Model weights saved in ./results/checkpoint-1250/pytorch_model.bin\n",
      "Deleting older checkpoint [results/checkpoint-1000] due to args.save_total_limit\n",
      "***** Running Evaluation *****\n",
      "  Num examples = 1639\n",
      "  Batch size = 8\n"
     ]
    },
    {
     "data": {
      "application/vnd.jupyter.widget-view+json": {
       "model_id": "fb2f9c7adfb84de78dea4e2caf02bde2",
       "version_major": 2,
       "version_minor": 0
      },
      "text/plain": [
       "  0%|          | 0/205 [00:00<?, ?it/s]"
      ]
     },
     "metadata": {},
     "output_type": "display_data"
    },
    {
     "name": "stderr",
     "output_type": "stream",
     "text": [
      "COMET INFO: ---------------------------\n",
      "COMET INFO: Comet.ml Experiment Summary\n",
      "COMET INFO: ---------------------------\n",
      "COMET INFO:   Data:\n",
      "COMET INFO:     display_summary_level : 1\n",
      "COMET INFO:     url                   : https://www.comet.com/milosz-l/hugging-face-text-classification/e6517a5d32da47049a6c25c7e91a81b6\n",
      "COMET INFO:   Metrics [count] (min, max):\n",
      "COMET INFO:     eval/accuracy           : 0.6375838926174496\n",
      "COMET INFO:     eval/f1                 : 0.5621194515143667\n",
      "COMET INFO:     eval/loss               : 0.7918745279312134\n",
      "COMET INFO:     eval/precision          : 0.6124718044002471\n",
      "COMET INFO:     eval/recall             : 0.5688213948161149\n",
      "COMET INFO:     eval/runtime            : 320.3404\n",
      "COMET INFO:     eval/samples_per_second : 5.116\n",
      "COMET INFO:     eval/steps_per_second   : 0.64\n",
      "COMET INFO:     loss [2]                : (0.8518121838569641, 1.0579348802566528)\n",
      "COMET INFO:     train/epoch             : 0.68\n",
      "COMET INFO:   Uploads:\n",
      "COMET INFO:     conda-environment-definition : 1\n",
      "COMET INFO:     conda-info                   : 1\n",
      "COMET INFO:     conda-specification          : 1\n",
      "COMET INFO:     confusion-matrix             : 1\n",
      "COMET INFO:     environment details          : 1\n",
      "COMET INFO:     filename                     : 1\n",
      "COMET INFO:     git metadata                 : 1\n",
      "COMET INFO:     git-patch (uncompressed)     : 1 (5.85 MB)\n",
      "COMET INFO:     installed packages           : 1\n",
      "COMET INFO:     notebook                     : 1\n",
      "COMET INFO:     source_code                  : 1\n",
      "COMET INFO: ---------------------------\n",
      "COMET WARNING: As you are running in a Jupyter environment, you will need to call `experiment.end()` when finished to ensure all metrics and code are logged before exiting.\n",
      "COMET INFO: Experiment is live on comet.com https://www.comet.com/milosz-l/hugging-face-text-classification/703b2f9e4ad44e7ca6f94e87cee9bcf0\n",
      "\n",
      "Saving model checkpoint to ./results/checkpoint-1275\n",
      "Configuration saved in ./results/checkpoint-1275/config.json\n"
     ]
    },
    {
     "name": "stdout",
     "output_type": "stream",
     "text": [
      "{'eval_loss': 0.810020923614502, 'eval_accuracy': 0.6357535082367297, 'eval_f1': 0.562005578451326, 'eval_precision': 0.5926188547767581, 'eval_recall': 0.5679182094162851, 'eval_runtime': 318.3467, 'eval_samples_per_second': 5.148, 'eval_steps_per_second': 0.644, 'epoch': 0.69}\n"
     ]
    },
    {
     "name": "stderr",
     "output_type": "stream",
     "text": [
      "Model weights saved in ./results/checkpoint-1275/pytorch_model.bin\n",
      "Deleting older checkpoint [results/checkpoint-1025] due to args.save_total_limit\n",
      "***** Running Evaluation *****\n",
      "  Num examples = 1639\n",
      "  Batch size = 8\n"
     ]
    },
    {
     "data": {
      "application/vnd.jupyter.widget-view+json": {
       "model_id": "3aaacf121ce94031bcdf79188d4b6ac4",
       "version_major": 2,
       "version_minor": 0
      },
      "text/plain": [
       "  0%|          | 0/205 [00:00<?, ?it/s]"
      ]
     },
     "metadata": {},
     "output_type": "display_data"
    },
    {
     "name": "stderr",
     "output_type": "stream",
     "text": [
      "COMET INFO: ---------------------------\n",
      "COMET INFO: Comet.ml Experiment Summary\n",
      "COMET INFO: ---------------------------\n",
      "COMET INFO:   Data:\n",
      "COMET INFO:     display_summary_level : 1\n",
      "COMET INFO:     url                   : https://www.comet.com/milosz-l/hugging-face-text-classification/703b2f9e4ad44e7ca6f94e87cee9bcf0\n",
      "COMET INFO:   Metrics [count] (min, max):\n",
      "COMET INFO:     eval/accuracy           : 0.6357535082367297\n",
      "COMET INFO:     eval/f1                 : 0.562005578451326\n",
      "COMET INFO:     eval/loss               : 0.810020923614502\n",
      "COMET INFO:     eval/precision          : 0.5926188547767581\n",
      "COMET INFO:     eval/recall             : 0.5679182094162851\n",
      "COMET INFO:     eval/runtime            : 318.3467\n",
      "COMET INFO:     eval/samples_per_second : 5.148\n",
      "COMET INFO:     eval/steps_per_second   : 0.644\n",
      "COMET INFO:     loss [3]                : (0.6669197082519531, 0.8493421673774719)\n",
      "COMET INFO:     train/epoch             : 0.69\n",
      "COMET INFO:   Uploads:\n",
      "COMET INFO:     conda-environment-definition : 1\n",
      "COMET INFO:     conda-info                   : 1\n",
      "COMET INFO:     conda-specification          : 1\n",
      "COMET INFO:     confusion-matrix             : 1\n",
      "COMET INFO:     environment details          : 1\n",
      "COMET INFO:     filename                     : 1\n",
      "COMET INFO:     git metadata                 : 1\n",
      "COMET INFO:     git-patch (uncompressed)     : 1 (5.85 MB)\n",
      "COMET INFO:     installed packages           : 1\n",
      "COMET INFO:     notebook                     : 1\n",
      "COMET INFO:     source_code                  : 1\n",
      "COMET INFO: ---------------------------\n",
      "COMET WARNING: As you are running in a Jupyter environment, you will need to call `experiment.end()` when finished to ensure all metrics and code are logged before exiting.\n",
      "COMET INFO: Experiment is live on comet.com https://www.comet.com/milosz-l/hugging-face-text-classification/afdb56b92ec0480dbe6d7640caa81cef\n",
      "\n",
      "Saving model checkpoint to ./results/checkpoint-1300\n",
      "Configuration saved in ./results/checkpoint-1300/config.json\n"
     ]
    },
    {
     "name": "stdout",
     "output_type": "stream",
     "text": [
      "{'eval_loss': 0.9342529773712158, 'eval_accuracy': 0.5912141549725443, 'eval_f1': 0.46584092750883305, 'eval_precision': 0.6148025824545378, 'eval_recall': 0.44996301489903806, 'eval_runtime': 321.5346, 'eval_samples_per_second': 5.097, 'eval_steps_per_second': 0.638, 'epoch': 0.7}\n"
     ]
    },
    {
     "name": "stderr",
     "output_type": "stream",
     "text": [
      "Model weights saved in ./results/checkpoint-1300/pytorch_model.bin\n",
      "Deleting older checkpoint [results/checkpoint-1050] due to args.save_total_limit\n",
      "***** Running Evaluation *****\n",
      "  Num examples = 1639\n",
      "  Batch size = 8\n"
     ]
    },
    {
     "data": {
      "application/vnd.jupyter.widget-view+json": {
       "model_id": "7a217c796af3460e9b568f308f2d1eab",
       "version_major": 2,
       "version_minor": 0
      },
      "text/plain": [
       "  0%|          | 0/205 [00:00<?, ?it/s]"
      ]
     },
     "metadata": {},
     "output_type": "display_data"
    },
    {
     "name": "stderr",
     "output_type": "stream",
     "text": [
      "COMET INFO: ---------------------------\n",
      "COMET INFO: Comet.ml Experiment Summary\n",
      "COMET INFO: ---------------------------\n",
      "COMET INFO:   Data:\n",
      "COMET INFO:     display_summary_level : 1\n",
      "COMET INFO:     url                   : https://www.comet.com/milosz-l/hugging-face-text-classification/afdb56b92ec0480dbe6d7640caa81cef\n",
      "COMET INFO:   Metrics [count] (min, max):\n",
      "COMET INFO:     eval/accuracy           : 0.5912141549725443\n",
      "COMET INFO:     eval/f1                 : 0.46584092750883305\n",
      "COMET INFO:     eval/loss               : 0.9342529773712158\n",
      "COMET INFO:     eval/precision          : 0.6148025824545378\n",
      "COMET INFO:     eval/recall             : 0.44996301489903806\n",
      "COMET INFO:     eval/runtime            : 321.5346\n",
      "COMET INFO:     eval/samples_per_second : 5.097\n",
      "COMET INFO:     eval/steps_per_second   : 0.638\n",
      "COMET INFO:     loss [2]                : (0.8675321936607361, 0.9200462102890015)\n",
      "COMET INFO:     train/epoch             : 0.7\n",
      "COMET INFO:   Uploads:\n",
      "COMET INFO:     conda-environment-definition : 1\n",
      "COMET INFO:     conda-info                   : 1\n",
      "COMET INFO:     conda-specification          : 1\n",
      "COMET INFO:     confusion-matrix             : 1\n",
      "COMET INFO:     environment details          : 1\n",
      "COMET INFO:     filename                     : 1\n",
      "COMET INFO:     git metadata                 : 1\n",
      "COMET INFO:     git-patch (uncompressed)     : 1 (5.85 MB)\n",
      "COMET INFO:     installed packages           : 1\n",
      "COMET INFO:     notebook                     : 1\n",
      "COMET INFO:     source_code                  : 1\n",
      "COMET INFO: ---------------------------\n",
      "COMET WARNING: As you are running in a Jupyter environment, you will need to call `experiment.end()` when finished to ensure all metrics and code are logged before exiting.\n",
      "COMET INFO: Experiment is live on comet.com https://www.comet.com/milosz-l/hugging-face-text-classification/5ead1380633e40028f17143024c35c8f\n",
      "\n",
      "Saving model checkpoint to ./results/checkpoint-1325\n",
      "Configuration saved in ./results/checkpoint-1325/config.json\n"
     ]
    },
    {
     "name": "stdout",
     "output_type": "stream",
     "text": [
      "{'eval_loss': 0.8047232627868652, 'eval_accuracy': 0.6375838926174496, 'eval_f1': 0.5927104700161211, 'eval_precision': 0.5976741469584305, 'eval_recall': 0.5893606360495103, 'eval_runtime': 320.9122, 'eval_samples_per_second': 5.107, 'eval_steps_per_second': 0.639, 'epoch': 0.72}\n"
     ]
    },
    {
     "name": "stderr",
     "output_type": "stream",
     "text": [
      "Model weights saved in ./results/checkpoint-1325/pytorch_model.bin\n",
      "Deleting older checkpoint [results/checkpoint-1075] due to args.save_total_limit\n",
      "***** Running Evaluation *****\n",
      "  Num examples = 1639\n",
      "  Batch size = 8\n"
     ]
    },
    {
     "data": {
      "application/vnd.jupyter.widget-view+json": {
       "model_id": "0dd025e566644b3f8a4208f591f7b8df",
       "version_major": 2,
       "version_minor": 0
      },
      "text/plain": [
       "  0%|          | 0/205 [00:00<?, ?it/s]"
      ]
     },
     "metadata": {},
     "output_type": "display_data"
    },
    {
     "name": "stderr",
     "output_type": "stream",
     "text": [
      "COMET INFO: ---------------------------\n",
      "COMET INFO: Comet.ml Experiment Summary\n",
      "COMET INFO: ---------------------------\n",
      "COMET INFO:   Data:\n",
      "COMET INFO:     display_summary_level : 1\n",
      "COMET INFO:     url                   : https://www.comet.com/milosz-l/hugging-face-text-classification/5ead1380633e40028f17143024c35c8f\n",
      "COMET INFO:   Metrics [count] (min, max):\n",
      "COMET INFO:     eval/accuracy           : 0.6375838926174496\n",
      "COMET INFO:     eval/f1                 : 0.5927104700161211\n",
      "COMET INFO:     eval/loss               : 0.8047232627868652\n",
      "COMET INFO:     eval/precision          : 0.5976741469584305\n",
      "COMET INFO:     eval/recall             : 0.5893606360495103\n",
      "COMET INFO:     eval/runtime            : 320.9122\n",
      "COMET INFO:     eval/samples_per_second : 5.107\n",
      "COMET INFO:     eval/steps_per_second   : 0.639\n",
      "COMET INFO:     loss [3]                : (0.776252031326294, 0.9113755822181702)\n",
      "COMET INFO:     train/epoch             : 0.72\n",
      "COMET INFO:   Uploads:\n",
      "COMET INFO:     conda-environment-definition : 1\n",
      "COMET INFO:     conda-info                   : 1\n",
      "COMET INFO:     conda-specification          : 1\n",
      "COMET INFO:     confusion-matrix             : 1\n",
      "COMET INFO:     environment details          : 1\n",
      "COMET INFO:     filename                     : 1\n",
      "COMET INFO:     git metadata                 : 1\n",
      "COMET INFO:     git-patch (uncompressed)     : 1 (5.85 MB)\n",
      "COMET INFO:     installed packages           : 1\n",
      "COMET INFO:     notebook                     : 1\n",
      "COMET INFO:     source_code                  : 1\n",
      "COMET INFO: ---------------------------\n",
      "COMET WARNING: As you are running in a Jupyter environment, you will need to call `experiment.end()` when finished to ensure all metrics and code are logged before exiting.\n",
      "COMET INFO: Experiment is live on comet.com https://www.comet.com/milosz-l/hugging-face-text-classification/0c863fecb67a41bfb48e4567d23e2f53\n",
      "\n",
      "Saving model checkpoint to ./results/checkpoint-1350\n",
      "Configuration saved in ./results/checkpoint-1350/config.json\n"
     ]
    },
    {
     "name": "stdout",
     "output_type": "stream",
     "text": [
      "{'eval_loss': 0.7853306531906128, 'eval_accuracy': 0.6510067114093959, 'eval_f1': 0.5774468526608297, 'eval_precision': 0.6036080455689726, 'eval_recall': 0.5850784196441341, 'eval_runtime': 321.1761, 'eval_samples_per_second': 5.103, 'eval_steps_per_second': 0.638, 'epoch': 0.73}\n"
     ]
    },
    {
     "name": "stderr",
     "output_type": "stream",
     "text": [
      "Model weights saved in ./results/checkpoint-1350/pytorch_model.bin\n",
      "Deleting older checkpoint [results/checkpoint-1100] due to args.save_total_limit\n",
      "***** Running Evaluation *****\n",
      "  Num examples = 1639\n",
      "  Batch size = 8\n"
     ]
    },
    {
     "data": {
      "application/vnd.jupyter.widget-view+json": {
       "model_id": "557cfb613b56425386169b8491797f2d",
       "version_major": 2,
       "version_minor": 0
      },
      "text/plain": [
       "  0%|          | 0/205 [00:00<?, ?it/s]"
      ]
     },
     "metadata": {},
     "output_type": "display_data"
    },
    {
     "name": "stderr",
     "output_type": "stream",
     "text": [
      "COMET INFO: ---------------------------\n",
      "COMET INFO: Comet.ml Experiment Summary\n",
      "COMET INFO: ---------------------------\n",
      "COMET INFO:   Data:\n",
      "COMET INFO:     display_summary_level : 1\n",
      "COMET INFO:     url                   : https://www.comet.com/milosz-l/hugging-face-text-classification/0c863fecb67a41bfb48e4567d23e2f53\n",
      "COMET INFO:   Metrics [count] (min, max):\n",
      "COMET INFO:     eval/accuracy           : 0.6510067114093959\n",
      "COMET INFO:     eval/f1                 : 0.5774468526608297\n",
      "COMET INFO:     eval/loss               : 0.7853306531906128\n",
      "COMET INFO:     eval/precision          : 0.6036080455689726\n",
      "COMET INFO:     eval/recall             : 0.5850784196441341\n",
      "COMET INFO:     eval/runtime            : 321.1761\n",
      "COMET INFO:     eval/samples_per_second : 5.103\n",
      "COMET INFO:     eval/steps_per_second   : 0.638\n",
      "COMET INFO:     loss [2]                : (0.5620179772377014, 1.021646499633789)\n",
      "COMET INFO:     train/epoch             : 0.73\n",
      "COMET INFO:   Uploads:\n",
      "COMET INFO:     conda-environment-definition : 1\n",
      "COMET INFO:     conda-info                   : 1\n",
      "COMET INFO:     conda-specification          : 1\n",
      "COMET INFO:     confusion-matrix             : 1\n",
      "COMET INFO:     environment details          : 1\n",
      "COMET INFO:     filename                     : 1\n",
      "COMET INFO:     git metadata                 : 1\n",
      "COMET INFO:     git-patch (uncompressed)     : 1 (5.85 MB)\n",
      "COMET INFO:     installed packages           : 1\n",
      "COMET INFO:     notebook                     : 1\n",
      "COMET INFO:     source_code                  : 1\n",
      "COMET INFO: ---------------------------\n",
      "COMET WARNING: As you are running in a Jupyter environment, you will need to call `experiment.end()` when finished to ensure all metrics and code are logged before exiting.\n",
      "COMET INFO: Experiment is live on comet.com https://www.comet.com/milosz-l/hugging-face-text-classification/31211f31d7664fd6a0f3fb350faa1f3d\n",
      "\n",
      "Saving model checkpoint to ./results/checkpoint-1375\n",
      "Configuration saved in ./results/checkpoint-1375/config.json\n"
     ]
    },
    {
     "name": "stdout",
     "output_type": "stream",
     "text": [
      "{'eval_loss': 0.7957478165626526, 'eval_accuracy': 0.6375838926174496, 'eval_f1': 0.5557039404055918, 'eval_precision': 0.6330497599098311, 'eval_recall': 0.5369672748984894, 'eval_runtime': 321.3303, 'eval_samples_per_second': 5.101, 'eval_steps_per_second': 0.638, 'epoch': 0.75}\n"
     ]
    },
    {
     "name": "stderr",
     "output_type": "stream",
     "text": [
      "Model weights saved in ./results/checkpoint-1375/pytorch_model.bin\n",
      "Deleting older checkpoint [results/checkpoint-1125] due to args.save_total_limit\n",
      "***** Running Evaluation *****\n",
      "  Num examples = 1639\n",
      "  Batch size = 8\n"
     ]
    },
    {
     "data": {
      "application/vnd.jupyter.widget-view+json": {
       "model_id": "40357edfaf1c4180beff65a89065f3c6",
       "version_major": 2,
       "version_minor": 0
      },
      "text/plain": [
       "  0%|          | 0/205 [00:00<?, ?it/s]"
      ]
     },
     "metadata": {},
     "output_type": "display_data"
    },
    {
     "name": "stderr",
     "output_type": "stream",
     "text": [
      "COMET INFO: ---------------------------\n",
      "COMET INFO: Comet.ml Experiment Summary\n",
      "COMET INFO: ---------------------------\n",
      "COMET INFO:   Data:\n",
      "COMET INFO:     display_summary_level : 1\n",
      "COMET INFO:     url                   : https://www.comet.com/milosz-l/hugging-face-text-classification/31211f31d7664fd6a0f3fb350faa1f3d\n",
      "COMET INFO:   Metrics [count] (min, max):\n",
      "COMET INFO:     eval/accuracy           : 0.6375838926174496\n",
      "COMET INFO:     eval/f1                 : 0.5557039404055918\n",
      "COMET INFO:     eval/loss               : 0.7957478165626526\n",
      "COMET INFO:     eval/precision          : 0.6330497599098311\n",
      "COMET INFO:     eval/recall             : 0.5369672748984894\n",
      "COMET INFO:     eval/runtime            : 321.3303\n",
      "COMET INFO:     eval/samples_per_second : 5.101\n",
      "COMET INFO:     eval/steps_per_second   : 0.638\n",
      "COMET INFO:     loss [3]                : (0.8966601490974426, 1.3722202777862549)\n",
      "COMET INFO:     train/epoch             : 0.75\n",
      "COMET INFO:   Uploads:\n",
      "COMET INFO:     conda-environment-definition : 1\n",
      "COMET INFO:     conda-info                   : 1\n",
      "COMET INFO:     conda-specification          : 1\n",
      "COMET INFO:     confusion-matrix             : 1\n",
      "COMET INFO:     environment details          : 1\n",
      "COMET INFO:     filename                     : 1\n",
      "COMET INFO:     git metadata                 : 1\n",
      "COMET INFO:     git-patch (uncompressed)     : 1 (5.85 MB)\n",
      "COMET INFO:     installed packages           : 1\n",
      "COMET INFO:     notebook                     : 1\n",
      "COMET INFO:     source_code                  : 1\n",
      "COMET INFO: ---------------------------\n",
      "COMET WARNING: As you are running in a Jupyter environment, you will need to call `experiment.end()` when finished to ensure all metrics and code are logged before exiting.\n",
      "COMET INFO: Experiment is live on comet.com https://www.comet.com/milosz-l/hugging-face-text-classification/b67cdfdedc954272a5bf8812767cc1de\n",
      "\n",
      "Saving model checkpoint to ./results/checkpoint-1400\n",
      "Configuration saved in ./results/checkpoint-1400/config.json\n"
     ]
    },
    {
     "name": "stdout",
     "output_type": "stream",
     "text": [
      "{'eval_loss': 0.8381747603416443, 'eval_accuracy': 0.6418547895057962, 'eval_f1': 0.5620359003757576, 'eval_precision': 0.6144054318547194, 'eval_recall': 0.5710004493397548, 'eval_runtime': 320.1395, 'eval_samples_per_second': 5.12, 'eval_steps_per_second': 0.64, 'epoch': 0.76}\n"
     ]
    },
    {
     "name": "stderr",
     "output_type": "stream",
     "text": [
      "Model weights saved in ./results/checkpoint-1400/pytorch_model.bin\n",
      "Deleting older checkpoint [results/checkpoint-1150] due to args.save_total_limit\n",
      "***** Running Evaluation *****\n",
      "  Num examples = 1639\n",
      "  Batch size = 8\n"
     ]
    },
    {
     "data": {
      "application/vnd.jupyter.widget-view+json": {
       "model_id": "2b9e02045be44115ae9f660dda2710fb",
       "version_major": 2,
       "version_minor": 0
      },
      "text/plain": [
       "  0%|          | 0/205 [00:00<?, ?it/s]"
      ]
     },
     "metadata": {},
     "output_type": "display_data"
    },
    {
     "name": "stderr",
     "output_type": "stream",
     "text": [
      "COMET INFO: ---------------------------\n",
      "COMET INFO: Comet.ml Experiment Summary\n",
      "COMET INFO: ---------------------------\n",
      "COMET INFO:   Data:\n",
      "COMET INFO:     display_summary_level : 1\n",
      "COMET INFO:     url                   : https://www.comet.com/milosz-l/hugging-face-text-classification/b67cdfdedc954272a5bf8812767cc1de\n",
      "COMET INFO:   Metrics [count] (min, max):\n",
      "COMET INFO:     eval/accuracy           : 0.6418547895057962\n",
      "COMET INFO:     eval/f1                 : 0.5620359003757576\n",
      "COMET INFO:     eval/loss               : 0.8381747603416443\n",
      "COMET INFO:     eval/precision          : 0.6144054318547194\n",
      "COMET INFO:     eval/recall             : 0.5710004493397548\n",
      "COMET INFO:     eval/runtime            : 320.1395\n",
      "COMET INFO:     eval/samples_per_second : 5.12\n",
      "COMET INFO:     eval/steps_per_second   : 0.64\n",
      "COMET INFO:     loss [2]                : (0.7946861982345581, 1.0885571241378784)\n",
      "COMET INFO:     train/epoch             : 0.76\n",
      "COMET INFO:   Uploads:\n",
      "COMET INFO:     conda-environment-definition : 1\n",
      "COMET INFO:     conda-info                   : 1\n",
      "COMET INFO:     conda-specification          : 1\n",
      "COMET INFO:     confusion-matrix             : 1\n",
      "COMET INFO:     environment details          : 1\n",
      "COMET INFO:     filename                     : 1\n",
      "COMET INFO:     git metadata                 : 1\n",
      "COMET INFO:     git-patch (uncompressed)     : 1 (5.85 MB)\n",
      "COMET INFO:     installed packages           : 1\n",
      "COMET INFO:     notebook                     : 1\n",
      "COMET INFO:     source_code                  : 1\n",
      "COMET INFO: ---------------------------\n",
      "COMET WARNING: As you are running in a Jupyter environment, you will need to call `experiment.end()` when finished to ensure all metrics and code are logged before exiting.\n",
      "COMET INFO: Experiment is live on comet.com https://www.comet.com/milosz-l/hugging-face-text-classification/938b6f5363564cdc9f964f128372bf79\n",
      "\n",
      "Saving model checkpoint to ./results/checkpoint-1425\n",
      "Configuration saved in ./results/checkpoint-1425/config.json\n"
     ]
    },
    {
     "name": "stdout",
     "output_type": "stream",
     "text": [
      "{'eval_loss': 0.9102694392204285, 'eval_accuracy': 0.600366076876144, 'eval_f1': 0.5101207067594955, 'eval_precision': 0.6284269923169358, 'eval_recall': 0.4971263151858329, 'eval_runtime': 322.8392, 'eval_samples_per_second': 5.077, 'eval_steps_per_second': 0.635, 'epoch': 0.77}\n"
     ]
    },
    {
     "name": "stderr",
     "output_type": "stream",
     "text": [
      "Model weights saved in ./results/checkpoint-1425/pytorch_model.bin\n",
      "Deleting older checkpoint [results/checkpoint-1175] due to args.save_total_limit\n",
      "***** Running Evaluation *****\n",
      "  Num examples = 1639\n",
      "  Batch size = 8\n"
     ]
    },
    {
     "data": {
      "application/vnd.jupyter.widget-view+json": {
       "model_id": "90df502ff1c94b6280e533c47eaed420",
       "version_major": 2,
       "version_minor": 0
      },
      "text/plain": [
       "  0%|          | 0/205 [00:00<?, ?it/s]"
      ]
     },
     "metadata": {},
     "output_type": "display_data"
    },
    {
     "name": "stderr",
     "output_type": "stream",
     "text": [
      "COMET INFO: ---------------------------\n",
      "COMET INFO: Comet.ml Experiment Summary\n",
      "COMET INFO: ---------------------------\n",
      "COMET INFO:   Data:\n",
      "COMET INFO:     display_summary_level : 1\n",
      "COMET INFO:     url                   : https://www.comet.com/milosz-l/hugging-face-text-classification/938b6f5363564cdc9f964f128372bf79\n",
      "COMET INFO:   Metrics [count] (min, max):\n",
      "COMET INFO:     eval/accuracy           : 0.600366076876144\n",
      "COMET INFO:     eval/f1                 : 0.5101207067594955\n",
      "COMET INFO:     eval/loss               : 0.9102694392204285\n",
      "COMET INFO:     eval/precision          : 0.6284269923169358\n",
      "COMET INFO:     eval/recall             : 0.4971263151858329\n",
      "COMET INFO:     eval/runtime            : 322.8392\n",
      "COMET INFO:     eval/samples_per_second : 5.077\n",
      "COMET INFO:     eval/steps_per_second   : 0.635\n",
      "COMET INFO:     loss [3]                : (0.5704209804534912, 1.0868043899536133)\n",
      "COMET INFO:     train/epoch             : 0.77\n",
      "COMET INFO:   Uploads:\n",
      "COMET INFO:     conda-environment-definition : 1\n",
      "COMET INFO:     conda-info                   : 1\n",
      "COMET INFO:     conda-specification          : 1\n",
      "COMET INFO:     confusion-matrix             : 1\n",
      "COMET INFO:     environment details          : 1\n",
      "COMET INFO:     filename                     : 1\n",
      "COMET INFO:     git metadata                 : 1\n",
      "COMET INFO:     git-patch (uncompressed)     : 1 (5.85 MB)\n",
      "COMET INFO:     installed packages           : 1\n",
      "COMET INFO:     notebook                     : 1\n",
      "COMET INFO:     source_code                  : 1\n",
      "COMET INFO: ---------------------------\n",
      "COMET WARNING: As you are running in a Jupyter environment, you will need to call `experiment.end()` when finished to ensure all metrics and code are logged before exiting.\n",
      "COMET INFO: Experiment is live on comet.com https://www.comet.com/milosz-l/hugging-face-text-classification/46bc913d70b84f748244b6b6d93013a3\n",
      "\n",
      "Saving model checkpoint to ./results/checkpoint-1450\n",
      "Configuration saved in ./results/checkpoint-1450/config.json\n"
     ]
    },
    {
     "name": "stdout",
     "output_type": "stream",
     "text": [
      "{'eval_loss': 0.8797035217285156, 'eval_accuracy': 0.6211104331909701, 'eval_f1': 0.5715794358728737, 'eval_precision': 0.6063825646093365, 'eval_recall': 0.5604527366417427, 'eval_runtime': 320.6975, 'eval_samples_per_second': 5.111, 'eval_steps_per_second': 0.639, 'epoch': 0.79}\n"
     ]
    },
    {
     "name": "stderr",
     "output_type": "stream",
     "text": [
      "Model weights saved in ./results/checkpoint-1450/pytorch_model.bin\n",
      "Deleting older checkpoint [results/checkpoint-1200] due to args.save_total_limit\n",
      "***** Running Evaluation *****\n",
      "  Num examples = 1639\n",
      "  Batch size = 8\n"
     ]
    },
    {
     "data": {
      "application/vnd.jupyter.widget-view+json": {
       "model_id": "b8fe7f181e5d4fd6baaf32fe98237a42",
       "version_major": 2,
       "version_minor": 0
      },
      "text/plain": [
       "  0%|          | 0/205 [00:00<?, ?it/s]"
      ]
     },
     "metadata": {},
     "output_type": "display_data"
    },
    {
     "name": "stderr",
     "output_type": "stream",
     "text": [
      "COMET INFO: ---------------------------\n",
      "COMET INFO: Comet.ml Experiment Summary\n",
      "COMET INFO: ---------------------------\n",
      "COMET INFO:   Data:\n",
      "COMET INFO:     display_summary_level : 1\n",
      "COMET INFO:     url                   : https://www.comet.com/milosz-l/hugging-face-text-classification/46bc913d70b84f748244b6b6d93013a3\n",
      "COMET INFO:   Metrics [count] (min, max):\n",
      "COMET INFO:     eval/accuracy           : 0.6211104331909701\n",
      "COMET INFO:     eval/f1                 : 0.5715794358728737\n",
      "COMET INFO:     eval/loss               : 0.8797035217285156\n",
      "COMET INFO:     eval/precision          : 0.6063825646093365\n",
      "COMET INFO:     eval/recall             : 0.5604527366417427\n",
      "COMET INFO:     eval/runtime            : 320.6975\n",
      "COMET INFO:     eval/samples_per_second : 5.111\n",
      "COMET INFO:     eval/steps_per_second   : 0.639\n",
      "COMET INFO:     loss [2]                : (0.46433383226394653, 0.7143211364746094)\n",
      "COMET INFO:     train/epoch             : 0.79\n",
      "COMET INFO:   Uploads:\n",
      "COMET INFO:     conda-environment-definition : 1\n",
      "COMET INFO:     conda-info                   : 1\n",
      "COMET INFO:     conda-specification          : 1\n",
      "COMET INFO:     confusion-matrix             : 1\n",
      "COMET INFO:     environment details          : 1\n",
      "COMET INFO:     filename                     : 1\n",
      "COMET INFO:     git metadata                 : 1\n",
      "COMET INFO:     git-patch (uncompressed)     : 1 (5.85 MB)\n",
      "COMET INFO:     installed packages           : 1\n",
      "COMET INFO:     notebook                     : 1\n",
      "COMET INFO:     source_code                  : 1\n",
      "COMET INFO: ---------------------------\n",
      "COMET WARNING: As you are running in a Jupyter environment, you will need to call `experiment.end()` when finished to ensure all metrics and code are logged before exiting.\n",
      "COMET INFO: Experiment is live on comet.com https://www.comet.com/milosz-l/hugging-face-text-classification/1b59f75c28d149b894ad758eb034a456\n",
      "\n",
      "Saving model checkpoint to ./results/checkpoint-1475\n",
      "Configuration saved in ./results/checkpoint-1475/config.json\n"
     ]
    },
    {
     "name": "stdout",
     "output_type": "stream",
     "text": [
      "{'eval_loss': 0.8079079389572144, 'eval_accuracy': 0.6327028676021964, 'eval_f1': 0.5624428772125534, 'eval_precision': 0.6027095813076755, 'eval_recall': 0.5481654087962468, 'eval_runtime': 321.9088, 'eval_samples_per_second': 5.092, 'eval_steps_per_second': 0.637, 'epoch': 0.8}\n"
     ]
    },
    {
     "name": "stderr",
     "output_type": "stream",
     "text": [
      "Model weights saved in ./results/checkpoint-1475/pytorch_model.bin\n",
      "Deleting older checkpoint [results/checkpoint-1225] due to args.save_total_limit\n",
      "***** Running Evaluation *****\n",
      "  Num examples = 1639\n",
      "  Batch size = 8\n"
     ]
    },
    {
     "name": "stdout",
     "output_type": "stream",
     "text": [
      "{'loss': 0.8939, 'learning_rate': 4.959349593495935e-05, 'epoch': 0.81}\n"
     ]
    },
    {
     "data": {
      "application/vnd.jupyter.widget-view+json": {
       "model_id": "f8a310f4663f4318b8901bc65b7f53ba",
       "version_major": 2,
       "version_minor": 0
      },
      "text/plain": [
       "  0%|          | 0/205 [00:00<?, ?it/s]"
      ]
     },
     "metadata": {},
     "output_type": "display_data"
    },
    {
     "name": "stderr",
     "output_type": "stream",
     "text": [
      "COMET INFO: ---------------------------\n",
      "COMET INFO: Comet.ml Experiment Summary\n",
      "COMET INFO: ---------------------------\n",
      "COMET INFO:   Data:\n",
      "COMET INFO:     display_summary_level : 1\n",
      "COMET INFO:     url                   : https://www.comet.com/milosz-l/hugging-face-text-classification/1b59f75c28d149b894ad758eb034a456\n",
      "COMET INFO:   Metrics [count] (min, max):\n",
      "COMET INFO:     eval/accuracy           : 0.6327028676021964\n",
      "COMET INFO:     eval/f1                 : 0.5624428772125534\n",
      "COMET INFO:     eval/loss               : 0.8079079389572144\n",
      "COMET INFO:     eval/precision          : 0.6027095813076755\n",
      "COMET INFO:     eval/recall             : 0.5481654087962468\n",
      "COMET INFO:     eval/runtime            : 321.9088\n",
      "COMET INFO:     eval/samples_per_second : 5.092\n",
      "COMET INFO:     eval/steps_per_second   : 0.637\n",
      "COMET INFO:     loss [3]                : (0.5823798775672913, 0.8863918781280518)\n",
      "COMET INFO:     train/epoch [2]         : (0.8, 0.81)\n",
      "COMET INFO:     train/learning_rate     : 4.959349593495935e-05\n",
      "COMET INFO:     train/loss              : 0.8939\n",
      "COMET INFO:   Uploads:\n",
      "COMET INFO:     conda-environment-definition : 1\n",
      "COMET INFO:     conda-info                   : 1\n",
      "COMET INFO:     conda-specification          : 1\n",
      "COMET INFO:     confusion-matrix             : 1\n",
      "COMET INFO:     environment details          : 1\n",
      "COMET INFO:     filename                     : 1\n",
      "COMET INFO:     git metadata                 : 1\n",
      "COMET INFO:     git-patch (uncompressed)     : 1 (5.85 MB)\n",
      "COMET INFO:     installed packages           : 1\n",
      "COMET INFO:     notebook                     : 1\n",
      "COMET INFO:     source_code                  : 1\n",
      "COMET INFO: ---------------------------\n",
      "COMET WARNING: As you are running in a Jupyter environment, you will need to call `experiment.end()` when finished to ensure all metrics and code are logged before exiting.\n",
      "COMET INFO: Experiment is live on comet.com https://www.comet.com/milosz-l/hugging-face-text-classification/3b966d62995a4397abcc679b40304897\n",
      "\n",
      "Saving model checkpoint to ./results/checkpoint-1500\n",
      "Configuration saved in ./results/checkpoint-1500/config.json\n"
     ]
    },
    {
     "name": "stdout",
     "output_type": "stream",
     "text": [
      "{'eval_loss': 0.82491534948349, 'eval_accuracy': 0.62477120195241, 'eval_f1': 0.5441740023644154, 'eval_precision': 0.6154771714212167, 'eval_recall': 0.5118109718602085, 'eval_runtime': 319.1142, 'eval_samples_per_second': 5.136, 'eval_steps_per_second': 0.642, 'epoch': 0.81}\n"
     ]
    },
    {
     "name": "stderr",
     "output_type": "stream",
     "text": [
      "Model weights saved in ./results/checkpoint-1500/pytorch_model.bin\n",
      "Deleting older checkpoint [results/checkpoint-1250] due to args.save_total_limit\n",
      "***** Running Evaluation *****\n",
      "  Num examples = 1639\n",
      "  Batch size = 8\n"
     ]
    },
    {
     "data": {
      "application/vnd.jupyter.widget-view+json": {
       "model_id": "a282fa55364b4ae68160bda24185c777",
       "version_major": 2,
       "version_minor": 0
      },
      "text/plain": [
       "  0%|          | 0/205 [00:00<?, ?it/s]"
      ]
     },
     "metadata": {},
     "output_type": "display_data"
    },
    {
     "name": "stderr",
     "output_type": "stream",
     "text": [
      "COMET INFO: ---------------------------\n",
      "COMET INFO: Comet.ml Experiment Summary\n",
      "COMET INFO: ---------------------------\n",
      "COMET INFO:   Data:\n",
      "COMET INFO:     display_summary_level : 1\n",
      "COMET INFO:     url                   : https://www.comet.com/milosz-l/hugging-face-text-classification/3b966d62995a4397abcc679b40304897\n",
      "COMET INFO:   Metrics [count] (min, max):\n",
      "COMET INFO:     eval/accuracy           : 0.62477120195241\n",
      "COMET INFO:     eval/f1                 : 0.5441740023644154\n",
      "COMET INFO:     eval/loss               : 0.82491534948349\n",
      "COMET INFO:     eval/precision          : 0.6154771714212167\n",
      "COMET INFO:     eval/recall             : 0.5118109718602085\n",
      "COMET INFO:     eval/runtime            : 319.1142\n",
      "COMET INFO:     eval/samples_per_second : 5.136\n",
      "COMET INFO:     eval/steps_per_second   : 0.642\n",
      "COMET INFO:     loss [2]                : (0.6439694166183472, 1.362459421157837)\n",
      "COMET INFO:     train/epoch             : 0.81\n",
      "COMET INFO:   Uploads:\n",
      "COMET INFO:     conda-environment-definition : 1\n",
      "COMET INFO:     conda-info                   : 1\n",
      "COMET INFO:     conda-specification          : 1\n",
      "COMET INFO:     confusion-matrix             : 1\n",
      "COMET INFO:     environment details          : 1\n",
      "COMET INFO:     filename                     : 1\n",
      "COMET INFO:     git metadata                 : 1\n",
      "COMET INFO:     git-patch (uncompressed)     : 1 (5.85 MB)\n",
      "COMET INFO:     installed packages           : 1\n",
      "COMET INFO:     notebook                     : 1\n",
      "COMET INFO:     source_code                  : 1\n",
      "COMET INFO: ---------------------------\n",
      "COMET WARNING: As you are running in a Jupyter environment, you will need to call `experiment.end()` when finished to ensure all metrics and code are logged before exiting.\n",
      "COMET INFO: Experiment is live on comet.com https://www.comet.com/milosz-l/hugging-face-text-classification/8a69edd90da1488cae05f3cefb7c7545\n",
      "\n",
      "Saving model checkpoint to ./results/checkpoint-1525\n",
      "Configuration saved in ./results/checkpoint-1525/config.json\n"
     ]
    },
    {
     "name": "stdout",
     "output_type": "stream",
     "text": [
      "{'eval_loss': 0.8272016048431396, 'eval_accuracy': 0.6180597925564368, 'eval_f1': 0.5309077699265264, 'eval_precision': 0.6090667301528091, 'eval_recall': 0.5002187103442404, 'eval_runtime': 319.0698, 'eval_samples_per_second': 5.137, 'eval_steps_per_second': 0.642, 'epoch': 0.83}\n"
     ]
    },
    {
     "name": "stderr",
     "output_type": "stream",
     "text": [
      "Model weights saved in ./results/checkpoint-1525/pytorch_model.bin\n",
      "Deleting older checkpoint [results/checkpoint-1275] due to args.save_total_limit\n",
      "***** Running Evaluation *****\n",
      "  Num examples = 1639\n",
      "  Batch size = 8\n"
     ]
    },
    {
     "data": {
      "application/vnd.jupyter.widget-view+json": {
       "model_id": "26274802e15f46639d62e43ffb4a39dc",
       "version_major": 2,
       "version_minor": 0
      },
      "text/plain": [
       "  0%|          | 0/205 [00:00<?, ?it/s]"
      ]
     },
     "metadata": {},
     "output_type": "display_data"
    },
    {
     "name": "stderr",
     "output_type": "stream",
     "text": [
      "COMET INFO: ---------------------------\n",
      "COMET INFO: Comet.ml Experiment Summary\n",
      "COMET INFO: ---------------------------\n",
      "COMET INFO:   Data:\n",
      "COMET INFO:     display_summary_level : 1\n",
      "COMET INFO:     url                   : https://www.comet.com/milosz-l/hugging-face-text-classification/8a69edd90da1488cae05f3cefb7c7545\n",
      "COMET INFO:   Metrics [count] (min, max):\n",
      "COMET INFO:     eval/accuracy           : 0.6180597925564368\n",
      "COMET INFO:     eval/f1                 : 0.5309077699265264\n",
      "COMET INFO:     eval/loss               : 0.8272016048431396\n",
      "COMET INFO:     eval/precision          : 0.6090667301528091\n",
      "COMET INFO:     eval/recall             : 0.5002187103442404\n",
      "COMET INFO:     eval/runtime            : 319.0698\n",
      "COMET INFO:     eval/samples_per_second : 5.137\n",
      "COMET INFO:     eval/steps_per_second   : 0.642\n",
      "COMET INFO:     loss [3]                : (0.42927080392837524, 1.2461721897125244)\n",
      "COMET INFO:     train/epoch             : 0.83\n",
      "COMET INFO:   Uploads:\n",
      "COMET INFO:     conda-environment-definition : 1\n",
      "COMET INFO:     conda-info                   : 1\n",
      "COMET INFO:     conda-specification          : 1\n",
      "COMET INFO:     confusion-matrix             : 1\n",
      "COMET INFO:     environment details          : 1\n",
      "COMET INFO:     filename                     : 1\n",
      "COMET INFO:     git metadata                 : 1\n",
      "COMET INFO:     git-patch (uncompressed)     : 1 (5.85 MB)\n",
      "COMET INFO:     installed packages           : 1\n",
      "COMET INFO:     notebook                     : 1\n",
      "COMET INFO:     source_code                  : 1\n",
      "COMET INFO: ---------------------------\n",
      "COMET WARNING: As you are running in a Jupyter environment, you will need to call `experiment.end()` when finished to ensure all metrics and code are logged before exiting.\n",
      "COMET INFO: Experiment is live on comet.com https://www.comet.com/milosz-l/hugging-face-text-classification/55823f89c17e4fe487d2b2fccd864c66\n",
      "\n",
      "Saving model checkpoint to ./results/checkpoint-1550\n",
      "Configuration saved in ./results/checkpoint-1550/config.json\n"
     ]
    },
    {
     "name": "stdout",
     "output_type": "stream",
     "text": [
      "{'eval_loss': 0.8964154124259949, 'eval_accuracy': 0.6064673581452105, 'eval_f1': 0.5123721025689052, 'eval_precision': 0.6363903126905498, 'eval_recall': 0.4801097024154388, 'eval_runtime': 319.2652, 'eval_samples_per_second': 5.134, 'eval_steps_per_second': 0.642, 'epoch': 0.84}\n"
     ]
    },
    {
     "name": "stderr",
     "output_type": "stream",
     "text": [
      "Model weights saved in ./results/checkpoint-1550/pytorch_model.bin\n",
      "Deleting older checkpoint [results/checkpoint-1300] due to args.save_total_limit\n",
      "***** Running Evaluation *****\n",
      "  Num examples = 1639\n",
      "  Batch size = 8\n"
     ]
    },
    {
     "data": {
      "application/vnd.jupyter.widget-view+json": {
       "model_id": "e18f27b1c8af412cab8db1c03870b01b",
       "version_major": 2,
       "version_minor": 0
      },
      "text/plain": [
       "  0%|          | 0/205 [00:00<?, ?it/s]"
      ]
     },
     "metadata": {},
     "output_type": "display_data"
    },
    {
     "name": "stderr",
     "output_type": "stream",
     "text": [
      "COMET INFO: ---------------------------\n",
      "COMET INFO: Comet.ml Experiment Summary\n",
      "COMET INFO: ---------------------------\n",
      "COMET INFO:   Data:\n",
      "COMET INFO:     display_summary_level : 1\n",
      "COMET INFO:     url                   : https://www.comet.com/milosz-l/hugging-face-text-classification/55823f89c17e4fe487d2b2fccd864c66\n",
      "COMET INFO:   Metrics [count] (min, max):\n",
      "COMET INFO:     eval/accuracy           : 0.6064673581452105\n",
      "COMET INFO:     eval/f1                 : 0.5123721025689052\n",
      "COMET INFO:     eval/loss               : 0.8964154124259949\n",
      "COMET INFO:     eval/precision          : 0.6363903126905498\n",
      "COMET INFO:     eval/recall             : 0.4801097024154388\n",
      "COMET INFO:     eval/runtime            : 319.2652\n",
      "COMET INFO:     eval/samples_per_second : 5.134\n",
      "COMET INFO:     eval/steps_per_second   : 0.642\n",
      "COMET INFO:     loss [2]                : (0.7886634469032288, 1.5620113611221313)\n",
      "COMET INFO:     train/epoch             : 0.84\n",
      "COMET INFO:   Uploads:\n",
      "COMET INFO:     conda-environment-definition : 1\n",
      "COMET INFO:     conda-info                   : 1\n",
      "COMET INFO:     conda-specification          : 1\n",
      "COMET INFO:     confusion-matrix             : 1\n",
      "COMET INFO:     environment details          : 1\n",
      "COMET INFO:     filename                     : 1\n",
      "COMET INFO:     git metadata                 : 1\n",
      "COMET INFO:     git-patch (uncompressed)     : 1 (5.85 MB)\n",
      "COMET INFO:     installed packages           : 1\n",
      "COMET INFO:     notebook                     : 1\n",
      "COMET INFO:     source_code                  : 1\n",
      "COMET INFO: ---------------------------\n",
      "COMET ERROR: Error sending a notification, make sure you have opted-in for notifications\n",
      "COMET WARNING: As you are running in a Jupyter environment, you will need to call `experiment.end()` when finished to ensure all metrics and code are logged before exiting.\n",
      "COMET INFO: Experiment is live on comet.com https://www.comet.com/milosz-l/hugging-face-text-classification/60454a10c92d45a7a27fe534207641ee\n",
      "\n",
      "Saving model checkpoint to ./results/checkpoint-1575\n",
      "Configuration saved in ./results/checkpoint-1575/config.json\n"
     ]
    },
    {
     "name": "stdout",
     "output_type": "stream",
     "text": [
      "{'eval_loss': 0.8165584206581116, 'eval_accuracy': 0.6186699206833435, 'eval_f1': 0.516565814990635, 'eval_precision': 0.5846792536804137, 'eval_recall': 0.5403919900831012, 'eval_runtime': 328.6395, 'eval_samples_per_second': 4.987, 'eval_steps_per_second': 0.624, 'epoch': 0.85}\n"
     ]
    },
    {
     "name": "stderr",
     "output_type": "stream",
     "text": [
      "Model weights saved in ./results/checkpoint-1575/pytorch_model.bin\n",
      "Deleting older checkpoint [results/checkpoint-1325] due to args.save_total_limit\n",
      "***** Running Evaluation *****\n",
      "  Num examples = 1639\n",
      "  Batch size = 8\n"
     ]
    },
    {
     "data": {
      "application/vnd.jupyter.widget-view+json": {
       "model_id": "4fa69e2127894549b1bab19b0a17c7a2",
       "version_major": 2,
       "version_minor": 0
      },
      "text/plain": [
       "  0%|          | 0/205 [00:00<?, ?it/s]"
      ]
     },
     "metadata": {},
     "output_type": "display_data"
    },
    {
     "name": "stderr",
     "output_type": "stream",
     "text": [
      "COMET INFO: ---------------------------\n",
      "COMET INFO: Comet.ml Experiment Summary\n",
      "COMET INFO: ---------------------------\n",
      "COMET INFO:   Data:\n",
      "COMET INFO:     display_summary_level : 1\n",
      "COMET INFO:     url                   : https://www.comet.com/milosz-l/hugging-face-text-classification/60454a10c92d45a7a27fe534207641ee\n",
      "COMET INFO:   Metrics [count] (min, max):\n",
      "COMET INFO:     eval/accuracy           : 0.6186699206833435\n",
      "COMET INFO:     eval/f1                 : 0.516565814990635\n",
      "COMET INFO:     eval/loss               : 0.8165584206581116\n",
      "COMET INFO:     eval/precision          : 0.5846792536804137\n",
      "COMET INFO:     eval/recall             : 0.5403919900831012\n",
      "COMET INFO:     eval/runtime            : 328.6395\n",
      "COMET INFO:     eval/samples_per_second : 4.987\n",
      "COMET INFO:     eval/steps_per_second   : 0.624\n",
      "COMET INFO:     loss [3]                : (0.8128971457481384, 1.3136558532714844)\n",
      "COMET INFO:     train/epoch             : 0.85\n",
      "COMET INFO:   Uploads:\n",
      "COMET INFO:     conda-environment-definition : 1\n",
      "COMET INFO:     conda-info                   : 1\n",
      "COMET INFO:     conda-specification          : 1\n",
      "COMET INFO:     confusion-matrix             : 1\n",
      "COMET INFO:     environment details          : 1\n",
      "COMET INFO:     filename                     : 1\n",
      "COMET INFO:     git metadata                 : 1\n",
      "COMET INFO:     git-patch (uncompressed)     : 1 (5.85 MB)\n",
      "COMET INFO:     installed packages           : 1\n",
      "COMET INFO:     notebook                     : 1\n",
      "COMET INFO:     source_code                  : 1\n",
      "COMET INFO: ---------------------------\n",
      "COMET WARNING: As you are running in a Jupyter environment, you will need to call `experiment.end()` when finished to ensure all metrics and code are logged before exiting.\n",
      "COMET INFO: Experiment is live on comet.com https://www.comet.com/milosz-l/hugging-face-text-classification/52e9fafada4244ff9c2c5575b9a1dac3\n",
      "\n",
      "Saving model checkpoint to ./results/checkpoint-1600\n",
      "Configuration saved in ./results/checkpoint-1600/config.json\n"
     ]
    },
    {
     "name": "stdout",
     "output_type": "stream",
     "text": [
      "{'eval_loss': 0.918257474899292, 'eval_accuracy': 0.5991458206223307, 'eval_f1': 0.534464261797209, 'eval_precision': 0.59446193295317, 'eval_recall': 0.5389667873238758, 'eval_runtime': 320.4121, 'eval_samples_per_second': 5.115, 'eval_steps_per_second': 0.64, 'epoch': 0.87}\n"
     ]
    },
    {
     "name": "stderr",
     "output_type": "stream",
     "text": [
      "Model weights saved in ./results/checkpoint-1600/pytorch_model.bin\n",
      "Deleting older checkpoint [results/checkpoint-1350] due to args.save_total_limit\n",
      "***** Running Evaluation *****\n",
      "  Num examples = 1639\n",
      "  Batch size = 8\n"
     ]
    },
    {
     "data": {
      "application/vnd.jupyter.widget-view+json": {
       "model_id": "673467a9912944b08119ca714c7c9bab",
       "version_major": 2,
       "version_minor": 0
      },
      "text/plain": [
       "  0%|          | 0/205 [00:00<?, ?it/s]"
      ]
     },
     "metadata": {},
     "output_type": "display_data"
    },
    {
     "name": "stderr",
     "output_type": "stream",
     "text": [
      "COMET INFO: ---------------------------\n",
      "COMET INFO: Comet.ml Experiment Summary\n",
      "COMET INFO: ---------------------------\n",
      "COMET INFO:   Data:\n",
      "COMET INFO:     display_summary_level : 1\n",
      "COMET INFO:     url                   : https://www.comet.com/milosz-l/hugging-face-text-classification/52e9fafada4244ff9c2c5575b9a1dac3\n",
      "COMET INFO:   Metrics [count] (min, max):\n",
      "COMET INFO:     eval/accuracy           : 0.5991458206223307\n",
      "COMET INFO:     eval/f1                 : 0.534464261797209\n",
      "COMET INFO:     eval/loss               : 0.918257474899292\n",
      "COMET INFO:     eval/precision          : 0.59446193295317\n",
      "COMET INFO:     eval/recall             : 0.5389667873238758\n",
      "COMET INFO:     eval/runtime            : 320.4121\n",
      "COMET INFO:     eval/samples_per_second : 5.115\n",
      "COMET INFO:     eval/steps_per_second   : 0.64\n",
      "COMET INFO:     loss [2]                : (0.42953282594680786, 0.7904141545295715)\n",
      "COMET INFO:     train/epoch             : 0.87\n",
      "COMET INFO:   Uploads:\n",
      "COMET INFO:     conda-environment-definition : 1\n",
      "COMET INFO:     conda-info                   : 1\n",
      "COMET INFO:     conda-specification          : 1\n",
      "COMET INFO:     confusion-matrix             : 1\n",
      "COMET INFO:     environment details          : 1\n",
      "COMET INFO:     filename                     : 1\n",
      "COMET INFO:     git metadata                 : 1\n",
      "COMET INFO:     git-patch (uncompressed)     : 1 (5.85 MB)\n",
      "COMET INFO:     installed packages           : 1\n",
      "COMET INFO:     notebook                     : 1\n",
      "COMET INFO:     source_code                  : 1\n",
      "COMET INFO: ---------------------------\n",
      "COMET WARNING: As you are running in a Jupyter environment, you will need to call `experiment.end()` when finished to ensure all metrics and code are logged before exiting.\n",
      "COMET INFO: Experiment is live on comet.com https://www.comet.com/milosz-l/hugging-face-text-classification/db32bc734b18422bbf58fd3c0290eaea\n",
      "\n",
      "Saving model checkpoint to ./results/checkpoint-1625\n",
      "Configuration saved in ./results/checkpoint-1625/config.json\n"
     ]
    },
    {
     "name": "stdout",
     "output_type": "stream",
     "text": [
      "{'eval_loss': 0.9942906498908997, 'eval_accuracy': 0.5838926174496645, 'eval_f1': 0.47797748258552303, 'eval_precision': 0.5499558442280154, 'eval_recall': 0.4747997732535632, 'eval_runtime': 318.8905, 'eval_samples_per_second': 5.14, 'eval_steps_per_second': 0.643, 'epoch': 0.88}\n"
     ]
    },
    {
     "name": "stderr",
     "output_type": "stream",
     "text": [
      "Model weights saved in ./results/checkpoint-1625/pytorch_model.bin\n",
      "Deleting older checkpoint [results/checkpoint-1375] due to args.save_total_limit\n",
      "***** Running Evaluation *****\n",
      "  Num examples = 1639\n",
      "  Batch size = 8\n"
     ]
    },
    {
     "data": {
      "application/vnd.jupyter.widget-view+json": {
       "model_id": "068d50a797ae45d0bd0b6ae7ffe316cc",
       "version_major": 2,
       "version_minor": 0
      },
      "text/plain": [
       "  0%|          | 0/205 [00:00<?, ?it/s]"
      ]
     },
     "metadata": {},
     "output_type": "display_data"
    },
    {
     "name": "stderr",
     "output_type": "stream",
     "text": [
      "COMET INFO: ---------------------------\n",
      "COMET INFO: Comet.ml Experiment Summary\n",
      "COMET INFO: ---------------------------\n",
      "COMET INFO:   Data:\n",
      "COMET INFO:     display_summary_level : 1\n",
      "COMET INFO:     url                   : https://www.comet.com/milosz-l/hugging-face-text-classification/db32bc734b18422bbf58fd3c0290eaea\n",
      "COMET INFO:   Metrics [count] (min, max):\n",
      "COMET INFO:     eval/accuracy           : 0.5838926174496645\n",
      "COMET INFO:     eval/f1                 : 0.47797748258552303\n",
      "COMET INFO:     eval/loss               : 0.9942906498908997\n",
      "COMET INFO:     eval/precision          : 0.5499558442280154\n",
      "COMET INFO:     eval/recall             : 0.4747997732535632\n",
      "COMET INFO:     eval/runtime            : 318.8905\n",
      "COMET INFO:     eval/samples_per_second : 5.14\n",
      "COMET INFO:     eval/steps_per_second   : 0.643\n",
      "COMET INFO:     loss [3]                : (0.5310341715812683, 1.1507713794708252)\n",
      "COMET INFO:     train/epoch             : 0.88\n",
      "COMET INFO:   Uploads:\n",
      "COMET INFO:     conda-environment-definition : 1\n",
      "COMET INFO:     conda-info                   : 1\n",
      "COMET INFO:     conda-specification          : 1\n",
      "COMET INFO:     confusion-matrix             : 1\n",
      "COMET INFO:     environment details          : 1\n",
      "COMET INFO:     filename                     : 1\n",
      "COMET INFO:     git metadata                 : 1\n",
      "COMET INFO:     git-patch (uncompressed)     : 1 (5.85 MB)\n",
      "COMET INFO:     installed packages           : 1\n",
      "COMET INFO:     notebook                     : 1\n",
      "COMET INFO:     source_code                  : 1\n",
      "COMET INFO: ---------------------------\n",
      "COMET WARNING: As you are running in a Jupyter environment, you will need to call `experiment.end()` when finished to ensure all metrics and code are logged before exiting.\n",
      "COMET INFO: Experiment is live on comet.com https://www.comet.com/milosz-l/hugging-face-text-classification/2aa411e8ea9c43f1a89d6007456bb14b\n",
      "\n",
      "Saving model checkpoint to ./results/checkpoint-1650\n",
      "Configuration saved in ./results/checkpoint-1650/config.json\n"
     ]
    },
    {
     "name": "stdout",
     "output_type": "stream",
     "text": [
      "{'eval_loss': 0.823662519454956, 'eval_accuracy': 0.6339231238560098, 'eval_f1': 0.5741789380182691, 'eval_precision': 0.599503255249507, 'eval_recall': 0.5765184570155342, 'eval_runtime': 318.5664, 'eval_samples_per_second': 5.145, 'eval_steps_per_second': 0.644, 'epoch': 0.89}\n"
     ]
    },
    {
     "name": "stderr",
     "output_type": "stream",
     "text": [
      "Model weights saved in ./results/checkpoint-1650/pytorch_model.bin\n",
      "Deleting older checkpoint [results/checkpoint-1400] due to args.save_total_limit\n",
      "***** Running Evaluation *****\n",
      "  Num examples = 1639\n",
      "  Batch size = 8\n"
     ]
    },
    {
     "data": {
      "application/vnd.jupyter.widget-view+json": {
       "model_id": "52c3a89041ab4ca1a0b982c1b138337c",
       "version_major": 2,
       "version_minor": 0
      },
      "text/plain": [
       "  0%|          | 0/205 [00:00<?, ?it/s]"
      ]
     },
     "metadata": {},
     "output_type": "display_data"
    },
    {
     "name": "stderr",
     "output_type": "stream",
     "text": [
      "COMET INFO: ---------------------------\n",
      "COMET INFO: Comet.ml Experiment Summary\n",
      "COMET INFO: ---------------------------\n",
      "COMET INFO:   Data:\n",
      "COMET INFO:     display_summary_level : 1\n",
      "COMET INFO:     url                   : https://www.comet.com/milosz-l/hugging-face-text-classification/2aa411e8ea9c43f1a89d6007456bb14b\n",
      "COMET INFO:   Metrics [count] (min, max):\n",
      "COMET INFO:     eval/accuracy           : 0.6339231238560098\n",
      "COMET INFO:     eval/f1                 : 0.5741789380182691\n",
      "COMET INFO:     eval/loss               : 0.823662519454956\n",
      "COMET INFO:     eval/precision          : 0.599503255249507\n",
      "COMET INFO:     eval/recall             : 0.5765184570155342\n",
      "COMET INFO:     eval/runtime            : 318.5664\n",
      "COMET INFO:     eval/samples_per_second : 5.145\n",
      "COMET INFO:     eval/steps_per_second   : 0.644\n",
      "COMET INFO:     loss [2]                : (0.5047141313552856, 0.6883012056350708)\n",
      "COMET INFO:     train/epoch             : 0.89\n",
      "COMET INFO:   Uploads:\n",
      "COMET INFO:     conda-environment-definition : 1\n",
      "COMET INFO:     conda-info                   : 1\n",
      "COMET INFO:     conda-specification          : 1\n",
      "COMET INFO:     confusion-matrix             : 1\n",
      "COMET INFO:     environment details          : 1\n",
      "COMET INFO:     filename                     : 1\n",
      "COMET INFO:     git metadata                 : 1\n",
      "COMET INFO:     git-patch (uncompressed)     : 1 (5.85 MB)\n",
      "COMET INFO:     installed packages           : 1\n",
      "COMET INFO:     notebook                     : 1\n",
      "COMET INFO:     source_code                  : 1\n",
      "COMET INFO: ---------------------------\n",
      "COMET WARNING: As you are running in a Jupyter environment, you will need to call `experiment.end()` when finished to ensure all metrics and code are logged before exiting.\n",
      "COMET INFO: Experiment is live on comet.com https://www.comet.com/milosz-l/hugging-face-text-classification/7c4bc789af9e4725890f420f904b296f\n",
      "\n",
      "Saving model checkpoint to ./results/checkpoint-1675\n",
      "Configuration saved in ./results/checkpoint-1675/config.json\n"
     ]
    },
    {
     "name": "stdout",
     "output_type": "stream",
     "text": [
      "{'eval_loss': 0.8120014667510986, 'eval_accuracy': 0.6461256863941428, 'eval_f1': 0.5801103175780252, 'eval_precision': 0.5961566721051379, 'eval_recall': 0.5926142855000884, 'eval_runtime': 319.3356, 'eval_samples_per_second': 5.133, 'eval_steps_per_second': 0.642, 'epoch': 0.91}\n"
     ]
    },
    {
     "name": "stderr",
     "output_type": "stream",
     "text": [
      "Model weights saved in ./results/checkpoint-1675/pytorch_model.bin\n",
      "Deleting older checkpoint [results/checkpoint-1425] due to args.save_total_limit\n",
      "***** Running Evaluation *****\n",
      "  Num examples = 1639\n",
      "  Batch size = 8\n"
     ]
    },
    {
     "data": {
      "application/vnd.jupyter.widget-view+json": {
       "model_id": "e3fbfba2126c4fa5a8316c31d9eaf91e",
       "version_major": 2,
       "version_minor": 0
      },
      "text/plain": [
       "  0%|          | 0/205 [00:00<?, ?it/s]"
      ]
     },
     "metadata": {},
     "output_type": "display_data"
    },
    {
     "name": "stderr",
     "output_type": "stream",
     "text": [
      "COMET INFO: ---------------------------\n",
      "COMET INFO: Comet.ml Experiment Summary\n",
      "COMET INFO: ---------------------------\n",
      "COMET INFO:   Data:\n",
      "COMET INFO:     display_summary_level : 1\n",
      "COMET INFO:     url                   : https://www.comet.com/milosz-l/hugging-face-text-classification/7c4bc789af9e4725890f420f904b296f\n",
      "COMET INFO:   Metrics [count] (min, max):\n",
      "COMET INFO:     eval/accuracy           : 0.6461256863941428\n",
      "COMET INFO:     eval/f1                 : 0.5801103175780252\n",
      "COMET INFO:     eval/loss               : 0.8120014667510986\n",
      "COMET INFO:     eval/precision          : 0.5961566721051379\n",
      "COMET INFO:     eval/recall             : 0.5926142855000884\n",
      "COMET INFO:     eval/runtime            : 319.3356\n",
      "COMET INFO:     eval/samples_per_second : 5.133\n",
      "COMET INFO:     eval/steps_per_second   : 0.642\n",
      "COMET INFO:     loss [3]                : (0.6920157074928284, 1.6150364875793457)\n",
      "COMET INFO:     train/epoch             : 0.91\n",
      "COMET INFO:   Uploads:\n",
      "COMET INFO:     conda-environment-definition : 1\n",
      "COMET INFO:     conda-info                   : 1\n",
      "COMET INFO:     conda-specification          : 1\n",
      "COMET INFO:     confusion-matrix             : 1\n",
      "COMET INFO:     environment details          : 1\n",
      "COMET INFO:     filename                     : 1\n",
      "COMET INFO:     git metadata                 : 1\n",
      "COMET INFO:     git-patch (uncompressed)     : 1 (5.85 MB)\n",
      "COMET INFO:     installed packages           : 1\n",
      "COMET INFO:     notebook                     : 1\n",
      "COMET INFO:     source_code                  : 1\n",
      "COMET INFO: ---------------------------\n",
      "COMET WARNING: As you are running in a Jupyter environment, you will need to call `experiment.end()` when finished to ensure all metrics and code are logged before exiting.\n",
      "COMET INFO: Experiment is live on comet.com https://www.comet.com/milosz-l/hugging-face-text-classification/a3b8e44b7acb426faffa494deb108418\n",
      "\n",
      "Saving model checkpoint to ./results/checkpoint-1700\n",
      "Configuration saved in ./results/checkpoint-1700/config.json\n"
     ]
    },
    {
     "name": "stdout",
     "output_type": "stream",
     "text": [
      "{'eval_loss': 0.7976662516593933, 'eval_accuracy': 0.6418547895057962, 'eval_f1': 0.6033426621539102, 'eval_precision': 0.6084465087228287, 'eval_recall': 0.6028848962085194, 'eval_runtime': 318.5286, 'eval_samples_per_second': 5.146, 'eval_steps_per_second': 0.644, 'epoch': 0.92}\n"
     ]
    },
    {
     "name": "stderr",
     "output_type": "stream",
     "text": [
      "Model weights saved in ./results/checkpoint-1700/pytorch_model.bin\n",
      "Deleting older checkpoint [results/checkpoint-1450] due to args.save_total_limit\n",
      "***** Running Evaluation *****\n",
      "  Num examples = 1639\n",
      "  Batch size = 8\n"
     ]
    },
    {
     "data": {
      "application/vnd.jupyter.widget-view+json": {
       "model_id": "df171eafbb5947af978e30cfad1206c0",
       "version_major": 2,
       "version_minor": 0
      },
      "text/plain": [
       "  0%|          | 0/205 [00:00<?, ?it/s]"
      ]
     },
     "metadata": {},
     "output_type": "display_data"
    },
    {
     "name": "stderr",
     "output_type": "stream",
     "text": [
      "COMET INFO: ---------------------------\n",
      "COMET INFO: Comet.ml Experiment Summary\n",
      "COMET INFO: ---------------------------\n",
      "COMET INFO:   Data:\n",
      "COMET INFO:     display_summary_level : 1\n",
      "COMET INFO:     url                   : https://www.comet.com/milosz-l/hugging-face-text-classification/a3b8e44b7acb426faffa494deb108418\n",
      "COMET INFO:   Metrics [count] (min, max):\n",
      "COMET INFO:     eval/accuracy           : 0.6418547895057962\n",
      "COMET INFO:     eval/f1                 : 0.6033426621539102\n",
      "COMET INFO:     eval/loss               : 0.7976662516593933\n",
      "COMET INFO:     eval/precision          : 0.6084465087228287\n",
      "COMET INFO:     eval/recall             : 0.6028848962085194\n",
      "COMET INFO:     eval/runtime            : 318.5286\n",
      "COMET INFO:     eval/samples_per_second : 5.146\n",
      "COMET INFO:     eval/steps_per_second   : 0.644\n",
      "COMET INFO:     loss [2]                : (1.1721280813217163, 1.1817277669906616)\n",
      "COMET INFO:     train/epoch             : 0.92\n",
      "COMET INFO:   Uploads:\n",
      "COMET INFO:     conda-environment-definition : 1\n",
      "COMET INFO:     conda-info                   : 1\n",
      "COMET INFO:     conda-specification          : 1\n",
      "COMET INFO:     confusion-matrix             : 1\n",
      "COMET INFO:     environment details          : 1\n",
      "COMET INFO:     filename                     : 1\n",
      "COMET INFO:     git metadata                 : 1\n",
      "COMET INFO:     git-patch (uncompressed)     : 1 (5.85 MB)\n",
      "COMET INFO:     installed packages           : 1\n",
      "COMET INFO:     notebook                     : 1\n",
      "COMET INFO:     source_code                  : 1\n",
      "COMET INFO: ---------------------------\n",
      "COMET WARNING: As you are running in a Jupyter environment, you will need to call `experiment.end()` when finished to ensure all metrics and code are logged before exiting.\n",
      "COMET INFO: Experiment is live on comet.com https://www.comet.com/milosz-l/hugging-face-text-classification/4ecd7f2d8d744587b60b740e6cb8a05f\n",
      "\n",
      "Saving model checkpoint to ./results/checkpoint-1725\n",
      "Configuration saved in ./results/checkpoint-1725/config.json\n"
     ]
    },
    {
     "name": "stdout",
     "output_type": "stream",
     "text": [
      "{'eval_loss': 0.8815115094184875, 'eval_accuracy': 0.6272117144600367, 'eval_f1': 0.5482184069686108, 'eval_precision': 0.6172146349894241, 'eval_recall': 0.5164232207929191, 'eval_runtime': 317.8879, 'eval_samples_per_second': 5.156, 'eval_steps_per_second': 0.645, 'epoch': 0.93}\n"
     ]
    },
    {
     "name": "stderr",
     "output_type": "stream",
     "text": [
      "Model weights saved in ./results/checkpoint-1725/pytorch_model.bin\n",
      "Deleting older checkpoint [results/checkpoint-1475] due to args.save_total_limit\n",
      "***** Running Evaluation *****\n",
      "  Num examples = 1639\n",
      "  Batch size = 8\n"
     ]
    },
    {
     "data": {
      "application/vnd.jupyter.widget-view+json": {
       "model_id": "4f9db2b7944049b8a27789f865665fc7",
       "version_major": 2,
       "version_minor": 0
      },
      "text/plain": [
       "  0%|          | 0/205 [00:00<?, ?it/s]"
      ]
     },
     "metadata": {},
     "output_type": "display_data"
    },
    {
     "name": "stderr",
     "output_type": "stream",
     "text": [
      "COMET INFO: ---------------------------\n",
      "COMET INFO: Comet.ml Experiment Summary\n",
      "COMET INFO: ---------------------------\n",
      "COMET INFO:   Data:\n",
      "COMET INFO:     display_summary_level : 1\n",
      "COMET INFO:     url                   : https://www.comet.com/milosz-l/hugging-face-text-classification/4ecd7f2d8d744587b60b740e6cb8a05f\n",
      "COMET INFO:   Metrics [count] (min, max):\n",
      "COMET INFO:     eval/accuracy           : 0.6272117144600367\n",
      "COMET INFO:     eval/f1                 : 0.5482184069686108\n",
      "COMET INFO:     eval/loss               : 0.8815115094184875\n",
      "COMET INFO:     eval/precision          : 0.6172146349894241\n",
      "COMET INFO:     eval/recall             : 0.5164232207929191\n",
      "COMET INFO:     eval/runtime            : 317.8879\n",
      "COMET INFO:     eval/samples_per_second : 5.156\n",
      "COMET INFO:     eval/steps_per_second   : 0.645\n",
      "COMET INFO:     loss [3]                : (0.22678078711032867, 1.3371007442474365)\n",
      "COMET INFO:     train/epoch             : 0.93\n",
      "COMET INFO:   Uploads:\n",
      "COMET INFO:     conda-environment-definition : 1\n",
      "COMET INFO:     conda-info                   : 1\n",
      "COMET INFO:     conda-specification          : 1\n",
      "COMET INFO:     confusion-matrix             : 1\n",
      "COMET INFO:     environment details          : 1\n",
      "COMET INFO:     filename                     : 1\n",
      "COMET INFO:     git metadata                 : 1\n",
      "COMET INFO:     git-patch (uncompressed)     : 1 (5.85 MB)\n",
      "COMET INFO:     installed packages           : 1\n",
      "COMET INFO:     notebook                     : 1\n",
      "COMET INFO:     source_code                  : 1\n",
      "COMET INFO: ---------------------------\n",
      "COMET WARNING: As you are running in a Jupyter environment, you will need to call `experiment.end()` when finished to ensure all metrics and code are logged before exiting.\n",
      "COMET INFO: Experiment is live on comet.com https://www.comet.com/milosz-l/hugging-face-text-classification/2f6309d2e8044667b642b1014a48ed30\n",
      "\n",
      "Saving model checkpoint to ./results/checkpoint-1750\n",
      "Configuration saved in ./results/checkpoint-1750/config.json\n"
     ]
    },
    {
     "name": "stdout",
     "output_type": "stream",
     "text": [
      "{'eval_loss': 0.8660147786140442, 'eval_accuracy': 0.6327028676021964, 'eval_f1': 0.5277526812845317, 'eval_precision': 0.603383312179371, 'eval_recall': 0.5496415713754839, 'eval_runtime': 317.0594, 'eval_samples_per_second': 5.169, 'eval_steps_per_second': 0.647, 'epoch': 0.95}\n"
     ]
    },
    {
     "name": "stderr",
     "output_type": "stream",
     "text": [
      "Model weights saved in ./results/checkpoint-1750/pytorch_model.bin\n",
      "Deleting older checkpoint [results/checkpoint-1500] due to args.save_total_limit\n",
      "***** Running Evaluation *****\n",
      "  Num examples = 1639\n",
      "  Batch size = 8\n"
     ]
    },
    {
     "data": {
      "application/vnd.jupyter.widget-view+json": {
       "model_id": "bd00e34961b047c781a8ccf9b74d7ffe",
       "version_major": 2,
       "version_minor": 0
      },
      "text/plain": [
       "  0%|          | 0/205 [00:00<?, ?it/s]"
      ]
     },
     "metadata": {},
     "output_type": "display_data"
    },
    {
     "name": "stderr",
     "output_type": "stream",
     "text": [
      "[E thread_pool.cpp:113] Exception in thread pool task: mutex lock failed: Invalid argument\n",
      "[E thread_pool.cpp:113] Exception in thread pool task: mutex lock failed: Invalid argument\n"
     ]
    },
    {
     "ename": "KeyboardInterrupt",
     "evalue": "",
     "output_type": "error",
     "traceback": [
      "\u001b[0;31m---------------------------------------------------------------------------\u001b[0m",
      "\u001b[0;31mKeyboardInterrupt\u001b[0m                         Traceback (most recent call last)",
      "Cell \u001b[0;32mIn [22], line 1\u001b[0m\n\u001b[0;32m----> 1\u001b[0m trainer\u001b[39m.\u001b[39mtrain()\n",
      "File \u001b[0;32m~/opt/miniconda3/envs/pt/lib/python3.9/site-packages/transformers/trainer.py:1527\u001b[0m, in \u001b[0;36mTrainer.train\u001b[0;34m(self, resume_from_checkpoint, trial, ignore_keys_for_eval, **kwargs)\u001b[0m\n\u001b[1;32m   1522\u001b[0m     \u001b[39mself\u001b[39m\u001b[39m.\u001b[39mmodel_wrapped \u001b[39m=\u001b[39m \u001b[39mself\u001b[39m\u001b[39m.\u001b[39mmodel\n\u001b[1;32m   1524\u001b[0m inner_training_loop \u001b[39m=\u001b[39m find_executable_batch_size(\n\u001b[1;32m   1525\u001b[0m     \u001b[39mself\u001b[39m\u001b[39m.\u001b[39m_inner_training_loop, \u001b[39mself\u001b[39m\u001b[39m.\u001b[39m_train_batch_size, args\u001b[39m.\u001b[39mauto_find_batch_size\n\u001b[1;32m   1526\u001b[0m )\n\u001b[0;32m-> 1527\u001b[0m \u001b[39mreturn\u001b[39;00m inner_training_loop(\n\u001b[1;32m   1528\u001b[0m     args\u001b[39m=\u001b[39;49margs,\n\u001b[1;32m   1529\u001b[0m     resume_from_checkpoint\u001b[39m=\u001b[39;49mresume_from_checkpoint,\n\u001b[1;32m   1530\u001b[0m     trial\u001b[39m=\u001b[39;49mtrial,\n\u001b[1;32m   1531\u001b[0m     ignore_keys_for_eval\u001b[39m=\u001b[39;49mignore_keys_for_eval,\n\u001b[1;32m   1532\u001b[0m )\n",
      "File \u001b[0;32m~/opt/miniconda3/envs/pt/lib/python3.9/site-packages/transformers/trainer.py:1852\u001b[0m, in \u001b[0;36mTrainer._inner_training_loop\u001b[0;34m(self, batch_size, args, resume_from_checkpoint, trial, ignore_keys_for_eval)\u001b[0m\n\u001b[1;32m   1849\u001b[0m     \u001b[39mself\u001b[39m\u001b[39m.\u001b[39mstate\u001b[39m.\u001b[39mepoch \u001b[39m=\u001b[39m epoch \u001b[39m+\u001b[39m (step \u001b[39m+\u001b[39m \u001b[39m1\u001b[39m) \u001b[39m/\u001b[39m steps_in_epoch\n\u001b[1;32m   1850\u001b[0m     \u001b[39mself\u001b[39m\u001b[39m.\u001b[39mcontrol \u001b[39m=\u001b[39m \u001b[39mself\u001b[39m\u001b[39m.\u001b[39mcallback_handler\u001b[39m.\u001b[39mon_step_end(args, \u001b[39mself\u001b[39m\u001b[39m.\u001b[39mstate, \u001b[39mself\u001b[39m\u001b[39m.\u001b[39mcontrol)\n\u001b[0;32m-> 1852\u001b[0m     \u001b[39mself\u001b[39;49m\u001b[39m.\u001b[39;49m_maybe_log_save_evaluate(tr_loss, model, trial, epoch, ignore_keys_for_eval)\n\u001b[1;32m   1853\u001b[0m \u001b[39melse\u001b[39;00m:\n\u001b[1;32m   1854\u001b[0m     \u001b[39mself\u001b[39m\u001b[39m.\u001b[39mcontrol \u001b[39m=\u001b[39m \u001b[39mself\u001b[39m\u001b[39m.\u001b[39mcallback_handler\u001b[39m.\u001b[39mon_substep_end(args, \u001b[39mself\u001b[39m\u001b[39m.\u001b[39mstate, \u001b[39mself\u001b[39m\u001b[39m.\u001b[39mcontrol)\n",
      "File \u001b[0;32m~/opt/miniconda3/envs/pt/lib/python3.9/site-packages/transformers/trainer.py:2115\u001b[0m, in \u001b[0;36mTrainer._maybe_log_save_evaluate\u001b[0;34m(self, tr_loss, model, trial, epoch, ignore_keys_for_eval)\u001b[0m\n\u001b[1;32m   2109\u001b[0m             metrics \u001b[39m=\u001b[39m \u001b[39mself\u001b[39m\u001b[39m.\u001b[39mevaluate(\n\u001b[1;32m   2110\u001b[0m                 eval_dataset\u001b[39m=\u001b[39meval_dataset,\n\u001b[1;32m   2111\u001b[0m                 ignore_keys\u001b[39m=\u001b[39mignore_keys_for_eval,\n\u001b[1;32m   2112\u001b[0m                 metric_key_prefix\u001b[39m=\u001b[39m\u001b[39mf\u001b[39m\u001b[39m\"\u001b[39m\u001b[39meval_\u001b[39m\u001b[39m{\u001b[39;00meval_dataset_name\u001b[39m}\u001b[39;00m\u001b[39m\"\u001b[39m,\n\u001b[1;32m   2113\u001b[0m             )\n\u001b[1;32m   2114\u001b[0m     \u001b[39melse\u001b[39;00m:\n\u001b[0;32m-> 2115\u001b[0m         metrics \u001b[39m=\u001b[39m \u001b[39mself\u001b[39;49m\u001b[39m.\u001b[39;49mevaluate(ignore_keys\u001b[39m=\u001b[39;49mignore_keys_for_eval)\n\u001b[1;32m   2116\u001b[0m     \u001b[39mself\u001b[39m\u001b[39m.\u001b[39m_report_to_hp_search(trial, \u001b[39mself\u001b[39m\u001b[39m.\u001b[39mstate\u001b[39m.\u001b[39mglobal_step, metrics)\n\u001b[1;32m   2118\u001b[0m \u001b[39mif\u001b[39;00m \u001b[39mself\u001b[39m\u001b[39m.\u001b[39mcontrol\u001b[39m.\u001b[39mshould_save:\n",
      "File \u001b[0;32m~/opt/miniconda3/envs/pt/lib/python3.9/site-packages/transformers/trainer.py:2811\u001b[0m, in \u001b[0;36mTrainer.evaluate\u001b[0;34m(self, eval_dataset, ignore_keys, metric_key_prefix)\u001b[0m\n\u001b[1;32m   2808\u001b[0m start_time \u001b[39m=\u001b[39m time\u001b[39m.\u001b[39mtime()\n\u001b[1;32m   2810\u001b[0m eval_loop \u001b[39m=\u001b[39m \u001b[39mself\u001b[39m\u001b[39m.\u001b[39mprediction_loop \u001b[39mif\u001b[39;00m \u001b[39mself\u001b[39m\u001b[39m.\u001b[39margs\u001b[39m.\u001b[39muse_legacy_prediction_loop \u001b[39melse\u001b[39;00m \u001b[39mself\u001b[39m\u001b[39m.\u001b[39mevaluation_loop\n\u001b[0;32m-> 2811\u001b[0m output \u001b[39m=\u001b[39m eval_loop(\n\u001b[1;32m   2812\u001b[0m     eval_dataloader,\n\u001b[1;32m   2813\u001b[0m     description\u001b[39m=\u001b[39;49m\u001b[39m\"\u001b[39;49m\u001b[39mEvaluation\u001b[39;49m\u001b[39m\"\u001b[39;49m,\n\u001b[1;32m   2814\u001b[0m     \u001b[39m# No point gathering the predictions if there are no metrics, otherwise we defer to\u001b[39;49;00m\n\u001b[1;32m   2815\u001b[0m     \u001b[39m# self.args.prediction_loss_only\u001b[39;49;00m\n\u001b[1;32m   2816\u001b[0m     prediction_loss_only\u001b[39m=\u001b[39;49m\u001b[39mTrue\u001b[39;49;00m \u001b[39mif\u001b[39;49;00m \u001b[39mself\u001b[39;49m\u001b[39m.\u001b[39;49mcompute_metrics \u001b[39mis\u001b[39;49;00m \u001b[39mNone\u001b[39;49;00m \u001b[39melse\u001b[39;49;00m \u001b[39mNone\u001b[39;49;00m,\n\u001b[1;32m   2817\u001b[0m     ignore_keys\u001b[39m=\u001b[39;49mignore_keys,\n\u001b[1;32m   2818\u001b[0m     metric_key_prefix\u001b[39m=\u001b[39;49mmetric_key_prefix,\n\u001b[1;32m   2819\u001b[0m )\n\u001b[1;32m   2821\u001b[0m total_batch_size \u001b[39m=\u001b[39m \u001b[39mself\u001b[39m\u001b[39m.\u001b[39margs\u001b[39m.\u001b[39meval_batch_size \u001b[39m*\u001b[39m \u001b[39mself\u001b[39m\u001b[39m.\u001b[39margs\u001b[39m.\u001b[39mworld_size\n\u001b[1;32m   2822\u001b[0m output\u001b[39m.\u001b[39mmetrics\u001b[39m.\u001b[39mupdate(\n\u001b[1;32m   2823\u001b[0m     speed_metrics(\n\u001b[1;32m   2824\u001b[0m         metric_key_prefix,\n\u001b[0;32m   (...)\u001b[0m\n\u001b[1;32m   2828\u001b[0m     )\n\u001b[1;32m   2829\u001b[0m )\n",
      "File \u001b[0;32m~/opt/miniconda3/envs/pt/lib/python3.9/site-packages/transformers/trainer.py:2989\u001b[0m, in \u001b[0;36mTrainer.evaluation_loop\u001b[0;34m(self, dataloader, description, prediction_loss_only, ignore_keys, metric_key_prefix)\u001b[0m\n\u001b[1;32m   2986\u001b[0m         batch_size \u001b[39m=\u001b[39m observed_batch_size\n\u001b[1;32m   2988\u001b[0m \u001b[39m# Prediction step\u001b[39;00m\n\u001b[0;32m-> 2989\u001b[0m loss, logits, labels \u001b[39m=\u001b[39m \u001b[39mself\u001b[39;49m\u001b[39m.\u001b[39;49mprediction_step(model, inputs, prediction_loss_only, ignore_keys\u001b[39m=\u001b[39;49mignore_keys)\n\u001b[1;32m   2990\u001b[0m inputs_decode \u001b[39m=\u001b[39m \u001b[39mself\u001b[39m\u001b[39m.\u001b[39m_prepare_input(inputs[\u001b[39m\"\u001b[39m\u001b[39minput_ids\u001b[39m\u001b[39m\"\u001b[39m]) \u001b[39mif\u001b[39;00m args\u001b[39m.\u001b[39minclude_inputs_for_metrics \u001b[39melse\u001b[39;00m \u001b[39mNone\u001b[39;00m\n\u001b[1;32m   2992\u001b[0m \u001b[39mif\u001b[39;00m is_torch_tpu_available():\n",
      "File \u001b[0;32m~/opt/miniconda3/envs/pt/lib/python3.9/site-packages/transformers/trainer.py:3242\u001b[0m, in \u001b[0;36mTrainer.prediction_step\u001b[0;34m(self, model, inputs, prediction_loss_only, ignore_keys)\u001b[0m\n\u001b[1;32m   3240\u001b[0m \u001b[39mif\u001b[39;00m has_labels \u001b[39mor\u001b[39;00m loss_without_labels:\n\u001b[1;32m   3241\u001b[0m     \u001b[39mwith\u001b[39;00m \u001b[39mself\u001b[39m\u001b[39m.\u001b[39mcompute_loss_context_manager():\n\u001b[0;32m-> 3242\u001b[0m         loss, outputs \u001b[39m=\u001b[39m \u001b[39mself\u001b[39;49m\u001b[39m.\u001b[39;49mcompute_loss(model, inputs, return_outputs\u001b[39m=\u001b[39;49m\u001b[39mTrue\u001b[39;49;00m)\n\u001b[1;32m   3243\u001b[0m     loss \u001b[39m=\u001b[39m loss\u001b[39m.\u001b[39mmean()\u001b[39m.\u001b[39mdetach()\n\u001b[1;32m   3245\u001b[0m     \u001b[39mif\u001b[39;00m \u001b[39misinstance\u001b[39m(outputs, \u001b[39mdict\u001b[39m):\n",
      "File \u001b[0;32m~/opt/miniconda3/envs/pt/lib/python3.9/site-packages/transformers/trainer.py:2555\u001b[0m, in \u001b[0;36mTrainer.compute_loss\u001b[0;34m(self, model, inputs, return_outputs)\u001b[0m\n\u001b[1;32m   2553\u001b[0m \u001b[39melse\u001b[39;00m:\n\u001b[1;32m   2554\u001b[0m     labels \u001b[39m=\u001b[39m \u001b[39mNone\u001b[39;00m\n\u001b[0;32m-> 2555\u001b[0m outputs \u001b[39m=\u001b[39m model(\u001b[39m*\u001b[39;49m\u001b[39m*\u001b[39;49minputs)\n\u001b[1;32m   2556\u001b[0m \u001b[39m# Save past state if it exists\u001b[39;00m\n\u001b[1;32m   2557\u001b[0m \u001b[39m# TODO: this needs to be fixed and made cleaner later.\u001b[39;00m\n\u001b[1;32m   2558\u001b[0m \u001b[39mif\u001b[39;00m \u001b[39mself\u001b[39m\u001b[39m.\u001b[39margs\u001b[39m.\u001b[39mpast_index \u001b[39m>\u001b[39m\u001b[39m=\u001b[39m \u001b[39m0\u001b[39m:\n",
      "File \u001b[0;32m~/opt/miniconda3/envs/pt/lib/python3.9/site-packages/torch/nn/modules/module.py:1190\u001b[0m, in \u001b[0;36mModule._call_impl\u001b[0;34m(self, *input, **kwargs)\u001b[0m\n\u001b[1;32m   1186\u001b[0m \u001b[39m# If we don't have any hooks, we want to skip the rest of the logic in\u001b[39;00m\n\u001b[1;32m   1187\u001b[0m \u001b[39m# this function, and just call forward.\u001b[39;00m\n\u001b[1;32m   1188\u001b[0m \u001b[39mif\u001b[39;00m \u001b[39mnot\u001b[39;00m (\u001b[39mself\u001b[39m\u001b[39m.\u001b[39m_backward_hooks \u001b[39mor\u001b[39;00m \u001b[39mself\u001b[39m\u001b[39m.\u001b[39m_forward_hooks \u001b[39mor\u001b[39;00m \u001b[39mself\u001b[39m\u001b[39m.\u001b[39m_forward_pre_hooks \u001b[39mor\u001b[39;00m _global_backward_hooks\n\u001b[1;32m   1189\u001b[0m         \u001b[39mor\u001b[39;00m _global_forward_hooks \u001b[39mor\u001b[39;00m _global_forward_pre_hooks):\n\u001b[0;32m-> 1190\u001b[0m     \u001b[39mreturn\u001b[39;00m forward_call(\u001b[39m*\u001b[39;49m\u001b[39minput\u001b[39;49m, \u001b[39m*\u001b[39;49m\u001b[39m*\u001b[39;49mkwargs)\n\u001b[1;32m   1191\u001b[0m \u001b[39m# Do not call functions when jit is used\u001b[39;00m\n\u001b[1;32m   1192\u001b[0m full_backward_hooks, non_full_backward_hooks \u001b[39m=\u001b[39m [], []\n",
      "File \u001b[0;32m~/opt/miniconda3/envs/pt/lib/python3.9/site-packages/transformers/models/bert/modeling_bert.py:1566\u001b[0m, in \u001b[0;36mBertForSequenceClassification.forward\u001b[0;34m(self, input_ids, attention_mask, token_type_ids, position_ids, head_mask, inputs_embeds, labels, output_attentions, output_hidden_states, return_dict)\u001b[0m\n\u001b[1;32m   1558\u001b[0m \u001b[39mr\u001b[39m\u001b[39m\"\"\"\u001b[39;00m\n\u001b[1;32m   1559\u001b[0m \u001b[39mlabels (`torch.LongTensor` of shape `(batch_size,)`, *optional*):\u001b[39;00m\n\u001b[1;32m   1560\u001b[0m \u001b[39m    Labels for computing the sequence classification/regression loss. Indices should be in `[0, ...,\u001b[39;00m\n\u001b[1;32m   1561\u001b[0m \u001b[39m    config.num_labels - 1]`. If `config.num_labels == 1` a regression loss is computed (Mean-Square loss), If\u001b[39;00m\n\u001b[1;32m   1562\u001b[0m \u001b[39m    `config.num_labels > 1` a classification loss is computed (Cross-Entropy).\u001b[39;00m\n\u001b[1;32m   1563\u001b[0m \u001b[39m\"\"\"\u001b[39;00m\n\u001b[1;32m   1564\u001b[0m return_dict \u001b[39m=\u001b[39m return_dict \u001b[39mif\u001b[39;00m return_dict \u001b[39mis\u001b[39;00m \u001b[39mnot\u001b[39;00m \u001b[39mNone\u001b[39;00m \u001b[39melse\u001b[39;00m \u001b[39mself\u001b[39m\u001b[39m.\u001b[39mconfig\u001b[39m.\u001b[39muse_return_dict\n\u001b[0;32m-> 1566\u001b[0m outputs \u001b[39m=\u001b[39m \u001b[39mself\u001b[39;49m\u001b[39m.\u001b[39;49mbert(\n\u001b[1;32m   1567\u001b[0m     input_ids,\n\u001b[1;32m   1568\u001b[0m     attention_mask\u001b[39m=\u001b[39;49mattention_mask,\n\u001b[1;32m   1569\u001b[0m     token_type_ids\u001b[39m=\u001b[39;49mtoken_type_ids,\n\u001b[1;32m   1570\u001b[0m     position_ids\u001b[39m=\u001b[39;49mposition_ids,\n\u001b[1;32m   1571\u001b[0m     head_mask\u001b[39m=\u001b[39;49mhead_mask,\n\u001b[1;32m   1572\u001b[0m     inputs_embeds\u001b[39m=\u001b[39;49minputs_embeds,\n\u001b[1;32m   1573\u001b[0m     output_attentions\u001b[39m=\u001b[39;49moutput_attentions,\n\u001b[1;32m   1574\u001b[0m     output_hidden_states\u001b[39m=\u001b[39;49moutput_hidden_states,\n\u001b[1;32m   1575\u001b[0m     return_dict\u001b[39m=\u001b[39;49mreturn_dict,\n\u001b[1;32m   1576\u001b[0m )\n\u001b[1;32m   1578\u001b[0m pooled_output \u001b[39m=\u001b[39m outputs[\u001b[39m1\u001b[39m]\n\u001b[1;32m   1580\u001b[0m pooled_output \u001b[39m=\u001b[39m \u001b[39mself\u001b[39m\u001b[39m.\u001b[39mdropout(pooled_output)\n",
      "File \u001b[0;32m~/opt/miniconda3/envs/pt/lib/python3.9/site-packages/torch/nn/modules/module.py:1190\u001b[0m, in \u001b[0;36mModule._call_impl\u001b[0;34m(self, *input, **kwargs)\u001b[0m\n\u001b[1;32m   1186\u001b[0m \u001b[39m# If we don't have any hooks, we want to skip the rest of the logic in\u001b[39;00m\n\u001b[1;32m   1187\u001b[0m \u001b[39m# this function, and just call forward.\u001b[39;00m\n\u001b[1;32m   1188\u001b[0m \u001b[39mif\u001b[39;00m \u001b[39mnot\u001b[39;00m (\u001b[39mself\u001b[39m\u001b[39m.\u001b[39m_backward_hooks \u001b[39mor\u001b[39;00m \u001b[39mself\u001b[39m\u001b[39m.\u001b[39m_forward_hooks \u001b[39mor\u001b[39;00m \u001b[39mself\u001b[39m\u001b[39m.\u001b[39m_forward_pre_hooks \u001b[39mor\u001b[39;00m _global_backward_hooks\n\u001b[1;32m   1189\u001b[0m         \u001b[39mor\u001b[39;00m _global_forward_hooks \u001b[39mor\u001b[39;00m _global_forward_pre_hooks):\n\u001b[0;32m-> 1190\u001b[0m     \u001b[39mreturn\u001b[39;00m forward_call(\u001b[39m*\u001b[39;49m\u001b[39minput\u001b[39;49m, \u001b[39m*\u001b[39;49m\u001b[39m*\u001b[39;49mkwargs)\n\u001b[1;32m   1191\u001b[0m \u001b[39m# Do not call functions when jit is used\u001b[39;00m\n\u001b[1;32m   1192\u001b[0m full_backward_hooks, non_full_backward_hooks \u001b[39m=\u001b[39m [], []\n",
      "File \u001b[0;32m~/opt/miniconda3/envs/pt/lib/python3.9/site-packages/transformers/models/bert/modeling_bert.py:1021\u001b[0m, in \u001b[0;36mBertModel.forward\u001b[0;34m(self, input_ids, attention_mask, token_type_ids, position_ids, head_mask, inputs_embeds, encoder_hidden_states, encoder_attention_mask, past_key_values, use_cache, output_attentions, output_hidden_states, return_dict)\u001b[0m\n\u001b[1;32m   1012\u001b[0m head_mask \u001b[39m=\u001b[39m \u001b[39mself\u001b[39m\u001b[39m.\u001b[39mget_head_mask(head_mask, \u001b[39mself\u001b[39m\u001b[39m.\u001b[39mconfig\u001b[39m.\u001b[39mnum_hidden_layers)\n\u001b[1;32m   1014\u001b[0m embedding_output \u001b[39m=\u001b[39m \u001b[39mself\u001b[39m\u001b[39m.\u001b[39membeddings(\n\u001b[1;32m   1015\u001b[0m     input_ids\u001b[39m=\u001b[39minput_ids,\n\u001b[1;32m   1016\u001b[0m     position_ids\u001b[39m=\u001b[39mposition_ids,\n\u001b[0;32m   (...)\u001b[0m\n\u001b[1;32m   1019\u001b[0m     past_key_values_length\u001b[39m=\u001b[39mpast_key_values_length,\n\u001b[1;32m   1020\u001b[0m )\n\u001b[0;32m-> 1021\u001b[0m encoder_outputs \u001b[39m=\u001b[39m \u001b[39mself\u001b[39;49m\u001b[39m.\u001b[39;49mencoder(\n\u001b[1;32m   1022\u001b[0m     embedding_output,\n\u001b[1;32m   1023\u001b[0m     attention_mask\u001b[39m=\u001b[39;49mextended_attention_mask,\n\u001b[1;32m   1024\u001b[0m     head_mask\u001b[39m=\u001b[39;49mhead_mask,\n\u001b[1;32m   1025\u001b[0m     encoder_hidden_states\u001b[39m=\u001b[39;49mencoder_hidden_states,\n\u001b[1;32m   1026\u001b[0m     encoder_attention_mask\u001b[39m=\u001b[39;49mencoder_extended_attention_mask,\n\u001b[1;32m   1027\u001b[0m     past_key_values\u001b[39m=\u001b[39;49mpast_key_values,\n\u001b[1;32m   1028\u001b[0m     use_cache\u001b[39m=\u001b[39;49muse_cache,\n\u001b[1;32m   1029\u001b[0m     output_attentions\u001b[39m=\u001b[39;49moutput_attentions,\n\u001b[1;32m   1030\u001b[0m     output_hidden_states\u001b[39m=\u001b[39;49moutput_hidden_states,\n\u001b[1;32m   1031\u001b[0m     return_dict\u001b[39m=\u001b[39;49mreturn_dict,\n\u001b[1;32m   1032\u001b[0m )\n\u001b[1;32m   1033\u001b[0m sequence_output \u001b[39m=\u001b[39m encoder_outputs[\u001b[39m0\u001b[39m]\n\u001b[1;32m   1034\u001b[0m pooled_output \u001b[39m=\u001b[39m \u001b[39mself\u001b[39m\u001b[39m.\u001b[39mpooler(sequence_output) \u001b[39mif\u001b[39;00m \u001b[39mself\u001b[39m\u001b[39m.\u001b[39mpooler \u001b[39mis\u001b[39;00m \u001b[39mnot\u001b[39;00m \u001b[39mNone\u001b[39;00m \u001b[39melse\u001b[39;00m \u001b[39mNone\u001b[39;00m\n",
      "File \u001b[0;32m~/opt/miniconda3/envs/pt/lib/python3.9/site-packages/torch/nn/modules/module.py:1190\u001b[0m, in \u001b[0;36mModule._call_impl\u001b[0;34m(self, *input, **kwargs)\u001b[0m\n\u001b[1;32m   1186\u001b[0m \u001b[39m# If we don't have any hooks, we want to skip the rest of the logic in\u001b[39;00m\n\u001b[1;32m   1187\u001b[0m \u001b[39m# this function, and just call forward.\u001b[39;00m\n\u001b[1;32m   1188\u001b[0m \u001b[39mif\u001b[39;00m \u001b[39mnot\u001b[39;00m (\u001b[39mself\u001b[39m\u001b[39m.\u001b[39m_backward_hooks \u001b[39mor\u001b[39;00m \u001b[39mself\u001b[39m\u001b[39m.\u001b[39m_forward_hooks \u001b[39mor\u001b[39;00m \u001b[39mself\u001b[39m\u001b[39m.\u001b[39m_forward_pre_hooks \u001b[39mor\u001b[39;00m _global_backward_hooks\n\u001b[1;32m   1189\u001b[0m         \u001b[39mor\u001b[39;00m _global_forward_hooks \u001b[39mor\u001b[39;00m _global_forward_pre_hooks):\n\u001b[0;32m-> 1190\u001b[0m     \u001b[39mreturn\u001b[39;00m forward_call(\u001b[39m*\u001b[39;49m\u001b[39minput\u001b[39;49m, \u001b[39m*\u001b[39;49m\u001b[39m*\u001b[39;49mkwargs)\n\u001b[1;32m   1191\u001b[0m \u001b[39m# Do not call functions when jit is used\u001b[39;00m\n\u001b[1;32m   1192\u001b[0m full_backward_hooks, non_full_backward_hooks \u001b[39m=\u001b[39m [], []\n",
      "File \u001b[0;32m~/opt/miniconda3/envs/pt/lib/python3.9/site-packages/transformers/models/bert/modeling_bert.py:610\u001b[0m, in \u001b[0;36mBertEncoder.forward\u001b[0;34m(self, hidden_states, attention_mask, head_mask, encoder_hidden_states, encoder_attention_mask, past_key_values, use_cache, output_attentions, output_hidden_states, return_dict)\u001b[0m\n\u001b[1;32m    601\u001b[0m     layer_outputs \u001b[39m=\u001b[39m torch\u001b[39m.\u001b[39mutils\u001b[39m.\u001b[39mcheckpoint\u001b[39m.\u001b[39mcheckpoint(\n\u001b[1;32m    602\u001b[0m         create_custom_forward(layer_module),\n\u001b[1;32m    603\u001b[0m         hidden_states,\n\u001b[0;32m   (...)\u001b[0m\n\u001b[1;32m    607\u001b[0m         encoder_attention_mask,\n\u001b[1;32m    608\u001b[0m     )\n\u001b[1;32m    609\u001b[0m \u001b[39melse\u001b[39;00m:\n\u001b[0;32m--> 610\u001b[0m     layer_outputs \u001b[39m=\u001b[39m layer_module(\n\u001b[1;32m    611\u001b[0m         hidden_states,\n\u001b[1;32m    612\u001b[0m         attention_mask,\n\u001b[1;32m    613\u001b[0m         layer_head_mask,\n\u001b[1;32m    614\u001b[0m         encoder_hidden_states,\n\u001b[1;32m    615\u001b[0m         encoder_attention_mask,\n\u001b[1;32m    616\u001b[0m         past_key_value,\n\u001b[1;32m    617\u001b[0m         output_attentions,\n\u001b[1;32m    618\u001b[0m     )\n\u001b[1;32m    620\u001b[0m hidden_states \u001b[39m=\u001b[39m layer_outputs[\u001b[39m0\u001b[39m]\n\u001b[1;32m    621\u001b[0m \u001b[39mif\u001b[39;00m use_cache:\n",
      "File \u001b[0;32m~/opt/miniconda3/envs/pt/lib/python3.9/site-packages/torch/nn/modules/module.py:1190\u001b[0m, in \u001b[0;36mModule._call_impl\u001b[0;34m(self, *input, **kwargs)\u001b[0m\n\u001b[1;32m   1186\u001b[0m \u001b[39m# If we don't have any hooks, we want to skip the rest of the logic in\u001b[39;00m\n\u001b[1;32m   1187\u001b[0m \u001b[39m# this function, and just call forward.\u001b[39;00m\n\u001b[1;32m   1188\u001b[0m \u001b[39mif\u001b[39;00m \u001b[39mnot\u001b[39;00m (\u001b[39mself\u001b[39m\u001b[39m.\u001b[39m_backward_hooks \u001b[39mor\u001b[39;00m \u001b[39mself\u001b[39m\u001b[39m.\u001b[39m_forward_hooks \u001b[39mor\u001b[39;00m \u001b[39mself\u001b[39m\u001b[39m.\u001b[39m_forward_pre_hooks \u001b[39mor\u001b[39;00m _global_backward_hooks\n\u001b[1;32m   1189\u001b[0m         \u001b[39mor\u001b[39;00m _global_forward_hooks \u001b[39mor\u001b[39;00m _global_forward_pre_hooks):\n\u001b[0;32m-> 1190\u001b[0m     \u001b[39mreturn\u001b[39;00m forward_call(\u001b[39m*\u001b[39;49m\u001b[39minput\u001b[39;49m, \u001b[39m*\u001b[39;49m\u001b[39m*\u001b[39;49mkwargs)\n\u001b[1;32m   1191\u001b[0m \u001b[39m# Do not call functions when jit is used\u001b[39;00m\n\u001b[1;32m   1192\u001b[0m full_backward_hooks, non_full_backward_hooks \u001b[39m=\u001b[39m [], []\n",
      "File \u001b[0;32m~/opt/miniconda3/envs/pt/lib/python3.9/site-packages/transformers/models/bert/modeling_bert.py:538\u001b[0m, in \u001b[0;36mBertLayer.forward\u001b[0;34m(self, hidden_states, attention_mask, head_mask, encoder_hidden_states, encoder_attention_mask, past_key_value, output_attentions)\u001b[0m\n\u001b[1;32m    535\u001b[0m     cross_attn_present_key_value \u001b[39m=\u001b[39m cross_attention_outputs[\u001b[39m-\u001b[39m\u001b[39m1\u001b[39m]\n\u001b[1;32m    536\u001b[0m     present_key_value \u001b[39m=\u001b[39m present_key_value \u001b[39m+\u001b[39m cross_attn_present_key_value\n\u001b[0;32m--> 538\u001b[0m layer_output \u001b[39m=\u001b[39m apply_chunking_to_forward(\n\u001b[1;32m    539\u001b[0m     \u001b[39mself\u001b[39;49m\u001b[39m.\u001b[39;49mfeed_forward_chunk, \u001b[39mself\u001b[39;49m\u001b[39m.\u001b[39;49mchunk_size_feed_forward, \u001b[39mself\u001b[39;49m\u001b[39m.\u001b[39;49mseq_len_dim, attention_output\n\u001b[1;32m    540\u001b[0m )\n\u001b[1;32m    541\u001b[0m outputs \u001b[39m=\u001b[39m (layer_output,) \u001b[39m+\u001b[39m outputs\n\u001b[1;32m    543\u001b[0m \u001b[39m# if decoder, return the attn key/values as the last output\u001b[39;00m\n",
      "File \u001b[0;32m~/opt/miniconda3/envs/pt/lib/python3.9/site-packages/transformers/pytorch_utils.py:246\u001b[0m, in \u001b[0;36mapply_chunking_to_forward\u001b[0;34m(forward_fn, chunk_size, chunk_dim, *input_tensors)\u001b[0m\n\u001b[1;32m    243\u001b[0m     \u001b[39m# concatenate output at same dimension\u001b[39;00m\n\u001b[1;32m    244\u001b[0m     \u001b[39mreturn\u001b[39;00m torch\u001b[39m.\u001b[39mcat(output_chunks, dim\u001b[39m=\u001b[39mchunk_dim)\n\u001b[0;32m--> 246\u001b[0m \u001b[39mreturn\u001b[39;00m forward_fn(\u001b[39m*\u001b[39;49minput_tensors)\n",
      "File \u001b[0;32m~/opt/miniconda3/envs/pt/lib/python3.9/site-packages/transformers/models/bert/modeling_bert.py:550\u001b[0m, in \u001b[0;36mBertLayer.feed_forward_chunk\u001b[0;34m(self, attention_output)\u001b[0m\n\u001b[1;32m    549\u001b[0m \u001b[39mdef\u001b[39;00m \u001b[39mfeed_forward_chunk\u001b[39m(\u001b[39mself\u001b[39m, attention_output):\n\u001b[0;32m--> 550\u001b[0m     intermediate_output \u001b[39m=\u001b[39m \u001b[39mself\u001b[39;49m\u001b[39m.\u001b[39;49mintermediate(attention_output)\n\u001b[1;32m    551\u001b[0m     layer_output \u001b[39m=\u001b[39m \u001b[39mself\u001b[39m\u001b[39m.\u001b[39moutput(intermediate_output, attention_output)\n\u001b[1;32m    552\u001b[0m     \u001b[39mreturn\u001b[39;00m layer_output\n",
      "File \u001b[0;32m~/opt/miniconda3/envs/pt/lib/python3.9/site-packages/torch/nn/modules/module.py:1190\u001b[0m, in \u001b[0;36mModule._call_impl\u001b[0;34m(self, *input, **kwargs)\u001b[0m\n\u001b[1;32m   1186\u001b[0m \u001b[39m# If we don't have any hooks, we want to skip the rest of the logic in\u001b[39;00m\n\u001b[1;32m   1187\u001b[0m \u001b[39m# this function, and just call forward.\u001b[39;00m\n\u001b[1;32m   1188\u001b[0m \u001b[39mif\u001b[39;00m \u001b[39mnot\u001b[39;00m (\u001b[39mself\u001b[39m\u001b[39m.\u001b[39m_backward_hooks \u001b[39mor\u001b[39;00m \u001b[39mself\u001b[39m\u001b[39m.\u001b[39m_forward_hooks \u001b[39mor\u001b[39;00m \u001b[39mself\u001b[39m\u001b[39m.\u001b[39m_forward_pre_hooks \u001b[39mor\u001b[39;00m _global_backward_hooks\n\u001b[1;32m   1189\u001b[0m         \u001b[39mor\u001b[39;00m _global_forward_hooks \u001b[39mor\u001b[39;00m _global_forward_pre_hooks):\n\u001b[0;32m-> 1190\u001b[0m     \u001b[39mreturn\u001b[39;00m forward_call(\u001b[39m*\u001b[39;49m\u001b[39minput\u001b[39;49m, \u001b[39m*\u001b[39;49m\u001b[39m*\u001b[39;49mkwargs)\n\u001b[1;32m   1191\u001b[0m \u001b[39m# Do not call functions when jit is used\u001b[39;00m\n\u001b[1;32m   1192\u001b[0m full_backward_hooks, non_full_backward_hooks \u001b[39m=\u001b[39m [], []\n",
      "File \u001b[0;32m~/opt/miniconda3/envs/pt/lib/python3.9/site-packages/transformers/models/bert/modeling_bert.py:451\u001b[0m, in \u001b[0;36mBertIntermediate.forward\u001b[0;34m(self, hidden_states)\u001b[0m\n\u001b[1;32m    449\u001b[0m \u001b[39mdef\u001b[39;00m \u001b[39mforward\u001b[39m(\u001b[39mself\u001b[39m, hidden_states: torch\u001b[39m.\u001b[39mTensor) \u001b[39m-\u001b[39m\u001b[39m>\u001b[39m torch\u001b[39m.\u001b[39mTensor:\n\u001b[1;32m    450\u001b[0m     hidden_states \u001b[39m=\u001b[39m \u001b[39mself\u001b[39m\u001b[39m.\u001b[39mdense(hidden_states)\n\u001b[0;32m--> 451\u001b[0m     hidden_states \u001b[39m=\u001b[39m \u001b[39mself\u001b[39;49m\u001b[39m.\u001b[39;49mintermediate_act_fn(hidden_states)\n\u001b[1;32m    452\u001b[0m     \u001b[39mreturn\u001b[39;00m hidden_states\n",
      "File \u001b[0;32m~/opt/miniconda3/envs/pt/lib/python3.9/site-packages/torch/nn/modules/module.py:1190\u001b[0m, in \u001b[0;36mModule._call_impl\u001b[0;34m(self, *input, **kwargs)\u001b[0m\n\u001b[1;32m   1186\u001b[0m \u001b[39m# If we don't have any hooks, we want to skip the rest of the logic in\u001b[39;00m\n\u001b[1;32m   1187\u001b[0m \u001b[39m# this function, and just call forward.\u001b[39;00m\n\u001b[1;32m   1188\u001b[0m \u001b[39mif\u001b[39;00m \u001b[39mnot\u001b[39;00m (\u001b[39mself\u001b[39m\u001b[39m.\u001b[39m_backward_hooks \u001b[39mor\u001b[39;00m \u001b[39mself\u001b[39m\u001b[39m.\u001b[39m_forward_hooks \u001b[39mor\u001b[39;00m \u001b[39mself\u001b[39m\u001b[39m.\u001b[39m_forward_pre_hooks \u001b[39mor\u001b[39;00m _global_backward_hooks\n\u001b[1;32m   1189\u001b[0m         \u001b[39mor\u001b[39;00m _global_forward_hooks \u001b[39mor\u001b[39;00m _global_forward_pre_hooks):\n\u001b[0;32m-> 1190\u001b[0m     \u001b[39mreturn\u001b[39;00m forward_call(\u001b[39m*\u001b[39;49m\u001b[39minput\u001b[39;49m, \u001b[39m*\u001b[39;49m\u001b[39m*\u001b[39;49mkwargs)\n\u001b[1;32m   1191\u001b[0m \u001b[39m# Do not call functions when jit is used\u001b[39;00m\n\u001b[1;32m   1192\u001b[0m full_backward_hooks, non_full_backward_hooks \u001b[39m=\u001b[39m [], []\n",
      "File \u001b[0;32m~/opt/miniconda3/envs/pt/lib/python3.9/site-packages/transformers/activations.py:57\u001b[0m, in \u001b[0;36mGELUActivation.forward\u001b[0;34m(self, input)\u001b[0m\n\u001b[1;32m     56\u001b[0m \u001b[39mdef\u001b[39;00m \u001b[39mforward\u001b[39m(\u001b[39mself\u001b[39m, \u001b[39minput\u001b[39m: Tensor) \u001b[39m-\u001b[39m\u001b[39m>\u001b[39m Tensor:\n\u001b[0;32m---> 57\u001b[0m     \u001b[39mreturn\u001b[39;00m \u001b[39mself\u001b[39;49m\u001b[39m.\u001b[39;49mact(\u001b[39minput\u001b[39;49m)\n",
      "\u001b[0;31mKeyboardInterrupt\u001b[0m: "
     ]
    }
   ],
   "source": [
    "trainer.train()"
   ]
  },
  {
   "cell_type": "code",
   "execution_count": null,
   "metadata": {},
   "outputs": [
    {
     "ename": "NameError",
     "evalue": "name 'experiment' is not defined",
     "output_type": "error",
     "traceback": [
      "\u001b[0;31m---------------------------------------------------------------------------\u001b[0m",
      "\u001b[0;31mNameError\u001b[0m                                 Traceback (most recent call last)",
      "Cell \u001b[0;32mIn [23], line 1\u001b[0m\n\u001b[0;32m----> 1\u001b[0m experiment\u001b[39m.\u001b[39mend()\n",
      "\u001b[0;31mNameError\u001b[0m: name 'experiment' is not defined"
     ]
    }
   ],
   "source": [
    "experiment.end()"
   ]
  }
 ],
 "metadata": {
  "kernelspec": {
   "display_name": "pt",
   "language": "python",
   "name": "python3"
  },
  "language_info": {
   "codemirror_mode": {
    "name": "ipython",
    "version": 3
   },
   "file_extension": ".py",
   "mimetype": "text/x-python",
   "name": "python",
   "nbconvert_exporter": "python",
   "pygments_lexer": "ipython3",
   "version": "3.9.13"
  },
  "orig_nbformat": 4,
  "vscode": {
   "interpreter": {
    "hash": "3a7aaad0630ad3230b7b955ab34166b9352cf35c53f01b298fd4177c5371ed1f"
   }
  }
 },
 "nbformat": 4,
 "nbformat_minor": 2
}
