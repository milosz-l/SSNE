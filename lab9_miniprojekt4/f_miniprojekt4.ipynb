{
  "nbformat": 4,
  "nbformat_minor": 0,
  "metadata": {
    "colab": {
      "provenance": [],
      "collapsed_sections": [
        "g6VO-fNxrWh5"
      ],
      "machine_shape": "hm"
    },
    "kernelspec": {
      "name": "python3",
      "display_name": "Python 3"
    },
    "language_info": {
      "name": "python"
    },
    "accelerator": "GPU",
    "gpuClass": "standard"
  },
  "cells": [
    {
      "cell_type": "markdown",
      "source": [
        "# Imports, setting up device and seeds\n"
      ],
      "metadata": {
        "id": "bWqIz6BsrIZU"
      }
    },
    {
      "cell_type": "code",
      "source": [
        "import torch\n",
        "from torch import nn\n",
        "import torchvision\n",
        "import torchvision.transforms as transforms\n",
        "import pandas as pd\n",
        "import numpy as np\n",
        "\n",
        "import matplotlib.pyplot as plt\n",
        "import numpy as np\n",
        " \n",
        "import torch.nn as nn\n",
        "import torch.nn.functional as F\n",
        "\n",
        "from torch.utils.data import DataLoader"
      ],
      "metadata": {
        "id": "-RiHHnHEi7Vc"
      },
      "execution_count": 1,
      "outputs": []
    },
    {
      "cell_type": "code",
      "source": [
        "import os\n",
        "import random\n",
        "\n",
        "def set_all_seeds(seed):\n",
        "    os.environ[\"PL_GLOBAL_SEED\"] = str(seed)\n",
        "    random.seed(seed)\n",
        "    np.random.seed(seed)\n",
        "    torch.manual_seed(seed)\n",
        "    torch.cuda.manual_seed_all(seed)\n",
        "\n",
        "set_all_seeds(42)"
      ],
      "metadata": {
        "id": "dF7Jzby3i-I6"
      },
      "execution_count": 2,
      "outputs": []
    },
    {
      "cell_type": "code",
      "source": [
        "# torch.cuda.set_device(1)\n",
        "device = torch.device(\"cuda\")\n",
        "# device = torch.device('mps')\n",
        "# device = torch.device('cpu')"
      ],
      "metadata": {
        "id": "-BCkcrW5i9kE"
      },
      "execution_count": 3,
      "outputs": []
    },
    {
      "cell_type": "markdown",
      "source": [
        "# Google drive"
      ],
      "metadata": {
        "id": "A2P1P9ATUoun"
      }
    },
    {
      "cell_type": "code",
      "source": [
        "from google.colab import drive\n",
        "drive.mount('/content/drive')"
      ],
      "metadata": {
        "colab": {
          "base_uri": "https://localhost:8080/"
        },
        "id": "jakEYCURjAtn",
        "outputId": "7e92f0e6-63ba-44f6-95a9-6a7f4d718700"
      },
      "execution_count": 4,
      "outputs": [
        {
          "output_type": "stream",
          "name": "stdout",
          "text": [
            "Drive already mounted at /content/drive; to attempt to forcibly remount, call drive.mount(\"/content/drive\", force_remount=True).\n"
          ]
        }
      ]
    },
    {
      "cell_type": "code",
      "source": [
        "import os\n",
        "os.chdir(\"/content/drive/My Drive/SSNElab9\")"
      ],
      "metadata": {
        "id": "fGzhDkfDjCGE"
      },
      "execution_count": 5,
      "outputs": []
    },
    {
      "cell_type": "markdown",
      "source": [
        "# Constants"
      ],
      "metadata": {
        "id": "zDc0baBsXVGd"
      }
    },
    {
      "cell_type": "code",
      "source": [
        "VALIDATION_PERCENTAGE = 0.10\n",
        "batch_size = 8\n",
        "TRAIN_PATH = 'train.pkl'\n",
        "TEST_PATH = \"test_no_target.pkl\""
      ],
      "metadata": {
        "id": "sg6Nh9CXXT4U"
      },
      "execution_count": 6,
      "outputs": []
    },
    {
      "cell_type": "markdown",
      "source": [
        "# Reading training dataset"
      ],
      "metadata": {
        "id": "8b6UrS1rrOIe"
      }
    },
    {
      "cell_type": "code",
      "execution_count": 7,
      "metadata": {
        "id": "6lhaFNeLhusm"
      },
      "outputs": [],
      "source": [
        "import pickle\n",
        "\n",
        "with open(TRAIN_PATH, 'rb') as f:\n",
        "    train = pickle.load(f)"
      ]
    },
    {
      "cell_type": "code",
      "source": [
        "train_lengths = [len(train_song[0]) for train_song in train]"
      ],
      "metadata": {
        "id": "7eNmQAg1i7Yr"
      },
      "execution_count": 8,
      "outputs": []
    },
    {
      "cell_type": "code",
      "source": [
        "len(train_lengths)"
      ],
      "metadata": {
        "colab": {
          "base_uri": "https://localhost:8080/"
        },
        "id": "bjH5ziWn_4Po",
        "outputId": "2be027cd-bf38-41e4-a9a2-d4ceaa6079c6"
      },
      "execution_count": 9,
      "outputs": [
        {
          "output_type": "execute_result",
          "data": {
            "text/plain": [
              "2939"
            ]
          },
          "metadata": {},
          "execution_count": 9
        }
      ]
    },
    {
      "cell_type": "code",
      "source": [
        "type(train[0][0])"
      ],
      "metadata": {
        "colab": {
          "base_uri": "https://localhost:8080/"
        },
        "id": "09fGswPGVIFE",
        "outputId": "f0e5ef1d-4aa4-4c8f-b43d-eb6604298bce"
      },
      "execution_count": 10,
      "outputs": [
        {
          "output_type": "execute_result",
          "data": {
            "text/plain": [
              "numpy.ndarray"
            ]
          },
          "metadata": {},
          "execution_count": 10
        }
      ]
    },
    {
      "cell_type": "markdown",
      "source": [
        "# Histogram for training values"
      ],
      "metadata": {
        "id": "g6VO-fNxrWh5"
      }
    },
    {
      "cell_type": "code",
      "source": [
        "# histogram of lengths of training sequences\n",
        "plt.hist(train_lengths, bins='auto')"
      ],
      "metadata": {
        "colab": {
          "base_uri": "https://localhost:8080/",
          "height": 0
        },
        "id": "ZUP8rCvCo716",
        "outputId": "a2d5bceb-905d-4355-b62c-525adbf16a12"
      },
      "execution_count": 11,
      "outputs": [
        {
          "output_type": "execute_result",
          "data": {
            "text/plain": [
              "(array([152., 383., 229., 301., 297., 245., 212., 162., 103., 111.,  76.,\n",
              "         67.,  87.,  49.,  42.,  37.,  23.,  27.,  22.,  25.,  17.,  16.,\n",
              "         14.,  13.,  13.,  10.,  19.,  15.,  11.,  16.,   4.,   6.,   8.,\n",
              "          8.,   2.,   5.,   3.,   5.,   5.,   5.,   6.,   4.,   4.,  11.,\n",
              "          5.,   2.,   6.,   4.,   8.,   1.,   0.,   1.,   3.,   1.,   1.,\n",
              "          2.,   1.,   2.,   0.,   2.,   1.,   2.,   3.,   0.,   0.,   0.,\n",
              "          0.,   1.,   1.,   3.,   0.,   1.,   1.,   0.,   0.,   1.,   0.,\n",
              "          0.,   0.,   2.,   0.,   0.,   0.,   0.,   1.,   1.,   0.,   1.,\n",
              "          0.,   0.,   1.,   0.,   0.,   0.,   0.,   1.,   2.,   0.,   0.,\n",
              "          1.,   0.,   0.,   0.,   2.,   0.,   0.,   0.,   0.,   0.,   0.,\n",
              "          1.,   1.,   0.,   0.,   0.,   0.,   0.,   0.,   0.,   0.,   0.,\n",
              "          0.,   0.,   0.,   0.,   1.,   0.,   0.,   0.,   0.,   0.,   1.]),\n",
              " array([4.00000000e+00, 5.17575758e+01, 9.95151515e+01, 1.47272727e+02,\n",
              "        1.95030303e+02, 2.42787879e+02, 2.90545455e+02, 3.38303030e+02,\n",
              "        3.86060606e+02, 4.33818182e+02, 4.81575758e+02, 5.29333333e+02,\n",
              "        5.77090909e+02, 6.24848485e+02, 6.72606061e+02, 7.20363636e+02,\n",
              "        7.68121212e+02, 8.15878788e+02, 8.63636364e+02, 9.11393939e+02,\n",
              "        9.59151515e+02, 1.00690909e+03, 1.05466667e+03, 1.10242424e+03,\n",
              "        1.15018182e+03, 1.19793939e+03, 1.24569697e+03, 1.29345455e+03,\n",
              "        1.34121212e+03, 1.38896970e+03, 1.43672727e+03, 1.48448485e+03,\n",
              "        1.53224242e+03, 1.58000000e+03, 1.62775758e+03, 1.67551515e+03,\n",
              "        1.72327273e+03, 1.77103030e+03, 1.81878788e+03, 1.86654545e+03,\n",
              "        1.91430303e+03, 1.96206061e+03, 2.00981818e+03, 2.05757576e+03,\n",
              "        2.10533333e+03, 2.15309091e+03, 2.20084848e+03, 2.24860606e+03,\n",
              "        2.29636364e+03, 2.34412121e+03, 2.39187879e+03, 2.43963636e+03,\n",
              "        2.48739394e+03, 2.53515152e+03, 2.58290909e+03, 2.63066667e+03,\n",
              "        2.67842424e+03, 2.72618182e+03, 2.77393939e+03, 2.82169697e+03,\n",
              "        2.86945455e+03, 2.91721212e+03, 2.96496970e+03, 3.01272727e+03,\n",
              "        3.06048485e+03, 3.10824242e+03, 3.15600000e+03, 3.20375758e+03,\n",
              "        3.25151515e+03, 3.29927273e+03, 3.34703030e+03, 3.39478788e+03,\n",
              "        3.44254545e+03, 3.49030303e+03, 3.53806061e+03, 3.58581818e+03,\n",
              "        3.63357576e+03, 3.68133333e+03, 3.72909091e+03, 3.77684848e+03,\n",
              "        3.82460606e+03, 3.87236364e+03, 3.92012121e+03, 3.96787879e+03,\n",
              "        4.01563636e+03, 4.06339394e+03, 4.11115152e+03, 4.15890909e+03,\n",
              "        4.20666667e+03, 4.25442424e+03, 4.30218182e+03, 4.34993939e+03,\n",
              "        4.39769697e+03, 4.44545455e+03, 4.49321212e+03, 4.54096970e+03,\n",
              "        4.58872727e+03, 4.63648485e+03, 4.68424242e+03, 4.73200000e+03,\n",
              "        4.77975758e+03, 4.82751515e+03, 4.87527273e+03, 4.92303030e+03,\n",
              "        4.97078788e+03, 5.01854545e+03, 5.06630303e+03, 5.11406061e+03,\n",
              "        5.16181818e+03, 5.20957576e+03, 5.25733333e+03, 5.30509091e+03,\n",
              "        5.35284848e+03, 5.40060606e+03, 5.44836364e+03, 5.49612121e+03,\n",
              "        5.54387879e+03, 5.59163636e+03, 5.63939394e+03, 5.68715152e+03,\n",
              "        5.73490909e+03, 5.78266667e+03, 5.83042424e+03, 5.87818182e+03,\n",
              "        5.92593939e+03, 5.97369697e+03, 6.02145455e+03, 6.06921212e+03,\n",
              "        6.11696970e+03, 6.16472727e+03, 6.21248485e+03, 6.26024242e+03,\n",
              "        6.30800000e+03]),\n",
              " <a list of 132 Patch objects>)"
            ]
          },
          "metadata": {},
          "execution_count": 11
        },
        {
          "output_type": "display_data",
          "data": {
            "text/plain": [
              "<Figure size 432x288 with 1 Axes>"
            ],
            "image/png": "[encoded data removed]"
          },
          "metadata": {
            "needs_background": "light"
          }
        }
      ]
    },
    {
      "cell_type": "code",
      "source": [
        "min(train_lengths), max(train_lengths)"
      ],
      "metadata": {
        "id": "fkSg5eaga6cG",
        "colab": {
          "base_uri": "https://localhost:8080/"
        },
        "outputId": "1adae33b-43b8-48b7-9229-421406d1200f"
      },
      "execution_count": 12,
      "outputs": [
        {
          "output_type": "execute_result",
          "data": {
            "text/plain": [
              "(4, 6308)"
            ]
          },
          "metadata": {},
          "execution_count": 12
        }
      ]
    },
    {
      "cell_type": "code",
      "source": [],
      "metadata": {
        "id": "XQvCZEwhCsTo"
      },
      "execution_count": 12,
      "outputs": []
    },
    {
      "cell_type": "code",
      "source": [
        "from torch.utils.data import Dataset\n",
        "\n",
        "class VariableLenDataset(Dataset):\n",
        "    def __init__(self, in_data, target):\n",
        "        self.data = [(x, y) for x, y in zip(in_data, target)]      \n",
        "\n",
        "    def __len__(self):\n",
        "        return len(self.data)\n",
        "\n",
        "    def __getitem__(self, idx):\n",
        "        in_data, target = self.data[idx]\n",
        "        return in_data, target"
      ],
      "metadata": {
        "id": "0a24j9vdPTrr"
      },
      "execution_count": 13,
      "outputs": []
    },
    {
      "cell_type": "markdown",
      "source": [
        "# Padding"
      ],
      "metadata": {
        "id": "SItHYahBR0BR"
      }
    },
    {
      "cell_type": "code",
      "source": [
        "from random import shuffle\n",
        "from math import floor\n",
        "\n",
        "# converting train to tensors\n",
        "# train = [[torch.from_numpy(t[0].astype(int)).float(), torch.from_numpy(np.ndarray([int(t[1])]))] for t in train]\n",
        "train_data = [[torch.from_numpy(t[0].astype(int)).float(), int(t[1])] for t in train]\n",
        "\n",
        "dataset_length = len(train_data)\n",
        "val_size = floor(dataset_length * VALIDATION_PERCENTAGE)\n",
        "train_size = dataset_length - val_size\n",
        "\n",
        "train_subset, val_subset = torch.utils.data.random_split(train_data, [train_size, val_size])\n",
        "\n",
        "train_subset_data = [item[0] for item in train_subset]\n",
        "train_subset_targets = [item[1] for item in train_subset]\n",
        "\n",
        "val_subset_data = [item[0] for item in val_subset]\n",
        "val_subset_targets = [item[1] for item in val_subset]\n",
        "\n",
        "train_set = VariableLenDataset(train_subset_data, train_subset_targets)\n",
        "val_set = VariableLenDataset(val_subset_data, val_subset_targets)"
      ],
      "metadata": {
        "id": "sEm_rXS2TX4r"
      },
      "execution_count": 14,
      "outputs": []
    },
    {
      "cell_type": "code",
      "source": [
        "from torch.nn.utils.rnn import pad_sequence, pack_padded_sequence, pad_packed_sequence\n",
        "\n",
        "pad = 0\n",
        "\n",
        "def pad_collate(batch, pad_value=0):\n",
        "    xx, yy = zip(*batch)\n",
        "    x_lens = [len(x) for x in xx]\n",
        "\n",
        "    xx_pad = pad_sequence(xx, batch_first=True, padding_value=pad_value)\n",
        "\n",
        "    return xx_pad, yy"
      ],
      "metadata": {
        "id": "BvgU5pn2PTua"
      },
      "execution_count": 15,
      "outputs": []
    },
    {
      "cell_type": "code",
      "source": [
        "train_loader = DataLoader(train_set, batch_size=batch_size, shuffle=True, collate_fn=pad_collate)\n",
        "val_loader = DataLoader(val_set, batch_size=batch_size, shuffle=True, collate_fn=pad_collate)"
      ],
      "metadata": {
        "id": "p8ShbxngPTxK"
      },
      "execution_count": 16,
      "outputs": []
    },
    {
      "cell_type": "code",
      "source": [
        "next(iter(train_loader))"
      ],
      "metadata": {
        "colab": {
          "base_uri": "https://localhost:8080/"
        },
        "id": "rI2H1pWKZyMu",
        "outputId": "6bfd0876-970e-4b22-e766-24bf58269422"
      },
      "execution_count": 17,
      "outputs": [
        {
          "output_type": "execute_result",
          "data": {
            "text/plain": [
              "(tensor([[145., 145.,  12.,  ...,   0.,   0.,   0.],\n",
              "         [ -1., 112.,  34.,  ...,   0.,   0.,   0.],\n",
              "         [ -1.,  -1.,  -1.,  ...,   0.,   0.,  -1.],\n",
              "         ...,\n",
              "         [110., 185.,  88.,  ...,   0.,   0.,   0.],\n",
              "         [ 12.,  12.,  12.,  ...,   0.,   0.,   0.],\n",
              "         [ 21., 116.,  21.,  ...,   0.,   0.,   0.]]),\n",
              " (0, 4, 1, 4, 3, 0, 0, 2))"
            ]
          },
          "metadata": {},
          "execution_count": 17
        }
      ]
    },
    {
      "cell_type": "markdown",
      "source": [
        "# Model"
      ],
      "metadata": {
        "id": "CmMtriGMPSVa"
      }
    },
    {
      "cell_type": "code",
      "source": [
        "class LSTMRegressor(nn.Module):\n",
        "\n",
        "    def __init__(self, input_size, hidden_size, num_layers, out_size, bidirectional = False):\n",
        "        super().__init__()\n",
        "        self.num_layers = num_layers\n",
        "        self.hidden_size = hidden_size\n",
        "        if bidirectional:\n",
        "            self.bidirectional = 2\n",
        "        else:\n",
        "            self.bidirectional = 1\n",
        "        self.lstm = nn.LSTM(input_size = input_size, hidden_size = hidden_size, num_layers = num_layers, bidirectional=bidirectional, dropout=0.4)\n",
        "        self.fc = nn.Linear(hidden_size, out_size)\n",
        "        \n",
        "    def init_hidden(self, batch_size):\n",
        "        hidden = torch.zeros(self.num_layers*self.bidirectional , batch_size, self.hidden_size)\n",
        "        state = torch.zeros(self.num_layers*self.bidirectional , batch_size, self.hidden_size)\n",
        "        return hidden, state\n",
        "    \n",
        "    def forward(self, x, hidden):\n",
        "        # pass the input through the LSTM layer\n",
        "        # print(x.shape)\n",
        "        # print(hidden[0].size(0))\n",
        "        out, _ = self.lstm(x, hidden)\n",
        "\n",
        "        # print(\"OUT\", out.shape)\n",
        "        \n",
        "        # get the last output of the LSTM layer\n",
        "        out = out[-1, :, :]\n",
        "\n",
        "        # print(\"OUT2\", out.shape)\n",
        "        \n",
        "        # pass the last output through the fully-connected layer\n",
        "        out = self.fc(out)\n",
        "\n",
        "        # print(\"OUT3\", out.shape)\n",
        "        \n",
        "        return out\n"
      ],
      "metadata": {
        "id": "W2TSYGhAa6i-"
      },
      "execution_count": 18,
      "outputs": []
    },
    {
      "cell_type": "code",
      "source": [
        "    \n",
        "model = LSTMRegressor(1,20,2,5).to(device)\n",
        "model"
      ],
      "metadata": {
        "colab": {
          "base_uri": "https://localhost:8080/"
        },
        "id": "M3kLQzbaPTow",
        "outputId": "9917a423-ec85-400e-d0c5-783dcaef96e1"
      },
      "execution_count": 19,
      "outputs": [
        {
          "output_type": "execute_result",
          "data": {
            "text/plain": [
              "LSTMRegressor(\n",
              "  (lstm): LSTM(1, 20, num_layers=2, dropout=0.4)\n",
              "  (fc): Linear(in_features=20, out_features=5, bias=True)\n",
              ")"
            ]
          },
          "metadata": {},
          "execution_count": 19
        }
      ]
    },
    {
      "cell_type": "markdown",
      "source": [
        "# Training"
      ],
      "metadata": {
        "id": "Sn-tXvwIG83R"
      }
    },
    {
      "cell_type": "code",
      "source": [
        "%%time\n",
        "optimizer = torch.optim.Adam(model.parameters(), lr=0.001, weight_decay=1e-4)\n",
        "loss_fun = nn.CrossEntropyLoss()\n",
        "\n",
        "epochs, losses, train_acc, val_acc = [], [], [], []\n",
        "\n",
        "# Training loop\n",
        "for epoch in range(300):\n",
        "    for x, targets in train_loader:\n",
        "        targets = torch.from_numpy(np.asarray(targets))\n",
        "        # print(\"SHAPE X\", x.shape)\n",
        "        # print(\"SHAPE TARGETS\", targets.shape)\n",
        "        x = x.to(device).unsqueeze(2)\n",
        "        targets = targets.to(device)\n",
        "        hidden, state = model.init_hidden(x.size(0))\n",
        "        hidden, state = hidden.to(device), state.to(device) \n",
        "\n",
        "        # print(hidden.shape, state.shape)\n",
        "        \n",
        "        x = torch.transpose(x, 0, 1)\n",
        "        # print(\"A\")\n",
        "        preds = model(x, (hidden, state))\n",
        "        # print(\"B\")\n",
        "        # preds = torch.transpose(preds, 0, 1)\n",
        "        # preds = preds.squeeze(2)\n",
        "        # print(\"PREDS\", preds.shape)\n",
        "        # preds = preds[:,-1,:]\n",
        "        \n",
        "#         x_packed = pack_padded_sequence(x, x_len, batch_first=True, enforce_sorted=False)\n",
        "#         preds_packed, _ = model(x_packed, (hidden, state))\n",
        "#         preds, pred_len = pad_packed_sequence(preds_packed, batch_first=True, padding_value=pad)\n",
        "        \n",
        "        # preds = preds.squeeze(2)\n",
        "        optimizer.zero_grad()\n",
        "\n",
        "        loss = loss_fun(preds, targets)\n",
        "        loss.backward()\n",
        "        optimizer.step()\n",
        "\n",
        "    losses.append(loss.item())\n",
        "    epochs.append(epoch)\n",
        "\n",
        "    # evaluate the model on the validation set\n",
        "    correct = 0\n",
        "    total = 0\n",
        "    for x, targets in val_loader:\n",
        "        targets = torch.from_numpy(np.asarray(targets))\n",
        "        # print(\"SHAPE X\", x.shape)\n",
        "        # print(\"SHAPE TARGETS\", targets.shape)\n",
        "        x = x.to(device).unsqueeze(2)\n",
        "        targets = targets.to(device)\n",
        "        hidden, state = model.init_hidden(x.size(0))\n",
        "        hidden, state = hidden.to(device), state.to(device) \n",
        "\n",
        "        # print(hidden.shape, state.shape)\n",
        "        \n",
        "        x = torch.transpose(x, 0, 1)\n",
        "        preds = model(x, (hidden, state))\n",
        "\n",
        "        # forward pass\n",
        "        outputs = model(x, (hidden, state))\n",
        "\n",
        "        # get the predicted labels\n",
        "        _, predicted = torch.max(outputs.data, 1)\n",
        "\n",
        "\n",
        "        # compute the accuracy\n",
        "        total += targets.size(0)\n",
        "        correct += (predicted == targets).sum().item()\n",
        "\n",
        "    \n",
        "\n",
        "    print(f\"Epoch: {epoch}, loss: {loss.item():.3}\")\n",
        "\n",
        "    val_acc.append(100 * correct / total)\n",
        "\n",
        "    # print the accuracy\n",
        "    print(f\"Accuracy on the validation set: {100 * correct / total}\")"
      ],
      "metadata": {
        "colab": {
          "base_uri": "https://localhost:8080/"
        },
        "id": "vAWo9YRg3BLo",
        "outputId": "c288d619-a013-4535-a52b-6d3fd523ea32"
      },
      "execution_count": 36,
      "outputs": [
        {
          "output_type": "stream",
          "name": "stdout",
          "text": [
            "Epoch: 0, loss: 0.447\n",
            "Accuracy on the validation set: 74.40273037542661\n",
            "Epoch: 1, loss: 0.504\n",
            "Accuracy on the validation set: 75.08532423208192\n",
            "Epoch: 2, loss: 0.854\n",
            "Accuracy on the validation set: 72.6962457337884\n",
            "Epoch: 3, loss: 0.19\n",
            "Accuracy on the validation set: 75.7679180887372\n",
            "Epoch: 4, loss: 0.183\n",
            "Accuracy on the validation set: 73.03754266211604\n",
            "Epoch: 5, loss: 0.708\n",
            "Accuracy on the validation set: 72.35494880546075\n",
            "Epoch: 6, loss: 0.432\n",
            "Accuracy on the validation set: 73.72013651877133\n",
            "Epoch: 7, loss: 1.56\n",
            "Accuracy on the validation set: 75.42662116040955\n",
            "Epoch: 8, loss: 0.588\n",
            "Accuracy on the validation set: 71.67235494880546\n",
            "Epoch: 9, loss: 0.851\n",
            "Accuracy on the validation set: 74.40273037542661\n",
            "Epoch: 10, loss: 0.254\n",
            "Accuracy on the validation set: 72.0136518771331\n",
            "Epoch: 11, loss: 0.515\n",
            "Accuracy on the validation set: 73.72013651877133\n",
            "Epoch: 12, loss: 0.34\n",
            "Accuracy on the validation set: 72.35494880546075\n",
            "Epoch: 13, loss: 0.878\n",
            "Accuracy on the validation set: 72.35494880546075\n",
            "Epoch: 14, loss: 0.145\n",
            "Accuracy on the validation set: 75.7679180887372\n",
            "Epoch: 15, loss: 0.624\n",
            "Accuracy on the validation set: 75.7679180887372\n",
            "Epoch: 16, loss: 0.54\n",
            "Accuracy on the validation set: 74.06143344709898\n",
            "Epoch: 17, loss: 0.592\n",
            "Accuracy on the validation set: 72.6962457337884\n",
            "Epoch: 18, loss: 0.571\n",
            "Accuracy on the validation set: 75.08532423208192\n",
            "Epoch: 19, loss: 1.2\n",
            "Accuracy on the validation set: 72.35494880546075\n",
            "Epoch: 20, loss: 0.745\n",
            "Accuracy on the validation set: 75.7679180887372\n",
            "Epoch: 21, loss: 1.07\n",
            "Accuracy on the validation set: 74.40273037542661\n",
            "Epoch: 22, loss: 0.445\n",
            "Accuracy on the validation set: 74.74402730375427\n",
            "Epoch: 23, loss: 0.663\n",
            "Accuracy on the validation set: 73.72013651877133\n",
            "Epoch: 24, loss: 0.166\n",
            "Accuracy on the validation set: 73.72013651877133\n",
            "Epoch: 25, loss: 0.644\n",
            "Accuracy on the validation set: 73.72013651877133\n",
            "Epoch: 26, loss: 0.425\n",
            "Accuracy on the validation set: 74.06143344709898\n",
            "Epoch: 27, loss: 0.214\n",
            "Accuracy on the validation set: 73.37883959044369\n",
            "Epoch: 28, loss: 0.813\n",
            "Accuracy on the validation set: 72.6962457337884\n",
            "Epoch: 29, loss: 0.0538\n",
            "Accuracy on the validation set: 75.42662116040955\n",
            "Epoch: 30, loss: 0.373\n",
            "Accuracy on the validation set: 72.6962457337884\n",
            "Epoch: 31, loss: 0.402\n",
            "Accuracy on the validation set: 73.37883959044369\n",
            "Epoch: 32, loss: 0.465\n",
            "Accuracy on the validation set: 74.74402730375427\n",
            "Epoch: 33, loss: 0.707\n",
            "Accuracy on the validation set: 75.7679180887372\n",
            "Epoch: 34, loss: 0.453\n",
            "Accuracy on the validation set: 76.10921501706484\n",
            "Epoch: 35, loss: 0.802\n",
            "Accuracy on the validation set: 71.67235494880546\n",
            "Epoch: 36, loss: 0.621\n",
            "Accuracy on the validation set: 73.03754266211604\n",
            "Epoch: 37, loss: 0.529\n",
            "Accuracy on the validation set: 73.72013651877133\n",
            "Epoch: 38, loss: 0.193\n",
            "Accuracy on the validation set: 74.40273037542661\n",
            "Epoch: 39, loss: 0.211\n",
            "Accuracy on the validation set: 71.67235494880546\n",
            "Epoch: 40, loss: 1.33\n",
            "Accuracy on the validation set: 73.03754266211604\n",
            "Epoch: 41, loss: 0.256\n",
            "Accuracy on the validation set: 73.03754266211604\n",
            "Epoch: 42, loss: 0.252\n",
            "Accuracy on the validation set: 74.06143344709898\n",
            "Epoch: 43, loss: 1.56\n",
            "Accuracy on the validation set: 73.72013651877133\n",
            "Epoch: 44, loss: 0.648\n",
            "Accuracy on the validation set: 72.35494880546075\n",
            "Epoch: 45, loss: 0.061\n",
            "Accuracy on the validation set: 73.37883959044369\n",
            "Epoch: 46, loss: 0.581\n",
            "Accuracy on the validation set: 74.74402730375427\n",
            "Epoch: 47, loss: 0.785\n",
            "Accuracy on the validation set: 75.08532423208192\n",
            "Epoch: 48, loss: 0.41\n",
            "Accuracy on the validation set: 74.74402730375427\n",
            "Epoch: 49, loss: 0.0695\n",
            "Accuracy on the validation set: 72.35494880546075\n",
            "Epoch: 50, loss: 0.285\n",
            "Accuracy on the validation set: 74.74402730375427\n",
            "Epoch: 51, loss: 1.42\n",
            "Accuracy on the validation set: 70.30716723549489\n",
            "Epoch: 52, loss: 0.0496\n",
            "Accuracy on the validation set: 73.72013651877133\n",
            "Epoch: 53, loss: 1.37\n",
            "Accuracy on the validation set: 75.08532423208192\n",
            "Epoch: 54, loss: 0.621\n",
            "Accuracy on the validation set: 75.08532423208192\n",
            "Epoch: 55, loss: 0.12\n",
            "Accuracy on the validation set: 75.08532423208192\n",
            "Epoch: 56, loss: 0.17\n",
            "Accuracy on the validation set: 72.6962457337884\n",
            "Epoch: 57, loss: 0.479\n",
            "Accuracy on the validation set: 72.35494880546075\n",
            "Epoch: 58, loss: 0.0657\n",
            "Accuracy on the validation set: 76.45051194539249\n",
            "Epoch: 59, loss: 0.199\n",
            "Accuracy on the validation set: 72.35494880546075\n",
            "Epoch: 60, loss: 0.664\n",
            "Accuracy on the validation set: 71.33105802047781\n",
            "Epoch: 61, loss: 0.183\n",
            "Accuracy on the validation set: 76.10921501706484\n",
            "Epoch: 62, loss: 0.762\n",
            "Accuracy on the validation set: 70.64846416382252\n",
            "Epoch: 63, loss: 0.0331\n",
            "Accuracy on the validation set: 72.35494880546075\n",
            "Epoch: 64, loss: 0.952\n",
            "Accuracy on the validation set: 70.64846416382252\n",
            "Epoch: 65, loss: 0.159\n",
            "Accuracy on the validation set: 73.72013651877133\n",
            "Epoch: 66, loss: 0.287\n",
            "Accuracy on the validation set: 74.74402730375427\n",
            "Epoch: 67, loss: 1.03\n",
            "Accuracy on the validation set: 72.0136518771331\n",
            "Epoch: 68, loss: 0.448\n",
            "Accuracy on the validation set: 73.37883959044369\n",
            "Epoch: 69, loss: 0.719\n",
            "Accuracy on the validation set: 70.98976109215018\n",
            "Epoch: 70, loss: 0.369\n",
            "Accuracy on the validation set: 74.74402730375427\n",
            "Epoch: 71, loss: 0.0365\n",
            "Accuracy on the validation set: 75.08532423208192\n",
            "Epoch: 72, loss: 0.616\n",
            "Accuracy on the validation set: 74.40273037542661\n",
            "Epoch: 73, loss: 0.264\n",
            "Accuracy on the validation set: 68.9419795221843\n",
            "Epoch: 74, loss: 0.224\n",
            "Accuracy on the validation set: 71.33105802047781\n",
            "Epoch: 75, loss: 0.235\n",
            "Accuracy on the validation set: 71.33105802047781\n",
            "Epoch: 76, loss: 0.11\n",
            "Accuracy on the validation set: 72.6962457337884\n",
            "Epoch: 77, loss: 0.0483\n",
            "Accuracy on the validation set: 71.33105802047781\n",
            "Epoch: 78, loss: 0.157\n",
            "Accuracy on the validation set: 75.42662116040955\n",
            "Epoch: 79, loss: 1.15\n",
            "Accuracy on the validation set: 72.6962457337884\n",
            "Epoch: 80, loss: 0.354\n",
            "Accuracy on the validation set: 72.35494880546075\n",
            "Epoch: 81, loss: 0.0621\n",
            "Accuracy on the validation set: 72.0136518771331\n",
            "Epoch: 82, loss: 0.349\n",
            "Accuracy on the validation set: 69.96587030716724\n",
            "Epoch: 83, loss: 0.597\n",
            "Accuracy on the validation set: 73.72013651877133\n",
            "Epoch: 84, loss: 0.136\n",
            "Accuracy on the validation set: 74.74402730375427\n",
            "Epoch: 85, loss: 1.5\n",
            "Accuracy on the validation set: 70.98976109215018\n",
            "Epoch: 86, loss: 0.0488\n",
            "Accuracy on the validation set: 76.45051194539249\n",
            "Epoch: 87, loss: 0.999\n",
            "Accuracy on the validation set: 70.98976109215018\n",
            "Epoch: 88, loss: 0.519\n",
            "Accuracy on the validation set: 70.64846416382252\n",
            "Epoch: 89, loss: 0.402\n",
            "Accuracy on the validation set: 73.72013651877133\n",
            "Epoch: 90, loss: 0.536\n",
            "Accuracy on the validation set: 72.6962457337884\n",
            "Epoch: 91, loss: 0.137\n",
            "Accuracy on the validation set: 70.98976109215018\n",
            "Epoch: 92, loss: 0.701\n",
            "Accuracy on the validation set: 74.40273037542661\n",
            "Epoch: 93, loss: 0.0426\n",
            "Accuracy on the validation set: 73.72013651877133\n",
            "Epoch: 94, loss: 0.183\n",
            "Accuracy on the validation set: 73.37883959044369\n",
            "Epoch: 95, loss: 0.538\n",
            "Accuracy on the validation set: 73.37883959044369\n",
            "Epoch: 96, loss: 0.131\n",
            "Accuracy on the validation set: 76.10921501706484\n",
            "Epoch: 97, loss: 0.128\n",
            "Accuracy on the validation set: 73.37883959044369\n",
            "Epoch: 98, loss: 0.181\n",
            "Accuracy on the validation set: 73.72013651877133\n",
            "Epoch: 99, loss: 0.214\n",
            "Accuracy on the validation set: 73.03754266211604\n",
            "Epoch: 100, loss: 0.469\n",
            "Accuracy on the validation set: 74.06143344709898\n",
            "Epoch: 101, loss: 0.0694\n",
            "Accuracy on the validation set: 73.03754266211604\n",
            "Epoch: 102, loss: 0.0587\n",
            "Accuracy on the validation set: 71.67235494880546\n",
            "Epoch: 103, loss: 0.209\n",
            "Accuracy on the validation set: 74.06143344709898\n",
            "Epoch: 104, loss: 0.0886\n",
            "Accuracy on the validation set: 74.06143344709898\n",
            "Epoch: 105, loss: 0.7\n",
            "Accuracy on the validation set: 73.72013651877133\n",
            "Epoch: 106, loss: 0.326\n",
            "Accuracy on the validation set: 74.06143344709898\n",
            "Epoch: 107, loss: 0.18\n",
            "Accuracy on the validation set: 74.06143344709898\n",
            "Epoch: 108, loss: 0.0954\n",
            "Accuracy on the validation set: 75.08532423208192\n",
            "Epoch: 109, loss: 0.0485\n",
            "Accuracy on the validation set: 74.74402730375427\n",
            "Epoch: 110, loss: 0.154\n",
            "Accuracy on the validation set: 73.72013651877133\n",
            "Epoch: 111, loss: 0.478\n",
            "Accuracy on the validation set: 73.72013651877133\n",
            "Epoch: 112, loss: 0.173\n",
            "Accuracy on the validation set: 73.03754266211604\n",
            "Epoch: 113, loss: 0.299\n",
            "Accuracy on the validation set: 69.96587030716724\n",
            "Epoch: 114, loss: 0.228\n",
            "Accuracy on the validation set: 74.74402730375427\n",
            "Epoch: 115, loss: 0.53\n",
            "Accuracy on the validation set: 69.62457337883959\n",
            "Epoch: 116, loss: 0.228\n",
            "Accuracy on the validation set: 72.35494880546075\n",
            "Epoch: 117, loss: 0.431\n",
            "Accuracy on the validation set: 75.08532423208192\n",
            "Epoch: 118, loss: 1.02\n",
            "Accuracy on the validation set: 75.08532423208192\n",
            "Epoch: 119, loss: 0.316\n",
            "Accuracy on the validation set: 71.67235494880546\n",
            "Epoch: 120, loss: 0.869\n",
            "Accuracy on the validation set: 73.03754266211604\n",
            "Epoch: 121, loss: 0.19\n",
            "Accuracy on the validation set: 74.06143344709898\n",
            "Epoch: 122, loss: 0.31\n",
            "Accuracy on the validation set: 70.64846416382252\n",
            "Epoch: 123, loss: 0.0482\n",
            "Accuracy on the validation set: 73.03754266211604\n",
            "Epoch: 124, loss: 0.557\n",
            "Accuracy on the validation set: 71.67235494880546\n",
            "Epoch: 125, loss: 1.32\n",
            "Accuracy on the validation set: 73.72013651877133\n",
            "Epoch: 126, loss: 0.912\n",
            "Accuracy on the validation set: 75.42662116040955\n",
            "Epoch: 127, loss: 0.284\n",
            "Accuracy on the validation set: 74.74402730375427\n",
            "Epoch: 128, loss: 0.561\n",
            "Accuracy on the validation set: 74.06143344709898\n",
            "Epoch: 129, loss: 0.677\n",
            "Accuracy on the validation set: 73.72013651877133\n",
            "Epoch: 130, loss: 0.327\n",
            "Accuracy on the validation set: 76.45051194539249\n",
            "Epoch: 131, loss: 1.94\n",
            "Accuracy on the validation set: 69.96587030716724\n",
            "Epoch: 132, loss: 0.417\n",
            "Accuracy on the validation set: 73.03754266211604\n",
            "Epoch: 133, loss: 0.724\n",
            "Accuracy on the validation set: 72.0136518771331\n",
            "Epoch: 134, loss: 0.524\n",
            "Accuracy on the validation set: 74.40273037542661\n",
            "Epoch: 135, loss: 0.37\n",
            "Accuracy on the validation set: 73.37883959044369\n",
            "Epoch: 136, loss: 0.618\n",
            "Accuracy on the validation set: 73.72013651877133\n",
            "Epoch: 137, loss: 1.53\n",
            "Accuracy on the validation set: 72.6962457337884\n",
            "Epoch: 138, loss: 0.104\n",
            "Accuracy on the validation set: 74.06143344709898\n",
            "Epoch: 139, loss: 0.432\n",
            "Accuracy on the validation set: 75.42662116040955\n",
            "Epoch: 140, loss: 0.47\n",
            "Accuracy on the validation set: 73.72013651877133\n",
            "Epoch: 141, loss: 0.401\n",
            "Accuracy on the validation set: 73.03754266211604\n",
            "Epoch: 142, loss: 1.13\n",
            "Accuracy on the validation set: 75.7679180887372\n",
            "Epoch: 143, loss: 0.0448\n",
            "Accuracy on the validation set: 73.37883959044369\n",
            "Epoch: 144, loss: 0.644\n",
            "Accuracy on the validation set: 74.06143344709898\n",
            "Epoch: 145, loss: 0.0773\n",
            "Accuracy on the validation set: 74.74402730375427\n",
            "Epoch: 146, loss: 0.248\n",
            "Accuracy on the validation set: 75.08532423208192\n",
            "Epoch: 147, loss: 0.0977\n",
            "Accuracy on the validation set: 75.42662116040955\n",
            "Epoch: 148, loss: 1.12\n",
            "Accuracy on the validation set: 69.62457337883959\n",
            "Epoch: 149, loss: 0.142\n",
            "Accuracy on the validation set: 76.45051194539249\n",
            "Epoch: 150, loss: 0.567\n",
            "Accuracy on the validation set: 71.33105802047781\n",
            "Epoch: 151, loss: 0.858\n",
            "Accuracy on the validation set: 73.72013651877133\n",
            "Epoch: 152, loss: 0.629\n",
            "Accuracy on the validation set: 73.03754266211604\n",
            "Epoch: 153, loss: 0.343\n",
            "Accuracy on the validation set: 71.67235494880546\n",
            "Epoch: 154, loss: 0.239\n",
            "Accuracy on the validation set: 77.13310580204778\n",
            "Epoch: 155, loss: 0.235\n",
            "Accuracy on the validation set: 70.30716723549489\n",
            "Epoch: 156, loss: 0.248\n",
            "Accuracy on the validation set: 72.6962457337884\n",
            "Epoch: 157, loss: 0.0475\n",
            "Accuracy on the validation set: 70.64846416382252\n",
            "Epoch: 158, loss: 0.278\n",
            "Accuracy on the validation set: 70.64846416382252\n",
            "Epoch: 159, loss: 0.0287\n",
            "Accuracy on the validation set: 73.72013651877133\n",
            "Epoch: 160, loss: 1.31\n",
            "Accuracy on the validation set: 73.03754266211604\n",
            "Epoch: 161, loss: 0.778\n",
            "Accuracy on the validation set: 72.35494880546075\n",
            "Epoch: 162, loss: 0.177\n",
            "Accuracy on the validation set: 70.30716723549489\n",
            "Epoch: 163, loss: 1.22\n",
            "Accuracy on the validation set: 74.74402730375427\n",
            "Epoch: 164, loss: 0.569\n",
            "Accuracy on the validation set: 73.37883959044369\n",
            "Epoch: 165, loss: 1.08\n",
            "Accuracy on the validation set: 74.74402730375427\n",
            "Epoch: 166, loss: 0.144\n",
            "Accuracy on the validation set: 75.7679180887372\n",
            "Epoch: 167, loss: 0.0547\n",
            "Accuracy on the validation set: 74.06143344709898\n",
            "Epoch: 168, loss: 0.102\n",
            "Accuracy on the validation set: 76.10921501706484\n",
            "Epoch: 169, loss: 0.238\n",
            "Accuracy on the validation set: 73.72013651877133\n",
            "Epoch: 170, loss: 0.91\n",
            "Accuracy on the validation set: 73.03754266211604\n",
            "Epoch: 171, loss: 0.763\n",
            "Accuracy on the validation set: 73.37883959044369\n",
            "Epoch: 172, loss: 0.0777\n",
            "Accuracy on the validation set: 75.08532423208192\n",
            "Epoch: 173, loss: 0.535\n",
            "Accuracy on the validation set: 71.33105802047781\n",
            "Epoch: 174, loss: 1.01\n",
            "Accuracy on the validation set: 72.0136518771331\n",
            "Epoch: 175, loss: 0.901\n",
            "Accuracy on the validation set: 72.6962457337884\n",
            "Epoch: 176, loss: 0.503\n",
            "Accuracy on the validation set: 73.72013651877133\n",
            "Epoch: 177, loss: 0.027\n",
            "Accuracy on the validation set: 73.03754266211604\n",
            "Epoch: 178, loss: 0.238\n",
            "Accuracy on the validation set: 73.03754266211604\n",
            "Epoch: 179, loss: 0.267\n",
            "Accuracy on the validation set: 75.42662116040955\n",
            "Epoch: 180, loss: 0.201\n",
            "Accuracy on the validation set: 73.37883959044369\n",
            "Epoch: 181, loss: 0.0931\n",
            "Accuracy on the validation set: 74.40273037542661\n",
            "Epoch: 182, loss: 0.0559\n",
            "Accuracy on the validation set: 75.42662116040955\n",
            "Epoch: 183, loss: 0.358\n",
            "Accuracy on the validation set: 73.03754266211604\n",
            "Epoch: 184, loss: 0.124\n",
            "Accuracy on the validation set: 72.0136518771331\n",
            "Epoch: 185, loss: 0.479\n",
            "Accuracy on the validation set: 73.72013651877133\n",
            "Epoch: 186, loss: 0.265\n",
            "Accuracy on the validation set: 71.33105802047781\n",
            "Epoch: 187, loss: 0.514\n",
            "Accuracy on the validation set: 75.08532423208192\n",
            "Epoch: 188, loss: 0.121\n",
            "Accuracy on the validation set: 71.67235494880546\n",
            "Epoch: 189, loss: 0.152\n",
            "Accuracy on the validation set: 75.42662116040955\n",
            "Epoch: 190, loss: 0.241\n",
            "Accuracy on the validation set: 71.67235494880546\n",
            "Epoch: 191, loss: 0.519\n",
            "Accuracy on the validation set: 73.37883959044369\n",
            "Epoch: 192, loss: 0.252\n",
            "Accuracy on the validation set: 74.74402730375427\n",
            "Epoch: 193, loss: 0.0947\n",
            "Accuracy on the validation set: 72.35494880546075\n",
            "Epoch: 194, loss: 0.35\n",
            "Accuracy on the validation set: 73.37883959044369\n",
            "Epoch: 195, loss: 0.14\n",
            "Accuracy on the validation set: 73.72013651877133\n",
            "Epoch: 196, loss: 0.271\n",
            "Accuracy on the validation set: 72.35494880546075\n",
            "Epoch: 197, loss: 0.352\n",
            "Accuracy on the validation set: 74.06143344709898\n",
            "Epoch: 198, loss: 0.0384\n",
            "Accuracy on the validation set: 72.0136518771331\n",
            "Epoch: 199, loss: 0.584\n",
            "Accuracy on the validation set: 74.06143344709898\n",
            "Epoch: 200, loss: 1.46\n",
            "Accuracy on the validation set: 72.0136518771331\n",
            "Epoch: 201, loss: 0.843\n",
            "Accuracy on the validation set: 74.06143344709898\n",
            "Epoch: 202, loss: 0.715\n",
            "Accuracy on the validation set: 71.67235494880546\n",
            "Epoch: 203, loss: 0.421\n",
            "Accuracy on the validation set: 76.45051194539249\n",
            "Epoch: 204, loss: 2.13\n",
            "Accuracy on the validation set: 74.40273037542661\n",
            "Epoch: 205, loss: 0.0822\n",
            "Accuracy on the validation set: 75.42662116040955\n",
            "Epoch: 206, loss: 0.377\n",
            "Accuracy on the validation set: 70.64846416382252\n",
            "Epoch: 207, loss: 0.0168\n",
            "Accuracy on the validation set: 73.72013651877133\n",
            "Epoch: 208, loss: 0.0337\n",
            "Accuracy on the validation set: 73.72013651877133\n",
            "Epoch: 209, loss: 1.44\n",
            "Accuracy on the validation set: 72.0136518771331\n",
            "Epoch: 210, loss: 0.7\n",
            "Accuracy on the validation set: 74.40273037542661\n",
            "Epoch: 211, loss: 1.16\n",
            "Accuracy on the validation set: 75.7679180887372\n",
            "Epoch: 212, loss: 1.21\n",
            "Accuracy on the validation set: 72.35494880546075\n",
            "Epoch: 213, loss: 0.855\n",
            "Accuracy on the validation set: 73.03754266211604\n",
            "Epoch: 214, loss: 0.544\n",
            "Accuracy on the validation set: 75.42662116040955\n",
            "Epoch: 215, loss: 0.254\n",
            "Accuracy on the validation set: 75.08532423208192\n",
            "Epoch: 216, loss: 0.012\n",
            "Accuracy on the validation set: 73.72013651877133\n",
            "Epoch: 217, loss: 0.0636\n",
            "Accuracy on the validation set: 74.40273037542661\n",
            "Epoch: 218, loss: 0.255\n",
            "Accuracy on the validation set: 73.72013651877133\n",
            "Epoch: 219, loss: 0.017\n",
            "Accuracy on the validation set: 73.37883959044369\n",
            "Epoch: 220, loss: 0.188\n",
            "Accuracy on the validation set: 70.98976109215018\n",
            "Epoch: 221, loss: 0.0629\n",
            "Accuracy on the validation set: 77.13310580204778\n",
            "Epoch: 222, loss: 0.495\n",
            "Accuracy on the validation set: 76.45051194539249\n",
            "Epoch: 223, loss: 0.599\n",
            "Accuracy on the validation set: 73.37883959044369\n",
            "Epoch: 224, loss: 0.149\n",
            "Accuracy on the validation set: 75.08532423208192\n",
            "Epoch: 225, loss: 0.21\n",
            "Accuracy on the validation set: 76.79180887372014\n",
            "Epoch: 226, loss: 1.51\n",
            "Accuracy on the validation set: 77.13310580204778\n",
            "Epoch: 227, loss: 0.486\n",
            "Accuracy on the validation set: 73.72013651877133\n",
            "Epoch: 228, loss: 0.733\n",
            "Accuracy on the validation set: 73.72013651877133\n",
            "Epoch: 229, loss: 0.559\n",
            "Accuracy on the validation set: 75.42662116040955\n",
            "Epoch: 230, loss: 0.677\n",
            "Accuracy on the validation set: 76.79180887372014\n",
            "Epoch: 231, loss: 0.539\n",
            "Accuracy on the validation set: 76.10921501706484\n",
            "Epoch: 232, loss: 0.807\n",
            "Accuracy on the validation set: 76.79180887372014\n",
            "Epoch: 233, loss: 0.0395\n",
            "Accuracy on the validation set: 76.45051194539249\n",
            "Epoch: 234, loss: 0.0691\n",
            "Accuracy on the validation set: 75.08532423208192\n",
            "Epoch: 235, loss: 0.0907\n",
            "Accuracy on the validation set: 73.03754266211604\n",
            "Epoch: 236, loss: 0.285\n",
            "Accuracy on the validation set: 75.42662116040955\n",
            "Epoch: 237, loss: 0.258\n",
            "Accuracy on the validation set: 75.08532423208192\n",
            "Epoch: 238, loss: 0.0364\n",
            "Accuracy on the validation set: 74.06143344709898\n",
            "Epoch: 239, loss: 0.317\n",
            "Accuracy on the validation set: 72.35494880546075\n",
            "Epoch: 240, loss: 0.2\n",
            "Accuracy on the validation set: 75.08532423208192\n",
            "Epoch: 241, loss: 0.287\n",
            "Accuracy on the validation set: 73.37883959044369\n",
            "Epoch: 242, loss: 0.0433\n",
            "Accuracy on the validation set: 74.74402730375427\n",
            "Epoch: 243, loss: 0.282\n",
            "Accuracy on the validation set: 76.79180887372014\n",
            "Epoch: 244, loss: 0.351\n",
            "Accuracy on the validation set: 75.7679180887372\n",
            "Epoch: 245, loss: 0.0445\n",
            "Accuracy on the validation set: 74.40273037542661\n",
            "Epoch: 246, loss: 0.154\n",
            "Accuracy on the validation set: 77.47440273037543\n",
            "Epoch: 247, loss: 1.1\n",
            "Accuracy on the validation set: 74.06143344709898\n",
            "Epoch: 248, loss: 0.0482\n",
            "Accuracy on the validation set: 76.45051194539249\n",
            "Epoch: 249, loss: 0.0447\n",
            "Accuracy on the validation set: 75.08532423208192\n",
            "Epoch: 250, loss: 0.0604\n",
            "Accuracy on the validation set: 73.03754266211604\n",
            "Epoch: 251, loss: 0.413\n",
            "Accuracy on the validation set: 76.10921501706484\n",
            "Epoch: 252, loss: 0.167\n",
            "Accuracy on the validation set: 72.35494880546075\n",
            "Epoch: 253, loss: 0.861\n",
            "Accuracy on the validation set: 74.06143344709898\n",
            "Epoch: 254, loss: 0.249\n",
            "Accuracy on the validation set: 75.08532423208192\n",
            "Epoch: 255, loss: 0.471\n",
            "Accuracy on the validation set: 73.72013651877133\n",
            "Epoch: 256, loss: 0.0891\n",
            "Accuracy on the validation set: 72.6962457337884\n",
            "Epoch: 257, loss: 0.268\n",
            "Accuracy on the validation set: 75.42662116040955\n",
            "Epoch: 258, loss: 0.236\n",
            "Accuracy on the validation set: 73.72013651877133\n",
            "Epoch: 259, loss: 0.127\n",
            "Accuracy on the validation set: 76.79180887372014\n",
            "Epoch: 260, loss: 0.0434\n",
            "Accuracy on the validation set: 76.10921501706484\n",
            "Epoch: 261, loss: 0.422\n",
            "Accuracy on the validation set: 76.45051194539249\n",
            "Epoch: 262, loss: 0.0235\n",
            "Accuracy on the validation set: 74.06143344709898\n",
            "Epoch: 263, loss: 0.858\n",
            "Accuracy on the validation set: 77.13310580204778\n",
            "Epoch: 264, loss: 0.943\n",
            "Accuracy on the validation set: 76.45051194539249\n",
            "Epoch: 265, loss: 0.29\n",
            "Accuracy on the validation set: 73.03754266211604\n",
            "Epoch: 266, loss: 0.258\n",
            "Accuracy on the validation set: 76.45051194539249\n",
            "Epoch: 267, loss: 0.0689\n",
            "Accuracy on the validation set: 76.10921501706484\n",
            "Epoch: 268, loss: 0.934\n",
            "Accuracy on the validation set: 74.06143344709898\n",
            "Epoch: 269, loss: 1.15\n",
            "Accuracy on the validation set: 78.839590443686\n",
            "Epoch: 270, loss: 0.378\n",
            "Accuracy on the validation set: 76.45051194539249\n",
            "Epoch: 271, loss: 0.996\n",
            "Accuracy on the validation set: 73.37883959044369\n",
            "Epoch: 272, loss: 0.0922\n",
            "Accuracy on the validation set: 74.06143344709898\n",
            "Epoch: 273, loss: 0.352\n",
            "Accuracy on the validation set: 73.03754266211604\n",
            "Epoch: 274, loss: 0.164\n",
            "Accuracy on the validation set: 74.06143344709898\n",
            "Epoch: 275, loss: 0.213\n",
            "Accuracy on the validation set: 73.03754266211604\n",
            "Epoch: 276, loss: 0.107\n",
            "Accuracy on the validation set: 74.06143344709898\n",
            "Epoch: 277, loss: 0.147\n",
            "Accuracy on the validation set: 74.40273037542661\n",
            "Epoch: 278, loss: 0.0857\n",
            "Accuracy on the validation set: 74.74402730375427\n",
            "Epoch: 279, loss: 0.111\n",
            "Accuracy on the validation set: 75.7679180887372\n",
            "Epoch: 280, loss: 0.325\n",
            "Accuracy on the validation set: 74.40273037542661\n",
            "Epoch: 281, loss: 0.267\n",
            "Accuracy on the validation set: 76.10921501706484\n",
            "Epoch: 282, loss: 0.75\n",
            "Accuracy on the validation set: 75.7679180887372\n",
            "Epoch: 283, loss: 0.721\n",
            "Accuracy on the validation set: 73.72013651877133\n",
            "Epoch: 284, loss: 0.0936\n",
            "Accuracy on the validation set: 74.74402730375427\n",
            "Epoch: 285, loss: 0.0306\n",
            "Accuracy on the validation set: 72.35494880546075\n",
            "Epoch: 286, loss: 0.646\n",
            "Accuracy on the validation set: 74.74402730375427\n",
            "Epoch: 287, loss: 0.177\n",
            "Accuracy on the validation set: 74.74402730375427\n",
            "Epoch: 288, loss: 0.0738\n",
            "Accuracy on the validation set: 75.42662116040955\n",
            "Epoch: 289, loss: 0.204\n",
            "Accuracy on the validation set: 75.08532423208192\n",
            "Epoch: 290, loss: 0.0169\n",
            "Accuracy on the validation set: 75.08532423208192\n",
            "Epoch: 291, loss: 0.373\n",
            "Accuracy on the validation set: 75.08532423208192\n",
            "Epoch: 292, loss: 0.57\n",
            "Accuracy on the validation set: 72.0136518771331\n",
            "Epoch: 293, loss: 0.0379\n",
            "Accuracy on the validation set: 74.06143344709898\n",
            "Epoch: 294, loss: 0.271\n",
            "Accuracy on the validation set: 73.03754266211604\n",
            "Epoch: 295, loss: 0.394\n",
            "Accuracy on the validation set: 77.47440273037543\n",
            "Epoch: 296, loss: 0.245\n",
            "Accuracy on the validation set: 73.37883959044369\n",
            "Epoch: 297, loss: 0.223\n",
            "Accuracy on the validation set: 72.6962457337884\n",
            "Epoch: 298, loss: 0.00732\n",
            "Accuracy on the validation set: 75.08532423208192\n",
            "Epoch: 299, loss: 0.0128\n",
            "Accuracy on the validation set: 74.74402730375427\n",
            "CPU times: user 13min 23s, sys: 16.1 s, total: 13min 39s\n",
            "Wall time: 12min 41s\n"
          ]
        }
      ]
    },
    {
      "cell_type": "code",
      "source": [
        "def plot_results(epochs, losses, val_acc):\n",
        "    # plotting\n",
        "    plt.figure(figsize=(10,4))\n",
        "    plt.subplot(1,2,1)\n",
        "    plt.title(\"Training Curve\")\n",
        "    plt.plot(epochs, losses, label=\"Train\")\n",
        "    plt.xlabel(\"Iterations\")\n",
        "    plt.ylabel(\"Loss\")\n",
        "\n",
        "    plt.subplot(1,2,2)\n",
        "    plt.title(\"Validation acc\")\n",
        "    plt.plot(epochs, val_acc, label=\"Train\")\n",
        "    plt.xlabel(\"Iterations\")\n",
        "    plt.ylabel(\"Accuracy\")"
      ],
      "metadata": {
        "id": "K-s5mTUxSjOJ"
      },
      "execution_count": 37,
      "outputs": []
    },
    {
      "cell_type": "code",
      "source": [
        "plot_results(epochs, losses, val_acc)"
      ],
      "metadata": {
        "id": "iCwAflsXSjQz",
        "colab": {
          "base_uri": "https://localhost:8080/",
          "height": 295
        },
        "outputId": "cd1133e8-3324-4a3d-c7ee-d6ea5aa32fe2"
      },
      "execution_count": 38,
      "outputs": [
        {
          "output_type": "display_data",
          "data": {
            "text/plain": [
              "<Figure size 720x288 with 2 Axes>"
            ],
            "image/png": "[encoded data removed]"
          },
          "metadata": {
            "needs_background": "light"
          }
        }
      ]
    },
    {
      "cell_type": "code",
      "source": [
        "# saving model to file\n",
        "state_dict = model.state_dict()\n",
        "torch.save(state_dict, \"neural_net.tar\")"
      ],
      "metadata": {
        "id": "7wsHi_yyLtge"
      },
      "execution_count": 39,
      "outputs": []
    },
    {
      "cell_type": "markdown",
      "source": [
        "# Predictions on test set"
      ],
      "metadata": {
        "id": "ajFynd6s9Ldm"
      }
    },
    {
      "cell_type": "code",
      "source": [
        "with open(TEST_PATH, 'rb') as f:\n",
        "    test_data = pickle.load(f)"
      ],
      "metadata": {
        "id": "wc1Q0Gne9KaU"
      },
      "execution_count": 40,
      "outputs": []
    },
    {
      "cell_type": "code",
      "source": [
        "type(test_data)"
      ],
      "metadata": {
        "colab": {
          "base_uri": "https://localhost:8080/"
        },
        "id": "T6RUWhCm9M8E",
        "outputId": "c721cd38-55ea-4e6d-dda9-e5bdfcb073ed"
      },
      "execution_count": 41,
      "outputs": [
        {
          "output_type": "execute_result",
          "data": {
            "text/plain": [
              "list"
            ]
          },
          "metadata": {},
          "execution_count": 41
        }
      ]
    },
    {
      "cell_type": "code",
      "source": [
        "train_loader"
      ],
      "metadata": {
        "colab": {
          "base_uri": "https://localhost:8080/"
        },
        "id": "XCUegF_H9M-f",
        "outputId": "fbfa9308-b5a4-4675-80fb-ca438ad22da9"
      },
      "execution_count": 42,
      "outputs": [
        {
          "output_type": "execute_result",
          "data": {
            "text/plain": [
              "<torch.utils.data.dataloader.DataLoader at 0x7f3d9904ac70>"
            ]
          },
          "metadata": {},
          "execution_count": 42
        }
      ]
    },
    {
      "cell_type": "code",
      "source": [
        "test_data = [torch.from_numpy(t.astype(int)).float() for t in test_data]"
      ],
      "metadata": {
        "id": "5P2d0O2df28D"
      },
      "execution_count": 43,
      "outputs": []
    },
    {
      "cell_type": "code",
      "source": [
        "test_dataset = VariableLenDataset(test_data, [0 for t in test_data])"
      ],
      "metadata": {
        "id": "FD-YF1cgYLBt"
      },
      "execution_count": 44,
      "outputs": []
    },
    {
      "cell_type": "code",
      "source": [
        "test_loader = DataLoader(test_dataset, batch_size=50, shuffle=False, drop_last=False, collate_fn=pad_collate)"
      ],
      "metadata": {
        "id": "MOFb5U4TYLEM"
      },
      "execution_count": 45,
      "outputs": []
    },
    {
      "cell_type": "code",
      "source": [
        "preds = []\n",
        "for x, label in test_loader:\n",
        "  print(x)\n",
        "  hidden, state = model.init_hidden(x.shape[0])\n",
        "  hidden, state = hidden.to(device), state.to(device)\n",
        "  x = x.to(device).unsqueeze(2)\n",
        "  x = torch.transpose(x, 0, 1)\n",
        "  new_preds = model(x, (hidden, state))\n",
        "  for new_pred in new_preds:\n",
        "    preds.append(new_pred.max(0, keepdim=True)[1].item())"
      ],
      "metadata": {
        "colab": {
          "base_uri": "https://localhost:8080/"
        },
        "id": "LsEGLP2TYLHE",
        "outputId": "6464e893-3890-4801-bd72-55e7a862e1dc"
      },
      "execution_count": 46,
      "outputs": [
        {
          "output_type": "stream",
          "name": "stdout",
          "text": [
            "tensor([[  0.,   0.,   0.,  ...,   0.,   0.,   0.],\n",
            "        [  0.,   0.,   2.,  ...,   0.,   0.,   0.],\n",
            "        [ -1.,  64.,  64.,  ...,   0.,   0.,   0.],\n",
            "        ...,\n",
            "        [ -1.,  -1.,  -1.,  ...,   0.,   0.,   0.],\n",
            "        [144.,  69., 100.,  ...,   0.,   0.,   0.],\n",
            "        [ -1.,  -1.,  -1.,  ...,   0.,   0.,   0.]])\n",
            "tensor([[ 12.,  47.,  28.,  ...,   0.,   0.,   0.],\n",
            "        [ -1.,  -1.,  -1.,  ...,   0.,   0.,   0.],\n",
            "        [ 12.,  47.,  47.,  ...,   0.,   0.,   0.],\n",
            "        ...,\n",
            "        [  7., 158.,  92.,  ...,   0.,   0.,   0.],\n",
            "        [ -1.,  -1.,  -1.,  ...,   0.,   0.,   0.],\n",
            "        [ 67.,  47.,  47.,  ...,   0.,   0.,   0.]])\n",
            "tensor([[ 0.,  0.,  0.,  ...,  0.,  0.,  0.],\n",
            "        [-1., -1.,  0.,  ...,  0.,  0.,  0.],\n",
            "        [-1., -1., -1.,  ...,  0.,  0.,  0.],\n",
            "        ...,\n",
            "        [ 0., 12., 12.,  ...,  0.,  0.,  0.],\n",
            "        [-1., -1., -1.,  ...,  0.,  0.,  0.],\n",
            "        [-1., -1., -1.,  ...,  0.,  0.,  0.]])\n",
            "tensor([[ -1.,  -1.,  -1.,  ...,   0.,   0.,   0.],\n",
            "        [ -1.,  -1.,  -1.,  ...,   0.,   0.,   0.],\n",
            "        [ -1.,  -1.,  -1.,  ...,   0.,   0.,   0.],\n",
            "        ...,\n",
            "        [ -1.,  -1.,  -1.,  ...,   0.,   0.,   0.],\n",
            "        [ -1.,  -1.,  -1.,  ...,   0.,   0.,   0.],\n",
            "        [ -1.,  32., 114.,  ...,   0.,   0.,   0.]])\n",
            "tensor([[  0.,  13., 125.,  ...,   0.,   0.,   0.],\n",
            "        [  0.,  92.,  13.,  ...,   0.,   0.,   0.],\n",
            "        [  1.,  20.,  47.,  ...,   0.,   0.,   0.],\n",
            "        ...,\n",
            "        [ 34., 121.,  76.,  ...,   0.,   0.,   0.],\n",
            "        [ 12.,  13.,  28.,  ...,   0.,   0.,   0.],\n",
            "        [ 64., 180., 180.,  ...,   0.,   0.,   0.]])\n",
            "tensor([[ 67.,   0., 159.,  ...,   0.,   0.,   0.],\n",
            "        [ 41.,  47.,  30.,  ...,   0.,   0.,   0.],\n",
            "        [  0.,   0.,   3.,  ...,   0.,   0.,   0.],\n",
            "        ...,\n",
            "        [ -1.,  -1., 112.,  ...,   0.,   0.,   0.],\n",
            "        [ -1.,  64.,  65.,  ...,   0.,   0.,   0.],\n",
            "        [ -1.,  13.,   5.,  ...,   0.,   0.,   0.]])\n",
            "tensor([[ -1.,  -1., 145.,  ...,   0.,   0.,   0.],\n",
            "        [ -1.,   0.,   0.,  ...,   0.,   0.,   0.],\n",
            "        [ -1.,  -1.,  -1.,  ...,   0.,   0.,   0.],\n",
            "        ...,\n",
            "        [  0.,   0.,   0.,  ...,   0.,   0.,   0.],\n",
            "        [ -1., 144.,  50.,  ...,   0.,   0.,   0.],\n",
            "        [ -1., 144., 180.,  ...,   0.,   0.,   0.]])\n",
            "tensor([[  0.,   3.,  12.,  ...,   0.,   0.,   0.],\n",
            "        [ -1.,  47.,  47.,  ...,   0.,   0.,   0.],\n",
            "        [144., 144., 144.,  ...,   0.,   0.,   0.],\n",
            "        ...,\n",
            "        [  0.,  12.,  47.,  ...,   0.,   0.,   0.],\n",
            "        [145.,  92.,  88.,  ...,   0.,   0.,   0.],\n",
            "        [144., 144., 100.,  ...,   0.,   0.,   0.]])\n",
            "tensor([[144.,   6.,  47.,  ...,   0.,   0.,   0.],\n",
            "        [ 34.,  34., 100.,  ...,   0.,   0.,   0.],\n",
            "        [  0.,  67., 180.,  ...,   0.,   0.,   0.],\n",
            "        ...,\n",
            "        [ -1.,  -1.,   0.,  ...,   0.,   0.,   0.],\n",
            "        [ 84., 191., 191.,  ...,   0.,   0.,   0.],\n",
            "        [ -1.,  -1.,  34.,  ...,   0.,   0.,   0.]])\n",
            "tensor([[100., 124.,  37.,  ...,   0.,   0.,   0.],\n",
            "        [ 82.,  92.,  12.,  ...,   0.,   0.,   0.],\n",
            "        [ 67.,   0.,   0.,  ...,   0.,   0.,   0.],\n",
            "        ...,\n",
            "        [  0.,  67.,   0.,  ...,   0.,   0.,   0.],\n",
            "        [  8.,  12., 146.,  ...,   0.,   0.,   0.],\n",
            "        [153.,  47., 132.,  ...,   0.,   0.,   0.]])\n",
            "tensor([[  0.,   0.,   0.,  ...,   0.,   0.,   0.],\n",
            "        [ 73.,  88.,  92.,  ...,   0.,   0.,   0.],\n",
            "        [112.,  68.,  88.,  ...,   0.,   0.,   0.],\n",
            "        ...,\n",
            "        [  0.,   0.,  12.,  ...,   0.,   0.,   0.],\n",
            "        [ 32., 146.,  65.,  ...,   0.,   0.,   0.],\n",
            "        [145., 145.,  47.,  ...,   0.,   0.,   0.]])\n",
            "tensor([[  0.,   0.,  67.,  ...,   0.,   0.,   0.],\n",
            "        [112.,   0.,   1.,  ...,   0.,   0.,   0.],\n",
            "        [  0.,  82.,  82.,  ...,   0.,   0.,   0.],\n",
            "        ...,\n",
            "        [ -1.,  -1.,  -1.,  ...,   0.,   0.,   0.],\n",
            "        [ -1.,  -1.,  -1.,  ...,   0.,   0.,   0.],\n",
            "        [ -1.,  -1.,  -1.,  ...,   0.,   0.,   0.]])\n",
            "tensor([[-1., -1., -1.,  ...,  0.,  0.,  0.],\n",
            "        [-1., -1., -1.,  ...,  0.,  0.,  0.],\n",
            "        [-1., -1., -1.,  ...,  0.,  0.,  0.],\n",
            "        ...,\n",
            "        [ 0.,  0.,  0.,  ...,  0.,  0.,  0.],\n",
            "        [-1., -1.,  0.,  ...,  0.,  0.,  0.],\n",
            "        [-1., 67.,  0.,  ...,  0.,  0.,  0.]])\n",
            "tensor([[ -1.,  -1.,  -1.,  ...,   0.,   0.,   0.],\n",
            "        [ -1.,  -1.,  -1.,  ...,   0.,   0.,   0.],\n",
            "        [ -1.,  -1.,  -1.,  ...,   0.,   0.,   0.],\n",
            "        ...,\n",
            "        [ 64., 145., 145.,  ...,   0.,   0.,   0.],\n",
            "        [  0.,   0., 159.,  ...,   0.,   0.,   0.],\n",
            "        [ 64.,   0., 179.,  ...,   0.,   0.,   0.]])\n",
            "tensor([[  0.,   0.,  12.,  ...,   0.,   0.,   0.],\n",
            "        [145.,  92., 156.,  ...,   0.,   0.,   0.],\n",
            "        [  0.,   0.,   0.,  ...,   0.,   0.,   0.],\n",
            "        ...,\n",
            "        [ -1.,  -1.,  -1.,  ...,   0.,   0.,   0.],\n",
            "        [ -1.,  -1.,  -1.,  ...,   0.,   0.,   0.],\n",
            "        [ -1.,   0.,   0.,  ...,   0.,   0.,   0.]])\n",
            "tensor([[ -1.,  -1.,  -1.,  ...,   0.,   0.,   0.],\n",
            "        [ -1.,  -1.,  -1.,  ...,   0.,   0.,   0.],\n",
            "        [ -1.,  -1.,  -1.,  ...,   0.,   0.,   0.],\n",
            "        ...,\n",
            "        [ -1.,  -1., 145.,  ...,   0.,   0.,   0.],\n",
            "        [ -1.,  -1.,  80.,  ...,   0.,   0.,   0.],\n",
            "        [ -1., 112.,   0.,  ...,   0.,   0.,   0.]])\n",
            "tensor([[  0.,  13.,  79.,  ...,   0.,   0.,   0.],\n",
            "        [  0., 159.,  12.,  ...,   0.,   0.,   0.],\n",
            "        [100., 159., 117.,  ...,   0.,   0.,   0.],\n",
            "        ...,\n",
            "        [ -1.,  -1.,  -1.,  ...,  -1.,  -1.,   0.],\n",
            "        [ -1.,  -1.,  -1.,  ...,   0.,   0.,   0.],\n",
            "        [ 32.,  32.,  32.,  ...,   0.,   0.,   0.]])\n",
            "tensor([[145.,  12., 156.,  ...,   0.,   0.,   0.],\n",
            "        [145.,  12.,  42.,  ...,   0.,   0.,   0.],\n",
            "        [  0.,   0., 112.,  ...,   0.,   0.,   0.],\n",
            "        ...,\n",
            "        [ -1.,  -1.,   0.,  ...,   0.,   0.,   0.],\n",
            "        [ -1.,  -1., 144.,  ...,   0.,   0.,   0.],\n",
            "        [128., 128., 128.,  ...,   0.,   0.,   0.]])\n",
            "tensor([[  1.,   1.,   1.,  ...,   0.,   0.,   0.],\n",
            "        [  1.,  53.,  53.,  ...,   0.,   0.,   0.],\n",
            "        [114.,   4.,  89.,  ...,   0.,   0.,   0.],\n",
            "        ...,\n",
            "        [ 68., 124.,  12.,  ...,   0.,   0.,   0.],\n",
            "        [ -1.,  -1., 112.,  ...,   0.,   0.,   0.],\n",
            "        [ 80.,  80.,  92.,  ...,   0.,   0.,   0.]])\n",
            "tensor([[ -1.,  -1.,   2.,  ...,   0.,   0.,   0.],\n",
            "        [ 64.,  64.,  66.,  ...,   0.,   0.,   0.],\n",
            "        [ -1.,  -1.,  66.,  ...,   0.,   0.,   0.],\n",
            "        ...,\n",
            "        [ 33.,  50., 121.,  ...,   0.,   0.,   0.],\n",
            "        [ 80.,  80.,  80.,  ...,   0.,   0.,   0.],\n",
            "        [ 34.,  68., 120.,  ...,   0.,   0.,   0.]])\n",
            "tensor([[ -1.,  -1., 112.,  ...,   0.,   0.,   0.],\n",
            "        [ 32.,  32.,  20.,  ...,   0.,   0.,   0.],\n",
            "        [ -1.,  -1.,  80.,  ...,   0.,   0.,   0.],\n",
            "        ...,\n",
            "        [ 80.,  80.,   0.,  ...,   0.,   0.,   0.],\n",
            "        [ -1.,   0., 114.,  ...,   0.,   0.,   0.],\n",
            "        [  0.,   0., 114.,  ...,   0.,   0.,   0.]])\n",
            "tensor([[ 64.,  64.,  64.,  ...,   0.,   0.,   0.],\n",
            "        [144., 144., 145.,  ...,   0.,   0.,   0.],\n",
            "        [  0.,   0.,   0.,  ...,   0.,   0.,   0.],\n",
            "        ...,\n",
            "        [  1.,   9.,  60.,  ...,   0.,   0.,   0.],\n",
            "        [112., 112.,   0.,  ...,   0.,   0.,   0.],\n",
            "        [112., 112., 112.,  ...,   0.,   0.,   0.]])\n",
            "tensor([[176., 176.,  66., 146., 124., 190.,  77., 185., 157., 119., 124.,  68.,\n",
            "          68., 149.,  44.,  45., 124.,  45.,  79., 149., 149.,  60.,  45.,  47.,\n",
            "          45.,  73.,  12., 120.,  13.,  13.,  45., 121.,  60.,  92.,   5.,  33.,\n",
            "          33., 180., 180.,  20.,  44.,  44.,  45.,  79., 149., 149.,  44.,  20.,\n",
            "          74.,  47.,  92.,  60.,  44.,  44.,  60.,  60., 157.,  76.,  78.,  44.,\n",
            "          44., 149.,  44.,  79.,  78.,  12.,  12.,  73.,  71.,  72.,  45.,  73.,\n",
            "          73., 112., 124., 191., 156.,  41.,  13., 124., 124.,  79., 109., 185.,\n",
            "         185., 112., 124., 191., 156.,  41.,  13., 124., 124.,  79., 109., 185.,\n",
            "         185.,  74.,  74.,  45., 159.,   8., 159.,  45.,  74.,  45., 159.,   8.,\n",
            "         159.,  45., 127., 127.,  13.,  45.,  36., 119.,   8.,   8., 159.,  92.,\n",
            "         159., 159.,  45.,  38.,  93., 124., 190., 156., 143., 190., 190.,  45.,\n",
            "          45.,  92.,  47.,  71.,  72.,  45.,  73.,  73.,  73.,  12.,   0.,   0.,\n",
            "           0.,  12.,  73.,  73.,  73.],\n",
            "        [ 32.,  32.,  32.,  32.,  33.,  78.,  92.,  33.,  33.,  33.,  13., 185.,\n",
            "         132., 132.,  71.,  74., 146., 146.,  77.,  77., 124., 100., 120.,  45.,\n",
            "          92., 125., 125., 157.,  44., 125.,   5., 125.,  12.,  28.,  60.,  33.,\n",
            "          60.,  92.,  47., 180., 180.,  78.,  78., 172.,  38.,  44.,  78.,  30.,\n",
            "          44.,  37.,  37.,  37.,  45.,  66.,  68., 100., 132.,  98.,  40., 152.,\n",
            "          34.,  34., 159.,  13., 158.,  40.,  44., 180.,  41., 108.,  62., 146.,\n",
            "          58.,  45.,  37., 177.,  30.,  60., 168., 146.,  58.,  33.,  33.,  78.,\n",
            "         125.,  41.,  28.,  13.,  60.,  40.,  97.,  97.,  97.,  97.,  97.,  97.,\n",
            "         185., 176.,  35., 164.,  56., 146.,  44.,  45.,  79., 157.,  92., 172.,\n",
            "         125.,  92., 157.,  44.,  44.,  39., 190., 132.,  30.,  25.,  44., 190.,\n",
            "          15.,   5., 109.,  25.,  12., 125.,  92., 117.,  44., 149., 124.,  12.,\n",
            "          92.,  28.,  30.,  44., 124.,  42.,  47., 117.,  28.,  78.,  30.,  25.,\n",
            "          44.,  37.,  -1.,  -1.,   0.],\n",
            "        [144., 144., 144.,  34.,  34.,  32.,  33.,  80.,  88., 152., 156., 144.,\n",
            "          40., 121.,  60.,  41.,   8.,  37., 156., 144.,  44.,  32., 124., 112.,\n",
            "         112.,   8.,   8., 112., 117.,  12., 124.,  32., 124., 190.,   8., 190.,\n",
            "          13.,  88.,  92.,  88.,  92.,   8.,  12.,  92., 172.,  37., 127., 144.,\n",
            "          44.,  33.,  47.,  92.,  78.,  41.,  44.,  92.,  44.,  32.,  45.,  12.,\n",
            "          77.,  44.,  30.,  37., 127.,  40.,  44.,  33.,  33.,  33.,  77., 119.,\n",
            "          12.,  20.,  44.,  33.,  33.,  47., 125., 112.,  44., 144.,  44.,  32.,\n",
            "         124.,  12.,  12., 119., 125.,  40.,  44.,  39., 172., 113., 127.,  33.,\n",
            "          60.,  73.,  44., 124., 172., 121., 127.,  40.,  44.,  39., 172., 113.,\n",
            "          37., 120., 149.,  33.,  33.,  33., 127.,  37.,  37., 120.,  96.,  96.,\n",
            "           0.,   0.,   0.,   0.,   0.,   0.,   0.,   0.,   0.,   0.,   0.,   0.,\n",
            "           0.,   0.,   0.,   0.,   0.,   0.,   0.,   0.,   0.,   0.,   0.,   0.,\n",
            "           0.,   0.,   0.,   0.,   0.]])\n"
          ]
        }
      ]
    },
    {
      "cell_type": "code",
      "source": [
        "preds_filename = \"preds.csv\"\n",
        "pd.DataFrame({'A': preds}).to_csv(preds_filename, index=False, header=False)"
      ],
      "metadata": {
        "id": "jHYTyOE8ehGP"
      },
      "execution_count": 47,
      "outputs": []
    },
    {
      "cell_type": "code",
      "source": [
        "pd.read_csv(preds_filename, header=None)\n"
      ],
      "metadata": {
        "colab": {
          "base_uri": "https://localhost:8080/",
          "height": 424
        },
        "id": "PCdB4mfVehJB",
        "outputId": "e29e0da3-07f1-4d0e-84df-7a5dd708cde6"
      },
      "execution_count": 48,
      "outputs": [
        {
          "output_type": "execute_result",
          "data": {
            "text/plain": [
              "      0\n",
              "0     0\n",
              "1     0\n",
              "2     0\n",
              "3     0\n",
              "4     0\n",
              "...  ..\n",
              "1098  4\n",
              "1099  4\n",
              "1100  4\n",
              "1101  3\n",
              "1102  4\n",
              "\n",
              "[1103 rows x 1 columns]"
            ],
            "text/html": [
              "\n",
              "  <div id=\"df-67e185ae-bb62-4258-bdb3-24be75e43fad\">\n",
              "    <div class=\"colab-df-container\">\n",
              "      <div>\n",
              "<style scoped>\n",
              "    .dataframe tbody tr th:only-of-type {\n",
              "        vertical-align: middle;\n",
              "    }\n",
              "\n",
              "    .dataframe tbody tr th {\n",
              "        vertical-align: top;\n",
              "    }\n",
              "\n",
              "    .dataframe thead th {\n",
              "        text-align: right;\n",
              "    }\n",
              "</style>\n",
              "<table border=\"1\" class=\"dataframe\">\n",
              "  <thead>\n",
              "    <tr style=\"text-align: right;\">\n",
              "      <th></th>\n",
              "      <th>0</th>\n",
              "    </tr>\n",
              "  </thead>\n",
              "  <tbody>\n",
              "    <tr>\n",
              "      <th>0</th>\n",
              "      <td>0</td>\n",
              "    </tr>\n",
              "    <tr>\n",
              "      <th>1</th>\n",
              "      <td>0</td>\n",
              "    </tr>\n",
              "    <tr>\n",
              "      <th>2</th>\n",
              "      <td>0</td>\n",
              "    </tr>\n",
              "    <tr>\n",
              "      <th>3</th>\n",
              "      <td>0</td>\n",
              "    </tr>\n",
              "    <tr>\n",
              "      <th>4</th>\n",
              "      <td>0</td>\n",
              "    </tr>\n",
              "    <tr>\n",
              "      <th>...</th>\n",
              "      <td>...</td>\n",
              "    </tr>\n",
              "    <tr>\n",
              "      <th>1098</th>\n",
              "      <td>4</td>\n",
              "    </tr>\n",
              "    <tr>\n",
              "      <th>1099</th>\n",
              "      <td>4</td>\n",
              "    </tr>\n",
              "    <tr>\n",
              "      <th>1100</th>\n",
              "      <td>4</td>\n",
              "    </tr>\n",
              "    <tr>\n",
              "      <th>1101</th>\n",
              "      <td>3</td>\n",
              "    </tr>\n",
              "    <tr>\n",
              "      <th>1102</th>\n",
              "      <td>4</td>\n",
              "    </tr>\n",
              "  </tbody>\n",
              "</table>\n",
              "<p>1103 rows × 1 columns</p>\n",
              "</div>\n",
              "      <button class=\"colab-df-convert\" onclick=\"convertToInteractive('df-67e185ae-bb62-4258-bdb3-24be75e43fad')\"\n",
              "              title=\"Convert this dataframe to an interactive table.\"\n",
              "              style=\"display:none;\">\n",
              "        \n",
              "  <svg xmlns=\"http://www.w3.org/2000/svg\" height=\"24px\"viewBox=\"0 0 24 24\"\n",
              "       width=\"24px\">\n",
              "    <path d=\"M0 0h24v24H0V0z\" fill=\"none\"/>\n",
              "    <path d=\"M18.56 5.44l.94 2.06.94-2.06 2.06-.94-2.06-.94-.94-2.06-.94 2.06-2.06.94zm-11 1L8.5 8.5l.94-2.06 2.06-.94-2.06-.94L8.5 2.5l-.94 2.06-2.06.94zm10 10l.94 2.06.94-2.06 2.06-.94-2.06-.94-.94-2.06-.94 2.06-2.06.94z\"/><path d=\"M17.41 7.96l-1.37-1.37c-.4-.4-.92-.59-1.43-.59-.52 0-1.04.2-1.43.59L10.3 9.45l-7.72 7.72c-.78.78-.78 2.05 0 2.83L4 21.41c.39.39.9.59 1.41.59.51 0 1.02-.2 1.41-.59l7.78-7.78 2.81-2.81c.8-.78.8-2.07 0-2.86zM5.41 20L4 18.59l7.72-7.72 1.47 1.35L5.41 20z\"/>\n",
              "  </svg>\n",
              "      </button>\n",
              "      \n",
              "  <style>\n",
              "    .colab-df-container {\n",
              "      display:flex;\n",
              "      flex-wrap:wrap;\n",
              "      gap: 12px;\n",
              "    }\n",
              "\n",
              "    .colab-df-convert {\n",
              "      background-color: #E8F0FE;\n",
              "      border: none;\n",
              "      border-radius: 50%;\n",
              "      cursor: pointer;\n",
              "      display: none;\n",
              "      fill: #1967D2;\n",
              "      height: 32px;\n",
              "      padding: 0 0 0 0;\n",
              "      width: 32px;\n",
              "    }\n",
              "\n",
              "    .colab-df-convert:hover {\n",
              "      background-color: #E2EBFA;\n",
              "      box-shadow: 0px 1px 2px rgba(60, 64, 67, 0.3), 0px 1px 3px 1px rgba(60, 64, 67, 0.15);\n",
              "      fill: #174EA6;\n",
              "    }\n",
              "\n",
              "    [theme=dark] .colab-df-convert {\n",
              "      background-color: #3B4455;\n",
              "      fill: #D2E3FC;\n",
              "    }\n",
              "\n",
              "    [theme=dark] .colab-df-convert:hover {\n",
              "      background-color: #434B5C;\n",
              "      box-shadow: 0px 1px 3px 1px rgba(0, 0, 0, 0.15);\n",
              "      filter: drop-shadow(0px 1px 2px rgba(0, 0, 0, 0.3));\n",
              "      fill: #FFFFFF;\n",
              "    }\n",
              "  </style>\n",
              "\n",
              "      <script>\n",
              "        const buttonEl =\n",
              "          document.querySelector('#df-67e185ae-bb62-4258-bdb3-24be75e43fad button.colab-df-convert');\n",
              "        buttonEl.style.display =\n",
              "          google.colab.kernel.accessAllowed ? 'block' : 'none';\n",
              "\n",
              "        async function convertToInteractive(key) {\n",
              "          const element = document.querySelector('#df-67e185ae-bb62-4258-bdb3-24be75e43fad');\n",
              "          const dataTable =\n",
              "            await google.colab.kernel.invokeFunction('convertToInteractive',\n",
              "                                                     [key], {});\n",
              "          if (!dataTable) return;\n",
              "\n",
              "          const docLinkHtml = 'Like what you see? Visit the ' +\n",
              "            '<a target=\"_blank\" href=https://colab.research.google.com/notebooks/data_table.ipynb>data table notebook</a>'\n",
              "            + ' to learn more about interactive tables.';\n",
              "          element.innerHTML = '';\n",
              "          dataTable['output_type'] = 'display_data';\n",
              "          await google.colab.output.renderOutput(dataTable, element);\n",
              "          const docLink = document.createElement('div');\n",
              "          docLink.innerHTML = docLinkHtml;\n",
              "          element.appendChild(docLink);\n",
              "        }\n",
              "      </script>\n",
              "    </div>\n",
              "  </div>\n",
              "  "
            ]
          },
          "metadata": {},
          "execution_count": 48
        }
      ]
    },
    {
      "cell_type": "code",
      "source": [],
      "metadata": {
        "id": "jhRheNLg19CZ"
      },
      "execution_count": 32,
      "outputs": []
    }
  ]
}