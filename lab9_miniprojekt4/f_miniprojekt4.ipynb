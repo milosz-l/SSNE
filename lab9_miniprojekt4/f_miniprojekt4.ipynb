{
  "nbformat": 4,
  "nbformat_minor": 0,
  "metadata": {
    "colab": {
      "provenance": [],
      "collapsed_sections": [
        "g6VO-fNxrWh5"
      ],
      "machine_shape": "hm"
    },
    "kernelspec": {
      "name": "python3",
      "display_name": "Python 3"
    },
    "language_info": {
      "name": "python"
    },
    "accelerator": "GPU",
    "gpuClass": "standard"
  },
  "cells": [
    {
      "cell_type": "markdown",
      "source": [
        "# Imports, setting up device and seeds\n"
      ],
      "metadata": {
        "id": "bWqIz6BsrIZU"
      }
    },
    {
      "cell_type": "code",
      "source": [
        "import torch\n",
        "from torch import nn\n",
        "import torchvision\n",
        "import torchvision.transforms as transforms\n",
        "import pandas as pd\n",
        "import numpy as np\n",
        "\n",
        "import matplotlib.pyplot as plt\n",
        "import numpy as np\n",
        " \n",
        "import torch.nn as nn\n",
        "import torch.nn.functional as F\n",
        "\n",
        "from torch.utils.data import DataLoader"
      ],
      "metadata": {
        "id": "-RiHHnHEi7Vc"
      },
      "execution_count": 1,
      "outputs": []
    },
    {
      "cell_type": "code",
      "source": [
        "import os\n",
        "import random\n",
        "\n",
        "def set_all_seeds(seed):\n",
        "    os.environ[\"PL_GLOBAL_SEED\"] = str(seed)\n",
        "    random.seed(seed)\n",
        "    np.random.seed(seed)\n",
        "    torch.manual_seed(seed)\n",
        "    torch.cuda.manual_seed_all(seed)\n",
        "\n",
        "set_all_seeds(42)"
      ],
      "metadata": {
        "id": "dF7Jzby3i-I6"
      },
      "execution_count": 2,
      "outputs": []
    },
    {
      "cell_type": "code",
      "source": [
        "# torch.cuda.set_device(1)\n",
        "device = torch.device(\"cuda\")\n",
        "# device = torch.device('mps')\n",
        "# device = torch.device('cpu')"
      ],
      "metadata": {
        "id": "-BCkcrW5i9kE"
      },
      "execution_count": 3,
      "outputs": []
    },
    {
      "cell_type": "markdown",
      "source": [
        "# Google drive"
      ],
      "metadata": {
        "id": "A2P1P9ATUoun"
      }
    },
    {
      "cell_type": "code",
      "source": [
        "from google.colab import drive\n",
        "drive.mount('/content/drive')"
      ],
      "metadata": {
        "colab": {
          "base_uri": "https://localhost:8080/"
        },
        "id": "jakEYCURjAtn",
        "outputId": "57d8367f-0b89-42b4-d6a8-125e3d0fc219"
      },
      "execution_count": 4,
      "outputs": [
        {
          "output_type": "stream",
          "name": "stdout",
          "text": [
            "Drive already mounted at /content/drive; to attempt to forcibly remount, call drive.mount(\"/content/drive\", force_remount=True).\n"
          ]
        }
      ]
    },
    {
      "cell_type": "code",
      "source": [
        "import os\n",
        "os.chdir(\"/content/drive/My Drive/SSNElab9\")"
      ],
      "metadata": {
        "id": "fGzhDkfDjCGE"
      },
      "execution_count": 5,
      "outputs": []
    },
    {
      "cell_type": "markdown",
      "source": [
        "# Constants"
      ],
      "metadata": {
        "id": "zDc0baBsXVGd"
      }
    },
    {
      "cell_type": "code",
      "source": [
        "VALIDATION_PERCENTAGE = 0.10\n",
        "batch_size = 8\n",
        "TRAIN_PATH = 'train.pkl'\n",
        "TEST_PATH = \"test_no_target.pkl\""
      ],
      "metadata": {
        "id": "sg6Nh9CXXT4U"
      },
      "execution_count": 6,
      "outputs": []
    },
    {
      "cell_type": "markdown",
      "source": [
        "# Reading training dataset"
      ],
      "metadata": {
        "id": "8b6UrS1rrOIe"
      }
    },
    {
      "cell_type": "code",
      "execution_count": 7,
      "metadata": {
        "id": "6lhaFNeLhusm"
      },
      "outputs": [],
      "source": [
        "import pickle\n",
        "\n",
        "with open(TRAIN_PATH, 'rb') as f:\n",
        "    train = pickle.load(f)"
      ]
    },
    {
      "cell_type": "code",
      "source": [
        "train_lengths = [len(train_song[0]) for train_song in train]"
      ],
      "metadata": {
        "id": "7eNmQAg1i7Yr"
      },
      "execution_count": 8,
      "outputs": []
    },
    {
      "cell_type": "code",
      "source": [
        "len(train_lengths)"
      ],
      "metadata": {
        "colab": {
          "base_uri": "https://localhost:8080/"
        },
        "id": "bjH5ziWn_4Po",
        "outputId": "8456d3f4-638f-4934-9557-a907993edb01"
      },
      "execution_count": 9,
      "outputs": [
        {
          "output_type": "execute_result",
          "data": {
            "text/plain": [
              "2939"
            ]
          },
          "metadata": {},
          "execution_count": 9
        }
      ]
    },
    {
      "cell_type": "code",
      "source": [
        "type(train[0][0])"
      ],
      "metadata": {
        "colab": {
          "base_uri": "https://localhost:8080/"
        },
        "id": "09fGswPGVIFE",
        "outputId": "6930f681-ed7e-46fa-e857-7a594d2c2813"
      },
      "execution_count": 10,
      "outputs": [
        {
          "output_type": "execute_result",
          "data": {
            "text/plain": [
              "numpy.ndarray"
            ]
          },
          "metadata": {},
          "execution_count": 10
        }
      ]
    },
    {
      "cell_type": "markdown",
      "source": [
        "# Histogram for training values"
      ],
      "metadata": {
        "id": "g6VO-fNxrWh5"
      }
    },
    {
      "cell_type": "code",
      "source": [
        "# histogram of lengths of training sequences\n",
        "plt.hist(train_lengths, bins='auto')"
      ],
      "metadata": {
        "colab": {
          "base_uri": "https://localhost:8080/",
          "height": 0
        },
        "id": "ZUP8rCvCo716",
        "outputId": "a3c75693-d014-4ab4-c78b-34e40df5e9a5"
      },
      "execution_count": 11,
      "outputs": [
        {
          "output_type": "execute_result",
          "data": {
            "text/plain": [
              "(array([152., 383., 229., 301., 297., 245., 212., 162., 103., 111.,  76.,\n",
              "         67.,  87.,  49.,  42.,  37.,  23.,  27.,  22.,  25.,  17.,  16.,\n",
              "         14.,  13.,  13.,  10.,  19.,  15.,  11.,  16.,   4.,   6.,   8.,\n",
              "          8.,   2.,   5.,   3.,   5.,   5.,   5.,   6.,   4.,   4.,  11.,\n",
              "          5.,   2.,   6.,   4.,   8.,   1.,   0.,   1.,   3.,   1.,   1.,\n",
              "          2.,   1.,   2.,   0.,   2.,   1.,   2.,   3.,   0.,   0.,   0.,\n",
              "          0.,   1.,   1.,   3.,   0.,   1.,   1.,   0.,   0.,   1.,   0.,\n",
              "          0.,   0.,   2.,   0.,   0.,   0.,   0.,   1.,   1.,   0.,   1.,\n",
              "          0.,   0.,   1.,   0.,   0.,   0.,   0.,   1.,   2.,   0.,   0.,\n",
              "          1.,   0.,   0.,   0.,   2.,   0.,   0.,   0.,   0.,   0.,   0.,\n",
              "          1.,   1.,   0.,   0.,   0.,   0.,   0.,   0.,   0.,   0.,   0.,\n",
              "          0.,   0.,   0.,   0.,   1.,   0.,   0.,   0.,   0.,   0.,   1.]),\n",
              " array([4.00000000e+00, 5.17575758e+01, 9.95151515e+01, 1.47272727e+02,\n",
              "        1.95030303e+02, 2.42787879e+02, 2.90545455e+02, 3.38303030e+02,\n",
              "        3.86060606e+02, 4.33818182e+02, 4.81575758e+02, 5.29333333e+02,\n",
              "        5.77090909e+02, 6.24848485e+02, 6.72606061e+02, 7.20363636e+02,\n",
              "        7.68121212e+02, 8.15878788e+02, 8.63636364e+02, 9.11393939e+02,\n",
              "        9.59151515e+02, 1.00690909e+03, 1.05466667e+03, 1.10242424e+03,\n",
              "        1.15018182e+03, 1.19793939e+03, 1.24569697e+03, 1.29345455e+03,\n",
              "        1.34121212e+03, 1.38896970e+03, 1.43672727e+03, 1.48448485e+03,\n",
              "        1.53224242e+03, 1.58000000e+03, 1.62775758e+03, 1.67551515e+03,\n",
              "        1.72327273e+03, 1.77103030e+03, 1.81878788e+03, 1.86654545e+03,\n",
              "        1.91430303e+03, 1.96206061e+03, 2.00981818e+03, 2.05757576e+03,\n",
              "        2.10533333e+03, 2.15309091e+03, 2.20084848e+03, 2.24860606e+03,\n",
              "        2.29636364e+03, 2.34412121e+03, 2.39187879e+03, 2.43963636e+03,\n",
              "        2.48739394e+03, 2.53515152e+03, 2.58290909e+03, 2.63066667e+03,\n",
              "        2.67842424e+03, 2.72618182e+03, 2.77393939e+03, 2.82169697e+03,\n",
              "        2.86945455e+03, 2.91721212e+03, 2.96496970e+03, 3.01272727e+03,\n",
              "        3.06048485e+03, 3.10824242e+03, 3.15600000e+03, 3.20375758e+03,\n",
              "        3.25151515e+03, 3.29927273e+03, 3.34703030e+03, 3.39478788e+03,\n",
              "        3.44254545e+03, 3.49030303e+03, 3.53806061e+03, 3.58581818e+03,\n",
              "        3.63357576e+03, 3.68133333e+03, 3.72909091e+03, 3.77684848e+03,\n",
              "        3.82460606e+03, 3.87236364e+03, 3.92012121e+03, 3.96787879e+03,\n",
              "        4.01563636e+03, 4.06339394e+03, 4.11115152e+03, 4.15890909e+03,\n",
              "        4.20666667e+03, 4.25442424e+03, 4.30218182e+03, 4.34993939e+03,\n",
              "        4.39769697e+03, 4.44545455e+03, 4.49321212e+03, 4.54096970e+03,\n",
              "        4.58872727e+03, 4.63648485e+03, 4.68424242e+03, 4.73200000e+03,\n",
              "        4.77975758e+03, 4.82751515e+03, 4.87527273e+03, 4.92303030e+03,\n",
              "        4.97078788e+03, 5.01854545e+03, 5.06630303e+03, 5.11406061e+03,\n",
              "        5.16181818e+03, 5.20957576e+03, 5.25733333e+03, 5.30509091e+03,\n",
              "        5.35284848e+03, 5.40060606e+03, 5.44836364e+03, 5.49612121e+03,\n",
              "        5.54387879e+03, 5.59163636e+03, 5.63939394e+03, 5.68715152e+03,\n",
              "        5.73490909e+03, 5.78266667e+03, 5.83042424e+03, 5.87818182e+03,\n",
              "        5.92593939e+03, 5.97369697e+03, 6.02145455e+03, 6.06921212e+03,\n",
              "        6.11696970e+03, 6.16472727e+03, 6.21248485e+03, 6.26024242e+03,\n",
              "        6.30800000e+03]),\n",
              " <a list of 132 Patch objects>)"
            ]
          },
          "metadata": {},
          "execution_count": 11
        },
        {
          "output_type": "display_data",
          "data": {
            "text/plain": [
              "<Figure size 432x288 with 1 Axes>"
            ],
            "image/png": "[encoded data removed]"
          },
          "metadata": {
            "needs_background": "light"
          }
        }
      ]
    },
    {
      "cell_type": "code",
      "source": [
        "min(train_lengths), max(train_lengths)"
      ],
      "metadata": {
        "id": "fkSg5eaga6cG",
        "colab": {
          "base_uri": "https://localhost:8080/"
        },
        "outputId": "bd45f8aa-cfa0-4730-df54-c1e29349528e"
      },
      "execution_count": 12,
      "outputs": [
        {
          "output_type": "execute_result",
          "data": {
            "text/plain": [
              "(4, 6308)"
            ]
          },
          "metadata": {},
          "execution_count": 12
        }
      ]
    },
    {
      "cell_type": "code",
      "source": [],
      "metadata": {
        "id": "XQvCZEwhCsTo"
      },
      "execution_count": 12,
      "outputs": []
    },
    {
      "cell_type": "code",
      "source": [
        "from torch.utils.data import Dataset\n",
        "\n",
        "class VariableLenDataset(Dataset):\n",
        "    def __init__(self, in_data, target):\n",
        "        self.data = [(x, y) for x, y in zip(in_data, target)]      \n",
        "\n",
        "    def __len__(self):\n",
        "        return len(self.data)\n",
        "\n",
        "    def __getitem__(self, idx):\n",
        "        in_data, target = self.data[idx]\n",
        "        return in_data, target"
      ],
      "metadata": {
        "id": "0a24j9vdPTrr"
      },
      "execution_count": 13,
      "outputs": []
    },
    {
      "cell_type": "markdown",
      "source": [
        "# Padding"
      ],
      "metadata": {
        "id": "SItHYahBR0BR"
      }
    },
    {
      "cell_type": "code",
      "source": [
        "from random import shuffle\n",
        "from math import floor\n",
        "\n",
        "# converting train to tensors\n",
        "# train = [[torch.from_numpy(t[0].astype(int)).float(), torch.from_numpy(np.ndarray([int(t[1])]))] for t in train]\n",
        "train_data = [[torch.from_numpy(t[0].astype(int)).float(), int(t[1])] for t in train]\n",
        "\n",
        "dataset_length = len(train_data)\n",
        "val_size = floor(dataset_length * VALIDATION_PERCENTAGE)\n",
        "train_size = dataset_length - val_size\n",
        "\n",
        "train_subset, val_subset = torch.utils.data.random_split(train_data, [train_size, val_size])\n",
        "\n",
        "train_subset_data = [item[0] for item in train_subset]\n",
        "train_subset_targets = [item[1] for item in train_subset]\n",
        "\n",
        "val_subset_data = [item[0] for item in val_subset]\n",
        "val_subset_targets = [item[1] for item in val_subset]\n",
        "\n",
        "train_set = VariableLenDataset(train_subset_data, train_subset_targets)\n",
        "val_set = VariableLenDataset(val_subset_data, val_subset_targets)"
      ],
      "metadata": {
        "id": "sEm_rXS2TX4r"
      },
      "execution_count": 14,
      "outputs": []
    },
    {
      "cell_type": "code",
      "source": [
        "from torch.nn.utils.rnn import pad_sequence, pack_padded_sequence, pad_packed_sequence\n",
        "\n",
        "pad = 0\n",
        "\n",
        "def pad_collate(batch, pad_value=0):\n",
        "    xx, yy = zip(*batch)\n",
        "    x_lens = [len(x) for x in xx]\n",
        "\n",
        "    xx_pad = pad_sequence(xx, batch_first=True, padding_value=pad_value)\n",
        "\n",
        "    return xx_pad, yy"
      ],
      "metadata": {
        "id": "BvgU5pn2PTua"
      },
      "execution_count": 15,
      "outputs": []
    },
    {
      "cell_type": "code",
      "source": [
        "train_loader = DataLoader(train_set, batch_size=batch_size, shuffle=True, collate_fn=pad_collate)\n",
        "val_loader = DataLoader(val_set, batch_size=batch_size, shuffle=True, collate_fn=pad_collate)"
      ],
      "metadata": {
        "id": "p8ShbxngPTxK"
      },
      "execution_count": 16,
      "outputs": []
    },
    {
      "cell_type": "code",
      "source": [
        "next(iter(train_loader))"
      ],
      "metadata": {
        "colab": {
          "base_uri": "https://localhost:8080/"
        },
        "id": "rI2H1pWKZyMu",
        "outputId": "b9c05f8d-becd-4a88-8caf-5a313e095fde"
      },
      "execution_count": 17,
      "outputs": [
        {
          "output_type": "execute_result",
          "data": {
            "text/plain": [
              "(tensor([[145., 145.,  12.,  ...,   0.,   0.,   0.],\n",
              "         [ -1., 112.,  34.,  ...,   0.,   0.,   0.],\n",
              "         [ -1.,  -1.,  -1.,  ...,   0.,   0.,  -1.],\n",
              "         ...,\n",
              "         [110., 185.,  88.,  ...,   0.,   0.,   0.],\n",
              "         [ 12.,  12.,  12.,  ...,   0.,   0.,   0.],\n",
              "         [ 21., 116.,  21.,  ...,   0.,   0.,   0.]]),\n",
              " (0, 4, 1, 4, 3, 0, 0, 2))"
            ]
          },
          "metadata": {},
          "execution_count": 17
        }
      ]
    },
    {
      "cell_type": "markdown",
      "source": [
        "# Model"
      ],
      "metadata": {
        "id": "CmMtriGMPSVa"
      }
    },
    {
      "cell_type": "code",
      "source": [
        "class LSTMRegressor(nn.Module):\n",
        "\n",
        "    def __init__(self, input_size, hidden_size, num_layers, out_size, bidirectional = False):\n",
        "        super().__init__()\n",
        "        self.num_layers = num_layers\n",
        "        self.hidden_size = hidden_size\n",
        "        if bidirectional:\n",
        "            self.bidirectional = 2\n",
        "        else:\n",
        "            self.bidirectional = 1\n",
        "        self.lstm = nn.LSTM(input_size = input_size, hidden_size = hidden_size, num_layers = num_layers, bidirectional=bidirectional, dropout=0.4)\n",
        "        self.fc = nn.Linear(hidden_size, out_size)\n",
        "        \n",
        "    def init_hidden(self, batch_size):\n",
        "        hidden = torch.zeros(self.num_layers*self.bidirectional , batch_size, self.hidden_size)\n",
        "        state = torch.zeros(self.num_layers*self.bidirectional , batch_size, self.hidden_size)\n",
        "        return hidden, state\n",
        "    \n",
        "    def forward(self, x, hidden):\n",
        "        # pass the input through the LSTM layer\n",
        "        # print(x.shape)\n",
        "        # print(hidden[0].size(0))\n",
        "        out, _ = self.lstm(x, hidden)\n",
        "\n",
        "        # print(\"OUT\", out.shape)\n",
        "        \n",
        "        # get the last output of the LSTM layer\n",
        "        out = out[-1, :, :]\n",
        "\n",
        "        # print(\"OUT2\", out.shape)\n",
        "        \n",
        "        # pass the last output through the fully-connected layer\n",
        "        out = self.fc(out)\n",
        "\n",
        "        # print(\"OUT3\", out.shape)\n",
        "        \n",
        "        return out\n"
      ],
      "metadata": {
        "id": "W2TSYGhAa6i-"
      },
      "execution_count": 18,
      "outputs": []
    },
    {
      "cell_type": "code",
      "source": [
        "    \n",
        "model = LSTMRegressor(1,20,2,5).to(device)\n",
        "model"
      ],
      "metadata": {
        "colab": {
          "base_uri": "https://localhost:8080/"
        },
        "id": "M3kLQzbaPTow",
        "outputId": "000d27d6-d339-4270-83b1-46454d7006e3"
      },
      "execution_count": 19,
      "outputs": [
        {
          "output_type": "execute_result",
          "data": {
            "text/plain": [
              "LSTMRegressor(\n",
              "  (lstm): LSTM(1, 20, num_layers=2, dropout=0.4)\n",
              "  (fc): Linear(in_features=20, out_features=5, bias=True)\n",
              ")"
            ]
          },
          "metadata": {},
          "execution_count": 19
        }
      ]
    },
    {
      "cell_type": "code",
      "source": [
        "def get_accuracy_per_class(model, loader, classes):\n",
        "\n",
        "    # prepare to count predictions for each class\n",
        "    correct_pred = {classname: 0 for classname in classes}\n",
        "    total_pred = {classname: 0 for classname in classes}\n",
        "    acurracy_sum = 0\n",
        "\n",
        "    # again no gradients needed\n",
        "    with torch.no_grad():\n",
        "        for x, targets in loader:\n",
        "        \n",
        "            targets = torch.from_numpy(np.asarray(targets))\n",
        "            # print(\"SHAPE X\", x.shape)\n",
        "            # print(\"SHAPE TARGETS\", targets.shape)\n",
        "            x = x.to(device).unsqueeze(2)\n",
        "            targets = targets.to(device)\n",
        "            hidden, state = model.init_hidden(x.size(0))\n",
        "            hidden, state = hidden.to(device), state.to(device) \n",
        "            x = torch.transpose(x, 0, 1)\n",
        "            preds = model(x, (hidden, state))\n",
        "            _, predictions = torch.max(preds, 1)\n",
        "\n",
        "            for label, prediction in zip(targets, predictions):\n",
        "                if label == prediction:\n",
        "                    correct_pred[classes[label]] += 1\n",
        "                total_pred[classes[label]] += 1\n",
        "\n",
        "    # print accuracy for each class\n",
        "    for classname, correct_count in correct_pred.items():\n",
        "        accuracy = 100 * float(correct_count) / total_pred[classname]\n",
        "        # print(\"Accuracy for class {:5s} is: {:.2f} %\".format(classname, \n",
        "        #                                                accuracy))\n",
        "        acurracy_sum += accuracy\n",
        "        \n",
        "    # print(\"Average accuracy for a class is: {:.2f} %\".format(acurracy_sum/len(classes)))\n",
        "    \n",
        "    # division by 100\n",
        "    return acurracy_sum/(len(classes) * 100)\n"
      ],
      "metadata": {
        "id": "dd1xinfuEMZv"
      },
      "execution_count": 20,
      "outputs": []
    },
    {
      "cell_type": "code",
      "source": [],
      "metadata": {
        "id": "BtpRHsY2EMcw"
      },
      "execution_count": 20,
      "outputs": []
    },
    {
      "cell_type": "code",
      "source": [],
      "metadata": {
        "id": "o4xsMjjQEMfL"
      },
      "execution_count": 20,
      "outputs": []
    },
    {
      "cell_type": "code",
      "source": [],
      "metadata": {
        "id": "xL2OKKBkEMh8"
      },
      "execution_count": 20,
      "outputs": []
    },
    {
      "cell_type": "markdown",
      "source": [
        "# Training"
      ],
      "metadata": {
        "id": "Sn-tXvwIG83R"
      }
    },
    {
      "cell_type": "code",
      "source": [
        "%%time\n",
        "optimizer = torch.optim.Adam(model.parameters(), lr=0.001, weight_decay=1e-4)\n",
        "loss_fun = nn.CrossEntropyLoss()\n",
        "\n",
        "epochs, losses, train_acc, val_acc, train_acc_per_class, val_acc_per_class  = [], [], [], [], [], []\n",
        "\n",
        "best_model = None\n",
        "best_model_acc = None\n",
        "\n",
        "# Training loop\n",
        "for epoch in range(30):\n",
        "    correct_train = 0\n",
        "    total_train = 0\n",
        "    for x, targets in train_loader:\n",
        "        targets = torch.from_numpy(np.asarray(targets))\n",
        "        # print(\"SHAPE X\", x.shape)\n",
        "        # print(\"SHAPE TARGETS\", targets.shape)\n",
        "        x = x.to(device).unsqueeze(2)\n",
        "        targets = targets.to(device)\n",
        "        hidden, state = model.init_hidden(x.size(0))\n",
        "        hidden, state = hidden.to(device), state.to(device) \n",
        "\n",
        "        # print(hidden.shape, state.shape)\n",
        "        \n",
        "        x = torch.transpose(x, 0, 1)\n",
        "        # print(\"A\")\n",
        "        preds = model(x, (hidden, state))\n",
        "        # print(\"B\")\n",
        "        # preds = torch.transpose(preds, 0, 1)\n",
        "        # preds = preds.squeeze(2)\n",
        "        # print(\"PREDS\", preds.shape)\n",
        "        # preds = preds[:,-1,:]\n",
        "        \n",
        "#         x_packed = pack_padded_sequence(x, x_len, batch_first=True, enforce_sorted=False)\n",
        "#         preds_packed, _ = model(x_packed, (hidden, state))\n",
        "#         preds, pred_len = pad_packed_sequence(preds_packed, batch_first=True, padding_value=pad)\n",
        "        \n",
        "        # preds = preds.squeeze(2)\n",
        "        optimizer.zero_grad()\n",
        "\n",
        "        loss = loss_fun(preds, targets)\n",
        "        loss.backward()\n",
        "        optimizer.step()\n",
        "\n",
        "        # get the predicted labels\n",
        "        _, predicted = torch.max(preds.data, 1)\n",
        "\n",
        "\n",
        "        # compute the accuracy\n",
        "        total_train += targets.size(0)\n",
        "        correct_train += (predicted == targets).sum().item()\n",
        "\n",
        "\n",
        "    losses.append(loss.item())\n",
        "    epochs.append(epoch)\n",
        "\n",
        "    # evaluate the model on the validation set\n",
        "    correct = 0\n",
        "    total = 0\n",
        "    for x, targets in val_loader:\n",
        "        targets = torch.from_numpy(np.asarray(targets))\n",
        "        # print(\"SHAPE X\", x.shape)\n",
        "        # print(\"SHAPE TARGETS\", targets.shape)\n",
        "        x = x.to(device).unsqueeze(2)\n",
        "        targets = targets.to(device)\n",
        "        hidden, state = model.init_hidden(x.size(0))\n",
        "        hidden, state = hidden.to(device), state.to(device) \n",
        "\n",
        "        # print(hidden.shape, state.shape)\n",
        "        \n",
        "        x = torch.transpose(x, 0, 1)\n",
        "        preds = model(x, (hidden, state))\n",
        "\n",
        "        # forward pass\n",
        "        outputs = model(x, (hidden, state))\n",
        "\n",
        "        # get the predicted labels\n",
        "        _, predicted = torch.max(outputs.data, 1)\n",
        "\n",
        "\n",
        "        # compute the accuracy\n",
        "        total += targets.size(0)\n",
        "        correct += (predicted == targets).sum().item()\n",
        "\n",
        "    # appending\n",
        "    train_acc.append(100 * correct_train / total_train)\n",
        "    val_acc.append(100 * correct / total)\n",
        "    train_acc_per_class_for_epoch = get_accuracy_per_class(model, train_loader, range(0, 5))\n",
        "    train_acc_per_class.append(train_acc_per_class_for_epoch)\n",
        "    val_acc_per_class_for_epoch = get_accuracy_per_class(model, val_loader, range(0, 5))\n",
        "    val_acc_per_class.append(val_acc_per_class_for_epoch)\n",
        "\n",
        "    if best_model is None or (correct / total) > best_model_acc:\n",
        "        best_model = model\n",
        "        best_model_acc = correct / total\n",
        "\n",
        "    # print the accuracy\n",
        "    print(f\"Epoch: {epoch}, loss: {loss.item():.3}\")\n",
        "    print(f\"Accuracy on the validation set: {100 * correct / total}\")\n",
        "    print(f\"Accuracy per class on train: {train_acc_per_class_for_epoch:.3}\")\n",
        "    print(f\"Accuracy per class on val: {val_acc_per_class_for_epoch:.3}\")"
      ],
      "metadata": {
        "colab": {
          "base_uri": "https://localhost:8080/"
        },
        "id": "vAWo9YRg3BLo",
        "outputId": "9effe51f-e0ec-4604-c931-6179aab40604"
      },
      "execution_count": 103,
      "outputs": [
        {
          "output_type": "stream",
          "name": "stdout",
          "text": [
            "Epoch: 0, loss: 1.05\n",
            "Accuracy on the validation set: 70.64846416382252\n",
            "Accuracy per class on train: 0.539\n",
            "Accuracy per class on val: 0.504\n",
            "Epoch: 1, loss: 1.25\n",
            "Accuracy on the validation set: 70.98976109215018\n",
            "Accuracy per class on train: 0.547\n",
            "Accuracy per class on val: 0.549\n",
            "Epoch: 2, loss: 0.307\n",
            "Accuracy on the validation set: 73.03754266211604\n",
            "Accuracy per class on train: 0.53\n",
            "Accuracy per class on val: 0.518\n",
            "Epoch: 3, loss: 0.85\n",
            "Accuracy on the validation set: 71.33105802047781\n",
            "Accuracy per class on train: 0.558\n",
            "Accuracy per class on val: 0.522\n",
            "Epoch: 4, loss: 1.2\n",
            "Accuracy on the validation set: 71.33105802047781\n",
            "Accuracy per class on train: 0.551\n",
            "Accuracy per class on val: 0.533\n",
            "Epoch: 5, loss: 0.789\n",
            "Accuracy on the validation set: 73.03754266211604\n",
            "Accuracy per class on train: 0.547\n",
            "Accuracy per class on val: 0.511\n",
            "Epoch: 6, loss: 1.05\n",
            "Accuracy on the validation set: 71.67235494880546\n",
            "Accuracy per class on train: 0.538\n",
            "Accuracy per class on val: 0.497\n",
            "Epoch: 7, loss: 0.583\n",
            "Accuracy on the validation set: 71.33105802047781\n",
            "Accuracy per class on train: 0.544\n",
            "Accuracy per class on val: 0.496\n",
            "Epoch: 8, loss: 0.209\n",
            "Accuracy on the validation set: 72.0136518771331\n",
            "Accuracy per class on train: 0.57\n",
            "Accuracy per class on val: 0.548\n",
            "Epoch: 9, loss: 0.408\n",
            "Accuracy on the validation set: 72.0136518771331\n",
            "Accuracy per class on train: 0.537\n",
            "Accuracy per class on val: 0.484\n",
            "Epoch: 10, loss: 1.61\n",
            "Accuracy on the validation set: 71.67235494880546\n",
            "Accuracy per class on train: 0.577\n",
            "Accuracy per class on val: 0.56\n",
            "Epoch: 11, loss: 0.265\n",
            "Accuracy on the validation set: 72.35494880546075\n",
            "Accuracy per class on train: 0.538\n",
            "Accuracy per class on val: 0.487\n",
            "Epoch: 12, loss: 1.3\n",
            "Accuracy on the validation set: 73.03754266211604\n",
            "Accuracy per class on train: 0.554\n",
            "Accuracy per class on val: 0.533\n",
            "Epoch: 13, loss: 0.651\n",
            "Accuracy on the validation set: 72.6962457337884\n",
            "Accuracy per class on train: 0.567\n",
            "Accuracy per class on val: 0.555\n",
            "Epoch: 14, loss: 0.744\n",
            "Accuracy on the validation set: 73.37883959044369\n",
            "Accuracy per class on train: 0.584\n",
            "Accuracy per class on val: 0.546\n",
            "Epoch: 15, loss: 1.47\n",
            "Accuracy on the validation set: 70.64846416382252\n",
            "Accuracy per class on train: 0.55\n",
            "Accuracy per class on val: 0.498\n",
            "Epoch: 16, loss: 0.627\n",
            "Accuracy on the validation set: 75.42662116040955\n",
            "Accuracy per class on train: 0.565\n",
            "Accuracy per class on val: 0.536\n",
            "Epoch: 17, loss: 1.8\n",
            "Accuracy on the validation set: 71.67235494880546\n",
            "Accuracy per class on train: 0.547\n",
            "Accuracy per class on val: 0.517\n",
            "Epoch: 18, loss: 0.228\n",
            "Accuracy on the validation set: 71.33105802047781\n",
            "Accuracy per class on train: 0.529\n",
            "Accuracy per class on val: 0.493\n",
            "Epoch: 19, loss: 0.178\n",
            "Accuracy on the validation set: 74.06143344709898\n",
            "Accuracy per class on train: 0.584\n",
            "Accuracy per class on val: 0.536\n",
            "Epoch: 20, loss: 0.806\n",
            "Accuracy on the validation set: 71.33105802047781\n",
            "Accuracy per class on train: 0.573\n",
            "Accuracy per class on val: 0.556\n",
            "Epoch: 21, loss: 0.542\n",
            "Accuracy on the validation set: 72.6962457337884\n",
            "Accuracy per class on train: 0.554\n",
            "Accuracy per class on val: 0.539\n",
            "Epoch: 22, loss: 0.184\n",
            "Accuracy on the validation set: 74.40273037542661\n",
            "Accuracy per class on train: 0.589\n",
            "Accuracy per class on val: 0.579\n",
            "Epoch: 23, loss: 0.851\n",
            "Accuracy on the validation set: 70.98976109215018\n",
            "Accuracy per class on train: 0.572\n",
            "Accuracy per class on val: 0.544\n",
            "Epoch: 24, loss: 0.529\n",
            "Accuracy on the validation set: 72.6962457337884\n",
            "Accuracy per class on train: 0.561\n",
            "Accuracy per class on val: 0.523\n",
            "Epoch: 25, loss: 0.279\n",
            "Accuracy on the validation set: 74.06143344709898\n",
            "Accuracy per class on train: 0.575\n",
            "Accuracy per class on val: 0.547\n",
            "Epoch: 26, loss: 1.06\n",
            "Accuracy on the validation set: 71.67235494880546\n",
            "Accuracy per class on train: 0.563\n",
            "Accuracy per class on val: 0.547\n",
            "Epoch: 27, loss: 0.468\n",
            "Accuracy on the validation set: 74.40273037542661\n",
            "Accuracy per class on train: 0.583\n",
            "Accuracy per class on val: 0.555\n",
            "Epoch: 28, loss: 1.02\n",
            "Accuracy on the validation set: 72.6962457337884\n",
            "Accuracy per class on train: 0.574\n",
            "Accuracy per class on val: 0.542\n",
            "Epoch: 29, loss: 1.08\n",
            "Accuracy on the validation set: 70.98976109215018\n",
            "Accuracy per class on train: 0.584\n",
            "Accuracy per class on val: 0.559\n",
            "CPU times: user 2min 2s, sys: 1.57 s, total: 2min 4s\n",
            "Wall time: 1min 53s\n"
          ]
        }
      ]
    },
    {
      "cell_type": "code",
      "source": [
        "def plot_results(epochs, losses, train_acc, val_acc, train_acc_per_class, val_acc_per_class):\n",
        "    # plotting\n",
        "    plt.figure(figsize=(20,70), dpi=30,)\n",
        "    # fig, axs = plt.subplots(2, 2, figsize=(15, 15))\n",
        "    fig, (ax1, ax2, ax3) = plt.subplots(1, 3, figsize=(15, 5))\n",
        "\n",
        "    plt.subplot(1,3,1)\n",
        "    plt.title(\"Training Curve\")\n",
        "    plt.plot(epochs, losses, label=\"Train\")\n",
        "    plt.xlabel(\"Iterations\")\n",
        "    plt.ylabel(\"Loss\")\n",
        "\n",
        "    plt.subplot(1,3,2)\n",
        "    plt.title(\"Accuracy\")\n",
        "    plt.plot(epochs, train_acc, label=\"Train\")\n",
        "    plt.plot(epochs, val_acc, label=\"Valid\")\n",
        "    plt.xlabel(\"Iterations\")\n",
        "    plt.ylabel(\"Accuracy\")\n",
        "\n",
        "    plt.subplot(1,3,3)\n",
        "    plt.title(\"Accuracy per class\")\n",
        "    plt.plot(epochs, train_acc_per_class, label=\"Train\")\n",
        "    plt.plot(epochs, val_acc_per_class, label=\"Valid\")\n",
        "    plt.xlabel(\"Iterations\")\n",
        "    plt.ylabel(\"Accuracy per class\")\n",
        "\n",
        "    fig.tight_layout()"
      ],
      "metadata": {
        "id": "K-s5mTUxSjOJ"
      },
      "execution_count": 104,
      "outputs": []
    },
    {
      "cell_type": "code",
      "source": [
        "plot_results(epochs, losses, train_acc, val_acc, train_acc_per_class, val_acc_per_class)"
      ],
      "metadata": {
        "id": "iCwAflsXSjQz",
        "colab": {
          "base_uri": "https://localhost:8080/",
          "height": 386
        },
        "outputId": "11ff5340-5e47-4056-8bf1-8205b9f65a89"
      },
      "execution_count": 105,
      "outputs": [
        {
          "output_type": "display_data",
          "data": {
            "text/plain": [
              "<Figure size 600x2100 with 0 Axes>"
            ]
          },
          "metadata": {}
        },
        {
          "output_type": "display_data",
          "data": {
            "text/plain": [
              "<Figure size 1080x360 with 3 Axes>"
            ],
            "image/png": "[encoded data removed]"
          },
          "metadata": {
            "needs_background": "light"
          }
        }
      ]
    },
    {
      "cell_type": "code",
      "source": [
        "# saving model to file\n",
        "state_dict = model.state_dict()\n",
        "torch.save(state_dict, \"neural_net.tar\")"
      ],
      "metadata": {
        "id": "7wsHi_yyLtge"
      },
      "execution_count": 94,
      "outputs": []
    },
    {
      "cell_type": "code",
      "source": [
        "# saving bes model to file\n",
        "state_dict = best_model.state_dict()\n",
        "torch.save(state_dict, \"best_neural_net.tar\")"
      ],
      "metadata": {
        "id": "fLPBbG134ncv"
      },
      "execution_count": 25,
      "outputs": []
    },
    {
      "cell_type": "code",
      "source": [
        "print(\"Accuracy on the validation set: \", best_model_acc)"
      ],
      "metadata": {
        "colab": {
          "base_uri": "https://localhost:8080/"
        },
        "id": "_i4Ta2PD439d",
        "outputId": "f297a3dc-3eea-4303-fbe5-8b8ab8cb38ea"
      },
      "execution_count": 26,
      "outputs": [
        {
          "output_type": "stream",
          "name": "stdout",
          "text": [
            "Accuracy on the validation set:  0.6177474402730375\n"
          ]
        }
      ]
    },
    {
      "cell_type": "markdown",
      "source": [
        "# Predictions on test set"
      ],
      "metadata": {
        "id": "ajFynd6s9Ldm"
      }
    },
    {
      "cell_type": "code",
      "source": [
        "with open(TEST_PATH, 'rb') as f:\n",
        "    test_data = pickle.load(f)"
      ],
      "metadata": {
        "id": "wc1Q0Gne9KaU"
      },
      "execution_count": 27,
      "outputs": []
    },
    {
      "cell_type": "code",
      "source": [
        "type(test_data)"
      ],
      "metadata": {
        "colab": {
          "base_uri": "https://localhost:8080/"
        },
        "id": "T6RUWhCm9M8E",
        "outputId": "5d3884ca-c2a3-4968-8fdd-f07d283e8703"
      },
      "execution_count": 28,
      "outputs": [
        {
          "output_type": "execute_result",
          "data": {
            "text/plain": [
              "list"
            ]
          },
          "metadata": {},
          "execution_count": 28
        }
      ]
    },
    {
      "cell_type": "code",
      "source": [
        "train_loader"
      ],
      "metadata": {
        "colab": {
          "base_uri": "https://localhost:8080/"
        },
        "id": "XCUegF_H9M-f",
        "outputId": "cd36a3cc-b8db-497c-b03f-46e68f38414b"
      },
      "execution_count": 29,
      "outputs": [
        {
          "output_type": "execute_result",
          "data": {
            "text/plain": [
              "<torch.utils.data.dataloader.DataLoader at 0x7f14181166a0>"
            ]
          },
          "metadata": {},
          "execution_count": 29
        }
      ]
    },
    {
      "cell_type": "code",
      "source": [
        "test_data = [torch.from_numpy(t.astype(int)).float() for t in test_data]"
      ],
      "metadata": {
        "id": "5P2d0O2df28D"
      },
      "execution_count": 30,
      "outputs": []
    },
    {
      "cell_type": "code",
      "source": [
        "test_dataset = VariableLenDataset(test_data, [0 for t in test_data])"
      ],
      "metadata": {
        "id": "FD-YF1cgYLBt"
      },
      "execution_count": 31,
      "outputs": []
    },
    {
      "cell_type": "code",
      "source": [
        "test_loader = DataLoader(test_dataset, batch_size=50, shuffle=False, drop_last=False, collate_fn=pad_collate)"
      ],
      "metadata": {
        "id": "MOFb5U4TYLEM"
      },
      "execution_count": 32,
      "outputs": []
    },
    {
      "cell_type": "code",
      "source": [
        "preds = []\n",
        "for x, label in test_loader:\n",
        "  print(x)\n",
        "  hidden, state = model.init_hidden(x.shape[0])\n",
        "  hidden, state = hidden.to(device), state.to(device)\n",
        "  x = x.to(device).unsqueeze(2)\n",
        "  x = torch.transpose(x, 0, 1)\n",
        "  new_preds = model(x, (hidden, state))\n",
        "  for new_pred in new_preds:\n",
        "    preds.append(new_pred.max(0, keepdim=True)[1].item())"
      ],
      "metadata": {
        "colab": {
          "base_uri": "https://localhost:8080/"
        },
        "id": "LsEGLP2TYLHE",
        "outputId": "5c2f558f-d9dd-43b8-b546-249efc096be0"
      },
      "execution_count": 33,
      "outputs": [
        {
          "output_type": "stream",
          "name": "stdout",
          "text": [
            "tensor([[  0.,   0.,   0.,  ...,   0.,   0.,   0.],\n",
            "        [  0.,   0.,   2.,  ...,   0.,   0.,   0.],\n",
            "        [ -1.,  64.,  64.,  ...,   0.,   0.,   0.],\n",
            "        ...,\n",
            "        [ -1.,  -1.,  -1.,  ...,   0.,   0.,   0.],\n",
            "        [144.,  69., 100.,  ...,   0.,   0.,   0.],\n",
            "        [ -1.,  -1.,  -1.,  ...,   0.,   0.,   0.]])\n",
            "tensor([[ 12.,  47.,  28.,  ...,   0.,   0.,   0.],\n",
            "        [ -1.,  -1.,  -1.,  ...,   0.,   0.,   0.],\n",
            "        [ 12.,  47.,  47.,  ...,   0.,   0.,   0.],\n",
            "        ...,\n",
            "        [  7., 158.,  92.,  ...,   0.,   0.,   0.],\n",
            "        [ -1.,  -1.,  -1.,  ...,   0.,   0.,   0.],\n",
            "        [ 67.,  47.,  47.,  ...,   0.,   0.,   0.]])\n",
            "tensor([[ 0.,  0.,  0.,  ...,  0.,  0.,  0.],\n",
            "        [-1., -1.,  0.,  ...,  0.,  0.,  0.],\n",
            "        [-1., -1., -1.,  ...,  0.,  0.,  0.],\n",
            "        ...,\n",
            "        [ 0., 12., 12.,  ...,  0.,  0.,  0.],\n",
            "        [-1., -1., -1.,  ...,  0.,  0.,  0.],\n",
            "        [-1., -1., -1.,  ...,  0.,  0.,  0.]])\n",
            "tensor([[ -1.,  -1.,  -1.,  ...,   0.,   0.,   0.],\n",
            "        [ -1.,  -1.,  -1.,  ...,   0.,   0.,   0.],\n",
            "        [ -1.,  -1.,  -1.,  ...,   0.,   0.,   0.],\n",
            "        ...,\n",
            "        [ -1.,  -1.,  -1.,  ...,   0.,   0.,   0.],\n",
            "        [ -1.,  -1.,  -1.,  ...,   0.,   0.,   0.],\n",
            "        [ -1.,  32., 114.,  ...,   0.,   0.,   0.]])\n",
            "tensor([[  0.,  13., 125.,  ...,   0.,   0.,   0.],\n",
            "        [  0.,  92.,  13.,  ...,   0.,   0.,   0.],\n",
            "        [  1.,  20.,  47.,  ...,   0.,   0.,   0.],\n",
            "        ...,\n",
            "        [ 34., 121.,  76.,  ...,   0.,   0.,   0.],\n",
            "        [ 12.,  13.,  28.,  ...,   0.,   0.,   0.],\n",
            "        [ 64., 180., 180.,  ...,   0.,   0.,   0.]])\n",
            "tensor([[ 67.,   0., 159.,  ...,   0.,   0.,   0.],\n",
            "        [ 41.,  47.,  30.,  ...,   0.,   0.,   0.],\n",
            "        [  0.,   0.,   3.,  ...,   0.,   0.,   0.],\n",
            "        ...,\n",
            "        [ -1.,  -1., 112.,  ...,   0.,   0.,   0.],\n",
            "        [ -1.,  64.,  65.,  ...,   0.,   0.,   0.],\n",
            "        [ -1.,  13.,   5.,  ...,   0.,   0.,   0.]])\n",
            "tensor([[ -1.,  -1., 145.,  ...,   0.,   0.,   0.],\n",
            "        [ -1.,   0.,   0.,  ...,   0.,   0.,   0.],\n",
            "        [ -1.,  -1.,  -1.,  ...,   0.,   0.,   0.],\n",
            "        ...,\n",
            "        [  0.,   0.,   0.,  ...,   0.,   0.,   0.],\n",
            "        [ -1., 144.,  50.,  ...,   0.,   0.,   0.],\n",
            "        [ -1., 144., 180.,  ...,   0.,   0.,   0.]])\n",
            "tensor([[  0.,   3.,  12.,  ...,   0.,   0.,   0.],\n",
            "        [ -1.,  47.,  47.,  ...,   0.,   0.,   0.],\n",
            "        [144., 144., 144.,  ...,   0.,   0.,   0.],\n",
            "        ...,\n",
            "        [  0.,  12.,  47.,  ...,   0.,   0.,   0.],\n",
            "        [145.,  92.,  88.,  ...,   0.,   0.,   0.],\n",
            "        [144., 144., 100.,  ...,   0.,   0.,   0.]])\n",
            "tensor([[144.,   6.,  47.,  ...,   0.,   0.,   0.],\n",
            "        [ 34.,  34., 100.,  ...,   0.,   0.,   0.],\n",
            "        [  0.,  67., 180.,  ...,   0.,   0.,   0.],\n",
            "        ...,\n",
            "        [ -1.,  -1.,   0.,  ...,   0.,   0.,   0.],\n",
            "        [ 84., 191., 191.,  ...,   0.,   0.,   0.],\n",
            "        [ -1.,  -1.,  34.,  ...,   0.,   0.,   0.]])\n",
            "tensor([[100., 124.,  37.,  ...,   0.,   0.,   0.],\n",
            "        [ 82.,  92.,  12.,  ...,   0.,   0.,   0.],\n",
            "        [ 67.,   0.,   0.,  ...,   0.,   0.,   0.],\n",
            "        ...,\n",
            "        [  0.,  67.,   0.,  ...,   0.,   0.,   0.],\n",
            "        [  8.,  12., 146.,  ...,   0.,   0.,   0.],\n",
            "        [153.,  47., 132.,  ...,   0.,   0.,   0.]])\n",
            "tensor([[  0.,   0.,   0.,  ...,   0.,   0.,   0.],\n",
            "        [ 73.,  88.,  92.,  ...,   0.,   0.,   0.],\n",
            "        [112.,  68.,  88.,  ...,   0.,   0.,   0.],\n",
            "        ...,\n",
            "        [  0.,   0.,  12.,  ...,   0.,   0.,   0.],\n",
            "        [ 32., 146.,  65.,  ...,   0.,   0.,   0.],\n",
            "        [145., 145.,  47.,  ...,   0.,   0.,   0.]])\n",
            "tensor([[  0.,   0.,  67.,  ...,   0.,   0.,   0.],\n",
            "        [112.,   0.,   1.,  ...,   0.,   0.,   0.],\n",
            "        [  0.,  82.,  82.,  ...,   0.,   0.,   0.],\n",
            "        ...,\n",
            "        [ -1.,  -1.,  -1.,  ...,   0.,   0.,   0.],\n",
            "        [ -1.,  -1.,  -1.,  ...,   0.,   0.,   0.],\n",
            "        [ -1.,  -1.,  -1.,  ...,   0.,   0.,   0.]])\n",
            "tensor([[-1., -1., -1.,  ...,  0.,  0.,  0.],\n",
            "        [-1., -1., -1.,  ...,  0.,  0.,  0.],\n",
            "        [-1., -1., -1.,  ...,  0.,  0.,  0.],\n",
            "        ...,\n",
            "        [ 0.,  0.,  0.,  ...,  0.,  0.,  0.],\n",
            "        [-1., -1.,  0.,  ...,  0.,  0.,  0.],\n",
            "        [-1., 67.,  0.,  ...,  0.,  0.,  0.]])\n",
            "tensor([[ -1.,  -1.,  -1.,  ...,   0.,   0.,   0.],\n",
            "        [ -1.,  -1.,  -1.,  ...,   0.,   0.,   0.],\n",
            "        [ -1.,  -1.,  -1.,  ...,   0.,   0.,   0.],\n",
            "        ...,\n",
            "        [ 64., 145., 145.,  ...,   0.,   0.,   0.],\n",
            "        [  0.,   0., 159.,  ...,   0.,   0.,   0.],\n",
            "        [ 64.,   0., 179.,  ...,   0.,   0.,   0.]])\n",
            "tensor([[  0.,   0.,  12.,  ...,   0.,   0.,   0.],\n",
            "        [145.,  92., 156.,  ...,   0.,   0.,   0.],\n",
            "        [  0.,   0.,   0.,  ...,   0.,   0.,   0.],\n",
            "        ...,\n",
            "        [ -1.,  -1.,  -1.,  ...,   0.,   0.,   0.],\n",
            "        [ -1.,  -1.,  -1.,  ...,   0.,   0.,   0.],\n",
            "        [ -1.,   0.,   0.,  ...,   0.,   0.,   0.]])\n",
            "tensor([[ -1.,  -1.,  -1.,  ...,   0.,   0.,   0.],\n",
            "        [ -1.,  -1.,  -1.,  ...,   0.,   0.,   0.],\n",
            "        [ -1.,  -1.,  -1.,  ...,   0.,   0.,   0.],\n",
            "        ...,\n",
            "        [ -1.,  -1., 145.,  ...,   0.,   0.,   0.],\n",
            "        [ -1.,  -1.,  80.,  ...,   0.,   0.,   0.],\n",
            "        [ -1., 112.,   0.,  ...,   0.,   0.,   0.]])\n",
            "tensor([[  0.,  13.,  79.,  ...,   0.,   0.,   0.],\n",
            "        [  0., 159.,  12.,  ...,   0.,   0.,   0.],\n",
            "        [100., 159., 117.,  ...,   0.,   0.,   0.],\n",
            "        ...,\n",
            "        [ -1.,  -1.,  -1.,  ...,  -1.,  -1.,   0.],\n",
            "        [ -1.,  -1.,  -1.,  ...,   0.,   0.,   0.],\n",
            "        [ 32.,  32.,  32.,  ...,   0.,   0.,   0.]])\n",
            "tensor([[145.,  12., 156.,  ...,   0.,   0.,   0.],\n",
            "        [145.,  12.,  42.,  ...,   0.,   0.,   0.],\n",
            "        [  0.,   0., 112.,  ...,   0.,   0.,   0.],\n",
            "        ...,\n",
            "        [ -1.,  -1.,   0.,  ...,   0.,   0.,   0.],\n",
            "        [ -1.,  -1., 144.,  ...,   0.,   0.,   0.],\n",
            "        [128., 128., 128.,  ...,   0.,   0.,   0.]])\n",
            "tensor([[  1.,   1.,   1.,  ...,   0.,   0.,   0.],\n",
            "        [  1.,  53.,  53.,  ...,   0.,   0.,   0.],\n",
            "        [114.,   4.,  89.,  ...,   0.,   0.,   0.],\n",
            "        ...,\n",
            "        [ 68., 124.,  12.,  ...,   0.,   0.,   0.],\n",
            "        [ -1.,  -1., 112.,  ...,   0.,   0.,   0.],\n",
            "        [ 80.,  80.,  92.,  ...,   0.,   0.,   0.]])\n",
            "tensor([[ -1.,  -1.,   2.,  ...,   0.,   0.,   0.],\n",
            "        [ 64.,  64.,  66.,  ...,   0.,   0.,   0.],\n",
            "        [ -1.,  -1.,  66.,  ...,   0.,   0.,   0.],\n",
            "        ...,\n",
            "        [ 33.,  50., 121.,  ...,   0.,   0.,   0.],\n",
            "        [ 80.,  80.,  80.,  ...,   0.,   0.,   0.],\n",
            "        [ 34.,  68., 120.,  ...,   0.,   0.,   0.]])\n",
            "tensor([[ -1.,  -1., 112.,  ...,   0.,   0.,   0.],\n",
            "        [ 32.,  32.,  20.,  ...,   0.,   0.,   0.],\n",
            "        [ -1.,  -1.,  80.,  ...,   0.,   0.,   0.],\n",
            "        ...,\n",
            "        [ 80.,  80.,   0.,  ...,   0.,   0.,   0.],\n",
            "        [ -1.,   0., 114.,  ...,   0.,   0.,   0.],\n",
            "        [  0.,   0., 114.,  ...,   0.,   0.,   0.]])\n",
            "tensor([[ 64.,  64.,  64.,  ...,   0.,   0.,   0.],\n",
            "        [144., 144., 145.,  ...,   0.,   0.,   0.],\n",
            "        [  0.,   0.,   0.,  ...,   0.,   0.,   0.],\n",
            "        ...,\n",
            "        [  1.,   9.,  60.,  ...,   0.,   0.,   0.],\n",
            "        [112., 112.,   0.,  ...,   0.,   0.,   0.],\n",
            "        [112., 112., 112.,  ...,   0.,   0.,   0.]])\n",
            "tensor([[176., 176.,  66., 146., 124., 190.,  77., 185., 157., 119., 124.,  68.,\n",
            "          68., 149.,  44.,  45., 124.,  45.,  79., 149., 149.,  60.,  45.,  47.,\n",
            "          45.,  73.,  12., 120.,  13.,  13.,  45., 121.,  60.,  92.,   5.,  33.,\n",
            "          33., 180., 180.,  20.,  44.,  44.,  45.,  79., 149., 149.,  44.,  20.,\n",
            "          74.,  47.,  92.,  60.,  44.,  44.,  60.,  60., 157.,  76.,  78.,  44.,\n",
            "          44., 149.,  44.,  79.,  78.,  12.,  12.,  73.,  71.,  72.,  45.,  73.,\n",
            "          73., 112., 124., 191., 156.,  41.,  13., 124., 124.,  79., 109., 185.,\n",
            "         185., 112., 124., 191., 156.,  41.,  13., 124., 124.,  79., 109., 185.,\n",
            "         185.,  74.,  74.,  45., 159.,   8., 159.,  45.,  74.,  45., 159.,   8.,\n",
            "         159.,  45., 127., 127.,  13.,  45.,  36., 119.,   8.,   8., 159.,  92.,\n",
            "         159., 159.,  45.,  38.,  93., 124., 190., 156., 143., 190., 190.,  45.,\n",
            "          45.,  92.,  47.,  71.,  72.,  45.,  73.,  73.,  73.,  12.,   0.,   0.,\n",
            "           0.,  12.,  73.,  73.,  73.],\n",
            "        [ 32.,  32.,  32.,  32.,  33.,  78.,  92.,  33.,  33.,  33.,  13., 185.,\n",
            "         132., 132.,  71.,  74., 146., 146.,  77.,  77., 124., 100., 120.,  45.,\n",
            "          92., 125., 125., 157.,  44., 125.,   5., 125.,  12.,  28.,  60.,  33.,\n",
            "          60.,  92.,  47., 180., 180.,  78.,  78., 172.,  38.,  44.,  78.,  30.,\n",
            "          44.,  37.,  37.,  37.,  45.,  66.,  68., 100., 132.,  98.,  40., 152.,\n",
            "          34.,  34., 159.,  13., 158.,  40.,  44., 180.,  41., 108.,  62., 146.,\n",
            "          58.,  45.,  37., 177.,  30.,  60., 168., 146.,  58.,  33.,  33.,  78.,\n",
            "         125.,  41.,  28.,  13.,  60.,  40.,  97.,  97.,  97.,  97.,  97.,  97.,\n",
            "         185., 176.,  35., 164.,  56., 146.,  44.,  45.,  79., 157.,  92., 172.,\n",
            "         125.,  92., 157.,  44.,  44.,  39., 190., 132.,  30.,  25.,  44., 190.,\n",
            "          15.,   5., 109.,  25.,  12., 125.,  92., 117.,  44., 149., 124.,  12.,\n",
            "          92.,  28.,  30.,  44., 124.,  42.,  47., 117.,  28.,  78.,  30.,  25.,\n",
            "          44.,  37.,  -1.,  -1.,   0.],\n",
            "        [144., 144., 144.,  34.,  34.,  32.,  33.,  80.,  88., 152., 156., 144.,\n",
            "          40., 121.,  60.,  41.,   8.,  37., 156., 144.,  44.,  32., 124., 112.,\n",
            "         112.,   8.,   8., 112., 117.,  12., 124.,  32., 124., 190.,   8., 190.,\n",
            "          13.,  88.,  92.,  88.,  92.,   8.,  12.,  92., 172.,  37., 127., 144.,\n",
            "          44.,  33.,  47.,  92.,  78.,  41.,  44.,  92.,  44.,  32.,  45.,  12.,\n",
            "          77.,  44.,  30.,  37., 127.,  40.,  44.,  33.,  33.,  33.,  77., 119.,\n",
            "          12.,  20.,  44.,  33.,  33.,  47., 125., 112.,  44., 144.,  44.,  32.,\n",
            "         124.,  12.,  12., 119., 125.,  40.,  44.,  39., 172., 113., 127.,  33.,\n",
            "          60.,  73.,  44., 124., 172., 121., 127.,  40.,  44.,  39., 172., 113.,\n",
            "          37., 120., 149.,  33.,  33.,  33., 127.,  37.,  37., 120.,  96.,  96.,\n",
            "           0.,   0.,   0.,   0.,   0.,   0.,   0.,   0.,   0.,   0.,   0.,   0.,\n",
            "           0.,   0.,   0.,   0.,   0.,   0.,   0.,   0.,   0.,   0.,   0.,   0.,\n",
            "           0.,   0.,   0.,   0.,   0.]])\n"
          ]
        }
      ]
    },
    {
      "cell_type": "code",
      "source": [
        "preds_filename = \"preds.csv\"\n",
        "pd.DataFrame({'A': preds}).to_csv(preds_filename, index=False, header=False)"
      ],
      "metadata": {
        "id": "jHYTyOE8ehGP"
      },
      "execution_count": 34,
      "outputs": []
    },
    {
      "cell_type": "code",
      "source": [
        "pd.read_csv(preds_filename, header=None)\n"
      ],
      "metadata": {
        "colab": {
          "base_uri": "https://localhost:8080/",
          "height": 424
        },
        "id": "PCdB4mfVehJB",
        "outputId": "fb678d0a-10c0-4043-a1c9-84bc2616f2c5"
      },
      "execution_count": 35,
      "outputs": [
        {
          "output_type": "execute_result",
          "data": {
            "text/plain": [
              "      0\n",
              "0     0\n",
              "1     0\n",
              "2     0\n",
              "3     0\n",
              "4     0\n",
              "...  ..\n",
              "1098  0\n",
              "1099  0\n",
              "1100  0\n",
              "1101  0\n",
              "1102  0\n",
              "\n",
              "[1103 rows x 1 columns]"
            ],
            "text/html": [
              "\n",
              "  <div id=\"df-20090352-2712-4043-8c57-d1b9cb2aba31\">\n",
              "    <div class=\"colab-df-container\">\n",
              "      <div>\n",
              "<style scoped>\n",
              "    .dataframe tbody tr th:only-of-type {\n",
              "        vertical-align: middle;\n",
              "    }\n",
              "\n",
              "    .dataframe tbody tr th {\n",
              "        vertical-align: top;\n",
              "    }\n",
              "\n",
              "    .dataframe thead th {\n",
              "        text-align: right;\n",
              "    }\n",
              "</style>\n",
              "<table border=\"1\" class=\"dataframe\">\n",
              "  <thead>\n",
              "    <tr style=\"text-align: right;\">\n",
              "      <th></th>\n",
              "      <th>0</th>\n",
              "    </tr>\n",
              "  </thead>\n",
              "  <tbody>\n",
              "    <tr>\n",
              "      <th>0</th>\n",
              "      <td>0</td>\n",
              "    </tr>\n",
              "    <tr>\n",
              "      <th>1</th>\n",
              "      <td>0</td>\n",
              "    </tr>\n",
              "    <tr>\n",
              "      <th>2</th>\n",
              "      <td>0</td>\n",
              "    </tr>\n",
              "    <tr>\n",
              "      <th>3</th>\n",
              "      <td>0</td>\n",
              "    </tr>\n",
              "    <tr>\n",
              "      <th>4</th>\n",
              "      <td>0</td>\n",
              "    </tr>\n",
              "    <tr>\n",
              "      <th>...</th>\n",
              "      <td>...</td>\n",
              "    </tr>\n",
              "    <tr>\n",
              "      <th>1098</th>\n",
              "      <td>0</td>\n",
              "    </tr>\n",
              "    <tr>\n",
              "      <th>1099</th>\n",
              "      <td>0</td>\n",
              "    </tr>\n",
              "    <tr>\n",
              "      <th>1100</th>\n",
              "      <td>0</td>\n",
              "    </tr>\n",
              "    <tr>\n",
              "      <th>1101</th>\n",
              "      <td>0</td>\n",
              "    </tr>\n",
              "    <tr>\n",
              "      <th>1102</th>\n",
              "      <td>0</td>\n",
              "    </tr>\n",
              "  </tbody>\n",
              "</table>\n",
              "<p>1103 rows × 1 columns</p>\n",
              "</div>\n",
              "      <button class=\"colab-df-convert\" onclick=\"convertToInteractive('df-20090352-2712-4043-8c57-d1b9cb2aba31')\"\n",
              "              title=\"Convert this dataframe to an interactive table.\"\n",
              "              style=\"display:none;\">\n",
              "        \n",
              "  <svg xmlns=\"http://www.w3.org/2000/svg\" height=\"24px\"viewBox=\"0 0 24 24\"\n",
              "       width=\"24px\">\n",
              "    <path d=\"M0 0h24v24H0V0z\" fill=\"none\"/>\n",
              "    <path d=\"M18.56 5.44l.94 2.06.94-2.06 2.06-.94-2.06-.94-.94-2.06-.94 2.06-2.06.94zm-11 1L8.5 8.5l.94-2.06 2.06-.94-2.06-.94L8.5 2.5l-.94 2.06-2.06.94zm10 10l.94 2.06.94-2.06 2.06-.94-2.06-.94-.94-2.06-.94 2.06-2.06.94z\"/><path d=\"M17.41 7.96l-1.37-1.37c-.4-.4-.92-.59-1.43-.59-.52 0-1.04.2-1.43.59L10.3 9.45l-7.72 7.72c-.78.78-.78 2.05 0 2.83L4 21.41c.39.39.9.59 1.41.59.51 0 1.02-.2 1.41-.59l7.78-7.78 2.81-2.81c.8-.78.8-2.07 0-2.86zM5.41 20L4 18.59l7.72-7.72 1.47 1.35L5.41 20z\"/>\n",
              "  </svg>\n",
              "      </button>\n",
              "      \n",
              "  <style>\n",
              "    .colab-df-container {\n",
              "      display:flex;\n",
              "      flex-wrap:wrap;\n",
              "      gap: 12px;\n",
              "    }\n",
              "\n",
              "    .colab-df-convert {\n",
              "      background-color: #E8F0FE;\n",
              "      border: none;\n",
              "      border-radius: 50%;\n",
              "      cursor: pointer;\n",
              "      display: none;\n",
              "      fill: #1967D2;\n",
              "      height: 32px;\n",
              "      padding: 0 0 0 0;\n",
              "      width: 32px;\n",
              "    }\n",
              "\n",
              "    .colab-df-convert:hover {\n",
              "      background-color: #E2EBFA;\n",
              "      box-shadow: 0px 1px 2px rgba(60, 64, 67, 0.3), 0px 1px 3px 1px rgba(60, 64, 67, 0.15);\n",
              "      fill: #174EA6;\n",
              "    }\n",
              "\n",
              "    [theme=dark] .colab-df-convert {\n",
              "      background-color: #3B4455;\n",
              "      fill: #D2E3FC;\n",
              "    }\n",
              "\n",
              "    [theme=dark] .colab-df-convert:hover {\n",
              "      background-color: #434B5C;\n",
              "      box-shadow: 0px 1px 3px 1px rgba(0, 0, 0, 0.15);\n",
              "      filter: drop-shadow(0px 1px 2px rgba(0, 0, 0, 0.3));\n",
              "      fill: #FFFFFF;\n",
              "    }\n",
              "  </style>\n",
              "\n",
              "      <script>\n",
              "        const buttonEl =\n",
              "          document.querySelector('#df-20090352-2712-4043-8c57-d1b9cb2aba31 button.colab-df-convert');\n",
              "        buttonEl.style.display =\n",
              "          google.colab.kernel.accessAllowed ? 'block' : 'none';\n",
              "\n",
              "        async function convertToInteractive(key) {\n",
              "          const element = document.querySelector('#df-20090352-2712-4043-8c57-d1b9cb2aba31');\n",
              "          const dataTable =\n",
              "            await google.colab.kernel.invokeFunction('convertToInteractive',\n",
              "                                                     [key], {});\n",
              "          if (!dataTable) return;\n",
              "\n",
              "          const docLinkHtml = 'Like what you see? Visit the ' +\n",
              "            '<a target=\"_blank\" href=https://colab.research.google.com/notebooks/data_table.ipynb>data table notebook</a>'\n",
              "            + ' to learn more about interactive tables.';\n",
              "          element.innerHTML = '';\n",
              "          dataTable['output_type'] = 'display_data';\n",
              "          await google.colab.output.renderOutput(dataTable, element);\n",
              "          const docLink = document.createElement('div');\n",
              "          docLink.innerHTML = docLinkHtml;\n",
              "          element.appendChild(docLink);\n",
              "        }\n",
              "      </script>\n",
              "    </div>\n",
              "  </div>\n",
              "  "
            ]
          },
          "metadata": {},
          "execution_count": 35
        }
      ]
    },
    {
      "cell_type": "code",
      "source": [],
      "metadata": {
        "id": "jhRheNLg19CZ"
      },
      "execution_count": 35,
      "outputs": []
    }
  ]
}