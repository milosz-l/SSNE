{
  "nbformat": 4,
  "nbformat_minor": 0,
  "metadata": {
    "colab": {
      "provenance": [],
      "collapsed_sections": [
        "g6VO-fNxrWh5"
      ]
    },
    "kernelspec": {
      "name": "python3",
      "display_name": "Python 3"
    },
    "language_info": {
      "name": "python"
    },
    "accelerator": "GPU",
    "gpuClass": "standard"
  },
  "cells": [
    {
      "cell_type": "markdown",
      "source": [
        "# Imports, setting up device and seeds\n"
      ],
      "metadata": {
        "id": "bWqIz6BsrIZU"
      }
    },
    {
      "cell_type": "code",
      "source": [
        "import torch\n",
        "from torch import nn\n",
        "import torchvision\n",
        "import torchvision.transforms as transforms\n",
        "import pandas as pd\n",
        "import numpy as np\n",
        "\n",
        "import matplotlib.pyplot as plt\n",
        "import numpy as np\n",
        " \n",
        "import torch.nn as nn\n",
        "import torch.nn.functional as F\n",
        "\n",
        "from torch.utils.data import DataLoader"
      ],
      "metadata": {
        "id": "-RiHHnHEi7Vc"
      },
      "execution_count": 1,
      "outputs": []
    },
    {
      "cell_type": "code",
      "source": [
        "import os\n",
        "import random\n",
        "\n",
        "def set_all_seeds(seed):\n",
        "    os.environ[\"PL_GLOBAL_SEED\"] = str(seed)\n",
        "    random.seed(seed)\n",
        "    np.random.seed(seed)\n",
        "    torch.manual_seed(seed)\n",
        "    torch.cuda.manual_seed_all(seed)\n",
        "\n",
        "set_all_seeds(42)"
      ],
      "metadata": {
        "id": "dF7Jzby3i-I6"
      },
      "execution_count": 2,
      "outputs": []
    },
    {
      "cell_type": "code",
      "source": [
        "# torch.cuda.set_device(1)\n",
        "device = torch.device(\"cuda\")\n",
        "# device = torch.device('mps')\n",
        "# device = torch.device('cpu')"
      ],
      "metadata": {
        "id": "-BCkcrW5i9kE"
      },
      "execution_count": 3,
      "outputs": []
    },
    {
      "cell_type": "markdown",
      "source": [
        "# Google drive"
      ],
      "metadata": {
        "id": "A2P1P9ATUoun"
      }
    },
    {
      "cell_type": "code",
      "source": [
        "from google.colab import drive\n",
        "drive.mount('/content/drive')"
      ],
      "metadata": {
        "colab": {
          "base_uri": "https://localhost:8080/"
        },
        "id": "jakEYCURjAtn",
        "outputId": "a1359655-132b-4d55-a8fe-821bcbbf1624"
      },
      "execution_count": 4,
      "outputs": [
        {
          "output_type": "stream",
          "name": "stdout",
          "text": [
            "Drive already mounted at /content/drive; to attempt to forcibly remount, call drive.mount(\"/content/drive\", force_remount=True).\n"
          ]
        }
      ]
    },
    {
      "cell_type": "code",
      "source": [
        "import os\n",
        "os.chdir(\"/content/drive/My Drive/SSNElab9\")"
      ],
      "metadata": {
        "id": "fGzhDkfDjCGE"
      },
      "execution_count": 5,
      "outputs": []
    },
    {
      "cell_type": "markdown",
      "source": [
        "# Constants"
      ],
      "metadata": {
        "id": "zDc0baBsXVGd"
      }
    },
    {
      "cell_type": "code",
      "source": [
        "VALIDATION_PERCENTAGE = 0.10\n",
        "batch_size = 8\n",
        "TRAIN_PATH = 'train.pkl'\n",
        "TEST_PATH = \"\""
      ],
      "metadata": {
        "id": "sg6Nh9CXXT4U"
      },
      "execution_count": 6,
      "outputs": []
    },
    {
      "cell_type": "markdown",
      "source": [
        "# Reading training dataset"
      ],
      "metadata": {
        "id": "8b6UrS1rrOIe"
      }
    },
    {
      "cell_type": "code",
      "execution_count": 7,
      "metadata": {
        "id": "6lhaFNeLhusm"
      },
      "outputs": [],
      "source": [
        "import pickle\n",
        "\n",
        "with open(TRAIN_PATH, 'rb') as f:\n",
        "    train = pickle.load(f)"
      ]
    },
    {
      "cell_type": "code",
      "source": [
        "train_lengths = [len(train_song[0]) for train_song in train]"
      ],
      "metadata": {
        "id": "7eNmQAg1i7Yr"
      },
      "execution_count": 8,
      "outputs": []
    },
    {
      "cell_type": "code",
      "source": [
        "len(train_lengths)"
      ],
      "metadata": {
        "colab": {
          "base_uri": "https://localhost:8080/"
        },
        "id": "bjH5ziWn_4Po",
        "outputId": "8cb89001-ebc3-4b31-a18a-c5cec2cd0c07"
      },
      "execution_count": 9,
      "outputs": [
        {
          "output_type": "execute_result",
          "data": {
            "text/plain": [
              "2939"
            ]
          },
          "metadata": {},
          "execution_count": 9
        }
      ]
    },
    {
      "cell_type": "code",
      "source": [
        "type(train[0][0])"
      ],
      "metadata": {
        "colab": {
          "base_uri": "https://localhost:8080/"
        },
        "id": "09fGswPGVIFE",
        "outputId": "929eed12-d4af-4bdd-c2b6-5c66ac89b2ec"
      },
      "execution_count": 10,
      "outputs": [
        {
          "output_type": "execute_result",
          "data": {
            "text/plain": [
              "numpy.ndarray"
            ]
          },
          "metadata": {},
          "execution_count": 10
        }
      ]
    },
    {
      "cell_type": "markdown",
      "source": [
        "# Histogram for training values"
      ],
      "metadata": {
        "id": "g6VO-fNxrWh5"
      }
    },
    {
      "cell_type": "code",
      "source": [
        "# histogram of lengths of training sequences\n",
        "plt.hist(train_lengths, bins='auto')"
      ],
      "metadata": {
        "colab": {
          "base_uri": "https://localhost:8080/",
          "height": 0
        },
        "id": "ZUP8rCvCo716",
        "outputId": "24a550ba-545c-481a-da61-4a4f271f2bf1"
      },
      "execution_count": 11,
      "outputs": [
        {
          "output_type": "execute_result",
          "data": {
            "text/plain": [
              "(array([152., 383., 229., 301., 297., 245., 212., 162., 103., 111.,  76.,\n",
              "         67.,  87.,  49.,  42.,  37.,  23.,  27.,  22.,  25.,  17.,  16.,\n",
              "         14.,  13.,  13.,  10.,  19.,  15.,  11.,  16.,   4.,   6.,   8.,\n",
              "          8.,   2.,   5.,   3.,   5.,   5.,   5.,   6.,   4.,   4.,  11.,\n",
              "          5.,   2.,   6.,   4.,   8.,   1.,   0.,   1.,   3.,   1.,   1.,\n",
              "          2.,   1.,   2.,   0.,   2.,   1.,   2.,   3.,   0.,   0.,   0.,\n",
              "          0.,   1.,   1.,   3.,   0.,   1.,   1.,   0.,   0.,   1.,   0.,\n",
              "          0.,   0.,   2.,   0.,   0.,   0.,   0.,   1.,   1.,   0.,   1.,\n",
              "          0.,   0.,   1.,   0.,   0.,   0.,   0.,   1.,   2.,   0.,   0.,\n",
              "          1.,   0.,   0.,   0.,   2.,   0.,   0.,   0.,   0.,   0.,   0.,\n",
              "          1.,   1.,   0.,   0.,   0.,   0.,   0.,   0.,   0.,   0.,   0.,\n",
              "          0.,   0.,   0.,   0.,   1.,   0.,   0.,   0.,   0.,   0.,   1.]),\n",
              " array([4.00000000e+00, 5.17575758e+01, 9.95151515e+01, 1.47272727e+02,\n",
              "        1.95030303e+02, 2.42787879e+02, 2.90545455e+02, 3.38303030e+02,\n",
              "        3.86060606e+02, 4.33818182e+02, 4.81575758e+02, 5.29333333e+02,\n",
              "        5.77090909e+02, 6.24848485e+02, 6.72606061e+02, 7.20363636e+02,\n",
              "        7.68121212e+02, 8.15878788e+02, 8.63636364e+02, 9.11393939e+02,\n",
              "        9.59151515e+02, 1.00690909e+03, 1.05466667e+03, 1.10242424e+03,\n",
              "        1.15018182e+03, 1.19793939e+03, 1.24569697e+03, 1.29345455e+03,\n",
              "        1.34121212e+03, 1.38896970e+03, 1.43672727e+03, 1.48448485e+03,\n",
              "        1.53224242e+03, 1.58000000e+03, 1.62775758e+03, 1.67551515e+03,\n",
              "        1.72327273e+03, 1.77103030e+03, 1.81878788e+03, 1.86654545e+03,\n",
              "        1.91430303e+03, 1.96206061e+03, 2.00981818e+03, 2.05757576e+03,\n",
              "        2.10533333e+03, 2.15309091e+03, 2.20084848e+03, 2.24860606e+03,\n",
              "        2.29636364e+03, 2.34412121e+03, 2.39187879e+03, 2.43963636e+03,\n",
              "        2.48739394e+03, 2.53515152e+03, 2.58290909e+03, 2.63066667e+03,\n",
              "        2.67842424e+03, 2.72618182e+03, 2.77393939e+03, 2.82169697e+03,\n",
              "        2.86945455e+03, 2.91721212e+03, 2.96496970e+03, 3.01272727e+03,\n",
              "        3.06048485e+03, 3.10824242e+03, 3.15600000e+03, 3.20375758e+03,\n",
              "        3.25151515e+03, 3.29927273e+03, 3.34703030e+03, 3.39478788e+03,\n",
              "        3.44254545e+03, 3.49030303e+03, 3.53806061e+03, 3.58581818e+03,\n",
              "        3.63357576e+03, 3.68133333e+03, 3.72909091e+03, 3.77684848e+03,\n",
              "        3.82460606e+03, 3.87236364e+03, 3.92012121e+03, 3.96787879e+03,\n",
              "        4.01563636e+03, 4.06339394e+03, 4.11115152e+03, 4.15890909e+03,\n",
              "        4.20666667e+03, 4.25442424e+03, 4.30218182e+03, 4.34993939e+03,\n",
              "        4.39769697e+03, 4.44545455e+03, 4.49321212e+03, 4.54096970e+03,\n",
              "        4.58872727e+03, 4.63648485e+03, 4.68424242e+03, 4.73200000e+03,\n",
              "        4.77975758e+03, 4.82751515e+03, 4.87527273e+03, 4.92303030e+03,\n",
              "        4.97078788e+03, 5.01854545e+03, 5.06630303e+03, 5.11406061e+03,\n",
              "        5.16181818e+03, 5.20957576e+03, 5.25733333e+03, 5.30509091e+03,\n",
              "        5.35284848e+03, 5.40060606e+03, 5.44836364e+03, 5.49612121e+03,\n",
              "        5.54387879e+03, 5.59163636e+03, 5.63939394e+03, 5.68715152e+03,\n",
              "        5.73490909e+03, 5.78266667e+03, 5.83042424e+03, 5.87818182e+03,\n",
              "        5.92593939e+03, 5.97369697e+03, 6.02145455e+03, 6.06921212e+03,\n",
              "        6.11696970e+03, 6.16472727e+03, 6.21248485e+03, 6.26024242e+03,\n",
              "        6.30800000e+03]),\n",
              " <a list of 132 Patch objects>)"
            ]
          },
          "metadata": {},
          "execution_count": 11
        },
        {
          "output_type": "display_data",
          "data": {
            "text/plain": [
              "<Figure size 432x288 with 1 Axes>"
            ],
            "image/png": "[encoded data removed]"
          },
          "metadata": {
            "needs_background": "light"
          }
        }
      ]
    },
    {
      "cell_type": "code",
      "source": [
        "min(train_lengths), max(train_lengths)"
      ],
      "metadata": {
        "id": "fkSg5eaga6cG",
        "colab": {
          "base_uri": "https://localhost:8080/"
        },
        "outputId": "42b9728f-26b8-4111-b192-54681d3caa58"
      },
      "execution_count": 12,
      "outputs": [
        {
          "output_type": "execute_result",
          "data": {
            "text/plain": [
              "(4, 6308)"
            ]
          },
          "metadata": {},
          "execution_count": 12
        }
      ]
    },
    {
      "cell_type": "code",
      "source": [],
      "metadata": {
        "id": "XQvCZEwhCsTo"
      },
      "execution_count": 14,
      "outputs": []
    },
    {
      "cell_type": "code",
      "source": [
        "from torch.utils.data import Dataset\n",
        "\n",
        "class VariableLenDataset(Dataset):\n",
        "    def __init__(self, in_data, target):\n",
        "        self.data = [(x, y) for x, y in zip(in_data, target)]      \n",
        "\n",
        "    def __len__(self):\n",
        "        return len(self.data)\n",
        "\n",
        "    def __getitem__(self, idx):\n",
        "        in_data, target = self.data[idx]\n",
        "        return in_data, target"
      ],
      "metadata": {
        "id": "0a24j9vdPTrr"
      },
      "execution_count": 15,
      "outputs": []
    },
    {
      "cell_type": "markdown",
      "source": [
        "# Padding"
      ],
      "metadata": {
        "id": "SItHYahBR0BR"
      }
    },
    {
      "cell_type": "code",
      "source": [
        "from random import shuffle\n",
        "from math import floor\n",
        "\n",
        "# converting train to tensors\n",
        "# train = [[torch.from_numpy(t[0].astype(int)).float(), torch.from_numpy(np.ndarray([int(t[1])]))] for t in train]\n",
        "train_data = [[torch.from_numpy(t[0].astype(int)).float(), int(t[1])] for t in train]\n",
        "\n",
        "dataset_length = len(train_data)\n",
        "val_size = floor(dataset_length * VALIDATION_PERCENTAGE)\n",
        "train_size = dataset_length - val_size\n",
        "\n",
        "train_subset, val_subset = torch.utils.data.random_split(train_data, [train_size, val_size])\n",
        "\n",
        "train_subset_data = [item[0] for item in train_subset]\n",
        "train_subset_targets = [item[1] for item in train_subset]\n",
        "\n",
        "val_subset_data = [item[0] for item in val_subset]\n",
        "val_subset_targets = [item[1] for item in val_subset]\n",
        "\n",
        "train_set = VariableLenDataset(train_subset_data, train_subset_targets)\n",
        "val_set = VariableLenDataset(val_subset_data, val_subset_targets)"
      ],
      "metadata": {
        "id": "sEm_rXS2TX4r"
      },
      "execution_count": 16,
      "outputs": []
    },
    {
      "cell_type": "code",
      "source": [
        "from torch.nn.utils.rnn import pad_sequence, pack_padded_sequence, pad_packed_sequence\n",
        "\n",
        "pad = 0\n",
        "\n",
        "def pad_collate(batch, pad_value=0):\n",
        "    xx, yy = zip(*batch)\n",
        "    x_lens = [len(x) for x in xx]\n",
        "\n",
        "    xx_pad = pad_sequence(xx, batch_first=True, padding_value=pad_value)\n",
        "\n",
        "    return xx_pad, yy"
      ],
      "metadata": {
        "id": "BvgU5pn2PTua"
      },
      "execution_count": 17,
      "outputs": []
    },
    {
      "cell_type": "code",
      "source": [
        "train_loader = DataLoader(train_set, batch_size=batch_size, shuffle=True, collate_fn=pad_collate)\n",
        "val_loader = DataLoader(val_set, batch_size=batch_size, shuffle=True, collate_fn=pad_collate)"
      ],
      "metadata": {
        "id": "p8ShbxngPTxK"
      },
      "execution_count": 18,
      "outputs": []
    },
    {
      "cell_type": "code",
      "source": [
        "next(iter(train_loader))"
      ],
      "metadata": {
        "colab": {
          "base_uri": "https://localhost:8080/"
        },
        "id": "rI2H1pWKZyMu",
        "outputId": "45fa06e3-52d6-45fe-86e9-457e8a1612a8"
      },
      "execution_count": 19,
      "outputs": [
        {
          "output_type": "execute_result",
          "data": {
            "text/plain": [
              "(tensor([[132.,   8.,  12.,  ...,   0.,   0.,   0.],\n",
              "         [ -1.,  48., 146.,  ...,   0.,   0.,   0.],\n",
              "         [ -1.,  -1.,  -1.,  ...,   0.,   0.,   0.],\n",
              "         ...,\n",
              "         [ 80.,   2., 114.,  ...,   0.,   0.,   0.],\n",
              "         [ -1.,  -1.,  -1.,  ...,   0.,   0.,  -1.],\n",
              "         [  0.,  12.,  47.,  ...,   0.,   0.,   0.]]),\n",
              " (0, 1, 0, 3, 0, 4, 0, 0))"
            ]
          },
          "metadata": {},
          "execution_count": 19
        }
      ]
    },
    {
      "cell_type": "markdown",
      "source": [
        "# Model"
      ],
      "metadata": {
        "id": "CmMtriGMPSVa"
      }
    },
    {
      "cell_type": "code",
      "source": [
        "class LSTMRegressor(nn.Module):\n",
        "\n",
        "    def __init__(self, input_size, hidden_size, num_layers, out_size, bidirectional = False):\n",
        "        super().__init__()\n",
        "        self.num_layers = num_layers\n",
        "        self.hidden_size = hidden_size\n",
        "        if bidirectional:\n",
        "            self.bidirectional = 2\n",
        "        else:\n",
        "            self.bidirectional = 1\n",
        "        self.lstm = nn.LSTM(input_size = input_size, hidden_size = hidden_size, num_layers = num_layers, bidirectional=bidirectional, dropout=0.4)\n",
        "        self.fc = nn.Linear(hidden_size, out_size)\n",
        "        # self.fc = nn.Linear(hidden_size*90*self.bidirectional, out_size)\n",
        "        \n",
        "    def init_hidden(self, batch_size):\n",
        "        hidden = torch.zeros(self.num_layers*self.bidirectional , batch_size, self.hidden_size)\n",
        "        state = torch.zeros(self.num_layers*self.bidirectional , batch_size, self.hidden_size)\n",
        "        return hidden, state\n",
        "    \n",
        "    def forward(self, x, hidden):\n",
        "        # pass the input through the LSTM layer\n",
        "        # print(x.shape)\n",
        "        # print(hidden[0].size(0))\n",
        "        out, _ = self.lstm(x, hidden)\n",
        "\n",
        "        # print(\"OUT\", out.shape)\n",
        "        \n",
        "        # get the last output of the LSTM layer\n",
        "        out = out[-1, :, :]\n",
        "\n",
        "        # print(\"OUT2\", out.shape)\n",
        "        \n",
        "        # pass the last output through the fully-connected layer\n",
        "        out = self.fc(out)\n",
        "\n",
        "        # print(\"OUT3\", out.shape)\n",
        "        \n",
        "        return out\n"
      ],
      "metadata": {
        "id": "W2TSYGhAa6i-"
      },
      "execution_count": 50,
      "outputs": []
    },
    {
      "cell_type": "code",
      "source": [
        "    \n",
        "model = LSTMRegressor(1,10,2,5).to(device)\n",
        "model"
      ],
      "metadata": {
        "colab": {
          "base_uri": "https://localhost:8080/"
        },
        "id": "M3kLQzbaPTow",
        "outputId": "d0d658d1-5dc8-432b-c5c3-874315432497"
      },
      "execution_count": 51,
      "outputs": [
        {
          "output_type": "execute_result",
          "data": {
            "text/plain": [
              "LSTMRegressor(\n",
              "  (lstm): LSTM(1, 10, num_layers=2, dropout=0.4)\n",
              "  (fc): Linear(in_features=10, out_features=5, bias=True)\n",
              ")"
            ]
          },
          "metadata": {},
          "execution_count": 51
        }
      ]
    },
    {
      "cell_type": "markdown",
      "source": [
        "# Training"
      ],
      "metadata": {
        "id": "Sn-tXvwIG83R"
      }
    },
    {
      "cell_type": "code",
      "source": [
        "%%time\n",
        "optimizer = torch.optim.Adam(model.parameters(), lr=0.001)\n",
        "loss_fun = nn.CrossEntropyLoss()\n",
        "\n",
        "epochs, losses, train_acc, val_acc = [], [], [], []\n",
        "\n",
        "# Training loop\n",
        "for epoch in range(300):\n",
        "    for x, targets in train_loader:\n",
        "        targets = torch.from_numpy(np.asarray(targets))\n",
        "        # print(\"SHAPE X\", x.shape)\n",
        "        # print(\"SHAPE TARGETS\", targets.shape)\n",
        "        x = x.to(device).unsqueeze(2)\n",
        "        targets = targets.to(device)\n",
        "        hidden, state = model.init_hidden(x.size(0))\n",
        "        hidden, state = hidden.to(device), state.to(device) \n",
        "\n",
        "        # print(hidden.shape, state.shape)\n",
        "        \n",
        "        x = torch.transpose(x, 0, 1)\n",
        "        # print(\"A\")\n",
        "        preds = model(x, (hidden, state))\n",
        "        # print(\"B\")\n",
        "        # preds = torch.transpose(preds, 0, 1)\n",
        "        # preds = preds.squeeze(2)\n",
        "        # print(\"PREDS\", preds.shape)\n",
        "        # preds = preds[:,-1,:]\n",
        "        \n",
        "#         x_packed = pack_padded_sequence(x, x_len, batch_first=True, enforce_sorted=False)\n",
        "#         preds_packed, _ = model(x_packed, (hidden, state))\n",
        "#         preds, pred_len = pad_packed_sequence(preds_packed, batch_first=True, padding_value=pad)\n",
        "        \n",
        "        # preds = preds.squeeze(2)\n",
        "        optimizer.zero_grad()\n",
        "        # mask = targets != pad\n",
        "        # loss = loss_fun(preds[mask], targets[mask])\n",
        "        # print(\"PREDS\", preds.shape)\n",
        "        # print(\"TARGETS\", targets.shape)\n",
        "\n",
        "        loss = loss_fun(preds, targets)\n",
        "        loss.backward()\n",
        "        optimizer.step()\n",
        "\n",
        "    losses.append(loss.item())\n",
        "    epochs.append(epoch)\n",
        "\n",
        "    print(f\"Epoch: {epoch}, loss: {loss.item():.3}\")"
      ],
      "metadata": {
        "colab": {
          "base_uri": "https://localhost:8080/"
        },
        "id": "vAWo9YRg3BLo",
        "outputId": "73f6933e-b32a-4308-b93f-2e259524ff4f"
      },
      "execution_count": 61,
      "outputs": [
        {
          "output_type": "stream",
          "name": "stdout",
          "text": [
            "Epoch: 0, loss: 0.485\n",
            "Epoch: 1, loss: 0.23\n",
            "Epoch: 2, loss: 0.827\n",
            "Epoch: 3, loss: 0.409\n",
            "Epoch: 4, loss: 0.478\n",
            "Epoch: 5, loss: 0.63\n",
            "Epoch: 6, loss: 0.307\n",
            "Epoch: 7, loss: 0.568\n",
            "Epoch: 8, loss: 0.126\n",
            "Epoch: 9, loss: 0.245\n",
            "Epoch: 10, loss: 0.827\n",
            "Epoch: 11, loss: 0.343\n",
            "Epoch: 12, loss: 0.188\n",
            "Epoch: 13, loss: 0.339\n",
            "Epoch: 14, loss: 0.637\n",
            "Epoch: 15, loss: 0.764\n",
            "Epoch: 16, loss: 0.0696\n",
            "Epoch: 17, loss: 0.61\n",
            "Epoch: 18, loss: 0.972\n",
            "Epoch: 19, loss: 0.31\n",
            "Epoch: 20, loss: 0.251\n",
            "Epoch: 21, loss: 0.372\n",
            "Epoch: 22, loss: 0.839\n",
            "Epoch: 23, loss: 1.02\n",
            "Epoch: 24, loss: 0.728\n",
            "Epoch: 25, loss: 1.28\n",
            "Epoch: 26, loss: 0.331\n",
            "Epoch: 27, loss: 0.628\n",
            "Epoch: 28, loss: 0.818\n",
            "Epoch: 29, loss: 0.163\n",
            "Epoch: 30, loss: 0.575\n",
            "Epoch: 31, loss: 1.35\n",
            "Epoch: 32, loss: 0.366\n",
            "Epoch: 33, loss: 0.199\n",
            "Epoch: 34, loss: 0.82\n",
            "Epoch: 35, loss: 1.17\n",
            "Epoch: 36, loss: 0.273\n",
            "Epoch: 37, loss: 0.362\n",
            "Epoch: 38, loss: 0.126\n",
            "Epoch: 39, loss: 1.31\n",
            "Epoch: 40, loss: 0.757\n",
            "Epoch: 41, loss: 0.397\n",
            "Epoch: 42, loss: 0.806\n",
            "Epoch: 43, loss: 1.42\n",
            "Epoch: 44, loss: 0.391\n",
            "Epoch: 45, loss: 0.907\n",
            "Epoch: 46, loss: 0.426\n",
            "Epoch: 47, loss: 0.708\n",
            "Epoch: 48, loss: 0.245\n",
            "Epoch: 49, loss: 0.548\n",
            "Epoch: 50, loss: 0.4\n",
            "Epoch: 51, loss: 0.429\n",
            "Epoch: 52, loss: 0.222\n",
            "Epoch: 53, loss: 0.185\n",
            "Epoch: 54, loss: 0.934\n",
            "Epoch: 55, loss: 0.541\n",
            "Epoch: 56, loss: 0.263\n",
            "Epoch: 57, loss: 0.511\n",
            "Epoch: 58, loss: 0.394\n",
            "Epoch: 59, loss: 0.641\n",
            "Epoch: 60, loss: 0.761\n",
            "Epoch: 61, loss: 0.327\n",
            "Epoch: 62, loss: 0.537\n",
            "Epoch: 63, loss: 0.194\n",
            "Epoch: 64, loss: 0.0661\n",
            "Epoch: 65, loss: 0.381\n",
            "Epoch: 66, loss: 0.82\n",
            "Epoch: 67, loss: 1.07\n",
            "Epoch: 68, loss: 0.484\n",
            "Epoch: 69, loss: 0.466\n",
            "Epoch: 70, loss: 0.569\n",
            "Epoch: 71, loss: 0.532\n",
            "Epoch: 72, loss: 1.07\n",
            "Epoch: 73, loss: 0.579\n",
            "Epoch: 74, loss: 0.274\n",
            "Epoch: 75, loss: 0.793\n",
            "Epoch: 76, loss: 0.955\n",
            "Epoch: 77, loss: 0.388\n",
            "Epoch: 78, loss: 0.347\n",
            "Epoch: 79, loss: 0.338\n",
            "Epoch: 80, loss: 0.129\n",
            "Epoch: 81, loss: 0.698\n",
            "Epoch: 82, loss: 0.129\n",
            "Epoch: 83, loss: 0.359\n",
            "Epoch: 84, loss: 0.47\n",
            "Epoch: 85, loss: 1.1\n",
            "Epoch: 86, loss: 0.795\n",
            "Epoch: 87, loss: 0.365\n",
            "Epoch: 88, loss: 0.432\n",
            "Epoch: 89, loss: 0.287\n",
            "Epoch: 90, loss: 1.15\n",
            "Epoch: 91, loss: 1.28\n",
            "Epoch: 92, loss: 0.724\n",
            "Epoch: 93, loss: 0.0938\n",
            "Epoch: 94, loss: 1.13\n",
            "Epoch: 95, loss: 0.523\n",
            "Epoch: 96, loss: 1.9\n",
            "Epoch: 97, loss: 0.404\n",
            "Epoch: 98, loss: 0.477\n",
            "Epoch: 99, loss: 0.854\n",
            "Epoch: 100, loss: 0.469\n",
            "Epoch: 101, loss: 0.528\n",
            "Epoch: 102, loss: 0.241\n",
            "Epoch: 103, loss: 0.539\n",
            "Epoch: 104, loss: 0.115\n",
            "Epoch: 105, loss: 0.626\n",
            "Epoch: 106, loss: 0.163\n",
            "Epoch: 107, loss: 0.243\n",
            "Epoch: 108, loss: 0.826\n",
            "Epoch: 109, loss: 0.495\n",
            "Epoch: 110, loss: 0.066\n",
            "Epoch: 111, loss: 0.153\n",
            "Epoch: 112, loss: 0.439\n",
            "Epoch: 113, loss: 0.312\n",
            "Epoch: 114, loss: 0.131\n",
            "Epoch: 115, loss: 0.184\n",
            "Epoch: 116, loss: 0.643\n",
            "Epoch: 117, loss: 0.434\n",
            "Epoch: 118, loss: 0.899\n",
            "Epoch: 119, loss: 0.331\n",
            "Epoch: 120, loss: 0.643\n",
            "Epoch: 121, loss: 0.0854\n",
            "Epoch: 122, loss: 1.07\n",
            "Epoch: 123, loss: 0.199\n",
            "Epoch: 124, loss: 0.241\n",
            "Epoch: 125, loss: 0.512\n",
            "Epoch: 126, loss: 0.263\n",
            "Epoch: 127, loss: 0.0783\n",
            "Epoch: 128, loss: 0.761\n",
            "Epoch: 129, loss: 0.308\n",
            "Epoch: 130, loss: 0.172\n",
            "Epoch: 131, loss: 0.681\n",
            "Epoch: 132, loss: 0.57\n",
            "Epoch: 133, loss: 0.114\n",
            "Epoch: 134, loss: 0.437\n",
            "Epoch: 135, loss: 0.0942\n",
            "Epoch: 136, loss: 1.12\n",
            "Epoch: 137, loss: 0.176\n",
            "Epoch: 138, loss: 0.17\n",
            "Epoch: 139, loss: 0.69\n",
            "Epoch: 140, loss: 0.309\n",
            "Epoch: 141, loss: 0.271\n",
            "Epoch: 142, loss: 0.57\n",
            "Epoch: 143, loss: 0.719\n",
            "Epoch: 144, loss: 1.04\n",
            "Epoch: 145, loss: 0.636\n",
            "Epoch: 146, loss: 0.172\n",
            "Epoch: 147, loss: 0.239\n",
            "Epoch: 148, loss: 0.744\n",
            "Epoch: 149, loss: 0.368\n",
            "Epoch: 150, loss: 0.334\n",
            "Epoch: 151, loss: 0.5\n",
            "Epoch: 152, loss: 0.639\n",
            "Epoch: 153, loss: 0.453\n",
            "Epoch: 154, loss: 0.0341\n",
            "Epoch: 155, loss: 0.47\n",
            "Epoch: 156, loss: 0.561\n",
            "Epoch: 157, loss: 0.204\n",
            "Epoch: 158, loss: 0.219\n",
            "Epoch: 159, loss: 0.309\n",
            "Epoch: 160, loss: 0.0427\n",
            "Epoch: 161, loss: 0.543\n",
            "Epoch: 162, loss: 0.451\n",
            "Epoch: 163, loss: 0.4\n",
            "Epoch: 164, loss: 0.859\n",
            "Epoch: 165, loss: 0.382\n",
            "Epoch: 166, loss: 0.257\n",
            "Epoch: 167, loss: 0.306\n",
            "Epoch: 168, loss: 0.358\n",
            "Epoch: 169, loss: 0.485\n",
            "Epoch: 170, loss: 0.232\n",
            "Epoch: 171, loss: 0.737\n",
            "Epoch: 172, loss: 0.192\n",
            "Epoch: 173, loss: 0.563\n",
            "Epoch: 174, loss: 0.325\n",
            "Epoch: 175, loss: 0.267\n",
            "Epoch: 176, loss: 0.04\n",
            "Epoch: 177, loss: 0.746\n",
            "Epoch: 178, loss: 0.542\n",
            "Epoch: 179, loss: 0.375\n",
            "Epoch: 180, loss: 0.566\n",
            "Epoch: 181, loss: 1.27\n",
            "Epoch: 182, loss: 0.339\n",
            "Epoch: 183, loss: 0.111\n",
            "Epoch: 184, loss: 0.0967\n",
            "Epoch: 185, loss: 0.149\n",
            "Epoch: 186, loss: 0.5\n",
            "Epoch: 187, loss: 0.413\n",
            "Epoch: 188, loss: 0.316\n",
            "Epoch: 189, loss: 0.652\n",
            "Epoch: 190, loss: 0.517\n",
            "Epoch: 191, loss: 0.402\n",
            "Epoch: 192, loss: 0.0296\n",
            "Epoch: 193, loss: 0.409\n",
            "Epoch: 194, loss: 0.41\n",
            "Epoch: 195, loss: 0.511\n",
            "Epoch: 196, loss: 0.533\n",
            "Epoch: 197, loss: 0.452\n",
            "Epoch: 198, loss: 0.624\n",
            "Epoch: 199, loss: 0.232\n",
            "Epoch: 200, loss: 0.138\n",
            "Epoch: 201, loss: 0.0644\n",
            "Epoch: 202, loss: 0.537\n",
            "Epoch: 203, loss: 0.496\n",
            "Epoch: 204, loss: 0.258\n",
            "Epoch: 205, loss: 0.474\n",
            "Epoch: 206, loss: 0.43\n",
            "Epoch: 207, loss: 0.425\n",
            "Epoch: 208, loss: 0.475\n",
            "Epoch: 209, loss: 0.243\n",
            "Epoch: 210, loss: 0.465\n",
            "Epoch: 211, loss: 1.27\n",
            "Epoch: 212, loss: 0.121\n",
            "Epoch: 213, loss: 0.981\n",
            "Epoch: 214, loss: 0.136\n",
            "Epoch: 215, loss: 0.13\n",
            "Epoch: 216, loss: 0.119\n",
            "Epoch: 217, loss: 0.193\n",
            "Epoch: 218, loss: 0.934\n",
            "Epoch: 219, loss: 0.0163\n",
            "Epoch: 220, loss: 0.255\n",
            "Epoch: 221, loss: 0.623\n",
            "Epoch: 222, loss: 0.847\n",
            "Epoch: 223, loss: 0.34\n",
            "Epoch: 224, loss: 0.473\n",
            "Epoch: 225, loss: 0.115\n",
            "Epoch: 226, loss: 0.237\n",
            "Epoch: 227, loss: 0.639\n",
            "Epoch: 228, loss: 0.161\n",
            "Epoch: 229, loss: 0.325\n",
            "Epoch: 230, loss: 0.357\n",
            "Epoch: 231, loss: 0.123\n",
            "Epoch: 232, loss: 0.3\n",
            "Epoch: 233, loss: 0.737\n",
            "Epoch: 234, loss: 1.52\n",
            "Epoch: 235, loss: 0.236\n",
            "Epoch: 236, loss: 0.265\n",
            "Epoch: 237, loss: 0.366\n",
            "Epoch: 238, loss: 0.304\n",
            "Epoch: 239, loss: 0.555\n",
            "Epoch: 240, loss: 0.071\n",
            "Epoch: 241, loss: 0.738\n",
            "Epoch: 242, loss: 0.111\n",
            "Epoch: 243, loss: 0.644\n",
            "Epoch: 244, loss: 0.333\n",
            "Epoch: 245, loss: 0.157\n",
            "Epoch: 246, loss: 0.591\n",
            "Epoch: 247, loss: 0.35\n",
            "Epoch: 248, loss: 0.732\n",
            "Epoch: 249, loss: 0.246\n",
            "Epoch: 250, loss: 1.59\n",
            "Epoch: 251, loss: 1.03\n",
            "Epoch: 252, loss: 0.208\n",
            "Epoch: 253, loss: 0.72\n",
            "Epoch: 254, loss: 1.41\n",
            "Epoch: 255, loss: 0.534\n",
            "Epoch: 256, loss: 0.218\n",
            "Epoch: 257, loss: 0.612\n",
            "Epoch: 258, loss: 0.578\n",
            "Epoch: 259, loss: 0.345\n",
            "Epoch: 260, loss: 0.365\n",
            "Epoch: 261, loss: 0.852\n",
            "Epoch: 262, loss: 0.11\n",
            "Epoch: 263, loss: 0.395\n",
            "Epoch: 264, loss: 0.56\n",
            "Epoch: 265, loss: 0.088\n",
            "Epoch: 266, loss: 0.25\n",
            "Epoch: 267, loss: 0.433\n",
            "Epoch: 268, loss: 0.529\n",
            "Epoch: 269, loss: 0.333\n",
            "Epoch: 270, loss: 1.26\n",
            "Epoch: 271, loss: 0.792\n",
            "Epoch: 272, loss: 0.232\n",
            "Epoch: 273, loss: 0.0717\n",
            "Epoch: 274, loss: 0.274\n",
            "Epoch: 275, loss: 0.599\n",
            "Epoch: 276, loss: 0.158\n",
            "Epoch: 277, loss: 0.247\n",
            "Epoch: 278, loss: 0.927\n",
            "Epoch: 279, loss: 0.533\n",
            "Epoch: 280, loss: 0.287\n",
            "Epoch: 281, loss: 0.264\n",
            "Epoch: 282, loss: 0.887\n",
            "Epoch: 283, loss: 0.325\n",
            "Epoch: 284, loss: 0.885\n",
            "Epoch: 285, loss: 0.727\n",
            "Epoch: 286, loss: 0.487\n",
            "Epoch: 287, loss: 0.0386\n",
            "Epoch: 288, loss: 0.21\n",
            "Epoch: 289, loss: 0.0723\n",
            "Epoch: 290, loss: 0.185\n",
            "Epoch: 291, loss: 0.094\n",
            "Epoch: 292, loss: 0.421\n",
            "Epoch: 293, loss: 0.755\n",
            "Epoch: 294, loss: 0.234\n",
            "Epoch: 295, loss: 0.282\n",
            "Epoch: 296, loss: 0.341\n",
            "Epoch: 297, loss: 0.154\n",
            "Epoch: 298, loss: 0.3\n",
            "Epoch: 299, loss: 0.557\n",
            "CPU times: user 11min 10s, sys: 14.3 s, total: 11min 24s\n",
            "Wall time: 11min 22s\n"
          ]
        }
      ]
    },
    {
      "cell_type": "code",
      "source": [
        "def plot_results(epochs, losses):\n",
        "    # plotting\n",
        "    plt.figure(figsize=(10,4))\n",
        "    plt.subplot(1,2,1)\n",
        "    plt.title(\"Training Curve\")\n",
        "    plt.plot(epochs, losses, label=\"Train\")\n",
        "    plt.xlabel(\"Iterations\")\n",
        "    plt.ylabel(\"Loss\")"
      ],
      "metadata": {
        "id": "K-s5mTUxSjOJ"
      },
      "execution_count": 62,
      "outputs": []
    },
    {
      "cell_type": "code",
      "source": [
        "plot_results(epochs, losses)"
      ],
      "metadata": {
        "id": "iCwAflsXSjQz",
        "colab": {
          "base_uri": "https://localhost:8080/",
          "height": 295
        },
        "outputId": "d5d4e8fd-8175-47e4-b3cb-6cad22e5b1a2"
      },
      "execution_count": 63,
      "outputs": [
        {
          "output_type": "display_data",
          "data": {
            "text/plain": [
              "<Figure size 720x288 with 1 Axes>"
            ],
            "image/png": "[encoded data removed]"
          },
          "metadata": {
            "needs_background": "light"
          }
        }
      ]
    },
    {
      "cell_type": "code",
      "source": [],
      "metadata": {
        "id": "IRRY-gJRiSIR"
      },
      "execution_count": null,
      "outputs": []
    }
  ]
}