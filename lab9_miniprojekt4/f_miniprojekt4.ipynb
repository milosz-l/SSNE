{
  "nbformat": 4,
  "nbformat_minor": 0,
  "metadata": {
    "colab": {
      "provenance": []
    },
    "kernelspec": {
      "name": "python3",
      "display_name": "Python 3"
    },
    "language_info": {
      "name": "python"
    },
    "accelerator": "GPU",
    "gpuClass": "standard"
  },
  "cells": [
    {
      "cell_type": "markdown",
      "source": [
        "# Imports, setting up device and seeds\n"
      ],
      "metadata": {
        "id": "bWqIz6BsrIZU"
      }
    },
    {
      "cell_type": "code",
      "source": [
        "import torch\n",
        "from torch import nn\n",
        "import torchvision\n",
        "import torchvision.transforms as transforms\n",
        "import pandas as pd\n",
        "import numpy as np\n",
        "\n",
        "import matplotlib.pyplot as plt\n",
        "import numpy as np\n",
        " \n",
        "import torch.nn as nn\n",
        "import torch.nn.functional as F\n",
        "\n",
        "from torch.utils.data import DataLoader"
      ],
      "metadata": {
        "id": "-RiHHnHEi7Vc"
      },
      "execution_count": 1,
      "outputs": []
    },
    {
      "cell_type": "code",
      "source": [
        "import os\n",
        "import random\n",
        "\n",
        "def set_all_seeds(seed):\n",
        "    os.environ[\"PL_GLOBAL_SEED\"] = str(seed)\n",
        "    random.seed(seed)\n",
        "    np.random.seed(seed)\n",
        "    torch.manual_seed(seed)\n",
        "    torch.cuda.manual_seed_all(seed)\n",
        "\n",
        "set_all_seeds(42)"
      ],
      "metadata": {
        "id": "dF7Jzby3i-I6"
      },
      "execution_count": 2,
      "outputs": []
    },
    {
      "cell_type": "code",
      "source": [
        "# torch.cuda.set_device(1)\n",
        "device = torch.device(\"cuda\")\n",
        "# device = torch.device('mps')\n",
        "# device = torch.device('cpu')"
      ],
      "metadata": {
        "id": "-BCkcrW5i9kE"
      },
      "execution_count": 3,
      "outputs": []
    },
    {
      "cell_type": "markdown",
      "source": [
        "# Google drive"
      ],
      "metadata": {
        "id": "A2P1P9ATUoun"
      }
    },
    {
      "cell_type": "code",
      "source": [
        "from google.colab import drive\n",
        "drive.mount('/content/drive')"
      ],
      "metadata": {
        "colab": {
          "base_uri": "https://localhost:8080/"
        },
        "id": "jakEYCURjAtn",
        "outputId": "dee3b49c-3f98-4cb3-ba16-c3e4f4ce308e"
      },
      "execution_count": 4,
      "outputs": [
        {
          "output_type": "stream",
          "name": "stdout",
          "text": [
            "Drive already mounted at /content/drive; to attempt to forcibly remount, call drive.mount(\"/content/drive\", force_remount=True).\n"
          ]
        }
      ]
    },
    {
      "cell_type": "code",
      "source": [
        "import os\n",
        "os.chdir(\"/content/drive/My Drive/SSNElab9\")"
      ],
      "metadata": {
        "id": "fGzhDkfDjCGE"
      },
      "execution_count": 5,
      "outputs": []
    },
    {
      "cell_type": "markdown",
      "source": [
        "# Constants"
      ],
      "metadata": {
        "id": "zDc0baBsXVGd"
      }
    },
    {
      "cell_type": "code",
      "source": [
        "VALIDATION_PERCENTAGE = 0.10\n",
        "batch_size = 8\n",
        "TRAIN_PATH = 'train.pkl'\n",
        "TEST_PATH = \"\""
      ],
      "metadata": {
        "id": "sg6Nh9CXXT4U"
      },
      "execution_count": 6,
      "outputs": []
    },
    {
      "cell_type": "markdown",
      "source": [
        "# Reading training dataset"
      ],
      "metadata": {
        "id": "8b6UrS1rrOIe"
      }
    },
    {
      "cell_type": "code",
      "execution_count": 7,
      "metadata": {
        "id": "6lhaFNeLhusm"
      },
      "outputs": [],
      "source": [
        "import pickle\n",
        "\n",
        "with open(TRAIN_PATH, 'rb') as f:\n",
        "    train = pickle.load(f)"
      ]
    },
    {
      "cell_type": "code",
      "source": [
        "train_lengths = [len(train_song[0]) for train_song in train]"
      ],
      "metadata": {
        "id": "7eNmQAg1i7Yr"
      },
      "execution_count": 8,
      "outputs": []
    },
    {
      "cell_type": "code",
      "source": [
        "type(train[0][0])"
      ],
      "metadata": {
        "colab": {
          "base_uri": "https://localhost:8080/"
        },
        "id": "09fGswPGVIFE",
        "outputId": "96d04c12-751e-4976-ec01-d2c864340720"
      },
      "execution_count": 9,
      "outputs": [
        {
          "output_type": "execute_result",
          "data": {
            "text/plain": [
              "numpy.ndarray"
            ]
          },
          "metadata": {},
          "execution_count": 9
        }
      ]
    },
    {
      "cell_type": "markdown",
      "source": [
        "# Histogram for training values"
      ],
      "metadata": {
        "id": "g6VO-fNxrWh5"
      }
    },
    {
      "cell_type": "code",
      "source": [
        "# histogram of lengths of training sequences\n",
        "plt.hist(train_lengths, bins='auto')"
      ],
      "metadata": {
        "colab": {
          "base_uri": "https://localhost:8080/",
          "height": 1000
        },
        "id": "ZUP8rCvCo716",
        "outputId": "a929f395-4640-4d98-d832-f0eee3f7a94c"
      },
      "execution_count": 10,
      "outputs": [
        {
          "output_type": "execute_result",
          "data": {
            "text/plain": [
              "(array([152., 383., 229., 301., 297., 245., 212., 162., 103., 111.,  76.,\n",
              "         67.,  87.,  49.,  42.,  37.,  23.,  27.,  22.,  25.,  17.,  16.,\n",
              "         14.,  13.,  13.,  10.,  19.,  15.,  11.,  16.,   4.,   6.,   8.,\n",
              "          8.,   2.,   5.,   3.,   5.,   5.,   5.,   6.,   4.,   4.,  11.,\n",
              "          5.,   2.,   6.,   4.,   8.,   1.,   0.,   1.,   3.,   1.,   1.,\n",
              "          2.,   1.,   2.,   0.,   2.,   1.,   2.,   3.,   0.,   0.,   0.,\n",
              "          0.,   1.,   1.,   3.,   0.,   1.,   1.,   0.,   0.,   1.,   0.,\n",
              "          0.,   0.,   2.,   0.,   0.,   0.,   0.,   1.,   1.,   0.,   1.,\n",
              "          0.,   0.,   1.,   0.,   0.,   0.,   0.,   1.,   2.,   0.,   0.,\n",
              "          1.,   0.,   0.,   0.,   2.,   0.,   0.,   0.,   0.,   0.,   0.,\n",
              "          1.,   1.,   0.,   0.,   0.,   0.,   0.,   0.,   0.,   0.,   0.,\n",
              "          0.,   0.,   0.,   0.,   1.,   0.,   0.,   0.,   0.,   0.,   1.]),\n",
              " array([4.00000000e+00, 5.17575758e+01, 9.95151515e+01, 1.47272727e+02,\n",
              "        1.95030303e+02, 2.42787879e+02, 2.90545455e+02, 3.38303030e+02,\n",
              "        3.86060606e+02, 4.33818182e+02, 4.81575758e+02, 5.29333333e+02,\n",
              "        5.77090909e+02, 6.24848485e+02, 6.72606061e+02, 7.20363636e+02,\n",
              "        7.68121212e+02, 8.15878788e+02, 8.63636364e+02, 9.11393939e+02,\n",
              "        9.59151515e+02, 1.00690909e+03, 1.05466667e+03, 1.10242424e+03,\n",
              "        1.15018182e+03, 1.19793939e+03, 1.24569697e+03, 1.29345455e+03,\n",
              "        1.34121212e+03, 1.38896970e+03, 1.43672727e+03, 1.48448485e+03,\n",
              "        1.53224242e+03, 1.58000000e+03, 1.62775758e+03, 1.67551515e+03,\n",
              "        1.72327273e+03, 1.77103030e+03, 1.81878788e+03, 1.86654545e+03,\n",
              "        1.91430303e+03, 1.96206061e+03, 2.00981818e+03, 2.05757576e+03,\n",
              "        2.10533333e+03, 2.15309091e+03, 2.20084848e+03, 2.24860606e+03,\n",
              "        2.29636364e+03, 2.34412121e+03, 2.39187879e+03, 2.43963636e+03,\n",
              "        2.48739394e+03, 2.53515152e+03, 2.58290909e+03, 2.63066667e+03,\n",
              "        2.67842424e+03, 2.72618182e+03, 2.77393939e+03, 2.82169697e+03,\n",
              "        2.86945455e+03, 2.91721212e+03, 2.96496970e+03, 3.01272727e+03,\n",
              "        3.06048485e+03, 3.10824242e+03, 3.15600000e+03, 3.20375758e+03,\n",
              "        3.25151515e+03, 3.29927273e+03, 3.34703030e+03, 3.39478788e+03,\n",
              "        3.44254545e+03, 3.49030303e+03, 3.53806061e+03, 3.58581818e+03,\n",
              "        3.63357576e+03, 3.68133333e+03, 3.72909091e+03, 3.77684848e+03,\n",
              "        3.82460606e+03, 3.87236364e+03, 3.92012121e+03, 3.96787879e+03,\n",
              "        4.01563636e+03, 4.06339394e+03, 4.11115152e+03, 4.15890909e+03,\n",
              "        4.20666667e+03, 4.25442424e+03, 4.30218182e+03, 4.34993939e+03,\n",
              "        4.39769697e+03, 4.44545455e+03, 4.49321212e+03, 4.54096970e+03,\n",
              "        4.58872727e+03, 4.63648485e+03, 4.68424242e+03, 4.73200000e+03,\n",
              "        4.77975758e+03, 4.82751515e+03, 4.87527273e+03, 4.92303030e+03,\n",
              "        4.97078788e+03, 5.01854545e+03, 5.06630303e+03, 5.11406061e+03,\n",
              "        5.16181818e+03, 5.20957576e+03, 5.25733333e+03, 5.30509091e+03,\n",
              "        5.35284848e+03, 5.40060606e+03, 5.44836364e+03, 5.49612121e+03,\n",
              "        5.54387879e+03, 5.59163636e+03, 5.63939394e+03, 5.68715152e+03,\n",
              "        5.73490909e+03, 5.78266667e+03, 5.83042424e+03, 5.87818182e+03,\n",
              "        5.92593939e+03, 5.97369697e+03, 6.02145455e+03, 6.06921212e+03,\n",
              "        6.11696970e+03, 6.16472727e+03, 6.21248485e+03, 6.26024242e+03,\n",
              "        6.30800000e+03]),\n",
              " <a list of 132 Patch objects>)"
            ]
          },
          "metadata": {},
          "execution_count": 10
        },
        {
          "output_type": "display_data",
          "data": {
            "text/plain": [
              "<Figure size 432x288 with 1 Axes>"
            ],
            "image/png": "[encoded data removed]"
          },
          "metadata": {
            "needs_background": "light"
          }
        }
      ]
    },
    {
      "cell_type": "code",
      "source": [
        "min(train_lengths), max(train_lengths)"
      ],
      "metadata": {
        "id": "fkSg5eaga6cG",
        "colab": {
          "base_uri": "https://localhost:8080/"
        },
        "outputId": "55a4108a-a490-482b-c412-f42aaeab7d68"
      },
      "execution_count": 11,
      "outputs": [
        {
          "output_type": "execute_result",
          "data": {
            "text/plain": [
              "(4, 6308)"
            ]
          },
          "metadata": {},
          "execution_count": 11
        }
      ]
    },
    {
      "cell_type": "markdown",
      "source": [
        "# Model"
      ],
      "metadata": {
        "id": "CmMtriGMPSVa"
      }
    },
    {
      "cell_type": "code",
      "source": [
        "class LSTM_Seq_Regressor(nn.Module):\n",
        "\n",
        "    def __init__(self, input_size, hidden_size, num_layers, out_size):\n",
        "        super().__init__()\n",
        "        self.num_layers = num_layers\n",
        "        self.hidden_size = hidden_size\n",
        "        self.proj_size = out_size\n",
        "        self.lstm = nn.LSTM(input_size = input_size, hidden_size = hidden_size, num_layers = num_layers, proj_size = out_size)\n",
        "        \n",
        "    def init_hidden(self, batch_size):\n",
        "        hidden = torch.zeros(self.num_layers, batch_size, self.proj_size)\n",
        "        state = torch.zeros(self.num_layers, batch_size, self.hidden_size)\n",
        "        return hidden, state\n",
        "    \n",
        "    def forward(self, x, hidden):\n",
        "        # x = torch.transpose(x, 0, 1)\n",
        "        all_outputs, hidden = self.lstm(x, hidden)\n",
        "        # all_outputs = torch.transpose(all_outputs, 0, 1)\n",
        "        return all_outputs, hidden\n",
        "    "
      ],
      "metadata": {
        "id": "W2TSYGhAa6i-"
      },
      "execution_count": 12,
      "outputs": []
    },
    {
      "cell_type": "code",
      "source": [
        "    \n",
        "model = LSTM_Seq_Regressor(1, 200, 1, 5).to(device)\n",
        "model"
      ],
      "metadata": {
        "colab": {
          "base_uri": "https://localhost:8080/"
        },
        "id": "M3kLQzbaPTow",
        "outputId": "2ceee226-f10f-4302-81ba-882eb6d93868"
      },
      "execution_count": 13,
      "outputs": [
        {
          "output_type": "execute_result",
          "data": {
            "text/plain": [
              "LSTM_Seq_Regressor(\n",
              "  (lstm): LSTM(1, 200, proj_size=5)\n",
              ")"
            ]
          },
          "metadata": {},
          "execution_count": 13
        }
      ]
    },
    {
      "cell_type": "code",
      "source": [
        "from torch.utils.data import Dataset\n",
        "\n",
        "class VariableLenDataset(Dataset):\n",
        "    def __init__(self, in_data, target):\n",
        "        self.data = [(x, y) for x, y in zip(in_data, target)]      \n",
        "\n",
        "    def __len__(self):\n",
        "        return len(self.data)\n",
        "\n",
        "    def __getitem__(self, idx):\n",
        "        in_data, target = self.data[idx]\n",
        "        return in_data, target"
      ],
      "metadata": {
        "id": "0a24j9vdPTrr"
      },
      "execution_count": 14,
      "outputs": []
    },
    {
      "cell_type": "markdown",
      "source": [
        "# Padding"
      ],
      "metadata": {
        "id": "SItHYahBR0BR"
      }
    },
    {
      "cell_type": "code",
      "source": [
        "from random import shuffle\n",
        "from math import floor\n",
        "\n",
        "# converting train to tensors\n",
        "# train = [[torch.from_numpy(t[0].astype(int)).float(), torch.from_numpy(np.ndarray([int(t[1])]))] for t in train]\n",
        "train_data = [[torch.from_numpy(t[0].astype(int)).float(), int(t[1])] for t in train]\n",
        "\n",
        "dataset_length = len(train_data)\n",
        "val_size = floor(dataset_length * VALIDATION_PERCENTAGE)\n",
        "train_size = dataset_length - val_size\n",
        "\n",
        "train_subset, val_subset = torch.utils.data.random_split(train_data, [train_size, val_size])\n",
        "\n",
        "train_subset_data = [item[0] for item in train_subset]\n",
        "train_subset_targets = [item[1] for item in train_subset]\n",
        "\n",
        "val_subset_data = [item[0] for item in val_subset]\n",
        "val_subset_targets = [item[1] for item in val_subset]\n",
        "\n",
        "train_set = VariableLenDataset(train_subset_data, train_subset_targets)\n",
        "val_set = VariableLenDataset(val_subset_data, val_subset_targets)"
      ],
      "metadata": {
        "id": "sEm_rXS2TX4r"
      },
      "execution_count": 15,
      "outputs": []
    },
    {
      "cell_type": "code",
      "source": [
        "# len(train[0][0].astype(int))"
      ],
      "metadata": {
        "id": "13fTQ1QafOXp"
      },
      "execution_count": 16,
      "outputs": []
    },
    {
      "cell_type": "code",
      "source": [
        "# np.ndarray(train[0][0].astype(int))"
      ],
      "metadata": {
        "id": "y-puBqRVe3Ev"
      },
      "execution_count": 17,
      "outputs": []
    },
    {
      "cell_type": "code",
      "source": [
        "# [[torch.from_numpy(t[0].astype(int)), int(t[1])] for t in train]"
      ],
      "metadata": {
        "id": "nAZiFy9heEC6"
      },
      "execution_count": 18,
      "outputs": []
    },
    {
      "cell_type": "code",
      "source": [
        "from torch.nn.utils.rnn import pad_sequence, pack_padded_sequence, pad_packed_sequence\n",
        "\n",
        "pad = 0\n",
        "\n",
        "def pad_collate(batch, pad_value=0):\n",
        "    xx, yy = zip(*batch)\n",
        "    x_lens = [len(x) for x in xx]\n",
        "\n",
        "    xx_pad = pad_sequence(xx, batch_first=True, padding_value=pad_value)\n",
        "\n",
        "    return xx_pad, yy\n",
        "\n",
        "# def pad_collate(batch, pad_value=0):\n",
        "#     xx, yy = zip(*batch)\n",
        "#     x_lens = [len(x) for x in xx]\n",
        "#     y_lens = [1 for y in yy]\n",
        "\n",
        "#     xx_pad = pad_sequence(xx, batch_first=True, padding_value=pad_value)\n",
        "#     # yy_pad = pad_sequence(yy, batch_first=True, padding_value=pad_value)\n",
        "\n",
        "#     return xx_pad, yy, x_lens, y_lens"
      ],
      "metadata": {
        "id": "BvgU5pn2PTua"
      },
      "execution_count": 19,
      "outputs": []
    },
    {
      "cell_type": "code",
      "source": [
        "train_loader = DataLoader(train_set, batch_size=batch_size, shuffle=True, collate_fn=pad_collate)\n",
        "val_loader = DataLoader(val_set, batch_size=batch_size, shuffle=True, collate_fn=pad_collate)"
      ],
      "metadata": {
        "id": "p8ShbxngPTxK"
      },
      "execution_count": 20,
      "outputs": []
    },
    {
      "cell_type": "code",
      "source": [
        "next(iter(train_loader))"
      ],
      "metadata": {
        "colab": {
          "base_uri": "https://localhost:8080/"
        },
        "id": "rI2H1pWKZyMu",
        "outputId": "910df45c-d02a-44e7-826c-c887ce4ae852"
      },
      "execution_count": 21,
      "outputs": [
        {
          "output_type": "execute_result",
          "data": {
            "text/plain": [
              "(tensor([[ -1.,  -1.,  -1.,  ...,  12.,  -1.,  -1.],\n",
              "         [ -1.,  -1.,  -1.,  ...,   0.,   0.,   0.],\n",
              "         [  2.,  95.,  29.,  ...,   0.,   0.,   0.],\n",
              "         ...,\n",
              "         [132.,  92.,  28.,  ...,   0.,   0.,   0.],\n",
              "         [  0.,  88., 159.,  ...,   0.,   0.,   0.],\n",
              "         [ 32.,  79.,  79.,  ...,   0.,   0.,   0.]]),\n",
              " (1, 0, 3, 3, 0, 0, 0, 3))"
            ]
          },
          "metadata": {},
          "execution_count": 21
        }
      ]
    },
    {
      "cell_type": "code",
      "source": [
        "# optimizer = torch.optim.Adam(model.parameters(), lr=0.001)\n",
        "# loss_fun = nn.MSELoss()\n",
        "\n",
        "# # Training loop\n",
        "# for epoch in range(101):\n",
        "#     for x, targets in train_loader:\n",
        "#         x = x.to(device).unsqueeze(2)\n",
        "#         # targets = targets.to(device)\n",
        "#         hidden, state = model.init_hidden(x.size(0))\n",
        "#         hidden, state = hidden.to(device), state.to(device) \n",
        "\n",
        "#         targets = torch.from_numpy(np.asarray(targets))\n",
        "        \n",
        "#         x = torch.transpose(x, 0, 1)\n",
        "#         preds, _ = model(x, (hidden, state))\n",
        "#         preds = torch.transpose(preds, 0, 1)\n",
        "\n",
        "#         # print(x)\n",
        "        \n",
        "#         # x_lens = [len(xx) for xx in x]\n",
        "#         # x_packed = pack_padded_sequence(x, x_lens, batch_first=True, enforce_sorted=False)\n",
        "#         # print(\"XPACKED\", x_packed.data)\n",
        "#         # preds_packed, _ = model(x_packed, (hidden, state))\n",
        "#         # preds, pred_len = pad_packed_sequence(preds_packed, batch_first=True, padding_value=pad)\n",
        "        \n",
        "#         preds = preds.squeeze(2)\n",
        "#         print(preds.shape)\n",
        "#         print(targets)\n",
        "#         optimizer.zero_grad()\n",
        "#         mask = targets != pad\n",
        "#         print(\"A\", preds)\n",
        "#         print(\"V\", targets)\n",
        "#         loss = loss_fun(preds[mask], targets[mask])\n",
        "#         loss.backward()\n",
        "#         optimizer.step()\n",
        "#     if epoch % 10 == 0:\n",
        "#         print(f\"Epoch: {epoch}, loss: {loss.item():.3}\")"
      ],
      "metadata": {
        "id": "HS7G0eLnSg_v"
      },
      "execution_count": 22,
      "outputs": []
    },
    {
      "cell_type": "code",
      "source": [
        "%%time\n",
        "\n",
        "optimizer = torch.optim.Adam(model.parameters(), lr = 0.001)\n",
        "loss_fun = nn.CrossEntropyLoss()\n",
        "\n",
        "epochs, losses, train_acc, val_acc = [], [], [], []\n",
        "\n",
        "# Training loop\n",
        "for epoch in range(200):\n",
        "    epoch_loss = 0\n",
        "    train_accuracy = 0\n",
        "    val_accuracy = 0\n",
        "\n",
        "    for x, targets in train_loader:\n",
        "        model.train()\n",
        "        # print(\"X\", x.shape)\n",
        "        targets = torch.from_numpy(np.asarray(targets))\n",
        "        # print(\"TARGETS\", targets.shape)\n",
        "        x = x.to(device).unsqueeze(2)\n",
        "#         x = x.unsqueeze(2)\n",
        "        # print(\"X\", x.shape)\n",
        "        targets = targets.to(device)\n",
        "        # print(x.size(0))\n",
        "        hidden, state = model.init_hidden(x.size(1))\n",
        "        hidden, state = hidden.to(device), state.to(device) \n",
        "        # print('X SHAPE', x.shape)\n",
        "        # print('PREDS SHAPE', x.shape)\n",
        "        # print(\"HIDDEN SHAPE\", hidden.shape)\n",
        "        preds, _ = model(x, (hidden,state))\n",
        "        preds = preds.squeeze(2)\n",
        "        optimizer.zero_grad()\n",
        "\n",
        "        \n",
        "        # print(preds.shape)\n",
        "        # print(targets.shape)\n",
        "        preds = preds[:,:, 4]\n",
        "        loss = loss_fun(preds, targets)\n",
        "        loss.backward()\n",
        "        optimizer.step()\n",
        "\n",
        "        # save the current training information\n",
        "        epoch_loss += float(loss)\n",
        "        # train_accuracy += get_accuracy(model, train)\n",
        "        # val_accuracy += get_accuracy(model, valid)\n",
        "\n",
        "    losses.append(loss.item())\n",
        "    epochs.append(epoch)\n",
        "    # train_acc.append(train_accuracy/len(train_loader))\n",
        "    # val_acc.append(val_accuracy/len(train_loader))\n",
        "    # if epoch % 10 == 0:\n",
        "    print(f\"Epoch: {epoch}, loss: {loss.item():.3}\")"
      ],
      "metadata": {
        "colab": {
          "base_uri": "https://localhost:8080/"
        },
        "id": "vAWo9YRg3BLo",
        "outputId": "e637969a-e97b-4541-f783-ba67fb8de14d"
      },
      "execution_count": 23,
      "outputs": [
        {
          "output_type": "stream",
          "name": "stdout",
          "text": [
            "Epoch: 0, loss: 7.05\n",
            "Epoch: 1, loss: 3.03\n",
            "Epoch: 2, loss: 3.36\n",
            "Epoch: 3, loss: 5.2\n",
            "Epoch: 4, loss: 6.27\n",
            "Epoch: 5, loss: 5.21\n",
            "Epoch: 6, loss: 5.17\n",
            "Epoch: 7, loss: 4.08\n",
            "Epoch: 8, loss: 4.51\n",
            "Epoch: 9, loss: 3.37\n",
            "Epoch: 10, loss: 2.6\n",
            "Epoch: 11, loss: 3.2\n",
            "Epoch: 12, loss: 2.1\n",
            "Epoch: 13, loss: 2.38\n",
            "Epoch: 14, loss: 1.41\n",
            "Epoch: 15, loss: 2.59\n",
            "Epoch: 16, loss: 1.81\n",
            "Epoch: 17, loss: 6.97\n",
            "Epoch: 18, loss: 1.43\n",
            "Epoch: 19, loss: 2.14\n",
            "Epoch: 20, loss: 5.33\n",
            "Epoch: 21, loss: 7.45\n",
            "Epoch: 22, loss: 4.36\n",
            "Epoch: 23, loss: 1.54\n",
            "Epoch: 24, loss: 7.71\n",
            "Epoch: 25, loss: 6.04\n",
            "Epoch: 26, loss: 1.11\n",
            "Epoch: 27, loss: 2.5\n",
            "Epoch: 28, loss: 4.78\n",
            "Epoch: 29, loss: 1.6\n",
            "Epoch: 30, loss: 3.98\n",
            "Epoch: 31, loss: 5.48\n",
            "Epoch: 32, loss: 2.06\n",
            "Epoch: 33, loss: 3.14\n",
            "Epoch: 34, loss: 5.24\n",
            "Epoch: 35, loss: 4.59\n",
            "Epoch: 36, loss: 2.15\n",
            "Epoch: 37, loss: 1.21\n",
            "Epoch: 38, loss: 2.31\n",
            "Epoch: 39, loss: 5.43\n",
            "Epoch: 40, loss: 2.14\n",
            "Epoch: 41, loss: 6.76\n",
            "Epoch: 42, loss: 3.15\n",
            "Epoch: 43, loss: 1.44\n",
            "Epoch: 44, loss: 5.2\n",
            "Epoch: 45, loss: 5.9\n",
            "Epoch: 46, loss: 3.16\n",
            "Epoch: 47, loss: 5.55\n",
            "Epoch: 48, loss: 1.08\n",
            "Epoch: 49, loss: 3.04\n",
            "Epoch: 50, loss: 3.27\n",
            "Epoch: 51, loss: 1.09\n",
            "Epoch: 52, loss: 3.35\n",
            "Epoch: 53, loss: 3.58\n",
            "Epoch: 54, loss: 4.51\n",
            "Epoch: 55, loss: 5.35\n",
            "Epoch: 56, loss: 7.49\n",
            "Epoch: 57, loss: 1.89\n",
            "Epoch: 58, loss: 2.98\n",
            "Epoch: 59, loss: 5.6\n",
            "Epoch: 60, loss: 1.07\n",
            "Epoch: 61, loss: 2.65\n",
            "Epoch: 62, loss: 5.46\n",
            "Epoch: 63, loss: 3.23\n",
            "Epoch: 64, loss: 3.29\n",
            "Epoch: 65, loss: 3.04\n",
            "Epoch: 66, loss: 6.55\n",
            "Epoch: 67, loss: 3.11\n",
            "Epoch: 68, loss: 4.91\n",
            "Epoch: 69, loss: 2.69\n",
            "Epoch: 70, loss: 3.95\n",
            "Epoch: 71, loss: 4.45\n",
            "Epoch: 72, loss: 3.91\n",
            "Epoch: 73, loss: 4.7\n",
            "Epoch: 74, loss: 3.76\n",
            "Epoch: 75, loss: 4.12\n",
            "Epoch: 76, loss: 4.07\n",
            "Epoch: 77, loss: 4.26\n",
            "Epoch: 78, loss: 1.73\n",
            "Epoch: 79, loss: 4.63\n",
            "Epoch: 80, loss: 2.52\n",
            "Epoch: 81, loss: 5.44\n",
            "Epoch: 82, loss: 3.19\n",
            "Epoch: 83, loss: 6.66\n",
            "Epoch: 84, loss: 3.75\n",
            "Epoch: 85, loss: 2.79\n",
            "Epoch: 86, loss: 2.44\n",
            "Epoch: 87, loss: 4.05\n",
            "Epoch: 88, loss: 3.32\n",
            "Epoch: 89, loss: 2.97\n",
            "Epoch: 90, loss: 7.24\n",
            "Epoch: 91, loss: 2.68\n",
            "Epoch: 92, loss: 1.2\n",
            "Epoch: 93, loss: 2.46\n",
            "Epoch: 94, loss: 4.17\n",
            "Epoch: 95, loss: 0.74\n",
            "Epoch: 96, loss: 6.49\n",
            "Epoch: 97, loss: 2.79\n",
            "Epoch: 98, loss: 4.64\n",
            "Epoch: 99, loss: 2.55\n",
            "Epoch: 100, loss: 5.73\n",
            "Epoch: 101, loss: 5.61\n",
            "Epoch: 102, loss: 4.8\n",
            "Epoch: 103, loss: 5.71\n",
            "Epoch: 104, loss: 6.54\n",
            "Epoch: 105, loss: 3.28\n",
            "Epoch: 106, loss: 1.99\n",
            "Epoch: 107, loss: 1.67\n",
            "Epoch: 108, loss: 3.65\n",
            "Epoch: 109, loss: 6.65\n",
            "Epoch: 110, loss: 2.82\n",
            "Epoch: 111, loss: 4.7\n",
            "Epoch: 112, loss: 3.73\n",
            "Epoch: 113, loss: 2.15\n",
            "Epoch: 114, loss: 5.03\n",
            "Epoch: 115, loss: 4.74\n",
            "Epoch: 116, loss: 2.82\n",
            "Epoch: 117, loss: 4.68\n",
            "Epoch: 118, loss: 5.04\n",
            "Epoch: 119, loss: 3.96\n",
            "Epoch: 120, loss: 2.99\n",
            "Epoch: 121, loss: 4.89\n",
            "Epoch: 122, loss: 3.05\n",
            "Epoch: 123, loss: 5.89\n",
            "Epoch: 124, loss: 4.09\n",
            "Epoch: 125, loss: 3.69\n",
            "Epoch: 126, loss: 2.87\n",
            "Epoch: 127, loss: 3.74\n",
            "Epoch: 128, loss: 2.11\n",
            "Epoch: 129, loss: 5.59\n",
            "Epoch: 130, loss: 3.81\n",
            "Epoch: 131, loss: 3.52\n",
            "Epoch: 132, loss: 2.62\n",
            "Epoch: 133, loss: 2.02\n",
            "Epoch: 134, loss: 1.95\n",
            "Epoch: 135, loss: 5.42\n",
            "Epoch: 136, loss: 1.8\n",
            "Epoch: 137, loss: 4.81\n",
            "Epoch: 138, loss: 2.48\n",
            "Epoch: 139, loss: 5.57\n",
            "Epoch: 140, loss: 4.6\n",
            "Epoch: 141, loss: 3.45\n",
            "Epoch: 142, loss: 7.6\n",
            "Epoch: 143, loss: 3.76\n",
            "Epoch: 144, loss: 3.25\n",
            "Epoch: 145, loss: 2.38\n",
            "Epoch: 146, loss: 3.52\n",
            "Epoch: 147, loss: 1.96\n",
            "Epoch: 148, loss: 2.67\n",
            "Epoch: 149, loss: 5.82\n",
            "Epoch: 150, loss: 3.79\n",
            "Epoch: 151, loss: 3.03\n",
            "Epoch: 152, loss: 2.48\n",
            "Epoch: 153, loss: 1.23\n",
            "Epoch: 154, loss: 6.27\n",
            "Epoch: 155, loss: 5.83\n",
            "Epoch: 156, loss: 2.62\n",
            "Epoch: 157, loss: 5.52\n",
            "Epoch: 158, loss: 4.49\n",
            "Epoch: 159, loss: 5.77\n",
            "Epoch: 160, loss: 3.47\n",
            "Epoch: 161, loss: 4.2\n",
            "Epoch: 162, loss: 5.75\n",
            "Epoch: 163, loss: 3.23\n",
            "Epoch: 164, loss: 4.55\n",
            "Epoch: 165, loss: 2.61\n",
            "Epoch: 166, loss: 2.47\n",
            "Epoch: 167, loss: 2.35\n",
            "Epoch: 168, loss: 3.36\n",
            "Epoch: 169, loss: 1.74\n",
            "Epoch: 170, loss: 1.63\n",
            "Epoch: 171, loss: 3.93\n",
            "Epoch: 172, loss: 5.38\n",
            "Epoch: 173, loss: 2.41\n",
            "Epoch: 174, loss: 3.99\n",
            "Epoch: 175, loss: 3.86\n",
            "Epoch: 176, loss: 4.41\n",
            "Epoch: 177, loss: 3.39\n",
            "Epoch: 178, loss: 2.69\n",
            "Epoch: 179, loss: 3.3\n",
            "Epoch: 180, loss: 2.06\n",
            "Epoch: 181, loss: 2.61\n",
            "Epoch: 182, loss: 4.33\n",
            "Epoch: 183, loss: 3.98\n",
            "Epoch: 184, loss: 3.31\n",
            "Epoch: 185, loss: 5.26\n",
            "Epoch: 186, loss: 3.02\n",
            "Epoch: 187, loss: 3.31\n",
            "Epoch: 188, loss: 3.89\n",
            "Epoch: 189, loss: 3.05\n",
            "Epoch: 190, loss: 3.67\n",
            "Epoch: 191, loss: 4.01\n",
            "Epoch: 192, loss: 1.11\n",
            "Epoch: 193, loss: 3.01\n",
            "Epoch: 194, loss: 3.47\n",
            "Epoch: 195, loss: 3.53\n",
            "Epoch: 196, loss: 5.5\n",
            "Epoch: 197, loss: 5.55\n",
            "Epoch: 198, loss: 3.8\n",
            "Epoch: 199, loss: 8.36\n"
          ]
        }
      ]
    },
    {
      "cell_type": "code",
      "source": [
        "def plot_results(epochs, losses):\n",
        "    # plotting\n",
        "    plt.figure(figsize=(10,4))\n",
        "    plt.subplot(1,2,1)\n",
        "    plt.title(\"Training Curve\")\n",
        "    plt.plot(epochs, losses, label=\"Train\")\n",
        "    plt.xlabel(\"Iterations\")\n",
        "    plt.ylabel(\"Loss\")"
      ],
      "metadata": {
        "id": "K-s5mTUxSjOJ"
      },
      "execution_count": 24,
      "outputs": []
    },
    {
      "cell_type": "code",
      "source": [
        "plot_results(epochs, losses)\n"
      ],
      "metadata": {
        "id": "iCwAflsXSjQz",
        "colab": {
          "base_uri": "https://localhost:8080/",
          "height": 295
        },
        "outputId": "888dfea1-f82a-417b-879e-adcd4c784184"
      },
      "execution_count": 25,
      "outputs": [
        {
          "output_type": "display_data",
          "data": {
            "text/plain": [
              "<Figure size 720x288 with 1 Axes>"
            ],
            "image/png": "[encoded data removed]"
          },
          "metadata": {
            "needs_background": "light"
          }
        }
      ]
    },
    {
      "cell_type": "code",
      "source": [],
      "metadata": {
        "id": "IRRY-gJRiSIR"
      },
      "execution_count": 25,
      "outputs": []
    }
  ]
}