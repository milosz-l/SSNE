{
  "nbformat": 4,
  "nbformat_minor": 0,
  "metadata": {
    "colab": {
      "provenance": [],
      "collapsed_sections": [
        "g6VO-fNxrWh5"
      ],
      "machine_shape": "hm"
    },
    "kernelspec": {
      "name": "python3",
      "display_name": "Python 3"
    },
    "language_info": {
      "name": "python"
    },
    "accelerator": "GPU",
    "gpuClass": "standard"
  },
  "cells": [
    {
      "cell_type": "markdown",
      "source": [
        "# Imports, setting up device and seeds\n"
      ],
      "metadata": {
        "id": "bWqIz6BsrIZU"
      }
    },
    {
      "cell_type": "code",
      "source": [
        "import torch\n",
        "from torch import nn\n",
        "import torchvision\n",
        "import torchvision.transforms as transforms\n",
        "import pandas as pd\n",
        "import numpy as np\n",
        "\n",
        "import matplotlib.pyplot as plt\n",
        "import numpy as np\n",
        " \n",
        "import torch.nn as nn\n",
        "import torch.nn.functional as F\n",
        "\n",
        "from torch.utils.data import DataLoader"
      ],
      "metadata": {
        "id": "-RiHHnHEi7Vc"
      },
      "execution_count": 1,
      "outputs": []
    },
    {
      "cell_type": "code",
      "source": [
        "import os\n",
        "import random\n",
        "\n",
        "def set_all_seeds(seed):\n",
        "    os.environ[\"PL_GLOBAL_SEED\"] = str(seed)\n",
        "    random.seed(seed)\n",
        "    np.random.seed(seed)\n",
        "    torch.manual_seed(seed)\n",
        "    torch.cuda.manual_seed_all(seed)\n",
        "\n",
        "set_all_seeds(42)"
      ],
      "metadata": {
        "id": "dF7Jzby3i-I6"
      },
      "execution_count": 2,
      "outputs": []
    },
    {
      "cell_type": "code",
      "source": [
        "# torch.cuda.set_device(1)\n",
        "device = torch.device(\"cuda\")\n",
        "# device = torch.device('mps')\n",
        "# device = torch.device('cpu')"
      ],
      "metadata": {
        "id": "-BCkcrW5i9kE"
      },
      "execution_count": 3,
      "outputs": []
    },
    {
      "cell_type": "markdown",
      "source": [
        "# Google drive"
      ],
      "metadata": {
        "id": "O6kRoxN_Mq60"
      }
    },
    {
      "cell_type": "code",
      "source": [
        "from google.colab import drive\n",
        "drive.mount('/content/drive')"
      ],
      "metadata": {
        "colab": {
          "base_uri": "https://localhost:8080/"
        },
        "outputId": "1e1a790c-fe15-4640-994a-6cd57358a8d1",
        "id": "s3TMSAqEMq62"
      },
      "execution_count": 4,
      "outputs": [
        {
          "output_type": "stream",
          "name": "stdout",
          "text": [
            "Drive already mounted at /content/drive; to attempt to forcibly remount, call drive.mount(\"/content/drive\", force_remount=True).\n"
          ]
        }
      ]
    },
    {
      "cell_type": "code",
      "source": [
        "import os\n",
        "os.chdir(\"/content/drive/My Drive/Colab Notebooks/SSNE_colab/C9(M4)\")"
      ],
      "metadata": {
        "id": "y10hmgNKMq62"
      },
      "execution_count": 5,
      "outputs": []
    },
    {
      "cell_type": "markdown",
      "source": [
        "# Constants"
      ],
      "metadata": {
        "id": "zDc0baBsXVGd"
      }
    },
    {
      "cell_type": "code",
      "source": [
        "VALIDATION_PERCENTAGE = 0.10\n",
        "batch_size = 8\n",
        "TRAIN_PATH = 'train.pkl'\n",
        "TEST_PATH = \"test_no_target.pkl\""
      ],
      "metadata": {
        "id": "sg6Nh9CXXT4U"
      },
      "execution_count": 6,
      "outputs": []
    },
    {
      "cell_type": "markdown",
      "source": [
        "# Reading training dataset"
      ],
      "metadata": {
        "id": "8b6UrS1rrOIe"
      }
    },
    {
      "cell_type": "code",
      "execution_count": 7,
      "metadata": {
        "id": "6lhaFNeLhusm"
      },
      "outputs": [],
      "source": [
        "import pickle\n",
        "\n",
        "with open(TRAIN_PATH, 'rb') as f:\n",
        "    train = pickle.load(f)"
      ]
    },
    {
      "cell_type": "code",
      "source": [
        "train_lengths = [len(train_song[0]) for train_song in train]"
      ],
      "metadata": {
        "id": "7eNmQAg1i7Yr"
      },
      "execution_count": 8,
      "outputs": []
    },
    {
      "cell_type": "code",
      "source": [
        "len(train_lengths)"
      ],
      "metadata": {
        "colab": {
          "base_uri": "https://localhost:8080/"
        },
        "id": "bjH5ziWn_4Po",
        "outputId": "ad4ea189-9ae0-478e-9c61-50754de33baf"
      },
      "execution_count": 9,
      "outputs": [
        {
          "output_type": "execute_result",
          "data": {
            "text/plain": [
              "2939"
            ]
          },
          "metadata": {},
          "execution_count": 9
        }
      ]
    },
    {
      "cell_type": "code",
      "source": [
        "type(train[0][0])"
      ],
      "metadata": {
        "colab": {
          "base_uri": "https://localhost:8080/"
        },
        "id": "09fGswPGVIFE",
        "outputId": "a85a13eb-e7bc-4076-88d9-f9f29b7dda12"
      },
      "execution_count": 10,
      "outputs": [
        {
          "output_type": "execute_result",
          "data": {
            "text/plain": [
              "numpy.ndarray"
            ]
          },
          "metadata": {},
          "execution_count": 10
        }
      ]
    },
    {
      "cell_type": "markdown",
      "source": [
        "# Histogram for training values"
      ],
      "metadata": {
        "id": "g6VO-fNxrWh5"
      }
    },
    {
      "cell_type": "code",
      "source": [
        "# histogram of lengths of training sequences\n",
        "plt.hist(train_lengths, bins='auto')"
      ],
      "metadata": {
        "colab": {
          "base_uri": "https://localhost:8080/",
          "height": 1000
        },
        "id": "ZUP8rCvCo716",
        "outputId": "2c4f5dff-a9c4-42db-e080-566db2703fc0"
      },
      "execution_count": 11,
      "outputs": [
        {
          "output_type": "execute_result",
          "data": {
            "text/plain": [
              "(array([152., 383., 229., 301., 297., 245., 212., 162., 103., 111.,  76.,\n",
              "         67.,  87.,  49.,  42.,  37.,  23.,  27.,  22.,  25.,  17.,  16.,\n",
              "         14.,  13.,  13.,  10.,  19.,  15.,  11.,  16.,   4.,   6.,   8.,\n",
              "          8.,   2.,   5.,   3.,   5.,   5.,   5.,   6.,   4.,   4.,  11.,\n",
              "          5.,   2.,   6.,   4.,   8.,   1.,   0.,   1.,   3.,   1.,   1.,\n",
              "          2.,   1.,   2.,   0.,   2.,   1.,   2.,   3.,   0.,   0.,   0.,\n",
              "          0.,   1.,   1.,   3.,   0.,   1.,   1.,   0.,   0.,   1.,   0.,\n",
              "          0.,   0.,   2.,   0.,   0.,   0.,   0.,   1.,   1.,   0.,   1.,\n",
              "          0.,   0.,   1.,   0.,   0.,   0.,   0.,   1.,   2.,   0.,   0.,\n",
              "          1.,   0.,   0.,   0.,   2.,   0.,   0.,   0.,   0.,   0.,   0.,\n",
              "          1.,   1.,   0.,   0.,   0.,   0.,   0.,   0.,   0.,   0.,   0.,\n",
              "          0.,   0.,   0.,   0.,   1.,   0.,   0.,   0.,   0.,   0.,   1.]),\n",
              " array([4.00000000e+00, 5.17575758e+01, 9.95151515e+01, 1.47272727e+02,\n",
              "        1.95030303e+02, 2.42787879e+02, 2.90545455e+02, 3.38303030e+02,\n",
              "        3.86060606e+02, 4.33818182e+02, 4.81575758e+02, 5.29333333e+02,\n",
              "        5.77090909e+02, 6.24848485e+02, 6.72606061e+02, 7.20363636e+02,\n",
              "        7.68121212e+02, 8.15878788e+02, 8.63636364e+02, 9.11393939e+02,\n",
              "        9.59151515e+02, 1.00690909e+03, 1.05466667e+03, 1.10242424e+03,\n",
              "        1.15018182e+03, 1.19793939e+03, 1.24569697e+03, 1.29345455e+03,\n",
              "        1.34121212e+03, 1.38896970e+03, 1.43672727e+03, 1.48448485e+03,\n",
              "        1.53224242e+03, 1.58000000e+03, 1.62775758e+03, 1.67551515e+03,\n",
              "        1.72327273e+03, 1.77103030e+03, 1.81878788e+03, 1.86654545e+03,\n",
              "        1.91430303e+03, 1.96206061e+03, 2.00981818e+03, 2.05757576e+03,\n",
              "        2.10533333e+03, 2.15309091e+03, 2.20084848e+03, 2.24860606e+03,\n",
              "        2.29636364e+03, 2.34412121e+03, 2.39187879e+03, 2.43963636e+03,\n",
              "        2.48739394e+03, 2.53515152e+03, 2.58290909e+03, 2.63066667e+03,\n",
              "        2.67842424e+03, 2.72618182e+03, 2.77393939e+03, 2.82169697e+03,\n",
              "        2.86945455e+03, 2.91721212e+03, 2.96496970e+03, 3.01272727e+03,\n",
              "        3.06048485e+03, 3.10824242e+03, 3.15600000e+03, 3.20375758e+03,\n",
              "        3.25151515e+03, 3.29927273e+03, 3.34703030e+03, 3.39478788e+03,\n",
              "        3.44254545e+03, 3.49030303e+03, 3.53806061e+03, 3.58581818e+03,\n",
              "        3.63357576e+03, 3.68133333e+03, 3.72909091e+03, 3.77684848e+03,\n",
              "        3.82460606e+03, 3.87236364e+03, 3.92012121e+03, 3.96787879e+03,\n",
              "        4.01563636e+03, 4.06339394e+03, 4.11115152e+03, 4.15890909e+03,\n",
              "        4.20666667e+03, 4.25442424e+03, 4.30218182e+03, 4.34993939e+03,\n",
              "        4.39769697e+03, 4.44545455e+03, 4.49321212e+03, 4.54096970e+03,\n",
              "        4.58872727e+03, 4.63648485e+03, 4.68424242e+03, 4.73200000e+03,\n",
              "        4.77975758e+03, 4.82751515e+03, 4.87527273e+03, 4.92303030e+03,\n",
              "        4.97078788e+03, 5.01854545e+03, 5.06630303e+03, 5.11406061e+03,\n",
              "        5.16181818e+03, 5.20957576e+03, 5.25733333e+03, 5.30509091e+03,\n",
              "        5.35284848e+03, 5.40060606e+03, 5.44836364e+03, 5.49612121e+03,\n",
              "        5.54387879e+03, 5.59163636e+03, 5.63939394e+03, 5.68715152e+03,\n",
              "        5.73490909e+03, 5.78266667e+03, 5.83042424e+03, 5.87818182e+03,\n",
              "        5.92593939e+03, 5.97369697e+03, 6.02145455e+03, 6.06921212e+03,\n",
              "        6.11696970e+03, 6.16472727e+03, 6.21248485e+03, 6.26024242e+03,\n",
              "        6.30800000e+03]),\n",
              " <a list of 132 Patch objects>)"
            ]
          },
          "metadata": {},
          "execution_count": 11
        },
        {
          "output_type": "display_data",
          "data": {
            "text/plain": [
              "<Figure size 432x288 with 1 Axes>"
            ],
            "image/png": "[encoded data removed]"
          },
          "metadata": {
            "needs_background": "light"
          }
        }
      ]
    },
    {
      "cell_type": "code",
      "source": [
        "min(train_lengths), max(train_lengths)"
      ],
      "metadata": {
        "id": "fkSg5eaga6cG",
        "colab": {
          "base_uri": "https://localhost:8080/"
        },
        "outputId": "abe1db57-d17f-4030-f111-cb809609b666"
      },
      "execution_count": 12,
      "outputs": [
        {
          "output_type": "execute_result",
          "data": {
            "text/plain": [
              "(4, 6308)"
            ]
          },
          "metadata": {},
          "execution_count": 12
        }
      ]
    },
    {
      "cell_type": "code",
      "source": [],
      "metadata": {
        "id": "XQvCZEwhCsTo"
      },
      "execution_count": 12,
      "outputs": []
    },
    {
      "cell_type": "code",
      "source": [
        "from torch.utils.data import Dataset\n",
        "\n",
        "class VariableLenDataset(Dataset):\n",
        "    def __init__(self, in_data, target):\n",
        "        self.data = [(x, y) for x, y in zip(in_data, target)]      \n",
        "\n",
        "    def __len__(self):\n",
        "        return len(self.data)\n",
        "\n",
        "    def __getitem__(self, idx):\n",
        "        in_data, target = self.data[idx]\n",
        "        return in_data, target"
      ],
      "metadata": {
        "id": "0a24j9vdPTrr"
      },
      "execution_count": 13,
      "outputs": []
    },
    {
      "cell_type": "markdown",
      "source": [
        "# Padding"
      ],
      "metadata": {
        "id": "SItHYahBR0BR"
      }
    },
    {
      "cell_type": "code",
      "source": [
        "from random import shuffle\n",
        "from math import floor\n",
        "\n",
        "# converting train to tensors\n",
        "# train = [[torch.from_numpy(t[0].astype(int)).float(), torch.from_numpy(np.ndarray([int(t[1])]))] for t in train]\n",
        "train_data = [[torch.from_numpy(t[0].astype(int)).float(), int(t[1])] for t in train]\n",
        "\n",
        "dataset_length = len(train_data)\n",
        "val_size = floor(dataset_length * VALIDATION_PERCENTAGE)\n",
        "train_size = dataset_length - val_size\n",
        "\n",
        "train_subset, val_subset = torch.utils.data.random_split(train_data, [train_size, val_size])\n",
        "\n",
        "train_subset_data = [item[0] for item in train_subset]\n",
        "train_subset_targets = [item[1] for item in train_subset]\n",
        "\n",
        "val_subset_data = [item[0] for item in val_subset]\n",
        "val_subset_targets = [item[1] for item in val_subset]\n",
        "\n",
        "train_set = VariableLenDataset(train_subset_data, train_subset_targets)\n",
        "val_set = VariableLenDataset(val_subset_data, val_subset_targets)"
      ],
      "metadata": {
        "id": "sEm_rXS2TX4r"
      },
      "execution_count": 14,
      "outputs": []
    },
    {
      "cell_type": "code",
      "source": [
        "from torch.nn.utils.rnn import pad_sequence, pack_padded_sequence, pad_packed_sequence\n",
        "\n",
        "pad = 0\n",
        "\n",
        "def pad_collate(batch, pad_value=0):\n",
        "    xx, yy = zip(*batch)\n",
        "    x_lens = [len(x) for x in xx]\n",
        "\n",
        "    xx_pad = pad_sequence(xx, batch_first=True, padding_value=pad_value)\n",
        "\n",
        "    return xx_pad, yy"
      ],
      "metadata": {
        "id": "BvgU5pn2PTua"
      },
      "execution_count": 15,
      "outputs": []
    },
    {
      "cell_type": "code",
      "source": [
        "train_loader = DataLoader(train_set, batch_size=batch_size, shuffle=True, collate_fn=pad_collate)\n",
        "val_loader = DataLoader(val_set, batch_size=batch_size, shuffle=True, collate_fn=pad_collate)"
      ],
      "metadata": {
        "id": "p8ShbxngPTxK"
      },
      "execution_count": 16,
      "outputs": []
    },
    {
      "cell_type": "code",
      "source": [
        "next(iter(train_loader))"
      ],
      "metadata": {
        "colab": {
          "base_uri": "https://localhost:8080/"
        },
        "id": "rI2H1pWKZyMu",
        "outputId": "831284ad-c626-4fed-aeaf-37d5e8fccf3e"
      },
      "execution_count": 17,
      "outputs": [
        {
          "output_type": "execute_result",
          "data": {
            "text/plain": [
              "(tensor([[145., 145.,  12.,  ...,   0.,   0.,   0.],\n",
              "         [ -1., 112.,  34.,  ...,   0.,   0.,   0.],\n",
              "         [ -1.,  -1.,  -1.,  ...,   0.,   0.,  -1.],\n",
              "         ...,\n",
              "         [110., 185.,  88.,  ...,   0.,   0.,   0.],\n",
              "         [ 12.,  12.,  12.,  ...,   0.,   0.,   0.],\n",
              "         [ 21., 116.,  21.,  ...,   0.,   0.,   0.]]),\n",
              " (0, 4, 1, 4, 3, 0, 0, 2))"
            ]
          },
          "metadata": {},
          "execution_count": 17
        }
      ]
    },
    {
      "cell_type": "markdown",
      "source": [
        "## weight classes"
      ],
      "metadata": {
        "id": "3UTKEgVJNDoe"
      }
    },
    {
      "cell_type": "code",
      "source": [
        "labels = [train_song[1] for train_song in train]\n",
        "labels = np.array(labels)"
      ],
      "metadata": {
        "id": "anmnEw6KNKrt"
      },
      "execution_count": 18,
      "outputs": []
    },
    {
      "cell_type": "code",
      "source": [
        "type(labels)"
      ],
      "metadata": {
        "colab": {
          "base_uri": "https://localhost:8080/"
        },
        "id": "b6dYzb2rQ3Iu",
        "outputId": "29baf575-6256-4561-aa22-9b88c006d1f4"
      },
      "execution_count": 19,
      "outputs": [
        {
          "output_type": "execute_result",
          "data": {
            "text/plain": [
              "numpy.ndarray"
            ]
          },
          "metadata": {},
          "execution_count": 19
        }
      ]
    },
    {
      "cell_type": "code",
      "source": [
        "plt.hist(labels)"
      ],
      "metadata": {
        "colab": {
          "base_uri": "https://localhost:8080/",
          "height": 336
        },
        "id": "9JJ6nau7Nr-V",
        "outputId": "34be9c49-0e57-4939-9194-b682a93fa9b9"
      },
      "execution_count": 20,
      "outputs": [
        {
          "output_type": "execute_result",
          "data": {
            "text/plain": [
              "(array([1630.,    0.,  478.,    0.,    0.,  154.,    0.,  441.,    0.,\n",
              "         236.]),\n",
              " array([0. , 0.4, 0.8, 1.2, 1.6, 2. , 2.4, 2.8, 3.2, 3.6, 4. ]),\n",
              " <a list of 10 Patch objects>)"
            ]
          },
          "metadata": {},
          "execution_count": 20
        },
        {
          "output_type": "display_data",
          "data": {
            "text/plain": [
              "<Figure size 432x288 with 1 Axes>"
            ],
            "image/png": "[encoded data removed]"
          },
          "metadata": {
            "needs_background": "light"
          }
        }
      ]
    },
    {
      "cell_type": "code",
      "source": [
        "from sklearn.utils.class_weight import compute_class_weight\n",
        "\n",
        "\n",
        "CLASS_WEIGHT= compute_class_weight(class_weight='balanced', classes=np.unique(labels).tolist(), y=labels.tolist())\n",
        "classes_weights = torch.tensor(np.array(CLASS_WEIGHT).astype('float32')).to(device)"
      ],
      "metadata": {
        "id": "PUQQOO4yO0KX"
      },
      "execution_count": 21,
      "outputs": []
    },
    {
      "cell_type": "code",
      "source": [
        "for class_idx, class_weight in zip(np.unique(labels), CLASS_WEIGHT):\n",
        "    print(class_idx, class_weight)"
      ],
      "metadata": {
        "colab": {
          "base_uri": "https://localhost:8080/"
        },
        "id": "bpuAaoBuR6L0",
        "outputId": "30115d79-7733-47a2-d606-315dd379ad6a"
      },
      "execution_count": 22,
      "outputs": [
        {
          "output_type": "stream",
          "name": "stdout",
          "text": [
            "0 0.3606134969325153\n",
            "1 1.2297071129707113\n",
            "2 3.8168831168831168\n",
            "3 1.3328798185941042\n",
            "4 2.490677966101695\n"
          ]
        }
      ]
    },
    {
      "cell_type": "markdown",
      "source": [
        "# Model"
      ],
      "metadata": {
        "id": "CmMtriGMPSVa"
      }
    },
    {
      "cell_type": "code",
      "source": [
        "class LSTMRegressor(nn.Module):\n",
        "\n",
        "    def __init__(self, input_size, hidden_size, num_layers, out_size, bidirectional = False):\n",
        "        super().__init__()\n",
        "        self.num_layers = num_layers\n",
        "        self.hidden_size = hidden_size\n",
        "        if bidirectional:\n",
        "            self.bidirectional = 2\n",
        "        else:\n",
        "            self.bidirectional = 1\n",
        "        self.lstm = nn.LSTM(input_size = input_size, hidden_size = hidden_size, num_layers = num_layers, bidirectional=bidirectional, dropout=0.4)\n",
        "        self.fc = nn.Linear(hidden_size, out_size)\n",
        "        \n",
        "    def init_hidden(self, batch_size):\n",
        "        hidden = torch.zeros(self.num_layers*self.bidirectional , batch_size, self.hidden_size)\n",
        "        state = torch.zeros(self.num_layers*self.bidirectional , batch_size, self.hidden_size)\n",
        "        return hidden, state\n",
        "    \n",
        "    def forward(self, x, hidden):\n",
        "        # pass the input through the LSTM layer\n",
        "        # print(x.shape)\n",
        "        # print(hidden[0].size(0))\n",
        "        out, _ = self.lstm(x, hidden)\n",
        "\n",
        "        # print(\"OUT\", out.shape)\n",
        "        \n",
        "        # get the last output of the LSTM layer\n",
        "        out = out[-1, :, :]\n",
        "\n",
        "        # print(\"OUT2\", out.shape)\n",
        "        \n",
        "        # pass the last output through the fully-connected layer\n",
        "        out = self.fc(out)\n",
        "\n",
        "        # print(\"OUT3\", out.shape)\n",
        "        \n",
        "        return out\n"
      ],
      "metadata": {
        "id": "W2TSYGhAa6i-"
      },
      "execution_count": 23,
      "outputs": []
    },
    {
      "cell_type": "code",
      "source": [
        "    \n",
        "model = LSTMRegressor(1,20,2,5).to(device)\n",
        "model"
      ],
      "metadata": {
        "colab": {
          "base_uri": "https://localhost:8080/"
        },
        "id": "M3kLQzbaPTow",
        "outputId": "47e7ff1d-d5ea-4948-9dc6-9268d81abb53"
      },
      "execution_count": 24,
      "outputs": [
        {
          "output_type": "execute_result",
          "data": {
            "text/plain": [
              "LSTMRegressor(\n",
              "  (lstm): LSTM(1, 20, num_layers=2, dropout=0.4)\n",
              "  (fc): Linear(in_features=20, out_features=5, bias=True)\n",
              ")"
            ]
          },
          "metadata": {},
          "execution_count": 24
        }
      ]
    },
    {
      "cell_type": "code",
      "source": [
        "def get_accuracy_per_class(model, loader, classes):\n",
        "\n",
        "    # prepare to count predictions for each class\n",
        "    correct_pred = {classname: 0 for classname in classes}\n",
        "    total_pred = {classname: 0 for classname in classes}\n",
        "    acurracy_sum = 0\n",
        "\n",
        "    # again no gradients needed\n",
        "    with torch.no_grad():\n",
        "        for x, targets in loader:\n",
        "        \n",
        "            targets = torch.from_numpy(np.asarray(targets))\n",
        "            # print(\"SHAPE X\", x.shape)\n",
        "            # print(\"SHAPE TARGETS\", targets.shape)\n",
        "            x = x.to(device).unsqueeze(2)\n",
        "            targets = targets.to(device)\n",
        "            hidden, state = model.init_hidden(x.size(0))\n",
        "            hidden, state = hidden.to(device), state.to(device) \n",
        "            x = torch.transpose(x, 0, 1)\n",
        "            preds = model(x, (hidden, state))\n",
        "            _, predictions = torch.max(preds, 1)\n",
        "\n",
        "            for label, prediction in zip(targets, predictions):\n",
        "                if label == prediction:\n",
        "                    correct_pred[classes[label]] += 1\n",
        "                total_pred[classes[label]] += 1\n",
        "\n",
        "    # print accuracy for each class\n",
        "    for classname, correct_count in correct_pred.items():\n",
        "        accuracy = 100 * float(correct_count) / total_pred[classname]\n",
        "        # print(\"Accuracy for class {:5s} is: {:.2f} %\".format(classname, \n",
        "        #                                                accuracy))\n",
        "        acurracy_sum += accuracy\n",
        "        \n",
        "    # print(\"Average accuracy for a class is: {:.2f} %\".format(acurracy_sum/len(classes)))\n",
        "    \n",
        "    # division by 100\n",
        "    return acurracy_sum/(len(classes) * 100)\n"
      ],
      "metadata": {
        "id": "dd1xinfuEMZv"
      },
      "execution_count": 25,
      "outputs": []
    },
    {
      "cell_type": "code",
      "source": [],
      "metadata": {
        "id": "BtpRHsY2EMcw"
      },
      "execution_count": 25,
      "outputs": []
    },
    {
      "cell_type": "code",
      "source": [],
      "metadata": {
        "id": "o4xsMjjQEMfL"
      },
      "execution_count": 25,
      "outputs": []
    },
    {
      "cell_type": "code",
      "source": [],
      "metadata": {
        "id": "xL2OKKBkEMh8"
      },
      "execution_count": 28,
      "outputs": []
    },
    {
      "cell_type": "markdown",
      "source": [
        "# Training"
      ],
      "metadata": {
        "id": "Sn-tXvwIG83R"
      }
    },
    {
      "cell_type": "code",
      "source": [
        "%%time\n",
        "optimizer = torch.optim.Adam(model.parameters(), lr=1e-3, weight_decay=1e-4)\n",
        "loss_fun = nn.CrossEntropyLoss(weight=classes_weights)\n",
        "\n",
        "epochs, losses, train_acc, val_acc, train_acc_per_class, val_acc_per_class  = [], [], [], [], [], []\n",
        "\n",
        "best_model = None\n",
        "best_model_acc = None\n",
        "\n",
        "# Training loop\n",
        "for epoch in range(300):\n",
        "    correct_train = 0\n",
        "    total_train = 0\n",
        "    for x, targets in train_loader:\n",
        "        targets = torch.from_numpy(np.asarray(targets))\n",
        "        # print(\"SHAPE X\", x.shape)\n",
        "        # print(\"SHAPE TARGETS\", targets.shape)\n",
        "        x = x.to(device).unsqueeze(2)\n",
        "        targets = targets.to(device)\n",
        "        hidden, state = model.init_hidden(x.size(0))\n",
        "        hidden, state = hidden.to(device), state.to(device) \n",
        "\n",
        "        # print(hidden.shape, state.shape)\n",
        "        \n",
        "        x = torch.transpose(x, 0, 1)\n",
        "        # print(\"A\")\n",
        "        preds = model(x, (hidden, state))\n",
        "        # print(\"B\")\n",
        "        # preds = torch.transpose(preds, 0, 1)\n",
        "        # preds = preds.squeeze(2)\n",
        "        # print(\"PREDS\", preds.shape)\n",
        "        # preds = preds[:,-1,:]\n",
        "        \n",
        "#         x_packed = pack_padded_sequence(x, x_len, batch_first=True, enforce_sorted=False)\n",
        "#         preds_packed, _ = model(x_packed, (hidden, state))\n",
        "#         preds, pred_len = pad_packed_sequence(preds_packed, batch_first=True, padding_value=pad)\n",
        "        \n",
        "        # preds = preds.squeeze(2)\n",
        "        optimizer.zero_grad()\n",
        "\n",
        "        loss = loss_fun(preds, targets)\n",
        "        loss.backward()\n",
        "        optimizer.step()\n",
        "\n",
        "        # get the predicted labels\n",
        "        _, predicted = torch.max(preds.data, 1)\n",
        "\n",
        "\n",
        "        # compute the accuracy\n",
        "        total_train += targets.size(0)\n",
        "        correct_train += (predicted == targets).sum().item()\n",
        "\n",
        "\n",
        "    losses.append(loss.item())\n",
        "    epochs.append(epoch)\n",
        "\n",
        "    # evaluate the model on the validation set\n",
        "    correct = 0\n",
        "    total = 0\n",
        "    for x, targets in val_loader:\n",
        "        targets = torch.from_numpy(np.asarray(targets))\n",
        "        # print(\"SHAPE X\", x.shape)\n",
        "        # print(\"SHAPE TARGETS\", targets.shape)\n",
        "        x = x.to(device).unsqueeze(2)\n",
        "        targets = targets.to(device)\n",
        "        hidden, state = model.init_hidden(x.size(0))\n",
        "        hidden, state = hidden.to(device), state.to(device) \n",
        "\n",
        "        # print(hidden.shape, state.shape)\n",
        "        \n",
        "        x = torch.transpose(x, 0, 1)\n",
        "        preds = model(x, (hidden, state))\n",
        "\n",
        "        # forward pass\n",
        "        outputs = model(x, (hidden, state))\n",
        "\n",
        "        # get the predicted labels\n",
        "        _, predicted = torch.max(outputs.data, 1)\n",
        "\n",
        "\n",
        "        # compute the accuracy\n",
        "        total += targets.size(0)\n",
        "        correct += (predicted == targets).sum().item()\n",
        "\n",
        "    # appending\n",
        "    train_acc.append(100 * correct_train / total_train)\n",
        "    val_acc.append(100 * correct / total)\n",
        "    train_acc_per_class_for_epoch = get_accuracy_per_class(model, train_loader, range(0, 5))\n",
        "    train_acc_per_class.append(train_acc_per_class_for_epoch)\n",
        "    val_acc_per_class_for_epoch = get_accuracy_per_class(model, val_loader, range(0, 5))\n",
        "    val_acc_per_class.append(val_acc_per_class_for_epoch)\n",
        "\n",
        "    if best_model is None or val_acc_per_class_for_epoch > best_model_acc:\n",
        "        # taking accuracy per class\n",
        "        best_model = model\n",
        "        best_model_acc = val_acc_per_class_for_epoch\n",
        "\n",
        "    # print the accuracy\n",
        "    print(f\"Epoch: {epoch}, loss: {loss.item():.3}\")\n",
        "    print(f\"Accuracy on the validation set: {100 * correct / total}\")\n",
        "    print(f\"Accuracy per class on train: {train_acc_per_class_for_epoch:.3}\")\n",
        "    print(f\"Accuracy per class on val: {val_acc_per_class_for_epoch:.3}\")"
      ],
      "metadata": {
        "colab": {
          "base_uri": "https://localhost:8080/"
        },
        "id": "vAWo9YRg3BLo",
        "outputId": "5e495388-2db9-41e4-f82d-3eaaf0dd00c1"
      },
      "execution_count": null,
      "outputs": [
        {
          "output_type": "stream",
          "name": "stdout",
          "text": [
            "Epoch: 0, loss: 0.569\n",
            "Accuracy on the validation set: 69.62457337883959\n",
            "Accuracy per class on train: 0.754\n",
            "Accuracy per class on val: 0.595\n",
            "Epoch: 1, loss: 0.373\n",
            "Accuracy on the validation set: 67.57679180887372\n",
            "Accuracy per class on train: 0.752\n",
            "Accuracy per class on val: 0.576\n",
            "Epoch: 2, loss: 1.09\n",
            "Accuracy on the validation set: 65.8703071672355\n",
            "Accuracy per class on train: 0.755\n",
            "Accuracy per class on val: 0.626\n",
            "Epoch: 3, loss: 0.492\n",
            "Accuracy on the validation set: 64.16382252559727\n",
            "Accuracy per class on train: 0.73\n",
            "Accuracy per class on val: 0.669\n",
            "Epoch: 4, loss: 0.757\n",
            "Accuracy on the validation set: 63.13993174061434\n",
            "Accuracy per class on train: 0.759\n",
            "Accuracy per class on val: 0.598\n",
            "Epoch: 5, loss: 1.1\n",
            "Accuracy on the validation set: 62.79863481228669\n",
            "Accuracy per class on train: 0.769\n",
            "Accuracy per class on val: 0.611\n",
            "Epoch: 6, loss: 0.108\n",
            "Accuracy on the validation set: 68.25938566552901\n",
            "Accuracy per class on train: 0.766\n",
            "Accuracy per class on val: 0.623\n",
            "Epoch: 7, loss: 0.562\n",
            "Accuracy on the validation set: 63.822525597269625\n",
            "Accuracy per class on train: 0.762\n",
            "Accuracy per class on val: 0.655\n",
            "Epoch: 8, loss: 0.475\n",
            "Accuracy on the validation set: 63.48122866894198\n",
            "Accuracy per class on train: 0.775\n",
            "Accuracy per class on val: 0.63\n",
            "Epoch: 9, loss: 0.291\n",
            "Accuracy on the validation set: 64.16382252559727\n",
            "Accuracy per class on train: 0.784\n",
            "Accuracy per class on val: 0.599\n",
            "Epoch: 10, loss: 0.412\n",
            "Accuracy on the validation set: 67.57679180887372\n",
            "Accuracy per class on train: 0.737\n",
            "Accuracy per class on val: 0.614\n",
            "Epoch: 11, loss: 0.793\n",
            "Accuracy on the validation set: 65.52901023890784\n",
            "Accuracy per class on train: 0.768\n",
            "Accuracy per class on val: 0.62\n",
            "Epoch: 12, loss: 0.805\n",
            "Accuracy on the validation set: 65.52901023890784\n",
            "Accuracy per class on train: 0.767\n",
            "Accuracy per class on val: 0.597\n",
            "Epoch: 13, loss: 0.222\n",
            "Accuracy on the validation set: 62.45733788395904\n",
            "Accuracy per class on train: 0.768\n",
            "Accuracy per class on val: 0.637\n",
            "Epoch: 14, loss: 0.25\n",
            "Accuracy on the validation set: 66.89419795221843\n",
            "Accuracy per class on train: 0.769\n",
            "Accuracy per class on val: 0.668\n",
            "Epoch: 15, loss: 1.31\n",
            "Accuracy on the validation set: 65.18771331058021\n",
            "Accuracy per class on train: 0.765\n",
            "Accuracy per class on val: 0.605\n",
            "Epoch: 16, loss: 0.594\n",
            "Accuracy on the validation set: 66.21160409556315\n",
            "Accuracy per class on train: 0.782\n",
            "Accuracy per class on val: 0.7\n",
            "Epoch: 17, loss: 0.797\n",
            "Accuracy on the validation set: 64.16382252559727\n",
            "Accuracy per class on train: 0.784\n",
            "Accuracy per class on val: 0.627\n",
            "Epoch: 18, loss: 0.988\n",
            "Accuracy on the validation set: 65.18771331058021\n",
            "Accuracy per class on train: 0.778\n",
            "Accuracy per class on val: 0.649\n",
            "Epoch: 19, loss: 0.611\n",
            "Accuracy on the validation set: 68.60068259385666\n",
            "Accuracy per class on train: 0.756\n",
            "Accuracy per class on val: 0.649\n",
            "Epoch: 20, loss: 0.584\n",
            "Accuracy on the validation set: 67.23549488054607\n",
            "Accuracy per class on train: 0.792\n",
            "Accuracy per class on val: 0.632\n",
            "Epoch: 21, loss: 0.566\n",
            "Accuracy on the validation set: 65.52901023890784\n",
            "Accuracy per class on train: 0.77\n",
            "Accuracy per class on val: 0.645\n",
            "Epoch: 22, loss: 0.322\n",
            "Accuracy on the validation set: 66.55290102389078\n",
            "Accuracy per class on train: 0.782\n",
            "Accuracy per class on val: 0.589\n",
            "Epoch: 23, loss: 0.499\n",
            "Accuracy on the validation set: 67.91808873720136\n",
            "Accuracy per class on train: 0.767\n",
            "Accuracy per class on val: 0.638\n",
            "Epoch: 24, loss: 0.969\n",
            "Accuracy on the validation set: 66.89419795221843\n",
            "Accuracy per class on train: 0.757\n",
            "Accuracy per class on val: 0.608\n",
            "Epoch: 25, loss: 0.369\n",
            "Accuracy on the validation set: 68.9419795221843\n",
            "Accuracy per class on train: 0.786\n",
            "Accuracy per class on val: 0.663\n",
            "Epoch: 26, loss: 0.352\n",
            "Accuracy on the validation set: 68.9419795221843\n",
            "Accuracy per class on train: 0.75\n",
            "Accuracy per class on val: 0.617\n",
            "Epoch: 27, loss: 0.163\n",
            "Accuracy on the validation set: 65.8703071672355\n",
            "Accuracy per class on train: 0.794\n",
            "Accuracy per class on val: 0.625\n",
            "Epoch: 28, loss: 0.613\n",
            "Accuracy on the validation set: 65.8703071672355\n",
            "Accuracy per class on train: 0.766\n",
            "Accuracy per class on val: 0.654\n",
            "Epoch: 29, loss: 0.777\n",
            "Accuracy on the validation set: 64.84641638225256\n",
            "Accuracy per class on train: 0.774\n",
            "Accuracy per class on val: 0.642\n",
            "Epoch: 30, loss: 0.84\n",
            "Accuracy on the validation set: 65.18771331058021\n",
            "Accuracy per class on train: 0.797\n",
            "Accuracy per class on val: 0.629\n",
            "Epoch: 31, loss: 0.437\n",
            "Accuracy on the validation set: 68.25938566552901\n",
            "Accuracy per class on train: 0.789\n",
            "Accuracy per class on val: 0.623\n"
          ]
        }
      ]
    },
    {
      "cell_type": "code",
      "source": [
        "def plot_results(epochs, losses, train_acc, val_acc, train_acc_per_class, val_acc_per_class):\n",
        "    # plotting\n",
        "    plt.figure(figsize=(20,70), dpi=30,)\n",
        "    # fig, axs = plt.subplots(2, 2, figsize=(15, 15))\n",
        "    fig, (ax1, ax2, ax3) = plt.subplots(1, 3, figsize=(15, 5))\n",
        "\n",
        "    plt.subplot(1,3,1)\n",
        "    plt.title(\"Training Curve\")\n",
        "    plt.plot(epochs, losses, label=\"Train\")\n",
        "    plt.xlabel(\"Iterations\")\n",
        "    plt.ylabel(\"Loss\")\n",
        "\n",
        "    plt.subplot(1,3,2)\n",
        "    plt.title(\"Accuracy\")\n",
        "    plt.plot(epochs, train_acc, label=\"Train\")\n",
        "    plt.plot(epochs, val_acc, label=\"Valid\")\n",
        "    plt.xlabel(\"Iterations\")\n",
        "    plt.ylabel(\"Accuracy\")\n",
        "\n",
        "    plt.subplot(1,3,3)\n",
        "    plt.title(\"Accuracy per class\")\n",
        "    plt.plot(epochs, train_acc_per_class, label=\"Train\")\n",
        "    plt.plot(epochs, val_acc_per_class, label=\"Valid\")\n",
        "    plt.xlabel(\"Iterations\")\n",
        "    plt.ylabel(\"Accuracy per class\")\n",
        "\n",
        "    fig.tight_layout()"
      ],
      "metadata": {
        "id": "K-s5mTUxSjOJ"
      },
      "execution_count": null,
      "outputs": []
    },
    {
      "cell_type": "code",
      "source": [
        "plot_results(epochs, losses, train_acc, val_acc, train_acc_per_class, val_acc_per_class)"
      ],
      "metadata": {
        "id": "iCwAflsXSjQz"
      },
      "execution_count": null,
      "outputs": []
    },
    {
      "cell_type": "code",
      "source": [
        "# saving model to file\n",
        "state_dict = model.state_dict()\n",
        "torch.save(state_dict, \"neural_net.tar\")"
      ],
      "metadata": {
        "id": "7wsHi_yyLtge"
      },
      "execution_count": null,
      "outputs": []
    },
    {
      "cell_type": "code",
      "source": [
        "# saving bes model to file\n",
        "state_dict = best_model.state_dict()\n",
        "torch.save(state_dict, \"best_neural_net.tar\")"
      ],
      "metadata": {
        "id": "fLPBbG134ncv"
      },
      "execution_count": null,
      "outputs": []
    },
    {
      "cell_type": "code",
      "source": [
        "print(\"Accuracy on the validation set: \", best_model_acc)"
      ],
      "metadata": {
        "id": "_i4Ta2PD439d"
      },
      "execution_count": null,
      "outputs": []
    },
    {
      "cell_type": "markdown",
      "source": [
        "# Predictions on test set"
      ],
      "metadata": {
        "id": "ajFynd6s9Ldm"
      }
    },
    {
      "cell_type": "code",
      "source": [
        "with open(TEST_PATH, 'rb') as f:\n",
        "    test_data = pickle.load(f)"
      ],
      "metadata": {
        "id": "wc1Q0Gne9KaU"
      },
      "execution_count": null,
      "outputs": []
    },
    {
      "cell_type": "code",
      "source": [
        "type(test_data)"
      ],
      "metadata": {
        "id": "T6RUWhCm9M8E"
      },
      "execution_count": null,
      "outputs": []
    },
    {
      "cell_type": "code",
      "source": [
        "train_loader"
      ],
      "metadata": {
        "id": "XCUegF_H9M-f"
      },
      "execution_count": null,
      "outputs": []
    },
    {
      "cell_type": "code",
      "source": [
        "test_data = [torch.from_numpy(t.astype(int)).float() for t in test_data]"
      ],
      "metadata": {
        "id": "5P2d0O2df28D"
      },
      "execution_count": null,
      "outputs": []
    },
    {
      "cell_type": "code",
      "source": [
        "test_dataset = VariableLenDataset(test_data, [0 for t in test_data])"
      ],
      "metadata": {
        "id": "FD-YF1cgYLBt"
      },
      "execution_count": null,
      "outputs": []
    },
    {
      "cell_type": "code",
      "source": [
        "test_loader = DataLoader(test_dataset, batch_size=50, shuffle=False, drop_last=False, collate_fn=pad_collate)"
      ],
      "metadata": {
        "id": "MOFb5U4TYLEM"
      },
      "execution_count": null,
      "outputs": []
    },
    {
      "cell_type": "code",
      "source": [
        "preds = []\n",
        "for x, label in test_loader:\n",
        "  print(x)\n",
        "  hidden, state = model.init_hidden(x.shape[0])\n",
        "  hidden, state = hidden.to(device), state.to(device)\n",
        "  x = x.to(device).unsqueeze(2)\n",
        "  x = torch.transpose(x, 0, 1)\n",
        "  new_preds = model(x, (hidden, state))\n",
        "  for new_pred in new_preds:\n",
        "    preds.append(new_pred.max(0, keepdim=True)[1].item())"
      ],
      "metadata": {
        "id": "LsEGLP2TYLHE"
      },
      "execution_count": null,
      "outputs": []
    },
    {
      "cell_type": "code",
      "source": [
        "# preds_filename = \"preds.csv\"\n",
        "\n",
        "from datetime import datetime\n",
        "\n",
        "\n",
        "current_datetime_formatted = f'{datetime.now()}'.replace('-', '_').replace(' ', '_').replace(':', '_')[:-4]\n",
        "preds_filename = f\"preds{current_datetime_formatted}.csv\"\n",
        "pd.DataFrame({'A': preds}).to_csv(preds_filename, index=False, header=False)"
      ],
      "metadata": {
        "id": "jHYTyOE8ehGP"
      },
      "execution_count": null,
      "outputs": []
    },
    {
      "cell_type": "code",
      "source": [
        "pd.read_csv(preds_filename, header=None)\n"
      ],
      "metadata": {
        "id": "PCdB4mfVehJB"
      },
      "execution_count": null,
      "outputs": []
    },
    {
      "cell_type": "code",
      "source": [],
      "metadata": {
        "id": "jhRheNLg19CZ"
      },
      "execution_count": null,
      "outputs": []
    }
  ]
}