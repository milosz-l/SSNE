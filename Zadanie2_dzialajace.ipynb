{
 "cells": [
  {
   "cell_type": "markdown",
   "metadata": {
    "colab_type": "text",
    "id": "view-in-github"
   },
   "source": [
    "<a href=\"https://colab.research.google.com/github/Mainakdeb/Wine_Quality_Prediction/blob/master/Wine_Connoisseur.ipynb\" target=\"_parent\"><img src=\"https://colab.research.google.com/assets/colab-badge.svg\" alt=\"Open In Colab\"/></a>"
   ]
  },
  {
   "cell_type": "code",
   "execution_count": 1,
   "metadata": {
    "colab": {},
    "colab_type": "code",
    "id": "sX-tdVX9D9t3"
   },
   "outputs": [],
   "source": [
    "import pandas as pd\n",
    "import matplotlib.pyplot as plt\n",
    "import numpy as np\n",
    "import seaborn as sn\n",
    "from sklearn.preprocessing import MinMaxScaler\n",
    "import torch\n",
    "from torch import nn, optim\n",
    "import torch.nn.functional as F\n",
    "import tqdm\n",
    "from tqdm import tnrange"
   ]
  },
  {
   "cell_type": "markdown",
   "metadata": {
    "colab_type": "text",
    "id": "piTKw4F7tYra"
   },
   "source": [
    "### The Data :"
   ]
  },
  {
   "cell_type": "code",
   "execution_count": 2,
   "metadata": {
    "colab": {
     "base_uri": "https://localhost:8080/",
     "height": 211
    },
    "colab_type": "code",
    "id": "iIq7JlmpDmYb",
    "outputId": "6caf5c72-e226-448f-fa24-db89f72c996c"
   },
   "outputs": [
    {
     "data": {
      "text/html": [
       "<div>\n",
       "<style scoped>\n",
       "    .dataframe tbody tr th:only-of-type {\n",
       "        vertical-align: middle;\n",
       "    }\n",
       "\n",
       "    .dataframe tbody tr th {\n",
       "        vertical-align: top;\n",
       "    }\n",
       "\n",
       "    .dataframe thead th {\n",
       "        text-align: right;\n",
       "    }\n",
       "</style>\n",
       "<table border=\"1\" class=\"dataframe\">\n",
       "  <thead>\n",
       "    <tr style=\"text-align: right;\">\n",
       "      <th></th>\n",
       "      <th>fixed acidity</th>\n",
       "      <th>volatile acidity</th>\n",
       "      <th>citric acid</th>\n",
       "      <th>residual sugar</th>\n",
       "      <th>chlorides</th>\n",
       "      <th>free sulfur dioxide</th>\n",
       "      <th>total sulfur dioxide</th>\n",
       "      <th>density</th>\n",
       "      <th>pH</th>\n",
       "      <th>sulphates</th>\n",
       "      <th>alcohol</th>\n",
       "      <th>quality</th>\n",
       "    </tr>\n",
       "  </thead>\n",
       "  <tbody>\n",
       "    <tr>\n",
       "      <th>0</th>\n",
       "      <td>7.0</td>\n",
       "      <td>0.27</td>\n",
       "      <td>0.36</td>\n",
       "      <td>20.7</td>\n",
       "      <td>0.045</td>\n",
       "      <td>45.0</td>\n",
       "      <td>170.0</td>\n",
       "      <td>1.0010</td>\n",
       "      <td>3.00</td>\n",
       "      <td>0.45</td>\n",
       "      <td>8.8</td>\n",
       "      <td>6</td>\n",
       "    </tr>\n",
       "    <tr>\n",
       "      <th>1</th>\n",
       "      <td>6.3</td>\n",
       "      <td>0.30</td>\n",
       "      <td>0.34</td>\n",
       "      <td>1.6</td>\n",
       "      <td>0.049</td>\n",
       "      <td>14.0</td>\n",
       "      <td>132.0</td>\n",
       "      <td>0.9940</td>\n",
       "      <td>3.30</td>\n",
       "      <td>0.49</td>\n",
       "      <td>9.5</td>\n",
       "      <td>6</td>\n",
       "    </tr>\n",
       "    <tr>\n",
       "      <th>2</th>\n",
       "      <td>8.1</td>\n",
       "      <td>0.28</td>\n",
       "      <td>0.40</td>\n",
       "      <td>6.9</td>\n",
       "      <td>0.050</td>\n",
       "      <td>30.0</td>\n",
       "      <td>97.0</td>\n",
       "      <td>0.9951</td>\n",
       "      <td>3.26</td>\n",
       "      <td>0.44</td>\n",
       "      <td>10.1</td>\n",
       "      <td>6</td>\n",
       "    </tr>\n",
       "    <tr>\n",
       "      <th>3</th>\n",
       "      <td>7.2</td>\n",
       "      <td>0.23</td>\n",
       "      <td>0.32</td>\n",
       "      <td>8.5</td>\n",
       "      <td>0.058</td>\n",
       "      <td>47.0</td>\n",
       "      <td>186.0</td>\n",
       "      <td>0.9956</td>\n",
       "      <td>3.19</td>\n",
       "      <td>0.40</td>\n",
       "      <td>9.9</td>\n",
       "      <td>6</td>\n",
       "    </tr>\n",
       "    <tr>\n",
       "      <th>4</th>\n",
       "      <td>7.2</td>\n",
       "      <td>0.23</td>\n",
       "      <td>0.32</td>\n",
       "      <td>8.5</td>\n",
       "      <td>0.058</td>\n",
       "      <td>47.0</td>\n",
       "      <td>186.0</td>\n",
       "      <td>0.9956</td>\n",
       "      <td>3.19</td>\n",
       "      <td>0.40</td>\n",
       "      <td>9.9</td>\n",
       "      <td>6</td>\n",
       "    </tr>\n",
       "  </tbody>\n",
       "</table>\n",
       "</div>"
      ],
      "text/plain": [
       "   fixed acidity  volatile acidity  citric acid  residual sugar  chlorides  \\\n",
       "0            7.0              0.27         0.36            20.7      0.045   \n",
       "1            6.3              0.30         0.34             1.6      0.049   \n",
       "2            8.1              0.28         0.40             6.9      0.050   \n",
       "3            7.2              0.23         0.32             8.5      0.058   \n",
       "4            7.2              0.23         0.32             8.5      0.058   \n",
       "\n",
       "   free sulfur dioxide  total sulfur dioxide  density    pH  sulphates  \\\n",
       "0                 45.0                 170.0   1.0010  3.00       0.45   \n",
       "1                 14.0                 132.0   0.9940  3.30       0.49   \n",
       "2                 30.0                  97.0   0.9951  3.26       0.44   \n",
       "3                 47.0                 186.0   0.9956  3.19       0.40   \n",
       "4                 47.0                 186.0   0.9956  3.19       0.40   \n",
       "\n",
       "   alcohol  quality  \n",
       "0      8.8        6  \n",
       "1      9.5        6  \n",
       "2     10.1        6  \n",
       "3      9.9        6  \n",
       "4      9.9        6  "
      ]
     },
     "execution_count": 2,
     "metadata": {},
     "output_type": "execute_result"
    }
   ],
   "source": [
    "df = pd.read_csv('https://archive.ics.uci.edu/ml/machine-learning-databases/wine-quality/winequality-white.csv', delimiter=\";\")\n",
    "df.head()"
   ]
  },
  {
   "cell_type": "markdown",
   "metadata": {
    "colab_type": "text",
    "id": "J7DadPEKo6qg"
   },
   "source": [
    "### Convert all values into float:"
   ]
  },
  {
   "cell_type": "code",
   "execution_count": 3,
   "metadata": {
    "colab": {},
    "colab_type": "code",
    "id": "MlIuuGRTDmE4"
   },
   "outputs": [],
   "source": [
    "df3 = df.astype(float)"
   ]
  },
  {
   "cell_type": "markdown",
   "metadata": {
    "colab_type": "text",
    "id": "6UwfkR4_pXcV"
   },
   "source": [
    "### Scale all values :"
   ]
  },
  {
   "cell_type": "code",
   "execution_count": 4,
   "metadata": {
    "colab": {},
    "colab_type": "code",
    "id": "FJOYAEUTDmAb"
   },
   "outputs": [],
   "source": [
    "quality_backup = df3[\"quality\"]\n",
    "scaler = MinMaxScaler()\n",
    "df_scaled = pd.DataFrame(scaler.fit_transform(df3), columns = df3.columns)\n",
    "df_scaled['quality'] = quality_backup #restore quality values"
   ]
  },
  {
   "cell_type": "markdown",
   "metadata": {
    "colab_type": "text",
    "id": "LncrQoQJz68E"
   },
   "source": [
    "### Balance Data :"
   ]
  },
  {
   "cell_type": "code",
   "execution_count": 5,
   "metadata": {
    "colab": {
     "base_uri": "https://localhost:8080/",
     "height": 141
    },
    "colab_type": "code",
    "id": "HQ-ct2doz2v2",
    "outputId": "c0444ccf-9d7f-4dda-ed60-9a73cb70aacb"
   },
   "outputs": [
    {
     "data": {
      "text/plain": [
       "6.0    2198\n",
       "5.0    2198\n",
       "7.0    2198\n",
       "8.0    2198\n",
       "4.0    2198\n",
       "3.0    2198\n",
       "9.0    2198\n",
       "Name: quality, dtype: int64"
      ]
     },
     "execution_count": 5,
     "metadata": {},
     "output_type": "execute_result"
    }
   ],
   "source": [
    "max_size = df_scaled['quality'].value_counts().max()\n",
    "lst = [df_scaled]\n",
    "for class_index, group in df_scaled.groupby('quality'):\n",
    "    lst.append(group.sample(max_size-len(group), replace=True))\n",
    "frame_new = pd.concat(lst)\n",
    "df_scaled2=frame_new\n",
    "df_scaled2[\"quality\"].value_counts()"
   ]
  },
  {
   "cell_type": "markdown",
   "metadata": {
    "colab_type": "text",
    "id": "tDlYrJ0OpqRs"
   },
   "source": [
    "### Shuffle Data :"
   ]
  },
  {
   "cell_type": "code",
   "execution_count": 6,
   "metadata": {
    "colab": {},
    "colab_type": "code",
    "id": "1GeElgCspi1Z"
   },
   "outputs": [],
   "source": [
    "df_scaled3=df_scaled2.sample(frac=1)"
   ]
  },
  {
   "cell_type": "markdown",
   "metadata": {
    "colab_type": "text",
    "id": "CYSzFF6qpuak"
   },
   "source": [
    "### Split into train, test and val set :"
   ]
  },
  {
   "cell_type": "code",
   "execution_count": 7,
   "metadata": {
    "colab": {},
    "colab_type": "code",
    "id": "uCqHM5XxDl9l"
   },
   "outputs": [],
   "source": [
    "train = df_scaled3.iloc[:3686]\n",
    "val = df_scaled3.iloc[3686:3886]\n",
    "test = df_scaled3.iloc[3886:]"
   ]
  },
  {
   "cell_type": "markdown",
   "metadata": {
    "colab_type": "text",
    "id": "SRPWhLGhrYOt"
   },
   "source": [
    "### Split features and labels :"
   ]
  },
  {
   "cell_type": "code",
   "execution_count": 8,
   "metadata": {
    "colab": {
     "base_uri": "https://localhost:8080/",
     "height": 52
    },
    "colab_type": "code",
    "id": "CS5SFLwUDl5t",
    "outputId": "0b77d1da-aacb-47e3-d567-c944f138bdb2"
   },
   "outputs": [
    {
     "name": "stdout",
     "output_type": "stream",
     "text": [
      "(3686, 11)\n",
      "(200, 11)\n"
     ]
    }
   ],
   "source": [
    "X_train, y_train= train.drop('quality', axis=1), train['quality']\n",
    "print(X_train.shape)\n",
    "\n",
    "X_val, y_val = val.drop('quality', axis=1), val['quality']\n",
    "print(X_val.shape)\n",
    "\n",
    "X_test, y_test = test.drop(\"quality\", axis=1), test[\"quality\"]"
   ]
  },
  {
   "cell_type": "markdown",
   "metadata": {
    "colab_type": "text",
    "id": "xU3PZCxgsNmC"
   },
   "source": [
    "### Split into batches :"
   ]
  },
  {
   "cell_type": "code",
   "execution_count": 9,
   "metadata": {
    "colab": {
     "base_uri": "https://localhost:8080/",
     "height": 35
    },
    "colab_type": "code",
    "id": "AsLdat2eE2OO",
    "outputId": "7d958f9c-1709-4810-b1ff-f6ca9c53a247"
   },
   "outputs": [
    {
     "name": "stdout",
     "output_type": "stream",
     "text": [
      "Batch size: 246\n"
     ]
    }
   ],
   "source": [
    "f=15 # no. of batches\n",
    "\n",
    "train_batch = np.array_split(X_train, f) \n",
    "label_batch = np.array_split(y_train, f) # 50 sections/batches\n",
    "\n",
    "val_batch = np.array_split(X_val, f)\n",
    "val_label_batch = np.array_split(y_val, f)\n",
    "\n",
    "test_batch = np.array_split(X_test,f) \n",
    "test_label_batch  = np.array_split(y_test, f)\n",
    "\n",
    "\n",
    "for i in range(len(train_batch)):\n",
    "    train_batch[i] = torch.from_numpy(train_batch[i].values).float()\n",
    "for i in range(len(label_batch)):\n",
    "    label_batch[i] = torch.from_numpy(label_batch[i].values).float().view(-1, 1)\n",
    "    \n",
    "for i in range(len(val_batch)):\n",
    "    val_batch[i] = torch.from_numpy(val_batch[i].values).float()\n",
    "for i in range(len(val_label_batch)):\n",
    "    val_label_batch[i] = torch.from_numpy(val_label_batch[i].values).float().view(-1, 1)\n",
    "    \n",
    "    \n",
    "for i in range(len(test_batch)):\n",
    "    test_batch[i] = torch.from_numpy(test_batch[i].values).float()\n",
    "for i in range(len(test_label_batch)):\n",
    "    test_label_batch[i] = torch.from_numpy(test_label_batch[i].values).float().view(-1, 1)\n",
    "    \n",
    "print(\"Batch size:\", len(train_batch[0]))\n"
   ]
  },
  {
   "cell_type": "markdown",
   "metadata": {
    "colab_type": "text",
    "id": "UqMR4-U5sVcE"
   },
   "source": [
    "### The Model :"
   ]
  },
  {
   "cell_type": "code",
   "execution_count": 10,
   "metadata": {
    "colab": {},
    "colab_type": "code",
    "id": "Ml1BgIpxE2L9"
   },
   "outputs": [],
   "source": [
    "class Regressor(nn.Module):\n",
    "    def __init__(self):\n",
    "        super().__init__()\n",
    "        \n",
    "        self.fc1 = nn.Linear(11, 22)\n",
    "        self.fc2 = nn.Linear(22, 44)\n",
    "        self.fc3 = nn.Linear(44, 88)\n",
    "        self.fc4 = nn.Linear(88, 176)\n",
    "        self.fc5 = nn.Linear(176, 88)\n",
    "        self.fc6 = nn.Linear(88, 22)\n",
    "        self.fc7 = nn.Linear(22, 1)\n",
    "       \n",
    "    def forward(self, x):\n",
    "        \n",
    "        x = F.relu(self.fc1(x))\n",
    "        x = F.relu(self.fc2(x))\n",
    "        x = F.relu(self.fc3(x))\n",
    "        x = F.relu(self.fc4(x))\n",
    "        x = F.relu(self.fc5(x))\n",
    "        x = F.relu(self.fc6(x))\n",
    "        x = F.relu(self.fc7(x))\n",
    "\n",
    "        return x\n",
    "\n",
    "model = Regressor()\n",
    "train_losses, val_losses = [], []\n",
    "criterion = nn.MSELoss()\n",
    "optimizer = optim.Adam(model.parameters(), lr=0.01) # 0.015 87\n",
    "scheduler = torch.optim.lr_scheduler.ReduceLROnPlateau(optimizer, 'min',factor=0.1, patience=15) \n",
    "total_epochs=0"
   ]
  },
  {
   "cell_type": "markdown",
   "metadata": {
    "colab_type": "text",
    "id": "Ov0p9t03saO6"
   },
   "source": [
    "### The training loop :"
   ]
  },
  {
   "cell_type": "code",
   "execution_count": 11,
   "metadata": {
    "colab": {},
    "colab_type": "code",
    "id": "HvTIRas7E2Ku"
   },
   "outputs": [
    {
     "name": "stderr",
     "output_type": "stream",
     "text": [
      "C:\\Users\\user\\AppData\\Local\\Temp\\ipykernel_14572\\3936817407.py:5: TqdmDeprecationWarning: Please use `tqdm.notebook.trange` instead of `tqdm.tnrange`\n",
      "  for e in tnrange(epochs):\n"
     ]
    },
    {
     "data": {
      "application/vnd.jupyter.widget-view+json": {
       "model_id": "884d6fc8c6e04a20932ae0dabdb7c411",
       "version_major": 2,
       "version_minor": 0
      },
      "text/plain": [
       "  0%|          | 0/100 [00:00<?, ?it/s]"
      ]
     },
     "metadata": {},
     "output_type": "display_data"
    },
    {
     "name": "stdout",
     "output_type": "stream",
     "text": [
      "Epoch : 0 train_loss : 15.942656230926513 Val loss:  13.149350804222955\n",
      "Epoch : 1 train_loss : 3.9693493366241457 Val loss:  4.348674485948351\n",
      "Epoch : 2 train_loss : 3.1072428544362385 Val loss:  3.527471046977573\n",
      "Epoch : 3 train_loss : 2.681070836385091 Val loss:  3.1252416303422716\n",
      "Epoch : 4 train_loss : 2.5484922409057615 Val loss:  3.0170690949757892\n",
      "Epoch : 5 train_loss : 2.4487693548202514 Val loss:  2.8986706235673694\n",
      "Epoch : 6 train_loss : 2.368021519978841 Val loss:  2.774513603846232\n",
      "Epoch : 7 train_loss : 2.294491243362427 Val loss:  2.6367565774917603\n",
      "Epoch : 8 train_loss : 2.2245659510294598 Val loss:  2.5302334859636093\n",
      "Epoch : 9 train_loss : 2.1780914386113484 Val loss:  2.4375566106372406\n",
      "Epoch : 10 train_loss : 2.1690611600875855 Val loss:  2.4105930127037896\n",
      "Epoch : 11 train_loss : 2.076566449801127 Val loss:  2.3228496215078565\n",
      "Epoch : 12 train_loss : 2.0086848020553587 Val loss:  2.2674899201922947\n",
      "Epoch : 13 train_loss : 1.9269458134969075 Val loss:  2.205086890061696\n",
      "Epoch : 14 train_loss : 1.8573537667592366 Val loss:  2.144627249770694\n",
      "Epoch : 15 train_loss : 1.7643298943837484 Val loss:  2.0279944064882067\n",
      "Epoch : 16 train_loss : 1.650491428375244 Val loss:  1.9184033121003046\n",
      "Epoch : 17 train_loss : 1.6086367209752401 Val loss:  1.9071210073100198\n",
      "Epoch : 18 train_loss : 1.5666453997294107 Val loss:  1.853160452577803\n",
      "Epoch : 19 train_loss : 1.4881783405939737 Val loss:  1.7766726687219407\n",
      "Epoch : 20 train_loss : 1.40942169825236 Val loss:  1.7146993109914992\n",
      "Epoch : 21 train_loss : 1.3826200087865195 Val loss:  1.6938742354181078\n",
      "Epoch : 22 train_loss : 1.3398902813593547 Val loss:  1.6258280173937478\n",
      "Epoch : 23 train_loss : 1.2661337534586588 Val loss:  1.5335236610306635\n",
      "Epoch : 24 train_loss : 1.2364826520284018 Val loss:  1.4912227657106187\n",
      "Epoch : 25 train_loss : 1.2066956281661987 Val loss:  1.5026745128631591\n",
      "Epoch : 26 train_loss : 1.1528504053751627 Val loss:  1.4434041651089986\n",
      "Epoch : 27 train_loss : 1.048994775613149 Val loss:  1.368621437549591\n",
      "Epoch : 28 train_loss : 1.0225269436836242 Val loss:  1.319229259888331\n",
      "Epoch : 29 train_loss : 0.9824804623921712 Val loss:  1.2718548308478461\n",
      "Epoch : 30 train_loss : 0.981321660677592 Val loss:  1.2531245326995848\n",
      "Epoch : 31 train_loss : 0.9237290620803833 Val loss:  1.1825196014510262\n",
      "Epoch : 32 train_loss : 0.9011186917622884 Val loss:  1.1336336832576328\n",
      "Epoch : 33 train_loss : 0.8986062566439311 Val loss:  1.1544757131735486\n",
      "Epoch : 34 train_loss : 0.9359970092773438 Val loss:  1.2050216746330262\n",
      "Epoch : 35 train_loss : 0.8894914309183757 Val loss:  1.1550488323635524\n",
      "Epoch : 36 train_loss : 0.9083626747131348 Val loss:  1.1549249613285066\n",
      "Epoch : 37 train_loss : 0.9037002921104431 Val loss:  1.1560211520724828\n",
      "Epoch : 38 train_loss : 0.8784442663192749 Val loss:  1.1054319647947948\n",
      "Epoch : 39 train_loss : 0.8115830858548482 Val loss:  1.0629903455575307\n",
      "Epoch : 40 train_loss : 0.7867279926935832 Val loss:  1.0064376758204565\n",
      "Epoch : 41 train_loss : 0.787626039981842 Val loss:  1.0067391806178623\n",
      "Epoch : 42 train_loss : 0.802228569984436 Val loss:  1.0318197515275742\n",
      "Epoch : 43 train_loss : 0.8253378788630168 Val loss:  1.0440074757734934\n",
      "Epoch : 44 train_loss : 0.835487429300944 Val loss:  1.0665841232405768\n",
      "Epoch : 45 train_loss : 0.8113763610521952 Val loss:  1.034219383398692\n",
      "Epoch : 46 train_loss : 0.7862327297528585 Val loss:  0.978958399494489\n",
      "Epoch : 47 train_loss : 0.7873746514320373 Val loss:  0.9870367219713\n",
      "Epoch : 48 train_loss : 0.7914309938748677 Val loss:  0.9997529264953401\n",
      "Epoch : 49 train_loss : 0.7854207396507263 Val loss:  0.9852479223410289\n",
      "Epoch : 50 train_loss : 0.7436885237693787 Val loss:  0.907256147729026\n",
      "Epoch : 51 train_loss : 0.7266658624013265 Val loss:  0.9133492667145199\n",
      "Epoch : 52 train_loss : 0.7293094436327616 Val loss:  0.9293814806805717\n",
      "Epoch : 53 train_loss : 0.7039090553919475 Val loss:  0.9109758235348596\n",
      "Epoch : 54 train_loss : 0.6598084449768067 Val loss:  0.869911076426506\n",
      "Epoch : 55 train_loss : 0.6455169876416524 Val loss:  0.8329266773992114\n",
      "Epoch : 56 train_loss : 0.6589953899383545 Val loss:  0.8679165189796023\n",
      "Epoch : 57 train_loss : 0.6693776726722718 Val loss:  0.8690209893385569\n",
      "Epoch : 58 train_loss : 0.6701177438100179 Val loss:  0.8677515778938929\n",
      "Epoch : 59 train_loss : 0.6482187867164612 Val loss:  0.8502882001135085\n",
      "Epoch : 60 train_loss : 0.6489273548126221 Val loss:  0.8445287058750789\n",
      "Epoch : 61 train_loss : 0.6321655750274658 Val loss:  0.8291318109300402\n",
      "Epoch : 62 train_loss : 0.6228757898012797 Val loss:  0.8096728023555543\n",
      "Epoch : 63 train_loss : 0.5991802175839742 Val loss:  0.7877823886606429\n",
      "Epoch : 64 train_loss : 0.6192840139071146 Val loss:  0.8052968533833822\n",
      "Epoch : 65 train_loss : 0.6066934506098429 Val loss:  0.7970747097995546\n",
      "Epoch : 66 train_loss : 0.5909380316734314 Val loss:  0.7722238320112228\n",
      "Epoch : 67 train_loss : 0.6068703134854635 Val loss:  0.782160084048907\n",
      "Epoch : 68 train_loss : 0.6038148721059163 Val loss:  0.7868179696136051\n",
      "Epoch : 69 train_loss : 0.600600932041804 Val loss:  0.7988965396086375\n",
      "Epoch : 70 train_loss : 0.6164026002089182 Val loss:  0.8154553865724139\n",
      "Epoch : 71 train_loss : 0.6012942334016164 Val loss:  0.7897353543837865\n",
      "Epoch : 72 train_loss : 0.6077092925707499 Val loss:  0.7892723909351561\n",
      "Epoch : 73 train_loss : 0.6153592705726624 Val loss:  0.7937609743740823\n",
      "Epoch : 74 train_loss : 0.6267965396245321 Val loss:  0.8089961964554256\n",
      "Epoch : 75 train_loss : 0.6327137509981792 Val loss:  0.7928012050853835\n",
      "Epoch : 76 train_loss : 0.5962532063325247 Val loss:  0.7876028987434175\n",
      "Epoch : 77 train_loss : 0.5945858856042227 Val loss:  0.778506697151396\n",
      "Epoch : 78 train_loss : 0.6105930149555207 Val loss:  0.7998591571384005\n",
      "Epoch : 79 train_loss : 0.6117667893568675 Val loss:  0.7931629115343094\n",
      "Epoch : 80 train_loss : 0.5710665424664815 Val loss:  0.7533059950669607\n",
      "Epoch : 81 train_loss : 0.5948872288068136 Val loss:  0.7774687393506368\n",
      "Epoch : 82 train_loss : 0.6117054124673208 Val loss:  0.7934603044721815\n",
      "Epoch : 83 train_loss : 0.5897051791350046 Val loss:  0.7628827993075052\n",
      "Epoch : 84 train_loss : 0.5540936609109243 Val loss:  0.7289931283394496\n",
      "Epoch : 85 train_loss : 0.5248008529345195 Val loss:  0.6885241091913648\n",
      "Epoch : 86 train_loss : 0.5133933266003926 Val loss:  0.6752655963765251\n",
      "Epoch : 87 train_loss : 0.5070641815662384 Val loss:  0.6755335307121277\n",
      "Epoch : 88 train_loss : 0.513691637913386 Val loss:  0.6946428098943499\n",
      "Epoch : 89 train_loss : 0.5291943808396657 Val loss:  0.7169949671294955\n",
      "Epoch : 90 train_loss : 0.524122804403305 Val loss:  0.7159802709685432\n",
      "Epoch : 91 train_loss : 0.5362810333569844 Val loss:  0.7225032711691327\n",
      "Epoch : 92 train_loss : 0.5633016745249431 Val loss:  0.7498154389195972\n",
      "Epoch : 93 train_loss : 0.583326115210851 Val loss:  0.7619957960976494\n",
      "Epoch : 94 train_loss : 0.5355083227157593 Val loss:  0.7132200139098698\n",
      "Epoch : 95 train_loss : 0.49923633337020873 Val loss:  0.6826925685008367\n",
      "Epoch : 96 train_loss : 0.4947579781214396 Val loss:  0.6696230090326732\n",
      "Epoch : 97 train_loss : 0.4878692110379537 Val loss:  0.6648303841220008\n",
      "Epoch : 98 train_loss : 0.4819797515869141 Val loss:  0.6665961486763424\n",
      "Epoch : 99 train_loss : 0.4851385811964671 Val loss:  0.6680477595329285\n"
     ]
    }
   ],
   "source": [
    "#print(model)\n",
    "epochs = 100\n",
    "total_epochs+=epochs\n",
    "\n",
    "for e in tnrange(epochs):\n",
    "    \n",
    "    model.train()\n",
    "    train_loss = 0\n",
    "    val_loss_1=0\n",
    "    val_loss_sum = 0\n",
    "    \n",
    "    for i in range(len(train_batch)):\n",
    "        \n",
    "        optimizer.zero_grad()\n",
    "        output = model(train_batch[i])\n",
    "        loss = criterion(output, label_batch[i])\n",
    "        loss.backward()\n",
    "        optimizer.step()\n",
    "        train_loss += loss.item()\n",
    "    \n",
    "        with torch.no_grad():\n",
    "            \n",
    "            for j in range(len(val_batch)):\n",
    "                \n",
    "                val_output = model(val_batch[j])\n",
    "                val_loss =  criterion(val_output, val_label_batch[j])\n",
    "                val_loss_1+=val_loss.item()\n",
    "        val_loss_sum=val_loss_1/len(val_batch)\n",
    "        \n",
    "        \n",
    "    print(\"Epoch :\", e, \"train_loss :\", train_loss/len(train_batch), \"Val loss: \", val_loss_sum/len(val_batch))    \n",
    "    val_losses.append(val_loss_sum/len(val_batch))    \n",
    "    train_losses.append(train_loss/len(train_batch))   "
   ]
  },
  {
   "cell_type": "markdown",
   "metadata": {
    "colab_type": "text",
    "id": "BGxKLiV0suA8"
   },
   "source": [
    "### Training Metrics :"
   ]
  },
  {
   "cell_type": "code",
   "execution_count": 12,
   "metadata": {
    "colab": {
     "base_uri": "https://localhost:8080/",
     "height": 298
    },
    "colab_type": "code",
    "id": "g3uZMDqrE2Iu",
    "outputId": "b4191f91-8f2e-4ff4-d86b-b1b2b58dc15b"
   },
   "outputs": [
    {
     "data": {
      "text/plain": [
       "<matplotlib.legend.Legend at 0x2a82c374eb0>"
      ]
     },
     "execution_count": 12,
     "metadata": {},
     "output_type": "execute_result"
    },
    {
     "data": {
      "image/png": "[encoded data removed]",
      "text/plain": [
       "<Figure size 432x288 with 1 Axes>"
      ]
     },
     "metadata": {
      "needs_background": "light"
     },
     "output_type": "display_data"
    }
   ],
   "source": [
    "frm=10 # does not \n",
    "plt.plot(train_losses[frm:], label='Training loss')\n",
    "plt.plot(val_losses[frm:], label='Validation loss')\n",
    "plt.xlabel(\"Epochs\")\n",
    "plt.ylabel(\"Loss\")\n",
    "plt.grid()\n",
    "plt.legend()"
   ]
  },
  {
   "cell_type": "markdown",
   "metadata": {
    "colab_type": "text",
    "id": "cdxctDz8tECj"
   },
   "source": [
    "### How does the model perform on the test-set?"
   ]
  },
  {
   "cell_type": "code",
   "execution_count": 13,
   "metadata": {
    "colab": {
     "base_uri": "https://localhost:8080/",
     "height": 35
    },
    "colab_type": "code",
    "id": "CRm4OS3IRq22",
    "outputId": "0a7b802e-e68a-4af0-dd6b-25a64bef8bfb"
   },
   "outputs": [
    {
     "name": "stdout",
     "output_type": "stream",
     "text": [
      "Accuracy: 52.93043478260869 %\n"
     ]
    }
   ],
   "source": [
    "correct=0\n",
    "i=0\n",
    "res=[]\n",
    "with torch.no_grad():\n",
    "    for batch in test_batch :\n",
    "        for j in range(len(batch)):\n",
    "            x = model(batch[j])\n",
    "            #print(round(x.item()))\n",
    "            res.append(round(x.item()))\n",
    "\n",
    "true_labels= list(test[\"quality\"])\n",
    "\n",
    "for i in range(len(res)):\n",
    "    if res[i]==int(true_labels[i]):\n",
    "        correct+=1\n",
    "        \n",
    "print(\"Accuracy:\", 100*(correct/len(res)), \"%\")"
   ]
  },
  {
   "cell_type": "code",
   "execution_count": null,
   "metadata": {},
   "outputs": [],
   "source": []
  }
 ],
 "metadata": {
  "accelerator": "GPU",
  "colab": {
   "collapsed_sections": [],
   "include_colab_link": true,
   "name": "Wine_Connoisseur.ipynb",
   "provenance": []
  },
  "kernelspec": {
   "display_name": "Python 3 (ipykernel)",
   "language": "python",
   "name": "python3"
  },
  "language_info": {
   "codemirror_mode": {
    "name": "ipython",
    "version": 3
   },
   "file_extension": ".py",
   "mimetype": "text/x-python",
   "name": "python",
   "nbconvert_exporter": "python",
   "pygments_lexer": "ipython3",
   "version": "3.8.0"
  }
 },
 "nbformat": 4,
 "nbformat_minor": 4
}
